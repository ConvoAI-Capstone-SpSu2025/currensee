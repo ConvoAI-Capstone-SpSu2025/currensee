{
 "cells": [
  {
   "cell_type": "markdown",
   "metadata": {},
   "source": [
    "# Testing the CurrenSee Secrets Management\n",
    "\n",
    "This notebook tests the new secrets management system that integrates with Google Secret Manager.\n",
    "\n",
    "The system allows secrets to be retrieved from:\n",
    "1. Google Secret Manager (for production)\n",
    "2. Environment variables (as fallback for local development)"
   ]
  },
  {
   "cell_type": "code",
   "execution_count": 1,
   "metadata": {},
   "outputs": [
    {
     "name": "stdout",
     "output_type": "stream",
     "text": [
      "Project root: /home/apavlovic/capstone/currensee\n",
      "Python path: ['/opt/conda/envs/ap_currensee_v2/lib/python311.zip', '/opt/conda/envs/ap_currensee_v2/lib/python3.11', '/opt/conda/envs/ap_currensee_v2/lib/python3.11/lib-dynload', '', '/home/apavlovic/.local/lib/python3.11/site-packages', '/opt/conda/envs/ap_currensee_v2/lib/python3.11/site-packages', '/home/jupyter/ap_currensee/currensee', '/home/apavlovic/capstone/currensee']\n"
     ]
    }
   ],
   "source": [
    "# Add the project root to the Python path\n",
    "import sys\n",
    "import os\n",
    "from pathlib import Path\n",
    "\n",
    "# Add project root to path to allow importing currensee modules\n",
    "project_root = Path().absolute().parent\n",
    "sys.path.append(str(project_root))\n",
    "\n",
    "# Verify the path\n",
    "print(f\"Project root: {project_root}\")\n",
    "print(f\"Python path: {sys.path}\")"
   ]
  },
  {
   "cell_type": "markdown",
   "metadata": {},
   "source": [
    "## 1. Directly Testing the SecretManager Module\n",
    "\n",
    "First, let's test the raw `secrets.py` module directly."
   ]
  },
  {
   "cell_type": "code",
   "execution_count": 2,
   "metadata": {},
   "outputs": [
    {
     "name": "stdout",
     "output_type": "stream",
     "text": [
      "Secret Manager initialized with project_id: adsp-34002-on02-sopho-scribe\n"
     ]
    }
   ],
   "source": [
    "# Import the secrets module\n",
    "from currensee.core.secrets import get_secret, get_secret_str, secret_manager\n",
    "\n",
    "# Check if we can initialize\n",
    "print(f\"Secret Manager initialized with project_id: {secret_manager._project_id}\")"
   ]
  },
  {
   "cell_type": "code",
   "execution_count": 3,
   "metadata": {},
   "outputs": [
    {
     "name": "stdout",
     "output_type": "stream",
     "text": [
      "Successfully retrieved SERPER_API_KEY: d39da...\n",
      "Successfully retrieved SERPER_API_KEY as SecretStr: d39da...\n"
     ]
    }
   ],
   "source": [
    "# Test retrieving a secret from Google Secret Manager\n",
    "serper_key = get_secret(\"SERPER_API_KEY\")\n",
    "\n",
    "if serper_key:\n",
    "    print(f\"Successfully retrieved SERPER_API_KEY: {serper_key[:5]}...\")\n",
    "else:\n",
    "    print(\"Failed to retrieve SERPER_API_KEY\")\n",
    "\n",
    "# Test retrieving as SecretStr\n",
    "serper_secret = get_secret_str(\"SERPER_API_KEY\")\n",
    "if serper_secret:\n",
    "    print(f\"Successfully retrieved SERPER_API_KEY as SecretStr: {serper_secret.get_secret_value()[:5]}...\")\n",
    "else:\n",
    "    print(\"Failed to retrieve SERPER_API_KEY as SecretStr\")"
   ]
  },
  {
   "cell_type": "markdown",
   "metadata": {},
   "source": [
    "## 2. Testing Integration with Settings\n",
    "\n",
    "Next, let's check that our settings module correctly integrates with the secrets manager.\n",
    "\n",
    "Note: This requires updating the settings.py file as described in the documentation."
   ]
  },
  {
   "cell_type": "code",
   "execution_count": 4,
   "metadata": {},
   "outputs": [
    {
     "name": "stdout",
     "output_type": "stream",
     "text": [
      "SERPER_API_KEY not configured in settings\n"
     ]
    }
   ],
   "source": [
    "# Import settings\n",
    "from currensee.core.settings import settings\n",
    "\n",
    "# Check if SERPER_API_KEY is loaded in settings\n",
    "if hasattr(settings, 'SERPER_API_KEY') and settings.SERPER_API_KEY:\n",
    "    print(f\"SERPER_API_KEY loaded in settings: {settings.SERPER_API_KEY.get_secret_value()[:5]}...\")\n",
    "else:\n",
    "    print(\"SERPER_API_KEY not configured in settings\")"
   ]
  },
  {
   "cell_type": "markdown",
   "metadata": {},
   "source": [
    "## 3. Testing with Non-Existent Secret\n",
    "\n",
    "The system should gracefully handle requests for non-existent secrets."
   ]
  },
  {
   "cell_type": "code",
   "execution_count": 5,
   "metadata": {},
   "outputs": [
    {
     "name": "stdout",
     "output_type": "stream",
     "text": [
      "Error accessing secret NON_EXISTENT_SECRET_KEY: 404 Secret [projects/575362890195/secrets/NON_EXISTENT_SECRET_KEY] not found or has no versions.\n",
      "Result for non-existent secret: None\n"
     ]
    }
   ],
   "source": [
    "# Try to get a non-existent secret\n",
    "non_existent = get_secret(\"NON_EXISTENT_SECRET_KEY\")\n",
    "print(f\"Result for non-existent secret: {non_existent}\")\n",
    "\n",
    "# This should return None without raising an exception"
   ]
  }
 ],
 "metadata": {
  "kernelspec": {
   "display_name": "ap_currensee_v2",
   "language": "python",
   "name": "python3"
  },
  "language_info": {
   "codemirror_mode": {
    "name": "ipython",
    "version": 3
   },
   "file_extension": ".py",
   "mimetype": "text/x-python",
   "name": "python",
   "nbconvert_exporter": "python",
   "pygments_lexer": "ipython3",
   "version": "3.11.1"
  }
 },
 "nbformat": 4,
 "nbformat_minor": 4
}
