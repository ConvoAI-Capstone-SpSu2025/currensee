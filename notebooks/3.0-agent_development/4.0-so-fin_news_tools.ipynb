{
 "cells": [
  {
   "cell_type": "markdown",
   "id": "8f440a01",
   "metadata": {},
   "source": [
    "# MARKET DATA AGENT\n",
    "\n",
    "The purpose of this notebook is to test a tool in isolation from the entire graph to confirm proper implementation.\n",
    "\n",
    "**NOTE**: You must have your `GOOGLE_API_KEY` defined in your .env file. You can get this API key here: https://aistudio.google.com/app/apikey"
   ]
  },
  {
   "cell_type": "code",
   "execution_count": 1,
   "id": "bb2d12ca-0b10-4523-9e41-f38ab24ac7c2",
   "metadata": {
    "tags": []
   },
   "outputs": [
    {
     "data": {
      "text/plain": [
       "True"
      ]
     },
     "execution_count": 1,
     "metadata": {},
     "output_type": "execute_result"
    }
   ],
   "source": [
    "from langgraph.checkpoint.memory import MemorySaver\n",
    "from langchain_core.messages import HumanMessage, AIMessage\n",
    "from langgraph.graph import StateGraph, START, END\n",
    "from langgraph.prebuilt import create_react_agent\n",
    "from langchain_core.runnables import RunnableLambda\n",
    "from langchain.tools import tool\n",
    "from langchain_community.utilities import GoogleSerperAPIWrapper\n",
    "import os\n",
    "import pprint\n",
    "from currensee.core import get_model, settings\n",
    "from dotenv import load_dotenv\n",
    "import pandas_datareader.data as web\n",
    "from datetime import datetime, timedelta\n",
    "import yfinance as yf\n",
    "import seaborn as sns\n",
    "import pandas as pd\n",
    "import matplotlib.pyplot as plt\n",
    "\n",
    "\n",
    "# Load environment variables\n",
    "load_dotenv()\n",
    "\n",
    "# Set environment variable for SERPER API key\n",
    "#os.environ[\"SERPER_API_KEY\"] = \"4369e38ae59aff075549b44c923813da127c06ef\"\n",
    "\n",
    "\n",
    "#%pip install --upgrade --quiet  langchain-community\n",
    "#%pip install pandas_datareader\n"
   ]
  },
  {
   "cell_type": "code",
   "execution_count": 2,
   "id": "e6dc6618",
   "metadata": {
    "tags": []
   },
   "outputs": [
    {
     "data": {
      "text/plain": [
       "True"
      ]
     },
     "execution_count": 2,
     "metadata": {},
     "output_type": "execute_result"
    }
   ],
   "source": [
    "from dotenv import load_dotenv\n",
    "\n",
    "load_dotenv()"
   ]
  },
  {
   "cell_type": "markdown",
   "id": "6657b1d4",
   "metadata": {},
   "source": [
    "## Agent\n",
    "\n",
    "An agent requires:\n",
    "* the model\n",
    "* tools\n",
    "* a name\n",
    "* a prompt describing the purpose of the tool\n"
   ]
  },
  {
   "cell_type": "code",
   "execution_count": 3,
   "id": "785b6500",
   "metadata": {
    "tags": []
   },
   "outputs": [],
   "source": [
    "# Initialize the model\n",
    "model = get_model(settings.DEFAULT_MODEL)\n",
    "\n",
    "# Initialize Google Serper API Wrapper for data retrieval\n",
    "serper_api = GoogleSerperAPIWrapper()\n"
   ]
  },
  {
   "cell_type": "code",
   "execution_count": 4,
   "id": "bb8d188e-c37c-49a0-8b6f-b5b4af9042ef",
   "metadata": {
    "tags": []
   },
   "outputs": [],
   "source": [
    "# Function to summarize the outputs from any number of tools\n",
    "def summarize_outputs(tool_outputs: list) -> str:\n",
    "    \"\"\"\n",
    "    Summarizes the outputs from all provided tools into one coherent summary.\n",
    "    \n",
    "    Parameters:\n",
    "    - tool_outputs: A list of strings (outputs from different tools)\n",
    "    \n",
    "    Returns:\n",
    "    - A summarized string with key points from all the tool outputs.\n",
    "    \"\"\"\n",
    "    # Combine all outputs into a formatted prompt\n",
    "    combined_prompt = \"\\n\\n\".join(\n",
    "        [f\"Tool {i+1} Output:\\n{output}\" for i, output in enumerate(tool_outputs)]\n",
    "    )\n",
    "    combined_prompt += \"\\n\\nPlease summarize the key points from all the outputs into one concise, long summary. Include specific numbers where applicable.\"\n",
    "    \n",
    "    # Create the messages to pass to the model\n",
    "    messages = [\n",
    "        HumanMessage(content=combined_prompt)\n",
    "    ]\n",
    "    \n",
    "    # Use the 'invoke' method for summarization\n",
    "    summary = model.invoke(messages)\n",
    "    \n",
    "    # Access the message content correctly\n",
    "    return summary.content  # Return the content of the AIMessage\n",
    "\n",
    "# Function for a generic tool to retrieve information\n",
    "def query_tool(query: str, tool_func) -> str:\n",
    "    \"\"\"Generic function to query a tool and retrieve the output.\"\"\"\n",
    "    return tool_func(query)\n",
    "\n",
    "# Initialize MemorySaver to keep track of the state if needed\n",
    "memory_saver = MemorySaver()\n",
    "\n",
    "# Define a React agent to invoke any number of tools and summarize the results\n",
    "def agent_function(queries: list, tool_functions: list) -> str:\n",
    "    \"\"\"\n",
    "    This function accepts any number of queries and corresponding tool functions,\n",
    "    retrieves results, and returns a summarized output.\n",
    "    \n",
    "    Parameters:\n",
    "    - queries: List of queries to be passed to tools\n",
    "    - tool_functions: List of tool functions to process the queries\n",
    "    \n",
    "    Returns:\n",
    "    - A summarized string of all tool outputs\n",
    "    \"\"\"\n",
    "    # Collect outputs from all tools\n",
    "    tool_outputs = []\n",
    "    for query, tool_func in zip(queries, tool_functions):\n",
    "        #output = query_tool(query, tool_func)\n",
    "        output = tool_func.invoke(query)\n",
    "        tool_outputs.append(output)\n",
    "    \n",
    "    # Summarize the outputs from all tools\n",
    "    final_summary = summarize_outputs(tool_outputs)\n",
    "    return final_summary\n",
    "\n",
    "\n"
   ]
  },
  {
   "cell_type": "markdown",
   "id": "1b52fe3d-cc53-4151-a3e4-e683a93e0897",
   "metadata": {},
   "source": [
    "### FINANCIAL TOOLS"
   ]
  },
  {
   "cell_type": "code",
   "execution_count": 5,
   "id": "e1ed7b55-61ce-4574-8019-1715658f7bfb",
   "metadata": {
    "tags": []
   },
   "outputs": [],
   "source": [
    "#initial synthesized prompt?\n",
    "\n",
    "# Parameters\n",
    "client_name = \"Walmart\"\n",
    "start_date = \"1/31/2025\"\n",
    "end_date = \"4/30/2025\"\n",
    "industry = \"retail\"\n",
    "largest_holdings = [\"Microsoft\",\"Netflix\",\"Netflix\",\"tech sector\"]\n",
    "#Future: portfolio tickers(for data and news)\n"
   ]
  },
  {
   "cell_type": "code",
   "execution_count": 6,
   "id": "7c22be4c-9bc7-4e6e-95aa-04c6301aefa5",
   "metadata": {
    "tags": []
   },
   "outputs": [],
   "source": [
    "#definitions\n",
    "\n",
    "keywords_client = [\"announces\", \"acquires\", \"launches\", \"earnings\", \"report\", \n",
    "               \"profit\", \"CEO\", \"crisis\", \"disaster\",\"recession\",\"recovery\", \"red flag\", \n",
    "               \"urgent\",\"challenge\",\"emergency\", \"tumble\",\"drop\",\"opportunity\",\"slowdown\"]\n",
    "\n",
    "keywords_econ = [\"recovery\",\"crisis\", \"disaster\",\"recession\",\"red flag\", \n",
    "               \"urgent\",\"challenge\",\"emergency\", \"tumble\",\"drop\",\"slowdown\"]\n",
    "\n",
    "trusted_sources = [\"reuters.com\", \"bloomberg.com\", \"cnn.com\", \"forbes.com\", \n",
    "                \"finance.yahoo.com\",\"marketwatch.com\",\"morningstar.com\", \"https://www.wsj.com\",\"www.ft.com\"]\n",
    "\n",
    "# Define trusted sources\n",
    "allowed_sites = trusted_sources\n",
    "site_filter = \" OR \".join(f\"site:{site}\" for site in allowed_sites)"
   ]
  },
  {
   "cell_type": "markdown",
   "id": "227e180e-07c2-4f3e-939d-eee16608d420",
   "metadata": {},
   "source": [
    "**TOOL: CLIENT AND INDUSTRY - Search for top k news articles about the client and its industry (title, snippet, date, source)**"
   ]
  },
  {
   "cell_type": "code",
   "execution_count": 7,
   "id": "23d8a028-3672-4f38-9297-2e43cacaa5f4",
   "metadata": {
    "tags": []
   },
   "outputs": [],
   "source": [
    "# Function to retrieve news about client and its industry (Client and Industry)\n",
    "@tool\n",
    "def client_and_industry(query_ci: str) -> str:\n",
    "    \"\"\"Return the most relevant news about the client and its industry.\"\"\"\n",
    "    def format_google_date(date_str):\n",
    "        parts = date_str.split(\"/\")\n",
    "        return f\"{parts[2]}{parts[0].zfill(2)}{parts[1].zfill(2)}\"\n",
    "\n",
    "    google_start = format_google_date(start_date)\n",
    "    google_end = format_google_date(end_date)\n",
    "\n",
    "    sort_param = f\"date:r:{google_start}:{google_end}\"  # Google's date range format\n",
    "\n",
    "    # Search with date filter\n",
    "    search = GoogleSerperAPIWrapper(k=30, sort=sort_param)  # Pass sort parameter\n",
    "    results = search.results(query_ci)\n",
    "\n",
    "    def score_result(result):\n",
    "        score = 0\n",
    "        keywords = keywords_client  # Assume this variable is defined elsewhere\n",
    "        link = result.get(\"link\", \"\")\n",
    "        title = result.get(\"title\", \"\").lower()\n",
    "        snippet = result.get(\"snippet\", \"\").lower()\n",
    "\n",
    "        if any(site in link for site in allowed_sites):\n",
    "            score += 3\n",
    "\n",
    "        if any(word in title or word in snippet for word in keywords):\n",
    "            score += 2\n",
    "\n",
    "        if \"date\" in result:\n",
    "            score += 1\n",
    "\n",
    "        return score\n",
    "\n",
    "    if results.get(\"organic\"):\n",
    "        sorted_results_client = sorted(results.get(\"organic\", []), key=score_result, reverse=True)\n",
    "        return sorted_results_client\n",
    "    else:\n",
    "        return \"No results found for client or industry news.\"\n",
    "\n"
   ]
  },
  {
   "cell_type": "code",
   "execution_count": null,
   "id": "92ac32eb-54e5-402a-b130-406913db84cc",
   "metadata": {},
   "outputs": [],
   "source": []
  },
  {
   "cell_type": "markdown",
   "id": "e717a2c7-fd84-4f2c-8fc0-319932f41c5d",
   "metadata": {},
   "source": [
    "**TOOL: MACRO NEWS - Search for relevant articles about the economy (title, snippet, date, source)**"
   ]
  },
  {
   "cell_type": "code",
   "execution_count": 8,
   "id": "f6afa3c0-83cf-470b-b3ac-fa7d434d0a8b",
   "metadata": {
    "tags": []
   },
   "outputs": [],
   "source": [
    "# Function to retrieve macroeconomic events news (Tool MACRO NEWS)\n",
    "@tool\n",
    "def macro_news(query_mn: str) -> str:\n",
    "    \"\"\"Return the most relevant macroeconomic news based on the query.\"\"\"\n",
    "    def format_google_date(date_str):\n",
    "        parts = date_str.split(\"/\")\n",
    "        return f\"{parts[2]}{parts[0].zfill(2)}{parts[1].zfill(2)}\"\n",
    "\n",
    "    google_start = format_google_date(start_date)\n",
    "    google_end = format_google_date(end_date)\n",
    "\n",
    "    sort_param = f\"date:r:{google_start}:{google_end}\"\n",
    "\n",
    "    search = GoogleSerperAPIWrapper(k=30, sort=sort_param)  # Pass sort parameter\n",
    "    results = search.results(query_mn)\n",
    "\n",
    "    def score_result(result):\n",
    "        score = 0\n",
    "        keywords = keywords_econ  # Assume this variable is defined elsewhere\n",
    "        link = result.get(\"link\", \"\")\n",
    "        title = result.get(\"title\", \"\").lower()\n",
    "        snippet = result.get(\"snippet\", \"\").lower()\n",
    "\n",
    "        if any(site in link for site in allowed_sites):\n",
    "            score += 3\n",
    "\n",
    "        if any(word in title or word in snippet for word in keywords):\n",
    "            score += 2\n",
    "\n",
    "        if \"date\" in result:\n",
    "            score += 1\n",
    "\n",
    "        return score\n",
    "\n",
    "    if results.get(\"organic\"):\n",
    "        sorted_results_econ = sorted(results.get(\"organic\", []), key=score_result, reverse=True)\n",
    "        return sorted_results_econ\n",
    "    else:\n",
    "        return \"No results found for macroeconomic events.\""
   ]
  },
  {
   "cell_type": "markdown",
   "id": "176725e6-bdf7-4d9d-a4a0-879c325f3767",
   "metadata": {},
   "source": [
    "**TOOL: CLIENT HOLDINGS - Search for top k news articles about the client's highest exposure holdings (title, snippet, date, source)**"
   ]
  },
  {
   "cell_type": "code",
   "execution_count": 9,
   "id": "602f56d0-29bc-4f71-86c7-fa1d43b0e8e8",
   "metadata": {
    "tags": []
   },
   "outputs": [],
   "source": [
    "# Function to retrieve macroeconomic events news (Tool HOLDINGS NEWS)\n",
    "@tool\n",
    "def holdings_news(query_hn: str) -> str:\n",
    "    \"\"\"Return the most relevant news based on each major holding.\"\"\"\n",
    "    def format_google_date(date_str):\n",
    "        parts = date_str.split(\"/\")\n",
    "        return f\"{parts[2]}{parts[0].zfill(2)}{parts[1].zfill(2)}\"\n",
    "\n",
    "    google_start = format_google_date(start_date)\n",
    "    google_end = format_google_date(end_date)\n",
    "\n",
    "    sort_param = f\"date:r:{google_start}:{google_end}\"\n",
    "\n",
    "    search = GoogleSerperAPIWrapper(k=30, sort=sort_param)  # Pass sort parameter\n",
    "    results = search.results(query_hn)\n",
    "\n",
    "    def score_result(result):\n",
    "        score = 0\n",
    "        keywords = keywords_client\n",
    "        link = result.get(\"link\", \"\")\n",
    "        title = result.get(\"title\", \"\").lower()\n",
    "        snippet = result.get(\"snippet\", \"\").lower()\n",
    "\n",
    "        if any(site in link for site in allowed_sites):\n",
    "            score += 3\n",
    "\n",
    "        if any(word in title or word in snippet for word in keywords):\n",
    "            score += 2\n",
    "\n",
    "        if \"date\" in result:\n",
    "            score += 1\n",
    "\n",
    "        return score\n",
    "\n",
    "    if results.get(\"organic\"):\n",
    "        sorted_results_econ = sorted(results.get(\"organic\", []), key=score_result, reverse=True)\n",
    "        return sorted_results_econ\n",
    "    else:\n",
    "        return \"No results found for holdings.\""
   ]
  },
  {
   "cell_type": "markdown",
   "id": "3d92db7b-198e-4322-9445-633fd1ace067",
   "metadata": {
    "tags": []
   },
   "source": [
    "**TOOL: CLIENT HOLDINGS DATA - Provide data on the biggest movers of client portfolio**"
   ]
  },
  {
   "cell_type": "code",
   "execution_count": null,
   "id": "06287475-0cef-4962-b915-f6fa020eaee5",
   "metadata": {},
   "outputs": [],
   "source": []
  },
  {
   "cell_type": "markdown",
   "id": "105a520f-fe6a-4c9c-b6fc-76269d8c55ff",
   "metadata": {},
   "source": [
    "**TOOL: MACROFIN DATA - Provide a generate market update on the latest macro/financial indicators**"
   ]
  },
  {
   "cell_type": "code",
   "execution_count": 16,
   "id": "3b43e213-7c65-4cf6-bdc8-682c448dcbfc",
   "metadata": {},
   "outputs": [
    {
     "name": "stderr",
     "output_type": "stream",
     "text": [
      "[*********************100%***********************]  1 of 1 completed\n",
      "/var/tmp/ipykernel_9444/3190155146.py:24: FutureWarning: Calling float on a single element Series is deprecated and will raise a TypeError in the future. Use float(ser.iloc[0]) instead\n",
      "  return float(round(data['Close'].iloc[-1], 2))\n",
      "[*********************100%***********************]  1 of 1 completed\n",
      "/var/tmp/ipykernel_9444/3190155146.py:24: FutureWarning: Calling float on a single element Series is deprecated and will raise a TypeError in the future. Use float(ser.iloc[0]) instead\n",
      "  return float(round(data['Close'].iloc[-1], 2))\n",
      "[*********************100%***********************]  1 of 1 completed\n",
      "/var/tmp/ipykernel_9444/3190155146.py:24: FutureWarning: Calling float on a single element Series is deprecated and will raise a TypeError in the future. Use float(ser.iloc[0]) instead\n",
      "  return float(round(data['Close'].iloc[-1], 2))\n",
      "[*********************100%***********************]  1 of 1 completed\n",
      "/var/tmp/ipykernel_9444/3190155146.py:24: FutureWarning: Calling float on a single element Series is deprecated and will raise a TypeError in the future. Use float(ser.iloc[0]) instead\n",
      "  return float(round(data['Close'].iloc[-1], 2))\n",
      "[*********************100%***********************]  1 of 1 completed\n",
      "/var/tmp/ipykernel_9444/3190155146.py:30: FutureWarning: Calling float on a single element Series is deprecated and will raise a TypeError in the future. Use float(ser.iloc[0]) instead\n",
      "  return float(round(((end - start) / start) * 100, 2))\n",
      "[*********************100%***********************]  1 of 1 completed\n",
      "/var/tmp/ipykernel_9444/3190155146.py:30: FutureWarning: Calling float on a single element Series is deprecated and will raise a TypeError in the future. Use float(ser.iloc[0]) instead\n",
      "  return float(round(((end - start) / start) * 100, 2))\n",
      "[*********************100%***********************]  1 of 1 completed\n",
      "/var/tmp/ipykernel_9444/3190155146.py:30: FutureWarning: Calling float on a single element Series is deprecated and will raise a TypeError in the future. Use float(ser.iloc[0]) instead\n",
      "  return float(round(((end - start) / start) * 100, 2))\n",
      "[*********************100%***********************]  1 of 1 completed\n",
      "/var/tmp/ipykernel_9444/3190155146.py:30: FutureWarning: Calling float on a single element Series is deprecated and will raise a TypeError in the future. Use float(ser.iloc[0]) instead\n",
      "  return float(round(((end - start) / start) * 100, 2))\n",
      "[*********************100%***********************]  1 of 1 completed\n",
      "/var/tmp/ipykernel_9444/3190155146.py:30: FutureWarning: Calling float on a single element Series is deprecated and will raise a TypeError in the future. Use float(ser.iloc[0]) instead\n",
      "  return float(round(((end - start) / start) * 100, 2))\n",
      "[*********************100%***********************]  1 of 1 completed\n",
      "/var/tmp/ipykernel_9444/3190155146.py:30: FutureWarning: Calling float on a single element Series is deprecated and will raise a TypeError in the future. Use float(ser.iloc[0]) instead\n",
      "  return float(round(((end - start) / start) * 100, 2))\n",
      "[*********************100%***********************]  1 of 1 completed\n",
      "/var/tmp/ipykernel_9444/3190155146.py:30: FutureWarning: Calling float on a single element Series is deprecated and will raise a TypeError in the future. Use float(ser.iloc[0]) instead\n",
      "  return float(round(((end - start) / start) * 100, 2))\n",
      "[*********************100%***********************]  1 of 1 completed\n",
      "/var/tmp/ipykernel_9444/3190155146.py:30: FutureWarning: Calling float on a single element Series is deprecated and will raise a TypeError in the future. Use float(ser.iloc[0]) instead\n",
      "  return float(round(((end - start) / start) * 100, 2))\n",
      "[*********************100%***********************]  1 of 1 completed\n",
      "/var/tmp/ipykernel_9444/3190155146.py:30: FutureWarning: Calling float on a single element Series is deprecated and will raise a TypeError in the future. Use float(ser.iloc[0]) instead\n",
      "  return float(round(((end - start) / start) * 100, 2))\n",
      "[*********************100%***********************]  1 of 1 completed\n",
      "/var/tmp/ipykernel_9444/3190155146.py:30: FutureWarning: Calling float on a single element Series is deprecated and will raise a TypeError in the future. Use float(ser.iloc[0]) instead\n",
      "  return float(round(((end - start) / start) * 100, 2))\n",
      "[*********************100%***********************]  1 of 1 completed\n",
      "/var/tmp/ipykernel_9444/3190155146.py:30: FutureWarning: Calling float on a single element Series is deprecated and will raise a TypeError in the future. Use float(ser.iloc[0]) instead\n",
      "  return float(round(((end - start) / start) * 100, 2))\n",
      "[*********************100%***********************]  1 of 1 completed\n",
      "/var/tmp/ipykernel_9444/3190155146.py:30: FutureWarning: Calling float on a single element Series is deprecated and will raise a TypeError in the future. Use float(ser.iloc[0]) instead\n",
      "  return float(round(((end - start) / start) * 100, 2))\n"
     ]
    }
   ],
   "source": [
    "\n",
    "# === Fetch functions ===\n",
    "\n",
    "def fetch_fred_data(series_id):\n",
    "    \"\"\"Fetch latest value from FRED.\"\"\"\n",
    "    data = web.DataReader(series_id, 'fred')\n",
    "    return round(data.iloc[-1, 0], 2)\n",
    "\n",
    "def fetch_cpi_levels():\n",
    "    \"\"\"Fetch CPI levels and calculate changes.\"\"\"\n",
    "    cpi = web.DataReader('CPIAUCSL', 'fred')\n",
    "    latest = cpi.iloc[-1, 0]\n",
    "    one_month_ago = cpi.iloc[-2, 0]\n",
    "    one_year_ago = cpi.iloc[-13, 0]\n",
    "    two_years_ago = cpi.iloc[-25, 0]\n",
    "    return {\n",
    "        'level': round(latest, 2),\n",
    "        '1mo': round(((latest - one_month_ago) / one_month_ago) * 100, 2),\n",
    "        '1yr': round(((latest - one_year_ago) / one_year_ago) * 100, 2),\n",
    "        '2yr': round(((latest - two_years_ago) / two_years_ago) * 100, 2)\n",
    "    }\n",
    "\n",
    "def fetch_yf_data(ticker, period='1d', interval='1d'):\n",
    "    data = yf.download(ticker, period=period, interval=interval)\n",
    "    return float(round(data['Close'].iloc[-1], 2))\n",
    "\n",
    "def fetch_yf_change(ticker, period):\n",
    "    data = yf.download(ticker, period=period, interval='1d')\n",
    "    start = data['Close'].iloc[0]\n",
    "    end = data['Close'].iloc[-1]\n",
    "    return float(round(((end - start) / start) * 100, 2))\n",
    "\n",
    "# === Indicators ===\n",
    "\n",
    "indicators = {\n",
    "    \"S&P 500\": {\"fetch_func\": fetch_yf_data, \"source\": \"^GSPC\"},\n",
    "    \"NASDAQ\": {\"fetch_func\": fetch_yf_data, \"source\": \"^IXIC\"},\n",
    "    \"WTI Crude Oil Price\": {\"fetch_func\": fetch_yf_data, \"source\": \"CL=F\"},\n",
    "    \"US GDP Growth Rate\": {\"fetch_func\": fetch_fred_data, \"source\": \"A191RL1Q225SBEA\"},\n",
    "    \"US Unemployment Rate\": {\"fetch_func\": fetch_fred_data, \"source\": \"UNRATE\"},\n",
    "    \"10-Year Treasury Yield\": {\"fetch_func\": fetch_fred_data, \"source\": \"GS10\"},\n",
    "    \"Fed Funds Rate\": {\"fetch_func\": fetch_fred_data, \"source\": \"FEDFUNDS\"},\n",
    "    \"US Dollar Index (DXY)\": {\"fetch_func\": fetch_yf_data, \"source\": \"DX-Y.NYB\"},\n",
    "}\n",
    "\n",
    "# === Fetch Level Data ===\n",
    "\n",
    "data = {}\n",
    "for indicator, details in indicators.items():\n",
    "    func = details[\"fetch_func\"]\n",
    "    source = details.get(\"source\")\n",
    "    value = func(source)\n",
    "    data[indicator] = value\n",
    "\n",
    "# === Fetch CPI changes ===\n",
    "cpi_data = fetch_cpi_levels()\n",
    "\n",
    "# === Fetch % changes for market indicators ===\n",
    "\n",
    "for ticker, label in {\n",
    "    \"^GSPC\": \"S&P 500\",\n",
    "    \"^IXIC\": \"NASDAQ\",\n",
    "    \"CL=F\": \"WTI Crude Oil Price\",\n",
    "    \"DX-Y.NYB\": \"US Dollar Index (DXY)\"\n",
    "}.items():\n",
    "    data[f\"{label} 1-Month Change (%)\"] = fetch_yf_change(ticker, '1mo')\n",
    "    data[f\"{label} 1-Year Change (%)\"] = fetch_yf_change(ticker, '1y')\n",
    "    data[f\"{label} 2-Year Change (%)\"] = fetch_yf_change(ticker, '2y')\n",
    "\n",
    "# === Build final DataFrame ===\n",
    "\n",
    "df_macrofin = pd.DataFrame({\n",
    "    'Indicator': [\n",
    "        'S&P 500',\n",
    "        'NASDAQ',\n",
    "        'WTI Crude Oil Price',\n",
    "        'US CPI',\n",
    "        'US Dollar Index (DXY)',\n",
    "        'US GDP Growth Rate',\n",
    "        'US Unemployment Rate',\n",
    "        '10-Year Treasury Yield',\n",
    "        'Fed Funds Rate'\n",
    "    ],\n",
    "    'Level': [\n",
    "        data['S&P 500'],\n",
    "        data['NASDAQ'],\n",
    "        data['WTI Crude Oil Price'],\n",
    "        cpi_data['level'],\n",
    "        data['US Dollar Index (DXY)'],\n",
    "        data['US GDP Growth Rate'],\n",
    "        data['US Unemployment Rate'],\n",
    "        data['10-Year Treasury Yield'],\n",
    "        data['Fed Funds Rate']\n",
    "    ],\n",
    "    '1-Month Change (%)': [\n",
    "        data['S&P 500 1-Month Change (%)'],\n",
    "        data['NASDAQ 1-Month Change (%)'],\n",
    "        data['WTI Crude Oil Price 1-Month Change (%)'],\n",
    "        cpi_data['1mo'],\n",
    "        data['US Dollar Index (DXY) 1-Month Change (%)'],\n",
    "        '', '', '', ''\n",
    "    ],\n",
    "    '1-Year Change (%)': [\n",
    "        data['S&P 500 1-Year Change (%)'],\n",
    "        data['NASDAQ 1-Year Change (%)'],\n",
    "        data['WTI Crude Oil Price 1-Year Change (%)'],\n",
    "        cpi_data['1yr'],\n",
    "        data['US Dollar Index (DXY) 1-Year Change (%)'],\n",
    "        '', '', '', ''\n",
    "    ],\n",
    "    '2-Year Change (%)': [\n",
    "        data['S&P 500 2-Year Change (%)'],\n",
    "        data['NASDAQ 2-Year Change (%)'],\n",
    "        data['WTI Crude Oil Price 2-Year Change (%)'],\n",
    "        cpi_data['2yr'],\n",
    "        data['US Dollar Index (DXY) 2-Year Change (%)'],\n",
    "        '', '', '', ''\n",
    "    ]\n",
    "})\n",
    "\n"
   ]
  },
  {
   "cell_type": "markdown",
   "id": "7158e774-5df1-4dc3-a29a-9a8ddeef9502",
   "metadata": {},
   "source": [
    "### SUMMARY OF MAJOR ECONOMIC AND FINANCIAL INDICATORS"
   ]
  },
  {
   "cell_type": "code",
   "execution_count": 17,
   "id": "8099abea-d134-4278-bee2-0c370a3945ab",
   "metadata": {},
   "outputs": [
    {
     "data": {
      "text/html": [
       "<div>\n",
       "<style scoped>\n",
       "    .dataframe tbody tr th:only-of-type {\n",
       "        vertical-align: middle;\n",
       "    }\n",
       "\n",
       "    .dataframe tbody tr th {\n",
       "        vertical-align: top;\n",
       "    }\n",
       "\n",
       "    .dataframe thead th {\n",
       "        text-align: right;\n",
       "    }\n",
       "</style>\n",
       "<table border=\"1\" class=\"dataframe\">\n",
       "  <thead>\n",
       "    <tr style=\"text-align: right;\">\n",
       "      <th></th>\n",
       "      <th>Level</th>\n",
       "      <th>1-Month Change (%)</th>\n",
       "      <th>1-Year Change (%)</th>\n",
       "      <th>2-Year Change (%)</th>\n",
       "    </tr>\n",
       "    <tr>\n",
       "      <th>Indicator</th>\n",
       "      <th></th>\n",
       "      <th></th>\n",
       "      <th></th>\n",
       "      <th></th>\n",
       "    </tr>\n",
       "  </thead>\n",
       "  <tbody>\n",
       "    <tr>\n",
       "      <th>S&amp;P 500</th>\n",
       "      <td>5528.75</td>\n",
       "      <td>-1.48</td>\n",
       "      <td>8.06</td>\n",
       "      <td>32.65</td>\n",
       "    </tr>\n",
       "    <tr>\n",
       "      <th>NASDAQ</th>\n",
       "      <td>17366.13</td>\n",
       "      <td>0.39</td>\n",
       "      <td>8.65</td>\n",
       "      <td>42.2</td>\n",
       "    </tr>\n",
       "    <tr>\n",
       "      <th>WTI Crude Oil Price</th>\n",
       "      <td>61.85</td>\n",
       "      <td>-10.83</td>\n",
       "      <td>-25.15</td>\n",
       "      <td>-19.45</td>\n",
       "    </tr>\n",
       "    <tr>\n",
       "      <th>US CPI</th>\n",
       "      <td>319.62</td>\n",
       "      <td>-0.05</td>\n",
       "      <td>2.41</td>\n",
       "      <td>5.96</td>\n",
       "    </tr>\n",
       "    <tr>\n",
       "      <th>US Dollar Index (DXY)</th>\n",
       "      <td>99.06</td>\n",
       "      <td>-4.79</td>\n",
       "      <td>-6.18</td>\n",
       "      <td>-2.57</td>\n",
       "    </tr>\n",
       "    <tr>\n",
       "      <th>US GDP Growth Rate</th>\n",
       "      <td>2.40</td>\n",
       "      <td></td>\n",
       "      <td></td>\n",
       "      <td></td>\n",
       "    </tr>\n",
       "    <tr>\n",
       "      <th>US Unemployment Rate</th>\n",
       "      <td>4.20</td>\n",
       "      <td></td>\n",
       "      <td></td>\n",
       "      <td></td>\n",
       "    </tr>\n",
       "    <tr>\n",
       "      <th>10-Year Treasury Yield</th>\n",
       "      <td>4.28</td>\n",
       "      <td></td>\n",
       "      <td></td>\n",
       "      <td></td>\n",
       "    </tr>\n",
       "    <tr>\n",
       "      <th>Fed Funds Rate</th>\n",
       "      <td>4.33</td>\n",
       "      <td></td>\n",
       "      <td></td>\n",
       "      <td></td>\n",
       "    </tr>\n",
       "  </tbody>\n",
       "</table>\n",
       "</div>"
      ],
      "text/plain": [
       "                           Level 1-Month Change (%) 1-Year Change (%)  \\\n",
       "Indicator                                                               \n",
       "S&P 500                  5528.75              -1.48              8.06   \n",
       "NASDAQ                  17366.13               0.39              8.65   \n",
       "WTI Crude Oil Price        61.85             -10.83            -25.15   \n",
       "US CPI                    319.62              -0.05              2.41   \n",
       "US Dollar Index (DXY)      99.06              -4.79             -6.18   \n",
       "US GDP Growth Rate          2.40                                        \n",
       "US Unemployment Rate        4.20                                        \n",
       "10-Year Treasury Yield      4.28                                        \n",
       "Fed Funds Rate              4.33                                        \n",
       "\n",
       "                       2-Year Change (%)  \n",
       "Indicator                                 \n",
       "S&P 500                            32.65  \n",
       "NASDAQ                              42.2  \n",
       "WTI Crude Oil Price               -19.45  \n",
       "US CPI                              5.96  \n",
       "US Dollar Index (DXY)              -2.57  \n",
       "US GDP Growth Rate                        \n",
       "US Unemployment Rate                      \n",
       "10-Year Treasury Yield                    \n",
       "Fed Funds Rate                            "
      ]
     },
     "execution_count": 17,
     "metadata": {},
     "output_type": "execute_result"
    }
   ],
   "source": [
    "df_macrofin.set_index('Indicator', inplace=True)\n",
    "df_macrofin"
   ]
  },
  {
   "cell_type": "markdown",
   "id": "25898d15-a0b6-4eb3-8d00-95118fc77e7f",
   "metadata": {},
   "source": [
    "### SUMMARY - CLIENT, ITS SECTOR AND MACRO NEWS"
   ]
  },
  {
   "cell_type": "code",
   "execution_count": 18,
   "id": "c18ad83a-c59f-4251-84eb-ebd0df99f2cf",
   "metadata": {
    "tags": []
   },
   "outputs": [],
   "source": [
    "# Query for stock market and industry-related news\n",
    "query_ci = f\"{site_filter} news about {client_name} and about {industry} industry\"\n",
    "\n",
    "# Query for macroeconomic events\n",
    "query_mn = f\"{site_filter} news about relevant macro events and the economy.\"\n"
   ]
  },
  {
   "cell_type": "code",
   "execution_count": 19,
   "id": "2a02db8d-dbc4-4473-8abf-ff7e3773bbb3",
   "metadata": {
    "tags": []
   },
   "outputs": [
    {
     "name": "stdout",
     "output_type": "stream",
     "text": [
      "The combined outputs reveal a complex economic picture dominated by the impact of President Trump's tariffs and their ripple effects on various sectors.  Walmart, a central focus of the first output, experienced strong sales growth in 2024, with revenue reaching $680.47 billion (LSEG estimate) and a 78% stock surge (Bloomberg).  However, 2025 presented a more uncertain outlook, with Walmart's online business projected to achieve profitability but overall profit forecasts being lower than expected.  The company's actions reflect this uncertainty: they are pushing Chinese suppliers to cut prices to offset tariffs, cutting roles and closing an office, and investing heavily ($4.51 billion in Canada) in expansion and supply chain improvements.  Despite its strong performance, Walmart's position as the largest retailer was overtaken by Amazon in February 2025.\n",
      "\n",
      "The second output highlights widespread concern about a potential recession, fueled by the tariffs.  Economists are issuing warnings, with Goldman Sachs downgrading its US economic forecasts due to the adverse impacts of the tariffs.  The uncertainty is causing market volatility, with a sell-off in equities and a flight to safe havens.  Analysts predict negative consequences for various sectors, including advertising (potential $45 billion loss) and a possible decline in television viewership mirroring the decline of newspapers.  The overall economic sentiment is described as \"confusing\" and \"cautious,\" with weakening growth data and declining CEO/CFO confidence.  The impact of tariffs is described as \"century-high duties\" leading to reduced revenue forecasts and widespread business uncertainty.  Specific numbers from the economic data are limited in the second output, but the pervasive theme is the negative impact of tariffs on the overall economic outlook, with recessionary fears prominent.\n"
     ]
    }
   ],
   "source": [
    "# Example queries\n",
    "queries = [query_ci,query_mn]\n",
    "\n",
    "# Tool functions list (can be extended with more tools)\n",
    "tool_functions = [client_and_industry, macro_news]\n",
    "\n",
    "# Run the agent and get the summary\n",
    "final_summary = agent_function(queries, tool_functions)\n",
    "\n",
    "# Print the result\n",
    "print(final_summary)"
   ]
  },
  {
   "cell_type": "markdown",
   "id": "eca0e63e-41d7-4a1a-a1d0-c443f3c49201",
   "metadata": {},
   "source": [
    "### SUMMARY - CLIENT HOLDINGS"
   ]
  },
  {
   "cell_type": "code",
   "execution_count": 20,
   "id": "b14b031e-ecd9-4b65-ab4d-dce6791d9fc2",
   "metadata": {},
   "outputs": [
    {
     "name": "stdout",
     "output_type": "stream",
     "text": [
      "Several recent financial news articles highlight the strong performance and investment potential within the technology sector, particularly in artificial intelligence (AI).  Multiple sources point to significant investments in AI infrastructure by major tech companies like Microsoft and Meta, involving billions of dollars in areas such as Nvidia chips, custom silicon, and data center expansion.  This investment is driving growth and fueling the sector's overall positive performance.\n",
      "\n",
      "Specific companies frequently mentioned as strong performers or attractive investments include Microsoft (MSFT), Nvidia (NVDA),  Tesla, Netflix (NFLX), Amazon (AMZN), and Apple (AAPL).  One article notes that Microsoft's stock has gained 342% over the last decade.  Another highlights Tesla's 23.8% surge and Netflix's 11.9% jump in a single week.  The technology sector as a whole is noted for its strong performance, with the S&P 500 reaching record highs partly due to positive tech results and AI investment announcements.  One article even suggests a specific stock is undervalued by 21%.  The overall sentiment is overwhelmingly positive, portraying the tech sector, especially AI-related companies, as a robust and promising area for investment.  The articles emphasize both short-term gains (like the week's performance of several tech giants) and long-term growth potential.\n"
     ]
    }
   ],
   "source": [
    "# Query for holdings\n",
    "query_ch = f\"{site_filter} news about any of these top holdings:{largest_holdings}\"\n",
    "\n",
    "queries = [query_ch]\n",
    "\n",
    "# Tool functions list (can be extended with more tools)\n",
    "tool_functions = [holdings_news]\n",
    "\n",
    "# Run the agent and get the summary\n",
    "final_summary = agent_function(queries, tool_functions)\n",
    "\n",
    "# Print the result\n",
    "print(final_summary)"
   ]
  },
  {
   "cell_type": "code",
   "execution_count": null,
   "id": "47abd9be-32e8-4130-835d-2ef4db1c16bd",
   "metadata": {},
   "outputs": [],
   "source": []
  },
  {
   "cell_type": "code",
   "execution_count": null,
   "id": "29e21098-747b-4a44-b375-8bc93d7b62d0",
   "metadata": {},
   "outputs": [],
   "source": []
  },
  {
   "cell_type": "code",
   "execution_count": null,
   "id": "d28a045b-d77b-4180-933e-77762d21c24c",
   "metadata": {},
   "outputs": [],
   "source": []
  },
  {
   "cell_type": "code",
   "execution_count": null,
   "id": "e5f6201c-b4d4-4045-82ea-98b216af0d39",
   "metadata": {},
   "outputs": [],
   "source": []
  },
  {
   "cell_type": "code",
   "execution_count": null,
   "id": "59b0a5aa-afe7-4a2e-ac1d-74cf98422834",
   "metadata": {},
   "outputs": [],
   "source": []
  },
  {
   "cell_type": "code",
   "execution_count": null,
   "id": "506effec-743c-4aa6-b732-95e8112f3a86",
   "metadata": {},
   "outputs": [],
   "source": []
  }
 ],
 "metadata": {
  "environment": {
   "kernel": "conda-env-so_currensee-so_currensee",
   "name": "workbench-notebooks.m129",
   "type": "gcloud",
   "uri": "us-docker.pkg.dev/deeplearning-platform-release/gcr.io/workbench-notebooks:m129"
  },
  "kernelspec": {
   "display_name": "so_currensee",
   "language": "python",
   "name": "conda-env-so_currensee-so_currensee"
  },
  "language_info": {
   "codemirror_mode": {
    "name": "ipython",
    "version": 3
   },
   "file_extension": ".py",
   "mimetype": "text/x-python",
   "name": "python",
   "nbconvert_exporter": "python",
   "pygments_lexer": "ipython3",
   "version": "3.11.12"
  }
 },
 "nbformat": 4,
 "nbformat_minor": 5
}
