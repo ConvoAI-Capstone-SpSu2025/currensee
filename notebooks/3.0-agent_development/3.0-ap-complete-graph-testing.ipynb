{
 "cells": [
  {
   "cell_type": "code",
   "execution_count": 1,
   "id": "c57516d8-1607-4573-bcdd-c78af6861c7e",
   "metadata": {},
   "outputs": [
    {
     "name": "stderr",
     "output_type": "stream",
     "text": [
      "2025-05-18 10:00:57,441 - currensee.core.secrets - INFO - SecretManager initialized with project_id: adsp-34002-on02-sopho-scribe\n"
     ]
    }
   ],
   "source": [
    "from currensee.agents.complete_graph import compiled_graph\n",
    "#from currensee.agents.lc_complete_graph import compiled_graph\n",
    "#from currensee.agents.tools.finance_tools import generate_macro_table"
   ]
  },
  {
   "cell_type": "markdown",
   "id": "0382d110-7666-4cf9-8664-a6ec2799f35e",
   "metadata": {},
   "source": [
    "## Define Initial State\n",
    "\n",
    "This is data that we should be retrieving from each meeting invite.\n",
    "\n",
    "**DO NOT** change this data until the CRM DB has been updated"
   ]
  },
  {
   "cell_type": "code",
   "execution_count": 2,
   "id": "dcc4c7df-7a99-4862-b4ff-e84ed8dfc48c",
   "metadata": {},
   "outputs": [
    {
     "name": "stdout",
     "output_type": "stream",
     "text": [
      "\n",
      "===============================\n",
      "Generating report with length: short\n",
      "===============================\n",
      "\n",
      "• Compass successfully utilized the $25 million revolving credit facility from Bankwell Financial, reporting straightforward drawdowns and clear reporting processes.\n",
      "• The credit facility officially closed and funded, exceeding expectations and aligning with Compass's expansion plans.\n",
      "• Compass's Q1 2025 results showed a 28.7% year-over-year revenue increase to $1.4 billion, indicating strong financial health despite ongoing lawsuits.\n",
      "•  Adam Clay confirmed Compass's satisfaction with the facility, highlighting the ease of use and transparency.\n",
      "•  Bankwell Financial provided ongoing support and assistance to Compass regarding the facility's utilization.\n",
      "•  Compass's recent acquisitions and strategic initiatives (e.g., Compass One, acquisitions of @properties and Christie's) indicate continued growth and expansion.\n",
      "•  While the macroeconomic outlook expresses concerns about a potential recession, Compass's strong financial performance mitigates immediate risk.\n"
     ]
    }
   ],
   "source": [
    "init_state = {\n",
    "        'client_name': 'Adam Clay',\n",
    "        'client_email': 'adam.clay@compass.com',\n",
    "        'meeting_timestamp': '2024-03-26 11:00:00',\n",
    "        'meeting_description': 'Compass - Annual Credit Facility Review Meeting',\n",
    "        'report_length': 'short'\n",
    "    }\n",
    "\n",
    "result = compiled_graph.invoke(init_state)\n",
    "summary = result['final_summary']\n",
    "full_report = summary \n",
    "#full_report = summary + \"\\n\\n### Macro Financial Snapshot\\n\\n\" + macro_table\n",
    "print(full_report)"
   ]
  },
  {
   "cell_type": "code",
   "execution_count": 5,
   "id": "e5c8238c",
   "metadata": {},
   "outputs": [
    {
     "name": "stdout",
     "output_type": "stream",
     "text": [
      "973\n"
     ]
    }
   ],
   "source": [
    "print(len(full_report))"
   ]
  },
  {
   "cell_type": "code",
   "execution_count": 6,
   "id": "97cf725d",
   "metadata": {},
   "outputs": [
    {
     "name": "stdout",
     "output_type": "stream",
     "text": [
      "\n",
      "===============================\n",
      "Generating report with length: medium\n",
      "===============================\n",
      "\n",
      "**1. Client Communication Summary**\n",
      "\n",
      "The initial contact with Compass (Adam Clay) regarding a credit facility stemmed from a meeting at the Real Estate Finance conference.  Following a term sheet for a $25M revolving line of credit, and subsequent legal review, the facility successfully closed and funded.  Post-closing communication confirmed Compass's satisfaction with the drawdown and reporting processes. Recent communication highlights Compass's continued positive experience with the facility, emphasizing the straightforward nature of drawdowns and reporting clarity.  No critical questions were raised by Compass.\n",
      "\n",
      "**2. Financial Overview**\n",
      "\n",
      "Compass reported record Q1 2025 results, with a 28.7% year-over-year revenue increase to $1.4 billion, driven by acquisitions (including @properties) and strategic initiatives like \"Compass One.\"  Despite legal battles, Compass's strong financial performance demonstrates a healthy financial position, supporting their ability to service the $25M credit facility.  This positive performance significantly strengthens their creditworthiness and mitigates risk for Bankwell Financial.\n"
     ]
    }
   ],
   "source": [
    "init_state = {\n",
    "        'client_name': 'Adam Clay',\n",
    "        'client_email': 'adam.clay@compass.com',\n",
    "        'meeting_timestamp': '2024-03-26 11:00:00',\n",
    "        'meeting_description': 'Compass - Annual Credit Facility Review Meeting',\n",
    "        'report_length': 'medium'\n",
    "    }\n",
    "\n",
    "result = compiled_graph.invoke(init_state)\n",
    "summary = result['final_summary']\n",
    "full_report = summary \n",
    "#full_report = summary + \"\\n\\n### Macro Financial Snapshot\\n\\n\" + macro_table\n",
    "print(full_report)"
   ]
  },
  {
   "cell_type": "code",
   "execution_count": 7,
   "id": "ecd406a8",
   "metadata": {},
   "outputs": [
    {
     "name": "stdout",
     "output_type": "stream",
     "text": [
      "1134\n"
     ]
    }
   ],
   "source": [
    "print(len(full_report))"
   ]
  },
  {
   "cell_type": "code",
   "execution_count": 8,
   "id": "7238a8f1",
   "metadata": {},
   "outputs": [
    {
     "name": "stdout",
     "output_type": "stream",
     "text": [
      "\n",
      "===============================\n",
      "Generating report with length: long\n",
      "===============================\n",
      "\n",
      "**Compass - Annual Credit Facility Review Meeting: Briefing Document**\n",
      "\n",
      "**1. Past Email Summary**\n",
      "\n",
      "The $25 million revolving credit facility for Compass was established following initial contact at the Real Estate Finance conference.  An indicative term sheet was provided, followed by internal Compass review and approval.  The definitive agreement was finalized, the facility funded, and subsequent confirmation received from Compass regarding successful drawdown and reporting processes.\n",
      "\n",
      "**2. Recent Email Topics**\n",
      "\n",
      "* Compass reported positive experience with the credit facility, citing straightforward drawdowns and clear reporting.\n",
      "* Bankwell Financial confirmed the official closing and funding of the $25M facility.\n",
      "* Bankwell Financial reiterated its commitment to ongoing support and assistance for Compass.\n",
      "* Both Bankwell Financial and Compass expressed mutual satisfaction with the partnership and the smooth closing process.\n",
      "\n",
      "**3. Recent Client Questions**\n",
      "\n",
      "No specific questions were raised by the client; however, the client expressed overall satisfaction with the facility's performance.\n",
      "\n",
      "**4. Financial Overview**\n",
      "\n",
      "Compass reported record first-quarter 2025 results, with a 28.7% year-over-year revenue increase to $1.4 billion driven by a 27.8% rise in transactions.  This growth is fueled by acquisitions (including @properties, which experienced a 250% revenue increase under Compass ownership) and the launch of \"Compass One.\"  However, the company faces challenges including lawsuits and job cuts related to the housing market downturn.  Despite these challenges, analysts predict Compass will achieve breakeven soon.\n",
      "\n",
      "The broader economic outlook is mixed. While some sectors show strength (e.g., strong retail sales in September 2024), recessionary concerns persist due to rising costs, weak consumer confidence, and the impact of tariffs.  The Federal Reserve's actions to mitigate economic slowdown are ongoing.  This uncertain economic climate contrasts with strong performance from certain sectors, such as technology (TSM, ASML, SAP) and building materials (CRH), although even within these sectors there are varied impacts (e.g., Samsung's chip business facing trade restrictions).  The overall economic picture remains uncertain and presents conflicting signals.\n"
     ]
    }
   ],
   "source": [
    "init_state = {\n",
    "        'client_name': 'Adam Clay',\n",
    "        'client_email': 'adam.clay@compass.com',\n",
    "        'meeting_timestamp': '2024-03-26 11:00:00',\n",
    "        'meeting_description': 'Compass - Annual Credit Facility Review Meeting',\n",
    "    }\n",
    "\n",
    "result = compiled_graph.invoke(init_state)\n",
    "summary = result['final_summary']\n",
    "full_report = summary \n",
    "#full_report = summary + \"\\n\\n### Macro Financial Snapshot\\n\\n\" + macro_table\n",
    "print(full_report)"
   ]
  },
  {
   "cell_type": "code",
   "execution_count": 10,
   "id": "132b2c2f",
   "metadata": {},
   "outputs": [
    {
     "name": "stdout",
     "output_type": "stream",
     "text": [
      "2295\n"
     ]
    }
   ],
   "source": [
    "print(len(full_report))"
   ]
  },
  {
   "cell_type": "markdown",
   "id": "d2a31211-9712-4897-a4a5-fe74bf55fd2e",
   "metadata": {},
   "source": [
    "# Test case 2"
   ]
  },
  {
   "cell_type": "code",
   "execution_count": null,
   "id": "1503b118-55e2-4578-9798-254baff50823",
   "metadata": {},
   "outputs": [],
   "source": [
    "init_state = {\n",
    "        'client_name': 'Jennifer Phelps',\n",
    "        'client_email': 'jennifer.phelps@aerovironment.com',\n",
    "        'meeting_timestamp': '2018-07-24 14:00:00',\n",
    "        'meeting_description': 'AeroVironment - Initial Discussion on Financial Needs'\n",
    "    }\n",
    "result = compiled_graph.invoke(init_state)\n",
    "summary = result['final_summary']\n",
    "full_report = summary \n",
    "#full_report = summary + \"\\n\\n### Macro Financial Snapshot\\n\\n\" + macro_table\n",
    "print(full_report)"
   ]
  },
  {
   "cell_type": "markdown",
   "id": "a33b701c-3483-46e3-8f06-dce8aff5a59f",
   "metadata": {},
   "source": [
    "# Test Case 3"
   ]
  },
  {
   "cell_type": "code",
   "execution_count": null,
   "id": "47db3bf1-0db3-43d7-b5bb-df051f3f04b4",
   "metadata": {},
   "outputs": [],
   "source": [
    "init_state = {\n",
    "        'client_name': 'Jessica Palmer',\n",
    "        'client_email': 'jessica.palmer@hasbro.com',\n",
    "        'meeting_timestamp': '2024-02-04 14:30:00',\n",
    "        'meeting_description': 'Hasbro - Discuss Portfolio Diversification and Bond Strategy'\n",
    "    }\n",
    "result = compiled_graph.invoke(init_state)\n",
    "summary = result['final_summary']\n",
    "full_report = summary \n",
    "print(full_report)"
   ]
  },
  {
   "cell_type": "markdown",
   "id": "d1ebf080-5957-4b7a-818c-bc7aa505716f",
   "metadata": {},
   "source": [
    "# Test Case 4"
   ]
  },
  {
   "cell_type": "code",
   "execution_count": null,
   "id": "f0ece541-c1b2-4a29-a4c3-5f74229e071c",
   "metadata": {},
   "outputs": [],
   "source": [
    "init_state = {\n",
    "        'client_name': 'Jessica Palmer',\n",
    "        'client_email': 'jessica.palmer@hasbro.com',\n",
    "        'meeting_timestamp': '2024-02-04 14:30:00',\n",
    "        'meeting_description': 'Hasbro - Discuss Portfolio Diversification and Bond Strategy'\n",
    "    }\n",
    "result = compiled_graph.invoke(init_state)\n",
    "summary = result['final_summary']\n",
    "full_report = summary \n",
    "print(full_report)"
   ]
  },
  {
   "cell_type": "markdown",
   "id": "70a647ae-d08c-4d19-af45-76cf57b20883",
   "metadata": {},
   "source": [
    "# Test Case 5"
   ]
  },
  {
   "cell_type": "code",
   "execution_count": null,
   "id": "54542167-5bee-48d3-93ea-bcc467f4eef4",
   "metadata": {},
   "outputs": [],
   "source": [
    "init_state = {\n",
    "        'client_name': 'Timothy Ochoa',\n",
    "        'client_email': 'timothy.ochoa@hyatthotels.com',\n",
    "        'meeting_timestamp': '2024-02-27 10:00:00',\n",
    "        'meeting_description': 'Hyatt Hotels - Check Status of 401k Advisory RFI Launch'\n",
    "    }\n",
    "result = compiled_graph.invoke(init_state)\n",
    "summary = result['final_summary']\n",
    "full_report = summary \n",
    "print(full_report)"
   ]
  },
  {
   "cell_type": "markdown",
   "id": "9dcf34f2-e5e4-4700-80a8-94d96085cdd6",
   "metadata": {},
   "source": [
    "# Pull of emails from test client "
   ]
  },
  {
   "cell_type": "code",
   "execution_count": null,
   "id": "039a4846-c3c7-4a8a-a983-12e33c4f4c36",
   "metadata": {},
   "outputs": [],
   "source": [
    "from google.cloud import secretmanager\n",
    "import pandas as pd\n",
    "import numpy as np\n",
    "from currensee.utils.db_utils import create_pg_engine\n",
    "from sqlalchemy import text\n",
    "pd.set_option('display.max_colwidth', None)"
   ]
  },
  {
   "cell_type": "code",
   "execution_count": null,
   "id": "ab85e5ad-75d7-44f1-b124-8f7107b134ed",
   "metadata": {},
   "outputs": [],
   "source": [
    "# Define DB_NAME\n",
    "DB_NAME = 'crm_outlook'"
   ]
  },
  {
   "cell_type": "code",
   "execution_count": null,
   "id": "f66eb336-89b3-4aed-940c-63d2a653fc60",
   "metadata": {},
   "outputs": [],
   "source": [
    "engine = create_pg_engine(\n",
    "   db_name=DB_NAME\n",
    ")"
   ]
  },
  {
   "cell_type": "code",
   "execution_count": null,
   "id": "385d79b7-b132-49b4-9fa0-54c3abbd7d25",
   "metadata": {},
   "outputs": [],
   "source": [
    "df_result = pd.read_sql(\"SELECT * FROM meeting_data where invitee_emails = 'timothy.ochoa@hyatthotels.com' order by meeting_timestamp desc \", con=engine)\n",
    "df_result"
   ]
  },
  {
   "cell_type": "code",
   "execution_count": null,
   "id": "73e4ed3f-51a2-4996-90eb-b4ecec75030e",
   "metadata": {},
   "outputs": [],
   "source": [
    "df_result = pd.read_sql(\"SELECT * FROM meeting_data where invitee_emails = 'jennifer.phelps@aerovironment.com' \", con=engine)\n",
    "df_result"
   ]
  },
  {
   "cell_type": "code",
   "execution_count": null,
   "id": "6b38f32c-d8ea-467f-9402-d47e45ad5b62",
   "metadata": {},
   "outputs": [],
   "source": [
    "df_result = pd.read_sql(\"SELECT * FROM meeting_data where invitee_emails = 'jessica.palmer@hasbro.com'\", con=engine)\n",
    "df_result.head(20)"
   ]
  },
  {
   "cell_type": "code",
   "execution_count": null,
   "id": "24fe9258-0806-40ab-a242-07252fd671e7",
   "metadata": {},
   "outputs": [],
   "source": [
    "df_result = pd.read_sql(\"SELECT * FROM email_data where (to_emails = 'jessica.palmer@hasbro.com' or from_email = 'jessica.palmer@hasbro.com' ) order by email_timestamp desc \", con=engine)\n",
    "df_result.head(3)"
   ]
  },
  {
   "cell_type": "code",
   "execution_count": null,
   "id": "d401d62c-1b65-4266-a6a1-3bcebeae5f71",
   "metadata": {},
   "outputs": [],
   "source": [
    "df_result = pd.read_sql(\"SELECT * FROM email_data where to_emails = 'adam.clay@compass.com' order by email_timestamp desc \", con=engine)\n",
    "df_result"
   ]
  },
  {
   "cell_type": "code",
   "execution_count": null,
   "id": "00e3f127-6359-4da8-b4ec-d3a0deb23943",
   "metadata": {},
   "outputs": [],
   "source": [
    "df_result = pd.read_sql(\"SELECT count(*) FROM email_data where to_emails = 'adam.clay@compass.com' \", con=engine)\n",
    "print(df_result)"
   ]
  },
  {
   "cell_type": "code",
   "execution_count": null,
   "id": "b3a873e1-fa8c-4ba7-b54d-cd5b853c0ac6",
   "metadata": {},
   "outputs": [],
   "source": [
    "df_result = pd.read_sql(\"SELECT * FROM meeting_data order by meeting_timestamp desc limit 10 \", con=engine)\n",
    "df_result"
   ]
  },
  {
   "cell_type": "code",
   "execution_count": null,
   "id": "1bf13470-7e0c-484f-93ad-c18d21410ba7",
   "metadata": {},
   "outputs": [],
   "source": [
    "df_result = pd.read_sql(\"SELECT * FROM email_data where (to_emails = 'timothy.ochoa@hyatthotels.com' or from_email = 'timothy.ochoa@hyatthotels.com' ) order by email_timestamp desc \", con=engine)\n",
    "df_result.head(10)"
   ]
  },
  {
   "cell_type": "code",
   "execution_count": null,
   "id": "0510d0e6-71b9-49a3-b9fc-cdd9b744fcd6",
   "metadata": {},
   "outputs": [],
   "source": []
  },
  {
   "cell_type": "code",
   "execution_count": null,
   "id": "8993e16a-cd72-48d4-a462-396575262c4a",
   "metadata": {},
   "outputs": [],
   "source": []
  }
 ],
 "metadata": {
  "environment": {
   "kernel": "ap_currensee",
   "name": "workbench-notebooks.m129",
   "type": "gcloud",
   "uri": "us-docker.pkg.dev/deeplearning-platform-release/gcr.io/workbench-notebooks:m129"
  },
  "kernelspec": {
   "display_name": "AP Currensee",
   "language": "python",
   "name": "ap_currensee"
  },
  "language_info": {
   "codemirror_mode": {
    "name": "ipython",
    "version": 3
   },
   "file_extension": ".py",
   "mimetype": "text/x-python",
   "name": "python",
   "nbconvert_exporter": "python",
   "pygments_lexer": "ipython3",
   "version": "3.11.12"
  }
 },
 "nbformat": 4,
 "nbformat_minor": 5
}
