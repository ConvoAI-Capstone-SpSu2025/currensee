{
 "cells": [
  {
   "cell_type": "markdown",
   "id": "8f440a01",
   "metadata": {},
   "source": [
    "# Test a Tool in Isolation\n",
    "\n",
    "The purpose of this notebook is to test a tool in isolation from the entire graph to confirm proper implementation.\n",
    "\n",
    "**NOTE**: You must have your `GOOGLE_API_KEY` defined in your .env file. You can get this API key here: https://aistudio.google.com/app/apikey"
   ]
  },
  {
   "cell_type": "code",
   "execution_count": 3,
   "id": "88f8b1e9",
   "metadata": {
    "tags": []
   },
   "outputs": [],
   "source": [
    "from langgraph.checkpoint.memory import MemorySaver\n",
    "from langchain_core.messages import HumanMessage, AIMessage\n",
    "from langgraph.graph import StateGraph, START, END\n",
    "from langgraph.prebuilt import create_react_agent\n",
    "from langchain_core.runnables import RunnableLambda\n",
    "from langchain.tools import tool\n",
    "\n",
    "from currensee.core import get_model, settings"
   ]
  },
  {
   "cell_type": "code",
   "execution_count": 4,
   "id": "e6dc6618",
   "metadata": {
    "tags": []
   },
   "outputs": [
    {
     "data": {
      "text/plain": [
       "True"
      ]
     },
     "execution_count": 4,
     "metadata": {},
     "output_type": "execute_result"
    }
   ],
   "source": [
    "from dotenv import load_dotenv\n",
    "\n",
    "load_dotenv()"
   ]
  },
  {
   "cell_type": "code",
   "execution_count": 15,
   "id": "eee0464a-6cd2-47eb-b8e4-9161898e822c",
   "metadata": {},
   "outputs": [],
   "source": [
    "from langchain_core.messages import HumanMessage\n",
    "from langgraph.graph import StateGraph, START, END\n",
    "\n",
    "from currensee.core import get_model, settings\n",
    "from currensee.agents.tools.base import SupervisorState\n",
    "from currensee.agents.agent_utils import summarize_all_outputs\n",
    "\n",
    "from currensee.agents.tools.crm_tools import retrieve_client_metadata\n",
    "from currensee.agents.tools.outlook_tools import produce_client_email_summary, produce_recent_client_email_summary\n",
    "#, produce_recent_client_questions\n",
    "\n",
    "from dotenv import load_dotenv\n",
    "load_dotenv()\n",
    "\n",
    "import asyncio\n"
   ]
  },
  {
   "cell_type": "code",
   "execution_count": 22,
   "id": "dbd56846-7ef6-4c63-b9b4-d353c3f4e9c7",
   "metadata": {},
   "outputs": [],
   "source": [
    "import pandas as pd\n",
    "import numpy as np\n",
    "from currensee.utils.db_utils import create_pg_engine\n",
    "from sqlalchemy import text\n",
    "from langchain_core.messages import HumanMessage\n",
    "from currensee.workflows.sql_workflow.utils import create_sql_workflow\n",
    "from currensee.workflows.workflow_descriptions import outlook_table_description_mapping\n",
    "from currensee.core import get_model, settings\n",
    "from currensee.agents.tools.base import SupervisorState\n",
    "from dotenv import load_dotenv\n",
    "load_dotenv()\n",
    "\n",
    "# === Model ===\n",
    "model = get_model(settings.DEFAULT_MODEL)\n",
    "\n",
    "\n",
    "# === DB Connection ===\n",
    "DB_NAME = 'crm_outlook'\n",
    "engine = create_pg_engine(\n",
    "   db_name=DB_NAME\n",
    ")\n",
    "\n",
    "\n",
    "def find_last_meeting_date(all_client_emails: list[str]) -> dict:\n",
    "    \"\"\"\n",
    "        Find the last meeting date that was held with any of the \n",
    "        client emails listed above.\n",
    "    \"\"\"\n",
    "\n",
    "    query_str = f\"\"\"\n",
    "        SELECT  meeting_timestamp\n",
    "        FROM  meeting_data\n",
    "        WHERE  invitee_emails ~* '{'|'.join(all_client_emails)}' \n",
    "        ORDER BY meeting_timestamp DESC\n",
    "        LIMIT 1;\n",
    "\n",
    "    \"\"\"\n",
    "\n",
    "    last_meeting = pd.read_sql(query_str, con=engine)\n",
    "\n",
    "    return last_meeting['meeting_timestamp'][0]\n",
    "\n",
    "\n",
    "def produce_recent_client_questions(state: SupervisorState) -> dict:\n",
    "    \"\"\"\n",
    "        Produce a the recent client questions from the most recent emails based on date recieved.\n",
    "    \"\"\"\n",
    "    client_company = state['client_company']\n",
    "    all_client_emails = state['all_client_emails']\n",
    "    meeting_timestamp = state['meeting_timestamp']\n",
    "    meeting_description = state['meeting_description']\n",
    "\n",
    "    last_meeting_date = find_last_meeting_date(all_client_emails=all_client_emails)\n",
    "    \n",
    "    query_str = f\"\"\"\n",
    "        SELECT email_body\n",
    "        FROM email_data\n",
    "        WHERE \n",
    "        (\n",
    "            to_emails ~* '{'|'.join(all_client_emails)}' \n",
    "            OR \n",
    "            from_email ~* '{'|'.join(all_client_emails)}' \n",
    "        )\n",
    "        order by email_timestamp desc\n",
    "        limit 5\n",
    "    \"\"\"\n",
    "\n",
    "    result = pd.read_sql(query_str, con=engine)\n",
    "\n",
    "    recent_emails = list(result['email_body'])\n",
    "\n",
    "    recent_email_str = '\\n'.join(recent_emails)\n",
    "\n",
    "    ###### SUMMARIZE HERE #########\n",
    "    summary_prompt = f\"\"\" \n",
    "    PROMPT\n",
    "\n",
    "    You are reviewing a series of past emails exchanged between the client {client_company} and Bankwell Financial to identify client questions.\n",
    "    \n",
    "    Extract any questions asked by {client_company} or their representatives. \n",
    "        - Do not include questions about availability, meeting times, or scheduling logistics.\n",
    "        - Only include questions asked by {client_company} or its representative, not by the Bankwell Financial Employee.\n",
    "        - Use verbatim quotes from the emails where possible. You may lightly paraphrase for clarity.\n",
    "        - Present this as a numbered list. \n",
    "        \n",
    "    Format your response like this:\n",
    "    \n",
    "    Client Questions:\n",
    "    1. \"[Exact client question]\"\n",
    "    2. \"[Exact client question]\"\n",
    "    3. \"[Paraphrased question if needed]\"\n",
    "    ...\n",
    "    \n",
    "    Email Thread to Analyze:\n",
    "    {recent_email_str}\n",
    "    \n",
    "    \"\"\"\n",
    "\n",
    "    # Create the messages to pass to the model\n",
    "    messages = [\n",
    "        HumanMessage(content=summary_prompt)\n",
    "    ]\n",
    "    \n",
    "    # Use the 'invoke' method for summarization\n",
    "    recent_client_questions = model.invoke(messages)\n",
    "\n",
    "\n",
    "    ############# Return the new state ###############\n",
    "\n",
    "    new_state = state.copy()\n",
    "    new_state['last_meeting_timestamp'] = last_meeting_date\n",
    "    new_state['recent_client_questions'] = recent_client_questions.content\n",
    "\n",
    "    \n",
    "    return new_state\n"
   ]
  },
  {
   "cell_type": "code",
   "execution_count": 23,
   "id": "dd722f84",
   "metadata": {
    "tags": []
   },
   "outputs": [],
   "source": [
    "# Define the gemini model for the tool\n",
    "model = get_model(settings.DEFAULT_MODEL)\n",
    "\n",
    "complete_graph_test = StateGraph(SupervisorState)\n",
    "\n",
    "complete_graph_test.add_node(\"retrieve_client_metadata\", retrieve_client_metadata)\n",
    "complete_graph_test.add_node(\"produce_recent_outlook_summary\", produce_recent_client_email_summary)\n",
    "complete_graph_test.add_node(\"produce_recent_client_questions\", produce_recent_client_questions)\n",
    "\n",
    "complete_graph_test.add_edge(START, \"retrieve_client_metadata\")\n",
    "complete_graph_test.add_edge(\"retrieve_client_metadata\", \"produce_recent_outlook_summary\")\n",
    "complete_graph_test.add_edge(\"produce_recent_outlook_summary\", \"produce_recent_client_questions\")\n",
    "complete_graph_test.add_edge(\"produce_recent_client_questions\", END)\n",
    "\n",
    "compiled_graph_test = complete_graph_test.compile()"
   ]
  },
  {
   "cell_type": "code",
   "execution_count": 24,
   "id": "2905f345-cc2f-4a43-9a0a-d83e95a0d1ab",
   "metadata": {},
   "outputs": [
    {
     "name": "stdout",
     "output_type": "stream",
     "text": [
      "Client Questions:\n",
      "\n",
      "1. \"Do you believe that current market trends will continue regarding small-cap consumer entertainment?\"\n",
      "2. \"Also, I am curious about our allocation in bond funds. Given current inflation, what is the likely impact on the bond market, i.e. should we consider moving further out of bonds?\"\n"
     ]
    }
   ],
   "source": [
    "init_state = {\n",
    "        'client_name': 'Jessica Palmer',\n",
    "        'client_email': 'jessica.palmer@hasbro.com',\n",
    "        'meeting_timestamp': '2024-02-04 14:30:00',\n",
    "        'meeting_description': 'Hasbro - Discuss Portfolio Diversification and Bond Strategy',\n",
    "        'report_length': 'short'   # 'short' , 'medium' , 'long' (default)\n",
    "    }\n",
    "result = compiled_graph_test.invoke(init_state)\n",
    "summary = result['recent_client_questions']\n",
    "full_report = summary \n",
    "print(full_report)"
   ]
  },
  {
   "cell_type": "code",
   "execution_count": null,
   "id": "98b18d21-8c58-45b7-9d3e-a9baa85156cd",
   "metadata": {},
   "outputs": [],
   "source": []
  }
 ],
 "metadata": {
  "environment": {
   "kernel": "conda-env-so_currensee-so_currensee",
   "name": "workbench-notebooks.m129",
   "type": "gcloud",
   "uri": "us-docker.pkg.dev/deeplearning-platform-release/gcr.io/workbench-notebooks:m129"
  },
  "kernelspec": {
   "display_name": "so_currensee",
   "language": "python",
   "name": "conda-env-so_currensee-so_currensee"
  },
  "language_info": {
   "codemirror_mode": {
    "name": "ipython",
    "version": 3
   },
   "file_extension": ".py",
   "mimetype": "text/x-python",
   "name": "python",
   "nbconvert_exporter": "python",
   "pygments_lexer": "ipython3",
   "version": "3.11.12"
  }
 },
 "nbformat": 4,
 "nbformat_minor": 5
}
