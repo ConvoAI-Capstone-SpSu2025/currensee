{
 "cells": [
  {
   "cell_type": "code",
   "execution_count": 1,
   "id": "c57516d8-1607-4573-bcdd-c78af6861c7e",
   "metadata": {},
   "outputs": [
    {
     "name": "stderr",
     "output_type": "stream",
     "text": [
      "2025-05-18 19:09:14,143 - currensee.core.secrets - INFO - PROJECT_ID not found, attempting to load from .env file\n",
      "2025-05-18 19:09:14,147 - currensee.core.secrets - INFO - Loaded environment from /home/jupyter/so_currensee/tools_test/currensee/.env\n",
      "2025-05-18 19:09:14,147 - currensee.core.secrets - INFO - SecretManager initialized with project_id: adsp-34002-on02-sopho-scribe\n"
     ]
    }
   ],
   "source": [
    "from currensee.agents.complete_graph import compiled_graph\n",
    "from currensee.agents.tools.finance_tools import generate_macro_table\n",
    "import warnings\n",
    "\n",
    "warnings.filterwarnings('ignore')"
   ]
  },
  {
   "cell_type": "markdown",
   "id": "0382d110-7666-4cf9-8664-a6ec2799f35e",
   "metadata": {},
   "source": [
    "## Define Initial State\n",
    "\n",
    "This is data that we should be retrieving from each meeting invite.\n",
    "\n",
    "**DO NOT** change this data until the CRM DB has been updated"
   ]
  },
  {
   "cell_type": "code",
   "execution_count": 2,
   "id": "dcc4c7df-7a99-4862-b4ff-e84ed8dfc48c",
   "metadata": {},
   "outputs": [],
   "source": [
    "init_state = {\n",
    "        'client_name': 'Adam Clay',\n",
    "        'client_email': 'adam.clay@compass.com',\n",
    "        'meeting_timestamp': '2024-03-26 11:00:00',\n",
    "        'meeting_description': 'Compass - Annual Credit Facility Review Meeting',\n",
    "        'report_length': 'long'\n",
    "    }"
   ]
  },
  {
   "cell_type": "code",
   "execution_count": 3,
   "id": "29f2077c-f68b-4ed1-b7ad-aad02c3599c7",
   "metadata": {},
   "outputs": [],
   "source": [
    "# Email prompt summary should be updated in the file \n",
    "# currensee/agents/tools/outlook_tools.py in the function produce_client_email_summary"
   ]
  },
  {
   "cell_type": "code",
   "execution_count": 4,
   "id": "d7668b28-243a-46ca-907c-a6445913a637",
   "metadata": {},
   "outputs": [],
   "source": [
    "# Finance news prompt summary should be updated in the file \n",
    "# currensee/agents/tools/finance_tools.py in the summarize_finance_outputs function"
   ]
  },
  {
   "cell_type": "code",
   "execution_count": 5,
   "id": "e71339a6-c098-47df-bb6d-acb6bcb1dc75",
   "metadata": {},
   "outputs": [
    {
     "name": "stdout",
     "output_type": "stream",
     "text": [
      "\n",
      "===============================\n",
      "Generating report with length: long\n",
      "===============================\n",
      "\n"
     ]
    }
   ],
   "source": [
    "result = compiled_graph.invoke(init_state)"
   ]
  },
  {
   "cell_type": "code",
   "execution_count": 6,
   "id": "c5ae11b7-32be-4660-b462-69fb01173a5d",
   "metadata": {},
   "outputs": [],
   "source": [
    "summary = result['final_summary']\n",
    "\n",
    "# === Add the macro snapshot\n",
    "macro_table = generate_macro_table()"
   ]
  },
  {
   "cell_type": "code",
   "execution_count": 7,
   "id": "7200286f-fc4e-4de0-bbc9-df9486c1cf9c",
   "metadata": {},
   "outputs": [
    {
     "name": "stdout",
     "output_type": "stream",
     "text": [
      "**Compass - Annual Credit Facility Review Meeting: Briefing Document**\n",
      "\n",
      "**1. Past Email Summary:**\n",
      "\n",
      "The $25 million revolving credit facility for Compass was established following initial contact at the Real Estate Finance conference.  An indicative term sheet was provided, followed by Compass's internal approval and the finalization of the loan agreement.  The facility has been successfully funded, with Compass reporting straightforward drawdowns and satisfactory reporting processes.\n",
      "\n",
      "**2. Recent Email Topics:**\n",
      "\n",
      "* Compass confirmed the credit facility is functioning smoothly, with easy drawdowns and clear reporting procedures.\n",
      "* Bankwell Financial re-affirmed the official closing and funding of the $25 million facility.\n",
      "* Bankwell Financial offered continued support and assistance to Compass regarding facility utilization.\n",
      "* Both Bankwell Financial and Compass expressed mutual satisfaction with the partnership and the efficient closing process.\n",
      "\n",
      "**3. Recent Client Questions:**\n",
      "\n",
      "1.  Compass reported that the credit facility is performing well, with uncomplicated drawdowns and clear reporting mechanisms.  No issues have been encountered to date.\n",
      "\n",
      "\n",
      "**4. Financial Overview:**\n",
      "\n",
      "Compass Inc. reported record Q1 2025 results, with a 28.7% year-over-year revenue increase to $1.4 billion, exceeding market growth. This growth is fueled by a 27.8% increase in transactions.  Significant acquisitions, including @properties and a potential acquisition of Warren Buffett's real estate brokerage unit, further bolster Compass's position.  However, the company faces challenges including past job cuts, an antitrust settlement, and competition with Zillow and Redfin.\n",
      "\n",
      "The broader economic climate presents a mixed picture. While concerns exist regarding a potential global recession driven by US tariffs and a projected GDP deceleration to 0.4% in Q1 2025, positive indicators such as record retail sales in March persist.  This uncertainty contrasts with strong performance from several other companies, including TSMC (54.7% year-over-year earnings increase), CRH PLC (11% adjusted EBITDA increase), ASML Holding NV (strong earnings growth projections), Samsung Electronics (stronger-than-expected Q1 results despite challenges in the chip sector), and SAP SE (significant cloud revenue growth).  The overall economic outlook remains unclear.\n"
     ]
    }
   ],
   "source": [
    "full_report = summary #+ \"\\n\\n### Macro Financial Snapshot\\n\\n\" + macro_table\n",
    "print(full_report)"
   ]
  },
  {
   "cell_type": "code",
   "execution_count": 8,
   "id": "1ae1f39b-e207-475f-bc60-94c89708b38a",
   "metadata": {},
   "outputs": [],
   "source": [
    "#Traceback\n",
    "\n",
    "client_industry_summary = result.get('client_industry_sources', [])\n",
    "macro_news_summary = result.get('macro_news_sources', [])\n",
    "\n",
    "# Function to format and print client_industry and macro_news summaries\n",
    "def print_summary(summary, summary_name):\n",
    "    print(f\"\\n{summary_name}:\\n{'='*len(summary_name)}\")\n",
    "    for article in summary:\n",
    "        title = article.get('title', 'No Title')\n",
    "        snippet = article.get('snippet', 'No Snippet')\n",
    "        date = article.get('date', 'No Date')\n",
    "        link = article.get('link', '')\n",
    "        \n",
    "        # Extract the source from the domain of the link\n",
    "        source = link.split(\"/\")[2] if link else 'No Source'\n",
    "        \n",
    "        # Format and print the information\n",
    "        print(f\"Title: {title}\")\n",
    "        print(f\"Snippet: {snippet}\")\n",
    "        print(f\"Date: {date}\")\n",
    "        print(f\"Source: {source}\")\n",
    "        print(f\"Link: {link}\")  # Displaying the full link\n",
    "        print(\"-\" * 40)  # Just a separator for readability\n",
    "\n",
    "# Function to format and print the holdings summary\n",
    "def print_holdings_summary(holdings_sources):\n",
    "    print(\"\\nClient Holdings Summary:\")\n",
    "    print(\"========================\")\n",
    "\n",
    "    for holding, articles in holdings_sources.items():\n",
    "        print(f\"\\n--- {holding} ---\")\n",
    "        if not articles:\n",
    "            print(\"No news found.\")\n",
    "            continue\n",
    "\n",
    "        for article in articles:\n",
    "            title = article.get('title', 'No Title')\n",
    "            snippet = article.get('snippet', 'No Snippet')\n",
    "            date = article.get('date', 'No Date')\n",
    "            link = article.get('link', '')\n",
    "            source = link.split(\"/\")[2] if link else 'No Source'\n",
    "\n",
    "            print(f\"Title: {title}\")\n",
    "            print(f\"Snippet: {snippet}\")\n",
    "            print(f\"Date: {date}\")\n",
    "            print(f\"Source: {source}\")\n",
    "            print(f\"Link: {link}\")\n",
    "            print(\"-\" * 40)\n",
    "            \n",
    "# Print the formatted summaries\n",
    "#print_summary(client_industry_summary, 'Client Industry Summary')\n",
    "#print_summary(macro_news_summary, 'Macro News Summary')\n",
    "#print_holdings_summary(result.get(\"client_holdings_sources\", {}))"
   ]
  },
  {
   "cell_type": "code",
   "execution_count": 9,
   "id": "d1faebb0-baea-4104-8945-5097ff593ec7",
   "metadata": {},
   "outputs": [],
   "source": [
    "from textwrap import wrap\n",
    "from currensee.core import get_model, settings\n",
    "\n",
    "def chunk_sources_with_metadata(sources: dict[str, list[dict]], max_length: int = 1000) -> dict[str, tuple[str, str]]:\n",
    "    \"\"\"\n",
    "    Chunk each source's snippet and retain the original link with each chunk.\n",
    "    Returns a dict like { 'Client Industry Summary [1.1]': (chunk_text, source_url) }\n",
    "    \"\"\"\n",
    "    chunked = {}\n",
    "    for category, entries in sources.items():\n",
    "        for i, entry in enumerate(entries):\n",
    "            snippet = entry.get(\"snippet\", \"\")\n",
    "            link = entry.get(\"link\", \"\")\n",
    "            title = entry.get(\"title\", \"\")\n",
    "\n",
    "            full_text = f\"{title}\\n{snippet}\".strip()\n",
    "            chunks = wrap(full_text, max_length, break_long_words=False, replace_whitespace=False)\n",
    "\n",
    "            for j, chunk in enumerate(chunks):\n",
    "                key = f\"{category} [{i+1}.{j+1}]\"\n",
    "                chunked[key] = (chunk.strip(), link)\n",
    "    return chunked"
   ]
  },
  {
   "cell_type": "code",
   "execution_count": 11,
   "id": "ec688ed0-bf3c-44dd-b66e-9664b09796b2",
   "metadata": {},
   "outputs": [],
   "source": [
    "def build_prompt_with_urls(summary: str, chunked_sources: dict[str, tuple[str, str]]) -> str:\n",
    "    formatted_sources = \"\\n\\n\".join(\n",
    "        f\"{key} (Source: {url}):\\n{chunk}\" for key, (chunk, url) in chunked_sources.items()\n",
    "    )\n",
    "\n",
    "    return f\"\"\"\n",
    "You are a financial analyst assistant. You generated the following summary:\n",
    "\n",
    "--- Summary ---\n",
    "{summary}\n",
    "\n",
    "You used these source snippets (each with its original URL):\n",
    "\n",
    "--- Sources ---\n",
    "{formatted_sources}\n",
    "\n",
    "Please map each claim from the summary to the URLs that support it. Format:\n",
    "\n",
    "- Summary claim: \"...\"\n",
    "  → Source URL(s): [\"https://...\"]\n",
    "\n",
    "Use only the URLs in the provided sources. Don't invent URLs.\n",
    "\"\"\"\n",
    "\n",
    "def format_holdings_sources(raw_sources):\n",
    "    if not raw_sources:\n",
    "        return []\n",
    "\n",
    "    formatted = []\n",
    "    for ticker, articles in raw_sources.items():\n",
    "        for article in articles:\n",
    "            formatted.append({\n",
    "                \"title\": article.get(\"title\", ticker),\n",
    "                \"snippet\": article.get(\"snippet\", \"\"),\n",
    "                \"link\": article.get(\"link\", \"\")\n",
    "            })\n",
    "    return formatted\n",
    "\n",
    "\n",
    "# Step 1: Get and chunk sources properly\n",
    "sources = {\n",
    "    \"Client Industry Summary\": result.get(\"client_industry_sources\", []),\n",
    "    \"Holdings Summary\": format_holdings_sources(result.get(\"client_holdings_sources\", {})),\n",
    "    \"Macro Summary\": result.get(\"macro_news_sources\", [])\n",
    "}\n",
    "\n",
    "chunked_sources = chunk_sources_with_metadata(sources)\n",
    "\n",
    "# Step 2: Compose prompt and ask LLM\n",
    "prompt = build_prompt_with_urls(summary, chunked_sources)\n",
    "\n",
    "# Step 3: Invoke LLM\n",
    "from langchain_core.messages import HumanMessage\n",
    "\n",
    "model = get_model(settings.DEFAULT_MODEL)\n",
    "response = model.invoke([HumanMessage(content=prompt)])\n"
   ]
  },
  {
   "cell_type": "code",
   "execution_count": 12,
   "id": "ced2d2fe-bd62-4760-9871-6e7b6adeb479",
   "metadata": {},
   "outputs": [],
   "source": [
    "import re\n",
    "\n",
    "# Step 3.5: Filter the output to remove claims with no supporting URLs\n",
    "def filter_empty_sources(response_text: str) -> str:\n",
    "    # Split the output into individual claim blocks\n",
    "    claim_blocks = re.split(r\"\\n(?=- Summary claim:)\", response_text.strip())\n",
    "\n",
    "    # Keep only those blocks that contain at least one URL\n",
    "    filtered_blocks = [\n",
    "        block for block in claim_blocks\n",
    "        if not re.search(r'→ Source URL\\(s\\):\\s*\\[\\s*\\]\\s*(\\*.*\\*)?', block)\n",
    "    ]\n",
    "\n",
    "    return \"\\n\\n\".join(filtered_blocks)\n"
   ]
  },
  {
   "cell_type": "code",
   "execution_count": null,
   "id": "cfe1475c-4eb2-46b6-a67e-1705a0e023a6",
   "metadata": {},
   "outputs": [],
   "source": []
  },
  {
   "cell_type": "code",
   "execution_count": 13,
   "id": "ccfd4d63-9a8a-40c9-8ebe-9d5e8c2f390c",
   "metadata": {},
   "outputs": [],
   "source": [
    "def extract_claim_url_pairs(response_text: str) -> list[tuple[str, list[str]]]:\n",
    "    \"\"\"\n",
    "    Extracts a list of (claim, urls) from the LLM's response.\n",
    "    \"\"\"\n",
    "    claim_url_pairs = []\n",
    "    blocks = re.findall(r'- Summary claim:\\s*\"(.*?)\"\\s*→ Source URL\\(s\\):\\s*(\\[.*?\\])', response_text, re.DOTALL)\n",
    "    for claim, urls_str in blocks:\n",
    "        try:\n",
    "            urls = eval(urls_str, {\"__builtins__\": None}, {})\n",
    "            if isinstance(urls, list) and all(isinstance(u, str) for u in urls):\n",
    "                claim_url_pairs.append((claim.strip(), urls))\n",
    "        except Exception:\n",
    "            continue\n",
    "    return claim_url_pairs"
   ]
  },
  {
   "cell_type": "code",
   "execution_count": null,
   "id": "2fad5411-3895-47d6-afe6-8e625bcfb01f",
   "metadata": {},
   "outputs": [],
   "source": []
  },
  {
   "cell_type": "code",
   "execution_count": null,
   "id": "9a035c9a-0728-4998-afc3-0fb06d58a387",
   "metadata": {},
   "outputs": [],
   "source": []
  },
  {
   "cell_type": "code",
   "execution_count": 14,
   "id": "3ccf1848-946a-4cfb-9919-9207416f9e96",
   "metadata": {},
   "outputs": [],
   "source": [
    "def insert_links_into_summary(summary: str, claim_url_pairs: list[tuple[str, list[str]]]) -> str:\n",
    "    \"\"\"\n",
    "    Inserts Markdown-style [Source] links after corresponding claims in the summary.\n",
    "    \"\"\"\n",
    "    updated_summary = summary\n",
    "\n",
    "    for claim, urls in claim_url_pairs:\n",
    "        if len(urls) == 1:\n",
    "            link_text = f\" ([Source]({urls[0]}))\"\n",
    "        else:\n",
    "            link_text = \" (\" + \", \".join(\n",
    "                f\"[Source {i+1}]({url})\" for i, url in enumerate(urls)\n",
    "            ) + \")\"\n",
    "        \n",
    "        # Escape regex special characters in the claim text\n",
    "        pattern = re.escape(claim)\n",
    "        replacement = f'{claim}{link_text}'\n",
    "        \n",
    "        updated_summary, count = re.subn(pattern, replacement, updated_summary, count=1)\n",
    "        if count == 0:\n",
    "            print(f\"⚠️ Could not find claim in summary: '{claim}'\")\n",
    "\n",
    "    return updated_summary"
   ]
  },
  {
   "cell_type": "code",
   "execution_count": null,
   "id": "a63c777e-776c-44b5-aa46-034a96a5b8b6",
   "metadata": {},
   "outputs": [],
   "source": []
  },
  {
   "cell_type": "code",
   "execution_count": 15,
   "id": "755652f8-9691-440d-bf4e-62c95fc06688",
   "metadata": {},
   "outputs": [],
   "source": [
    "response = model.invoke([HumanMessage(content=prompt)])\n",
    "filtered_output = filter_empty_sources(response.content)\n",
    "claim_url_pairs = extract_claim_url_pairs(filtered_output)\n",
    "linked_summary = insert_links_into_summary(summary, claim_url_pairs)"
   ]
  },
  {
   "cell_type": "code",
   "execution_count": 16,
   "id": "5f9f84fc-ea3e-410a-b850-81b43cec42ac",
   "metadata": {},
   "outputs": [],
   "source": [
    "def insert_links_into_summary_html(summary: str, claim_url_pairs: list[tuple[str, list[str]]]) -> str:\n",
    "    \"\"\"\n",
    "    Inserts HTML-style <a> links after claims and returns a fully HTML-formatted summary.\n",
    "    \"\"\"\n",
    "    updated_summary = summary\n",
    "\n",
    "    for claim, urls in claim_url_pairs:\n",
    "        if len(urls) == 1:\n",
    "            link_text = f' (<a href=\"{urls[0]}\" target=\"_blank\" rel=\"noopener noreferrer\" title=\"\">Source</a>)'\n",
    "        else:\n",
    "            link_text = \" (\" + \", \".join(\n",
    "                f'<a href=\"{url}\" target=\"_blank\" rel=\"noopener noreferrer\" title=\"\">Source {i+1}</a>'\n",
    "                for i, url in enumerate(urls)\n",
    "            ) + \")\"\n",
    "\n",
    "        pattern = re.escape(claim)\n",
    "        replacement = f'{claim}{link_text}'\n",
    "\n",
    "        updated_summary, count = re.subn(pattern, replacement, updated_summary, count=1)\n",
    "        if count == 0:\n",
    "            print(f\"⚠️ Could not find claim in summary: '{claim}'\")\n",
    "\n",
    "    return updated_summary"
   ]
  },
  {
   "cell_type": "code",
   "execution_count": 17,
   "id": "b38bb091-8e40-420a-a66b-7f33700cd292",
   "metadata": {},
   "outputs": [],
   "source": [
    "\n",
    "def format_html_paragraphs(text: str) -> str:\n",
    "    lines = text.strip().split(\"\\n\")\n",
    "    html_lines = []\n",
    "    for line in lines:\n",
    "        if line.startswith(\"* \"):\n",
    "            html_lines.append(f\"<li>{line[2:]}</li>\")\n",
    "        elif line.strip().startswith(\"**\") and line.strip().endswith(\"**\"):\n",
    "            html_lines.append(f\"<h3>{line.strip('* ')}</h3>\")\n",
    "        elif line.strip() == \"\":\n",
    "            html_lines.append(\"<br>\")\n",
    "        else:\n",
    "            html_lines.append(f\"<p>{line.strip()}</p>\")\n",
    "    return \"\\n\".join(html_lines)\n",
    "linked_summary = insert_links_into_summary_html(summary, claim_url_pairs)\n",
    "final_html = format_html_paragraphs(linked_summary)\n",
    "\n",
    "with open(\"annotated_summary.html\", \"w\", encoding=\"utf-8\") as f:\n",
    "    f.write(f\"<html><body>{final_html}</body></html>\")"
   ]
  },
  {
   "cell_type": "code",
   "execution_count": null,
   "id": "184360a9-52d7-4450-8e08-b5f3db7171f9",
   "metadata": {},
   "outputs": [],
   "source": []
  },
  {
   "cell_type": "code",
   "execution_count": null,
   "id": "357cd547-b597-431e-a233-ee3bb10daeab",
   "metadata": {},
   "outputs": [],
   "source": []
  },
  {
   "cell_type": "code",
   "execution_count": null,
   "id": "fa5969e5-3294-4a60-aa49-75356207414c",
   "metadata": {},
   "outputs": [],
   "source": []
  }
 ],
 "metadata": {
  "environment": {
   "kernel": "conda-env-so_currensee-so_currensee",
   "name": "workbench-notebooks.m129",
   "type": "gcloud",
   "uri": "us-docker.pkg.dev/deeplearning-platform-release/gcr.io/workbench-notebooks:m129"
  },
  "kernelspec": {
   "display_name": "so_currensee",
   "language": "python",
   "name": "conda-env-so_currensee-so_currensee"
  },
  "language_info": {
   "codemirror_mode": {
    "name": "ipython",
    "version": 3
   },
   "file_extension": ".py",
   "mimetype": "text/x-python",
   "name": "python",
   "nbconvert_exporter": "python",
   "pygments_lexer": "ipython3",
   "version": "3.11.12"
  }
 },
 "nbformat": 4,
 "nbformat_minor": 5
}
