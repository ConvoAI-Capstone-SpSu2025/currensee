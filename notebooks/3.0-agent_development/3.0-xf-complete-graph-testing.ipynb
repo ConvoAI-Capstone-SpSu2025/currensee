{
 "cells": [
  {
   "cell_type": "code",
   "execution_count": null,
   "id": "c57516d8-1607-4573-bcdd-c78af6861c7e",
   "metadata": {},
   "outputs": [],
   "source": [
    "from currensee.agents.complete_graph import compiled_graph\n",
    "from currensee.agents.tools.finance_tools import generate_macro_table\n",
    "from currensee.utils.output_utils import generate_report, format_news_summary_to_html, format_paragraph_summary_to_html, save_html_to_file, convert_html_to_pdf\n",
    "import warnings\n",
    "import joblib\n",
    "\n",
    "warnings.filterwarnings('ignore')"
   ]
  },
  {
   "cell_type": "code",
   "execution_count": null,
   "id": "4be3b97a-8f20-41ad-acfb-3a6759c8cc9c",
   "metadata": {},
   "outputs": [],
   "source": [
    "from dotenv import load_dotenv\n",
    "load_dotenv()"
   ]
  },
  {
   "cell_type": "markdown",
   "id": "0382d110-7666-4cf9-8664-a6ec2799f35e",
   "metadata": {},
   "source": [
    "## Define Initial State\n",
    "\n",
    "This is data that we should be retrieving from each meeting invite.\n",
    "\n",
    "**DO NOT** change this data until the CRM DB has been updated"
   ]
  },
  {
   "cell_type": "code",
   "execution_count": null,
   "id": "dcc4c7df-7a99-4862-b4ff-e84ed8dfc48c",
   "metadata": {},
   "outputs": [],
   "source": [
    "init_state = {\n",
    "        'client_name': 'Adam Clay',\n",
    "        'client_email': 'adam.clay@compass.com',\n",
    "        'meeting_timestamp': '2024-03-26 11:00:00',\n",
    "        'meeting_description': 'Compass - Annual Credit Facility Review Meeting'\n",
    "    }"
   ]
  },
  {
   "cell_type": "markdown",
   "id": "6467fae6-6295-4dc3-bfcf-6a0ae93389cf",
   "metadata": {},
   "source": [
    "## Format Output"
   ]
  },
  {
   "cell_type": "markdown",
   "id": "59724ecb-cc83-4066-a6ef-a8238b26cc53",
   "metadata": {},
   "source": [
    "The format tool is currently under xf_currensee/currensee/currensee/agents/tools/format_tool.py"
   ]
  },
  {
   "cell_type": "code",
   "execution_count": null,
   "id": "b2882465-4154-44a3-ba74-99793a5d74f3",
   "metadata": {},
   "outputs": [],
   "source": [
    "# Run this line will save the result\n",
    "#joblib.dump(result, 'result.joblib')"
   ]
  },
  {
   "cell_type": "code",
   "execution_count": null,
   "id": "8063fbf1-ef27-4f02-b502-1c355a7d6968",
   "metadata": {},
   "outputs": [],
   "source": [
    "#result = joblib.load('result.joblib')"
   ]
  },
  {
   "cell_type": "code",
   "execution_count": null,
   "id": "66645ae6-cbf2-4323-9081-009f6c497969",
   "metadata": {},
   "outputs": [],
   "source": [
    "result = compiled_graph.invoke(init_state)"
   ]
  },
  {
   "cell_type": "code",
   "execution_count": null,
   "id": "df1eeec4-d26f-4d78-9519-303586cc3509",
   "metadata": {},
   "outputs": [],
   "source": [
    "client_report = generate_report(result)"
   ]
  },
  {
   "cell_type": "code",
   "execution_count": null,
   "id": "3c96021f-5ed8-4741-80f8-8bedbc46e882",
   "metadata": {},
   "outputs": [],
   "source": [
    "#Run this line will save a client_report_sample.html file under 3.0-agent_development folder\n",
    "save_html_to_file(client_report, 'client_report_sample.html')"
   ]
  },
  {
   "cell_type": "code",
   "execution_count": null,
   "id": "9794a945-7ddc-44e6-8a4b-ab16ae0b5f22",
   "metadata": {},
   "outputs": [],
   "source": [
    "#Run this line will save a client_report_sample.pdf file under 3.0-agent_development folder\n",
    "convert_html_to_pdf(client_report, \"client_report_sample.pdf\")"
   ]
  },
  {
   "cell_type": "markdown",
   "id": "391e8b6a-f772-4cc7-8094-4cd9923471d2",
   "metadata": {},
   "source": [
    "## Additional Test"
   ]
  },
  {
   "cell_type": "code",
   "execution_count": null,
   "id": "339b57d8-092a-44c2-b94b-fc1f90b67b87",
   "metadata": {},
   "outputs": [],
   "source": [
    "init_state = {\n",
    "        'client_name': 'Jennifer Phelps',\n",
    "        'client_email': 'jennifer.phelps@aerovironment.com',\n",
    "        'meeting_timestamp': '2018-07-24 14:00:00',\n",
    "        'meeting_description': 'AeroVironment - Initial Discussion on Financial Needs'\n",
    "    }"
   ]
  },
  {
   "cell_type": "code",
   "execution_count": null,
   "id": "a53ca61c-61f2-4ebc-a150-b9ca372681a0",
   "metadata": {},
   "outputs": [],
   "source": [
    "result_2 = compiled_graph.invoke(init_state)"
   ]
  },
  {
   "cell_type": "code",
   "execution_count": null,
   "id": "068e2bbd-0ee4-44b4-84a5-178119ebdcf3",
   "metadata": {},
   "outputs": [],
   "source": [
    "client_report_2 = generate_report(result_2)"
   ]
  },
  {
   "cell_type": "code",
   "execution_count": null,
   "id": "eca90644-4484-40d2-b556-117225c594ac",
   "metadata": {},
   "outputs": [],
   "source": [
    "save_html_to_file(client_report_2, 'client_report_sample_2.html')"
   ]
  },
  {
   "cell_type": "code",
   "execution_count": null,
   "id": "c755e7fb-b213-4276-ba8c-20c6fa9d5f8b",
   "metadata": {},
   "outputs": [],
   "source": []
  }
 ],
 "metadata": {
  "environment": {
   "kernel": "conda-env-gf_currensee-gf_currensee",
   "name": "workbench-notebooks.m129",
   "type": "gcloud",
   "uri": "us-docker.pkg.dev/deeplearning-platform-release/gcr.io/workbench-notebooks:m129"
  },
  "kernelspec": {
   "display_name": "gf_currensee",
   "language": "python",
   "name": "conda-env-gf_currensee-gf_currensee"
  },
  "language_info": {
   "codemirror_mode": {
    "name": "ipython",
    "version": 3
   },
   "file_extension": ".py",
   "mimetype": "text/x-python",
   "name": "python",
   "nbconvert_exporter": "python",
   "pygments_lexer": "ipython3",
   "version": "3.11.12"
  }
 },
 "nbformat": 4,
 "nbformat_minor": 5
}
