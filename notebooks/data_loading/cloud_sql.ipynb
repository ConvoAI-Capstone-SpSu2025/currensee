{
 "cells": [
  {
   "cell_type": "markdown",
   "id": "1cc7edf7-ab52-402a-9a2f-180423c151a8",
   "metadata": {},
   "source": [
    "# Sample CloudSql Connection"
   ]
  },
  {
   "cell_type": "markdown",
   "id": "d6e41979-b411-4577-a8e0-4a4dbdee0f98",
   "metadata": {},
   "source": [
    "# Need to set up for each instance - Add your VM's IP to the Authorized Networks\n",
    "**1. Find the external IP of your JupyterLab VM**\n",
    " * Go to VM Instances\n",
    " * Find your JupyterLab VM\n",
    " * Copy the External IP address (looks like 34.91.100.45).\n",
    "\n",
    "**2. Add the VM's IP to your Cloud SQL authorized networks**\n",
    "* Go to Cloud SQL instances. https://console.cloud.google.com/compute/instances?project=adsp-34002-on02-sopho-scribe&authuser=1\n",
    "* Click your instance.\n",
    "* Click Connections in the left sidebar.\n",
    "* Scroll to Authorized networks → Add network.\n",
    "* Name: anything like jupyterlab-vm\n",
    "* Network: paste the external IP you just copied (e.g., 34.91.100.45/32)\n",
    "* IMPORTANT: Add /32 to allow only that single IP.\n",
    "* Click Save.\n",
    "\n",
    "It will take ~30 seconds to update."
   ]
  },
  {
   "cell_type": "code",
   "execution_count": null,
   "id": "6c777fa9-44e9-4f00-a6ba-ea9f5eb39497",
   "metadata": {
    "tags": []
   },
   "outputs": [],
   "source": [
    "#%poetry add -q google-cloud-secret-manager==2.23.3\n",
    "#%poetry add -q SQLAlchemy==2.0.40"
   ]
  },
  {
   "cell_type": "code",
   "execution_count": null,
   "id": "ac245ba5-c8af-4df4-bd49-140e68d41439",
   "metadata": {
    "tags": []
   },
   "outputs": [],
   "source": [
    "#%poetry add psycopg2-binary sqlalchemy pandas"
   ]
  },
  {
   "cell_type": "code",
   "execution_count": null,
   "id": "51ca0f95-d1f8-487e-b9b2-abdf685f19cf",
   "metadata": {
    "tags": []
   },
   "outputs": [],
   "source": [
    "from google.cloud import secretmanager\n",
    "import pandas as pd\n",
    "from sqlalchemy import text\n",
    "from currensee.utils.db_utils import create_pg_engine"
   ]
  },
  {
   "cell_type": "code",
   "execution_count": null,
   "id": "f741e178-269f-4c59-a915-9dde694df03b",
   "metadata": {},
   "outputs": [],
   "source": []
  },
  {
   "cell_type": "markdown",
   "id": "bb578b85-e907-48cb-9807-c0787910c2e0",
   "metadata": {},
   "source": [
    "#### Create SQLAlchemy engine"
   ]
  },
  {
   "cell_type": "code",
   "execution_count": null,
   "id": "beb52a9b-198d-42d8-8765-ed2263591e6d",
   "metadata": {},
   "outputs": [],
   "source": [
    "db_name = \"postgres\""
   ]
  },
  {
   "cell_type": "code",
   "execution_count": null,
   "id": "815feba1-4fa8-4807-aacc-a9e383812cbe",
   "metadata": {},
   "outputs": [],
   "source": [
    "engine = create_pg_engine(\n",
    "   db_name = db_name\n",
    ")"
   ]
  },
  {
   "cell_type": "markdown",
   "id": "4c679fd7-953f-4e1b-b155-31d730348d0e",
   "metadata": {},
   "source": [
    "#### Generate & insert sample data"
   ]
  },
  {
   "cell_type": "code",
   "execution_count": null,
   "id": "ce2b2452-913a-4205-a395-9feacd4cd306",
   "metadata": {},
   "outputs": [],
   "source": [
    "# Create sample data\n",
    "sample_data = pd.DataFrame({\n",
    "    'name': ['Alice', 'Bob', 'Charlie'],\n",
    "    'score': [88, 92, 85]\n",
    "})\n",
    "\n",
    "# Create table and insert data\n",
    "with engine.connect() as conn:\n",
    "    conn.execute(text(\"\"\"\n",
    "        CREATE TABLE IF NOT EXISTS test_scores (\n",
    "            id SERIAL PRIMARY KEY,\n",
    "            name VARCHAR(100),\n",
    "            score INT\n",
    "        )\n",
    "    \"\"\"))\n",
    "\n",
    "    for _, row in sample_data.iterrows():\n",
    "        conn.execute(\n",
    "            text(\"INSERT INTO test_scores (name, score) VALUES (:name, :score)\"),\n",
    "            {\"name\": row['name'], \"score\": row['score']}\n",
    "        )"
   ]
  },
  {
   "cell_type": "markdown",
   "id": "eaf16d0a-f2aa-4ff2-919f-626a3c1e824a",
   "metadata": {},
   "source": [
    "#### Read back the data"
   ]
  },
  {
   "cell_type": "code",
   "execution_count": null,
   "id": "5857d229-d6f5-430a-99ba-1ec74d065b31",
   "metadata": {
    "tags": []
   },
   "outputs": [],
   "source": [
    "df_result = pd.read_sql(\"SELECT * FROM test_scores\", con=engine)\n",
    "print(df_result)"
   ]
  },
  {
   "cell_type": "code",
   "execution_count": null,
   "id": "7364c2e8-a811-4f72-a217-9d812829249c",
   "metadata": {},
   "outputs": [],
   "source": []
  },
  {
   "cell_type": "code",
   "execution_count": null,
   "id": "3465b8b6-a3b2-4f7a-b84b-ec78f0193812",
   "metadata": {},
   "outputs": [],
   "source": []
  },
  {
   "cell_type": "code",
   "execution_count": null,
   "id": "f90a0f5c-2668-4a0a-8df9-03e60bc84a78",
   "metadata": {},
   "outputs": [],
   "source": []
  },
  {
   "cell_type": "code",
   "execution_count": null,
   "id": "8b98d55d-1dda-4324-ac44-f347dbfff14f",
   "metadata": {
    "tags": []
   },
   "outputs": [],
   "source": [
    "import datetime\n",
    "import pytz\n",
    "\n",
    "print(f\"Notebook last execution time: {datetime.datetime.now(pytz.timezone('US/Central')).strftime('%a, %d %B %Y %H:%M:%S')}\")"
   ]
  },
  {
   "cell_type": "code",
   "execution_count": null,
   "id": "092fa61c-b037-4e3c-87f9-0179614722b3",
   "metadata": {},
   "outputs": [],
   "source": []
  }
 ],
 "metadata": {
  "environment": {
   "kernel": "conda-env-gf_currensee-gf_currensee",
   "name": "workbench-notebooks.m129",
   "type": "gcloud",
   "uri": "us-docker.pkg.dev/deeplearning-platform-release/gcr.io/workbench-notebooks:m129"
  },
  "kernelspec": {
   "display_name": "gf_currensee",
   "language": "python",
   "name": "conda-env-gf_currensee-gf_currensee"
  },
  "language_info": {
   "codemirror_mode": {
    "name": "ipython",
    "version": 3
   },
   "file_extension": ".py",
   "mimetype": "text/x-python",
   "name": "python",
   "nbconvert_exporter": "python",
   "pygments_lexer": "ipython3",
   "version": "3.11.12"
  }
 },
 "nbformat": 4,
 "nbformat_minor": 5
}
