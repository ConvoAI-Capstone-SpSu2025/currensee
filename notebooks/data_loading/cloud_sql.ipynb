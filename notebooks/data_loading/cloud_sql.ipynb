{
 "cells": [
  {
   "cell_type": "markdown",
   "id": "1cc7edf7-ab52-402a-9a2f-180423c151a8",
   "metadata": {},
   "source": [
    "# Sample CloudSql Connection"
   ]
  },
  {
   "cell_type": "markdown",
   "id": "d6e41979-b411-4577-a8e0-4a4dbdee0f98",
   "metadata": {},
   "source": [
    "# Need to set up for each instance - Add your VM's IP to the Authorized Networks\n",
    "**1. Find the external IP of your JupyterLab VM**\n",
    " * Go to VM Instances\n",
    " * Find your JupyterLab VM\n",
    " * Copy the External IP address (looks like 34.91.100.45).\n",
    "\n",
    "**2. Add the VM's IP to your Cloud SQL authorized networks**\n",
    "* Go to Cloud SQL instances. https://console.cloud.google.com/compute/instances?project=adsp-34002-on02-sopho-scribe&authuser=1\n",
    "* Click your instance.\n",
    "* Click Connections in the left sidebar.\n",
    "* Scroll to Authorized networks → Add network.\n",
    "* Name: anything like jupyterlab-vm\n",
    "* Network: paste the external IP you just copied (e.g., 34.91.100.45/32)\n",
    "* IMPORTANT: Add /32 to allow only that single IP.\n",
    "* Click Save.\n",
    "\n",
    "It will take ~30 seconds to update."
   ]
  },
  {
   "cell_type": "code",
   "execution_count": 13,
   "id": "6c777fa9-44e9-4f00-a6ba-ea9f5eb39497",
   "metadata": {
    "tags": []
   },
   "outputs": [
    {
     "name": "stdout",
     "output_type": "stream",
     "text": [
      "Note: you may need to restart the kernel to use updated packages.\n",
      "Note: you may need to restart the kernel to use updated packages.\n"
     ]
    }
   ],
   "source": [
    "#%pip install -q google-cloud-secret-manager==2.23.3\n",
    "#%pip install -q SQLAlchemy==2.0.40"
   ]
  },
  {
   "cell_type": "code",
   "execution_count": 1,
   "id": "ac245ba5-c8af-4df4-bd49-140e68d41439",
   "metadata": {
    "tags": []
   },
   "outputs": [
    {
     "name": "stdout",
     "output_type": "stream",
     "text": [
      "Requirement already satisfied: psycopg2-binary in /opt/conda/lib/python3.10/site-packages (2.9.10)\n",
      "Requirement already satisfied: sqlalchemy in /opt/conda/lib/python3.10/site-packages (2.0.40)\n",
      "Requirement already satisfied: pandas in /opt/conda/lib/python3.10/site-packages (2.2.3)\n",
      "Requirement already satisfied: greenlet>=1 in /opt/conda/lib/python3.10/site-packages (from sqlalchemy) (3.1.1)\n",
      "Requirement already satisfied: typing-extensions>=4.6.0 in /opt/conda/lib/python3.10/site-packages (from sqlalchemy) (4.13.0)\n",
      "Requirement already satisfied: numpy>=1.22.4 in /opt/conda/lib/python3.10/site-packages (from pandas) (2.1.3)\n",
      "Requirement already satisfied: python-dateutil>=2.8.2 in /opt/conda/lib/python3.10/site-packages (from pandas) (2.9.0.post0)\n",
      "Requirement already satisfied: pytz>=2020.1 in /opt/conda/lib/python3.10/site-packages (from pandas) (2025.2)\n",
      "Requirement already satisfied: tzdata>=2022.7 in /opt/conda/lib/python3.10/site-packages (from pandas) (2025.2)\n",
      "Requirement already satisfied: six>=1.5 in /opt/conda/lib/python3.10/site-packages (from python-dateutil>=2.8.2->pandas) (1.17.0)\n",
      "Note: you may need to restart the kernel to use updated packages.\n"
     ]
    }
   ],
   "source": [
    "%pip install psycopg2-binary sqlalchemy pandas"
   ]
  },
  {
   "cell_type": "code",
   "execution_count": 2,
   "id": "51ca0f95-d1f8-487e-b9b2-abdf685f19cf",
   "metadata": {
    "tags": []
   },
   "outputs": [],
   "source": [
    "from google.cloud import secretmanager\n",
    "import pandas as pd\n",
    "from sqlalchemy import create_engine, text"
   ]
  },
  {
   "cell_type": "markdown",
   "id": "88de046d-bc93-48e0-aaef-4fed4c3c3f4e",
   "metadata": {},
   "source": [
    "#### Retrieve credentials from Secret Manager"
   ]
  },
  {
   "cell_type": "code",
   "execution_count": 3,
   "id": "536e0efd-636d-4b51-9a2a-36070d0f3860",
   "metadata": {
    "tags": []
   },
   "outputs": [],
   "source": [
    "def access_secret(secret_id):\n",
    "    client = secretmanager.SecretManagerServiceClient()\n",
    "    name = f\"projects/{PROJECT_ID}/secrets/{secret_id}/versions/latest\"\n",
    "    response = client.access_secret_version(name=name)\n",
    "    return response.payload.data.decode(\"UTF-8\")"
   ]
  },
  {
   "cell_type": "markdown",
   "id": "3501266e-116b-405a-8049-66de13f89d5a",
   "metadata": {},
   "source": [
    "#### Configuration"
   ]
  },
  {
   "cell_type": "code",
   "execution_count": 5,
   "id": "6d0141dc-a234-4366-b1f7-e0a567118785",
   "metadata": {},
   "outputs": [],
   "source": [
    "PROJECT_ID = 'adsp-34002-on02-sopho-scribe'\n",
    "REGION = 'us-central1'\n",
    "#DB_NAME = 'crm'\n",
    "DB_NAME = 'postgres'\n",
    "DB_USER = access_secret('cloudSqlUser')\n",
    "DB_PASSWORD = access_secret('cloudSqlUserPassword')\n",
    "DB_HOST = '35.232.92.211'\n",
    "DB_PORT = '5432'"
   ]
  },
  {
   "cell_type": "code",
   "execution_count": 4,
   "id": "0b5446c2-fb58-446a-bc39-205f89103a4a",
   "metadata": {
    "tags": []
   },
   "outputs": [
    {
     "name": "stdout",
     "output_type": "stream",
     "text": [
      "                               now\n",
      "0 2025-04-24 06:10:36.628546+00:00\n"
     ]
    }
   ],
   "source": [
    "from sqlalchemy import create_engine\n",
    "import pandas as pd\n",
    "\n",
    "db_user = \"lilycampbell\"\n",
    "db_pass = \"moneypenny\"\n",
    "db_name = \"crm\"\n",
    "host = '35.232.92.211'  \n",
    "port = 5432\n",
    "\n",
    "engine = create_engine(f\"postgresql://{db_user}:{db_pass}@{host}:{port}/{db_name}\")\n",
    "\n",
    "# Test connection\n",
    "df = pd.read_sql(\"SELECT NOW()\", engine)\n",
    "print(df)"
   ]
  },
  {
   "cell_type": "markdown",
   "id": "bb578b85-e907-48cb-9807-c0787910c2e0",
   "metadata": {},
   "source": [
    "#### Create SQLAlchemy engine"
   ]
  },
  {
   "cell_type": "code",
   "execution_count": 6,
   "id": "815feba1-4fa8-4807-aacc-a9e383812cbe",
   "metadata": {},
   "outputs": [],
   "source": [
    "engine = create_engine(\n",
    "    f'postgresql+psycopg2://{DB_USER}:{DB_PASSWORD}@{DB_HOST}:{DB_PORT}/{DB_NAME}',\n",
    "    connect_args={'sslmode': 'require'}\n",
    ")"
   ]
  },
  {
   "cell_type": "markdown",
   "id": "4c679fd7-953f-4e1b-b155-31d730348d0e",
   "metadata": {},
   "source": [
    "#### Generate & insert sample data"
   ]
  },
  {
   "cell_type": "code",
   "execution_count": 7,
   "id": "ce2b2452-913a-4205-a395-9feacd4cd306",
   "metadata": {},
   "outputs": [],
   "source": [
    "# Create sample data\n",
    "sample_data = pd.DataFrame({\n",
    "    'name': ['Alice', 'Bob', 'Charlie'],\n",
    "    'score': [88, 92, 85]\n",
    "})\n",
    "\n",
    "# Create table and insert data\n",
    "with engine.connect() as conn:\n",
    "    conn.execute(text(\"\"\"\n",
    "        CREATE TABLE IF NOT EXISTS test_scores (\n",
    "            id SERIAL PRIMARY KEY,\n",
    "            name VARCHAR(100),\n",
    "            score INT\n",
    "        )\n",
    "    \"\"\"))\n",
    "\n",
    "    for _, row in sample_data.iterrows():\n",
    "        conn.execute(\n",
    "            text(\"INSERT INTO test_scores (name, score) VALUES (:name, :score)\"),\n",
    "            {\"name\": row['name'], \"score\": row['score']}\n",
    "        )"
   ]
  },
  {
   "cell_type": "markdown",
   "id": "eaf16d0a-f2aa-4ff2-919f-626a3c1e824a",
   "metadata": {},
   "source": [
    "#### Read back the data"
   ]
  },
  {
   "cell_type": "code",
   "execution_count": 8,
   "id": "5857d229-d6f5-430a-99ba-1ec74d065b31",
   "metadata": {
    "tags": []
   },
   "outputs": [
    {
     "name": "stdout",
     "output_type": "stream",
     "text": [
      "   id     name  score\n",
      "0   1    Alice     88\n",
      "1   2      Bob     92\n",
      "2   3  Charlie     85\n"
     ]
    }
   ],
   "source": [
    "df_result = pd.read_sql(\"SELECT * FROM test_scores\", con=engine)\n",
    "print(df_result)"
   ]
  },
  {
   "cell_type": "code",
   "execution_count": null,
   "id": "7364c2e8-a811-4f72-a217-9d812829249c",
   "metadata": {},
   "outputs": [],
   "source": []
  },
  {
   "cell_type": "code",
   "execution_count": null,
   "id": "3465b8b6-a3b2-4f7a-b84b-ec78f0193812",
   "metadata": {},
   "outputs": [],
   "source": []
  },
  {
   "cell_type": "code",
   "execution_count": null,
   "id": "f90a0f5c-2668-4a0a-8df9-03e60bc84a78",
   "metadata": {},
   "outputs": [],
   "source": []
  },
  {
   "cell_type": "code",
   "execution_count": 9,
   "id": "8b98d55d-1dda-4324-ac44-f347dbfff14f",
   "metadata": {
    "tags": []
   },
   "outputs": [
    {
     "name": "stdout",
     "output_type": "stream",
     "text": [
      "Notebook last execution time: Thu, 24 April 2025 01:12:16\n"
     ]
    }
   ],
   "source": [
    "import datetime\n",
    "import pytz\n",
    "\n",
    "print(f\"Notebook last execution time: {datetime.datetime.now(pytz.timezone('US/Central')).strftime('%a, %d %B %Y %H:%M:%S')}\")"
   ]
  },
  {
   "cell_type": "code",
   "execution_count": null,
   "id": "092fa61c-b037-4e3c-87f9-0179614722b3",
   "metadata": {},
   "outputs": [],
   "source": []
  }
 ],
 "metadata": {
  "environment": {
   "kernel": "conda-base-py",
   "name": "workbench-notebooks.m129",
   "type": "gcloud",
   "uri": "us-docker.pkg.dev/deeplearning-platform-release/gcr.io/workbench-notebooks:m129"
  },
  "kernelspec": {
   "display_name": "Python 3 (ipykernel)",
   "language": "python",
   "name": "conda-base-py"
  },
  "language_info": {
   "codemirror_mode": {
    "name": "ipython",
    "version": 3
   },
   "file_extension": ".py",
   "mimetype": "text/x-python",
   "name": "python",
   "nbconvert_exporter": "python",
   "pygments_lexer": "ipython3",
   "version": "3.10.16"
  }
 },
 "nbformat": 4,
 "nbformat_minor": 5
}
