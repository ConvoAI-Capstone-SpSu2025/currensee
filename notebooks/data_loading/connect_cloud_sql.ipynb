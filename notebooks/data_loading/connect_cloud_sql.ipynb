{
 "cells": [
  {
   "cell_type": "markdown",
   "id": "1cc7edf7-ab52-402a-9a2f-180423c151a8",
   "metadata": {},
   "source": [
    "# Sample CloudSql Connection"
   ]
  },
  {
   "cell_type": "markdown",
   "id": "7acb8eb0",
   "metadata": {},
   "source": [
    "**NOTE**: This will only work within the GCP notebook instance with the current permissions that our account has on secretmanager settings."
   ]
  },
  {
   "cell_type": "code",
   "execution_count": 1,
   "id": "51ca0f95-d1f8-487e-b9b2-abdf685f19cf",
   "metadata": {
    "tags": []
   },
   "outputs": [],
   "source": [
    "from google.cloud import secretmanager\n",
    "import pandas as pd\n",
    "from sqlalchemy import create_engine, text"
   ]
  },
  {
   "cell_type": "markdown",
   "id": "3501266e-116b-405a-8049-66de13f89d5a",
   "metadata": {},
   "source": [
    "#### Configuration"
   ]
  },
  {
   "cell_type": "code",
   "execution_count": 3,
   "id": "6d0141dc-a234-4366-b1f7-e0a567118785",
   "metadata": {},
   "outputs": [],
   "source": [
    "PROJECT_ID = 'adsp-34002-on02-sopho-scribe'\n",
    "REGION = 'us-central1'\n",
    "DB_NAME = 'postgres'\n",
    "DB_HOST = '35.232.92.211'\n",
    "DB_PORT = '5432'"
   ]
  },
  {
   "cell_type": "markdown",
   "id": "88de046d-bc93-48e0-aaef-4fed4c3c3f4e",
   "metadata": {},
   "source": [
    "#### Retrieve credentials from Secret Manager"
   ]
  },
  {
   "cell_type": "code",
   "execution_count": 4,
   "id": "536e0efd-636d-4b51-9a2a-36070d0f3860",
   "metadata": {
    "tags": []
   },
   "outputs": [],
   "source": [
    "def access_secret(secret_id):\n",
    "    client = secretmanager.SecretManagerServiceClient()\n",
    "    name = f\"projects/{PROJECT_ID}/secrets/{secret_id}/versions/latest\"\n",
    "    response = client.access_secret_version(name=name)\n",
    "    return response.payload.data.decode(\"UTF-8\")"
   ]
  },
  {
   "cell_type": "code",
   "execution_count": null,
   "id": "6071eb7a",
   "metadata": {},
   "outputs": [],
   "source": [
    "DB_USER = access_secret('cloudSqlUser')\n",
    "DB_PASSWORD = access_secret('cloudSqlUserPassword')"
   ]
  },
  {
   "cell_type": "markdown",
   "id": "bb578b85-e907-48cb-9807-c0787910c2e0",
   "metadata": {},
   "source": [
    "#### Create SQLAlchemy engine"
   ]
  },
  {
   "cell_type": "code",
   "execution_count": 5,
   "id": "815feba1-4fa8-4807-aacc-a9e383812cbe",
   "metadata": {},
   "outputs": [],
   "source": [
    "engine = create_engine(\n",
    "    f'postgresql+psycopg2://{DB_USER}:{DB_PASSWORD}@{DB_HOST}:{DB_PORT}/{DB_NAME}',\n",
    "    connect_args={'sslmode': 'require'}\n",
    ")"
   ]
  },
  {
   "cell_type": "markdown",
   "id": "4c679fd7-953f-4e1b-b155-31d730348d0e",
   "metadata": {},
   "source": [
    "#### Generate & insert sample data"
   ]
  },
  {
   "cell_type": "code",
   "execution_count": 6,
   "id": "ce2b2452-913a-4205-a395-9feacd4cd306",
   "metadata": {},
   "outputs": [],
   "source": [
    "# Create sample data\n",
    "sample_data = pd.DataFrame({\n",
    "    'name': ['Alice', 'Bob', 'Charlie'],\n",
    "    'score': [88, 92, 85]\n",
    "})\n",
    "\n",
    "# Create table and insert data\n",
    "with engine.connect() as conn:\n",
    "    conn.execute(text(\"\"\"\n",
    "        CREATE TABLE IF NOT EXISTS test_scores (\n",
    "            id SERIAL PRIMARY KEY,\n",
    "            name VARCHAR(100),\n",
    "            score INT\n",
    "        )\n",
    "    \"\"\"))\n",
    "\n",
    "    for _, row in sample_data.iterrows():\n",
    "        conn.execute(\n",
    "            text(\"INSERT INTO test_scores (name, score) VALUES (:name, :score)\"),\n",
    "            {\"name\": row['name'], \"score\": row['score']}\n",
    "        )"
   ]
  },
  {
   "cell_type": "markdown",
   "id": "eaf16d0a-f2aa-4ff2-919f-626a3c1e824a",
   "metadata": {},
   "source": [
    "#### Read back the data"
   ]
  },
  {
   "cell_type": "code",
   "execution_count": 7,
   "id": "5857d229-d6f5-430a-99ba-1ec74d065b31",
   "metadata": {
    "tags": []
   },
   "outputs": [
    {
     "name": "stdout",
     "output_type": "stream",
     "text": [
      "   id     name  score\n",
      "0   1    Alice     88\n",
      "1   2      Bob     92\n",
      "2   3  Charlie     85\n"
     ]
    }
   ],
   "source": [
    "df_result = pd.read_sql(\"SELECT * FROM test_scores\", con=engine)\n",
    "print(df_result)"
   ]
  },
  {
   "cell_type": "code",
   "execution_count": null,
   "id": "7364c2e8-a811-4f72-a217-9d812829249c",
   "metadata": {},
   "outputs": [],
   "source": []
  },
  {
   "cell_type": "code",
   "execution_count": null,
   "id": "3465b8b6-a3b2-4f7a-b84b-ec78f0193812",
   "metadata": {},
   "outputs": [],
   "source": []
  },
  {
   "cell_type": "code",
   "execution_count": null,
   "id": "f90a0f5c-2668-4a0a-8df9-03e60bc84a78",
   "metadata": {},
   "outputs": [],
   "source": []
  },
  {
   "cell_type": "code",
   "execution_count": 8,
   "id": "8b98d55d-1dda-4324-ac44-f347dbfff14f",
   "metadata": {
    "tags": []
   },
   "outputs": [
    {
     "name": "stdout",
     "output_type": "stream",
     "text": [
      "Notebook last execution time: Mon, 21 April 2025 21:54:44\n"
     ]
    }
   ],
   "source": [
    "import datetime\n",
    "import pytz\n",
    "\n",
    "print(f\"Notebook last execution time: {datetime.datetime.now(pytz.timezone('US/Central')).strftime('%a, %d %B %Y %H:%M:%S')}\")"
   ]
  }
 ],
 "metadata": {
  "environment": {
   "kernel": "conda-base-py",
   "name": "workbench-notebooks.m129",
   "type": "gcloud",
   "uri": "us-docker.pkg.dev/deeplearning-platform-release/gcr.io/workbench-notebooks:m129"
  },
  "kernelspec": {
   "display_name": "currensee",
   "language": "python",
   "name": "python3"
  },
  "language_info": {
   "codemirror_mode": {
    "name": "ipython",
    "version": 3
   },
   "file_extension": ".py",
   "mimetype": "text/x-python",
   "name": "python",
   "nbconvert_exporter": "python",
   "pygments_lexer": "ipython3",
   "version": "3.11.10"
  }
 },
 "nbformat": 4,
 "nbformat_minor": 5
}
