{
 "cells": [
  {
   "cell_type": "markdown",
   "id": "1cc7edf7-ab52-402a-9a2f-180423c151a8",
   "metadata": {},
   "source": [
    "# Sample CloudSql Connection"
   ]
  },
  {
   "cell_type": "markdown",
   "id": "d6e41979-b411-4577-a8e0-4a4dbdee0f98",
   "metadata": {},
   "source": [
    "# Need to set up for each instance - Add your VM's IP to the Authorized Networks\n",
    "**1. Find the external IP of your JupyterLab VM**\n",
    "https://console.cloud.google.com/compute/instances?project=adsp-34002-on02-sopho-scribe&authuser=1\n",
    " * Go to VM Instances\n",
    " * Find your JupyterLab VM\n",
    " * Copy the External IP address (looks like 34.91.100.45).\n",
    "\n",
    "**2. Add the VM's IP to your Cloud SQL authorized networks**\n",
    "https://console.cloud.google.com/sql/instances/currensee-sql/connections/networking?authuser=1&project=adsp-34002-on02-sopho-scribe\n",
    "* Go to Cloud SQL instances. \n",
    "* Click your instance.\n",
    "* Click Connections in the left sidebar.\n",
    "* Scroll to Authorized networks → Add network.\n",
    "* Name: anything like jupyterlab-vm\n",
    "* Network: paste the external IP you just copied (e.g., 34.91.100.45/32)\n",
    "* IMPORTANT: Add /32 to allow only that single IP.\n",
    "* Click Save.\n",
    "\n",
    "It will take ~30 seconds to update."
   ]
  },
  {
   "cell_type": "code",
   "execution_count": 1,
   "id": "6c777fa9-44e9-4f00-a6ba-ea9f5eb39497",
   "metadata": {
    "tags": []
   },
   "outputs": [],
   "source": [
    "#%poetry add -q google-cloud-secret-manager==2.23.3\n",
    "#%poetry add -q SQLAlchemy==2.0.40"
   ]
  },
  {
   "cell_type": "code",
   "execution_count": 2,
   "id": "ac245ba5-c8af-4df4-bd49-140e68d41439",
   "metadata": {
    "tags": []
   },
   "outputs": [],
   "source": [
    "#%poetry add psycopg2-binary sqlalchemy pandas"
   ]
  },
  {
   "cell_type": "code",
   "execution_count": 4,
   "id": "51ca0f95-d1f8-487e-b9b2-abdf685f19cf",
   "metadata": {
    "tags": []
   },
   "outputs": [],
   "source": [
    "from google.cloud import secretmanager\n",
    "import pandas as pd\n",
    "import numpy as np\n",
    "from currensee.utils.db_utils import create_pg_engine\n",
    "from sqlalchemy import text"
   ]
  },
  {
   "cell_type": "markdown",
   "id": "197965a0-ce47-474b-9ade-2f6f068a81e5",
   "metadata": {},
   "source": [
    "## IMPORTANT\n",
    "The cell below will only work if you have a .env file defined at `<fl>_currensee/currensee/.env` with the credentials \n",
    "defined in `<fl>_currensee/currensee/.env.example`.\n",
    "\n",
    "Instructions are located within the `.env.example` file with how to fill out the credentials properly."
   ]
  },
  {
   "cell_type": "markdown",
   "id": "bb578b85-e907-48cb-9807-c0787910c2e0",
   "metadata": {},
   "source": [
    "#### Create SQLAlchemy engine"
   ]
  },
  {
   "cell_type": "code",
   "execution_count": null,
   "id": "110acfc0-b745-4dad-9a74-3c84533305f3",
   "metadata": {},
   "outputs": [],
   "source": [
    "# Define DB_NAME\n",
    "DB_NAME = 'crm'"
   ]
  },
  {
   "cell_type": "code",
   "execution_count": null,
   "id": "815feba1-4fa8-4807-aacc-a9e383812cbe",
   "metadata": {},
   "outputs": [],
   "source": [
    "engine = create_pg_engine(\n",
    "   db_name=DB_NAME\n",
    ")"
   ]
  },
  {
   "cell_type": "code",
   "execution_count": null,
   "id": "811328be-20fd-4c30-883a-3e54f21c253a",
   "metadata": {
    "tags": []
   },
   "outputs": [],
   "source": [
    "df_result = pd.read_sql(\"SELECT * FROM Employees limit 10\", con=engine)\n",
    "print(df_result)"
   ]
  },
  {
   "cell_type": "markdown",
   "id": "cd163765-fccf-4303-b6ab-ed3a3b670218",
   "metadata": {},
   "source": [
    "# Generate Fake Data"
   ]
  },
  {
   "cell_type": "code",
   "execution_count": null,
   "id": "8f230b65-b7f2-4846-91c8-a421c5125a2c",
   "metadata": {
    "tags": []
   },
   "outputs": [],
   "source": [
    "# %poetry add faker"
   ]
  },
  {
   "cell_type": "code",
   "execution_count": null,
   "id": "a73695d8-97ab-47c4-9aaa-7d0ed8e20996",
   "metadata": {
    "tags": []
   },
   "outputs": [],
   "source": [
    "import pandas as pd\n",
    "import random\n",
    "import os\n",
    "import re\n",
    "from faker import Faker\n",
    "\n",
    "# Initialize Faker instance\n",
    "#Faker is a Python package that integrates fake data for you.\n",
    "\n",
    "#Some hard coded data of publicly traded companies to be our mock clients\n"
   ]
  },
  {
   "cell_type": "code",
   "execution_count": null,
   "id": "7364c2e8-a811-4f72-a217-9d812829249c",
   "metadata": {},
   "outputs": [],
   "source": [
    "\n",
    "fake = Faker()\n",
    "\n",
    "# Helper function to generate synthetic employee data\n",
    "def generate_employee_data(num_employees=10, ourcompany_name = 'bankwell'):\n",
    "    company = ourcompany_name\n",
    "    employees = [\n",
    "        {\n",
    "            'employee_id': fake.unique.uuid4(),\n",
    "            'first_name': \"Jane\",\n",
    "            'last_name': \"Moneypenny\",\n",
    "            'title': \"Relationship Manager\",\n",
    "            'email': \"jane.moneypenny1@bankwell.com\",\n",
    "            'phone': fake.phone_number(),\n",
    "            'hire_date': fake.date_this_decade(),\n",
    "            'department': 'Enterprise Investment',\n",
    "            'market': 'San Fransisco'\n",
    "        }\n",
    "    ]\n",
    "\n",
    "    for _ in range(num_employees-1):\n",
    "        employee_id = fake.unique.uuid4()\n",
    "        first_name = fake.first_name()\n",
    "        last_name = fake.last_name()\n",
    "        title = random.choice(['Finance Assistant', 'Financial Advisor', 'Senior Relationship Manager', 'Product Specialist', 'Relationship Manager'])\n",
    "        phone = fake.phone_number()\n",
    "        department = random.choice(['Enterprise Investment', 'Small Business Investment', 'Operations', 'Sales', 'Customer Support'])\n",
    "        hire_date = fake.date_this_decade()\n",
    "        market = random.choice(['San Fransisco', 'New York City', 'Boston', 'Denver', 'Los Angeles', 'Miami', 'Washington DC', 'Seattle', 'Dallas', 'Chicago'])\n",
    "        company_clean = re.sub(r'\\W+', '', company).lower()\n",
    "        email = f\"{first_name.lower()}.{last_name.lower()}@{company_clean}.com\"\n",
    "\n",
    "\n",
    "        employees.append({\n",
    "            'employee_id': employee_id,\n",
    "            'first_name': first_name,\n",
    "            'last_name': last_name,\n",
    "            'title': title,\n",
    "            'email': email,\n",
    "            'phone': phone,\n",
    "            'hire_date': hire_date,\n",
    "            'department': department,\n",
    "            'market': market\n",
    "        })\n",
    "    return pd.DataFrame(employees)\n",
    "\n",
    "# Helper function to generate point of contact and info for a Company\n",
    "def generate_point_of_contact(company_name):\n",
    "    account_id = fake.unique.uuid4()\n",
    "    first_name = fake.first_name()\n",
    "    last_name = fake.last_name()\n",
    "    contact_title = random.choice([\"Senior Director\", \"Manager\", \"Director\", \"VP\", \"Consultant\"])\n",
    "    phone = fake.phone_number()\n",
    "    Website = fake.url()\n",
    "    Location = random.choice(['San Fransisco', 'New York City', 'Boston', 'Denver', 'Los Angeles', 'Miami', 'Washington DC', 'Seattle', 'Dallas', 'Chicago'])\n",
    "    AnnualRevenue = random.randint(1000000, 50000000)\n",
    "    TotalAccountBal = random.randint(1000000, 50000000)\n",
    "\n",
    "    # Clean Company name for use in email\n",
    "    company_clean = re.sub(r'\\W+', '', company_name).lower()\n",
    "    email = f\"{first_name.lower()}.{last_name.lower()}@{company_clean}.com\"\n",
    "\n",
    "    return {\n",
    "        \"account_id\": account_id,\n",
    "        \"contact_first_name\": first_name,\n",
    "        \"contact_last_name\": last_name,\n",
    "        \"contact_title\": contact_title,\n",
    "        \"phone\": phone,\n",
    "        \"email\": email,\n",
    "        \"website\": Website,\n",
    "        \"location\": Location,\n",
    "        \"annual_revenue\": AnnualRevenue,\n",
    "        \"total_account_bal\": TotalAccountBal\n",
    "    }\n",
    "\n",
    "\n",
    "def generate_account_data(num_accounts=5, clients_company = []):\n",
    "# Build the data\n",
    "    accounts = []\n",
    "    for company in clients_company:\n",
    "        contact = generate_point_of_contact(company[\"company\"])\n",
    "        record = {\n",
    "          \"company\": company[\"company\"],\n",
    "          \"industry\": company[\"industry\"],\n",
    "          **contact\n",
    "      }\n",
    "        accounts.append(record)\n",
    "    return pd.DataFrame(accounts)\n",
    "\n",
    "\n",
    "\n",
    "\n",
    "# Helper function to generate synthetic opportunity data\n",
    "def generate_opportunity_data(accounts_df, num_opportunities_per_account=3):\n",
    "    opportunities = []\n",
    "    for _, account in accounts_df.iterrows():\n",
    "        num_opportunities = random.randint(1, num_opportunities_per_account)\n",
    "        for _ in range(num_opportunities):\n",
    "            opportunities.append({\n",
    "                'opportunity_id': fake.unique.uuid4(),\n",
    "                'account_id': account['account_id'],\n",
    "                'opportunity_name': fake.bs(),\n",
    "                'stage': random.choice(['Prospecting', 'Qualification', 'Proposal', 'Negotiation', 'Won', 'Lost', 'Closed']),\n",
    "                'type': random.choice(['New Business', 'Existing Business', 'Renewal', 'Upsell']),\n",
    "                'close_date': fake.date_this_year(),\n",
    "                'amount': random.randint(50000, 500000),\n",
    "            })\n",
    "    return pd.DataFrame(opportunities)\n",
    "\n",
    "# Helper function to generate synthetic employee-contact relationship data\n",
    "def generate_employee_contact_data(employees_df, accounts_df, num_relationships_per_employee=2):\n",
    "    relationships = []\n",
    "    for _, employee in employees_df.iterrows():\n",
    "        num_relationships = random.randint(1, num_relationships_per_employee)\n",
    "        for _ in range(num_relationships):\n",
    "            account = random.choice(accounts_df['account_id'].tolist())\n",
    "            relationships.append({\n",
    "                'employee_id': employee['employee_id'],\n",
    "                'employee_first_name': employee['first_name'],\n",
    "                'employee_last_name': employee['last_name'],\n",
    "                'account_id': account,\n",
    "                'company': accounts_df.loc[accounts_df['account_id'] == account, 'company'].iloc[0],\n",
    "                'industry': accounts_df.loc[accounts_df['account_id'] == account, 'industry'].iloc[0],\n",
    "                'contact_first_name': accounts_df.loc[accounts_df['account_id'] == account, 'contact_first_name'].iloc[0],\n",
    "                'contact_last_name': accounts_df.loc[accounts_df['account_id'] == account, 'contact_last_name'].iloc[0],\n",
    "                'contact_email': accounts_df.loc[accounts_df['account_id'] == account, 'email'].iloc[0],\n",
    "                'contact_title': accounts_df.loc[accounts_df['account_id'] == account, 'contact_title'].iloc[0],\n",
    "                'contact_phone': accounts_df.loc[accounts_df['account_id'] == account, 'phone'].iloc[0],\n",
    "            })\n",
    "    return pd.DataFrame(relationships)\n",
    "\n",
    "\n",
    "\n",
    "def generate_portfolios(df_accounts, max_positions=9, instruments=[]):\n",
    "    portfolio_records = []\n",
    "\n",
    "    for _, row in df_accounts.iterrows():\n",
    "        account_id = row[\"account_id\"]\n",
    "        company = row[\"company\"]\n",
    "        total_account_bal = row[\"total_account_bal\"]\n",
    "\n",
    "        num_positions = random.randint(2, 5)\n",
    "        positions = random.sample(instruments, num_positions)\n",
    "\n",
    "        # Generate random proportions that sum to 1\n",
    "        random_weights = np.random.rand(num_positions)\n",
    "        random_weights /= random_weights.sum()\n",
    "\n",
    "        for (symbol, instrument_type), weight in zip(positions, random_weights):\n",
    "            fund_balance = round(total_account_bal * weight, 2)\n",
    "            portfolio_records.append({\n",
    "                \"account_id\": account_id,\n",
    "                \"company\": company,\n",
    "                \"symbol\": symbol,\n",
    "                \"fund_type\": instrument_type,\n",
    "                \"tot_balance\": total_account_bal,\n",
    "                \"fund_balance\": fund_balance\n",
    "            })\n",
    "\n",
    "    return pd.DataFrame(portfolio_records)"
   ]
  },
  {
   "cell_type": "code",
   "execution_count": null,
   "id": "3465b8b6-a3b2-4f7a-b84b-ec78f0193812",
   "metadata": {},
   "outputs": [],
   "source": [
    "# Right now companies can only be selected from this list of publicly traded companies \n",
    "# Likely want this to be random instead..\n",
    "clients_company_info = [\n",
    "        {\"company\": \"Broadcom\", \"industry\": \"Technology\"},\n",
    "        {\"company\": \"Cisco\", \"industry\": \"Technology\"},\n",
    "        {\"company\": \"Palantir Technologies\", \"industry\": \"Technology\"},\n",
    "        {\"company\": \"Fiserv\", \"industry\": \"Technology\"},\n",
    "        {\"company\": \"Atlassian\", \"industry\": \"Technology\"},\n",
    "        {\"company\": \"Leidos\", \"industry\": \"Technology\"},\n",
    "        {\"company\": \"Duolingo\", \"industry\": \"Technology\"},\n",
    "        {\"company\": \"Logitech\", \"industry\": \"Technology\"},\n",
    "        {\"company\": \"Celestica\", \"industry\": \"Technology\"},\n",
    "        {\"company\": \"Dropbox\", \"industry\": \"Technology\"},\n",
    "        {\"company\": \"Plexus\", \"industry\": \"Technology\"},\n",
    "        {\"company\": \"Silicon Laboratories\", \"industry\": \"Technology\"},\n",
    "        {\"company\": \"Mobix Labs\", \"industry\": \"Technology\"},\n",
    "        {\"company\": \"Mariott\", \"industry\": \"Hospitality\"},\n",
    "        {\"company\": \"InterContinental Hotels Group\", \"industry\": \"Hospitality\"},\n",
    "        {\"company\": \"Sonder Holdings\", \"industry\": \"Hospitality\"},\n",
    "        {\"company\": \"Hyatt Hotels\", \"industry\": \"Hospitality\"},\n",
    "        {\"company\": \"Royal Caribbean Cruises\", \"industry\": \"Hospitality\"},\n",
    "        {\"company\": \"UnitedHealth\", \"industry\": \"Healthcare\"},\n",
    "        {\"company\": \"Johnson & Johnson\", \"industry\": \"Healthcare\"},\n",
    "        {\"company\": \"AbbVie\", \"industry\": \"Healthcare\"},\n",
    "        {\"company\": \"Novo Nordisk\", \"industry\": \"Healthcare\"},\n",
    "        {\"company\": \"Abbott Laboratories\", \"industry\": \"Healthcare\"},\n",
    "        {\"company\": \"AstraZeneca\", \"industry\": \"Healthcare\"},\n",
    "        {\"company\": \"Merck & Co\", \"industry\": \"Healthcare\"},\n",
    "        {\"company\": \"Intuitive Surgical\", \"industry\": \"Healthcare\"},\n",
    "        {\"company\": \"Medtronic\", \"industry\": \"Healthcare\"},\n",
    "        {\"company\": \"Zoetis\", \"industry\": \"Healthcare\"},\n",
    "        {\"company\": \"Humana\", \"industry\": \"Healthcare\"},\n",
    "        {\"company\": \"Illumina\", \"industry\": \"Healthcare\"},\n",
    "        {\"company\": \"Guardant Health\", \"industry\": \"Healthcare\"},\n",
    "        {\"company\": \"Rhythm Pharmaceuticals\", \"industry\": \"Healthcare\"},\n",
    "        {\"company\": \"Amedisys\", \"industry\": \"Healthcare\"},\n",
    "        {\"company\": \"Rivian Automotive\", \"industry\": \"Automotive\"},\n",
    "        {\"company\": \"Fordy\", \"industry\": \"Automotive\"},\n",
    "        {\"company\": \"lululemon athletica\", \"industry\": \"Retail\"},\n",
    "        {\"company\": \"DICK'S Sporting Goods\", \"industry\": \"Retail\"},\n",
    "        {\"company\": \"GameStop Corp\", \"industry\": \"Retail\"},\n",
    "        {\"company\": \"Texas Roadhouse\", \"industry\": \"Retail\"},\n",
    "        {\"company\": \"Hasbro\", \"industry\": \"Retail\"},\n",
    "        {\"company\": \"Mattel\", \"industry\": \"Retail\"},\n",
    "        {\"company\": \"Wayfair\", \"industry\": \"Retail\"},\n",
    "        {\"company\": \"Peloton\", \"industry\": \"Retail\"},\n",
    "        {\"company\": \"Sally Beauty\", \"industry\": \"Retail\"},\n",
    "        {\"company\": \"Lifetime Brand\", \"industry\": \"Retail\"},\n",
    "        {\"company\": \"Allbirds\", \"industry\": \"Retail\"},\n",
    "        {\"company\": \"Walmart\", \"industry\": \"Retail\"},\n",
    "        {\"company\": \"Tyson Foods\", \"industry\": \"Retail\"},\n",
    "        {\"company\": \"Sprouts Farmers Market\", \"industry\": \"Retail\"},\n",
    "        {\"company\": \"Dollar Tree\", \"industry\": \"Retail\"},\n",
    "        {\"company\": \"Stride\", \"industry\": \"Retail\"},\n",
    "        {\"company\": \"Spectrum Brands\", \"industry\": \"Retail\"},\n",
    "        {\"company\": \"Udemy\", \"industry\": \"Retail\"},\n",
    "        {\"company\": \"Vital Farms\", \"industry\": \"Retail\"},\n",
    "        {\"company\": \"Graham Holdings Company\", \"industry\": \"Retail\"},\n",
    "        {\"company\": \"Hims & Hers Health\", \"industry\": \"Retail\"},\n",
    "        {\"company\": \"Smithfield Foods\", \"industry\": \"Retail\"},\n",
    "        {\"company\": \"Albertsons Companies\", \"industry\": \"Retail\"},\n",
    "        {\"company\": \"Albany International\", \"industry\": \"Manufacturing\"},\n",
    "        {\"company\": \"IT Tech Packaging\", \"industry\": \"Manufacturing\"},\n",
    "        {\"company\": \"Lockheed Martin Corporation\", \"industry\": \"Manufacturing\"},\n",
    "        {\"company\": \"Landstar System\", \"industry\": \"Manufacturing\"},\n",
    "        {\"company\": \"Hexcel Corporation\", \"industry\": \"Manufacturing\"},\n",
    "        {\"company\": \"AeroVironment\", \"industry\": \"Manufacturing\"},\n",
    "        {\"company\": \"Matson\", \"industry\": \"Manufacturing\"},\n",
    "        {\"company\": \"McGrath RentCorp\", \"industry\": \"Manufacturing\"},\n",
    "        {\"company\": \"Mueller Industries\", \"industry\": \"Manufacturing\"},\n",
    "        {\"company\": \"Dolby Laboratories\", \"industry\": \"Manufacturing\"},\n",
    "        {\"company\": \"ManpowerGroup\", \"industry\": \"Manufacturing\"},\n",
    "        {\"company\": \"Welltower\", \"industry\": \"RealEstate\"},\n",
    "        {\"company\": \"Iron Mountain Incorporated\", \"industry\": \"RealEstate\"},\n",
    "        {\"company\": \"Camden Property\", \"industry\": \"RealEstate\"},\n",
    "        {\"company\": \"CubeSmart\", \"industry\": \"RealEstate\"},\n",
    "        {\"company\": \"Federal Realty Investment Trust\", \"industry\": \"RealEstate\"},\n",
    "        {\"company\": \"Essential Properties Realty\", \"industry\": \"RealEstate\"},\n",
    "        {\"company\": \"Compass\", \"industry\": \"RealEstate\"},\n",
    "        {\"company\": \"Medical Properties Trust\", \"industry\": \"RealEstate\"},\n",
    "        {\"company\": \"Broadstone\", \"industry\": \"RealEstate\"},\n",
    "        {\"company\": \"Ladder Capital Corp\", \"industry\": \"RealEstate\"},\n",
    "        {\"company\": \"Peakstone Realty Trus\", \"industry\": \"RealEstate\"},\n",
    "        {\"company\": \"Fathom Holdings\", \"industry\": \"RealEstate\"},\n",
    "        {\"company\": \"Presidio Property Trust\", \"industry\": \"RealEstate\"},\n",
    "        {\"company\": \"Service Properties Trust\", \"industry\": \"RealEstate\"},\n",
    "    ]\n",
    "\n",
    "\n",
    "Bond_funds = ['BND', 'MUB', 'MBB', 'VCSH', 'TLT']\n",
    "Equity_funds = ['VSMPX', 'FXAIX', 'FCNTX', 'FTIEX']\n",
    "# All symbols with types\n",
    "instruments = (\n",
    "    [(sym, 'Bond Fund') for sym in Bond_funds ] +\n",
    "    [(sym, 'Equity Fund') for sym in Equity_funds]\n",
    ")\n",
    "\n",
    "fund_dtl_df = pd.read_excel('equity_fund_example.xlsx')\n",
    "# Generate synthetic data for the tables\n",
    "employees_df = generate_employee_data(num_employees=100, ourcompany_name = 'bankwell')\n",
    "accounts_df = generate_account_data(num_accounts=1000, clients_company = clients_company_info)\n",
    "opportunities_df = generate_opportunity_data(accounts_df, num_opportunities_per_account=3)\n",
    "contacts_df = generate_employee_contact_data(employees_df, accounts_df, num_relationships_per_employee=30)\n",
    "portfolio_df = generate_portfolios(accounts_df, max_positions=10, instruments = instruments)\n",
    "\n",
    "# Print the first few rows of each DataFrame\n",
    "print(\"Employees Data:\")\n",
    "print(employees_df.head())\n",
    "\n",
    "print(\"\\nAccounts Data:\")\n",
    "print(accounts_df.head())\n",
    "\n",
    "print(\"\\nOpportunities Data:\")\n",
    "print(opportunities_df.head())\n",
    "\n",
    "print(\"\\nEmployee-Contact Relationships Data:\")\n",
    "print(contacts_df.head())\n",
    "\n",
    "print(\"\\nPortfolio Info for Each Account\")\n",
    "print(portfolio_df.head())\n",
    "\n",
    "\n",
    "print(\"\\nPortfolio detail\")\n",
    "print(fund_dtl_df.head())\n"
   ]
  },
  {
   "cell_type": "code",
   "execution_count": null,
   "id": "16c80407-7290-4187-8b8c-9f56f98dba5f",
   "metadata": {},
   "outputs": [],
   "source": [
    "portfolio_df.head(10)"
   ]
  },
  {
   "cell_type": "markdown",
   "id": "b4017b4a-f604-4f1e-ad2f-96a94abd1a9a",
   "metadata": {},
   "source": [
    "# Load to database"
   ]
  },
  {
   "cell_type": "markdown",
   "id": "233fe5ca-1767-4da4-bbb7-839e46a89d18",
   "metadata": {},
   "source": [
    "### Employees Table"
   ]
  },
  {
   "cell_type": "code",
   "execution_count": null,
   "id": "f90a0f5c-2668-4a0a-8df9-03e60bc84a78",
   "metadata": {},
   "outputs": [],
   "source": [
    "employees_df.head()"
   ]
  },
  {
   "cell_type": "code",
   "execution_count": null,
   "id": "958610f4-5fc5-4bba-9fd9-592458f84226",
   "metadata": {
    "tags": []
   },
   "outputs": [],
   "source": [
    "employees_df.shape"
   ]
  },
  {
   "cell_type": "code",
   "execution_count": null,
   "id": "6aabfd37-61ed-492e-92d3-138edfe447a4",
   "metadata": {
    "tags": []
   },
   "outputs": [],
   "source": [
    "employees_df.to_sql('employees', engine, if_exists='replace', index=False)"
   ]
  },
  {
   "cell_type": "code",
   "execution_count": null,
   "id": "2c86ee2f-a275-462c-aa97-995b036039ed",
   "metadata": {},
   "outputs": [],
   "source": [
    "alter_sql = \"\"\"\n",
    "ALTER TABLE \"employees\"\n",
    "ADD PRIMARY KEY (\"employee_id\");\n",
    "\"\"\"\n",
    "\n",
    "with engine.connect() as connection:\n",
    "    connection.execute(text(alter_sql))"
   ]
  },
  {
   "cell_type": "code",
   "execution_count": null,
   "id": "91d13245-d916-4a67-b7b7-cdb274fa3cfc",
   "metadata": {
    "tags": []
   },
   "outputs": [],
   "source": [
    "df = pd.read_sql(\"SELECT * from employees\", con=engine)\n",
    "df.head()"
   ]
  },
  {
   "cell_type": "markdown",
   "id": "e4041192-182e-4507-9ca0-655c0245427a",
   "metadata": {},
   "source": [
    "### Clients Contact table"
   ]
  },
  {
   "cell_type": "code",
   "execution_count": null,
   "id": "78f84525-e56a-418b-be36-eb737d129872",
   "metadata": {
    "tags": []
   },
   "outputs": [],
   "source": [
    "accounts_df.head()"
   ]
  },
  {
   "cell_type": "code",
   "execution_count": null,
   "id": "f4d1b099-8535-4191-9c6c-ca11b84b364e",
   "metadata": {
    "tags": []
   },
   "outputs": [],
   "source": [
    "accounts_df.shape"
   ]
  },
  {
   "cell_type": "code",
   "execution_count": null,
   "id": "28bb57d3-1f5e-4786-a1d0-ffc173d6faac",
   "metadata": {
    "tags": []
   },
   "outputs": [],
   "source": [
    "accounts_df.to_sql('clients_contact', engine, if_exists='replace', index=False)"
   ]
  },
  {
   "cell_type": "code",
   "execution_count": null,
   "id": "52b5f616-0a11-4ca7-aa20-4b00d6f00c2b",
   "metadata": {},
   "outputs": [],
   "source": [
    "alter_sql = \"\"\"\n",
    "ALTER TABLE \"clients_contact\"\n",
    "ADD PRIMARY KEY (\"account_id\");\n",
    "\"\"\"\n",
    "\n",
    "with engine.connect() as connection:\n",
    "    connection.execute(text(alter_sql))"
   ]
  },
  {
   "cell_type": "markdown",
   "id": "ebc1e940-441f-4045-9e6a-eb0459d943d4",
   "metadata": {},
   "source": [
    "### Client alignment table"
   ]
  },
  {
   "cell_type": "code",
   "execution_count": null,
   "id": "0f9c303f-fb30-4b43-a0dc-149b49320546",
   "metadata": {
    "tags": []
   },
   "outputs": [],
   "source": [
    "contacts_df.head()"
   ]
  },
  {
   "cell_type": "code",
   "execution_count": null,
   "id": "b2675dbc-0a74-455b-9be8-2a65fbdbac6f",
   "metadata": {},
   "outputs": [],
   "source": [
    "client_alignment = contacts_df.drop_duplicates()"
   ]
  },
  {
   "cell_type": "code",
   "execution_count": null,
   "id": "c0c01cb7-21b0-460a-9265-3aceeeada16c",
   "metadata": {
    "tags": []
   },
   "outputs": [],
   "source": [
    "client_alignment.to_sql('client_alignment', engine, if_exists='replace', index=False)"
   ]
  },
  {
   "cell_type": "code",
   "execution_count": null,
   "id": "0ea8326e-6bae-4a00-ab24-6aa752e75f84",
   "metadata": {},
   "outputs": [],
   "source": [
    "alter_sql = \"\"\"\n",
    "ALTER TABLE \"client_alignment\"\n",
    "ADD PRIMARY KEY (\"account_id\", \"employee_id\");\n",
    "\"\"\"\n",
    "\n",
    "with engine.connect() as connection:\n",
    "    connection.execute(text(alter_sql))"
   ]
  },
  {
   "cell_type": "code",
   "execution_count": null,
   "id": "cf272b1a-0c0e-4e6d-9f33-14432e76f178",
   "metadata": {},
   "outputs": [],
   "source": []
  },
  {
   "cell_type": "code",
   "execution_count": null,
   "id": "f5cdfd0b-578b-4b03-92ae-fd2c58ea785e",
   "metadata": {},
   "outputs": [],
   "source": []
  },
  {
   "cell_type": "markdown",
   "id": "6d58600d-d42d-4003-a0b9-46b2a2d6e9ff",
   "metadata": {},
   "source": [
    "### Portfolio Table"
   ]
  },
  {
   "cell_type": "code",
   "execution_count": null,
   "id": "77c189b7-511c-4daf-b4be-b4e50db4f093",
   "metadata": {
    "tags": []
   },
   "outputs": [],
   "source": [
    "portfolio_df.head()"
   ]
  },
  {
   "cell_type": "code",
   "execution_count": null,
   "id": "2f1eddaf-bb85-4de8-9e61-b140a89ed36e",
   "metadata": {
    "tags": []
   },
   "outputs": [],
   "source": [
    "portfolio_df.to_sql('portfolio', engine, if_exists='replace', index=False)"
   ]
  },
  {
   "cell_type": "code",
   "execution_count": null,
   "id": "4ccbba7a-ebb7-4fa0-bfce-e7220fc957ad",
   "metadata": {},
   "outputs": [],
   "source": [
    "alter_sql = \"\"\"\n",
    "ALTER TABLE \"portfolio\"\n",
    "ADD PRIMARY KEY (\"account_id\", \"symbol\");\n",
    "\"\"\"\n",
    "\n",
    "with engine.connect() as connection:\n",
    "    connection.execute(text(alter_sql))"
   ]
  },
  {
   "cell_type": "markdown",
   "id": "2027f301-e822-4ab7-9e79-36a1c96845b4",
   "metadata": {},
   "source": [
    "### Portfolio Detail"
   ]
  },
  {
   "cell_type": "code",
   "execution_count": null,
   "id": "f1e8341c-1f80-4099-8434-7f0df2f154d1",
   "metadata": {},
   "outputs": [],
   "source": [
    "fund_dtl_df = pd.read_excel('equity_fund_example.xlsx')"
   ]
  },
  {
   "cell_type": "code",
   "execution_count": null,
   "id": "655c9373-5097-492f-bf1e-3aa79d553df9",
   "metadata": {},
   "outputs": [],
   "source": [
    "fund_dtl_df.head()"
   ]
  },
  {
   "cell_type": "code",
   "execution_count": null,
   "id": "9218977d-b4d4-4db5-bb90-964387b5d36d",
   "metadata": {},
   "outputs": [],
   "source": [
    "fund_dtl_df.to_sql('fund_detail', engine, if_exists='replace', index=False)"
   ]
  },
  {
   "cell_type": "code",
   "execution_count": null,
   "id": "09e8939b-5998-4d41-a66c-c197d1180e9d",
   "metadata": {},
   "outputs": [],
   "source": [
    "alter_sql = \"\"\"\n",
    "ALTER TABLE \"fund_detail\"\n",
    "ADD PRIMARY KEY (\"ticker\", \"fund\");\n",
    "\"\"\"\n",
    "\n",
    "with engine.connect() as connection:\n",
    "    connection.execute(text(alter_sql))"
   ]
  },
  {
   "cell_type": "markdown",
   "id": "78c594d7-ee15-4bd6-913d-a483d53853ac",
   "metadata": {},
   "source": [
    "# Test Results"
   ]
  },
  {
   "cell_type": "code",
   "execution_count": null,
   "id": "d358be86-2f78-45e1-bf9b-4f0abec72160",
   "metadata": {
    "tags": []
   },
   "outputs": [],
   "source": [
    "pd.read_sql(\"SELECT * FROM portfolio limit 10\", con=engine)"
   ]
  },
  {
   "cell_type": "code",
   "execution_count": null,
   "id": "77b4e6aa-3e28-41b5-b76e-f7afb32ca892",
   "metadata": {},
   "outputs": [],
   "source": [
    "pd.read_sql(\"SELECT * FROM fund_detail limit 10\", con=engine)"
   ]
  },
  {
   "cell_type": "code",
   "execution_count": null,
   "id": "7bf7929e-e6e7-4bb9-8bd7-aa1ef2765e40",
   "metadata": {
    "tags": []
   },
   "outputs": [],
   "source": [
    "pd.read_sql(\"SELECT * FROM client_alignment limit 10\", con=engine)"
   ]
  },
  {
   "cell_type": "code",
   "execution_count": null,
   "id": "8b98d55d-1dda-4324-ac44-f347dbfff14f",
   "metadata": {
    "tags": []
   },
   "outputs": [],
   "source": [
    "import datetime\n",
    "import pytz\n",
    "\n",
    "print(f\"Notebook last execution time: {datetime.datetime.now(pytz.timezone('US/Central')).strftime('%a, %d %B %Y %H:%M:%S')}\")"
   ]
  },
  {
   "cell_type": "code",
   "execution_count": null,
   "id": "092fa61c-b037-4e3c-87f9-0179614722b3",
   "metadata": {},
   "outputs": [],
   "source": []
  }
 ],
 "metadata": {
  "environment": {
   "kernel": "conda-env-lc_currensee-lc_currensee",
   "name": "workbench-notebooks.m129",
   "type": "gcloud",
   "uri": "us-docker.pkg.dev/deeplearning-platform-release/gcr.io/workbench-notebooks:m129"
  },
  "kernelspec": {
   "display_name": "lc_currensee",
   "language": "python",
   "name": "conda-env-lc_currensee-lc_currensee"
  },
  "language_info": {
   "codemirror_mode": {
    "name": "ipython",
    "version": 3
   },
   "file_extension": ".py",
   "mimetype": "text/x-python",
   "name": "python",
   "nbconvert_exporter": "python",
   "pygments_lexer": "ipython3",
   "version": "3.11.12"
  }
 },
 "nbformat": 4,
 "nbformat_minor": 5
}
