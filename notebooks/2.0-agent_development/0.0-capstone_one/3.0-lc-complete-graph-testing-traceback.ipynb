{
 "cells": [
  {
   "cell_type": "code",
   "execution_count": null,
   "id": "c57516d8-1607-4573-bcdd-c78af6861c7e",
   "metadata": {},
   "outputs": [],
   "source": [
    "from currensee.agents.complete_graph import compiled_graph\n",
    "from currensee.agents.tools.finance_tools import generate_macro_table\n",
    "from currensee.utils.output_utils import (\n",
    "    generate_long_report,\n",
    "    format_news_summary_to_html,\n",
    "    format_paragraph_summary_to_html,\n",
    "    save_html_to_file,\n",
    "    generate_short_report,\n",
    "    convert_html_to_pdf,\n",
    "    generate_med_report,\n",
    ")\n",
    "import warnings\n",
    "import joblib\n",
    "\n",
    "warnings.filterwarnings(\"ignore\")"
   ]
  },
  {
   "cell_type": "code",
   "execution_count": null,
   "id": "78af48b6-83cb-457b-b0df-8740a807829d",
   "metadata": {},
   "outputs": [],
   "source": [
    "from datetime import date\n",
    "\n",
    "today = date.today()\n",
    "today_date = today.strftime(\"%Y%m%d\")\n",
    "print(today_date)"
   ]
  },
  {
   "cell_type": "markdown",
   "id": "0382d110-7666-4cf9-8664-a6ec2799f35e",
   "metadata": {},
   "source": [
    "## Define Initial State\n",
    "\n",
    "This is data that we should be retrieving from each meeting invite.\n",
    "\n",
    "**DO NOT** change this data until the CRM DB has been updated"
   ]
  },
  {
   "cell_type": "code",
   "execution_count": null,
   "id": "dcc4c7df-7a99-4862-b4ff-e84ed8dfc48c",
   "metadata": {},
   "outputs": [],
   "source": [
    "init_state = {\n",
    "    \"client_name\": \"Adam Clay\",\n",
    "    \"client_email\": \"adam.clay@compass.com\",\n",
    "    \"meeting_timestamp\": \"2024-03-26 11:00:00\",\n",
    "    \"meeting_description\": \"Compass - Annual Credit Facility Review Meeting\",\n",
    "}\n",
    "\n",
    "result = compiled_graph.invoke(init_state)\n",
    "summary = result[\"final_summary\"]\n",
    "full_report = summary\n",
    "# full_report = summary + \"\\n\\n### Macro Financial Snapshot\\n\\n\" + macro_table\n",
    "print(full_report)"
   ]
  },
  {
   "cell_type": "code",
   "execution_count": null,
   "id": "56825b13-d090-4a18-9882-a0a53ac50df6",
   "metadata": {},
   "outputs": [],
   "source": [
    "init_state = {\n",
    "    \"client_name\": \"Adam Clay\",\n",
    "    \"client_email\": \"adam.clay@compass.com\",\n",
    "    \"meeting_timestamp\": \"2024-03-26 11:00:00\",\n",
    "    \"meeting_description\": \"Compass - Annual Credit Facility Review Meeting\",\n",
    "    \"report_length\": \"short\",\n",
    "}\n",
    "\n",
    "result = compiled_graph.invoke(init_state)\n",
    "summary = result[\"final_summary\"]\n",
    "full_report = summary\n",
    "# full_report = summary + \"\\n\\n### Macro Financial Snapshot\\n\\n\" + macro_table\n",
    "print(full_report)"
   ]
  },
  {
   "cell_type": "markdown",
   "id": "d2a31211-9712-4897-a4a5-fe74bf55fd2e",
   "metadata": {},
   "source": [
    "# Test case 2"
   ]
  },
  {
   "cell_type": "code",
   "execution_count": null,
   "id": "1503b118-55e2-4578-9798-254baff50823",
   "metadata": {},
   "outputs": [],
   "source": [
    "init_state = {\n",
    "    \"client_name\": \"Jennifer Phelps\",\n",
    "    \"client_email\": \"jennifer.phelps@aerovironment.com\",\n",
    "    \"meeting_timestamp\": \"2018-07-24 14:00:00\",\n",
    "    \"meeting_description\": \"AeroVironment - Initial Discussion on Financial Needs\",\n",
    "}\n",
    "result = compiled_graph.invoke(init_state)\n",
    "summary = result[\"final_summary\"]\n",
    "full_report = summary\n",
    "# full_report = summary + \"\\n\\n### Macro Financial Snapshot\\n\\n\" + macro_table\n",
    "print(full_report)"
   ]
  },
  {
   "cell_type": "markdown",
   "id": "a33b701c-3483-46e3-8f06-dce8aff5a59f",
   "metadata": {},
   "source": [
    "# Test Case 3"
   ]
  },
  {
   "cell_type": "code",
   "execution_count": null,
   "id": "47db3bf1-0db3-43d7-b5bb-df051f3f04b4",
   "metadata": {},
   "outputs": [],
   "source": [
    "init_state = {\n",
    "    \"client_name\": \"Jessica Palmer\",\n",
    "    \"client_email\": \"jessica.palmer@hasbro.com\",\n",
    "    \"meeting_timestamp\": \"2024-02-04 14:30:00\",\n",
    "    \"meeting_description\": \"Hasbro - Discuss Portfolio Diversification and Bond Strategy\",\n",
    "    \"report_length\": \"short\",  # 'short' , 'medium' , 'long' (default)\n",
    "}\n",
    "result = compiled_graph.invoke(init_state)"
   ]
  },
  {
   "cell_type": "code",
   "execution_count": null,
   "id": "2face2af-b072-4860-b76b-4c3afa443696",
   "metadata": {},
   "outputs": [],
   "source": [
    "summary = result[\"final_summary_sourced\"]\n",
    "full_report = summary\n",
    "print(full_report)"
   ]
  },
  {
   "cell_type": "code",
   "execution_count": null,
   "id": "9753d25a-6f17-4c86-9a18-23e9de0e8632",
   "metadata": {},
   "outputs": [],
   "source": [
    "result = compiled_graph.invoke(init_state)\n",
    "client_report = generate_short_report(result)\n",
    "save_html_to_file(\n",
    "    client_report,\n",
    "    f\"../../data/generated_reports/client_report_sample_hasbro_short_{today_date}.html\",\n",
    ")"
   ]
  },
  {
   "cell_type": "markdown",
   "id": "d1ebf080-5957-4b7a-818c-bc7aa505716f",
   "metadata": {},
   "source": [
    "# Test Case 4"
   ]
  },
  {
   "cell_type": "code",
   "execution_count": null,
   "id": "f0ece541-c1b2-4a29-a4c3-5f74229e071c",
   "metadata": {},
   "outputs": [],
   "source": [
    "init_state = {\n",
    "    \"client_name\": \"Jessica Palmer\",\n",
    "    \"client_email\": \"jessica.palmer@hasbro.com\",\n",
    "    \"meeting_timestamp\": \"2024-02-04 14:30:00\",\n",
    "    \"meeting_description\": \"Hasbro - Discuss Portfolio Diversification and Bond Strategy\",\n",
    "}\n",
    "result = compiled_graph.invoke(init_state)"
   ]
  },
  {
   "cell_type": "code",
   "execution_count": null,
   "id": "a1d25177-14d9-453f-9bd0-6713ce828069",
   "metadata": {},
   "outputs": [],
   "source": [
    "summary = result[\"final_summary_sourced\"]\n",
    "print(summary)"
   ]
  },
  {
   "cell_type": "code",
   "execution_count": null,
   "id": "fbecf442-c1fe-4b14-ad7f-170a7ec04417",
   "metadata": {},
   "outputs": [],
   "source": [
    "# report style\n",
    "client_report = generate_long_report(result)\n",
    "save_html_to_file(\n",
    "    client_report,\n",
    "    f\"../../generated_reports/client_report_sample_hasbro_{today_date}.html\",\n",
    ")"
   ]
  },
  {
   "cell_type": "markdown",
   "id": "4bd1b8c5-8b3a-42b2-b2c6-5b739a8d5922",
   "metadata": {},
   "source": [
    "# Test 5"
   ]
  },
  {
   "cell_type": "code",
   "execution_count": null,
   "id": "e69b0319-0230-4f2c-80aa-9969a927a70e",
   "metadata": {},
   "outputs": [],
   "source": [
    "init_state = {\n",
    "    \"client_name\": \"Jessica Palmer\",\n",
    "    \"client_email\": \"jessica.palmer@hasbro.com\",\n",
    "    \"meeting_timestamp\": \"2024-02-04 14:30:00\",\n",
    "    \"meeting_description\": \"Hasbro - Discuss Portfolio Diversification and Bond Strategy\",\n",
    "    \"report_length\": \"medium\",\n",
    "}\n",
    "result = compiled_graph.invoke(init_state)"
   ]
  },
  {
   "cell_type": "code",
   "execution_count": null,
   "id": "3aa91cef-1939-4d0f-b5fe-904bb5be0844",
   "metadata": {},
   "outputs": [],
   "source": [
    "summary = result[\"final_summary_sourced\"]\n",
    "print(summary)"
   ]
  },
  {
   "cell_type": "code",
   "execution_count": null,
   "id": "1894d6e7-3d4a-4dc8-8a83-9348c6442029",
   "metadata": {},
   "outputs": [],
   "source": [
    "# report style\n",
    "client_report = generate_med_report(result)\n",
    "save_html_to_file(\n",
    "    client_report, f\"../../generated_reports/client_report_hasbro_med_{today_date}.html\"\n",
    ")"
   ]
  },
  {
   "cell_type": "markdown",
   "id": "bddda580-9a04-4a14-8663-0fb379668e3c",
   "metadata": {},
   "source": [
    "# Testing for adding in sourcing"
   ]
  },
  {
   "cell_type": "code",
   "execution_count": null,
   "id": "9c4fa1da-0367-4883-b5a2-882f6659882c",
   "metadata": {},
   "outputs": [],
   "source": [
    "client_industry_summary = result.get(\"client_industry_sources\", [])\n",
    "macro_news_summary = result.get(\"macro_news_sources\", [])\n",
    "\n",
    "\n",
    "# Function to format and print client_industry and macro_news summaries\n",
    "def print_summary(summary, summary_name):\n",
    "    print(f\"\\n{summary_name}:\\n{'='*len(summary_name)}\")\n",
    "    for article in summary:\n",
    "        title = article.get(\"title\", \"No Title\")\n",
    "        snippet = article.get(\"snippet\", \"No Snippet\")\n",
    "        date = article.get(\"date\", \"No Date\")\n",
    "        link = article.get(\"link\", \"\")\n",
    "\n",
    "        # Extract the source from the domain of the link\n",
    "        source = link.split(\"/\")[2] if link else \"No Source\"\n",
    "\n",
    "        # Format and print the information\n",
    "        print(f\"Title: {title}\")\n",
    "        print(f\"Snippet: {snippet}\")\n",
    "        print(f\"Date: {date}\")\n",
    "        print(f\"Source: {source}\")\n",
    "        print(f\"Link: {link}\")  # Displaying the full link\n",
    "        print(\"-\" * 40)  # Just a separator for readability\n",
    "\n",
    "\n",
    "# Function to format and print the holdings summary\n",
    "def print_holdings_summary(holdings_sources):\n",
    "    print(\"\\nClient Holdings Summary:\")\n",
    "    print(\"========================\")\n",
    "\n",
    "    for holding, articles in holdings_sources.items():\n",
    "        print(f\"\\n--- {holding} ---\")\n",
    "        if not articles:\n",
    "            print(\"No news found.\")\n",
    "            continue\n",
    "\n",
    "        for article in articles:\n",
    "            title = article.get(\"title\", \"No Title\")\n",
    "            snippet = article.get(\"snippet\", \"No Snippet\")\n",
    "            date = article.get(\"date\", \"No Date\")\n",
    "            link = article.get(\"link\", \"\")\n",
    "            source = link.split(\"/\")[2] if link else \"No Source\"\n",
    "\n",
    "            print(f\"Title: {title}\")\n",
    "            print(f\"Snippet: {snippet}\")\n",
    "            print(f\"Date: {date}\")\n",
    "            print(f\"Source: {source}\")\n",
    "            print(f\"Link: {link}\")\n",
    "            print(\"-\" * 40)"
   ]
  },
  {
   "cell_type": "code",
   "execution_count": null,
   "id": "319c17b8-3078-46fe-8afb-9c2ee5c967e5",
   "metadata": {},
   "outputs": [],
   "source": [
    "from textwrap import wrap\n",
    "from currensee.core import get_model, settings\n",
    "\n",
    "\n",
    "def chunk_sources_with_metadata(\n",
    "    sources: dict[str, list[dict]], max_length: int = 1000\n",
    ") -> dict[str, tuple[str, str]]:\n",
    "    \"\"\"\n",
    "    Chunk each source's snippet and retain the original link with each chunk.\n",
    "    Returns a dict like { 'Client Industry Summary [1.1]': (chunk_text, source_url) }\n",
    "    \"\"\"\n",
    "    chunked = {}\n",
    "    for category, entries in sources.items():\n",
    "        for i, entry in enumerate(entries):\n",
    "            snippet = entry.get(\"snippet\", \"\")\n",
    "            link = entry.get(\"link\", \"\")\n",
    "            title = entry.get(\"title\", \"\")\n",
    "\n",
    "            full_text = f\"{title}\\n{snippet}\".strip()\n",
    "            chunks = wrap(\n",
    "                full_text, max_length, break_long_words=False, replace_whitespace=False\n",
    "            )\n",
    "\n",
    "            for j, chunk in enumerate(chunks):\n",
    "                key = f\"{category} [{i+1}.{j+1}]\"\n",
    "                chunked[key] = (chunk.strip(), link)\n",
    "    return chunked"
   ]
  },
  {
   "cell_type": "code",
   "execution_count": null,
   "id": "cb43915d-509f-4aef-904b-19d31fe3d84d",
   "metadata": {},
   "outputs": [],
   "source": [
    "def build_prompt_with_urls(\n",
    "    summary: str, chunked_sources: dict[str, tuple[str, str]]\n",
    ") -> str:\n",
    "    formatted_sources = \"\\n\\n\".join(\n",
    "        f\"{key} (Source: {url}):\\n{chunk}\"\n",
    "        for key, (chunk, url) in chunked_sources.items()\n",
    "    )\n",
    "\n",
    "    return f\"\"\"\n",
    "You are a financial analyst assistant. You generated the following summary:\n",
    "\n",
    "--- Summary ---\n",
    "{summary}\n",
    "\n",
    "You used these source snippets (each with its original URL):\n",
    "\n",
    "--- Sources ---\n",
    "{formatted_sources}\n",
    "\n",
    "Please map each claim from the summary to the URLs that support it. Format:\n",
    "\n",
    "- Summary claim: \"...\"\n",
    "  → Source URL(s): [\"https://...\"]\n",
    "\n",
    "Use only the URLs in the provided sources. Don't invent URLs.\n",
    "\"\"\"\n",
    "\n",
    "\n",
    "def format_holdings_sources(raw_sources):\n",
    "    if not raw_sources:\n",
    "        return []\n",
    "\n",
    "    formatted = []\n",
    "    for ticker, articles in raw_sources.items():\n",
    "        for article in articles:\n",
    "            formatted.append(\n",
    "                {\n",
    "                    \"title\": article.get(\"title\", ticker),\n",
    "                    \"snippet\": article.get(\"snippet\", \"\"),\n",
    "                    \"link\": article.get(\"link\", \"\"),\n",
    "                }\n",
    "            )\n",
    "    return formatted\n",
    "\n",
    "\n",
    "# Step 1: Get and chunk sources properly\n",
    "# sources = {\n",
    "#    \"Client Industry Summary\": result.get(\"client_industry_sources\", []),\n",
    "#    \"Holdings Summary\": format_holdings_sources(result.get(\"client_holdings_sources\", {})),\n",
    "#    \"Macro Summary\": result.get(\"macro_news_sources\", [])\n",
    "# }\n",
    "\n",
    "# chunked_sources = chunk_sources_with_metadata(sources)\n",
    "\n",
    "# Step 2: Compose prompt and ask LLM\n",
    "# prompt = build_prompt_with_urls(summary, chunked_sources)\n",
    "\n",
    "# Step 3: Invoke LLM\n",
    "# from langchain_core.messages import HumanMessage\n",
    "\n",
    "# model = get_model(settings.DEFAULT_MODEL)\n",
    "# response = model.invoke([HumanMessage(content=prompt)])"
   ]
  },
  {
   "cell_type": "code",
   "execution_count": null,
   "id": "8a896010-1092-4beb-8924-71300cd92d8c",
   "metadata": {},
   "outputs": [],
   "source": [
    "def get_soucing_prompt():\n",
    "    sources = {\n",
    "        \"Client Industry Summary\": result.get(\"client_industry_sources\", []),\n",
    "        \"Holdings Summary\": format_holdings_sources(\n",
    "            result.get(\"client_holdings_sources\", {})\n",
    "        ),\n",
    "        \"Macro Summary\": result.get(\"macro_news_sources\", []),\n",
    "    }\n",
    "    chunked_sources = chunk_sources_with_metadata(sources)\n",
    "\n",
    "    # Step 2: Compose prompt and ask LLM\n",
    "    prompt = build_prompt_with_urls(summary, chunked_sources)\n",
    "    return prompt"
   ]
  },
  {
   "cell_type": "code",
   "execution_count": null,
   "id": "8717668d-6d5b-409c-9cd7-ec9bce4c85d1",
   "metadata": {},
   "outputs": [],
   "source": [
    "sources = {\n",
    "    \"Client Industry Summary\": result.get(\"client_industry_sources\", []),\n",
    "    \"Holdings Summary\": format_holdings_sources(\n",
    "        result.get(\"client_holdings_sources\", {})\n",
    "    ),\n",
    "    \"Macro Summary\": result.get(\"macro_news_sources\", []),\n",
    "}\n",
    "chunked_sources = chunk_sources_with_metadata(sources)\n",
    "\n",
    "# Step 2: Compose prompt and ask LLM\n",
    "prompt = build_prompt_with_urls(summary, chunked_sources)"
   ]
  },
  {
   "cell_type": "code",
   "execution_count": null,
   "id": "d17601d2-5b07-4488-8599-89963222b3d9",
   "metadata": {},
   "outputs": [],
   "source": [
    "import re\n",
    "\n",
    "\n",
    "# Step 3.5: Filter the output to remove claims with no supporting URLs\n",
    "def filter_empty_sources(response_text: str) -> str:\n",
    "    # Split the output into individual claim blocks\n",
    "    claim_blocks = re.split(r\"\\n(?=- Summary claim:)\", response_text.strip())\n",
    "\n",
    "    # Keep only those blocks that contain at least one URL\n",
    "    filtered_blocks = [\n",
    "        block\n",
    "        for block in claim_blocks\n",
    "        if not re.search(r\"→ Source URL\\(s\\):\\s*\\[\\s*\\]\\s*(\\*.*\\*)?\", block)\n",
    "    ]\n",
    "\n",
    "    return \"\\n\\n\".join(filtered_blocks)\n",
    "\n",
    "\n",
    "def extract_claim_url_pairs(response_text: str) -> list[tuple[str, list[str]]]:\n",
    "    \"\"\"\n",
    "    Extracts a list of (claim, urls) from the LLM's response.\n",
    "    \"\"\"\n",
    "    claim_url_pairs = []\n",
    "    blocks = re.findall(\n",
    "        r'- Summary claim:\\s*\"(.*?)\"\\s*→ Source URL\\(s\\):\\s*(\\[.*?\\])',\n",
    "        response_text,\n",
    "        re.DOTALL,\n",
    "    )\n",
    "    for claim, urls_str in blocks:\n",
    "        try:\n",
    "            urls = eval(urls_str, {\"__builtins__\": None}, {})\n",
    "            if isinstance(urls, list) and all(isinstance(u, str) for u in urls):\n",
    "                claim_url_pairs.append((claim.strip(), urls))\n",
    "        except Exception:\n",
    "            continue\n",
    "    return claim_url_pairs"
   ]
  },
  {
   "cell_type": "code",
   "execution_count": null,
   "id": "475fac29-b14c-4a6c-a95a-19175f166d60",
   "metadata": {},
   "outputs": [],
   "source": [
    "def insert_links_into_summary(\n",
    "    summary: str, claim_url_pairs: list[tuple[str, list[str]]]\n",
    ") -> str:\n",
    "    \"\"\"\n",
    "    Inserts Markdown-style [Source] links after corresponding claims in the summary.\n",
    "    Only includes up to 3 sources per claim (truncates any extra).\n",
    "    \"\"\"\n",
    "    updated_summary = summary\n",
    "\n",
    "    for claim, urls in claim_url_pairs:\n",
    "        truncated_urls = urls[:3]  # ⛔ Truncate to at most 3 URLs\n",
    "\n",
    "        if len(truncated_urls) == 1:\n",
    "            link_text = f\" ([Source]({truncated_urls[0]}))\"\n",
    "        else:\n",
    "            link_text = (\n",
    "                \" (\"\n",
    "                + \", \".join(\n",
    "                    f\"[Source {i+1}]({url})\" for i, url in enumerate(truncated_urls)\n",
    "                )\n",
    "                + \")\"\n",
    "            )\n",
    "\n",
    "        pattern = re.escape(claim)\n",
    "        replacement = f\"{claim}{link_text}\"\n",
    "\n",
    "        updated_summary, count = re.subn(pattern, replacement, updated_summary, count=1)\n",
    "        if count == 0:\n",
    "            print(f\"⚠️ Could not find claim in summary: '{claim}'\")\n",
    "\n",
    "    return updated_summary"
   ]
  },
  {
   "cell_type": "code",
   "execution_count": null,
   "id": "46312962-0599-492d-99d0-4a9d4da0c4db",
   "metadata": {},
   "outputs": [],
   "source": [
    "# Step 3: Invoke LLM\n",
    "from langchain_core.messages import HumanMessage\n",
    "\n",
    "model = get_model(settings.DEFAULT_MODEL)\n",
    "\n",
    "\n",
    "def get_fin_linked_summary():\n",
    "    prompt = get_soucing_prompt()\n",
    "    response = model.invoke([HumanMessage(content=prompt)])\n",
    "    filtered_output = filter_empty_sources(response.content)\n",
    "    claim_url_pairs = extract_claim_url_pairs(filtered_output)\n",
    "    linked_summary = insert_links_into_summary(summary, claim_url_pairs)\n",
    "    return linked_summary"
   ]
  },
  {
   "cell_type": "code",
   "execution_count": null,
   "id": "d62f52ff-385c-48e0-ace3-a3fae605f3fc",
   "metadata": {},
   "outputs": [],
   "source": [
    "linked_summary = get_fin_linked_summary()\n",
    "print(linked_summary)"
   ]
  },
  {
   "cell_type": "code",
   "execution_count": null,
   "id": "3624576c-ddff-44f4-80c7-ca2fdc426492",
   "metadata": {},
   "outputs": [],
   "source": [
    "type(linked_summary)"
   ]
  },
  {
   "cell_type": "code",
   "execution_count": null,
   "id": "01e8264a-afe3-4c72-94ce-4fa4678330b9",
   "metadata": {},
   "outputs": [],
   "source": [
    "import re\n",
    "from weasyprint import HTML\n",
    "\n",
    "\n",
    "def convert_markdown_links_to_html(text: str) -> str:\n",
    "    \"\"\"\n",
    "    Converts markdown-style links like [Source 1](https://example.com)\n",
    "    into <a href=\"https://example.com\">Source 1</a>\n",
    "    \"\"\"\n",
    "    return re.sub(\n",
    "        r\"\\[([^\\]]+)\\]\\((https?://[^\\)]+)\\)\",\n",
    "        r'<a href=\"\\2\" target=\"_blank\" rel=\"noopener noreferrer\">\\1</a>',\n",
    "        text,\n",
    "    )\n",
    "\n",
    "\n",
    "def wrap_html(content: str) -> str:\n",
    "    \"\"\"\n",
    "    Wraps converted content in full HTML with proper styling.\n",
    "    \"\"\"\n",
    "    html_body = content.replace(\"\\n\", \"<br>\")\n",
    "    return f\"\"\"\n",
    "    <!DOCTYPE html>\n",
    "    <html>\n",
    "    <head>\n",
    "        <meta charset=\"utf-8\">\n",
    "        <style>\n",
    "            body {{\n",
    "                font-family: Arial, sans-serif;\n",
    "                font-size: 14px;\n",
    "                line-height: 1.6;\n",
    "                color: #000;\n",
    "                padding: 40px;\n",
    "            }}\n",
    "            a {{\n",
    "                color: #0645AD;\n",
    "                text-decoration: underline;\n",
    "            }}\n",
    "        </style>\n",
    "    </head>\n",
    "    <body>\n",
    "        {html_body}\n",
    "    </body>\n",
    "    </html>\n",
    "    \"\"\"\n",
    "\n",
    "\n",
    "def generate_pdf_from_summary(\n",
    "    linked_summary: str, output_file: str = \"final_summary.pdf\"\n",
    "):\n",
    "    \"\"\"\n",
    "    Converts markdown-like [Source](url) links to HTML, wraps it, and writes a working PDF.\n",
    "    \"\"\"\n",
    "    html_links = convert_markdown_links_to_html(linked_summary)\n",
    "    full_html = wrap_html(html_links)\n",
    "    HTML(string=full_html, base_url=\".\").write_pdf(output_file)\n",
    "    print(f\"✅ PDF created: {output_file}\")\n",
    "\n",
    "\n",
    "generate_pdf_from_summary(linked_summary, \"final_summary.pdf\")"
   ]
  },
  {
   "cell_type": "markdown",
   "id": "70a647ae-d08c-4d19-af45-76cf57b20883",
   "metadata": {},
   "source": [
    "# Test Case 6"
   ]
  },
  {
   "cell_type": "code",
   "execution_count": null,
   "id": "54542167-5bee-48d3-93ea-bcc467f4eef4",
   "metadata": {},
   "outputs": [],
   "source": [
    "init_state = {\n",
    "    \"client_name\": \"Timothy Ochoa\",\n",
    "    \"client_email\": \"timothy.ochoa@hyatthotels.com\",\n",
    "    \"meeting_timestamp\": \"2024-02-27 10:00:00\",\n",
    "    \"meeting_description\": \"Hyatt Hotels - Check Status of 401k Advisory RFI Launch\",\n",
    "}\n",
    "result = compiled_graph.invoke(init_state)\n",
    "summary = result[\"final_summary\"]\n",
    "full_report = summary\n",
    "print(full_report)"
   ]
  },
  {
   "cell_type": "code",
   "execution_count": null,
   "id": "1229e3a0-2742-482b-a7ba-66a3f8656f3d",
   "metadata": {},
   "outputs": [],
   "source": [
    "# Generate HTML Report\n",
    "# result = compiled_graph.invoke(init_state)\n",
    "# Run this line will save the result\n",
    "# joblib.dump(result, 'result.joblib')\n",
    "# result = joblib.load('result.joblib')\n",
    "client_report = generate_long_report(result)\n",
    "save_html_to_file(\n",
    "    client_report,\n",
    "    f\"../../generated_reports/client_report_sample_hasbro_{today_date}.html\",\n",
    ")\n",
    "# save_html_to_file(client_report, 'client_report_sample.html')"
   ]
  },
  {
   "cell_type": "code",
   "execution_count": null,
   "id": "cd2b0255-860c-4080-b632-ce108093cb57",
   "metadata": {},
   "outputs": [],
   "source": [
    "save_html_to_file(\n",
    "    client_report,\n",
    "    f\"../../generated_reports/client_report_sample_hasbro_{today_date}.html\",\n",
    ")"
   ]
  },
  {
   "cell_type": "markdown",
   "id": "9dcf34f2-e5e4-4700-80a8-94d96085cdd6",
   "metadata": {},
   "source": [
    "# Pull of emails from test client "
   ]
  },
  {
   "cell_type": "code",
   "execution_count": null,
   "id": "039a4846-c3c7-4a8a-a983-12e33c4f4c36",
   "metadata": {},
   "outputs": [],
   "source": [
    "from google.cloud import secretmanager\n",
    "import pandas as pd\n",
    "import numpy as np\n",
    "from currensee.utils.db_utils import create_pg_engine\n",
    "from sqlalchemy import text\n",
    "\n",
    "pd.set_option(\"display.max_colwidth\", None)"
   ]
  },
  {
   "cell_type": "code",
   "execution_count": null,
   "id": "ab85e5ad-75d7-44f1-b124-8f7107b134ed",
   "metadata": {},
   "outputs": [],
   "source": [
    "# Define DB_NAME\n",
    "DB_NAME = \"crm_outlook\""
   ]
  },
  {
   "cell_type": "code",
   "execution_count": null,
   "id": "f66eb336-89b3-4aed-940c-63d2a653fc60",
   "metadata": {},
   "outputs": [],
   "source": [
    "engine = create_pg_engine(db_name=DB_NAME)"
   ]
  },
  {
   "cell_type": "code",
   "execution_count": null,
   "id": "385d79b7-b132-49b4-9fa0-54c3abbd7d25",
   "metadata": {},
   "outputs": [],
   "source": [
    "df_result = pd.read_sql(\n",
    "    \"SELECT * FROM meeting_data where invitee_emails = 'timothy.ochoa@hyatthotels.com' order by meeting_timestamp desc \",\n",
    "    con=engine,\n",
    ")\n",
    "df_result"
   ]
  },
  {
   "cell_type": "code",
   "execution_count": null,
   "id": "73e4ed3f-51a2-4996-90eb-b4ecec75030e",
   "metadata": {},
   "outputs": [],
   "source": [
    "df_result = pd.read_sql(\n",
    "    \"SELECT * FROM meeting_data where invitee_emails = 'jennifer.phelps@aerovironment.com' \",\n",
    "    con=engine,\n",
    ")\n",
    "df_result"
   ]
  },
  {
   "cell_type": "code",
   "execution_count": null,
   "id": "6b38f32c-d8ea-467f-9402-d47e45ad5b62",
   "metadata": {},
   "outputs": [],
   "source": [
    "df_result = pd.read_sql(\n",
    "    \"SELECT * FROM meeting_data where invitee_emails = 'jessica.palmer@hasbro.com'\",\n",
    "    con=engine,\n",
    ")\n",
    "df_result.head(20)"
   ]
  },
  {
   "cell_type": "code",
   "execution_count": null,
   "id": "24fe9258-0806-40ab-a242-07252fd671e7",
   "metadata": {},
   "outputs": [],
   "source": [
    "df_result = pd.read_sql(\n",
    "    \"SELECT * FROM email_data where (to_emails = 'jessica.palmer@hasbro.com' or from_email = 'jessica.palmer@hasbro.com' ) order by email_timestamp desc \",\n",
    "    con=engine,\n",
    ")\n",
    "df_result.head(3)"
   ]
  },
  {
   "cell_type": "code",
   "execution_count": null,
   "id": "d401d62c-1b65-4266-a6a1-3bcebeae5f71",
   "metadata": {},
   "outputs": [],
   "source": [
    "df_result = pd.read_sql(\n",
    "    \"SELECT * FROM email_data where to_emails = 'adam.clay@compass.com' order by email_timestamp desc \",\n",
    "    con=engine,\n",
    ")\n",
    "df_result"
   ]
  },
  {
   "cell_type": "code",
   "execution_count": null,
   "id": "00e3f127-6359-4da8-b4ec-d3a0deb23943",
   "metadata": {},
   "outputs": [],
   "source": [
    "df_result = pd.read_sql(\n",
    "    \"SELECT count(*) FROM email_data where to_emails = 'adam.clay@compass.com' \",\n",
    "    con=engine,\n",
    ")\n",
    "print(df_result)"
   ]
  },
  {
   "cell_type": "code",
   "execution_count": null,
   "id": "b3a873e1-fa8c-4ba7-b54d-cd5b853c0ac6",
   "metadata": {},
   "outputs": [],
   "source": [
    "df_result = pd.read_sql(\n",
    "    \"SELECT * FROM meeting_data order by meeting_timestamp desc limit 10 \", con=engine\n",
    ")\n",
    "df_result"
   ]
  },
  {
   "cell_type": "code",
   "execution_count": null,
   "id": "1bf13470-7e0c-484f-93ad-c18d21410ba7",
   "metadata": {},
   "outputs": [],
   "source": [
    "df_result = pd.read_sql(\n",
    "    \"SELECT * FROM email_data where (to_emails = 'timothy.ochoa@hyatthotels.com' or from_email = 'timothy.ochoa@hyatthotels.com' ) order by email_timestamp desc \",\n",
    "    con=engine,\n",
    ")\n",
    "df_result.head(10)"
   ]
  },
  {
   "cell_type": "code",
   "execution_count": null,
   "id": "0510d0e6-71b9-49a3-b9fc-cdd9b744fcd6",
   "metadata": {},
   "outputs": [],
   "source": []
  },
  {
   "cell_type": "code",
   "execution_count": null,
   "id": "8993e16a-cd72-48d4-a462-396575262c4a",
   "metadata": {},
   "outputs": [],
   "source": []
  }
 ],
 "metadata": {
  "environment": {
   "kernel": "conda-env-lc_currensee-lc_currensee",
   "name": "workbench-notebooks.m129",
   "type": "gcloud",
   "uri": "us-docker.pkg.dev/deeplearning-platform-release/gcr.io/workbench-notebooks:m129"
  },
  "kernelspec": {
   "display_name": "lc_currensee",
   "language": "python",
   "name": "conda-env-lc_currensee-lc_currensee"
  },
  "language_info": {
   "codemirror_mode": {
    "name": "ipython",
    "version": 3
   },
   "file_extension": ".py",
   "mimetype": "text/x-python",
   "name": "python",
   "nbconvert_exporter": "python",
   "pygments_lexer": "ipython3"
  }
 },
 "nbformat": 4,
 "nbformat_minor": 5
}
