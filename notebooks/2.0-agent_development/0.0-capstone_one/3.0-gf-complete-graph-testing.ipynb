{
 "cells": [
  {
   "cell_type": "code",
   "execution_count": null,
   "id": "c57516d8-1607-4573-bcdd-c78af6861c7e",
   "metadata": {},
   "outputs": [],
   "source": [
    "from currensee.agents.complete_graph import compiled_graph\n",
    "from currensee.agents.tools.finance_tools import generate_macro_table\n",
    "import warnings\n",
    "\n",
    "warnings.filterwarnings(\"ignore\")"
   ]
  },
  {
   "cell_type": "markdown",
   "id": "0382d110-7666-4cf9-8664-a6ec2799f35e",
   "metadata": {},
   "source": [
    "## Define Initial State\n",
    "\n",
    "This is data that we should be retrieving from each meeting invite.\n",
    "\n",
    "**DO NOT** change this data until the CRM DB has been updated"
   ]
  },
  {
   "cell_type": "code",
   "execution_count": null,
   "id": "dcc4c7df-7a99-4862-b4ff-e84ed8dfc48c",
   "metadata": {},
   "outputs": [],
   "source": [
    "init_state = {\n",
    "    \"client_name\": \"Adam Clay\",\n",
    "    \"client_email\": \"adam.clay@compass.com\",\n",
    "    \"meeting_timestamp\": \"2024-03-26 11:00:00\",\n",
    "    \"meeting_description\": \"Compass - Annual Credit Facility Review Meeting\",\n",
    "}"
   ]
  },
  {
   "cell_type": "code",
   "execution_count": null,
   "id": "29f2077c-f68b-4ed1-b7ad-aad02c3599c7",
   "metadata": {},
   "outputs": [],
   "source": [
    "# Email prompt summary should be updated in the file\n",
    "# currensee/agents/tools/outlook_tools.py in the function produce_client_email_summary"
   ]
  },
  {
   "cell_type": "code",
   "execution_count": null,
   "id": "d7668b28-243a-46ca-907c-a6445913a637",
   "metadata": {},
   "outputs": [],
   "source": [
    "# Finance news prompt summary should be updated in the file\n",
    "# currensee/agents/tools/finance_tools.py in the summarize_finance_outputs function"
   ]
  },
  {
   "cell_type": "code",
   "execution_count": null,
   "id": "e71339a6-c098-47df-bb6d-acb6bcb1dc75",
   "metadata": {},
   "outputs": [],
   "source": [
    "result = compiled_graph.invoke(init_state)"
   ]
  },
  {
   "cell_type": "code",
   "execution_count": null,
   "id": "c5ae11b7-32be-4660-b462-69fb01173a5d",
   "metadata": {},
   "outputs": [],
   "source": [
    "summary = result[\"final_summary\"]\n",
    "\n",
    "# === Add the macro snapshot\n",
    "macro_table = generate_macro_table()"
   ]
  },
  {
   "cell_type": "code",
   "execution_count": null,
   "id": "7200286f-fc4e-4de0-bbc9-df9486c1cf9c",
   "metadata": {},
   "outputs": [],
   "source": [
    "full_report = summary + \"\\n\\n### Macro Financial Snapshot\\n\\n\" + macro_table\n",
    "print(full_report)"
   ]
  },
  {
   "cell_type": "code",
   "execution_count": null,
   "id": "1847336d-2d99-48cd-aa05-6429107a7599",
   "metadata": {},
   "outputs": [],
   "source": []
  },
  {
   "cell_type": "code",
   "execution_count": null,
   "id": "1ae1f39b-e207-475f-bc60-94c89708b38a",
   "metadata": {},
   "outputs": [],
   "source": [
    "# Traceback\n",
    "\n",
    "client_industry_sources = result.get(\"client_industry_sources\", [])\n",
    "macro_news_sources = result.get(\"macro_news_sources\", [])\n",
    "# client_holdings_sources = result.get('client_holdings_sources', [])\n",
    "\n",
    "\n",
    "# Function to format and print each summary\n",
    "def print_summary(summary, summary_name):\n",
    "    print(f\"\\n{summary_name}:\\n{'='*len(summary_name)}\")\n",
    "    for article in summary:\n",
    "        title = article.get(\"title\", \"No Title\")\n",
    "        snippet = article.get(\"snippet\", \"No Snippet\")\n",
    "        date = article.get(\"date\", \"No Date\")\n",
    "        link = article.get(\"link\", \"\")\n",
    "\n",
    "        # Extract the source from the domain of the link\n",
    "        source = link.split(\"/\")[2] if link else \"No Source\"\n",
    "\n",
    "        # Format and print the information\n",
    "        print(f\"Title: {title}\")\n",
    "        print(f\"Snippet: {snippet}\")\n",
    "        print(f\"Date: {date}\")\n",
    "        print(f\"Source: {source}\")\n",
    "        print(f\"Link: {link}\")  # Displaying the full link\n",
    "        print(\"-\" * 40)  # Just a separator for readability\n",
    "\n",
    "\n",
    "# Print the formatted summaries\n",
    "print_summary(client_industry_sources, \"Client Industry Summary\")\n",
    "print_summary(macro_news_sources, \"Macro News Summary\")\n",
    "# print_summary(client_holdings_sources, 'Client Holdings Summary')"
   ]
  },
  {
   "cell_type": "code",
   "execution_count": null,
   "id": "2d21071e-2f3f-4c83-903f-4b02ec639369",
   "metadata": {},
   "outputs": [],
   "source": [
    "result"
   ]
  },
  {
   "cell_type": "code",
   "execution_count": null,
   "id": "d7665559-659a-426a-8e7f-cb65b0023e33",
   "metadata": {},
   "outputs": [],
   "source": []
  },
  {
   "cell_type": "code",
   "execution_count": null,
   "id": "f052a252-fc2d-4771-8dd7-d1f3e71ea148",
   "metadata": {},
   "outputs": [],
   "source": []
  },
  {
   "cell_type": "code",
   "execution_count": null,
   "id": "c9d8804c-9eec-4e38-83ae-dd28c44844f3",
   "metadata": {},
   "outputs": [],
   "source": []
  }
 ],
 "metadata": {
  "environment": {
   "kernel": "conda-env-gf_currensee-gf_currensee",
   "name": "workbench-notebooks.m129",
   "type": "gcloud",
   "uri": "us-docker.pkg.dev/deeplearning-platform-release/gcr.io/workbench-notebooks:m129"
  },
  "kernelspec": {
   "display_name": "gf_currensee",
   "language": "python",
   "name": "conda-env-gf_currensee-gf_currensee"
  },
  "language_info": {
   "codemirror_mode": {
    "name": "ipython",
    "version": 3
   },
   "file_extension": ".py",
   "mimetype": "text/x-python",
   "name": "python",
   "nbconvert_exporter": "python",
   "pygments_lexer": "ipython3"
  }
 },
 "nbformat": 4,
 "nbformat_minor": 5
}
