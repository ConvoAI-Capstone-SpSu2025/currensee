{
 "cells": [
  {
   "cell_type": "code",
   "execution_count": 2,
   "id": "c57516d8-1607-4573-bcdd-c78af6861c7e",
   "metadata": {},
   "outputs": [
    {
     "name": "stderr",
     "output_type": "stream",
     "text": [
      "2025-06-29 22:24:31,030 - currensee.core.secrets - INFO - PROJECT_ID not found, attempting to load from .env file\n",
      "2025-06-29 22:24:31,034 - currensee.core.secrets - INFO - Loaded environment from ./.env\n"
     ]
    },
    {
     "ename": "ValueError",
     "evalue": "PROJECT_ID environment variable must be set",
     "output_type": "error",
     "traceback": [
      "\u001b[31m---------------------------------------------------------------------------\u001b[39m",
      "\u001b[31mValueError\u001b[39m                                Traceback (most recent call last)",
      "\u001b[36mCell\u001b[39m\u001b[36m \u001b[39m\u001b[32mIn[2]\u001b[39m\u001b[32m, line 1\u001b[39m\n\u001b[32m----> \u001b[39m\u001b[32m1\u001b[39m \u001b[38;5;28;01mfrom\u001b[39;00m\u001b[38;5;250m \u001b[39m\u001b[34;01mcurrensee\u001b[39;00m\u001b[34;01m.\u001b[39;00m\u001b[34;01magents\u001b[39;00m\u001b[34;01m.\u001b[39;00m\u001b[34;01mcomplete_graph\u001b[39;00m\u001b[38;5;250m \u001b[39m\u001b[38;5;28;01mimport\u001b[39;00m compiled_graph\n\u001b[32m      2\u001b[39m \u001b[38;5;28;01mfrom\u001b[39;00m\u001b[38;5;250m \u001b[39m\u001b[34;01mcurrensee\u001b[39;00m\u001b[34;01m.\u001b[39;00m\u001b[34;01magents\u001b[39;00m\u001b[34;01m.\u001b[39;00m\u001b[34;01mtools\u001b[39;00m\u001b[34;01m.\u001b[39;00m\u001b[34;01mfinance_tools\u001b[39;00m\u001b[38;5;250m \u001b[39m\u001b[38;5;28;01mimport\u001b[39;00m generate_macro_table\n\u001b[32m      3\u001b[39m \u001b[38;5;28;01mfrom\u001b[39;00m\u001b[38;5;250m \u001b[39m\u001b[34;01mcurrensee\u001b[39;00m\u001b[34;01m.\u001b[39;00m\u001b[34;01mutils\u001b[39;00m\u001b[34;01m.\u001b[39;00m\u001b[34;01moutput_utils\u001b[39;00m\u001b[38;5;250m \u001b[39m\u001b[38;5;28;01mimport\u001b[39;00m (\n\u001b[32m      4\u001b[39m     generate_long_report,\n\u001b[32m      5\u001b[39m     format_news_summary_to_html,\n\u001b[32m   (...)\u001b[39m\u001b[32m     11\u001b[39m     thumbs_buttons,\n\u001b[32m     12\u001b[39m )\n",
      "\u001b[36mFile \u001b[39m\u001b[32m~/xf_currensee/currensee/src/currensee/agents/complete_graph.py:5\u001b[39m\n\u001b[32m      2\u001b[39m \u001b[38;5;28;01mfrom\u001b[39;00m\u001b[38;5;250m \u001b[39m\u001b[34;01mlangchain_core\u001b[39;00m\u001b[34;01m.\u001b[39;00m\u001b[34;01mmessages\u001b[39;00m\u001b[38;5;250m \u001b[39m\u001b[38;5;28;01mimport\u001b[39;00m HumanMessage\n\u001b[32m      3\u001b[39m \u001b[38;5;28;01mfrom\u001b[39;00m\u001b[38;5;250m \u001b[39m\u001b[34;01mlanggraph\u001b[39;00m\u001b[34;01m.\u001b[39;00m\u001b[34;01mgraph\u001b[39;00m\u001b[38;5;250m \u001b[39m\u001b[38;5;28;01mimport\u001b[39;00m END, START, StateGraph\n\u001b[32m----> \u001b[39m\u001b[32m5\u001b[39m \u001b[38;5;28;01mfrom\u001b[39;00m\u001b[38;5;250m \u001b[39m\u001b[34;01mcurrensee\u001b[39;00m\u001b[34;01m.\u001b[39;00m\u001b[34;01magents\u001b[39;00m\u001b[34;01m.\u001b[39;00m\u001b[34;01magent_utils\u001b[39;00m\u001b[38;5;250m \u001b[39m\u001b[38;5;28;01mimport\u001b[39;00m summarize_all_outputs\n\u001b[32m      6\u001b[39m \u001b[38;5;28;01mfrom\u001b[39;00m\u001b[38;5;250m \u001b[39m\u001b[34;01mcurrensee\u001b[39;00m\u001b[34;01m.\u001b[39;00m\u001b[34;01magents\u001b[39;00m\u001b[34;01m.\u001b[39;00m\u001b[34;01mtools\u001b[39;00m\u001b[34;01m.\u001b[39;00m\u001b[34;01mbase\u001b[39;00m\u001b[38;5;250m \u001b[39m\u001b[38;5;28;01mimport\u001b[39;00m SupervisorState\n\u001b[32m      7\u001b[39m \u001b[38;5;28;01mfrom\u001b[39;00m\u001b[38;5;250m \u001b[39m\u001b[34;01mcurrensee\u001b[39;00m\u001b[34;01m.\u001b[39;00m\u001b[34;01magents\u001b[39;00m\u001b[34;01m.\u001b[39;00m\u001b[34;01mtools\u001b[39;00m\u001b[34;01m.\u001b[39;00m\u001b[34;01mcrm_tools\u001b[39;00m\u001b[38;5;250m \u001b[39m\u001b[38;5;28;01mimport\u001b[39;00m retrieve_client_metadata\n",
      "\u001b[36mFile \u001b[39m\u001b[32m~/xf_currensee/currensee/src/currensee/agents/agent_utils.py:9\u001b[39m\n\u001b[32m      6\u001b[39m \u001b[38;5;28;01mfrom\u001b[39;00m\u001b[38;5;250m \u001b[39m\u001b[34;01mlanggraph\u001b[39;00m\u001b[34;01m.\u001b[39;00m\u001b[34;01mgraph\u001b[39;00m\u001b[34;01m.\u001b[39;00m\u001b[34;01mstate\u001b[39;00m\u001b[38;5;250m \u001b[39m\u001b[38;5;28;01mimport\u001b[39;00m CompiledStateGraph\n\u001b[32m      8\u001b[39m \u001b[38;5;28;01mfrom\u001b[39;00m\u001b[38;5;250m \u001b[39m\u001b[34;01mcurrensee\u001b[39;00m\u001b[34;01m.\u001b[39;00m\u001b[34;01magents\u001b[39;00m\u001b[34;01m.\u001b[39;00m\u001b[34;01mtools\u001b[39;00m\u001b[34;01m.\u001b[39;00m\u001b[34;01mbase\u001b[39;00m\u001b[38;5;250m \u001b[39m\u001b[38;5;28;01mimport\u001b[39;00m SupervisorState\n\u001b[32m----> \u001b[39m\u001b[32m9\u001b[39m \u001b[38;5;28;01mfrom\u001b[39;00m\u001b[38;5;250m \u001b[39m\u001b[34;01mcurrensee\u001b[39;00m\u001b[34;01m.\u001b[39;00m\u001b[34;01mcore\u001b[39;00m\u001b[38;5;250m \u001b[39m\u001b[38;5;28;01mimport\u001b[39;00m get_model, settings\n\u001b[32m     10\u001b[39m \u001b[38;5;28;01mfrom\u001b[39;00m\u001b[38;5;250m \u001b[39m\u001b[34;01mcurrensee\u001b[39;00m\u001b[34;01m.\u001b[39;00m\u001b[34;01mschema\u001b[39;00m\u001b[38;5;250m \u001b[39m\u001b[38;5;28;01mimport\u001b[39;00m AgentInfo\n\u001b[32m     12\u001b[39m load_dotenv()\n",
      "\u001b[36mFile \u001b[39m\u001b[32m~/xf_currensee/currensee/src/currensee/core/__init__.py:1\u001b[39m\n\u001b[32m----> \u001b[39m\u001b[32m1\u001b[39m \u001b[38;5;28;01mfrom\u001b[39;00m\u001b[38;5;250m \u001b[39m\u001b[34;01mcurrensee\u001b[39;00m\u001b[34;01m.\u001b[39;00m\u001b[34;01mcore\u001b[39;00m\u001b[34;01m.\u001b[39;00m\u001b[34;01mllm\u001b[39;00m\u001b[38;5;250m \u001b[39m\u001b[38;5;28;01mimport\u001b[39;00m get_model\n\u001b[32m      2\u001b[39m \u001b[38;5;28;01mfrom\u001b[39;00m\u001b[38;5;250m \u001b[39m\u001b[34;01mcurrensee\u001b[39;00m\u001b[34;01m.\u001b[39;00m\u001b[34;01mcore\u001b[39;00m\u001b[34;01m.\u001b[39;00m\u001b[34;01msecrets\u001b[39;00m\u001b[38;5;250m \u001b[39m\u001b[38;5;28;01mimport\u001b[39;00m get_secret, get_secret_str\n\u001b[32m      3\u001b[39m \u001b[38;5;28;01mfrom\u001b[39;00m\u001b[38;5;250m \u001b[39m\u001b[34;01mcurrensee\u001b[39;00m\u001b[34;01m.\u001b[39;00m\u001b[34;01mcore\u001b[39;00m\u001b[34;01m.\u001b[39;00m\u001b[34;01msettings\u001b[39;00m\u001b[38;5;250m \u001b[39m\u001b[38;5;28;01mimport\u001b[39;00m settings\n",
      "\u001b[36mFile \u001b[39m\u001b[32m~/xf_currensee/currensee/src/currensee/core/llm.py:7\u001b[39m\n\u001b[32m      4\u001b[39m \u001b[38;5;28;01mfrom\u001b[39;00m\u001b[38;5;250m \u001b[39m\u001b[34;01mlangchain_community\u001b[39;00m\u001b[34;01m.\u001b[39;00m\u001b[34;01mchat_models\u001b[39;00m\u001b[38;5;250m \u001b[39m\u001b[38;5;28;01mimport\u001b[39;00m FakeListChatModel\n\u001b[32m      5\u001b[39m \u001b[38;5;28;01mfrom\u001b[39;00m\u001b[38;5;250m \u001b[39m\u001b[34;01mlangchain_google_genai\u001b[39;00m\u001b[38;5;250m \u001b[39m\u001b[38;5;28;01mimport\u001b[39;00m ChatGoogleGenerativeAI\n\u001b[32m----> \u001b[39m\u001b[32m7\u001b[39m \u001b[38;5;28;01mfrom\u001b[39;00m\u001b[38;5;250m \u001b[39m\u001b[34;01mcurrensee\u001b[39;00m\u001b[34;01m.\u001b[39;00m\u001b[34;01mcore\u001b[39;00m\u001b[34;01m.\u001b[39;00m\u001b[34;01msettings\u001b[39;00m\u001b[38;5;250m \u001b[39m\u001b[38;5;28;01mimport\u001b[39;00m settings\n\u001b[32m      8\u001b[39m \u001b[38;5;28;01mfrom\u001b[39;00m\u001b[38;5;250m \u001b[39m\u001b[34;01mcurrensee\u001b[39;00m\u001b[34;01m.\u001b[39;00m\u001b[34;01mschema\u001b[39;00m\u001b[34;01m.\u001b[39;00m\u001b[34;01mmodels\u001b[39;00m\u001b[38;5;250m \u001b[39m\u001b[38;5;28;01mimport\u001b[39;00m (AllModelEnum, FakeModelName,\n\u001b[32m      9\u001b[39m                                      GoogleModelName)\n\u001b[32m     11\u001b[39m _MODEL_TABLE = {\n\u001b[32m     12\u001b[39m     GoogleModelName.GEMINI_15_FLASH: \u001b[33m\"\u001b[39m\u001b[33mgemini-1.5-flash\u001b[39m\u001b[33m\"\u001b[39m,\n\u001b[32m     13\u001b[39m     GoogleModelName.GEMINI_20_FLASH: \u001b[33m\"\u001b[39m\u001b[33mgemini-2.0-flash\u001b[39m\u001b[33m\"\u001b[39m,\n\u001b[32m     14\u001b[39m     FakeModelName.FAKE: \u001b[33m\"\u001b[39m\u001b[33mfake\u001b[39m\u001b[33m\"\u001b[39m,\n\u001b[32m     15\u001b[39m }\n",
      "\u001b[36mFile \u001b[39m\u001b[32m~/xf_currensee/currensee/src/currensee/core/settings.py:18\u001b[39m\n\u001b[32m     15\u001b[39m \u001b[38;5;66;03m# Try to import the secrets module\u001b[39;00m\n\u001b[32m     16\u001b[39m \u001b[38;5;66;03m# We use a try-except to allow the settings module to work even if the secrets module isn't available\u001b[39;00m\n\u001b[32m     17\u001b[39m \u001b[38;5;28;01mtry\u001b[39;00m:\n\u001b[32m---> \u001b[39m\u001b[32m18\u001b[39m     \u001b[38;5;28;01mfrom\u001b[39;00m\u001b[38;5;250m \u001b[39m\u001b[34;01mcurrensee\u001b[39;00m\u001b[34;01m.\u001b[39;00m\u001b[34;01mcore\u001b[39;00m\u001b[34;01m.\u001b[39;00m\u001b[34;01msecrets\u001b[39;00m\u001b[38;5;250m \u001b[39m\u001b[38;5;28;01mimport\u001b[39;00m get_secret, get_secret_str\n\u001b[32m     20\u001b[39m     HAS_SECRET_MANAGER = \u001b[38;5;28;01mTrue\u001b[39;00m\n\u001b[32m     21\u001b[39m \u001b[38;5;28;01mexcept\u001b[39;00m \u001b[38;5;167;01mImportError\u001b[39;00m:\n",
      "\u001b[36mFile \u001b[39m\u001b[32m~/xf_currensee/currensee/src/currensee/core/secrets.py:166\u001b[39m\n\u001b[32m    162\u001b[39m         \u001b[38;5;28;01mreturn\u001b[39;00m SecretStr(value) \u001b[38;5;28;01mif\u001b[39;00m value \u001b[38;5;129;01mis\u001b[39;00m \u001b[38;5;129;01mnot\u001b[39;00m \u001b[38;5;28;01mNone\u001b[39;00m \u001b[38;5;28;01melse\u001b[39;00m \u001b[38;5;28;01mNone\u001b[39;00m\n\u001b[32m    165\u001b[39m \u001b[38;5;66;03m# Singleton instance\u001b[39;00m\n\u001b[32m--> \u001b[39m\u001b[32m166\u001b[39m secret_manager = \u001b[43mSecretManager\u001b[49m\u001b[43m(\u001b[49m\u001b[43m)\u001b[49m\n\u001b[32m    169\u001b[39m \u001b[38;5;28;01mdef\u001b[39;00m\u001b[38;5;250m \u001b[39m\u001b[34mget_secret\u001b[39m(secret_id: \u001b[38;5;28mstr\u001b[39m) -> Optional[\u001b[38;5;28mstr\u001b[39m]:\n\u001b[32m    170\u001b[39m \u001b[38;5;250m    \u001b[39m\u001b[33;03m\"\"\"\u001b[39;00m\n\u001b[32m    171\u001b[39m \u001b[33;03m    Convenience function to retrieve a secret.\u001b[39;00m\n\u001b[32m    172\u001b[39m \n\u001b[32m   (...)\u001b[39m\u001b[32m    177\u001b[39m \u001b[33;03m        The secret value or None if not found\u001b[39;00m\n\u001b[32m    178\u001b[39m \u001b[33;03m    \"\"\"\u001b[39;00m\n",
      "\u001b[36mFile \u001b[39m\u001b[32m~/xf_currensee/currensee/src/currensee/core/secrets.py:53\u001b[39m, in \u001b[36mSecretManager.__init__\u001b[39m\u001b[34m(self)\u001b[39m\n\u001b[32m     51\u001b[39m \u001b[38;5;66;03m# If still not found, raise error\u001b[39;00m\n\u001b[32m     52\u001b[39m \u001b[38;5;28;01mif\u001b[39;00m \u001b[38;5;129;01mnot\u001b[39;00m \u001b[38;5;28mself\u001b[39m._project_id:\n\u001b[32m---> \u001b[39m\u001b[32m53\u001b[39m     \u001b[38;5;28;01mraise\u001b[39;00m \u001b[38;5;167;01mValueError\u001b[39;00m(\u001b[33m\"\u001b[39m\u001b[33mPROJECT_ID environment variable must be set\u001b[39m\u001b[33m\"\u001b[39m)\n\u001b[32m     55\u001b[39m logger.info(\u001b[33mf\u001b[39m\u001b[33m\"\u001b[39m\u001b[33mSecretManager initialized with project_id: \u001b[39m\u001b[38;5;132;01m{\u001b[39;00m\u001b[38;5;28mself\u001b[39m._project_id\u001b[38;5;132;01m}\u001b[39;00m\u001b[33m\"\u001b[39m)\n\u001b[32m     57\u001b[39m \u001b[38;5;28mself\u001b[39m._client = \u001b[38;5;28;01mNone\u001b[39;00m\n",
      "\u001b[31mValueError\u001b[39m: PROJECT_ID environment variable must be set"
     ]
    }
   ],
   "source": [
    "from currensee.agents.complete_graph import compiled_graph\n",
    "from currensee.agents.tools.finance_tools import generate_macro_table\n",
    "from currensee.utils.output_utils import (\n",
    "    generate_long_report,\n",
    "    format_news_summary_to_html,\n",
    "    format_paragraph_summary_to_html,\n",
    "    save_html_to_file,\n",
    "    generate_short_report,\n",
    "    generate_med_report,\n",
    "    convert_html_to_pdf,\n",
    "    thumbs_buttons,\n",
    ")\n",
    "import warnings\n",
    "import joblib\n",
    "\n",
    "warnings.filterwarnings(\"ignore\")"
   ]
  },
  {
   "cell_type": "code",
   "execution_count": null,
   "id": "4be3b97a-8f20-41ad-acfb-3a6759c8cc9c",
   "metadata": {},
   "outputs": [],
   "source": [
    "from dotenv import load_dotenv\n",
    "\n",
    "load_dotenv()"
   ]
  },
  {
   "cell_type": "markdown",
   "id": "0382d110-7666-4cf9-8664-a6ec2799f35e",
   "metadata": {},
   "source": [
    "## Define Initial State\n",
    "\n",
    "This is data that we should be retrieving from each meeting invite.\n",
    "\n",
    "**DO NOT** change this data until the CRM DB has been updated"
   ]
  },
  {
   "cell_type": "code",
   "execution_count": null,
   "id": "dcc4c7df-7a99-4862-b4ff-e84ed8dfc48c",
   "metadata": {},
   "outputs": [],
   "source": [
    "init_state = {\n",
    "    \"client_name\": \"Jessica Palmer\",\n",
    "    \"client_email\": \"jessica.palmer@hasbro.com\",\n",
    "    \"meeting_timestamp\": \"2024-02-04 14:30:00\",\n",
    "    \"meeting_description\": \"Hasbro - Discuss Portfolio Diversification and Bond Strategy\",  # 'short' , 'medium' , 'long' (default)\n",
    "}"
   ]
  },
  {
   "cell_type": "markdown",
   "id": "6467fae6-6295-4dc3-bfcf-6a0ae93389cf",
   "metadata": {},
   "source": [
    "## Format Long Report"
   ]
  },
  {
   "cell_type": "code",
   "execution_count": null,
   "id": "d066cdbc-1b61-4271-9989-16ecc80a7d5c",
   "metadata": {},
   "outputs": [],
   "source": [
    "# result = compiled_graph.invoke(init_state)"
   ]
  },
  {
   "cell_type": "code",
   "execution_count": null,
   "id": "b2882465-4154-44a3-ba74-99793a5d74f3",
   "metadata": {},
   "outputs": [],
   "source": [
    "# Run this line will save the result\n",
    "# joblib.dump(result, 'long_result.joblib')"
   ]
  },
  {
   "cell_type": "code",
   "execution_count": null,
   "id": "8063fbf1-ef27-4f02-b502-1c355a7d6968",
   "metadata": {},
   "outputs": [],
   "source": [
    "result = joblib.load(\"long_result.joblib\")"
   ]
  },
  {
   "cell_type": "code",
   "execution_count": null,
   "id": "2dc34714-7351-4880-91ab-83d3b3693772",
   "metadata": {},
   "outputs": [],
   "source": [
    "# result"
   ]
  },
  {
   "cell_type": "code",
   "execution_count": null,
   "id": "df1eeec4-d26f-4d78-9519-303586cc3509",
   "metadata": {},
   "outputs": [],
   "source": [
    "client_report = generate_long_report(result)"
   ]
  },
  {
   "cell_type": "code",
   "execution_count": null,
   "id": "3c96021f-5ed8-4741-80f8-8bedbc46e882",
   "metadata": {},
   "outputs": [],
   "source": [
    "# Run this line will save a client_report_sample.html file under 3.0-agent_development folder\n",
    "# save_html_to_file(client_report, 'long_client_report_sample.html')"
   ]
  },
  {
   "cell_type": "code",
   "execution_count": null,
   "id": "e8e3cc81-59f7-4f96-9cd1-8966a76f7ca7",
   "metadata": {},
   "outputs": [],
   "source": [
    "save_html_to_file(\n",
    "    client_report,\n",
    "    f\"../../generated_reports/long_client_report_sample_hasbro_{5-27-25}.html\",\n",
    ")"
   ]
  },
  {
   "cell_type": "code",
   "execution_count": null,
   "id": "9794a945-7ddc-44e6-8a4b-ab16ae0b5f22",
   "metadata": {},
   "outputs": [],
   "source": [
    "# Run this line will save a client_report_sample.pdf file under 3.0-agent_development folder\n",
    "# convert_html_to_pdf(client_report, \"client_report_sample.pdf\")"
   ]
  },
  {
   "cell_type": "markdown",
   "id": "6d8ae6c7-a312-4043-b07c-a0b3e74454ea",
   "metadata": {},
   "source": [
    "Second Test"
   ]
  },
  {
   "cell_type": "code",
   "execution_count": null,
   "id": "29da5799-1b5b-4426-87bc-6b4fb5fe4991",
   "metadata": {},
   "outputs": [],
   "source": [
    "# init_state = {\n",
    "#        'client_name': 'Jennifer Phelps',\n",
    "#        'client_email': 'jennifer.phelps@aerovironment.com',\n",
    "#        'meeting_timestamp': '2018-07-24 14:00:00',\n",
    "#        'meeting_description': 'AeroVironment - Initial Discussion on Financial Needs'\n",
    "#    }"
   ]
  },
  {
   "cell_type": "code",
   "execution_count": null,
   "id": "c605c031-ec8b-423f-9593-f3c520ada295",
   "metadata": {},
   "outputs": [],
   "source": [
    "# result2 = compiled_graph.invoke(init_state)"
   ]
  },
  {
   "cell_type": "code",
   "execution_count": null,
   "id": "59ad0128-d367-46bb-bab4-54f84b2cb490",
   "metadata": {},
   "outputs": [],
   "source": [
    "# client_report2 = generate_long_report(result2)"
   ]
  },
  {
   "cell_type": "code",
   "execution_count": null,
   "id": "efbe9598-6c8f-4adc-a9ca-80751333f56b",
   "metadata": {},
   "outputs": [],
   "source": [
    "# save_html_to_file(client_report2, 'client_report_sample2.html')"
   ]
  },
  {
   "cell_type": "markdown",
   "id": "acdbab6f-ea68-41c9-9567-6f865ff8ff25",
   "metadata": {},
   "source": [
    "## Test Short Report"
   ]
  },
  {
   "cell_type": "code",
   "execution_count": null,
   "id": "8d7dd999-a04b-4721-b4ec-716bd023203c",
   "metadata": {},
   "outputs": [],
   "source": [
    "init_state = {\n",
    "    \"client_name\": \"Jessica Palmer\",\n",
    "    \"client_email\": \"jessica.palmer@hasbro.com\",\n",
    "    \"meeting_timestamp\": \"2024-02-04 14:30:00\",\n",
    "    \"meeting_description\": \"Hasbro - Discuss Portfolio Diversification and Bond Strategy\",\n",
    "    \"report_length\": \"short\",\n",
    "}"
   ]
  },
  {
   "cell_type": "code",
   "execution_count": null,
   "id": "705915bf-5b72-45d4-8ca2-ecb65d6949a8",
   "metadata": {},
   "outputs": [],
   "source": [
    "# result = compiled_graph.invoke(init_state)"
   ]
  },
  {
   "cell_type": "code",
   "execution_count": null,
   "id": "12300dfa-ee39-44d4-8158-9392c4ff4406",
   "metadata": {},
   "outputs": [],
   "source": [
    "# joblib.dump(result, 'short_result.joblib')"
   ]
  },
  {
   "cell_type": "code",
   "execution_count": null,
   "id": "bfd11643-f445-459e-a36c-8934a7a0e541",
   "metadata": {},
   "outputs": [],
   "source": [
    "result = joblib.load(\"short_result.joblib\")"
   ]
  },
  {
   "cell_type": "code",
   "execution_count": null,
   "id": "29919a24-f38a-4592-b6ab-475f0b6e7358",
   "metadata": {},
   "outputs": [],
   "source": [
    "# result"
   ]
  },
  {
   "cell_type": "code",
   "execution_count": null,
   "id": "e5620df5-f6b4-4190-8a0e-76dc325deaf5",
   "metadata": {},
   "outputs": [],
   "source": [
    "client_report_short = generate_short_report(result)"
   ]
  },
  {
   "cell_type": "code",
   "execution_count": null,
   "id": "425247a7-9476-4058-9ff9-497f1c2395dc",
   "metadata": {},
   "outputs": [],
   "source": [
    "# save_html_to_file(client_report_short, 'short_client_report_sample.html')"
   ]
  },
  {
   "cell_type": "code",
   "execution_count": null,
   "id": "c5bb3d62-cff3-4010-b176-b8478142393d",
   "metadata": {},
   "outputs": [],
   "source": [
    "save_html_to_file(\n",
    "    client_report_short,\n",
    "    f\"../../generated_reports/short_client_report_sample_hasbro_{5-27-25}.html\",\n",
    ")"
   ]
  },
  {
   "cell_type": "markdown",
   "id": "c1c5d641-e8f8-477b-a619-bfee2086505a",
   "metadata": {},
   "source": [
    "## Second short report test"
   ]
  },
  {
   "cell_type": "code",
   "execution_count": null,
   "id": "d4ac69a4-e1a8-4b96-9bf9-f30ad873d04b",
   "metadata": {},
   "outputs": [],
   "source": [
    "init_state = {\n",
    "    \"client_name\": \"Jennifer Phelps\",\n",
    "    \"client_email\": \"jennifer.phelps@aerovironment.com\",\n",
    "    \"meeting_timestamp\": \"2018-07-24 14:00:00\",\n",
    "    \"meeting_description\": \"AeroVironment - Initial Discussion on Financial Needs\",\n",
    "    \"report_length\": \"short\",\n",
    "}"
   ]
  },
  {
   "cell_type": "code",
   "execution_count": null,
   "id": "2d3893a8-17e9-45b9-8416-0d9ea6fc069a",
   "metadata": {},
   "outputs": [],
   "source": [
    "# result = compiled_graph.invoke(init_state)"
   ]
  },
  {
   "cell_type": "code",
   "execution_count": null,
   "id": "66fc5b0e-893f-43c6-8242-a6256f1b7668",
   "metadata": {},
   "outputs": [],
   "source": [
    "# joblib.dump(result, 'short_result.joblib')"
   ]
  },
  {
   "cell_type": "code",
   "execution_count": null,
   "id": "2fc167f7-ee00-4530-bd59-7dcef41e844a",
   "metadata": {},
   "outputs": [],
   "source": [
    "# result = joblib.load('short_result.joblib')"
   ]
  },
  {
   "cell_type": "code",
   "execution_count": null,
   "id": "23be486d-8f40-4463-a358-1f8981936627",
   "metadata": {},
   "outputs": [],
   "source": [
    "# client_report_short = generate_short_report(result)\n",
    "# save_html_to_file(client_report_short, 'short_client_report_sample.html')"
   ]
  },
  {
   "cell_type": "markdown",
   "id": "a95d0475-35ac-4f12-858f-4eb309b0c2a8",
   "metadata": {},
   "source": [
    "## Format Medium Report"
   ]
  },
  {
   "cell_type": "code",
   "execution_count": null,
   "id": "159740fe-7a38-452d-b3e2-aaa833ad516c",
   "metadata": {},
   "outputs": [],
   "source": [
    "init_state = {\n",
    "    \"client_name\": \"Jessica Palmer\",\n",
    "    \"client_email\": \"jessica.palmer@hasbro.com\",\n",
    "    \"meeting_timestamp\": \"2024-02-04 14:30:00\",\n",
    "    \"meeting_description\": \"Hasbro - Discuss Portfolio Diversification and Bond Strategy\",\n",
    "    \"report_length\": \"medium\",\n",
    "}"
   ]
  },
  {
   "cell_type": "code",
   "execution_count": null,
   "id": "0cf12bfe-d805-47b1-a2dc-1daf55d185df",
   "metadata": {},
   "outputs": [],
   "source": [
    "# result = compiled_graph.invoke(init_state)"
   ]
  },
  {
   "cell_type": "code",
   "execution_count": null,
   "id": "028e33a7-8467-406a-80e2-4d71bce1bc28",
   "metadata": {},
   "outputs": [],
   "source": [
    "# result"
   ]
  },
  {
   "cell_type": "code",
   "execution_count": null,
   "id": "482ca2ce-df48-4e20-9be9-af18e286397b",
   "metadata": {},
   "outputs": [],
   "source": [
    "# joblib.dump(result, 'med_result.joblib')"
   ]
  },
  {
   "cell_type": "code",
   "execution_count": null,
   "id": "291dfa20-67f1-4c61-9c27-db0e0f7d12c3",
   "metadata": {},
   "outputs": [],
   "source": [
    "result = joblib.load(\"med_result.joblib\")"
   ]
  },
  {
   "cell_type": "code",
   "execution_count": null,
   "id": "81c598b8-26e0-4d43-82fb-98b7618412fa",
   "metadata": {},
   "outputs": [],
   "source": [
    "client_report_med = generate_med_report(result)"
   ]
  },
  {
   "cell_type": "code",
   "execution_count": null,
   "id": "2d998a55-d190-4d55-855b-44d5225a04f8",
   "metadata": {},
   "outputs": [],
   "source": [
    "# save_html_to_file(client_report_med, 'medium_client_report_sample.html')"
   ]
  },
  {
   "cell_type": "code",
   "execution_count": null,
   "id": "17951040-9b2a-4719-be30-7763addf5edc",
   "metadata": {},
   "outputs": [],
   "source": [
    "save_html_to_file(\n",
    "    client_report_med,\n",
    "    f\"../../generated_reports/med_client_report_sample_hasbro_{5-27-25}.html\",\n",
    ")"
   ]
  },
  {
   "cell_type": "code",
   "execution_count": null,
   "id": "29cf1045-75df-446c-b05d-ba952600ef96",
   "metadata": {},
   "outputs": [],
   "source": []
  }
 ],
 "metadata": {
  "environment": {
   "kernel": "xf_currensee",
   "name": "workbench-notebooks.m129",
   "type": "gcloud",
   "uri": "us-docker.pkg.dev/deeplearning-platform-release/gcr.io/workbench-notebooks:m129"
  },
  "kernelspec": {
   "display_name": "xf_currensee",
   "language": "python",
   "name": "xf_currensee"
  },
  "language_info": {
   "codemirror_mode": {
    "name": "ipython",
    "version": 3
   },
   "file_extension": ".py",
   "mimetype": "text/x-python",
   "name": "python",
   "nbconvert_exporter": "python",
   "pygments_lexer": "ipython3",
   "version": "3.11.12"
  }
 },
 "nbformat": 4,
 "nbformat_minor": 5
}
