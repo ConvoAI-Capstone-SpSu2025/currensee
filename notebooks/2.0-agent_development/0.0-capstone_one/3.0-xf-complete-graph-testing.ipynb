{
 "cells": [
  {
   "cell_type": "code",
   "execution_count": 1,
   "id": "c57516d8-1607-4573-bcdd-c78af6861c7e",
   "metadata": {},
   "outputs": [
    {
     "name": "stderr",
     "output_type": "stream",
     "text": [
      "2025-06-30 20:29:39,801 - currensee.core.secrets - INFO - PROJECT_ID not found, attempting to load from .env file\n",
      "2025-06-30 20:29:39,806 - currensee.core.secrets - INFO - Loaded environment from ./.env\n",
      "2025-06-30 20:29:39,807 - currensee.core.secrets - INFO - SecretManager initialized with project_id: adsp-34002-on02-sopho-scribe\n"
     ]
    }
   ],
   "source": [
    "from currensee.agents.complete_graph import compiled_graph\n",
    "from currensee.agents.tools.finance_tools import generate_macro_table\n",
    "from currensee.utils.output_utils import (\n",
    "    generate_long_report,\n",
    "    format_news_summary_to_html,\n",
    "    format_paragraph_summary_to_html,\n",
    "    save_html_to_file,\n",
    "    generate_short_report,\n",
    "    generate_med_report,\n",
    "    convert_html_to_pdf,\n",
    "    thumbs_buttons,\n",
    ")\n",
    "import warnings\n",
    "import joblib\n",
    "\n",
    "warnings.filterwarnings(\"ignore\")"
   ]
  },
  {
   "cell_type": "code",
   "execution_count": 2,
   "id": "4be3b97a-8f20-41ad-acfb-3a6759c8cc9c",
   "metadata": {},
   "outputs": [
    {
     "data": {
      "text/plain": [
       "True"
      ]
     },
     "execution_count": 2,
     "metadata": {},
     "output_type": "execute_result"
    }
   ],
   "source": [
    "from dotenv import load_dotenv\n",
    "\n",
    "load_dotenv()"
   ]
  },
  {
   "cell_type": "markdown",
   "id": "0382d110-7666-4cf9-8664-a6ec2799f35e",
   "metadata": {},
   "source": [
    "## Define Initial State\n",
    "\n",
    "This is data that we should be retrieving from each meeting invite.\n",
    "\n",
    "**DO NOT** change this data until the CRM DB has been updated"
   ]
  },
  {
   "cell_type": "code",
   "execution_count": 3,
   "id": "dcc4c7df-7a99-4862-b4ff-e84ed8dfc48c",
   "metadata": {},
   "outputs": [],
   "source": [
    "init_state = {\n",
    "    \"client_name\": \"Jessica Palmer\",\n",
    "    \"client_email\": \"jessica.palmer@hasbro.com\",\n",
    "    \"meeting_timestamp\": \"2024-02-04 14:30:00\",\n",
    "    \"meeting_description\": \"Hasbro - Discuss Portfolio Diversification and Bond Strategy\",  # 'short' , 'medium' , 'long' (default)\n",
    "}"
   ]
  },
  {
   "cell_type": "markdown",
   "id": "6467fae6-6295-4dc3-bfcf-6a0ae93389cf",
   "metadata": {},
   "source": [
    "## Format Long Report"
   ]
  },
  {
   "cell_type": "code",
   "execution_count": 4,
   "id": "d066cdbc-1b61-4271-9989-16ecc80a7d5c",
   "metadata": {},
   "outputs": [
    {
     "name": "stdout",
     "output_type": "stream",
     "text": [
      "\n",
      "===============================\n",
      "Generating report with length: long\n",
      "===============================\n",
      "\n"
     ]
    }
   ],
   "source": [
    "result = compiled_graph.invoke(init_state)"
   ]
  },
  {
   "cell_type": "code",
   "execution_count": 5,
   "id": "b2882465-4154-44a3-ba74-99793a5d74f3",
   "metadata": {},
   "outputs": [
    {
     "data": {
      "text/plain": [
       "['long_result.joblib']"
      ]
     },
     "execution_count": 5,
     "metadata": {},
     "output_type": "execute_result"
    }
   ],
   "source": [
    "# Run this line will save the result\n",
    "joblib.dump(result, 'long_result.joblib')"
   ]
  },
  {
   "cell_type": "code",
   "execution_count": 3,
   "id": "8063fbf1-ef27-4f02-b502-1c355a7d6968",
   "metadata": {},
   "outputs": [],
   "source": [
    "result = joblib.load(\"long_result.joblib\")"
   ]
  },
  {
   "cell_type": "code",
   "execution_count": 8,
   "id": "2dc34714-7351-4880-91ab-83d3b3693772",
   "metadata": {},
   "outputs": [],
   "source": [
    "#result"
   ]
  },
  {
   "cell_type": "code",
   "execution_count": 4,
   "id": "df1eeec4-d26f-4d78-9519-303586cc3509",
   "metadata": {},
   "outputs": [],
   "source": [
    "client_report = generate_long_report(result)"
   ]
  },
  {
   "cell_type": "code",
   "execution_count": 5,
   "id": "3c96021f-5ed8-4741-80f8-8bedbc46e882",
   "metadata": {},
   "outputs": [],
   "source": [
    "# Run this line will save a client_report_sample.html file under 3.0-agent_development folder\n",
    "save_html_to_file(client_report, 'long_client_report_sample.html')"
   ]
  },
  {
   "cell_type": "code",
   "execution_count": null,
   "id": "e8e3cc81-59f7-4f96-9cd1-8966a76f7ca7",
   "metadata": {},
   "outputs": [],
   "source": [
    "save_html_to_file(\n",
    "    client_report,\n",
    "    f\"../../generated_reports/long_client_report_sample_hasbro_{5-27-25}.html\",\n",
    ")"
   ]
  },
  {
   "cell_type": "code",
   "execution_count": null,
   "id": "9794a945-7ddc-44e6-8a4b-ab16ae0b5f22",
   "metadata": {},
   "outputs": [],
   "source": [
    "# Run this line will save a client_report_sample.pdf file under 3.0-agent_development folder\n",
    "# convert_html_to_pdf(client_report, \"client_report_sample.pdf\")"
   ]
  },
  {
   "cell_type": "markdown",
   "id": "6d8ae6c7-a312-4043-b07c-a0b3e74454ea",
   "metadata": {},
   "source": [
    "Second Test"
   ]
  },
  {
   "cell_type": "code",
   "execution_count": null,
   "id": "29da5799-1b5b-4426-87bc-6b4fb5fe4991",
   "metadata": {},
   "outputs": [],
   "source": [
    "# init_state = {\n",
    "#        'client_name': 'Jennifer Phelps',\n",
    "#        'client_email': 'jennifer.phelps@aerovironment.com',\n",
    "#        'meeting_timestamp': '2018-07-24 14:00:00',\n",
    "#        'meeting_description': 'AeroVironment - Initial Discussion on Financial Needs'\n",
    "#    }"
   ]
  },
  {
   "cell_type": "code",
   "execution_count": null,
   "id": "c605c031-ec8b-423f-9593-f3c520ada295",
   "metadata": {},
   "outputs": [],
   "source": [
    "# result2 = compiled_graph.invoke(init_state)"
   ]
  },
  {
   "cell_type": "code",
   "execution_count": null,
   "id": "59ad0128-d367-46bb-bab4-54f84b2cb490",
   "metadata": {},
   "outputs": [],
   "source": [
    "# client_report2 = generate_long_report(result2)"
   ]
  },
  {
   "cell_type": "code",
   "execution_count": null,
   "id": "efbe9598-6c8f-4adc-a9ca-80751333f56b",
   "metadata": {},
   "outputs": [],
   "source": [
    "# save_html_to_file(client_report2, 'client_report_sample2.html')"
   ]
  },
  {
   "cell_type": "markdown",
   "id": "acdbab6f-ea68-41c9-9567-6f865ff8ff25",
   "metadata": {},
   "source": [
    "## Test Short Report"
   ]
  },
  {
   "cell_type": "code",
   "execution_count": 9,
   "id": "8d7dd999-a04b-4721-b4ec-716bd023203c",
   "metadata": {},
   "outputs": [],
   "source": [
    "init_state = {\n",
    "    \"client_name\": \"Jessica Palmer\",\n",
    "    \"client_email\": \"jessica.palmer@hasbro.com\",\n",
    "    \"meeting_timestamp\": \"2024-02-04 14:30:00\",\n",
    "    \"meeting_description\": \"Hasbro - Discuss Portfolio Diversification and Bond Strategy\",\n",
    "    \"report_length\": \"short\",\n",
    "}"
   ]
  },
  {
   "cell_type": "code",
   "execution_count": 10,
   "id": "705915bf-5b72-45d4-8ca2-ecb65d6949a8",
   "metadata": {},
   "outputs": [
    {
     "name": "stdout",
     "output_type": "stream",
     "text": [
      "\n",
      "===============================\n",
      "Generating report with length: short\n",
      "===============================\n",
      "\n"
     ]
    }
   ],
   "source": [
    "result = compiled_graph.invoke(init_state)"
   ]
  },
  {
   "cell_type": "code",
   "execution_count": null,
   "id": "12300dfa-ee39-44d4-8158-9392c4ff4406",
   "metadata": {},
   "outputs": [],
   "source": [
    "# joblib.dump(result, 'short_result.joblib')"
   ]
  },
  {
   "cell_type": "code",
   "execution_count": null,
   "id": "bfd11643-f445-459e-a36c-8934a7a0e541",
   "metadata": {},
   "outputs": [],
   "source": [
    "result = joblib.load(\"short_result.joblib\")"
   ]
  },
  {
   "cell_type": "code",
   "execution_count": null,
   "id": "29919a24-f38a-4592-b6ab-475f0b6e7358",
   "metadata": {},
   "outputs": [],
   "source": [
    "# result"
   ]
  },
  {
   "cell_type": "code",
   "execution_count": 11,
   "id": "e5620df5-f6b4-4190-8a0e-76dc325deaf5",
   "metadata": {},
   "outputs": [],
   "source": [
    "client_report_short = generate_short_report(result)"
   ]
  },
  {
   "cell_type": "code",
   "execution_count": 12,
   "id": "425247a7-9476-4058-9ff9-497f1c2395dc",
   "metadata": {},
   "outputs": [],
   "source": [
    "save_html_to_file(client_report_short, 'short_client_report_sample.html')"
   ]
  },
  {
   "cell_type": "code",
   "execution_count": null,
   "id": "c5bb3d62-cff3-4010-b176-b8478142393d",
   "metadata": {},
   "outputs": [],
   "source": [
    "save_html_to_file(\n",
    "    client_report_short,\n",
    "    f\"../../generated_reports/short_client_report_sample_hasbro_{5-27-25}.html\",\n",
    ")"
   ]
  },
  {
   "cell_type": "markdown",
   "id": "c1c5d641-e8f8-477b-a619-bfee2086505a",
   "metadata": {},
   "source": [
    "## Second short report test"
   ]
  },
  {
   "cell_type": "code",
   "execution_count": null,
   "id": "d4ac69a4-e1a8-4b96-9bf9-f30ad873d04b",
   "metadata": {},
   "outputs": [],
   "source": [
    "init_state = {\n",
    "    \"client_name\": \"Jennifer Phelps\",\n",
    "    \"client_email\": \"jennifer.phelps@aerovironment.com\",\n",
    "    \"meeting_timestamp\": \"2018-07-24 14:00:00\",\n",
    "    \"meeting_description\": \"AeroVironment - Initial Discussion on Financial Needs\",\n",
    "    \"report_length\": \"short\",\n",
    "}"
   ]
  },
  {
   "cell_type": "code",
   "execution_count": null,
   "id": "2d3893a8-17e9-45b9-8416-0d9ea6fc069a",
   "metadata": {},
   "outputs": [],
   "source": [
    "# result = compiled_graph.invoke(init_state)"
   ]
  },
  {
   "cell_type": "code",
   "execution_count": null,
   "id": "66fc5b0e-893f-43c6-8242-a6256f1b7668",
   "metadata": {},
   "outputs": [],
   "source": [
    "# joblib.dump(result, 'short_result.joblib')"
   ]
  },
  {
   "cell_type": "code",
   "execution_count": null,
   "id": "2fc167f7-ee00-4530-bd59-7dcef41e844a",
   "metadata": {},
   "outputs": [],
   "source": [
    "# result = joblib.load('short_result.joblib')"
   ]
  },
  {
   "cell_type": "code",
   "execution_count": null,
   "id": "23be486d-8f40-4463-a358-1f8981936627",
   "metadata": {},
   "outputs": [],
   "source": [
    "# client_report_short = generate_short_report(result)\n",
    "# save_html_to_file(client_report_short, 'short_client_report_sample.html')"
   ]
  },
  {
   "cell_type": "markdown",
   "id": "a95d0475-35ac-4f12-858f-4eb309b0c2a8",
   "metadata": {},
   "source": [
    "## Format Medium Report"
   ]
  },
  {
   "cell_type": "code",
   "execution_count": 13,
   "id": "159740fe-7a38-452d-b3e2-aaa833ad516c",
   "metadata": {},
   "outputs": [],
   "source": [
    "init_state = {\n",
    "    \"client_name\": \"Jessica Palmer\",\n",
    "    \"client_email\": \"jessica.palmer@hasbro.com\",\n",
    "    \"meeting_timestamp\": \"2024-02-04 14:30:00\",\n",
    "    \"meeting_description\": \"Hasbro - Discuss Portfolio Diversification and Bond Strategy\",\n",
    "    \"report_length\": \"medium\",\n",
    "}"
   ]
  },
  {
   "cell_type": "code",
   "execution_count": 14,
   "id": "0cf12bfe-d805-47b1-a2dc-1daf55d185df",
   "metadata": {},
   "outputs": [
    {
     "name": "stdout",
     "output_type": "stream",
     "text": [
      "\n",
      "===============================\n",
      "Generating report with length: medium\n",
      "===============================\n",
      "\n"
     ]
    }
   ],
   "source": [
    "result = compiled_graph.invoke(init_state)"
   ]
  },
  {
   "cell_type": "code",
   "execution_count": null,
   "id": "028e33a7-8467-406a-80e2-4d71bce1bc28",
   "metadata": {},
   "outputs": [],
   "source": [
    "# result"
   ]
  },
  {
   "cell_type": "code",
   "execution_count": null,
   "id": "482ca2ce-df48-4e20-9be9-af18e286397b",
   "metadata": {},
   "outputs": [],
   "source": [
    "# joblib.dump(result, 'med_result.joblib')"
   ]
  },
  {
   "cell_type": "code",
   "execution_count": null,
   "id": "291dfa20-67f1-4c61-9c27-db0e0f7d12c3",
   "metadata": {},
   "outputs": [],
   "source": [
    "result = joblib.load(\"med_result.joblib\")"
   ]
  },
  {
   "cell_type": "code",
   "execution_count": 15,
   "id": "81c598b8-26e0-4d43-82fb-98b7618412fa",
   "metadata": {},
   "outputs": [],
   "source": [
    "client_report_med = generate_med_report(result)"
   ]
  },
  {
   "cell_type": "code",
   "execution_count": 16,
   "id": "2d998a55-d190-4d55-855b-44d5225a04f8",
   "metadata": {},
   "outputs": [],
   "source": [
    "save_html_to_file(client_report_med, 'medium_client_report_sample.html')"
   ]
  },
  {
   "cell_type": "code",
   "execution_count": null,
   "id": "17951040-9b2a-4719-be30-7763addf5edc",
   "metadata": {},
   "outputs": [],
   "source": [
    "save_html_to_file(\n",
    "    client_report_med,\n",
    "    f\"../../generated_reports/med_client_report_sample_hasbro_{5-27-25}.html\",\n",
    ")"
   ]
  },
  {
   "cell_type": "code",
   "execution_count": null,
   "id": "29cf1045-75df-446c-b05d-ba952600ef96",
   "metadata": {},
   "outputs": [],
   "source": []
  }
 ],
 "metadata": {
  "environment": {
   "kernel": "xf_currensee",
   "name": "workbench-notebooks.m129",
   "type": "gcloud",
   "uri": "us-docker.pkg.dev/deeplearning-platform-release/gcr.io/workbench-notebooks:m129"
  },
  "kernelspec": {
   "display_name": "xf_currensee",
   "language": "python",
   "name": "xf_currensee"
  },
  "language_info": {
   "codemirror_mode": {
    "name": "ipython",
    "version": 3
   },
   "file_extension": ".py",
   "mimetype": "text/x-python",
   "name": "python",
   "nbconvert_exporter": "python",
   "pygments_lexer": "ipython3",
   "version": "3.11.12"
  }
 },
 "nbformat": 4,
 "nbformat_minor": 5
}
