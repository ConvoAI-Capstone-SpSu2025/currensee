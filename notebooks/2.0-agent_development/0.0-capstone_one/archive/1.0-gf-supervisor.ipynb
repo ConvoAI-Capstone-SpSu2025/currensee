{
 "cells": [
  {
   "cell_type": "markdown",
   "id": "2562d81b",
   "metadata": {},
   "source": [
    "# Supervisor Testing Notebook\n",
    "\n",
    "The purpose of this notebook is to test the supervisor routing capabilities."
   ]
  },
  {
   "cell_type": "code",
   "execution_count": null,
   "id": "054ccbf1",
   "metadata": {},
   "outputs": [],
   "source": [
    "from currensee.agents.agent_utils import get_agent\n",
    "\n",
    "from uuid import uuid4\n",
    "from langchain_core.runnables import RunnableConfig\n",
    "from langchain_core.messages import AIMessage"
   ]
  },
  {
   "cell_type": "code",
   "execution_count": null,
   "id": "30446e4a",
   "metadata": {},
   "outputs": [],
   "source": [
    "agent = get_agent(\"supervisor-agent\")"
   ]
  },
  {
   "cell_type": "code",
   "execution_count": null,
   "id": "c39957eb",
   "metadata": {},
   "outputs": [],
   "source": [
    "inputs = {\"messages\": [\"What is 2*2?\"]}"
   ]
  },
  {
   "cell_type": "code",
   "execution_count": null,
   "id": "79969172",
   "metadata": {},
   "outputs": [],
   "source": [
    "output = agent.invoke(\n",
    "    input=inputs, config=RunnableConfig(configurable={\"thread_id\": uuid4()})\n",
    ")"
   ]
  },
  {
   "cell_type": "code",
   "execution_count": null,
   "id": "a26e6041",
   "metadata": {},
   "outputs": [],
   "source": [
    "output"
   ]
  },
  {
   "cell_type": "code",
   "execution_count": null,
   "id": "bfc1450c",
   "metadata": {},
   "outputs": [],
   "source": []
  },
  {
   "cell_type": "code",
   "execution_count": null,
   "id": "64c30012",
   "metadata": {},
   "outputs": [],
   "source": []
  },
  {
   "cell_type": "code",
   "execution_count": null,
   "id": "cacee602",
   "metadata": {},
   "outputs": [],
   "source": []
  },
  {
   "cell_type": "code",
   "execution_count": null,
   "id": "1e80aad7",
   "metadata": {},
   "outputs": [],
   "source": []
  },
  {
   "cell_type": "code",
   "execution_count": null,
   "id": "c68d9ce0",
   "metadata": {},
   "outputs": [],
   "source": []
  }
 ],
 "metadata": {
  "kernelspec": {
   "display_name": "currensee",
   "language": "python",
   "name": "python3"
  },
  "language_info": {
   "codemirror_mode": {
    "name": "ipython",
    "version": 3
   },
   "file_extension": ".py",
   "mimetype": "text/x-python",
   "name": "python",
   "nbconvert_exporter": "python",
   "pygments_lexer": "ipython3"
  }
 },
 "nbformat": 4,
 "nbformat_minor": 5
}
