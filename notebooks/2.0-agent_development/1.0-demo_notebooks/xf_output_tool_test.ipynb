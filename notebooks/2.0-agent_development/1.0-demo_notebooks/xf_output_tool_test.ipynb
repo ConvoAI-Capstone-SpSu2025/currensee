{
 "cells": [
  {
   "cell_type": "code",
   "execution_count": 1,
   "id": "4d2fce42-21d3-4798-89bf-72645c649c78",
   "metadata": {},
   "outputs": [
    {
     "name": "stderr",
     "output_type": "stream",
     "text": [
      "2025-08-03 03:42:27,229 - currensee.core.secrets - INFO - PROJECT_ID not found, attempting to load from .env file\n",
      "2025-08-03 03:42:27,235 - currensee.core.secrets - INFO - Loaded environment from ./.env\n",
      "2025-08-03 03:42:27,236 - currensee.core.secrets - INFO - SecretManager initialized with project_id: adsp-34002-on02-sopho-scribe\n"
     ]
    }
   ],
   "source": [
    "from currensee.agents.complete_graph import compiled_graph\n",
    "from currensee.agents.tools.finance_tools import (generate_macro_table,\n",
    "    retrieve_client_industry_news,\n",
    "    retrieve_holdings_news,\n",
    "    retrieve_macro_news,\n",
    "    summarize_finance_outputs)\n",
    "    \n",
    "import joblib\n",
    "import warnings\n",
    "warnings.filterwarnings(\"ignore\")\n",
    "from currensee.utils.output_utils_dynamic import (\n",
    "    generate_report,\n",
    "    format_news_summary_to_html,\n",
    "    format_paragraph_summary_to_html,\n",
    "    save_html_to_file,\n",
    "    convert_html_to_pdf,\n",
    ")\n",
    "\n",
    "\n",
    "warnings.filterwarnings(\"ignore\")\n",
    "\n"
   ]
  },
  {
   "cell_type": "code",
   "execution_count": 2,
   "id": "13b01729-688c-4654-a24a-a653b099c0ef",
   "metadata": {},
   "outputs": [
    {
     "name": "stdout",
     "output_type": "stream",
     "text": [
      "20250803\n"
     ]
    }
   ],
   "source": [
    "from datetime import date\n",
    "\n",
    "today = date.today()\n",
    "today_date = today.strftime(\"%Y%m%d\")\n",
    "print(today_date)"
   ]
  },
  {
   "cell_type": "code",
   "execution_count": 3,
   "id": "4b2e2621-ea6d-407e-9b51-8c5842e02512",
   "metadata": {},
   "outputs": [
    {
     "name": "stdout",
     "output_type": "stream",
     "text": [
      "DEBUG: Filtering date range is from 2025-03-29 to 2025-05-01\n",
      "DEBUG: Executing 6 site-specific queries for macro news\n",
      "DEBUG: Aggregated 36 unique macro results from all sites\n",
      "DEBUG: After filtering: 8 macro articles remain\n",
      "DEBUG: Filtering date range is from 2025-03-29 to 2025-05-01\n",
      "DEBUG: Executing 6 site-specific queries for client industry news\n",
      "DEBUG: Aggregated 48 unique results from all sites\n",
      "DEBUG: After filtering: 13 articles remain\n",
      "DEBUG: Filtering date range is from 2025-03-29 to 2025-05-01\n",
      "DEBUG: Processing holding 'Walmart Inc'\n",
      "DEBUG: Executing 6 site-specific queries for holding 'Walmart Inc'\n",
      "DEBUG: Aggregated 24 unique results for holding 'Walmart Inc'\n",
      "DEBUG: After filtering: 13 articles for holding 'Walmart Inc'\n",
      "DEBUG: Processing holding 'Amazon.com Inc'\n",
      "DEBUG: Executing 6 site-specific queries for holding 'Amazon.com Inc'\n",
      "DEBUG: Aggregated 24 unique results for holding 'Amazon.com Inc'\n",
      "DEBUG: After filtering: 12 articles for holding 'Amazon.com Inc'\n",
      "DEBUG: Processing holding 'Intel Corp'\n",
      "DEBUG: Executing 6 site-specific queries for holding 'Intel Corp'\n",
      "DEBUG: Aggregated 24 unique results for holding 'Intel Corp'\n",
      "DEBUG: After filtering: 13 articles for holding 'Intel Corp'\n",
      "DEBUG: Processing holding 'Meta Platforms Inc'\n",
      "DEBUG: Executing 6 site-specific queries for holding 'Meta Platforms Inc'\n",
      "DEBUG: Aggregated 24 unique results for holding 'Meta Platforms Inc'\n",
      "DEBUG: After filtering: 12 articles for holding 'Meta Platforms Inc'\n",
      "DEBUG: Processing holding 'Microsoft Corp'\n",
      "DEBUG: Executing 6 site-specific queries for holding 'Microsoft Corp'\n",
      "DEBUG: Aggregated 24 unique results for holding 'Microsoft Corp'\n",
      "DEBUG: After filtering: 14 articles for holding 'Microsoft Corp'\n",
      "DEBUG: Total holdings news articles after all filtering: 64\n",
      "DEBUG: Retrieved holdings output length5, type: <class 'dict'> \n",
      "DEBUG: has_industry: True\n",
      "DEBUG: has_holdings: True\n",
      "DEBUG: has_macro: True\n",
      "DEBUG: Summarizer input - Industry: 13 articles\n",
      "DEBUG: Summarizer input - Holdings: 5 articles\n",
      "DEBUG: Summarizer input - Macro: 8 articles\n",
      "\n",
      "===============================\n",
      "Generating report with the following preferences: \n",
      " Holdings Detail: full \n",
      " Client News Detail: full \n",
      " Macro News Detail: full\n",
      " Past Meeting Detail: full\n",
      " Meeting topic: Risk Management\n",
      "===============================\n",
      "\n"
     ]
    }
   ],
   "source": [
    "init_state = {\n",
    "    \"user_email\" : \"jane.moneypenny@bankwell.com\",\n",
    "    \"client_name\": \"Jessica Palmer\",\n",
    "    \"client_email\": \"jessica.palmer@hasbro.com\",\n",
    "    \"meeting_timestamp\": \"2025-05-01 11:00:00\",\n",
    "    \"meeting_description\": \"Hasbro - Strategic Targets Rollout Discussion\",\n",
    "}\n",
    "result = compiled_graph.invoke(init_state)"
   ]
  },
  {
   "cell_type": "code",
   "execution_count": 4,
   "id": "d8b552af-ee88-45e4-b775-2192950a882a",
   "metadata": {},
   "outputs": [
    {
     "data": {
      "text/plain": [
       "['test1.joblib']"
      ]
     },
     "execution_count": 4,
     "metadata": {},
     "output_type": "execute_result"
    }
   ],
   "source": [
    "joblib.dump(result, 'test1.joblib')"
   ]
  },
  {
   "cell_type": "code",
   "execution_count": 3,
   "id": "0b01d1b0-dc58-485e-87f6-49e037def590",
   "metadata": {},
   "outputs": [],
   "source": [
    "result = joblib.load(\"test1.joblib\")"
   ]
  },
  {
   "cell_type": "code",
   "execution_count": 4,
   "id": "e9e1dfd4-e4bd-4022-b882-97ae17561472",
   "metadata": {},
   "outputs": [],
   "source": [
    "#result"
   ]
  },
  {
   "cell_type": "code",
   "execution_count": 4,
   "id": "9a891004-526d-46cc-a6b4-b792f20fad97",
   "metadata": {},
   "outputs": [],
   "source": [
    "client_report_test= generate_report(result)\n",
    "save_html_to_file(client_report_test, 'client_report_test.html')"
   ]
  },
  {
   "cell_type": "code",
   "execution_count": null,
   "id": "ff7d9ed2-2c56-424e-80c4-877a5db30642",
   "metadata": {},
   "outputs": [],
   "source": []
  }
 ],
 "metadata": {
  "environment": {
   "kernel": "xf_currensee",
   "name": "workbench-notebooks.m129",
   "type": "gcloud",
   "uri": "us-docker.pkg.dev/deeplearning-platform-release/gcr.io/workbench-notebooks:m129"
  },
  "kernelspec": {
   "display_name": "xf_currensee",
   "language": "python",
   "name": "xf_currensee"
  },
  "language_info": {
   "codemirror_mode": {
    "name": "ipython",
    "version": 3
   },
   "file_extension": ".py",
   "mimetype": "text/x-python",
   "name": "python",
   "nbconvert_exporter": "python",
   "pygments_lexer": "ipython3",
   "version": "3.11.12"
  }
 },
 "nbformat": 4,
 "nbformat_minor": 5
}
