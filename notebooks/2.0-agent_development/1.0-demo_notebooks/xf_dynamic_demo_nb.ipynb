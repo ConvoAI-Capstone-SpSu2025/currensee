{
 "cells": [
  {
   "cell_type": "code",
   "execution_count": 1,
   "id": "c57516d8-1607-4573-bcdd-c78af6861c7e",
   "metadata": {},
   "outputs": [
    {
     "name": "stderr",
     "output_type": "stream",
     "text": [
      "2025-07-15 01:44:52,321 - currensee.core.secrets - INFO - PROJECT_ID not found, attempting to load from .env file\n",
      "2025-07-15 01:44:52,327 - currensee.core.secrets - INFO - Loaded environment from ./.env\n",
      "2025-07-15 01:44:52,328 - currensee.core.secrets - INFO - SecretManager initialized with project_id: adsp-34002-on02-sopho-scribe\n"
     ]
    }
   ],
   "source": [
    "from currensee.agents.complete_graph import compiled_graph\n",
    "from currensee.agents.tools.finance_tools import generate_macro_table\n",
    "#from currensee.utils.output_utils import (\n",
    "#    generate_long_report,\n",
    "#    format_news_summary_to_html,\n",
    "#    format_paragraph_summary_to_html,\n",
    "#    save_html_to_file,\n",
    "#    generate_short_report,\n",
    "#    convert_html_to_pdf,\n",
    "#    generate_med_report,\n",
    "#)\n",
    "import warnings\n",
    "import joblib\n",
    "\n",
    "from currensee.utils.output_utils_dynamic import (\n",
    "    generate_report,\n",
    "    format_news_summary_to_html,\n",
    "    format_paragraph_summary_to_html,\n",
    "    save_html_to_file,\n",
    "    convert_html_to_pdf,\n",
    ")\n",
    "\n",
    "warnings.filterwarnings(\"ignore\")"
   ]
  },
  {
   "cell_type": "code",
   "execution_count": 2,
   "id": "78af48b6-83cb-457b-b0df-8740a807829d",
   "metadata": {},
   "outputs": [
    {
     "name": "stdout",
     "output_type": "stream",
     "text": [
      "20250715\n"
     ]
    }
   ],
   "source": [
    "from datetime import date\n",
    "\n",
    "today = date.today()\n",
    "today_date = today.strftime(\"%Y%m%d\")\n",
    "print(today_date)"
   ]
  },
  {
   "cell_type": "code",
   "execution_count": null,
   "id": "7c33bbe4-9274-421b-8f72-b7476f8bd8a9",
   "metadata": {},
   "outputs": [],
   "source": [
    "#df = pd.read_sql(\"\"\"SELECT p.as_of_date\n",
    "#        , p.employee_first_name\n",
    "#        , p.employee_last_name\n",
    "#        , p.finance_detail\n",
    "#        , p.news_detail\n",
    "#        , p.macro_news_detail\n",
    "#        , p.past_meeting_detail \n",
    "#        , p.email\t\n",
    "#        FROM preferences p\n",
    "#        where p.email = 'jane.moneypenny@bankwell.com'\n",
    "#        \"\"\", con=engine)\n",
    "#df.head(10)"
   ]
  },
  {
   "cell_type": "code",
   "execution_count": null,
   "id": "2dc3c2b6-4cba-4d79-b872-498ac3a92703",
   "metadata": {},
   "outputs": [],
   "source": [
    "#query_str = f\"\"\"\n",
    "#    SELECT  meeting_timestamp\n",
    "#    FROM  meeting_data\n",
    "#    WHERE  invitee_emails = 'adam.clay@compass.com'\n",
    "#    and host_email = 'jane.moneypenny@bankwell.com'\n",
    "#    and meeting_timestamp < '2024-03-26 11:00:00'\n",
    "#    ORDER BY meeting_timestamp DESC\n",
    "    #\n",
    "#    LIMIT 1;\"\"\"\n"
   ]
  },
  {
   "cell_type": "markdown",
   "id": "0382d110-7666-4cf9-8664-a6ec2799f35e",
   "metadata": {},
   "source": [
    "## Demo Case 1 - Compass"
   ]
  },
  {
   "cell_type": "code",
   "execution_count": null,
   "id": "dcc4c7df-7a99-4862-b4ff-e84ed8dfc48c",
   "metadata": {},
   "outputs": [],
   "source": [
    "init_state = {\n",
    "    \"user_email\" : \"jane.moneypenny@bankwell.com\",\n",
    "    \"client_name\": \"Adam Clay\",\n",
    "    \"client_email\": \"adam.clay@compass.com\",\n",
    "    \"meeting_timestamp\": \"2024-03-26 11:00:00\",\n",
    "    \"meeting_description\": \"Compass - Annual Credit Facility Review Meeting\",\n",
    "}\n",
    "\n",
    "result = compiled_graph.invoke(init_state)\n",
    "#summary_client_comms = result[\"summary_client_comms\"]\n",
    "#fin_hold_summary_sourced= result[\"fin_hold_summary_sourced\"]\n",
    "#client_news_summary_sourced= result[\"client_news_summary_sourced\"]\n",
    "# full_report = summary + \"\\n\\n### Macro Financial Snapshot\\n\\n\" + macro_table\n",
    "#print(\"Client Communications Summary: \", summary_client_comms)\n",
    "#print(\"------------------------------------\")\n",
    "#print(\"Financial Holdings News Summary: \", fin_hold_summary_sourced)\n",
    "#print(\"------------------------------------\")\n",
    "#print(\"Client Company News Summary: \", client_news_summary_sourced)"
   ]
  },
  {
   "cell_type": "code",
   "execution_count": null,
   "id": "b0b64333-c41b-47d7-8604-27ea7b96de38",
   "metadata": {},
   "outputs": [],
   "source": [
    "# Run this line will save the result\n",
    "joblib.dump(result, 'test1.joblib')"
   ]
  },
  {
   "cell_type": "code",
   "execution_count": null,
   "id": "3279e2cc-400c-4dc5-ab44-dbb2367aa16f",
   "metadata": {},
   "outputs": [],
   "source": [
    "result = joblib.load(\"test1.joblib\")"
   ]
  },
  {
   "cell_type": "code",
   "execution_count": null,
   "id": "9b47fc89-a5c5-4a57-b179-e38945bfea5a",
   "metadata": {},
   "outputs": [],
   "source": [
    "result"
   ]
  },
  {
   "cell_type": "code",
   "execution_count": null,
   "id": "ac49b0d8-a593-480c-a590-fc1963d69e8d",
   "metadata": {},
   "outputs": [],
   "source": [
    "default_client_report = generate_report(result)\n",
    "save_html_to_file(default_client_report , 'default_client_report .html')"
   ]
  },
  {
   "cell_type": "markdown",
   "id": "a33b701c-3483-46e3-8f06-dce8aff5a59f",
   "metadata": {},
   "source": [
    "## Test Case 2 - Hasbro Portfolio Diversification"
   ]
  },
  {
   "cell_type": "code",
   "execution_count": 5,
   "id": "e164c69f-39e3-4574-bfa1-4c89e94c9ee1",
   "metadata": {},
   "outputs": [],
   "source": [
    "#init_state = {\n",
    "#    \"user_email\" : \"jane.moneypenny@bankwell.com\",\n",
    "#    \"client_name\": \"Jessica Palmer\",\n",
    "#    \"client_email\": \"jessica.palmer@hasbro.com\",\n",
    "#    \"meeting_timestamp\": \"2024-02-04 14:30:00\",\n",
    "#    \"meeting_description\": \"Hasbro - Discuss Portfolio Diversification and Bond Strategy\",\n",
    "#}\n",
    "\n",
    "#result = compiled_graph.invoke(init_state)\n",
    "#summary_client_comms = result[\"summary_client_comms\"]\n",
    "#fin_hold_summary_sourced= result[\"fin_hold_summary_sourced\"]\n",
    "#client_news_summary_sourced= result[\"client_news_summary_sourced\"]\n",
    "# full_report = summary + \"\\n\\n### Macro Financial Snapshot\\n\\n\" + macro_table\n",
    "#print(\"Client Communications Summary: \", summary_client_comms)\n",
    "#print(\"------------------------------------\")\n",
    "#print(\"Financial Holdings News Summary: \", fin_hold_summary_sourced)\n",
    "#print(\"------------------------------------\")\n",
    "#print(\"Client Company News Summary: \", client_news_summary_sourced)"
   ]
  },
  {
   "cell_type": "markdown",
   "id": "8d3bc2d7-9e39-4ba8-acaf-463e122b0388",
   "metadata": {},
   "source": [
    "## Test Case 3 - Hasbro H1 FX Hedging Strategy"
   ]
  },
  {
   "cell_type": "code",
   "execution_count": 10,
   "id": "34a14598-f793-4730-9417-c3a8def6093a",
   "metadata": {},
   "outputs": [
    {
     "name": "stdout",
     "output_type": "stream",
     "text": [
      "\n",
      "===============================\n",
      "Generating report with the following preferences: \n",
      " Holdings Detail: short \n",
      " Client News Detail: full \n",
      " Macro News Detail: none\n",
      " Past Meeting Detail: none\n",
      "===============================\n",
      "\n"
     ]
    }
   ],
   "source": [
    "init_state = {\n",
    "    \"user_email\" : \"jane.moneypenny@bankwell.com\",\n",
    "    \"client_name\": \"Jessica Palmer\",\n",
    "    \"client_email\": \"jessica.palmer@hasbro.com\",\n",
    "    \"meeting_timestamp\": \"2023-12-11 11:00:00\",\n",
    "    \"meeting_description\": \"Hasbro - Finalize H1 2024 FX Hedging Strategy\",\n",
    "}\n",
    "\n",
    "result = compiled_graph.invoke(init_state)\n",
    "#summary_client_comms = result[\"summary_client_comms\"]\n",
    "#fin_hold_summary_sourced= result[\"fin_hold_summary_sourced\"]\n",
    "#client_news_summary_sourced= result[\"client_news_summary_sourced\"]\n",
    "# full_report = summary + \"\\n\\n### Macro Financial Snapshot\\n\\n\" + macro_table\n",
    "#print(\"Client Communications Summary: \", summary_client_comms)\n",
    "#print(\"------------------------------------\")\n",
    "#print(\"Financial Holdings News Summary: \", fin_hold_summary_sourced)\n",
    "#print(\"------------------------------------\")\n",
    "#print(\"Client Company News Summary: \", client_news_summary_sourced)"
   ]
  },
  {
   "cell_type": "code",
   "execution_count": 6,
   "id": "9754b03d-4b65-464f-b88d-a175b24c6f24",
   "metadata": {},
   "outputs": [],
   "source": [
    "#result"
   ]
  },
  {
   "cell_type": "code",
   "execution_count": 11,
   "id": "74d350cb-702a-4caf-800b-6321a4a9785b",
   "metadata": {},
   "outputs": [
    {
     "data": {
      "text/plain": [
       "['test2.joblib']"
      ]
     },
     "execution_count": 11,
     "metadata": {},
     "output_type": "execute_result"
    }
   ],
   "source": [
    "#joblib.dump(result, 'test2.joblib')"
   ]
  },
  {
   "cell_type": "code",
   "execution_count": 5,
   "id": "a30c186b-83eb-4d6e-a003-2b1e2c482496",
   "metadata": {},
   "outputs": [],
   "source": [
    "result = joblib.load(\"test2.joblib\")"
   ]
  },
  {
   "cell_type": "code",
   "execution_count": 6,
   "id": "f7c39a09-734c-4b0e-a9f9-40b2cbbfe0e3",
   "metadata": {},
   "outputs": [],
   "source": [
    "#result"
   ]
  },
  {
   "cell_type": "code",
   "execution_count": 6,
   "id": "3ca07fca-0127-40ae-a16e-710054ab2892",
   "metadata": {},
   "outputs": [],
   "source": [
    "client_report_auto = generate_report(result)\n",
    "save_html_to_file(client_report_auto, 'client_report_auto.html')"
   ]
  },
  {
   "cell_type": "markdown",
   "id": "1df1665f-5df3-4295-8582-f21dd83059e1",
   "metadata": {},
   "source": [
    "## Test Case 4 - Ryan Holloway"
   ]
  },
  {
   "cell_type": "code",
   "execution_count": 10,
   "id": "956eeb6e-95f5-4faf-b9b0-4de1db0275ae",
   "metadata": {},
   "outputs": [
    {
     "name": "stdout",
     "output_type": "stream",
     "text": [
      "\n",
      "===============================\n",
      "Generating report with the following preferences: \n",
      " Finance Detail: none \n",
      " News Detail: none \n",
      " Macro News Detail: none\n",
      " Past Meeting Detail: short\n",
      "===============================\n",
      "\n"
     ]
    }
   ],
   "source": [
    "init_state = {\n",
    "    \"user_email\" : \"ryan.holloway@bankwell.com\",\n",
    "    \"client_name\": \"Adam Clay\",\n",
    "    \"client_email\": \"adam.clay@compass.com\",\n",
    "    \"meeting_timestamp\": \"2024-03-26 11:00:00\",\n",
    "    \"meeting_description\": \"Compass - Annual Credit Facility Review Meeting\",\n",
    "}\n",
    "\n",
    "result = compiled_graph.invoke(init_state)\n",
    "#summary_client_comms = result[\"summary_client_comms\"]\n",
    "#fin_hold_summary_sourced= result[\"fin_hold_summary_sourced\"]\n",
    "#client_news_summary_sourced= result[\"client_news_summary_sourced\"]\n",
    "# full_report = summary + \"\\n\\n### Macro Financial Snapshot\\n\\n\" + macro_table\n",
    "#print(\"Client Communications Summary: \", summary_client_comms)\n",
    "#print(\"------------------------------------\")\n",
    "#print(\"Financial Holdings News Summary: \", fin_hold_summary_sourced)\n",
    "#print(\"------------------------------------\")\n",
    "#print(\"Client Company News Summary: \", client_news_summary_sourced)"
   ]
  },
  {
   "cell_type": "code",
   "execution_count": 11,
   "id": "8469cfb1-4a8b-4021-8bfc-fdf6f1589180",
   "metadata": {},
   "outputs": [],
   "source": [
    "#result"
   ]
  },
  {
   "cell_type": "code",
   "execution_count": 12,
   "id": "b6aa5b7b-ac5a-470f-b73d-d5686134cbb2",
   "metadata": {},
   "outputs": [
    {
     "data": {
      "text/plain": [
       "['test2.joblib']"
      ]
     },
     "execution_count": 12,
     "metadata": {},
     "output_type": "execute_result"
    }
   ],
   "source": [
    "joblib.dump(result, 'test3.joblib')"
   ]
  },
  {
   "cell_type": "code",
   "execution_count": 7,
   "id": "0be7d666-9dc8-4e74-957a-a2f2ded23e32",
   "metadata": {},
   "outputs": [
    {
     "ename": "FileNotFoundError",
     "evalue": "[Errno 2] No such file or directory: 'test3.joblib'",
     "output_type": "error",
     "traceback": [
      "\u001b[31m---------------------------------------------------------------------------\u001b[39m",
      "\u001b[31mFileNotFoundError\u001b[39m                         Traceback (most recent call last)",
      "\u001b[36mCell\u001b[39m\u001b[36m \u001b[39m\u001b[32mIn[7]\u001b[39m\u001b[32m, line 1\u001b[39m\n\u001b[32m----> \u001b[39m\u001b[32m1\u001b[39m result = \u001b[43mjoblib\u001b[49m\u001b[43m.\u001b[49m\u001b[43mload\u001b[49m\u001b[43m(\u001b[49m\u001b[33;43m\"\u001b[39;49m\u001b[33;43mtest3.joblib\u001b[39;49m\u001b[33;43m\"\u001b[39;49m\u001b[43m)\u001b[49m\n",
      "\u001b[36mFile \u001b[39m\u001b[32m~/xf_currensee/currensee/.venv/lib/python3.11/site-packages/joblib/numpy_pickle.py:735\u001b[39m, in \u001b[36mload\u001b[39m\u001b[34m(filename, mmap_mode, ensure_native_byte_order)\u001b[39m\n\u001b[32m    733\u001b[39m         obj = _unpickle(fobj, ensure_native_byte_order=ensure_native_byte_order)\n\u001b[32m    734\u001b[39m \u001b[38;5;28;01melse\u001b[39;00m:\n\u001b[32m--> \u001b[39m\u001b[32m735\u001b[39m     \u001b[38;5;28;01mwith\u001b[39;00m \u001b[38;5;28;43mopen\u001b[39;49m\u001b[43m(\u001b[49m\u001b[43mfilename\u001b[49m\u001b[43m,\u001b[49m\u001b[43m \u001b[49m\u001b[33;43m\"\u001b[39;49m\u001b[33;43mrb\u001b[39;49m\u001b[33;43m\"\u001b[39;49m\u001b[43m)\u001b[49m \u001b[38;5;28;01mas\u001b[39;00m f:\n\u001b[32m    736\u001b[39m         \u001b[38;5;28;01mwith\u001b[39;00m _validate_fileobject_and_memmap(f, filename, mmap_mode) \u001b[38;5;28;01mas\u001b[39;00m (\n\u001b[32m    737\u001b[39m             fobj,\n\u001b[32m    738\u001b[39m             validated_mmap_mode,\n\u001b[32m    739\u001b[39m         ):\n\u001b[32m    740\u001b[39m             \u001b[38;5;28;01mif\u001b[39;00m \u001b[38;5;28misinstance\u001b[39m(fobj, \u001b[38;5;28mstr\u001b[39m):\n\u001b[32m    741\u001b[39m                 \u001b[38;5;66;03m# if the returned file object is a string, this means we\u001b[39;00m\n\u001b[32m    742\u001b[39m                 \u001b[38;5;66;03m# try to load a pickle file generated with an version of\u001b[39;00m\n\u001b[32m    743\u001b[39m                 \u001b[38;5;66;03m# Joblib so we load it with joblib compatibility function.\u001b[39;00m\n",
      "\u001b[31mFileNotFoundError\u001b[39m: [Errno 2] No such file or directory: 'test3.joblib'"
     ]
    }
   ],
   "source": [
    "result = joblib.load(\"test3.joblib\")"
   ]
  },
  {
   "cell_type": "code",
   "execution_count": 14,
   "id": "0c5c9088-3a4f-4b05-a519-e0828c62e11e",
   "metadata": {},
   "outputs": [],
   "source": [
    "client_report_sample3 = generate_report(result)\n",
    "save_html_to_file(client_report_sample3, 'client_report_sample3.html')"
   ]
  },
  {
   "cell_type": "code",
   "execution_count": null,
   "id": "bd0d962b-8875-44ef-98da-d8828a936626",
   "metadata": {},
   "outputs": [],
   "source": []
  }
 ],
 "metadata": {
  "environment": {
   "kernel": "xf_currensee",
   "name": "workbench-notebooks.m129",
   "type": "gcloud",
   "uri": "us-docker.pkg.dev/deeplearning-platform-release/gcr.io/workbench-notebooks:m129"
  },
  "kernelspec": {
   "display_name": "xf_currensee",
   "language": "python",
   "name": "xf_currensee"
  },
  "language_info": {
   "codemirror_mode": {
    "name": "ipython",
    "version": 3
   },
   "file_extension": ".py",
   "mimetype": "text/x-python",
   "name": "python",
   "nbconvert_exporter": "python",
   "pygments_lexer": "ipython3",
   "version": "3.11.12"
  }
 },
 "nbformat": 4,
 "nbformat_minor": 5
}
