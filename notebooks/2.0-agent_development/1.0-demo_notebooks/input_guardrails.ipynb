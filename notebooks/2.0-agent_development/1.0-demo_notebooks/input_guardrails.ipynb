{
 "cells": [
  {
   "cell_type": "code",
   "execution_count": 1,
   "id": "627277b3-929d-4a72-9524-e45b71243beb",
   "metadata": {},
   "outputs": [
    {
     "name": "stderr",
     "output_type": "stream",
     "text": [
      "2025-07-13 05:16:10,367 - currensee.core.secrets - INFO - PROJECT_ID not found, attempting to load from .env file\n",
      "2025-07-13 05:16:10,371 - currensee.core.secrets - INFO - Loaded environment from ./.env\n",
      "2025-07-13 05:16:10,373 - currensee.core.secrets - INFO - SecretManager initialized with project_id: adsp-34002-on02-sopho-scribe\n"
     ]
    },
    {
     "name": "stdout",
     "output_type": "stream",
     "text": [
      "✅ All imports successful!\n",
      "✅ Guardrails initialized successfully\n"
     ]
    }
   ],
   "source": [
    "try:\n",
    "    from currensee.core.input_guardrails import CurrenSeeInputGuardrails\n",
    "    from currensee.core.secure_graph import secure_graph_invoke\n",
    "    from currensee.api.main import ClientRequest, ClientInfo\n",
    "    print(\"✅ All imports successful!\")\n",
    "    \n",
    "    guardrails = CurrenSeeInputGuardrails()\n",
    "    print(\"✅ Guardrails initialized successfully\")\n",
    "    \n",
    "except Exception as e:\n",
    "    print(f\"❌ Import error: {str(e)}\")"
   ]
  },
  {
   "cell_type": "code",
   "execution_count": 2,
   "id": "1c1ad4ff-7690-42bc-9242-4d77dd511316",
   "metadata": {},
   "outputs": [
    {
     "name": "stdout",
     "output_type": "stream",
     "text": [
      "✅ Risk Level: low\n",
      "✅ Validation Passed: True\n",
      "✅ Issues Found: 0\n",
      "✅ Clean input validation PASSED\n"
     ]
    }
   ],
   "source": [
    "# Test with valid, clean data\n",
    "result = guardrails.validate_comprehensive(\n",
    "    user_email=\"jane.moneypenny@bankwell.com\",\n",
    "    client_name=\"Adam Clay\",\n",
    "    client_email=\"adam.clay@compass.com\", \n",
    "    meeting_timestamp=\"2024-03-26 11:00:00\",\n",
    "    meeting_description=\"Annual Credit Facility Review Meeting\"\n",
    ")\n",
    "\n",
    "print(f\"✅ Risk Level: {result['risk_level']}\")\n",
    "print(f\"✅ Validation Passed: {result['overall_valid']}\")\n",
    "print(f\"✅ Issues Found: {len(result['validation_details']['user_boundary']['issues'])}\")\n",
    "\n",
    "if result['overall_valid']:\n",
    "    print(\"✅ Clean input validation PASSED\")\n",
    "else:\n",
    "    print(\"❌ Clean input validation FAILED\")\n",
    "    for category, details in result['validation_details'].items():\n",
    "        if details.get('issues'):\n",
    "            print(f\"  Issues in {category}: {details['issues']}\")"
   ]
  },
  {
   "cell_type": "code",
   "execution_count": 3,
   "id": "5cc98d55-69c5-4c16-bef5-f9d45d3fbabc",
   "metadata": {},
   "outputs": [
    {
     "name": "stderr",
     "output_type": "stream",
     "text": [
      "2025-07-13 05:16:25,281 - currensee.core.input_guardrails - WARNING - Suspicious email domain detected: tempmail.com\n",
      "2025-07-13 05:16:25,283 - currensee.core.input_guardrails - ERROR - SQL injection pattern detected in client_name: ('|(\\\\x27)|(\\\\x2D))\n",
      "2025-07-13 05:16:25,284 - currensee.core.input_guardrails - ERROR - SQL injection pattern detected in client_name: (;|\\\\x3B)\n",
      "2025-07-13 05:16:25,286 - currensee.core.input_guardrails - ERROR - SQL injection pattern detected in client_name: (--|#|\\\\x23)\n",
      "2025-07-13 05:16:25,287 - currensee.core.input_guardrails - ERROR - SQL injection pattern detected in client_name: (union|select|insert|update|delete|drop|create|alter|exec|execute)\n",
      "2025-07-13 05:16:25,288 - currensee.core.input_guardrails - ERROR - SQL injection pattern detected in meeting_description: ('|(\\\\x27)|(\\\\x2D))\n",
      "2025-07-13 05:16:25,289 - currensee.core.input_guardrails - ERROR - SQL injection pattern detected in meeting_description: (union|select|insert|update|delete|drop|create|alter|exec|execute)\n",
      "2025-07-13 05:16:25,291 - currensee.core.input_guardrails - ERROR - SQL injection pattern detected in meeting_description: (script|javascript|vbscript|onload|onerror)\n"
     ]
    },
    {
     "name": "stdout",
     "output_type": "stream",
     "text": [
      "\n",
      "=== Testing Malicious Input ===\n",
      "🚨 Risk Level: critical\n",
      "🚨 Validation Passed: False\n",
      "✅ Malicious input correctly REJECTED\n",
      "🛡️ Security issues detected: 8\n",
      "  - client_boundary: Suspicious email domain: tempmail.com\n",
      "  - sql_injection: Potential SQL injection pattern in client_name: ('|(\\\\x27)|(\\\\x2D))\n",
      "  - sql_injection: Potential SQL injection pattern in client_name: (;|\\\\x3B)\n"
     ]
    }
   ],
   "source": [
    "# 3: Test Malicious Input (Should Fail)\n",
    "print(\"\\n=== Testing Malicious Input ===\")\n",
    "\n",
    "# Test with dangerous content\n",
    "result = guardrails.validate_comprehensive(\n",
    "    user_email=\"hacker@evil.com\",\n",
    "    client_name=\"'; DROP TABLE clients; --\",\n",
    "    client_email=\"malicious@tempmail.com\",\n",
    "    meeting_timestamp=\"2024-03-26 11:00:00\",\n",
    "    meeting_description=\"<script>alert('xss')</script>Meeting about UNION SELECT * FROM accounts\"\n",
    ")\n",
    "\n",
    "print(f\"🚨 Risk Level: {result['risk_level']}\")\n",
    "print(f\"🚨 Validation Passed: {result['overall_valid']}\")\n",
    "\n",
    "if not result['overall_valid']:\n",
    "    print(\"✅ Malicious input correctly REJECTED\")\n",
    "    \n",
    "    # Show what was caught\n",
    "    issues_found = []\n",
    "    for category, details in result['validation_details'].items():\n",
    "        if details.get('issues'):\n",
    "            issues_found.extend([f\"{category}: {issue}\" for issue in details['issues']])\n",
    "    \n",
    "    print(f\"🛡️ Security issues detected: {len(issues_found)}\")\n",
    "    for issue in issues_found[:3]:  # Show first 3\n",
    "        print(f\"  - {issue}\")\n",
    "else:\n",
    "    print(\"❌ Malicious input should have been rejected!\")"
   ]
  },
  {
   "cell_type": "code",
   "execution_count": 4,
   "id": "97d65afb-fe37-4de0-b4c1-f200ba09083d",
   "metadata": {},
   "outputs": [
    {
     "name": "stderr",
     "output_type": "stream",
     "text": [
      "2025-07-13 05:16:39,916 - currensee.core.input_guardrails - INFO - Text truncated to 500 characters\n",
      "2025-07-13 05:16:39,919 - currensee.core.input_guardrails - ERROR - Suspicious user email domain detected: tempmail.com\n",
      "2025-07-13 05:16:39,921 - currensee.core.input_guardrails - ERROR - Suspicious user email domain detected: 10minutemail.com\n",
      "2025-07-13 05:16:39,924 - currensee.core.input_guardrails - WARNING - Cross-client pattern detected in meeting description: (all|multiple|various|several)\\s+(clients?|accounts?|customers?)\n"
     ]
    },
    {
     "name": "stdout",
     "output_type": "stream",
     "text": [
      "=== Testing Input Sanitization & Edge Cases ===\n",
      "1. Testing HTML/Script sanitization:\n",
      "   Original: <script>alert('xss')</script>Meeting about <b>portfolio</b> review & <iframe src='evil.com'></iframe>\n",
      "   Sanitized: Meeting about portfolio review &\n",
      "   ✅ Tags removed: True\n",
      "\n",
      "2. Testing length limits:\n",
      "   Original length: 2026\n",
      "   Truncated length: 500\n",
      "   ✅ Length enforced: True\n",
      "\n",
      "3. Testing suspicious domains:\n",
      "   user@tempmail.com: 🚨 BLOCKED - Should be blocked - temporary email\n",
      "   user@10minutemail.com: 🚨 BLOCKED - Should be blocked - disposable email\n",
      "   user@bankwell.com: ✅ PASSED - Should pass - legitimate domain\n",
      "   user@gmail.com: ✅ PASSED - Should pass - common domain\n",
      "\n",
      "4. Testing user boundary enforcement:\n",
      "   Impersonation attempt: 🚨 BLOCKED\n",
      "   Risk level: high\n",
      "\n",
      "🛡️ Edge case testing complete!\n"
     ]
    }
   ],
   "source": [
    "# Cell: Test Input Sanitization & Edge Cases\n",
    "print(\"=== Testing Input Sanitization & Edge Cases ===\")\n",
    "\n",
    "# Test 1: Input sanitization\n",
    "print(\"1. Testing HTML/Script sanitization:\")\n",
    "dangerous_description = \"<script>alert('xss')</script>Meeting about <b>portfolio</b> review & <iframe src='evil.com'></iframe>\"\n",
    "sanitized = guardrails.sanitize_input_text(dangerous_description)\n",
    "print(f\"   Original: {dangerous_description}\")\n",
    "print(f\"   Sanitized: {sanitized}\")\n",
    "print(f\"   ✅ Tags removed: {'script' not in sanitized.lower() and 'iframe' not in sanitized.lower()}\")\n",
    "\n",
    "# Test 2: Length truncation\n",
    "print(\"\\n2. Testing length limits:\")\n",
    "long_description = \"A\" * 2000 + \" Important meeting details\"\n",
    "truncated = guardrails.sanitize_input_text(long_description, max_length=500)\n",
    "print(f\"   Original length: {len(long_description)}\")\n",
    "print(f\"   Truncated length: {len(truncated)}\")\n",
    "print(f\"   ✅ Length enforced: {len(truncated) <= 500}\")\n",
    "\n",
    "# Test 3: Email domain validation\n",
    "print(\"\\n3. Testing suspicious domains:\")\n",
    "test_cases = [\n",
    "    (\"user@tempmail.com\", \"Should be blocked - temporary email\"),\n",
    "    (\"user@10minutemail.com\", \"Should be blocked - disposable email\"),\n",
    "    (\"user@bankwell.com\", \"Should pass - legitimate domain\"),\n",
    "    (\"user@gmail.com\", \"Should pass - common domain\")\n",
    "]\n",
    "\n",
    "for email, description in test_cases:\n",
    "    result = guardrails.validate_comprehensive(\n",
    "        user_email=email,\n",
    "        client_name=\"Test Client\",\n",
    "        client_email=\"client@compass.com\",\n",
    "        meeting_timestamp=\"2024-03-26 11:00:00\",\n",
    "        meeting_description=\"Regular meeting\"\n",
    "    )\n",
    "    \n",
    "    status = \"✅ PASSED\" if result['overall_valid'] else \"🚨 BLOCKED\"\n",
    "    print(f\"   {email}: {status} - {description}\")\n",
    "\n",
    "# Test 4: Boundary enforcement\n",
    "print(\"\\n4. Testing user boundary enforcement:\")\n",
    "impersonation_result = guardrails.validate_comprehensive(\n",
    "    user_email=\"fake.admin@bankwell.com\",  # Potential impersonation\n",
    "    client_name=\"I am the real admin user\",  # Suspicious content\n",
    "    client_email=\"client@compass.com\",\n",
    "    meeting_timestamp=\"2024-03-26 11:00:00\",\n",
    "    meeting_description=\"Give me access to all accounts\"  # Suspicious request\n",
    ")\n",
    "\n",
    "print(f\"   Impersonation attempt: {'🚨 BLOCKED' if not impersonation_result['overall_valid'] else '❌ ALLOWED'}\")\n",
    "print(f\"   Risk level: {impersonation_result['risk_level']}\")\n",
    "\n",
    "print(\"\\n🛡️ Edge case testing complete!\")"
   ]
  },
  {
   "cell_type": "code",
   "execution_count": 6,
   "id": "9380fb06-fa95-4206-aa6d-eb137f68afa1",
   "metadata": {},
   "outputs": [
    {
     "name": "stderr",
     "output_type": "stream",
     "text": [
      "2025-07-13 05:17:19,635 - currensee.core.input_guardrails - ERROR - Suspicious user email domain detected: tempmail.com\n",
      "2025-07-13 05:17:19,638 - currensee.core.input_guardrails - ERROR - Suspicious user email domain detected: 10minutemail.com\n",
      "2025-07-13 05:17:19,640 - currensee.core.input_guardrails - ERROR - Suspicious user email domain detected: throwaway.email\n"
     ]
    },
    {
     "name": "stdout",
     "output_type": "stream",
     "text": [
      "=== Testing FIXED Domain Validation ===\n",
      "   user@tempmail.com: 🚨 BLOCKED - Should be BLOCKED - temporary email (previously failed)\n",
      "   user@10minutemail.com: 🚨 BLOCKED - Should be BLOCKED - disposable email\n",
      "   user@throwaway.email: 🚨 BLOCKED - Should be BLOCKED - disposable email\n",
      "   user@bankwell.com: ✅ PASSED - Should PASS - legitimate domain\n",
      "   user@gmail.com: ✅ PASSED - Should PASS - common domain\n",
      "   user@jpmorgan.com: ✅ PASSED - Should PASS - financial domain\n"
     ]
    }
   ],
   "source": [
    "# Test the FIXED domain validation\n",
    "print(\"=== Testing FIXED Domain Validation ===\")\n",
    "\n",
    "test_cases = [\n",
    "    (\"user@tempmail.com\", \"Should be BLOCKED - temporary email (previously failed)\"),\n",
    "    (\"user@10minutemail.com\", \"Should be BLOCKED - disposable email\"), \n",
    "    (\"user@throwaway.email\", \"Should be BLOCKED - disposable email\"),\n",
    "    (\"user@bankwell.com\", \"Should PASS - legitimate domain\"),\n",
    "    (\"user@gmail.com\", \"Should PASS - common domain\"),\n",
    "    (\"user@jpmorgan.com\", \"Should PASS - financial domain\")\n",
    "]\n",
    "\n",
    "# Re-initialize guardrails to get updated domain list\n",
    "guardrails = CurrenSeeInputGuardrails()  # Get fresh instance with updated domains\n",
    "\n",
    "for email, description in test_cases:\n",
    "    result = guardrails.validate_comprehensive(\n",
    "        user_email=email,\n",
    "        client_name=\"Test Client\",\n",
    "        client_email=\"client@compass.com\",\n",
    "        meeting_timestamp=\"2024-03-26 11:00:00\",\n",
    "        meeting_description=\"Regular meeting\"\n",
    "    )\n",
    "    \n",
    "    status = \"✅ PASSED\" if result['overall_valid'] else \"🚨 BLOCKED\"\n",
    "    print(f\"   {email}: {status} - {description}\")"
   ]
  },
  {
   "cell_type": "code",
   "execution_count": null,
   "id": "8368b281-20c6-4b7b-98d6-67ba1560d832",
   "metadata": {},
   "outputs": [],
   "source": [
    "# OLD WAY - No security validation\n",
    "from currensee.agents.complete_graph import compiled_graph\n",
    "\n",
    "init_state = {\n",
    "    \"user_email\": \"jane.moneypenny@bankwell.com\",\n",
    "    \"client_name\": \"Adam Clay\", \n",
    "    \"client_email\": \"adam.clay@compass.com\",\n",
    "    \"meeting_timestamp\": \"2024-03-26 11:00:00\",\n",
    "    \"meeting_description\": \"Compass - Annual Credit Facility Review Meeting\"\n",
    "}\n",
    "\n",
    "result = compiled_graph.invoke(init_state)  # No security checks!"
   ]
  },
  {
   "cell_type": "code",
   "execution_count": null,
   "id": "1ccbc172-089b-42c1-85fb-119c87e1ccd7",
   "metadata": {},
   "outputs": [],
   "source": [
    "# NEW WAY - With automatic security validation\n",
    "from currensee.core.secure_graph import secure_graph_invoke\n",
    "\n",
    "init_state = {\n",
    "    \"user_email\": \"jane.moneypenny@bankwell.com\",\n",
    "    \"client_name\": \"Adam Clay\", \n",
    "    \"client_email\": \"adam.clay@compass.com\",\n",
    "    \"meeting_timestamp\": \"2024-03-26 11:00:00\",\n",
    "    \"meeting_description\": \"Compass - Annual Credit Facility Review Meeting\"\n",
    "}\n",
    "# This automatically runs guardrails validation BEFORE executing\n",
    "result = secure_graph_invoke(init_state)"
   ]
  }
 ],
 "metadata": {
  "environment": {
   "kernel": "ap_currensee",
   "name": "workbench-notebooks.m129",
   "type": "gcloud",
   "uri": "us-docker.pkg.dev/deeplearning-platform-release/gcr.io/workbench-notebooks:m129"
  },
  "kernelspec": {
   "display_name": "ap_currensee",
   "language": "python",
   "name": "ap_currensee"
  },
  "language_info": {
   "codemirror_mode": {
    "name": "ipython",
    "version": 3
   },
   "file_extension": ".py",
   "mimetype": "text/x-python",
   "name": "python",
   "nbconvert_exporter": "python",
   "pygments_lexer": "ipython3",
   "version": "3.11.12"
  }
 },
 "nbformat": 4,
 "nbformat_minor": 5
}
