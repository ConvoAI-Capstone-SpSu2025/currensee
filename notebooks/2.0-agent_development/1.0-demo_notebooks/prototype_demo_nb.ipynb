{
 "cells": [
  {
   "cell_type": "code",
   "execution_count": 3,
   "id": "c57516d8-1607-4573-bcdd-c78af6861c7e",
   "metadata": {},
   "outputs": [],
   "source": [
    "from currensee.agents.complete_graph import compiled_graph\n",
    "from currensee.agents.tools.finance_tools import generate_macro_table\n",
    "from currensee.utils.output_utils import (\n",
    "    generate_long_report,\n",
    "    format_news_summary_to_html,\n",
    "    format_paragraph_summary_to_html,\n",
    "    save_html_to_file,\n",
    "    generate_short_report,\n",
    "    convert_html_to_pdf,\n",
    "    generate_med_report,\n",
    "    convert_markdown_links_to_html\n",
    ")\n",
    "import warnings\n",
    "import joblib\n",
    "\n",
    "warnings.filterwarnings(\"ignore\")"
   ]
  },
  {
   "cell_type": "code",
   "execution_count": 4,
   "id": "78af48b6-83cb-457b-b0df-8740a807829d",
   "metadata": {},
   "outputs": [
    {
     "name": "stdout",
     "output_type": "stream",
     "text": [
      "20250706\n"
     ]
    }
   ],
   "source": [
    "from datetime import date\n",
    "\n",
    "today = date.today()\n",
    "today_date = today.strftime(\"%Y%m%d\")\n",
    "print(today_date)"
   ]
  },
  {
   "cell_type": "markdown",
   "id": "0382d110-7666-4cf9-8664-a6ec2799f35e",
   "metadata": {},
   "source": [
    "## Define Initial State\n",
    "\n",
    "This is data that we should be retrieving from each meeting invite.\n",
    "\n",
    "**DO NOT** change this data until the CRM DB has been updated"
   ]
  },
  {
   "cell_type": "code",
   "execution_count": 5,
   "id": "dcc4c7df-7a99-4862-b4ff-e84ed8dfc48c",
   "metadata": {},
   "outputs": [
    {
     "name": "stdout",
     "output_type": "stream",
     "text": [
      "\n",
      "===============================\n",
      "Generating report with the following preferences: \n",
      " Finance Detail: full \n",
      " News Detail: none \n",
      " Macro News Detail: full\n",
      " Past Meeting Detail: full\n",
      "===============================\n",
      "\n"
     ]
    }
   ],
   "source": [
    "init_state = {\n",
    "    \"user_email\" : \"jane.moneypenny1@bankwell.com\",\n",
    "    \"client_name\": \"Adam Clay\",\n",
    "    \"client_email\": \"adam.clay@compass.com\",\n",
    "    \"meeting_timestamp\": \"2024-03-26 11:00:00\",\n",
    "    \"meeting_description\": \"Compass - Annual Credit Facility Review Meeting\",\n",
    "}\n",
    "\n",
    "result = compiled_graph.invoke(init_state)"
   ]
  },
  {
   "cell_type": "code",
   "execution_count": 6,
   "id": "de8451de-eb24-4cc5-8e7c-8e9fed71ce2d",
   "metadata": {},
   "outputs": [],
   "source": [
    "client_report = generate_short_report(result)\n",
    "save_html_to_file(\n",
    "    client_report,\n",
    "    f\"../../client_report_sample_compass_long_{today_date}.html\",\n",
    ")"
   ]
  },
  {
   "cell_type": "code",
   "execution_count": 5,
   "id": "56825b13-d090-4a18-9882-a0a53ac50df6",
   "metadata": {},
   "outputs": [
    {
     "name": "stdout",
     "output_type": "stream",
     "text": [
      "\n",
      "===============================\n",
      "Generating report with the following preferences: \n",
      " Finance Detail: full \n",
      " News Detail: none \n",
      " Macro News Detail: full\n",
      " Past Meeting Detail: full\n",
      "===============================\n",
      "\n"
     ]
    },
    {
     "ename": "KeyError",
     "evalue": "'final_summary_sourced'",
     "output_type": "error",
     "traceback": [
      "\u001b[31m---------------------------------------------------------------------------\u001b[39m",
      "\u001b[31mKeyError\u001b[39m                                  Traceback (most recent call last)",
      "\u001b[36mCell\u001b[39m\u001b[36m \u001b[39m\u001b[32mIn[5]\u001b[39m\u001b[32m, line 11\u001b[39m\n\u001b[32m      1\u001b[39m init_state = {\n\u001b[32m      2\u001b[39m     \u001b[33m\"\u001b[39m\u001b[33muser_email\u001b[39m\u001b[33m\"\u001b[39m : \u001b[33m\"\u001b[39m\u001b[33mjane.moneypenny1@bankwell.com\u001b[39m\u001b[33m\"\u001b[39m,\n\u001b[32m      3\u001b[39m     \u001b[33m\"\u001b[39m\u001b[33mclient_name\u001b[39m\u001b[33m\"\u001b[39m: \u001b[33m\"\u001b[39m\u001b[33mAdam Clay\u001b[39m\u001b[33m\"\u001b[39m,\n\u001b[32m   (...)\u001b[39m\u001b[32m      7\u001b[39m     \u001b[33m\"\u001b[39m\u001b[33mreport_length\u001b[39m\u001b[33m\"\u001b[39m: \u001b[33m\"\u001b[39m\u001b[33mshort\u001b[39m\u001b[33m\"\u001b[39m,\n\u001b[32m      8\u001b[39m }\n\u001b[32m     10\u001b[39m result = compiled_graph.invoke(init_state)\n\u001b[32m---> \u001b[39m\u001b[32m11\u001b[39m summary = \u001b[43mresult\u001b[49m\u001b[43m[\u001b[49m\u001b[33;43m\"\u001b[39;49m\u001b[33;43mfinal_summary_sourced\u001b[39;49m\u001b[33;43m\"\u001b[39;49m\u001b[43m]\u001b[49m\n\u001b[32m     12\u001b[39m full_report = summary\n\u001b[32m     13\u001b[39m \u001b[38;5;66;03m# full_report = summary + \"\\n\\n### Macro Financial Snapshot\\n\\n\" + macro_table\u001b[39;00m\n",
      "\u001b[31mKeyError\u001b[39m: 'final_summary_sourced'"
     ]
    }
   ],
   "source": [
    "init_state = {\n",
    "    \"user_email\" : \"jane.moneypenny1@bankwell.com\",\n",
    "    \"client_name\": \"Adam Clay\",\n",
    "    \"client_email\": \"adam.clay@compass.com\",\n",
    "    \"meeting_timestamp\": \"2024-03-26 11:00:00\",\n",
    "    \"meeting_description\": \"Compass - Annual Credit Facility Review Meeting\",\n",
    "    \"report_length\": \"short\",\n",
    "}\n",
    "\n",
    "result = compiled_graph.invoke(init_state)"
   ]
  },
  {
   "cell_type": "code",
   "execution_count": 9,
   "id": "5d2abce1-cb20-4bb8-ab68-47dac853eb53",
   "metadata": {},
   "outputs": [
    {
     "name": "stdout",
     "output_type": "stream",
     "text": [
      "\n",
      "===============================\n",
      "Generating report with the following preferences: \n",
      " Finance Detail: full \n",
      " News Detail: none \n",
      " Macro News Detail: full\n",
      " Past Meeting Detail: full\n",
      "===============================\n",
      "\n"
     ]
    },
    {
     "ename": "FileNotFoundError",
     "evalue": "[Errno 2] No such file or directory: '../../generated_reports/client_report_sample_compass_short_20250706.html'",
     "output_type": "error",
     "traceback": [
      "\u001b[31m---------------------------------------------------------------------------\u001b[39m",
      "\u001b[31mFileNotFoundError\u001b[39m                         Traceback (most recent call last)",
      "\u001b[36mCell\u001b[39m\u001b[36m \u001b[39m\u001b[32mIn[9]\u001b[39m\u001b[32m, line 3\u001b[39m\n\u001b[32m      1\u001b[39m result = compiled_graph.invoke(init_state)\n\u001b[32m      2\u001b[39m client_report = generate_short_report(result)\n\u001b[32m----> \u001b[39m\u001b[32m3\u001b[39m \u001b[43msave_html_to_file\u001b[49m\u001b[43m(\u001b[49m\n\u001b[32m      4\u001b[39m \u001b[43m    \u001b[49m\u001b[43mclient_report\u001b[49m\u001b[43m,\u001b[49m\n\u001b[32m      5\u001b[39m \u001b[43m    \u001b[49m\u001b[33;43mf\u001b[39;49m\u001b[33;43m\"\u001b[39;49m\u001b[33;43m../../generated_reports/client_report_sample_compass_short_\u001b[39;49m\u001b[38;5;132;43;01m{\u001b[39;49;00m\u001b[43mtoday_date\u001b[49m\u001b[38;5;132;43;01m}\u001b[39;49;00m\u001b[33;43m.html\u001b[39;49m\u001b[33;43m\"\u001b[39;49m\u001b[43m,\u001b[49m\n\u001b[32m      6\u001b[39m \u001b[43m)\u001b[49m\n",
      "\u001b[36mFile \u001b[39m\u001b[32m~/gf_currensee/currensee/src/currensee/utils/output_utils.py:1295\u001b[39m, in \u001b[36msave_html_to_file\u001b[39m\u001b[34m(html_content, filename)\u001b[39m\n\u001b[32m   1294\u001b[39m \u001b[38;5;28;01mdef\u001b[39;00m\u001b[38;5;250m \u001b[39m\u001b[34msave_html_to_file\u001b[39m(html_content: \u001b[38;5;28mstr\u001b[39m, filename: \u001b[38;5;28mstr\u001b[39m):\n\u001b[32m-> \u001b[39m\u001b[32m1295\u001b[39m     \u001b[38;5;28;01mwith\u001b[39;00m \u001b[38;5;28;43mopen\u001b[39;49m\u001b[43m(\u001b[49m\u001b[43mfilename\u001b[49m\u001b[43m,\u001b[49m\u001b[43m \u001b[49m\u001b[33;43m\"\u001b[39;49m\u001b[33;43mw\u001b[39;49m\u001b[33;43m\"\u001b[39;49m\u001b[43m,\u001b[49m\u001b[43m \u001b[49m\u001b[43mencoding\u001b[49m\u001b[43m=\u001b[49m\u001b[33;43m\"\u001b[39;49m\u001b[33;43mutf-8\u001b[39;49m\u001b[33;43m\"\u001b[39;49m\u001b[43m)\u001b[49m \u001b[38;5;28;01mas\u001b[39;00m f:\n\u001b[32m   1296\u001b[39m         f.write(html_content)\n",
      "\u001b[31mFileNotFoundError\u001b[39m: [Errno 2] No such file or directory: '../../generated_reports/client_report_sample_compass_short_20250706.html'"
     ]
    }
   ],
   "source": [
    "result = compiled_graph.invoke(init_state)\n",
    "client_report = generate_short_report(result)\n",
    "save_html_to_file(\n",
    "    client_report,\n",
    "    f\"../../client_report_sample_compass_short_{today_date}.html\",\n",
    ")"
   ]
  },
  {
   "cell_type": "code",
   "execution_count": null,
   "id": "51bc9949-f9a5-4f94-a566-dd8b992126dd",
   "metadata": {},
   "outputs": [],
   "source": [
    "init_state = {\n",
    "    \"user_email\" : \"jane.moneypenny1@bankwell.com\",\n",
    "    \"client_name\": \"Adam Clay\",\n",
    "    \"client_email\": \"adam.clay@compass.com\",\n",
    "    \"meeting_timestamp\": \"2024-03-26 11:00:00\",\n",
    "    \"meeting_description\": \"Compass - Annual Credit Facility Review Meeting\",\n",
    "    \"report_length\": \"medium\",\n",
    "}\n",
    "\n",
    "result = compiled_graph.invoke(init_state)"
   ]
  },
  {
   "cell_type": "code",
   "execution_count": null,
   "id": "497cce40-bc80-4a08-8d00-85955e153d54",
   "metadata": {},
   "outputs": [],
   "source": [
    "client_report = generate_med_report(result)\n",
    "save_html_to_file(\n",
    "    client_report,\n",
    "    f\"../../client_report_sample_compass_interactive_{today_date}.html\",\n",
    ")"
   ]
  },
  {
   "cell_type": "markdown",
   "id": "d2a31211-9712-4897-a4a5-fe74bf55fd2e",
   "metadata": {},
   "source": [
    "# Test case 2"
   ]
  },
  {
   "cell_type": "code",
   "execution_count": null,
   "id": "1503b118-55e2-4578-9798-254baff50823",
   "metadata": {},
   "outputs": [],
   "source": [
    "init_state = {\n",
    "    \"user_email\" : \"jane.moneypenny1@bankwell.com\",\n",
    "    \"client_name\": \"Jennifer Phelps\",\n",
    "    \"client_email\": \"jennifer.phelps@aerovironment.com\",\n",
    "    \"meeting_timestamp\": \"2018-07-24 14:00:00\",\n",
    "    \"meeting_description\": \"AeroVironment - Initial Discussion on Financial Needs\",\n",
    "    \"report_length\": \"medium\",\n",
    "}\n",
    "result = compiled_graph.invoke(init_state)\n",
    "client_report = generate_med_report(result)\n",
    "save_html_to_file(\n",
    "    client_report,\n",
    "    f\"../../client_report_sample_aeroenv_interactive_{today_date}.html\",\n",
    ")"
   ]
  },
  {
   "cell_type": "markdown",
   "id": "a33b701c-3483-46e3-8f06-dce8aff5a59f",
   "metadata": {},
   "source": [
    "# Test Case 3"
   ]
  },
  {
   "cell_type": "code",
   "execution_count": null,
   "id": "47db3bf1-0db3-43d7-b5bb-df051f3f04b4",
   "metadata": {},
   "outputs": [],
   "source": [
    "init_state = {\n",
    "    \"user_email\" : \"jane.moneypenny1@bankwell.com\",\n",
    "    \"client_name\": \"Jessica Palmer\",\n",
    "    \"client_email\": \"jessica.palmer@hasbro.com\",\n",
    "    \"meeting_timestamp\": \"2024-02-04 14:30:00\",\n",
    "    \"meeting_description\": \"Hasbro - Discuss Portfolio Diversification and Bond Strategy\",\n",
    "    \"report_length\": \"short\",  # 'short' , 'medium' , 'long' (default)\n",
    "}\n",
    "result = compiled_graph.invoke(init_state)\n",
    "client_report = generate_short_report(result)\n",
    "save_html_to_file(\n",
    "    client_report,\n",
    "    f\"../../client_report_sample_hasbro_short_{today_date}.html\",\n",
    ")"
   ]
  },
  {
   "cell_type": "markdown",
   "id": "d1ebf080-5957-4b7a-818c-bc7aa505716f",
   "metadata": {},
   "source": [
    "# Test Case 4"
   ]
  },
  {
   "cell_type": "code",
   "execution_count": null,
   "id": "f0ece541-c1b2-4a29-a4c3-5f74229e071c",
   "metadata": {},
   "outputs": [],
   "source": [
    "init_state = {\n",
    "    \"user_email\" : \"jane.moneypenny1@bankwell.com\",\n",
    "    \"client_name\": \"Jessica Palmer\",\n",
    "    \"client_email\": \"jessica.palmer@hasbro.com\",\n",
    "    \"meeting_timestamp\": \"2024-02-04 14:30:00\",\n",
    "    \"meeting_description\": \"Hasbro - Discuss Portfolio Diversification and Bond Strategy\",\n",
    "    \"report_length\": \"long\",\n",
    "}\n",
    "result = compiled_graph.invoke(init_state)\n",
    "client_report = generate_long_report(result)\n",
    "save_html_to_file(\n",
    "    client_report,\n",
    "    f\"../../client_report_sample_hasbro_long_{today_date}.html\",\n",
    ")"
   ]
  },
  {
   "cell_type": "code",
   "execution_count": null,
   "id": "276f6162-dedb-4d6d-b307-2974e5570512",
   "metadata": {},
   "outputs": [],
   "source": [
    "init_state = {\n",
    "    \"user_email\" : \"jane.moneypenny1@bankwell.com\",\n",
    "    \"client_name\": \"Jessica Palmer\",\n",
    "    \"client_email\": \"jessica.palmer@hasbro.com\",\n",
    "    \"meeting_timestamp\": \"2024-02-04 14:30:00\",\n",
    "    \"meeting_description\": \"Hasbro - Discuss Portfolio Diversification and Bond Strategy\",\n",
    "    \"report_length\": \"medium\",\n",
    "}\n",
    "result = compiled_graph.invoke(init_state)\n",
    "client_report = generate_med_report(result)\n",
    "save_html_to_file(\n",
    "    client_report,\n",
    "    f\"../../client_report_sample_hasbro_interactive_{today_date}.html\",\n",
    ")"
   ]
  },
  {
   "cell_type": "markdown",
   "id": "70a647ae-d08c-4d19-af45-76cf57b20883",
   "metadata": {},
   "source": [
    "# Test Case 5"
   ]
  },
  {
   "cell_type": "code",
   "execution_count": 10,
   "id": "54542167-5bee-48d3-93ea-bcc467f4eef4",
   "metadata": {},
   "outputs": [
    {
     "name": "stdout",
     "output_type": "stream",
     "text": [
      "\n",
      "===============================\n",
      "Generating report with the following preferences: \n",
      " Finance Detail: short \n",
      " News Detail: full \n",
      " Macro News Detail: none\n",
      " Past Meeting Detail: full\n",
      "===============================\n",
      "\n",
      "COMMS SUMM **Hyatt Hotels - 401(k) Advisory RFI Launch Meeting Briefing**\n",
      "\n",
      "**1. Past Email Summary**\n",
      "\n",
      "Bankwell Financial and Hyatt Hotels have been in communication regarding Hyatt's 401(k) plan since Jane Moneypenny's initial contact with Timothy Ochoa at a Hospitality Finance conference.  Mr. Ochoa confirmed Hyatt's periodic RFI process for 401(k) services and requested introductory materials, which Ms. Moneypenny provided along with an industry benchmarking report.  Mr. Ochoa acknowledged receipt and indicated he would keep the information on file for future review committee meetings. Subsequent communication revised the anticipated review timeline from Q3/Q4 2022 to Q3 2023, and finally to early Q1 2024 due to delays.  Mr. Ochoa confirmed Bankwell's inclusion on the RFI distribution list for the upcoming Q1 2024 launch.\n",
      "\n",
      "\n",
      "**2. Recent Email Topics**\n",
      "\n",
      "* Delay in issuing the Request for Information (RFI) for 401(k) advisory services.\n",
      "* Expected launch of the RFI process in early Q1 2024.\n",
      "* Bankwell Financial's continued interest in participating.\n",
      "* Confirmation that Bankwell Financial will be on the RFI distribution list.\n",
      "* Original timeline for the review process was projected for Q3 2023.\n",
      "\n",
      "\n",
      "**3. Recent Client Questions**\n",
      "\n",
      "1.  \"Following up on our conversation earlier this year, has Hyatt formally issued the RFI for 401(k) advisory services yet? If so, could you please ensure Bankwell Financial receives a copy?\"\n",
      "EMAIL SECTION \n",
      "    <div class=\"box-content\">\n",
      "        <h2>1. Past Email Summary</h2>\n",
      "<p>Bankwell Financial and Hyatt Hotels have been in communication regarding Hyatt's 401(k) plan since Jane Moneypenny's initial contact with Timothy Ochoa at a Hospitality Finance conference.  Mr. Ochoa confirmed Hyatt's periodic RFI process for 401(k) services and requested introductory materials, which Ms. Moneypenny provided along with an industry benchmarking report.  Mr. Ochoa acknowledged receipt and indicated he would keep the information on file for future review committee meetings. Subsequent communication revised the anticipated review timeline from Q3/Q4 2022 to Q3 2023, and finally to early Q1 2024 due to delays.  Mr. Ochoa confirmed Bankwell's inclusion on the RFI distribution list for the upcoming Q1 2024 launch.</p>\n",
      "<h2>2. Recent Email Topics</h2>\n",
      "<ul>\n",
      "<li>Delay in issuing the Request for Information (RFI) for 401(k) advisory services.</li>\n",
      "<li>Expected launch of the RFI process in early Q1 2024.</li>\n",
      "<li>Bankwell Financial's continued interest in participating.</li>\n",
      "<li>Confirmation that Bankwell Financial will be on the RFI distribution list.</li>\n",
      "<li>Original timeline for the review process was projected for Q3 2023.</li>\n",
      "</ul>\n",
      "<h2>3. Recent Client Questions</h2>\n",
      "<ol>\n",
      "<li>\"Following up on our conversation earlier this year, has Hyatt formally issued the RFI for 401(k) advisory services yet? If so, could you please ensure Bankwell Financial receives a copy?\"</li>\n",
      "</ol>\n",
      "    </div>\n",
      "    \n"
     ]
    }
   ],
   "source": [
    "init_state = {\n",
    "    \"user_email\" : \"jane.moneypenny1@bankwell.com\",\n",
    "    \"client_name\": \"Timothy Ochoa\",\n",
    "    \"client_email\": \"timothy.ochoa@hyatthotels.com\",\n",
    "    \"meeting_timestamp\": \"2024-02-27 10:00:00\",\n",
    "    \"meeting_description\": \"Hyatt Hotels - Check Status of 401k Advisory RFI Launch\",\n",
    "    \"report_length\": \"medium\",\n",
    "}\n",
    "result = compiled_graph.invoke(init_state)\n",
    "client_report = generate_med_report(result)\n",
    "save_html_to_file(\n",
    "    client_report,\n",
    "    f\"../../client_report_sample_hyatt_interactive_{today_date}.html\",\n",
    ")"
   ]
  },
  {
   "cell_type": "code",
   "execution_count": 11,
   "id": "dced1808-e943-4a23-9016-b03f9eec23d5",
   "metadata": {},
   "outputs": [
    {
     "name": "stderr",
     "output_type": "stream",
     "text": [
      "2025-07-06 18:39:29,352 - weasyprint - WARNING - Unknown rendering option: page_size.\n",
      "2025-07-06 18:39:29,366 - weasyprint - WARNING - Ignored `box-shadow: 0 2px 5px rgba(0, 0, 0, 0.05)` at 42:17, unknown property.\n",
      "2025-07-06 18:39:29,371 - weasyprint - WARNING - Ignored `box-shadow: 0 1px 3px rgba(0,0,0,0.2)` at 132:17, unknown property.\n",
      "2025-07-06 18:39:29,372 - weasyprint - WARNING - Ignored `overflow-x: auto` at 145:17, unknown property.\n",
      "2025-07-06 18:39:29,375 - weasyprint - WARNING - Expected a media type, got '(max-width: 768px)'\n",
      "2025-07-06 18:39:29,377 - weasyprint - WARNING - Invalid media type ' (max-width: 768px) ' the whole @media rule was ignored at 170:13.\n",
      "2025-07-06 18:39:29,409 - weasyprint - WARNING - Anchor defined twice: 'resources'\n",
      "2025-07-06 18:39:29,504 - weasyprint - WARNING - Anchor defined twice: 'resources'\n",
      "2025-07-06 18:39:29,846 - fontTools.ttLib.ttFont - DEBUG - Reading 'maxp' table from disk\n",
      "2025-07-06 18:39:29,848 - fontTools.ttLib.ttFont - DEBUG - Decompiling 'maxp' table\n",
      "2025-07-06 18:39:29,849 - fontTools.subset.timer - DEBUG - Took 0.002s to load 'maxp'\n",
      "2025-07-06 18:39:29,850 - fontTools.subset.timer - DEBUG - Took 0.000s to prune 'maxp'\n",
      "2025-07-06 18:39:29,851 - fontTools.subset - INFO - maxp pruned\n",
      "2025-07-06 18:39:29,852 - fontTools.ttLib.ttFont - DEBUG - Reading 'cmap' table from disk\n",
      "2025-07-06 18:39:29,853 - fontTools.ttLib.ttFont - DEBUG - Decompiling 'cmap' table\n",
      "2025-07-06 18:39:29,856 - fontTools.ttLib.ttFont - DEBUG - Reading 'post' table from disk\n",
      "2025-07-06 18:39:29,858 - fontTools.ttLib.ttFont - DEBUG - Decompiling 'post' table\n",
      "2025-07-06 18:39:29,873 - fontTools.subset.timer - DEBUG - Took 0.021s to load 'cmap'\n",
      "2025-07-06 18:39:29,874 - fontTools.subset.timer - DEBUG - Took 0.000s to prune 'cmap'\n",
      "2025-07-06 18:39:29,875 - fontTools.subset - INFO - cmap pruned\n",
      "2025-07-06 18:39:29,876 - fontTools.subset - INFO - fpgm dropped\n",
      "2025-07-06 18:39:29,877 - fontTools.subset - INFO - prep dropped\n",
      "2025-07-06 18:39:29,878 - fontTools.subset - INFO - cvt  dropped\n",
      "2025-07-06 18:39:29,879 - fontTools.subset - INFO - kern dropped\n",
      "2025-07-06 18:39:29,880 - fontTools.subset.timer - DEBUG - Took 0.000s to load 'post'\n",
      "2025-07-06 18:39:29,881 - fontTools.subset.timer - DEBUG - Took 0.000s to prune 'post'\n",
      "2025-07-06 18:39:29,882 - fontTools.subset - INFO - post pruned\n",
      "2025-07-06 18:39:29,882 - fontTools.subset - INFO - GPOS dropped\n",
      "2025-07-06 18:39:29,883 - fontTools.subset - INFO - GSUB dropped\n",
      "2025-07-06 18:39:29,884 - fontTools.ttLib.ttFont - DEBUG - Reading 'glyf' table from disk\n",
      "2025-07-06 18:39:29,885 - fontTools.ttLib.ttFont - DEBUG - Decompiling 'glyf' table\n",
      "2025-07-06 18:39:29,886 - fontTools.ttLib.ttFont - DEBUG - Reading 'loca' table from disk\n",
      "2025-07-06 18:39:29,887 - fontTools.ttLib.ttFont - DEBUG - Decompiling 'loca' table\n",
      "2025-07-06 18:39:29,887 - fontTools.ttLib.ttFont - DEBUG - Reading 'head' table from disk\n",
      "2025-07-06 18:39:29,893 - fontTools.ttLib.ttFont - DEBUG - Decompiling 'head' table\n",
      "2025-07-06 18:39:29,902 - fontTools.subset.timer - DEBUG - Took 0.018s to load 'glyf'\n",
      "2025-07-06 18:39:29,904 - fontTools.subset.timer - DEBUG - Took 0.000s to prune 'glyf'\n",
      "2025-07-06 18:39:29,905 - fontTools.subset - INFO - glyf pruned\n",
      "2025-07-06 18:39:29,908 - fontTools.subset.timer - DEBUG - Took 0.001s to close glyph list over 'cmap'\n",
      "2025-07-06 18:39:29,909 - fontTools.subset - INFO - Added gid0 to subset\n",
      "2025-07-06 18:39:29,910 - fontTools.subset - INFO - Closing glyph list over 'glyf': 47 glyphs before\n",
      "2025-07-06 18:39:29,911 - fontTools.subset - INFO - Glyph names: ['.notdef', 'A', 'B', 'C', 'D', 'E', 'F', 'H', 'I', 'L', 'M', 'N', 'P', 'Q', 'R', 'S', 'T', 'a', 'c', 'colon', 'd', 'e', 'f', 'fi', 'four', 'g', 'h', 'hyphen', 'i', 'k', 'l', 'm', 'n', 'o', 'one', 'p', 'period', 'r', 's', 'space', 't', 'three', 'two', 'u', 'v', 'y', 'zero']\n",
      "2025-07-06 18:39:29,914 - fontTools.subset - INFO - Glyph IDs:   [0, 3, 16, 17, 19, 20, 21, 22, 23, 29, 36, 37, 38, 39, 40, 41, 43, 44, 47, 48, 49, 51, 52, 53, 54, 55, 68, 70, 71, 72, 73, 74, 75, 76, 78, 79, 80, 81, 82, 83, 85, 86, 87, 88, 89, 92, 5038]\n",
      "2025-07-06 18:39:29,915 - fontTools.subset - INFO - Closed glyph list over 'glyf': 47 glyphs after\n",
      "2025-07-06 18:39:29,915 - fontTools.subset - INFO - Glyph names: ['.notdef', 'A', 'B', 'C', 'D', 'E', 'F', 'H', 'I', 'L', 'M', 'N', 'P', 'Q', 'R', 'S', 'T', 'a', 'c', 'colon', 'd', 'e', 'f', 'fi', 'four', 'g', 'h', 'hyphen', 'i', 'k', 'l', 'm', 'n', 'o', 'one', 'p', 'period', 'r', 's', 'space', 't', 'three', 'two', 'u', 'v', 'y', 'zero']\n",
      "2025-07-06 18:39:29,917 - fontTools.subset - INFO - Glyph IDs:   [0, 3, 16, 17, 19, 20, 21, 22, 23, 29, 36, 37, 38, 39, 40, 41, 43, 44, 47, 48, 49, 51, 52, 53, 54, 55, 68, 70, 71, 72, 73, 74, 75, 76, 78, 79, 80, 81, 82, 83, 85, 86, 87, 88, 89, 92, 5038]\n",
      "2025-07-06 18:39:29,917 - fontTools.subset.timer - DEBUG - Took 0.008s to close glyph list over 'glyf'\n",
      "2025-07-06 18:39:29,925 - fontTools.subset - INFO - Retaining 47 glyphs\n",
      "2025-07-06 18:39:29,927 - fontTools.subset - INFO - head subsetting not needed\n",
      "2025-07-06 18:39:29,929 - fontTools.subset - INFO - hhea subsetting not needed\n",
      "2025-07-06 18:39:29,930 - fontTools.subset - INFO - maxp subsetting not needed\n",
      "2025-07-06 18:39:29,931 - fontTools.subset - INFO - OS/2 subsetting not needed\n",
      "2025-07-06 18:39:29,932 - fontTools.ttLib.ttFont - DEBUG - Reading 'hmtx' table from disk\n",
      "2025-07-06 18:39:29,933 - fontTools.ttLib.ttFont - DEBUG - Decompiling 'hmtx' table\n",
      "2025-07-06 18:39:29,934 - fontTools.ttLib.ttFont - DEBUG - Reading 'hhea' table from disk\n",
      "2025-07-06 18:39:29,935 - fontTools.ttLib.ttFont - DEBUG - Decompiling 'hhea' table\n",
      "2025-07-06 18:39:29,945 - fontTools.subset.timer - DEBUG - Took 0.013s to subset 'hmtx'\n",
      "2025-07-06 18:39:29,946 - fontTools.subset - INFO - hmtx subsetted\n",
      "2025-07-06 18:39:29,952 - fontTools.subset.timer - DEBUG - Took 0.004s to subset 'cmap'\n",
      "2025-07-06 18:39:29,953 - fontTools.subset - INFO - cmap subsetted\n",
      "2025-07-06 18:39:29,955 - fontTools.subset - INFO - loca subsetting not needed\n",
      "2025-07-06 18:39:29,956 - fontTools.subset.timer - DEBUG - Took 0.000s to subset 'post'\n",
      "2025-07-06 18:39:29,957 - fontTools.subset - INFO - post subsetted\n",
      "2025-07-06 18:39:29,962 - fontTools.subset - INFO - gasp subsetting not needed\n",
      "2025-07-06 18:39:29,963 - fontTools.subset - INFO - FFTM NOT subset; don't know how to subset\n",
      "2025-07-06 18:39:29,964 - fontTools.ttLib.ttFont - DEBUG - Reading 'GDEF' table from disk\n",
      "2025-07-06 18:39:29,966 - fontTools.ttLib.ttFont - DEBUG - Decompiling 'GDEF' table\n",
      "2025-07-06 18:39:29,970 - fontTools.subset.timer - DEBUG - Took 0.006s to subset 'GDEF'\n",
      "2025-07-06 18:39:29,972 - fontTools.subset - INFO - GDEF subsetted\n",
      "2025-07-06 18:39:29,973 - fontTools.subset - INFO - name subsetting not needed\n",
      "2025-07-06 18:39:29,979 - fontTools.subset.timer - DEBUG - Took 0.005s to subset 'glyf'\n",
      "2025-07-06 18:39:29,980 - fontTools.subset - INFO - glyf subsetted\n",
      "2025-07-06 18:39:29,981 - fontTools.subset.timer - DEBUG - Took 0.000s to subset GlyphOrder\n",
      "2025-07-06 18:39:29,982 - fontTools.subset.timer - DEBUG - Took 0.000s to prune 'head'\n",
      "2025-07-06 18:39:29,983 - fontTools.subset - INFO - head pruned\n",
      "2025-07-06 18:39:29,984 - fontTools.ttLib.ttFont - DEBUG - Reading 'OS/2' table from disk\n",
      "2025-07-06 18:39:29,985 - fontTools.ttLib.ttFont - DEBUG - Decompiling 'OS/2' table\n",
      "2025-07-06 18:39:29,986 - fontTools.subset - INFO - OS/2 Unicode ranges pruned: [0, 62]\n",
      "2025-07-06 18:39:29,987 - fontTools.subset - INFO - OS/2 CodePage ranges pruned: [0]\n",
      "2025-07-06 18:39:29,990 - fontTools.subset.timer - DEBUG - Took 0.002s to prune 'glyf'\n",
      "2025-07-06 18:39:29,991 - fontTools.subset - INFO - glyf pruned\n",
      "2025-07-06 18:39:29,992 - fontTools.subset.timer - DEBUG - Took 0.000s to prune 'GDEF'\n",
      "2025-07-06 18:39:29,992 - fontTools.subset - INFO - GDEF pruned\n",
      "2025-07-06 18:39:29,993 - fontTools.ttLib.ttFont - DEBUG - Reading 'name' table from disk\n",
      "2025-07-06 18:39:29,994 - fontTools.ttLib.ttFont - DEBUG - Decompiling 'name' table\n",
      "2025-07-06 18:39:29,995 - fontTools.ttLib.ttFont - DEBUG - Reading 'gasp' table from disk\n",
      "2025-07-06 18:39:29,996 - fontTools.ttLib.ttFont - DEBUG - Decompiling 'gasp' table\n",
      "2025-07-06 18:39:29,997 - fontTools.ttLib.ttFont - DEBUG - Reading 'FFTM' table from disk\n",
      "2025-07-06 18:39:29,998 - fontTools.ttLib.ttFont - DEBUG - Decompiling 'FFTM' table\n",
      "2025-07-06 18:39:29,999 - fontTools.subset.timer - DEBUG - Took 0.005s to prune 'name'\n",
      "2025-07-06 18:39:29,999 - fontTools.subset - INFO - name pruned\n",
      "2025-07-06 18:39:30,035 - fontTools.ttLib.ttFont - DEBUG - Reading 'maxp' table from disk\n",
      "2025-07-06 18:39:30,036 - fontTools.ttLib.ttFont - DEBUG - Decompiling 'maxp' table\n",
      "2025-07-06 18:39:30,038 - fontTools.subset.timer - DEBUG - Took 0.003s to load 'maxp'\n",
      "2025-07-06 18:39:30,039 - fontTools.subset.timer - DEBUG - Took 0.000s to prune 'maxp'\n",
      "2025-07-06 18:39:30,040 - fontTools.subset - INFO - maxp pruned\n",
      "2025-07-06 18:39:30,041 - fontTools.ttLib.ttFont - DEBUG - Reading 'cmap' table from disk\n",
      "2025-07-06 18:39:30,042 - fontTools.ttLib.ttFont - DEBUG - Decompiling 'cmap' table\n",
      "2025-07-06 18:39:30,044 - fontTools.ttLib.ttFont - DEBUG - Reading 'post' table from disk\n",
      "2025-07-06 18:39:30,050 - fontTools.ttLib.ttFont - DEBUG - Decompiling 'post' table\n",
      "2025-07-06 18:39:30,062 - fontTools.subset.timer - DEBUG - Took 0.021s to load 'cmap'\n",
      "2025-07-06 18:39:30,063 - fontTools.subset.timer - DEBUG - Took 0.000s to prune 'cmap'\n",
      "2025-07-06 18:39:30,065 - fontTools.subset - INFO - cmap pruned\n",
      "2025-07-06 18:39:30,066 - fontTools.subset - INFO - fpgm dropped\n",
      "2025-07-06 18:39:30,067 - fontTools.subset - INFO - prep dropped\n",
      "2025-07-06 18:39:30,067 - fontTools.subset - INFO - cvt  dropped\n",
      "2025-07-06 18:39:30,070 - fontTools.subset - INFO - kern dropped\n",
      "2025-07-06 18:39:30,071 - fontTools.subset.timer - DEBUG - Took 0.000s to load 'post'\n",
      "2025-07-06 18:39:30,072 - fontTools.subset.timer - DEBUG - Took 0.000s to prune 'post'\n",
      "2025-07-06 18:39:30,073 - fontTools.subset - INFO - post pruned\n",
      "2025-07-06 18:39:30,074 - fontTools.subset - INFO - GPOS dropped\n",
      "2025-07-06 18:39:30,075 - fontTools.subset - INFO - GSUB dropped\n",
      "2025-07-06 18:39:30,076 - fontTools.ttLib.ttFont - DEBUG - Reading 'glyf' table from disk\n",
      "2025-07-06 18:39:30,077 - fontTools.ttLib.ttFont - DEBUG - Decompiling 'glyf' table\n",
      "2025-07-06 18:39:30,077 - fontTools.ttLib.ttFont - DEBUG - Reading 'loca' table from disk\n",
      "2025-07-06 18:39:30,078 - fontTools.ttLib.ttFont - DEBUG - Decompiling 'loca' table\n",
      "2025-07-06 18:39:30,079 - fontTools.ttLib.ttFont - DEBUG - Reading 'head' table from disk\n",
      "2025-07-06 18:39:30,081 - fontTools.ttLib.ttFont - DEBUG - Decompiling 'head' table\n",
      "2025-07-06 18:39:30,089 - fontTools.subset.timer - DEBUG - Took 0.014s to load 'glyf'\n",
      "2025-07-06 18:39:30,091 - fontTools.subset.timer - DEBUG - Took 0.000s to prune 'glyf'\n",
      "2025-07-06 18:39:30,092 - fontTools.subset - INFO - glyf pruned\n",
      "2025-07-06 18:39:30,094 - fontTools.subset.timer - DEBUG - Took 0.001s to close glyph list over 'cmap'\n",
      "2025-07-06 18:39:30,095 - fontTools.subset - INFO - Added gid0 to subset\n",
      "2025-07-06 18:39:30,096 - fontTools.subset - INFO - Closing glyph list over 'MATH': 63 glyphs before\n",
      "2025-07-06 18:39:30,097 - fontTools.subset - INFO - Glyph names: ['.notdef', 'A', 'B', 'C', 'D', 'E', 'F', 'H', 'I', 'J', 'M', 'O', 'P', 'Q', 'R', 'S', 'T', 'W', 'a', 'b', 'bullet', 'c', 'colon', 'comma', 'd', 'e', 'f', 'fi', 'four', 'g', 'h', 'hyphen', 'i', 'j', 'k', 'l', 'm', 'n', 'o', 'one', 'p', 'parenleft', 'parenright', 'period', 'q', 'question', 'quotedbl', 'quotesingle', 'r', 's', 'seven', 'slash', 'space', 't', 'three', 'two', 'u', 'v', 'w', 'x', 'y', 'z', 'zero']\n",
      "2025-07-06 18:39:30,101 - fontTools.subset - INFO - Glyph IDs:   [0, 3, 5, 10, 11, 12, 15, 16, 17, 18, 19, 20, 21, 22, 23, 26, 29, 34, 36, 37, 38, 39, 40, 41, 43, 44, 45, 48, 50, 51, 52, 53, 54, 55, 58, 68, 69, 70, 71, 72, 73, 74, 75, 76, 77, 78, 79, 80, 81, 82, 83, 84, 85, 86, 87, 88, 89, 90, 91, 92, 93, 2821, 5042]\n",
      "2025-07-06 18:39:30,102 - fontTools.ttLib.ttFont - DEBUG - Reading 'MATH' table from disk\n",
      "2025-07-06 18:39:30,103 - fontTools.ttLib.ttFont - DEBUG - Decompiling 'MATH' table\n",
      "2025-07-06 18:39:30,107 - fontTools.subset - INFO - Closed glyph list over 'MATH': 69 glyphs after\n",
      "2025-07-06 18:39:30,108 - fontTools.subset - INFO - Glyph names: ['.notdef', 'A', 'B', 'C', 'D', 'E', 'F', 'H', 'I', 'J', 'M', 'O', 'P', 'Q', 'R', 'S', 'T', 'W', 'a', 'b', 'bullet', 'c', 'colon', 'comma', 'd', 'e', 'f', 'fi', 'four', 'g', 'h', 'hyphen', 'i', 'j', 'k', 'l', 'm', 'n', 'o', 'one', 'p', 'parenleft', 'parenright', 'period', 'q', 'question', 'quotedbl', 'quotesingle', 'r', 's', 'seven', 'slash', 'space', 't', 'three', 'two', 'u', 'uni239B', 'uni239C', 'uni239D', 'uni239E', 'uni239F', 'uni23A0', 'v', 'w', 'x', 'y', 'z', 'zero']\n",
      "2025-07-06 18:39:30,110 - fontTools.subset - INFO - Glyph IDs:   [0, 3, 5, 10, 11, 12, 15, 16, 17, 18, 19, 20, 21, 22, 23, 26, 29, 34, 36, 37, 38, 39, 40, 41, 43, 44, 45, 48, 50, 51, 52, 53, 54, 55, 58, 68, 69, 70, 71, 72, 73, 74, 75, 76, 77, 78, 79, 80, 81, 82, 83, 84, 85, 86, 87, 88, 89, 90, 91, 92, 93, 2821, 3507, 3508, 3509, 3510, 3511, 3512, 5042]\n",
      "2025-07-06 18:39:30,111 - fontTools.subset.timer - DEBUG - Took 0.015s to close glyph list over 'MATH'\n",
      "2025-07-06 18:39:30,111 - fontTools.subset - INFO - Closing glyph list over 'glyf': 69 glyphs before\n",
      "2025-07-06 18:39:30,112 - fontTools.subset - INFO - Glyph names: ['.notdef', 'A', 'B', 'C', 'D', 'E', 'F', 'H', 'I', 'J', 'M', 'O', 'P', 'Q', 'R', 'S', 'T', 'W', 'a', 'b', 'bullet', 'c', 'colon', 'comma', 'd', 'e', 'f', 'fi', 'four', 'g', 'h', 'hyphen', 'i', 'j', 'k', 'l', 'm', 'n', 'o', 'one', 'p', 'parenleft', 'parenright', 'period', 'q', 'question', 'quotedbl', 'quotesingle', 'r', 's', 'seven', 'slash', 'space', 't', 'three', 'two', 'u', 'uni239B', 'uni239C', 'uni239D', 'uni239E', 'uni239F', 'uni23A0', 'v', 'w', 'x', 'y', 'z', 'zero']\n",
      "2025-07-06 18:39:30,113 - fontTools.subset - INFO - Glyph IDs:   [0, 3, 5, 10, 11, 12, 15, 16, 17, 18, 19, 20, 21, 22, 23, 26, 29, 34, 36, 37, 38, 39, 40, 41, 43, 44, 45, 48, 50, 51, 52, 53, 54, 55, 58, 68, 69, 70, 71, 72, 73, 74, 75, 76, 77, 78, 79, 80, 81, 82, 83, 84, 85, 86, 87, 88, 89, 90, 91, 92, 93, 2821, 3507, 3508, 3509, 3510, 3511, 3512, 5042]\n",
      "2025-07-06 18:39:30,115 - fontTools.subset - INFO - Closed glyph list over 'glyf': 69 glyphs after\n",
      "2025-07-06 18:39:30,115 - fontTools.subset - INFO - Glyph names: ['.notdef', 'A', 'B', 'C', 'D', 'E', 'F', 'H', 'I', 'J', 'M', 'O', 'P', 'Q', 'R', 'S', 'T', 'W', 'a', 'b', 'bullet', 'c', 'colon', 'comma', 'd', 'e', 'f', 'fi', 'four', 'g', 'h', 'hyphen', 'i', 'j', 'k', 'l', 'm', 'n', 'o', 'one', 'p', 'parenleft', 'parenright', 'period', 'q', 'question', 'quotedbl', 'quotesingle', 'r', 's', 'seven', 'slash', 'space', 't', 'three', 'two', 'u', 'uni239B', 'uni239C', 'uni239D', 'uni239E', 'uni239F', 'uni23A0', 'v', 'w', 'x', 'y', 'z', 'zero']\n",
      "2025-07-06 18:39:30,116 - fontTools.subset - INFO - Glyph IDs:   [0, 3, 5, 10, 11, 12, 15, 16, 17, 18, 19, 20, 21, 22, 23, 26, 29, 34, 36, 37, 38, 39, 40, 41, 43, 44, 45, 48, 50, 51, 52, 53, 54, 55, 58, 68, 69, 70, 71, 72, 73, 74, 75, 76, 77, 78, 79, 80, 81, 82, 83, 84, 85, 86, 87, 88, 89, 90, 91, 92, 93, 2821, 3507, 3508, 3509, 3510, 3511, 3512, 5042]\n",
      "2025-07-06 18:39:30,117 - fontTools.subset.timer - DEBUG - Took 0.006s to close glyph list over 'glyf'\n",
      "2025-07-06 18:39:30,124 - fontTools.subset - INFO - Retaining 69 glyphs\n",
      "2025-07-06 18:39:30,127 - fontTools.subset - INFO - head subsetting not needed\n",
      "2025-07-06 18:39:30,128 - fontTools.subset - INFO - hhea subsetting not needed\n",
      "2025-07-06 18:39:30,129 - fontTools.subset - INFO - maxp subsetting not needed\n",
      "2025-07-06 18:39:30,130 - fontTools.subset - INFO - OS/2 subsetting not needed\n",
      "2025-07-06 18:39:30,131 - fontTools.ttLib.ttFont - DEBUG - Reading 'hmtx' table from disk\n",
      "2025-07-06 18:39:30,132 - fontTools.ttLib.ttFont - DEBUG - Decompiling 'hmtx' table\n",
      "2025-07-06 18:39:30,133 - fontTools.ttLib.ttFont - DEBUG - Reading 'hhea' table from disk\n",
      "2025-07-06 18:39:30,134 - fontTools.ttLib.ttFont - DEBUG - Decompiling 'hhea' table\n",
      "2025-07-06 18:39:30,141 - fontTools.subset.timer - DEBUG - Took 0.010s to subset 'hmtx'\n",
      "2025-07-06 18:39:30,142 - fontTools.subset - INFO - hmtx subsetted\n",
      "2025-07-06 18:39:30,147 - fontTools.subset.timer - DEBUG - Took 0.004s to subset 'cmap'\n",
      "2025-07-06 18:39:30,148 - fontTools.subset - INFO - cmap subsetted\n",
      "2025-07-06 18:39:30,150 - fontTools.subset - INFO - loca subsetting not needed\n",
      "2025-07-06 18:39:30,156 - fontTools.subset.timer - DEBUG - Took 0.000s to subset 'post'\n",
      "2025-07-06 18:39:30,157 - fontTools.subset - INFO - post subsetted\n",
      "2025-07-06 18:39:30,158 - fontTools.subset - INFO - gasp subsetting not needed\n",
      "2025-07-06 18:39:30,159 - fontTools.subset - INFO - FFTM NOT subset; don't know how to subset\n",
      "2025-07-06 18:39:30,161 - fontTools.subset.timer - DEBUG - Took 0.000s to subset 'MATH'\n",
      "2025-07-06 18:39:30,162 - fontTools.subset - INFO - MATH subsetted\n",
      "2025-07-06 18:39:30,163 - fontTools.ttLib.ttFont - DEBUG - Reading 'GDEF' table from disk\n",
      "2025-07-06 18:39:30,164 - fontTools.ttLib.ttFont - DEBUG - Decompiling 'GDEF' table\n",
      "2025-07-06 18:39:30,169 - fontTools.subset.timer - DEBUG - Took 0.006s to subset 'GDEF'\n",
      "2025-07-06 18:39:30,170 - fontTools.subset - INFO - GDEF subsetted\n",
      "2025-07-06 18:39:30,171 - fontTools.subset - INFO - name subsetting not needed\n",
      "2025-07-06 18:39:30,179 - fontTools.subset.timer - DEBUG - Took 0.007s to subset 'glyf'\n",
      "2025-07-06 18:39:30,180 - fontTools.subset - INFO - glyf subsetted\n",
      "2025-07-06 18:39:30,181 - fontTools.subset.timer - DEBUG - Took 0.000s to subset GlyphOrder\n",
      "2025-07-06 18:39:30,182 - fontTools.subset.timer - DEBUG - Took 0.000s to prune 'head'\n",
      "2025-07-06 18:39:30,183 - fontTools.subset - INFO - head pruned\n",
      "2025-07-06 18:39:30,184 - fontTools.ttLib.ttFont - DEBUG - Reading 'OS/2' table from disk\n",
      "2025-07-06 18:39:30,185 - fontTools.ttLib.ttFont - DEBUG - Decompiling 'OS/2' table\n",
      "2025-07-06 18:39:30,186 - fontTools.subset - INFO - OS/2 Unicode ranges pruned: [0, 31, 62]\n",
      "2025-07-06 18:39:30,187 - fontTools.subset - INFO - OS/2 CodePage ranges pruned: [0]\n",
      "2025-07-06 18:39:30,191 - fontTools.subset.timer - DEBUG - Took 0.003s to prune 'glyf'\n",
      "2025-07-06 18:39:30,192 - fontTools.subset - INFO - glyf pruned\n",
      "2025-07-06 18:39:30,193 - fontTools.subset.timer - DEBUG - Took 0.000s to prune 'GDEF'\n",
      "2025-07-06 18:39:30,194 - fontTools.subset - INFO - GDEF pruned\n",
      "2025-07-06 18:39:30,195 - fontTools.ttLib.ttFont - DEBUG - Reading 'name' table from disk\n",
      "2025-07-06 18:39:30,195 - fontTools.ttLib.ttFont - DEBUG - Decompiling 'name' table\n",
      "2025-07-06 18:39:30,197 - fontTools.ttLib.ttFont - DEBUG - Reading 'gasp' table from disk\n",
      "2025-07-06 18:39:30,198 - fontTools.ttLib.ttFont - DEBUG - Decompiling 'gasp' table\n",
      "2025-07-06 18:39:30,199 - fontTools.ttLib.ttFont - DEBUG - Reading 'FFTM' table from disk\n",
      "2025-07-06 18:39:30,200 - fontTools.ttLib.ttFont - DEBUG - Decompiling 'FFTM' table\n",
      "2025-07-06 18:39:30,201 - fontTools.subset.timer - DEBUG - Took 0.007s to prune 'name'\n",
      "2025-07-06 18:39:30,203 - fontTools.subset - INFO - name pruned\n"
     ]
    }
   ],
   "source": [
    "convert_html_to_pdf(\n",
    "    f\"../../client_report_sample_hyatt_interactive_{today_date}.html\",\n",
    "    f\"../../client_report_sample_hyatt_interactive_{today_date}.pdf\",\n",
    ")"
   ]
  },
  {
   "cell_type": "code",
   "execution_count": null,
   "id": "dd0ccc7a-1c4b-453f-ae69-8402cba095b4",
   "metadata": {},
   "outputs": [],
   "source": []
  },
  {
   "cell_type": "markdown",
   "id": "9dcf34f2-e5e4-4700-80a8-94d96085cdd6",
   "metadata": {},
   "source": [
    "# Pull of emails from test client "
   ]
  },
  {
   "cell_type": "code",
   "execution_count": null,
   "id": "039a4846-c3c7-4a8a-a983-12e33c4f4c36",
   "metadata": {},
   "outputs": [],
   "source": [
    "from google.cloud import secretmanager\n",
    "import pandas as pd\n",
    "import numpy as np\n",
    "from currensee.utils.db_utils import create_pg_engine\n",
    "from sqlalchemy import text\n",
    "\n",
    "pd.set_option(\"display.max_colwidth\", None)"
   ]
  },
  {
   "cell_type": "code",
   "execution_count": null,
   "id": "ab85e5ad-75d7-44f1-b124-8f7107b134ed",
   "metadata": {},
   "outputs": [],
   "source": [
    "# Define DB_NAME\n",
    "DB_NAME = \"crm_outlook\""
   ]
  },
  {
   "cell_type": "code",
   "execution_count": null,
   "id": "f66eb336-89b3-4aed-940c-63d2a653fc60",
   "metadata": {},
   "outputs": [],
   "source": [
    "engine = create_pg_engine(db_name=DB_NAME)"
   ]
  },
  {
   "cell_type": "code",
   "execution_count": null,
   "id": "385d79b7-b132-49b4-9fa0-54c3abbd7d25",
   "metadata": {},
   "outputs": [],
   "source": [
    "df_result = pd.read_sql(\n",
    "    \"SELECT * FROM meeting_data where invitee_emails = 'timothy.ochoa@hyatthotels.com' order by meeting_timestamp desc \",\n",
    "    con=engine,\n",
    ")\n",
    "df_result"
   ]
  },
  {
   "cell_type": "code",
   "execution_count": null,
   "id": "73e4ed3f-51a2-4996-90eb-b4ecec75030e",
   "metadata": {},
   "outputs": [],
   "source": [
    "df_result = pd.read_sql(\n",
    "    \"SELECT * FROM meeting_data where invitee_emails = 'jennifer.phelps@aerovironment.com' \",\n",
    "    con=engine,\n",
    ")\n",
    "df_result"
   ]
  },
  {
   "cell_type": "code",
   "execution_count": null,
   "id": "6b38f32c-d8ea-467f-9402-d47e45ad5b62",
   "metadata": {},
   "outputs": [],
   "source": [
    "df_result = pd.read_sql(\n",
    "    \"SELECT * FROM meeting_data where invitee_emails = 'jessica.palmer@hasbro.com'\",\n",
    "    con=engine,\n",
    ")\n",
    "df_result.head(20)"
   ]
  },
  {
   "cell_type": "code",
   "execution_count": null,
   "id": "24fe9258-0806-40ab-a242-07252fd671e7",
   "metadata": {},
   "outputs": [],
   "source": [
    "df_result = pd.read_sql(\n",
    "    \"SELECT * FROM email_data where (to_emails = 'jessica.palmer@hasbro.com' or from_email = 'jessica.palmer@hasbro.com' ) order by email_timestamp desc \",\n",
    "    con=engine,\n",
    ")\n",
    "df_result.head(3)"
   ]
  },
  {
   "cell_type": "code",
   "execution_count": null,
   "id": "d401d62c-1b65-4266-a6a1-3bcebeae5f71",
   "metadata": {},
   "outputs": [],
   "source": [
    "df_result = pd.read_sql(\n",
    "    \"SELECT * FROM email_data where to_emails = 'adam.clay@compass.com' order by email_timestamp desc \",\n",
    "    con=engine,\n",
    ")\n",
    "df_result"
   ]
  },
  {
   "cell_type": "code",
   "execution_count": null,
   "id": "00e3f127-6359-4da8-b4ec-d3a0deb23943",
   "metadata": {},
   "outputs": [],
   "source": [
    "df_result = pd.read_sql(\n",
    "    \"SELECT count(*) FROM email_data where to_emails = 'adam.clay@compass.com' \",\n",
    "    con=engine,\n",
    ")\n",
    "print(df_result)"
   ]
  },
  {
   "cell_type": "code",
   "execution_count": null,
   "id": "b3a873e1-fa8c-4ba7-b54d-cd5b853c0ac6",
   "metadata": {},
   "outputs": [],
   "source": [
    "df_result = pd.read_sql(\n",
    "    \"SELECT * FROM meeting_data order by meeting_timestamp desc limit 10 \", con=engine\n",
    ")\n",
    "df_result"
   ]
  },
  {
   "cell_type": "code",
   "execution_count": null,
   "id": "1bf13470-7e0c-484f-93ad-c18d21410ba7",
   "metadata": {},
   "outputs": [],
   "source": [
    "df_result = pd.read_sql(\n",
    "    \"SELECT * FROM email_data where (to_emails = 'timothy.ochoa@hyatthotels.com' or from_email = 'timothy.ochoa@hyatthotels.com' ) order by email_timestamp desc \",\n",
    "    con=engine,\n",
    ")\n",
    "df_result.head(10)"
   ]
  },
  {
   "cell_type": "code",
   "execution_count": null,
   "id": "0510d0e6-71b9-49a3-b9fc-cdd9b744fcd6",
   "metadata": {},
   "outputs": [],
   "source": []
  },
  {
   "cell_type": "code",
   "execution_count": null,
   "id": "8993e16a-cd72-48d4-a462-396575262c4a",
   "metadata": {},
   "outputs": [],
   "source": []
  }
 ],
 "metadata": {
  "environment": {
   "kernel": "gf_currensee",
   "name": "workbench-notebooks.m129",
   "type": "gcloud",
   "uri": "us-docker.pkg.dev/deeplearning-platform-release/gcr.io/workbench-notebooks:m129"
  },
  "kernelspec": {
   "display_name": "gf_currensee",
   "language": "python",
   "name": "gf_currensee"
  },
  "language_info": {
   "codemirror_mode": {
    "name": "ipython",
    "version": 3
   },
   "file_extension": ".py",
   "mimetype": "text/x-python",
   "name": "python",
   "nbconvert_exporter": "python",
   "pygments_lexer": "ipython3",
   "version": "3.11.12"
  }
 },
 "nbformat": 4,
 "nbformat_minor": 5
}
