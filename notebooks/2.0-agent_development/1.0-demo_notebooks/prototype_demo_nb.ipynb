{
 "cells": [
  {
   "cell_type": "code",
   "execution_count": 1,
   "id": "c57516d8-1607-4573-bcdd-c78af6861c7e",
   "metadata": {},
   "outputs": [
    {
     "name": "stderr",
     "output_type": "stream",
     "text": [
      "2025-07-06 00:05:19,076 - currensee.core.secrets - INFO - PROJECT_ID not found, attempting to load from .env file\n",
      "2025-07-06 00:05:19,081 - currensee.core.secrets - INFO - Loaded environment from ./.env\n",
      "2025-07-06 00:05:19,082 - currensee.core.secrets - INFO - SecretManager initialized with project_id: adsp-34002-on02-sopho-scribe\n"
     ]
    }
   ],
   "source": [
    "from currensee.agents.complete_graph import compiled_graph\n",
    "from currensee.agents.tools.finance_tools import generate_macro_table\n",
    "from currensee.utils.output_utils import (\n",
    "    generate_long_report,\n",
    "    format_news_summary_to_html,\n",
    "    format_paragraph_summary_to_html,\n",
    "    save_html_to_file,\n",
    "    generate_short_report,\n",
    "    convert_html_to_pdf,\n",
    "    generate_med_report,\n",
    ")\n",
    "import warnings\n",
    "import joblib\n",
    "\n",
    "warnings.filterwarnings(\"ignore\")"
   ]
  },
  {
   "cell_type": "code",
   "execution_count": 2,
   "id": "78af48b6-83cb-457b-b0df-8740a807829d",
   "metadata": {},
   "outputs": [
    {
     "name": "stdout",
     "output_type": "stream",
     "text": [
      "20250706\n"
     ]
    }
   ],
   "source": [
    "from datetime import date\n",
    "\n",
    "today = date.today()\n",
    "today_date = today.strftime(\"%Y%m%d\")\n",
    "print(today_date)"
   ]
  },
  {
   "cell_type": "markdown",
   "id": "0382d110-7666-4cf9-8664-a6ec2799f35e",
   "metadata": {},
   "source": [
    "## Define Initial State\n",
    "\n",
    "This is data that we should be retrieving from each meeting invite.\n",
    "\n",
    "**DO NOT** change this data until the CRM DB has been updated"
   ]
  },
  {
   "cell_type": "code",
   "execution_count": 3,
   "id": "dcc4c7df-7a99-4862-b4ff-e84ed8dfc48c",
   "metadata": {},
   "outputs": [
    {
     "name": "stdout",
     "output_type": "stream",
     "text": [
      "\n",
      "===============================\n",
      "Generating report with the following preferences: \n",
      " Finance Detail: full \n",
      " News Detail: none \n",
      " Macro News Detail: full\n",
      " Past Meeting Detail: full\n",
      "===============================\n",
      "\n",
      "Client Communications Summary:  **Compass - Annual Credit Facility Review Meeting: Briefing Document**\n",
      "\n",
      "**1. Past Email Summary**\n",
      "\n",
      "This meeting concerns the annual review of Compass's $25 million revolving credit facility.  Bankwell Financial initiated contact with Compass regarding their need for expansion capital.  Following initial discussions, an indicative term sheet was provided, subsequently approved by Compass.  The definitive loan agreement was finalized, and the facility was successfully closed and funded. Post-closing, Bankwell Financial confirmed that Compass found the drawdown and reporting processes satisfactory.\n",
      "\n",
      "\n",
      "**2. Recent Email Topics**\n",
      "\n",
      "* Compass reported positive experiences with the credit facility, noting straightforward drawdowns and clear reporting processes.\n",
      "* Bankwell Financial confirmed the official closing and funding of the $25 million revolving credit facility.\n",
      "* Bankwell Financial reiterated its commitment to providing ongoing support and assistance to Compass regarding the facility's usage.\n",
      "\n",
      "\n",
      "**3. Recent Client Questions**\n",
      "\n",
      "1. Are you finding the process for drawdowns and reporting satisfactory?\n",
      "Financial Holdings News Summary:  Adam Clay's portfolio shows a strong presence in technology and materials sectors.  Taiwan Semiconductor Manufacturing (TSM) is performing exceptionally well, with revenue up 29% and earnings up 54% year-over-year, driven by AI demand.<sup><a href=\"https://finance.yahoo.com/news/boosted-taiwan-semiconductor-manufacturing-company-134212516.html\" target=\"_blank\" title=\"Open Source\" style=\"text-decoration:none; font-size:0.6em; color:inherit; margin-left:0.5px;\">🔗</a></sup><sup><a href=\"https://finance.yahoo.com/news/silent-giant-tsmc-returns-peak-230300515.html\" target=\"_blank\" title=\"Open Source\" style=\"text-decoration:none; font-size:0.6em; color:inherit; margin-left:0.5px;\">🔗</a></sup>  CRH PLC, a building materials company, also exhibits positive performance, highlighted by a 6% annualized dividend increase and significant insider buying.<sup><a href=\"https://finance.yahoo.com/news/crh-plc-crh-fy-2024-070834093.html\" target=\"_blank\" title=\"Open Source\" style=\"text-decoration:none; font-size:0.6em; color:inherit; margin-left:0.5px;\">🔗</a></sup><sup><a href=\"https://finance.yahoo.com/news/insider-stock-buying-reaches-us-110021905.html\" target=\"_blank\" title=\"Open Source\" style=\"text-decoration:none; font-size:0.6em; color:inherit; margin-left:0.5px;\">🔗</a></sup><sup><a href=\"https://finance.yahoo.com/news/insider-stock-buying-reaches-us-120015571.html\" target=\"_blank\" title=\"Open Source\" style=\"text-decoration:none; font-size:0.6em; color:inherit; margin-left:0.5px;\">🔗</a></sup>  ASML Holding NV, a semiconductor equipment manufacturer, shows strong sales (€9.3B) and margins (51.7%), although its stock price has experienced volatility.<sup><a href=\"https://finance.yahoo.com/news/asml-asml-smashes-estimates-9-134207879.html\" target=\"_blank\" title=\"Open Source\" style=\"text-decoration:none; font-size:0.6em; color:inherit; margin-left:0.5px;\">🔗</a></sup>  While information on Samsung Electronics' recent performance is limited,  past investments and a recent share buyback plan suggest a commitment to growth.  SAP SE, although experiencing some market cap fluctuations, shows positive analyst sentiment related to its cloud services transition.<sup><a href=\"https://finance.yahoo.com/news/top-analyst-reports-unitedhealth-sap-211600590.html\" target=\"_blank\" title=\"Open Source\" style=\"text-decoration:none; font-size:0.6em; color:inherit; margin-left:0.5px;\">🔗</a></sup><sup><a href=\"https://finance.yahoo.com/news/top-stock-reports-netflix-sap-210200037.html\" target=\"_blank\" title=\"Open Source\" style=\"text-decoration:none; font-size:0.6em; color:inherit; margin-left:0.5px;\">🔗</a></sup><sup><a href=\"https://finance.yahoo.com/news/solid-cloud-adoption-disciplined-execution-142435729.html\" target=\"_blank\" title=\"Open Source\" style=\"text-decoration:none; font-size:0.6em; color:inherit; margin-left:0.5px;\">🔗</a></sup> The broader economic climate presents a mixed picture; while some indicators like retail sales are strong, uncertainty remains regarding the overall economic health, with recession probabilities fluctuating.<sup><a href=\"https://www.reuters.com/markets/wealth/muddied-gdp-report-leaves-investors-with-little-clarity-about-economic-risk-2025-04-30/\" target=\"_blank\" title=\"Open Source\" style=\"text-decoration:none; font-size:0.6em; color:inherit; margin-left:0.5px;\">🔗</a></sup><sup><a href=\"https://finance.yahoo.com/news/the-confusing-state-of-the-economy-150642408.html\" target=\"_blank\" title=\"Open Source\" style=\"text-decoration:none; font-size:0.6em; color:inherit; margin-left:0.5px;\">🔗</a></sup><sup><a href=\"https://finance.yahoo.com/news/perceived-odds-u-s-recession-66-211000283.html\" target=\"_blank\" title=\"Open Source\" style=\"text-decoration:none; font-size:0.6em; color:inherit; margin-left:0.5px;\">🔗</a></sup>  This uncertainty, coupled with ongoing trade tensions, adds a layer of complexity to the overall investment landscape.<sup><a href=\"https://www.reuters.com/markets/wealth/muddied-gdp-report-leaves-investors-with-little-clarity-about-economic-risk-2025-04-30/\" target=\"_blank\" title=\"Open Source\" style=\"text-decoration:none; font-size:0.6em; color:inherit; margin-left:0.5px;\">🔗</a></sup>\n",
      "Client Company News Summary:  Please provide me with a question or task. I need some information to be able to help you.\n"
     ]
    }
   ],
   "source": [
    "init_state = {\n",
    "    \"user_email\" : \"jane.moneypenny1@bankwell.com\",\n",
    "    \"client_name\": \"Adam Clay\",\n",
    "    \"client_email\": \"adam.clay@compass.com\",\n",
    "    \"meeting_timestamp\": \"2024-03-26 11:00:00\",\n",
    "    \"meeting_description\": \"Compass - Annual Credit Facility Review Meeting\",\n",
    "}\n",
    "\n",
    "result = compiled_graph.invoke(init_state)\n",
    "summary_client_comms = result[\"summary_client_comms\"]\n",
    "fin_hold_summary_sourced= result[\"fin_hold_summary_sourced\"]\n",
    "client_news_summary_sourced= result[\"client_news_summary_sourced\"]\n",
    "# full_report = summary + \"\\n\\n### Macro Financial Snapshot\\n\\n\" + macro_table\n",
    "print(\"Client Communications Summary: \", summary_client_comms)\n",
    "print(\"Financial Holdings News Summary: \", fin_hold_summary_sourced)\n",
    "print(\"Client Company News Summary: \", client_news_summary_sourced)"
   ]
  },
  {
   "cell_type": "code",
   "execution_count": null,
   "id": "de8451de-eb24-4cc5-8e7c-8e9fed71ce2d",
   "metadata": {},
   "outputs": [],
   "source": [
    "result = compiled_graph.invoke(init_state)\n",
    "client_report = generate_long_report(result)\n",
    "save_html_to_file(\n",
    "    client_report,\n",
    "    f\"../../generated_reports/client_report_sample_compass_long_{today_date}.html\",\n",
    ")"
   ]
  },
  {
   "cell_type": "code",
   "execution_count": null,
   "id": "56825b13-d090-4a18-9882-a0a53ac50df6",
   "metadata": {},
   "outputs": [],
   "source": [
    "init_state = {\n",
    "    \"client_name\": \"Adam Clay\",\n",
    "    \"client_email\": \"adam.clay@compass.com\",\n",
    "    \"meeting_timestamp\": \"2024-03-26 11:00:00\",\n",
    "    \"meeting_description\": \"Compass - Annual Credit Facility Review Meeting\",\n",
    "    \"report_length\": \"short\",\n",
    "}\n",
    "\n",
    "result = compiled_graph.invoke(init_state)\n",
    "summary = result[\"final_summary_sourced\"]\n",
    "full_report = summary\n",
    "# full_report = summary + \"\\n\\n### Macro Financial Snapshot\\n\\n\" + macro_table\n",
    "print(full_report)"
   ]
  },
  {
   "cell_type": "code",
   "execution_count": null,
   "id": "5d2abce1-cb20-4bb8-ab68-47dac853eb53",
   "metadata": {},
   "outputs": [],
   "source": [
    "result = compiled_graph.invoke(init_state)\n",
    "client_report = generate_short_report(result)\n",
    "save_html_to_file(\n",
    "    client_report,\n",
    "    f\"../../generated_reports/client_report_sample_compass_short_{today_date}.html\",\n",
    ")"
   ]
  },
  {
   "cell_type": "code",
   "execution_count": null,
   "id": "51bc9949-f9a5-4f94-a566-dd8b992126dd",
   "metadata": {},
   "outputs": [],
   "source": [
    "init_state = {\n",
    "    \"client_name\": \"Adam Clay\",\n",
    "    \"client_email\": \"adam.clay@compass.com\",\n",
    "    \"meeting_timestamp\": \"2024-03-26 11:00:00\",\n",
    "    \"meeting_description\": \"Compass - Annual Credit Facility Review Meeting\",\n",
    "    \"report_length\": \"medium\",\n",
    "}\n",
    "\n",
    "result = compiled_graph.invoke(init_state)\n",
    "summary = result[\"final_summary_sourced\"]\n",
    "full_report = summary\n",
    "# full_report = summary + \"\\n\\n### Macro Financial Snapshot\\n\\n\" + macro_table\n",
    "print(full_report)"
   ]
  },
  {
   "cell_type": "code",
   "execution_count": null,
   "id": "497cce40-bc80-4a08-8d00-85955e153d54",
   "metadata": {},
   "outputs": [],
   "source": [
    "client_report = generate_med_report(result)\n",
    "save_html_to_file(\n",
    "    client_report,\n",
    "    f\"../../generated_reports/client_report_sample_compass_interactive_{today_date}.html\",\n",
    ")"
   ]
  },
  {
   "cell_type": "markdown",
   "id": "d2a31211-9712-4897-a4a5-fe74bf55fd2e",
   "metadata": {},
   "source": [
    "# Test case 2"
   ]
  },
  {
   "cell_type": "code",
   "execution_count": null,
   "id": "1503b118-55e2-4578-9798-254baff50823",
   "metadata": {},
   "outputs": [],
   "source": [
    "init_state = {\n",
    "    \"client_name\": \"Jennifer Phelps\",\n",
    "    \"client_email\": \"jennifer.phelps@aerovironment.com\",\n",
    "    \"meeting_timestamp\": \"2018-07-24 14:00:00\",\n",
    "    \"meeting_description\": \"AeroVironment - Initial Discussion on Financial Needs\",\n",
    "    \"report_length\": \"medium\",\n",
    "}\n",
    "result = compiled_graph.invoke(init_state)\n",
    "summary = result[\"final_summary_sourced\"]\n",
    "full_report = summary\n",
    "# full_report = summary + \"\\n\\n### Macro Financial Snapshot\\n\\n\" + macro_table\n",
    "print(full_report)\n",
    "client_report = generate_med_report(result)\n",
    "save_html_to_file(\n",
    "    client_report,\n",
    "    f\"../../generated_reports/client_report_sample_aeroenv_interactive_{today_date}.html\",\n",
    ")"
   ]
  },
  {
   "cell_type": "markdown",
   "id": "a33b701c-3483-46e3-8f06-dce8aff5a59f",
   "metadata": {},
   "source": [
    "# Test Case 3"
   ]
  },
  {
   "cell_type": "code",
   "execution_count": null,
   "id": "47db3bf1-0db3-43d7-b5bb-df051f3f04b4",
   "metadata": {},
   "outputs": [],
   "source": [
    "init_state = {\n",
    "    \"client_name\": \"Jessica Palmer\",\n",
    "    \"client_email\": \"jessica.palmer@hasbro.com\",\n",
    "    \"meeting_timestamp\": \"2024-02-04 14:30:00\",\n",
    "    \"meeting_description\": \"Hasbro - Discuss Portfolio Diversification and Bond Strategy\",\n",
    "    \"report_length\": \"short\",  # 'short' , 'medium' , 'long' (default)\n",
    "}\n",
    "result = compiled_graph.invoke(init_state)\n",
    "summary = result[\"final_summary\"]\n",
    "full_report = summary\n",
    "print(full_report)\n",
    "client_report = generate_short_report(result)\n",
    "save_html_to_file(\n",
    "    client_report,\n",
    "    f\"../../generated_reports/client_report_sample_hasbro_short_{today_date}.html\",\n",
    ")"
   ]
  },
  {
   "cell_type": "markdown",
   "id": "d1ebf080-5957-4b7a-818c-bc7aa505716f",
   "metadata": {},
   "source": [
    "# Test Case 4"
   ]
  },
  {
   "cell_type": "code",
   "execution_count": null,
   "id": "f0ece541-c1b2-4a29-a4c3-5f74229e071c",
   "metadata": {},
   "outputs": [],
   "source": [
    "init_state = {\n",
    "    \"client_name\": \"Jessica Palmer\",\n",
    "    \"client_email\": \"jessica.palmer@hasbro.com\",\n",
    "    \"meeting_timestamp\": \"2024-02-04 14:30:00\",\n",
    "    \"meeting_description\": \"Hasbro - Discuss Portfolio Diversification and Bond Strategy\",\n",
    "    \"report_length\": \"long\",\n",
    "}\n",
    "result = compiled_graph.invoke(init_state)\n",
    "summary = result[\"final_summary\"]\n",
    "full_report = summary\n",
    "print(full_report)\n",
    "client_report = generate_long_report(result)\n",
    "save_html_to_file(\n",
    "    client_report,\n",
    "    f\"../../generated_reports/client_report_sample_hasbro_long_{today_date}.html\",\n",
    ")"
   ]
  },
  {
   "cell_type": "code",
   "execution_count": null,
   "id": "276f6162-dedb-4d6d-b307-2974e5570512",
   "metadata": {},
   "outputs": [],
   "source": [
    "init_state = {\n",
    "    \"client_name\": \"Jessica Palmer\",\n",
    "    \"client_email\": \"jessica.palmer@hasbro.com\",\n",
    "    \"meeting_timestamp\": \"2024-02-04 14:30:00\",\n",
    "    \"meeting_description\": \"Hasbro - Discuss Portfolio Diversification and Bond Strategy\",\n",
    "    \"report_length\": \"medium\",\n",
    "}\n",
    "result = compiled_graph.invoke(init_state)\n",
    "summary = result[\"final_summary\"]\n",
    "full_report = summary\n",
    "print(full_report)\n",
    "client_report = generate_med_report(result)\n",
    "save_html_to_file(\n",
    "    client_report,\n",
    "    f\"../../generated_reports/client_report_sample_hasbro_interactive_{today_date}.html\",\n",
    ")"
   ]
  },
  {
   "cell_type": "markdown",
   "id": "70a647ae-d08c-4d19-af45-76cf57b20883",
   "metadata": {},
   "source": [
    "# Test Case 5"
   ]
  },
  {
   "cell_type": "code",
   "execution_count": null,
   "id": "54542167-5bee-48d3-93ea-bcc467f4eef4",
   "metadata": {},
   "outputs": [],
   "source": [
    "init_state = {\n",
    "    \"client_name\": \"Timothy Ochoa\",\n",
    "    \"client_email\": \"timothy.ochoa@hyatthotels.com\",\n",
    "    \"meeting_timestamp\": \"2024-02-27 10:00:00\",\n",
    "    \"meeting_description\": \"Hyatt Hotels - Check Status of 401k Advisory RFI Launch\",\n",
    "    \"report_length\": \"medium\",\n",
    "}\n",
    "result = compiled_graph.invoke(init_state)\n",
    "summary = result[\"final_summary_sourced\"]\n",
    "full_report = summary\n",
    "print(full_report)\n",
    "client_report = generate_med_report(result)\n",
    "save_html_to_file(\n",
    "    client_report,\n",
    "    f\"../../generated_reports/client_report_sample_hyatt_interactive_{today_date}.html\",\n",
    ")"
   ]
  },
  {
   "cell_type": "code",
   "execution_count": null,
   "id": "dced1808-e943-4a23-9016-b03f9eec23d5",
   "metadata": {},
   "outputs": [],
   "source": [
    "convert_html_to_pdf(\n",
    "    f\"../../generated_reports/client_report_sample_hyatt_interactive_{today_date}.html\",\n",
    "    f\"../../generated_reports/client_report_sample_hyatt_interactive_{today_date}.pdf\",\n",
    ")"
   ]
  },
  {
   "cell_type": "code",
   "execution_count": null,
   "id": "dd0ccc7a-1c4b-453f-ae69-8402cba095b4",
   "metadata": {},
   "outputs": [],
   "source": []
  },
  {
   "cell_type": "markdown",
   "id": "9dcf34f2-e5e4-4700-80a8-94d96085cdd6",
   "metadata": {},
   "source": [
    "# Pull of emails from test client "
   ]
  },
  {
   "cell_type": "code",
   "execution_count": null,
   "id": "039a4846-c3c7-4a8a-a983-12e33c4f4c36",
   "metadata": {},
   "outputs": [],
   "source": [
    "from google.cloud import secretmanager\n",
    "import pandas as pd\n",
    "import numpy as np\n",
    "from currensee.utils.db_utils import create_pg_engine\n",
    "from sqlalchemy import text\n",
    "\n",
    "pd.set_option(\"display.max_colwidth\", None)"
   ]
  },
  {
   "cell_type": "code",
   "execution_count": null,
   "id": "ab85e5ad-75d7-44f1-b124-8f7107b134ed",
   "metadata": {},
   "outputs": [],
   "source": [
    "# Define DB_NAME\n",
    "DB_NAME = \"crm_outlook\""
   ]
  },
  {
   "cell_type": "code",
   "execution_count": null,
   "id": "f66eb336-89b3-4aed-940c-63d2a653fc60",
   "metadata": {},
   "outputs": [],
   "source": [
    "engine = create_pg_engine(db_name=DB_NAME)"
   ]
  },
  {
   "cell_type": "code",
   "execution_count": null,
   "id": "385d79b7-b132-49b4-9fa0-54c3abbd7d25",
   "metadata": {},
   "outputs": [],
   "source": [
    "df_result = pd.read_sql(\n",
    "    \"SELECT * FROM meeting_data where invitee_emails = 'timothy.ochoa@hyatthotels.com' order by meeting_timestamp desc \",\n",
    "    con=engine,\n",
    ")\n",
    "df_result"
   ]
  },
  {
   "cell_type": "code",
   "execution_count": null,
   "id": "73e4ed3f-51a2-4996-90eb-b4ecec75030e",
   "metadata": {},
   "outputs": [],
   "source": [
    "df_result = pd.read_sql(\n",
    "    \"SELECT * FROM meeting_data where invitee_emails = 'jennifer.phelps@aerovironment.com' \",\n",
    "    con=engine,\n",
    ")\n",
    "df_result"
   ]
  },
  {
   "cell_type": "code",
   "execution_count": null,
   "id": "6b38f32c-d8ea-467f-9402-d47e45ad5b62",
   "metadata": {},
   "outputs": [],
   "source": [
    "df_result = pd.read_sql(\n",
    "    \"SELECT * FROM meeting_data where invitee_emails = 'jessica.palmer@hasbro.com'\",\n",
    "    con=engine,\n",
    ")\n",
    "df_result.head(20)"
   ]
  },
  {
   "cell_type": "code",
   "execution_count": null,
   "id": "24fe9258-0806-40ab-a242-07252fd671e7",
   "metadata": {},
   "outputs": [],
   "source": [
    "df_result = pd.read_sql(\n",
    "    \"SELECT * FROM email_data where (to_emails = 'jessica.palmer@hasbro.com' or from_email = 'jessica.palmer@hasbro.com' ) order by email_timestamp desc \",\n",
    "    con=engine,\n",
    ")\n",
    "df_result.head(3)"
   ]
  },
  {
   "cell_type": "code",
   "execution_count": null,
   "id": "d401d62c-1b65-4266-a6a1-3bcebeae5f71",
   "metadata": {},
   "outputs": [],
   "source": [
    "df_result = pd.read_sql(\n",
    "    \"SELECT * FROM email_data where to_emails = 'adam.clay@compass.com' order by email_timestamp desc \",\n",
    "    con=engine,\n",
    ")\n",
    "df_result"
   ]
  },
  {
   "cell_type": "code",
   "execution_count": null,
   "id": "00e3f127-6359-4da8-b4ec-d3a0deb23943",
   "metadata": {},
   "outputs": [],
   "source": [
    "df_result = pd.read_sql(\n",
    "    \"SELECT count(*) FROM email_data where to_emails = 'adam.clay@compass.com' \",\n",
    "    con=engine,\n",
    ")\n",
    "print(df_result)"
   ]
  },
  {
   "cell_type": "code",
   "execution_count": null,
   "id": "b3a873e1-fa8c-4ba7-b54d-cd5b853c0ac6",
   "metadata": {},
   "outputs": [],
   "source": [
    "df_result = pd.read_sql(\n",
    "    \"SELECT * FROM meeting_data order by meeting_timestamp desc limit 10 \", con=engine\n",
    ")\n",
    "df_result"
   ]
  },
  {
   "cell_type": "code",
   "execution_count": null,
   "id": "1bf13470-7e0c-484f-93ad-c18d21410ba7",
   "metadata": {},
   "outputs": [],
   "source": [
    "df_result = pd.read_sql(\n",
    "    \"SELECT * FROM email_data where (to_emails = 'timothy.ochoa@hyatthotels.com' or from_email = 'timothy.ochoa@hyatthotels.com' ) order by email_timestamp desc \",\n",
    "    con=engine,\n",
    ")\n",
    "df_result.head(10)"
   ]
  },
  {
   "cell_type": "code",
   "execution_count": null,
   "id": "0510d0e6-71b9-49a3-b9fc-cdd9b744fcd6",
   "metadata": {},
   "outputs": [],
   "source": []
  },
  {
   "cell_type": "code",
   "execution_count": null,
   "id": "8993e16a-cd72-48d4-a462-396575262c4a",
   "metadata": {},
   "outputs": [],
   "source": []
  }
 ],
 "metadata": {
  "environment": {
   "kernel": "lc_currensee",
   "name": "workbench-notebooks.m129",
   "type": "gcloud",
   "uri": "us-docker.pkg.dev/deeplearning-platform-release/gcr.io/workbench-notebooks:m129"
  },
  "kernelspec": {
   "display_name": "lc_currensee",
   "language": "python",
   "name": "lc_currensee"
  },
  "language_info": {
   "codemirror_mode": {
    "name": "ipython",
    "version": 3
   },
   "file_extension": ".py",
   "mimetype": "text/x-python",
   "name": "python",
   "nbconvert_exporter": "python",
   "pygments_lexer": "ipython3",
   "version": "3.11.12"
  }
 },
 "nbformat": 4,
 "nbformat_minor": 5
}
