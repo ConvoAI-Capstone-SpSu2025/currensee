{
 "cells": [
  {
   "cell_type": "code",
   "execution_count": 1,
   "id": "c57516d8-1607-4573-bcdd-c78af6861c7e",
   "metadata": {},
   "outputs": [
    {
     "name": "stderr",
     "output_type": "stream",
     "text": [
      "2025-07-10 02:14:49,739 - currensee.core.secrets - INFO - PROJECT_ID not found, attempting to load from .env file\n",
      "2025-07-10 02:14:49,743 - currensee.core.secrets - INFO - Loaded environment from ./.env\n",
      "2025-07-10 02:14:49,745 - currensee.core.secrets - INFO - SecretManager initialized with project_id: adsp-34002-on02-sopho-scribe\n"
     ]
    }
   ],
   "source": [
    "from currensee.agents.complete_graph import compiled_graph\n",
    "from currensee.agents.tools.finance_tools import generate_macro_table\n",
    "from currensee.utils.output_utils import (\n",
    "    generate_long_report,\n",
    "    format_news_summary_to_html,\n",
    "    format_paragraph_summary_to_html,\n",
    "    save_html_to_file,\n",
    "    generate_short_report,\n",
    "    convert_html_to_pdf,\n",
    "    generate_med_report,\n",
    ")\n",
    "import warnings\n",
    "import joblib\n",
    "\n",
    "warnings.filterwarnings(\"ignore\")"
   ]
  },
  {
   "cell_type": "code",
   "execution_count": 2,
   "id": "78af48b6-83cb-457b-b0df-8740a807829d",
   "metadata": {},
   "outputs": [
    {
     "name": "stdout",
     "output_type": "stream",
     "text": [
      "20250710\n"
     ]
    }
   ],
   "source": [
    "from datetime import date\n",
    "\n",
    "today = date.today()\n",
    "today_date = today.strftime(\"%Y%m%d\")\n",
    "print(today_date)"
   ]
  },
  {
   "cell_type": "markdown",
   "id": "0382d110-7666-4cf9-8664-a6ec2799f35e",
   "metadata": {},
   "source": [
    "## Test Case 1 - Compass"
   ]
  },
  {
   "cell_type": "code",
   "execution_count": null,
   "id": "dcc4c7df-7a99-4862-b4ff-e84ed8dfc48c",
   "metadata": {},
   "outputs": [
    {
     "name": "stdout",
     "output_type": "stream",
     "text": [
      "\n",
      "===============================\n",
      "Generating report with the following preferences: \n",
      " Finance Detail: full \n",
      " News Detail: none \n",
      " Macro News Detail: full\n",
      " Past Meeting Detail: full\n",
      "===============================\n",
      "\n"
     ]
    }
   ],
   "source": [
    "init_state = {\n",
    "    \"user_email\" : \"jane.moneypenny@bankwell.com\",\n",
    "    \"client_name\": \"Adam Clay\",\n",
    "    \"client_email\": \"adam.clay@compass.com\",\n",
    "    \"meeting_timestamp\": \"2024-03-26 11:00:00\",\n",
    "    \"meeting_description\": \"Compass - Annual Credit Facility Review Meeting\",\n",
    "}\n",
    "\n",
    "result = compiled_graph.invoke(init_state)\n",
    "summary_client_comms = result[\"summary_client_comms\"]\n",
    "fin_hold_summary_sourced= result[\"fin_hold_summary_sourced\"]\n",
    "client_news_summary_sourced= result[\"client_news_summary_sourced\"]\n",
    "# full_report = summary + \"\\n\\n### Macro Financial Snapshot\\n\\n\" + macro_table\n",
    "print(\"Client Communications Summary: \", summary_client_comms)\n",
    "print(\"------------------------------------\")\n",
    "print(\"Financial Holdings News Summary: \", fin_hold_summary_sourced)\n",
    "print(\"------------------------------------\")\n",
    "print(\"Client Company News Summary: \", client_news_summary_sourced)"
   ]
  },
  {
   "cell_type": "markdown",
   "id": "a33b701c-3483-46e3-8f06-dce8aff5a59f",
   "metadata": {},
   "source": [
    "## Test Case 2 - Hasbro Portfolio Diversification"
   ]
  },
  {
   "cell_type": "code",
   "execution_count": 6,
   "id": "e164c69f-39e3-4574-bfa1-4c89e94c9ee1",
   "metadata": {},
   "outputs": [
    {
     "name": "stdout",
     "output_type": "stream",
     "text": [
      "\n",
      "===============================\n",
      "Generating report with the following preferences: \n",
      " Finance Detail: short \n",
      " News Detail: full \n",
      " Macro News Detail: none\n",
      " Past Meeting Detail: full\n",
      "===============================\n",
      "\n",
      "Client Communications Summary:  **Hasbro - Portfolio Diversification and Bond Strategy: Meeting Briefing Document**\n",
      "\n",
      "**1. Past Email Summary**\n",
      "\n",
      "Prior correspondence with Jessica Palmer, VP at Hasbro, reveals a history of collaboration focused on foreign exchange (FX) risk management.  Initially, options including forwards and options were presented to hedge Hasbro's EUR and GBP exposures. Hasbro opted for a primarily forward contract strategy for H1 2021 and H1 2022, supplementing with options when advantageous. This strategy yielded positive results.  More recently, following Hasbro divestitures and underperformance in small-cap consumer entertainment stocks,  concerns regarding the impact of inflation on bond holdings and the need for portfolio diversification were raised by Jessica Palmer.  This prompted the scheduling of this meeting.\n",
      "\n",
      "\n",
      "**2. Recent Email Topics**\n",
      "\n",
      "* Hasbro requires further consideration of an unspecified topic.\n",
      "* Diversification of Hasbro's investments was recommended.\n",
      "\n",
      "\n",
      "**3. Recent Client Questions**\n",
      "\n",
      "1.  An unspecific affirmation (\"Yes, this needs further thought.\") indicates an outstanding question requiring clarification during the meeting.\n",
      "------------------------------------\n",
      "Financial Holdings News Summary:  • Walmart Inc.\n",
      "• Amazon.com Inc.\n",
      "• Intel Corp.\n",
      "• Meta Platforms Inc.\n",
      "• Microsoft Corp.\n",
      "------------------------------------\n",
      "Client Company News Summary:  Recent news reveals a mixed picture for Hasbro.<sup><a href=\"https://www.forbes.com/sites/joanverdon/2025/04/24/hasbro-delivers-upside-surprise-says-new-game-plan-is-working/\" target=\"_blank\" title=\"Open Source\" style=\"text-decoration:none; font-size:0.6em; color:inherit; margin-left:0.5px;\">🔗</a></sup><sup><a href=\"https://www.forbes.com/sites/joanverdon/2024/10/24/hasbro-sales-down-15-profits-up-as-turnaround-challenge-continues/\" target=\"_blank\" title=\"Open Source\" style=\"text-decoration:none; font-size:0.6em; color:inherit; margin-left:0.5px;\">🔗</a></sup><sup><a href=\"https://www.reuters.com/business/retail-consumer/hasbro-posts-bigger-than-expected-quarterly-sales-drop-weak-toy-demand-2024-10-24/\" target=\"_blank\" title=\"Open Source\" style=\"text-decoration:none; font-size:0.6em; color:inherit; margin-left:0.5px;\">🔗</a></sup>  While the company's first-quarter 2025 earnings significantly exceeded expectations, driven by strong performance in its Wizards of the Coast segment (digital and tabletop games),<sup><a href=\"https://www.forbes.com/sites/joanverdon/2025/04/24/hasbro-delivers-upside-surprise-says-new-game-plan-is-working/\" target=\"_blank\" title=\"Open Source\" style=\"text-decoration:none; font-size:0.6em; color:inherit; margin-left:0.5px;\">🔗</a></sup><sup><a href=\"https://www.reuters.com/business/retail-consumer/hasbros-quarterly-revenue-beats-digital-gaming-demand-2025-04-24/\" target=\"_blank\" title=\"Open Source\" style=\"text-decoration:none; font-size:0.6em; color:inherit; margin-left:0.5px;\">🔗</a></sup><sup><a href=\"https://finance.yahoo.com/news/hasbro-winning-hand-wizards-bucking-trend-184923779.html\" target=\"_blank\" title=\"Open Source\" style=\"text-decoration:none; font-size:0.6em; color:inherit; margin-left:0.5px;\">🔗</a></sup>  this follows a period of challenges.<sup><a href=\"https://www.forbes.com/sites/joanverdon/2024/10/24/hasbro-sales-down-15-profits-up-as-turnaround-challenge-continues/\" target=\"_blank\" title=\"Open Source\" style=\"text-decoration:none; font-size:0.6em; color:inherit; margin-left:0.5px;\">🔗</a></sup><sup><a href=\"https://www.reuters.com/business/retail-consumer/hasbro-posts-bigger-than-expected-quarterly-sales-drop-weak-toy-demand-2024-10-24/\" target=\"_blank\" title=\"Open Source\" style=\"text-decoration:none; font-size:0.6em; color:inherit; margin-left:0.5px;\">🔗</a></sup>  In Q3 2024, Hasbro reported a 15% decline in sales, although profits increased due to cost-cutting measures.<sup><a href=\"https://www.forbes.com/sites/joanverdon/2024/10/24/hasbro-sales-down-15-profits-up-as-turnaround-challenge-continues/\" target=\"_blank\" title=\"Open Source\" style=\"text-decoration:none; font-size:0.6em; color:inherit; margin-left:0.5px;\">🔗</a></sup><sup><a href=\"https://www.reuters.com/business/retail-consumer/hasbro-posts-bigger-than-expected-quarterly-sales-drop-weak-toy-demand-2024-10-24/\" target=\"_blank\" title=\"Open Source\" style=\"text-decoration:none; font-size:0.6em; color:inherit; margin-left:0.5px;\">🔗</a></sup>  This reflects broader industry trends of subdued toy demand and efforts to manage overstocked inventory.<sup><a href=\"https://www.reuters.com/business/retail-consumer/hasbro-posts-bigger-than-expected-quarterly-sales-drop-weak-toy-demand-2024-10-24/\" target=\"_blank\" title=\"Open Source\" style=\"text-decoration:none; font-size:0.6em; color:inherit; margin-left:0.5px;\">🔗</a></sup><sup><a href=\"https://www.forbes.com/sites/joanverdon/2024/04/24/investors-reward-hasbro-mattel-for-cost-cuts-inventory-reductions/\" target=\"_blank\" title=\"Open Source\" style=\"text-decoration:none; font-size:0.6em; color:inherit; margin-left:0.5px;\">🔗</a></sup><sup><a href=\"https://www.forbes.com/sites/markfaithfull/2025/04/24/monopoly-maker-hasbro-lands-on-go-as-gaming-propels-revenues-and-stock/\" target=\"_blank\" title=\"Open Source\" style=\"text-decoration:none; font-size:0.6em; color:inherit; margin-left:0.5px;\">🔗</a></sup>  More recently, Hasbro implemented a 3% workforce reduction in June 2025, citing higher tariff costs as a contributing factor.<sup><a href=\"https://www.reuters.com/markets/companies/HAS.O\" target=\"_blank\" title=\"Open Source\" style=\"text-decoration:none; font-size:0.6em; color:inherit; margin-left:0.5px;\">🔗</a></sup><sup><a href=\"https://www.reuters.com/business/retail-consumer/hasbro-cuts-3-its-total-workforce-wsj-reports-2025-06-17/\" target=\"_blank\" title=\"Open Source\" style=\"text-decoration:none; font-size:0.6em; color:inherit; margin-left:0.5px;\">🔗</a></sup><sup><a href=\"https://www.wsj.com/business/retail/hasbro-trims-3-of-workforce-in-cost-cutting-push-2ac88b24?gaa_at=eafs&gaa_n=ASWzDAhtZRmUeW4uMLWmObbyCatkZuZSKoLLC5IbxvGHm3oO8K6QvV8CO3nc&gaa_ts=686f0a6b&gaa_sig=5xb9tC43h3SByhiWIGY6xaHz4eRF7XZ66JO6fHZlRy1LD7N_j60-UvrjkQTC1GYfOGJDmWJjqVPRyGcrBhw9jQ%3D%3D\" target=\"_blank\" title=\"Open Source\" style=\"text-decoration:none; font-size:0.6em; color:inherit; margin-left:0.5px;\">🔗</a></sup>  The CEO has also warned of potential price increases for toys later this year, should tariffs rise further.<sup><a href=\"https://www.cnn.com/2025/07/09/business/hasbro-ceo-tariffs/\" target=\"_blank\" title=\"Open Source\" style=\"text-decoration:none; font-size:0.6em; color:inherit; margin-left:0.5px;\">🔗</a></sup>  Despite these challenges, Hasbro's new strategic plan, focusing on digital gaming and older consumer demographics, appears to be gaining traction, as evidenced by the recent positive earnings surprise.<sup><a href=\"https://www.forbes.com/sites/joanverdon/2025/04/24/hasbro-delivers-upside-surprise-says-new-game-plan-is-working/\" target=\"_blank\" title=\"Open Source\" style=\"text-decoration:none; font-size:0.6em; color:inherit; margin-left:0.5px;\">🔗</a></sup><sup><a href=\"https://www.forbes.com/sites/joanverdon/2025/02/20/hasbro-stock-soars-as-toymaker-cuts-costs-reveals-new-game-plan/\" target=\"_blank\" title=\"Open Source\" style=\"text-decoration:none; font-size:0.6em; color:inherit; margin-left:0.5px;\">🔗</a></sup><sup><a href=\"https://finance.yahoo.com/news/hasbro-winning-hand-wizards-bucking-184923779.html\" target=\"_blank\" title=\"Open Source\" style=\"text-decoration:none; font-size:0.6em; color:inherit; margin-left:0.5px;\">🔗</a></sup>  The company's $1 billion cost-savings plan is a key element of its turnaround strategy.<sup><a href=\"https://finance.yahoo.com/news/hasbro-cuts-3-workforce-122100769.html\" target=\"_blank\" title=\"Open Source\" style=\"text-decoration:none; font-size:0.6em; color:inherit; margin-left:0.5px;\">🔗</a></sup><sup><a href=\"https://www.reuters.com/business/retail-consumer/toymaker-hasbro-forecasts-annual-revenue-below-estimates-2025-02-20/\" target=\"_blank\" title=\"Open Source\" style=\"text-decoration:none; font-size:0.6em; color:inherit; margin-left:0.5px;\">🔗</a></sup>\n"
     ]
    }
   ],
   "source": [
    "init_state = {\n",
    "    \"user_email\" : \"jane.moneypenny@bankwell.com\",\n",
    "    \"client_name\": \"Jessica Palmer\",\n",
    "    \"client_email\": \"jessica.palmer@hasbro.com\",\n",
    "    \"meeting_timestamp\": \"2024-02-04 14:30:00\",\n",
    "    \"meeting_description\": \"Hasbro - Discuss Portfolio Diversification and Bond Strategy\",\n",
    "}\n",
    "\n",
    "result = compiled_graph.invoke(init_state)\n",
    "summary_client_comms = result[\"summary_client_comms\"]\n",
    "fin_hold_summary_sourced= result[\"fin_hold_summary_sourced\"]\n",
    "client_news_summary_sourced= result[\"client_news_summary_sourced\"]\n",
    "# full_report = summary + \"\\n\\n### Macro Financial Snapshot\\n\\n\" + macro_table\n",
    "print(\"Client Communications Summary: \", summary_client_comms)\n",
    "print(\"------------------------------------\")\n",
    "print(\"Financial Holdings News Summary: \", fin_hold_summary_sourced)\n",
    "print(\"------------------------------------\")\n",
    "print(\"Client Company News Summary: \", client_news_summary_sourced)"
   ]
  },
  {
   "cell_type": "markdown",
   "id": "8d3bc2d7-9e39-4ba8-acaf-463e122b0388",
   "metadata": {},
   "source": [
    "## Test Case 3 - Hasbro H1 FX Hedging Strategy"
   ]
  },
  {
   "cell_type": "code",
   "execution_count": 4,
   "id": "34a14598-f793-4730-9417-c3a8def6093a",
   "metadata": {},
   "outputs": [
    {
     "name": "stdout",
     "output_type": "stream",
     "text": [
      "\n",
      "===============================\n",
      "Generating report with the following preferences: \n",
      " Finance Detail: short \n",
      " News Detail: full \n",
      " Macro News Detail: none\n",
      " Past Meeting Detail: none\n",
      "===============================\n",
      "\n",
      "Client Communications Summary:  \n",
      "------------------------------------\n",
      "Financial Holdings News Summary:  • Walmart Inc.\n",
      "• Amazon.com Inc.\n",
      "• Intel Corp.\n",
      "• Meta Platforms Inc.\n",
      "• Microsoft Corp.\n",
      "------------------------------------\n",
      "Client Company News Summary:  Recent news indicates a mixed performance for Hasbro, reflecting broader trends in the toy industry.<sup><a href=\"https://www.forbes.com/sites/joanverdon/2025/04/24/hasbro-delivers-upside-surprise-says-new-game-plan-is-working/\" target=\"_blank\" title=\"Open Source\" style=\"text-decoration:none; font-size:0.6em; color:inherit; margin-left:0.5px;\">🔗</a></sup><sup><a href=\"https://www.reuters.com/business/retail-consumer/hasbro-posts-bigger-than-expected-quarterly-sales-drop-weak-toy-demand-2024-10-24/\" target=\"_blank\" title=\"Open Source\" style=\"text-decoration:none; font-size:0.6em; color:inherit; margin-left:0.5px;\">🔗</a></sup><sup><a href=\"https://www.forbes.com/sites/joanverdon/2024/10/24/hasbro-sales-down-15-profits-up-as-turnaround-challenge-continues/\" target=\"_blank\" title=\"Open Source\" style=\"text-decoration:none; font-size:0.6em; color:inherit; margin-left:0.5px;\">🔗</a></sup>  While Hasbro's first-quarter 2025 earnings significantly exceeded expectations, driven by strong performance in digital gaming and its Wizards of the Coast segment,<sup><a href=\"https://www.forbes.com/sites/joanverdon/2025/04/24/hasbro-delivers-upside-surprise-says-new-game-plan-is-working/\" target=\"_blank\" title=\"Open Source\" style=\"text-decoration:none; font-size:0.6em; color:inherit; margin-left:0.5px;\">🔗</a></sup><sup><a href=\"https://www.reuters.com/business/retail-consumer/hasbros-quarterly-revenue-beats-digital-gaming-demand-2025-04-24/\" target=\"_blank\" title=\"Open Source\" style=\"text-decoration:none; font-size:0.6em; color:inherit; margin-left:0.5px;\">🔗</a></sup><sup><a href=\"https://finance.yahoo.com/news/hasbro-winning-hand-wizards-bucking-trend-184923779.html\" target=\"_blank\" title=\"Open Source\" style=\"text-decoration:none; font-size:0.6em; color:inherit; margin-left:0.5px;\">🔗</a></sup>  previous quarters showed a more challenging picture.<sup><a href=\"https://www.reuters.com/business/retail-consumer/hasbro-posts-bigger-than-expected-quarterly-sales-drop-weak-toy-demand-2024-10-24/\" target=\"_blank\" title=\"Open Source\" style=\"text-decoration:none; font-size:0.6em; color:inherit; margin-left:0.5px;\">🔗</a></sup><sup><a href=\"https://www.forbes.com/sites/joanverdon/2024/10/24/hasbro-sales-down-15-profits-up-as-turnaround-challenge-continues/\" target=\"_blank\" title=\"Open Source\" style=\"text-decoration:none; font-size:0.6em; color:inherit; margin-left:0.5px;\">🔗</a></sup><sup><a href=\"https://www.forbes.com/sites/joanverdon/2024/04/24/investors-reward-hasbro-mattel-for-cost-cuts-inventory-reductions/\" target=\"_blank\" title=\"Open Source\" style=\"text-decoration:none; font-size:0.6em; color:inherit; margin-left:0.5px;\">🔗</a></sup>  Revenue declined significantly in Q3 and Q4 2024,<sup><a href=\"https://www.forbes.com/sites/joanverdon/2024/10/24/hasbro-sales-down-15-profits-up-as-turnaround-challenge-continues/\" target=\"_blank\" title=\"Open Source\" style=\"text-decoration:none; font-size:0.6em; color:inherit; margin-left:0.5px;\">🔗</a></sup><sup><a href=\"https://www.forbes.com/sites/joanverdon/2024/02/13/hasbro-sales-down-23-in-fourth-quarter-ceo-says-turnarounds-take-time/\" target=\"_blank\" title=\"Open Source\" style=\"text-decoration:none; font-size:0.6em; color:inherit; margin-left:0.5px;\">🔗</a></sup> prompting a $1 billion cost-saving plan and a 3% workforce reduction in June 2025 due to higher tariff costs.<sup><a href=\"https://www.reuters.com/business/retail-consumer/toymaker-hasbro-forecasts-annual-revenue-below-estimates-2025-02-20/\" target=\"_blank\" title=\"Open Source\" style=\"text-decoration:none; font-size:0.6em; color:inherit; margin-left:0.5px;\">🔗</a></sup><sup><a href=\"https://www.reuters.com/business/retail-consumer/monopoly-maker-hasbro-cuts-3-its-total-workforce-amid-higher-tariff-costs-2025-06-17/\" target=\"_blank\" title=\"Open Source\" style=\"text-decoration:none; font-size:0.6em; color:inherit; margin-left:0.5px;\">🔗</a></sup><sup><a href=\"https://www.reuters.com/business/retail-consumer/monopoly-maker-hasbro-cuts-3-its-total-workforce-amid-higher-tariff-costs-2025-06-17/\" target=\"_blank\" title=\"Open Source\" style=\"text-decoration:none; font-size:0.6em; color:inherit; margin-left:0.5px;\">🔗</a></sup>  Despite these cost-cutting measures and a new growth plan focusing on digital gaming and older demographics,<sup><a href=\"https://www.forbes.com/sites/joanverdon/2025/02/20/hasbro-stock-soars-as-toymaker-cuts-costs-reveals-new-game-plan/\" target=\"_blank\" title=\"Open Source\" style=\"text-decoration:none; font-size:0.6em; color:inherit; margin-left:0.5px;\">🔗</a></sup><sup><a href=\"https://www.reuters.com/business/retail-consumer/toymaker-hasbro-forecasts-annual-revenue-below-estimates-2025-02-20/\" target=\"_blank\" title=\"Open Source\" style=\"text-decoration:none; font-size:0.6em; color:inherit; margin-left:0.5px;\">🔗</a></sup>  the company continues to navigate subdued demand for traditional toys, forecasting weaker first-half 2024 toy demand and a continued decline in consumer product revenue.<sup><a href=\"https://www.reuters.com/business/retail-consumer/hasbro-posts-bigger-than-expected-quarterly-sales-drop-weak-toy-demand-2024-10-24/\" target=\"_blank\" title=\"Open Source\" style=\"text-decoration:none; font-size:0.6em; color:inherit; margin-left:0.5px;\">🔗</a></sup><sup><a href=\"https://www.reuters.com/business/retail-consumer/monopoly-maker-hasbro-misses-quarterly-estimates-slumping-toy-demand-2024-02-13/\" target=\"_blank\" title=\"Open Source\" style=\"text-decoration:none; font-size:0.6em; color:inherit; margin-left:0.5px;\">🔗</a></sup><sup><a href=\"https://www.reuters.com/business/retail-consumer/toymaker-hasbro-forecasts-annual-revenue-below-estimates-2025-02-20/\" target=\"_blank\" title=\"Open Source\" style=\"text-decoration:none; font-size:0.6em; color:inherit; margin-left:0.5px;\">🔗</a></sup>  The industry as a whole is hoping for a rebound in 2025 after two difficult years, but the impact of tariffs on toy prices remains a significant concern.<sup><a href=\"https://www.forbes.com/sites/joanverdon/2025/03/02/the-toy-industry-is-hoping-for-a-bounce-back-year-as-toy-fair-opens/\" target=\"_blank\" title=\"Open Source\" style=\"text-decoration:none; font-size:0.6em; color:inherit; margin-left:0.5px;\">🔗</a></sup><sup><a href=\"https://www.cnn.com/2025/07/09/business/hasbro-ceo-tariffs/\" target=\"_blank\" title=\"Open Source\" style=\"text-decoration:none; font-size:0.6em; color:inherit; margin-left:0.5px;\">🔗</a></sup>\n"
     ]
    }
   ],
   "source": [
    "init_state = {\n",
    "    \"user_email\" : \"jane.moneypenny@bankwell.com\",\n",
    "    \"client_name\": \"Jessica Palmer\",\n",
    "    \"client_email\": \"jessica.palmer@hasbro.com\",\n",
    "    \"meeting_timestamp\": \"2023-12-11 11:00:00\",\n",
    "    \"meeting_description\": \"Hasbro - Finalize H1 2024 FX Hedging Strategy\",\n",
    "}\n",
    "\n",
    "result = compiled_graph.invoke(init_state)\n",
    "summary_client_comms = result[\"summary_client_comms\"]\n",
    "fin_hold_summary_sourced= result[\"fin_hold_summary_sourced\"]\n",
    "client_news_summary_sourced= result[\"client_news_summary_sourced\"]\n",
    "# full_report = summary + \"\\n\\n### Macro Financial Snapshot\\n\\n\" + macro_table\n",
    "print(\"Client Communications Summary: \", summary_client_comms)\n",
    "print(\"------------------------------------\")\n",
    "print(\"Financial Holdings News Summary: \", fin_hold_summary_sourced)\n",
    "print(\"------------------------------------\")\n",
    "print(\"Client Company News Summary: \", client_news_summary_sourced)"
   ]
  },
  {
   "cell_type": "markdown",
   "id": "1df1665f-5df3-4295-8582-f21dd83059e1",
   "metadata": {},
   "source": [
    "## Test Case 4 - Ryan Holloway"
   ]
  },
  {
   "cell_type": "code",
   "execution_count": 5,
   "id": "956eeb6e-95f5-4faf-b9b0-4de1db0275ae",
   "metadata": {},
   "outputs": [
    {
     "name": "stdout",
     "output_type": "stream",
     "text": [
      "\n",
      "===============================\n",
      "Generating report with the following preferences: \n",
      " Finance Detail: none \n",
      " News Detail: none \n",
      " Macro News Detail: none\n",
      " Past Meeting Detail: short\n",
      "===============================\n",
      "\n",
      "Client Communications Summary:  • Compass finds the credit facility is functioning effectively.\n",
      "• The drawdown and reporting processes are considered straightforward by Compass.\n",
      "• Compass is satisfied with the overall performance of the credit facility.\n",
      "• Compass expressed appreciation for Bankwell's collaborative partnership.\n",
      "------------------------------------\n",
      "Financial Holdings News Summary:  \n",
      "------------------------------------\n",
      "Client Company News Summary:  \n"
     ]
    }
   ],
   "source": [
    "init_state = {\n",
    "    \"user_email\" : \"ryan.holloway@bankwell.com\",\n",
    "    \"client_name\": \"Adam Clay\",\n",
    "    \"client_email\": \"adam.clay@compass.com\",\n",
    "    \"meeting_timestamp\": \"2024-03-26 11:00:00\",\n",
    "    \"meeting_description\": \"Compass - Annual Credit Facility Review Meeting\",\n",
    "}\n",
    "\n",
    "result = compiled_graph.invoke(init_state)\n",
    "summary_client_comms = result[\"summary_client_comms\"]\n",
    "fin_hold_summary_sourced= result[\"fin_hold_summary_sourced\"]\n",
    "client_news_summary_sourced= result[\"client_news_summary_sourced\"]\n",
    "# full_report = summary + \"\\n\\n### Macro Financial Snapshot\\n\\n\" + macro_table\n",
    "print(\"Client Communications Summary: \", summary_client_comms)\n",
    "print(\"------------------------------------\")\n",
    "print(\"Financial Holdings News Summary: \", fin_hold_summary_sourced)\n",
    "print(\"------------------------------------\")\n",
    "print(\"Client Company News Summary: \", client_news_summary_sourced)"
   ]
  },
  {
   "cell_type": "code",
   "execution_count": null,
   "id": "0be7d666-9dc8-4e74-957a-a2f2ded23e32",
   "metadata": {},
   "outputs": [],
   "source": []
  }
 ],
 "metadata": {
  "environment": {
   "kernel": "lc_currensee",
   "name": "workbench-notebooks.m129",
   "type": "gcloud",
   "uri": "us-docker.pkg.dev/deeplearning-platform-release/gcr.io/workbench-notebooks:m129"
  },
  "kernelspec": {
   "display_name": "lc_currensee",
   "language": "python",
   "name": "lc_currensee"
  },
  "language_info": {
   "codemirror_mode": {
    "name": "ipython",
    "version": 3
   },
   "file_extension": ".py",
   "mimetype": "text/x-python",
   "name": "python",
   "nbconvert_exporter": "python",
   "pygments_lexer": "ipython3",
   "version": "3.11.12"
  }
 },
 "nbformat": 4,
 "nbformat_minor": 5
}
