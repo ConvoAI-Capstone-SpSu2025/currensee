{
 "cells": [
  {
   "cell_type": "code",
   "execution_count": 1,
   "id": "c57516d8-1607-4573-bcdd-c78af6861c7e",
   "metadata": {},
   "outputs": [
    {
     "name": "stderr",
     "output_type": "stream",
     "text": [
      "2025-07-06 00:07:11,560 - currensee.core.secrets - INFO - PROJECT_ID not found, attempting to load from .env file\n",
      "2025-07-06 00:07:11,564 - currensee.core.secrets - INFO - Loaded environment from ./.env\n",
      "2025-07-06 00:07:11,565 - currensee.core.secrets - INFO - SecretManager initialized with project_id: adsp-34002-on02-sopho-scribe\n"
     ]
    }
   ],
   "source": [
    "from currensee.agents.complete_graph import compiled_graph\n",
    "from currensee.agents.tools.finance_tools import generate_macro_table\n",
    "from currensee.utils.output_utils import (\n",
    "    generate_long_report,\n",
    "    format_news_summary_to_html,\n",
    "    format_paragraph_summary_to_html,\n",
    "    save_html_to_file,\n",
    "    generate_short_report,\n",
    "    convert_html_to_pdf,\n",
    "    generate_med_report,\n",
    ")\n",
    "import warnings\n",
    "import joblib\n",
    "\n",
    "warnings.filterwarnings(\"ignore\")"
   ]
  },
  {
   "cell_type": "code",
   "execution_count": 2,
   "id": "78af48b6-83cb-457b-b0df-8740a807829d",
   "metadata": {},
   "outputs": [
    {
     "name": "stdout",
     "output_type": "stream",
     "text": [
      "20250706\n"
     ]
    }
   ],
   "source": [
    "from datetime import date\n",
    "\n",
    "today = date.today()\n",
    "today_date = today.strftime(\"%Y%m%d\")\n",
    "print(today_date)"
   ]
  },
  {
   "cell_type": "markdown",
   "id": "0382d110-7666-4cf9-8664-a6ec2799f35e",
   "metadata": {},
   "source": [
    "## Define Initial State\n",
    "\n",
    "This is data that we should be retrieving from each meeting invite.\n",
    "\n",
    "**DO NOT** change this data until the CRM DB has been updated"
   ]
  },
  {
   "cell_type": "code",
   "execution_count": 3,
   "id": "dcc4c7df-7a99-4862-b4ff-e84ed8dfc48c",
   "metadata": {},
   "outputs": [
    {
     "name": "stdout",
     "output_type": "stream",
     "text": [
      "\n",
      "===============================\n",
      "Generating report with the following preferences: \n",
      " Finance Detail: full \n",
      " News Detail: none \n",
      " Macro News Detail: full\n",
      " Past Meeting Detail: full\n",
      "===============================\n",
      "\n",
      "Client Communications Summary:  **Compass - Annual Credit Facility Review Meeting: Briefing Document**\n",
      "\n",
      "**1. Past Email Summary**\n",
      "\n",
      "This meeting concerns the annual review of Compass's $25M revolving credit facility with Bankwell Financial.  The process began with initial contact from Jane Moneypenny (Bankwell Financial) following a Real Estate Finance conference.  Adam Clay (Compass) expressed interest, leading to the issuance of an indicative term sheet. Following Compass's internal approval, the definitive loan agreement was finalized, resulting in successful closing and funding.  A post-closing check-in confirmed Compass's satisfaction with the facility's functionality.\n",
      "\n",
      "**2. Recent Email Topics**\n",
      "\n",
      "* Compass reported positive experiences with the credit facility, highlighting straightforward drawdowns and clear reporting.\n",
      "* Bankwell Financial confirmed the official closing and funding of the $25M revolving credit facility.\n",
      "* Bankwell Financial reiterated its commitment to providing ongoing support and assistance to Compass regarding the facility's use.\n",
      "\n",
      "**3. Recent Client Questions**\n",
      "\n",
      "1. Are you finding the process for drawdowns and reporting satisfactory?\n",
      "Financial Holdings News Summary:  Adam Clay's portfolio includes a mix of technology and materials stocks.  Taiwan Semiconductor Manufacturing (TSMC) is performing exceptionally well, with first-quarter revenue up 35% year-over-year and its stock hitting a 52-week high, driven by strong demand for AI chips.<sup><a href=\"https://finance.yahoo.com/news/tsm-stock-hits-52-week-132800989.html\" target=\"_blank\" title=\"Open Source\" style=\"text-decoration:none; font-size:0.6em; color:inherit; margin-left:0.5px;\">🔗</a></sup><sup><a href=\"https://finance.yahoo.com/news/could-load-artificial-intelligence-ai-140000610.html\" target=\"_blank\" title=\"Open Source\" style=\"text-decoration:none; font-size:0.6em; color:inherit; margin-left:0.5px;\">🔗</a></sup>  CRH PLC, a building materials company, also shows positive performance, with a recent dividend increase and strong analyst ratings.<sup><a href=\"https://finance.yahoo.com/news/crh-plc-crh-fy-2024-070834093.html\" target=\"_blank\" title=\"Open Source\" style=\"text-decoration:none; font-size:0.6em; color:inherit; margin-left:0.5px;\">🔗</a></sup><sup><a href=\"https://finance.yahoo.com/news/citi-maintains-buy-crh-plc-153133115.html\" target=\"_blank\" title=\"Open Source\" style=\"text-decoration:none; font-size:0.6em; color:inherit; margin-left:0.5px;\">🔗</a></sup>  ASML Holding NV, a semiconductor equipment manufacturer, presents a more mixed picture, with fluctuating stock prices reflecting varied analyst opinions despite its position in the growing AI sector.<sup><a href=\"https://finance.yahoo.com/news/asml-holding-n-v-asml-173605595.html\" target=\"_blank\" title=\"Open Source\" style=\"text-decoration:none; font-size:0.6em; color:inherit; margin-left:0.5px;\">🔗</a></sup><sup><a href=\"https://ca.finance.yahoo.com/quote/ASME.HM/news/\" target=\"_blank\" title=\"Open Source\" style=\"text-decoration:none; font-size:0.6em; color:inherit; margin-left:0.5px;\">🔗</a></sup><sup><a href=\"https://finance.yahoo.com/news/jefferies-downgrades-asml-holding-n-v-asml-stock-to-hold.html\" target=\"_blank\" title=\"Open Source\" style=\"text-decoration:none; font-size:0.6em; color:inherit; margin-left:0.5px;\">🔗</a></sup>  Information on Samsung Electronics is limited to older news, and while SAP SE has shown long-term growth, it recently experienced a significant market cap decrease. The overall global economic outlook remains uncertain, with mixed economic data and ongoing debate about the potential for a recession, though the likelihood has decreased.<sup><a href=\"https://www.reuters.com/markets/wealth/muddied-gdp-report-leaves-investors-with-little-clarity-about-economic-risk-2025-04-30/\" target=\"_blank\" title=\"Open Source\" style=\"text-decoration:none; font-size:0.6em; color:inherit; margin-left:0.5px;\">🔗</a></sup><sup><a href=\"https://finance.yahoo.com/news/magnificent-seven-shareholder-meetings-tap-190857698.html\" target=\"_blank\" title=\"Open Source\" style=\"text-decoration:none; font-size:0.6em; color:inherit; margin-left:0.5px;\">🔗</a></sup><sup><a href=\"https://finance.yahoo.com/news/perceived-odds-us-recession-peaked-140000174.html\" target=\"_blank\" title=\"Open Source\" style=\"text-decoration:none; font-size:0.6em; color:inherit; margin-left:0.5px;\">🔗</a></sup>  The impact of AI on various sectors, including technology and semiconductors, is a significant factor influencing these market trends.<sup><a href=\"https://finance.yahoo.com/news/tsm-stock-hits-52-week-132800989.html\" target=\"_blank\" title=\"Open Source\" style=\"text-decoration:none; font-size:0.6em; color:inherit; margin-left:0.5px;\">🔗</a></sup>\n",
      "Client Company News Summary:  Please provide me with the context or question you'd like me to answer. I need some information to be able to help you.\n"
     ]
    }
   ],
   "source": [
    "init_state = {\n",
    "    \"user_email\" : \"jane.moneypenny1@bankwell.com\",\n",
    "    \"client_name\": \"Adam Clay\",\n",
    "    \"client_email\": \"adam.clay@compass.com\",\n",
    "    \"meeting_timestamp\": \"2024-03-26 11:00:00\",\n",
    "    \"meeting_description\": \"Compass - Annual Credit Facility Review Meeting\",\n",
    "}\n",
    "\n",
    "result = compiled_graph.invoke(init_state)\n",
    "summary_client_comms = result[\"summary_client_comms\"]\n",
    "fin_hold_summary_sourced= result[\"fin_hold_summary_sourced\"]\n",
    "client_news_summary_sourced= result[\"client_news_summary_sourced\"]\n",
    "# full_report = summary + \"\\n\\n### Macro Financial Snapshot\\n\\n\" + macro_table\n",
    "print(\"Client Communications Summary: \", summary_client_comms)\n",
    "print(\"------------------------------------\")\n",
    "print(\"Financial Holdings News Summary: \", fin_hold_summary_sourced)\n",
    "print(\"------------------------------------\")\n",
    "print(\"Client Company News Summary: \", client_news_summary_sourced)"
   ]
  },
  {
   "cell_type": "markdown",
   "id": "a33b701c-3483-46e3-8f06-dce8aff5a59f",
   "metadata": {},
   "source": [
    "# Test Case 2"
   ]
  },
  {
   "cell_type": "code",
   "execution_count": 5,
   "id": "e164c69f-39e3-4574-bfa1-4c89e94c9ee1",
   "metadata": {},
   "outputs": [
    {
     "name": "stdout",
     "output_type": "stream",
     "text": [
      "\n",
      "===============================\n",
      "Generating report with the following preferences: \n",
      " Finance Detail: full \n",
      " News Detail: none \n",
      " Macro News Detail: full\n",
      " Past Meeting Detail: full\n",
      "===============================\n",
      "\n",
      "Client Communications Summary:  **Hasbro - Portfolio Diversification and Bond Strategy: Briefing Document**\n",
      "\n",
      "**1. Past Email Summary**\n",
      "\n",
      "Bankwell Financial and Hasbro have a longstanding relationship, primarily focused on FX hedging strategies for EUR and GBP exposures related to Hasbro's international sales.  This involved utilizing forward contracts, supplemented by options when advantageous, for H1 2021 and H1 2022.  The strategy successfully provided budget certainty.  Planning for H1 2023 and H1 2024 is underway, with a recent shift towards a more conservative risk profile for H1 2024.  Recent discussions also highlighted underperformance in Hasbro's small-cap consumer entertainment stock positions, leading to concerns about portfolio diversification and bond strategy adjustments in light of inflation.\n",
      "\n",
      "\n",
      "**2. Recent Email Topics**\n",
      "\n",
      "* Further diversification of Hasbro's investment portfolio is recommended.\n",
      "* Hasbro's investment strategy requires reevaluation due to an upcoming senior leadership change.\n",
      "* The sustainability of current market trends for small-cap consumer entertainment stocks is questioned.\n",
      "* Hasbro expresses concern about its bond allocation and the impact of inflation, considering a potential reduction in bond holdings.\n",
      "* Hasbro's Q1 goals are under discussion, following recent divestitures.\n",
      "* Underperformance of small-cap consumer entertainment stock positions relative to the S&P benchmark was mitigated by structured notes linked to diversified consumer indexes.\n",
      "* Bankwell Financial proposes reallocating a portion of Hasbro's discretionary sector holdings to lower-beta instruments or exploring sector rotation strategies to improve underperforming positions.  A wait-and-see approach to market trends is also being considered.\n",
      "\n",
      "\n",
      "**3. Recent Client Questions**\n",
      "\n",
      "1.  \"Do you believe that current market trends will continue regarding small-cap consumer entertainment?\"\n",
      "2.  \"Also, I am curious about our allocation in bond funds. Given current inflation, what is the likely impact on the bond market, i.e., should we consider moving further out of bonds?\"\n",
      "Financial Holdings News Summary:  Jessica Palmer's portfolio, comprised of Walmart, Amazon, Intel, Meta Platforms, and Microsoft, shows a mixed performance picture reflecting the broader economic uncertainty.  Walmart, a key holding, exhibits resilience against inflationary pressures stemming from tariffs, with analysts maintaining a positive outlook and a $110 price target from UBS.<sup><a href=\"https://finance.yahoo.com/news/ubs-maintains-buy-rating-walmart-130907325.html\" target=\"_blank\" title=\"Open Source\" style=\"text-decoration:none; font-size:0.6em; color:inherit; margin-left:0.5px;\">🔗</a></sup><sup><a href=\"https://finance.yahoo.com/news/walmart-inc-wmt-people-inflation-101131032.html\" target=\"_blank\" title=\"Open Source\" style=\"text-decoration:none; font-size:0.6em; color:inherit; margin-left:0.5px;\">🔗</a></sup>  Amazon, another significant holding, continues to be viewed favorably due to its robust innovation pipeline.<sup><a href=\"https://finance.yahoo.com/news/5-reasons-amazon-still-alpha-213041658.html\" target=\"_blank\" title=\"Open Source\" style=\"text-decoration:none; font-size:0.6em; color:inherit; margin-left:0.5px;\">🔗</a></sup> Intel's performance shows volatility, with institutional investor interest counterbalanced by concerns about potential divestitures.<sup><a href=\"https://finance.yahoo.com/news/intel-intc-stock-dips-while-214503502.html\" target=\"_blank\" title=\"Open Source\" style=\"text-decoration:none; font-size:0.6em; color:inherit; margin-left:0.5px;\">🔗</a></sup><sup><a href=\"https://finance.yahoo.com/news/intel-corporation-nasdaq-intc-favoured-120033405.html\" target=\"_blank\" title=\"Open Source\" style=\"text-decoration:none; font-size:0.6em; color:inherit; margin-left:0.5px;\">🔗</a></sup><sup><a href=\"https://sg.finance.yahoo.com/quote/INL.HA/news/\" target=\"_blank\" title=\"Open Source\" style=\"text-decoration:none; font-size:0.6em; color:inherit; margin-left:0.5px;\">🔗</a></sup>  Meta Platforms benefits from positive analyst sentiment and increased price targets, driven by its AI investments.<sup><a href=\"https://uk.finance.yahoo.com/news/ubs-raises-pt-meta-platforms-190151205.html\" target=\"_blank\" title=\"Open Source\" style=\"text-decoration:none; font-size:0.6em; color:inherit; margin-left:0.5px;\">🔗</a></sup><sup><a href=\"https://ca.finance.yahoo.com/news/meta-named-top-large-cap-130939044.html\" target=\"_blank\" title=\"Open Source\" style=\"text-decoration:none; font-size:0.6em; color:inherit; margin-left:0.5px;\">🔗</a></sup><sup><a href=\"https://ca.finance.yahoo.com/news/meta-platforms-inc-meta-looking-210552742.html\" target=\"_blank\" title=\"Open Source\" style=\"text-decoration:none; font-size:0.6em; color:inherit; margin-left:0.5px;\">🔗</a></sup>  Microsoft, a top holding in many prominent portfolios, is praised for its strong earnings growth.<sup><a href=\"https://finance.yahoo.com/news/earnings-growth-price-strength-microsoft-133002528.html\" target=\"_blank\" title=\"Open Source\" style=\"text-decoration:none; font-size:0.6em; color:inherit; margin-left:0.5px;\">🔗</a></sup>  The macroeconomic environment presents conflicting signals: while strong retail sales suggest a positive market outlook, concerns remain about a potential recession fueled by tariffs and the resulting impact on inflation and consumer prices.<sup><a href=\"https://finance.yahoo.com/news/the-confusing-state-of-the-economy-150642408.html\" target=\"_blank\" title=\"Open Source\" style=\"text-decoration:none; font-size:0.6em; color:inherit; margin-left:0.5px;\">🔗</a></sup><sup><a href=\"https://www.reuters.com/markets/wealth/muddied-gdp-report-leaves-investors-with-little-clarity-about-economic-risk-2025-04-30/\" target=\"_blank\" title=\"Open Source\" style=\"text-decoration:none; font-size:0.6em; color:inherit; margin-left:0.5px;\">🔗</a></sup> The April 2025 GDP report offered little clarity, with forecasts ranging from modest growth (1.8% according to the IMF) to a potential recession even with tariff reductions.  The Federal Reserve's response to this uncertainty remains a key factor.<sup><a href=\"https://www.reuters.com/markets/wealth/muddied-gdp-report-leaves-investors-with-little-clarity-about-economic-risk-2025-04-30/\" target=\"_blank\" title=\"Open Source\" style=\"text-decoration:none; font-size:0.6em; color:inherit; margin-left:0.5px;\">🔗</a></sup><sup><a href=\"https://www.reuters.com/video/watch/idRW925625042025RP1/\" target=\"_blank\" title=\"Open Source\" style=\"text-decoration:none; font-size:0.6em; color:inherit; margin-left:0.5px;\">🔗</a></sup>\n",
      "Client Company News Summary:  Please provide me with a question or prompt. I need something to respond to.\n"
     ]
    }
   ],
   "source": [
    "init_state = {\n",
    "    \"user_email\" : \"jane.moneypenny1@bankwell.com\",\n",
    "    \"client_name\": \"Jessica Palmer\",\n",
    "    \"client_email\": \"jessica.palmer@hasbro.com\",\n",
    "    \"meeting_timestamp\": \"2024-02-04 14:30:00\",\n",
    "    \"meeting_description\": \"Hasbro - Discuss Portfolio Diversification and Bond Strategy\",\n",
    "}\n",
    "\n",
    "result = compiled_graph.invoke(init_state)\n",
    "summary_client_comms = result[\"summary_client_comms\"]\n",
    "fin_hold_summary_sourced= result[\"fin_hold_summary_sourced\"]\n",
    "client_news_summary_sourced= result[\"client_news_summary_sourced\"]\n",
    "# full_report = summary + \"\\n\\n### Macro Financial Snapshot\\n\\n\" + macro_table\n",
    "print(\"Client Communications Summary: \", summary_client_comms)\n",
    "print(\"------------------------------------\")\n",
    "print(\"Financial Holdings News Summary: \", fin_hold_summary_sourced)\n",
    "print(\"------------------------------------\")\n",
    "print(\"Client Company News Summary: \", client_news_summary_sourced)"
   ]
  },
  {
   "cell_type": "markdown",
   "id": "8d3bc2d7-9e39-4ba8-acaf-463e122b0388",
   "metadata": {},
   "source": [
    "# Test Case 3"
   ]
  },
  {
   "cell_type": "code",
   "execution_count": 7,
   "id": "34a14598-f793-4730-9417-c3a8def6093a",
   "metadata": {},
   "outputs": [
    {
     "name": "stdout",
     "output_type": "stream",
     "text": [
      "\n",
      "===============================\n",
      "Generating report with the following preferences: \n",
      " Finance Detail: full \n",
      " News Detail: none \n",
      " Macro News Detail: full\n",
      " Past Meeting Detail: full\n",
      "===============================\n",
      "\n",
      "Client Communications Summary:  **Hasbro - H1 2024 FX Hedging Strategy Meeting Briefing**\n",
      "\n",
      "**1. Past Email Summary**\n",
      "\n",
      "Bankwell Financial and Hasbro have a long-standing relationship regarding FX hedging strategies.  Initial discussions centered on Jessica Palmer's (Hasbro) concerns about EUR and GBP volatility.  Jane Moneypenny (Bankwell Financial) presented forward contracts and options as hedging solutions, with a cost/flexibility comparison provided for a 6-month horizon. Hasbro opted for a primarily forward contract strategy for H1 2021 and 2022, supplementing with options when advantageous.  Post-hedge performance reviews were conducted, leading to the current planning for H1 2024.  Recent communication included a Q1 performance review and discussion of potential investment strategy adjustments due to recent divestitures and market shifts.\n",
      "\n",
      "\n",
      "**2. Recent Email Topics**\n",
      "\n",
      "* Hasbro should diversify its investment portfolio further.\n",
      "* Hasbro's investment strategy requires reevaluation, considering potential senior leadership changes.\n",
      "* Hasbro questions the sustainability of current market trends in small-cap consumer entertainment stocks.\n",
      "* Hasbro is concerned about its bond fund allocation due to inflation and its potential impact on the bond market; they are considering reducing bond holdings.\n",
      "* Hasbro's Q1 goals are under review, following recent divestitures.\n",
      "* Hasbro's small-cap consumer entertainment stock holdings underperformed the S&P benchmark.\n",
      "* Bankwell Financial suggests reallocating a portion of Hasbro's discretionary sector holdings to lower-beta instruments or employing sector-rotation strategies to address underperformance.  Alternatively, they suggest observing market trends before making changes.\n",
      "\n",
      "\n",
      "**3. Recent Client Questions**\n",
      "\n",
      "1. \"Do you believe that current market trends will continue regarding small-cap consumer entertainment?\"\n",
      "2. \"Also, I am curious about our allocation in bond funds. Given current inflation, what is the likely impact on the bond market, i.e. should we consider moving further out of bonds?\"\n",
      "------------------------------------\n",
      "Financial Holdings News Summary:  Jessica Palmer's portfolio, comprised of Walmart, Amazon, Intel, Meta, and Microsoft, reflects a diversified approach to investing across major tech and consumer staples sectors.  Walmart, a counter-cyclical stock, shows strong performance and maintains buy ratings from analysts, suggesting resilience in a potentially uncertain economic climate.<sup><a href=\"https://finance.yahoo.com/news/why-walmart-wmt-top-momentum-135003371.html\" target=\"_blank\" title=\"Open Source\" style=\"text-decoration:none; font-size:0.6em; color:inherit; margin-left:0.5px;\">🔗</a></sup><sup><a href=\"https://finance.yahoo.com/news/ubs-maintains-buy-rating-walmart-130907325.html\" target=\"_blank\" title=\"Open Source\" style=\"text-decoration:none; font-size:0.6em; color:inherit; margin-left:0.5px;\">🔗</a></sup><sup><a href=\"https://finance.yahoo.com/news/walmart-inc-wmt-best-counter-230512280.html\" target=\"_blank\" title=\"Open Source\" style=\"text-decoration:none; font-size:0.6em; color:inherit; margin-left:0.5px;\">🔗</a></sup> Amazon, while facing some downward pressure on price targets, benefits from significant AI investments promising future revenue growth.<sup><a href=\"https://ca.finance.yahoo.com/news/amazon-com-inc-amzn-price-093205838.html\" target=\"_blank\" title=\"Open Source\" style=\"text-decoration:none; font-size:0.6em; color:inherit; margin-left:0.5px;\">🔗</a></sup><sup><a href=\"https://ca.finance.yahoo.com/news/amazon-ceo-sets-ai-investment-110953466.html\" target=\"_blank\" title=\"Open Source\" style=\"text-decoration:none; font-size:0.6em; color:inherit; margin-left:0.5px;\">🔗</a></sup><sup><a href=\"https://finance.yahoo.com/news/amazon-stock-worth-holding-now-124700905.html\" target=\"_blank\" title=\"Open Source\" style=\"text-decoration:none; font-size:0.6em; color:inherit; margin-left:0.5px;\">🔗</a></sup>  Intel's performance is linked to its data center market position and potential restructuring, creating some uncertainty.<sup><a href=\"https://finance.yahoo.com/news/intel-intc-may-kill-18a-115845899.html\" target=\"_blank\" title=\"Open Source\" style=\"text-decoration:none; font-size:0.6em; color:inherit; margin-left:0.5px;\">🔗</a></sup><sup><a href=\"https://finance.yahoo.com/news/intel-corp-intc-best-data-022537058.html\" target=\"_blank\" title=\"Open Source\" style=\"text-decoration:none; font-size:0.6em; color:inherit; margin-left:0.5px;\">🔗</a></sup><sup><a href=\"https://ca.finance.yahoo.com/news/intel-intc-may-kill-18a-115845899.html\" target=\"_blank\" title=\"Open Source\" style=\"text-decoration:none; font-size:0.6em; color:inherit; margin-left:0.5px;\">🔗</a></sup>  Meta, however, receives positive analyst sentiment due to AI investments and ad revenue growth, with increased price targets.<sup><a href=\"https://uk.finance.yahoo.com/news/ubs-raises-pt-meta-platforms-190151205.html\" target=\"_blank\" title=\"Open Source\" style=\"text-decoration:none; font-size:0.6em; color:inherit; margin-left:0.5px;\">🔗</a></sup><sup><a href=\"https://ca.finance.yahoo.com/news/meta-named-top-large-cap-130939044.html\" target=\"_blank\" title=\"Open Source\" style=\"text-decoration:none; font-size:0.6em; color:inherit; margin-left:0.5px;\">🔗</a></sup><sup><a href=\"https://ca.finance.yahoo.com/news/meta-named-top-large-cap-130939044.html\" target=\"_blank\" title=\"Open Source\" style=\"text-decoration:none; font-size:0.6em; color:inherit; margin-left:0.5px;\">🔗</a></sup>  Microsoft consistently demonstrates strong earnings growth and remains a top pick among analysts.<sup><a href=\"https://finance.yahoo.com/news/earnings-growth-price-strength-microsoft-133002528.html\" target=\"_blank\" title=\"Open Source\" style=\"text-decoration:none; font-size:0.6em; color:inherit; margin-left:0.5px;\">🔗</a></sup><sup><a href=\"https://finance.yahoo.com/news/microsoft-msft-recovered-losses-q1-113919271.html\" target=\"_blank\" title=\"Open Source\" style=\"text-decoration:none; font-size:0.6em; color:inherit; margin-left:0.5px;\">🔗</a></sup><sup><a href=\"https://finance.yahoo.com/news/microsoft-corporation-msft-among-top-142913815.html\" target=\"_blank\" title=\"Open Source\" style=\"text-decoration:none; font-size:0.6em; color:inherit; margin-left:0.5px;\">🔗</a></sup> The overall economic picture is mixed, with conflicting signals from GDP reports, concerns about recession, and counterbalancing positive retail sales and job market data.<sup><a href=\"https://www.reuters.com/markets/wealth/muddied-gdp-report-leaves-investors-with-little-clarity-about-economic-risk-2025-04-30/\" target=\"_blank\" title=\"Open Source\" style=\"text-decoration:none; font-size:0.6em; color:inherit; margin-left:0.5px;\">🔗</a></sup><sup><a href=\"https://finance.yahoo.com/news/us-economy-dangerously-vulnerable-to-recession-wall-street-reacts-to-tariff-fallout-155837444.html\" target=\"_blank\" title=\"Open Source\" style=\"text-decoration:none; font-size:0.6em; color:inherit; margin-left:0.5px;\">🔗</a></sup><sup><a href=\"https://finance.yahoo.com/news/the-confusing-state-of-the-economy-150642408.html\" target=\"_blank\" title=\"Open Source\" style=\"text-decoration:none; font-size:0.6em; color:inherit; margin-left:0.5px;\">🔗</a></sup>  The Federal Reserve's actions and potential rate cuts add further complexity to the economic outlook.<sup><a href=\"https://www.marketwatch.com/economy-politics/calendar\" target=\"_blank\" title=\"Open Source\" style=\"text-decoration:none; font-size:0.6em; color:inherit; margin-left:0.5px;\">🔗</a></sup><sup><a href=\"https://www.marketwatch.com/economy-politics/\" target=\"_blank\" title=\"Open Source\" style=\"text-decoration:none; font-size:0.6em; color:inherit; margin-left:0.5px;\">🔗</a></sup>  While some sectors show strength, the overall economic climate presents a degree of uncertainty.<sup><a href=\"https://www.reuters.com/markets/wealth/muddied-gdp-report-leaves-investors-with-little-clarity-about-economic-risk-2025-04-30/\" target=\"_blank\" title=\"Open Source\" style=\"text-decoration:none; font-size:0.6em; color:inherit; margin-left:0.5px;\">🔗</a></sup><sup><a href=\"https://finance.yahoo.com/news/us-economy-dangerously-vulnerable-to-recession-wall-street-reacts-to-tariff-fallout-155837444.html\" target=\"_blank\" title=\"Open Source\" style=\"text-decoration:none; font-size:0.6em; color:inherit; margin-left:0.5px;\">🔗</a></sup><sup><a href=\"https://ca.finance.yahoo.com/news/blackrock-eyes-shorter-term-bets-110420861.html\" target=\"_blank\" title=\"Open Source\" style=\"text-decoration:none; font-size:0.6em; color:inherit; margin-left:0.5px;\">🔗</a></sup>\n",
      "------------------------------------\n",
      "Client Company News Summary:  Please provide me with a prompt or question. I need something to respond to.\n"
     ]
    }
   ],
   "source": [
    "init_state = {\n",
    "    \"user_email\" : \"jane.moneypenny1@bankwell.com\",\n",
    "    \"client_name\": \"Jessica Palmer\",\n",
    "    \"client_email\": \"jessica.palmer@hasbro.com\",\n",
    "    \"meeting_timestamp\": \"2023-12-11 11:00:00\",\n",
    "    \"meeting_description\": \"Hasbro - Finalize H1 2024 FX Hedging Strategy\",\n",
    "}\n",
    "\n",
    "result = compiled_graph.invoke(init_state)\n",
    "summary_client_comms = result[\"summary_client_comms\"]\n",
    "fin_hold_summary_sourced= result[\"fin_hold_summary_sourced\"]\n",
    "client_news_summary_sourced= result[\"client_news_summary_sourced\"]\n",
    "# full_report = summary + \"\\n\\n### Macro Financial Snapshot\\n\\n\" + macro_table\n",
    "print(\"Client Communications Summary: \", summary_client_comms)\n",
    "print(\"------------------------------------\")\n",
    "print(\"Financial Holdings News Summary: \", fin_hold_summary_sourced)\n",
    "print(\"------------------------------------\")\n",
    "print(\"Client Company News Summary: \", client_news_summary_sourced)"
   ]
  },
  {
   "cell_type": "code",
   "execution_count": null,
   "id": "ee37b5a9-af07-450d-a509-d41368eb2974",
   "metadata": {},
   "outputs": [],
   "source": []
  }
 ],
 "metadata": {
  "environment": {
   "kernel": "lc_currensee",
   "name": "workbench-notebooks.m129",
   "type": "gcloud",
   "uri": "us-docker.pkg.dev/deeplearning-platform-release/gcr.io/workbench-notebooks:m129"
  },
  "kernelspec": {
   "display_name": "lc_currensee",
   "language": "python",
   "name": "lc_currensee"
  },
  "language_info": {
   "codemirror_mode": {
    "name": "ipython",
    "version": 3
   },
   "file_extension": ".py",
   "mimetype": "text/x-python",
   "name": "python",
   "nbconvert_exporter": "python",
   "pygments_lexer": "ipython3",
   "version": "3.11.12"
  }
 },
 "nbformat": 4,
 "nbformat_minor": 5
}
