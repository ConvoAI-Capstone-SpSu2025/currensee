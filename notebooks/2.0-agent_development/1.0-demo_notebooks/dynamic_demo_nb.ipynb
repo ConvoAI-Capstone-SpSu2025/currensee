{
 "cells": [
  {
   "cell_type": "code",
   "execution_count": null,
   "id": "c57516d8-1607-4573-bcdd-c78af6861c7e",
   "metadata": {},
   "outputs": [],
   "source": [
    "from currensee.agents.complete_graph import compiled_graph\n",
    "from currensee.agents.tools.finance_tools import generate_macro_table\n",
    "from currensee.utils.output_utils import (\n",
    "    generate_long_report,\n",
    "    format_news_summary_to_html,\n",
    "    format_paragraph_summary_to_html,\n",
    "    save_html_to_file,\n",
    "    generate_short_report,\n",
    "    convert_html_to_pdf,\n",
    "    generate_med_report,\n",
    ")\n",
    "import warnings\n",
    "import joblib\n",
    "\n",
    "warnings.filterwarnings(\"ignore\")"
   ]
  },
  {
   "cell_type": "code",
   "execution_count": null,
   "id": "78af48b6-83cb-457b-b0df-8740a807829d",
   "metadata": {},
   "outputs": [],
   "source": [
    "from datetime import date\n",
    "\n",
    "today = date.today()\n",
    "today_date = today.strftime(\"%Y%m%d\")\n",
    "print(today_date)"
   ]
  },
  {
   "cell_type": "markdown",
   "id": "0382d110-7666-4cf9-8664-a6ec2799f35e",
   "metadata": {},
   "source": [
    "## Test Case 1 - Compass"
   ]
  },
  {
   "cell_type": "code",
   "execution_count": null,
   "id": "dcc4c7df-7a99-4862-b4ff-e84ed8dfc48c",
   "metadata": {},
   "outputs": [],
   "source": [
    "init_state = {\n",
    "    \"user_email\" : \"jane.moneypenny@bankwell.com\",\n",
    "    \"client_name\": \"Adam Clay\",\n",
    "    \"client_email\": \"adam.clay@compass.com\",\n",
    "    \"meeting_timestamp\": \"2024-03-26 11:00:00\",\n",
    "    \"meeting_description\": \"Compass - Annual Credit Facility Review Meeting\",\n",
    "}\n",
    "\n",
    "result = compiled_graph.invoke(init_state)\n",
    "summary_client_comms = result[\"summary_client_comms\"]\n",
    "fin_hold_summary_sourced= result[\"fin_hold_summary_sourced\"]\n",
    "client_news_summary_sourced= result[\"client_news_summary_sourced\"]\n",
    "# full_report = summary + \"\\n\\n### Macro Financial Snapshot\\n\\n\" + macro_table\n",
    "print(\"Client Communications Summary: \", summary_client_comms)\n",
    "print(\"------------------------------------\")\n",
    "print(\"Financial Holdings News Summary: \", fin_hold_summary_sourced)\n",
    "print(\"------------------------------------\")\n",
    "print(\"Client Company News Summary: \", client_news_summary_sourced)"
   ]
  },
  {
   "cell_type": "markdown",
   "id": "a33b701c-3483-46e3-8f06-dce8aff5a59f",
   "metadata": {},
   "source": [
    "## Test Case 2 - Hasbro Portfolio Diversification"
   ]
  },
  {
   "cell_type": "code",
   "execution_count": null,
   "id": "e164c69f-39e3-4574-bfa1-4c89e94c9ee1",
   "metadata": {},
   "outputs": [],
   "source": [
    "init_state = {\n",
    "    \"user_email\" : \"jane.moneypenny@bankwell.com\",\n",
    "    \"client_name\": \"Jessica Palmer\",\n",
    "    \"client_email\": \"jessica.palmer@hasbro.com\",\n",
    "    \"meeting_timestamp\": \"2024-02-04 14:30:00\",\n",
    "    \"meeting_description\": \"Hasbro - Discuss Portfolio Diversification and Bond Strategy\",\n",
    "}\n",
    "\n",
    "result = compiled_graph.invoke(init_state)\n",
    "summary_client_comms = result[\"summary_client_comms\"]\n",
    "fin_hold_summary_sourced= result[\"fin_hold_summary_sourced\"]\n",
    "client_news_summary_sourced= result[\"client_news_summary_sourced\"]\n",
    "# full_report = summary + \"\\n\\n### Macro Financial Snapshot\\n\\n\" + macro_table\n",
    "print(\"Client Communications Summary: \", summary_client_comms)\n",
    "print(\"------------------------------------\")\n",
    "print(\"Financial Holdings News Summary: \", fin_hold_summary_sourced)\n",
    "print(\"------------------------------------\")\n",
    "print(\"Client Company News Summary: \", client_news_summary_sourced)"
   ]
  },
  {
   "cell_type": "markdown",
   "id": "8d3bc2d7-9e39-4ba8-acaf-463e122b0388",
   "metadata": {},
   "source": [
    "## Test Case 3 - Hasbro H1 FX Hedging Strategy"
   ]
  },
  {
   "cell_type": "code",
   "execution_count": null,
   "id": "34a14598-f793-4730-9417-c3a8def6093a",
   "metadata": {},
   "outputs": [],
   "source": [
    "init_state = {\n",
    "    \"user_email\" : \"jane.moneypenny@bankwell.com\",\n",
    "    \"client_name\": \"Jessica Palmer\",\n",
    "    \"client_email\": \"jessica.palmer@hasbro.com\",\n",
    "    \"meeting_timestamp\": \"2023-12-11 11:00:00\",\n",
    "    \"meeting_description\": \"Hasbro - Finalize H1 2024 FX Hedging Strategy\",\n",
    "}\n",
    "\n",
    "result = compiled_graph.invoke(init_state)\n",
    "summary_client_comms = result[\"summary_client_comms\"]\n",
    "fin_hold_summary_sourced= result[\"fin_hold_summary_sourced\"]\n",
    "client_news_summary_sourced= result[\"client_news_summary_sourced\"]\n",
    "# full_report = summary + \"\\n\\n### Macro Financial Snapshot\\n\\n\" + macro_table\n",
    "print(\"Client Communications Summary: \", summary_client_comms)\n",
    "print(\"------------------------------------\")\n",
    "print(\"Financial Holdings News Summary: \", fin_hold_summary_sourced)\n",
    "print(\"------------------------------------\")\n",
    "print(\"Client Company News Summary: \", client_news_summary_sourced)"
   ]
  },
  {
   "cell_type": "markdown",
   "id": "1df1665f-5df3-4295-8582-f21dd83059e1",
   "metadata": {},
   "source": [
    "## Test Case 4 - Ryan Holloway"
   ]
  },
  {
   "cell_type": "code",
   "execution_count": null,
   "id": "956eeb6e-95f5-4faf-b9b0-4de1db0275ae",
   "metadata": {},
   "outputs": [],
   "source": [
    "init_state = {\n",
    "    \"user_email\" : \"ryan.holloway@bankwell.com\",\n",
    "    \"client_name\": \"Adam Clay\",\n",
    "    \"client_email\": \"adam.clay@compass.com\",\n",
    "    \"meeting_timestamp\": \"2024-03-26 11:00:00\",\n",
    "    \"meeting_description\": \"Compass - Annual Credit Facility Review Meeting\",\n",
    "}\n",
    "\n",
    "result = compiled_graph.invoke(init_state)\n",
    "summary_client_comms = result[\"summary_client_comms\"]\n",
    "fin_hold_summary_sourced= result[\"fin_hold_summary_sourced\"]\n",
    "client_news_summary_sourced= result[\"client_news_summary_sourced\"]\n",
    "# full_report = summary + \"\\n\\n### Macro Financial Snapshot\\n\\n\" + macro_table\n",
    "print(\"Client Communications Summary: \", summary_client_comms)\n",
    "print(\"------------------------------------\")\n",
    "print(\"Financial Holdings News Summary: \", fin_hold_summary_sourced)\n",
    "print(\"------------------------------------\")\n",
    "print(\"Client Company News Summary: \", client_news_summary_sourced)"
   ]
  },
  {
   "cell_type": "code",
   "execution_count": null,
   "id": "0be7d666-9dc8-4e74-957a-a2f2ded23e32",
   "metadata": {},
   "outputs": [],
   "source": []
  }
 ],
 "metadata": {
  "environment": {
   "kernel": "gf_currensee",
   "name": "workbench-notebooks.m129",
   "type": "gcloud",
   "uri": "us-docker.pkg.dev/deeplearning-platform-release/gcr.io/workbench-notebooks:m129"
  },
  "kernelspec": {
   "display_name": "gf_currensee",
   "language": "python",
   "name": "gf_currensee"
  },
  "language_info": {
   "codemirror_mode": {
    "name": "ipython",
    "version": 3
   },
   "file_extension": ".py",
   "mimetype": "text/x-python",
   "name": "python",
   "nbconvert_exporter": "python",
   "pygments_lexer": "ipython3",
   "version": "3.11.12"
  }
 },
 "nbformat": 4,
 "nbformat_minor": 5
}
