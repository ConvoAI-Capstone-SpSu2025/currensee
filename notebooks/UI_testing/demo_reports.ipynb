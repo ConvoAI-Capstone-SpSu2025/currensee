{
 "cells": [
  {
   "cell_type": "markdown",
   "id": "0fb951e8-977d-45e5-af16-2e82c8950f74",
   "metadata": {},
   "source": [
    "# Report Testing"
   ]
  },
  {
   "cell_type": "code",
   "execution_count": 1,
   "id": "d3bbdca0-8d66-4867-8c2d-404d9e815001",
   "metadata": {},
   "outputs": [
    {
     "name": "stderr",
     "output_type": "stream",
     "text": [
      "2025-08-03 13:46:27,952 - currensee.core.secrets - INFO - PROJECT_ID not found, attempting to load from .env file\n",
      "2025-08-03 13:46:27,957 - currensee.core.secrets - INFO - Loaded environment from ./.env\n",
      "2025-08-03 13:46:27,958 - currensee.core.secrets - INFO - SecretManager initialized with project_id: adsp-34002-on02-sopho-scribe\n"
     ]
    }
   ],
   "source": [
    "from currensee.agents.complete_graph import compiled_graph\n",
    "from currensee.agents.tools.finance_tools import (generate_macro_table,\n",
    "    retrieve_client_industry_news,\n",
    "    retrieve_holdings_news,\n",
    "    retrieve_macro_news,\n",
    "    summarize_finance_outputs)\n",
    "    \n",
    "import joblib\n",
    "import warnings\n",
    "warnings.filterwarnings(\"ignore\")\n",
    "from currensee.utils.output_utils_dynamic import (\n",
    "    generate_report,\n",
    "    format_news_summary_to_html,\n",
    "    format_paragraph_summary_to_html,\n",
    "    save_html_to_file,\n",
    "    convert_html_to_pdf,\n",
    ")\n",
    "\n",
    "\n",
    "warnings.filterwarnings(\"ignore\")\n"
   ]
  },
  {
   "cell_type": "code",
   "execution_count": 2,
   "id": "3e99500f-7615-4476-b072-f7d27cafead1",
   "metadata": {},
   "outputs": [
    {
     "name": "stdout",
     "output_type": "stream",
     "text": [
      "20250803\n"
     ]
    }
   ],
   "source": [
    "from datetime import date\n",
    "\n",
    "today = date.today()\n",
    "today_date = today.strftime(\"%Y%m%d\")\n",
    "print(today_date)"
   ]
  },
  {
   "cell_type": "code",
   "execution_count": 3,
   "id": "b7edde47-0cc3-45ea-bd04-820aec7c3e6b",
   "metadata": {},
   "outputs": [],
   "source": [
    "# Test 1 - Jessica Palmer\tHasbro - Discuss Portfolio Diversification and Risk Strategy\t2025-07-10 14:30:00 - Risk"
   ]
  },
  {
   "cell_type": "code",
   "execution_count": 4,
   "id": "df861a20-ea8f-4b17-ac21-3e8e968bdb34",
   "metadata": {},
   "outputs": [
    {
     "name": "stdout",
     "output_type": "stream",
     "text": [
      "DEBUG: Filtering date range is from 2025-05-17 to 2025-07-10\n",
      "DEBUG: Executing 6 site-specific queries for macro news\n",
      "DEBUG: Aggregated 36 unique macro results from all sites\n",
      "DEBUG: After filtering: 9 macro articles remain\n",
      "DEBUG: Filtering date range is from 2025-05-17 to 2025-07-10\n",
      "DEBUG: Executing 6 site-specific queries for client industry news\n",
      "DEBUG: Aggregated 48 unique results from all sites\n",
      "DEBUG: After filtering: 14 articles remain\n",
      "DEBUG: Filtering date range is from 2025-05-17 to 2025-07-10\n",
      "DEBUG: Processing holding 'Walmart Inc'\n",
      "DEBUG: Executing 6 site-specific queries for holding 'Walmart Inc'\n",
      "DEBUG: Aggregated 24 unique results for holding 'Walmart Inc'\n",
      "DEBUG: After filtering: 14 articles for holding 'Walmart Inc'\n",
      "DEBUG: Processing holding 'Amazon.com Inc'\n",
      "DEBUG: Executing 6 site-specific queries for holding 'Amazon.com Inc'\n",
      "DEBUG: Aggregated 24 unique results for holding 'Amazon.com Inc'\n",
      "DEBUG: After filtering: 13 articles for holding 'Amazon.com Inc'\n",
      "DEBUG: Processing holding 'Intel Corp'\n",
      "DEBUG: Executing 6 site-specific queries for holding 'Intel Corp'\n",
      "DEBUG: Aggregated 24 unique results for holding 'Intel Corp'\n",
      "DEBUG: After filtering: 14 articles for holding 'Intel Corp'\n",
      "DEBUG: Processing holding 'Meta Platforms Inc'\n",
      "DEBUG: Executing 6 site-specific queries for holding 'Meta Platforms Inc'\n",
      "DEBUG: Aggregated 24 unique results for holding 'Meta Platforms Inc'\n",
      "DEBUG: After filtering: 14 articles for holding 'Meta Platforms Inc'\n",
      "DEBUG: Processing holding 'Microsoft Corp'\n",
      "DEBUG: Executing 6 site-specific queries for holding 'Microsoft Corp'\n",
      "DEBUG: Aggregated 24 unique results for holding 'Microsoft Corp'\n",
      "DEBUG: After filtering: 14 articles for holding 'Microsoft Corp'\n",
      "DEBUG: Total holdings news articles after all filtering: 69\n",
      "DEBUG: Retrieved holdings output length5, type: <class 'dict'> \n",
      "DEBUG: has_industry: True\n",
      "DEBUG: has_holdings: True\n",
      "DEBUG: has_macro: True\n",
      "DEBUG: Summarizer input - Industry: 14 articles\n",
      "DEBUG: Summarizer input - Holdings: 5 articles\n",
      "DEBUG: Summarizer input - Macro: 9 articles\n",
      "\n",
      "===============================\n",
      "Generating report with the following preferences: \n",
      " Holdings Detail: full \n",
      " Client News Detail: full \n",
      " Macro News Detail: full\n",
      " Past Meeting Detail: short\n",
      " Meeting topic: Risk Management\n",
      "===============================\n",
      "\n"
     ]
    }
   ],
   "source": [
    "init_state = {\n",
    "    \"user_email\" : \"jane.moneypenny@bankwell.com\",\n",
    "    \"client_name\": \"Jessica Palmer\",\n",
    "    \"client_email\": \"jessica.palmer@hasbro.com\",\n",
    "    \"meeting_timestamp\": \"2025-07-10 14:30:00\",\n",
    "    \"meeting_description\": \"Hasbro - Discuss Portfolio Diversification and Risk Strategy\",\n",
    "}\n",
    "\n",
    "result = compiled_graph.invoke(init_state)"
   ]
  },
  {
   "cell_type": "code",
   "execution_count": 5,
   "id": "6f373f08-82d1-4cb7-bf8a-d562ba4605f0",
   "metadata": {},
   "outputs": [],
   "source": [
    "jessica_07_10 = generate_report(result)\n",
    "save_html_to_file(jessica_07_10, 'jessica_07_10.html')"
   ]
  },
  {
   "cell_type": "code",
   "execution_count": 6,
   "id": "0134917d-54b5-4c7c-93f7-b2022d98cfaa",
   "metadata": {},
   "outputs": [],
   "source": [
    "# Test 2 - Jessica - Jessica Palmer\tHasbro - ESG Integration Framework & Screening\t2025-05-17 14:00:00 ESG"
   ]
  },
  {
   "cell_type": "code",
   "execution_count": 7,
   "id": "6d765386-a313-46f6-8f14-9d1fe5d64090",
   "metadata": {},
   "outputs": [
    {
     "name": "stdout",
     "output_type": "stream",
     "text": [
      "DEBUG: Filtering date range is from 2025-05-01 to 2025-05-17\n",
      "DEBUG: Executing 6 site-specific queries for macro news\n",
      "DEBUG: Aggregated 36 unique macro results from all sites\n",
      "DEBUG: After filtering: 5 macro articles remain\n",
      "DEBUG: Filtering date range is from 2025-05-01 to 2025-05-17\n",
      "DEBUG: Executing 6 site-specific queries for client industry news\n",
      "DEBUG: Aggregated 48 unique results from all sites\n",
      "DEBUG: After filtering: 11 articles remain\n",
      "DEBUG: Filtering date range is from 2025-05-01 to 2025-05-17\n",
      "DEBUG: Processing holding 'Walmart Inc'\n",
      "DEBUG: Executing 6 site-specific queries for holding 'Walmart Inc'\n",
      "DEBUG: Aggregated 24 unique results for holding 'Walmart Inc'\n",
      "DEBUG: After filtering: 14 articles for holding 'Walmart Inc'\n",
      "DEBUG: Processing holding 'Amazon.com Inc'\n",
      "DEBUG: Executing 6 site-specific queries for holding 'Amazon.com Inc'\n",
      "DEBUG: Aggregated 24 unique results for holding 'Amazon.com Inc'\n",
      "DEBUG: After filtering: 13 articles for holding 'Amazon.com Inc'\n",
      "DEBUG: Processing holding 'Intel Corp'\n",
      "DEBUG: Executing 6 site-specific queries for holding 'Intel Corp'\n",
      "DEBUG: Aggregated 24 unique results for holding 'Intel Corp'\n",
      "DEBUG: After filtering: 15 articles for holding 'Intel Corp'\n",
      "DEBUG: Processing holding 'Meta Platforms Inc'\n",
      "DEBUG: Executing 6 site-specific queries for holding 'Meta Platforms Inc'\n",
      "DEBUG: Aggregated 24 unique results for holding 'Meta Platforms Inc'\n",
      "DEBUG: After filtering: 13 articles for holding 'Meta Platforms Inc'\n",
      "DEBUG: Processing holding 'Microsoft Corp'\n",
      "DEBUG: Executing 6 site-specific queries for holding 'Microsoft Corp'\n",
      "DEBUG: Aggregated 24 unique results for holding 'Microsoft Corp'\n",
      "DEBUG: After filtering: 14 articles for holding 'Microsoft Corp'\n",
      "DEBUG: Total holdings news articles after all filtering: 69\n",
      "DEBUG: Retrieved holdings output length5, type: <class 'dict'> \n",
      "DEBUG: has_industry: True\n",
      "DEBUG: has_holdings: True\n",
      "DEBUG: has_macro: True\n",
      "DEBUG: Summarizer input - Industry: 11 articles\n",
      "DEBUG: Summarizer input - Holdings: 5 articles\n",
      "DEBUG: Summarizer input - Macro: 5 articles\n",
      "\n",
      "===============================\n",
      "Generating report with the following preferences: \n",
      " Holdings Detail: none \n",
      " Client News Detail: full \n",
      " Macro News Detail: none\n",
      " Past Meeting Detail: full\n",
      " Meeting topic: ESG Investing\n",
      "===============================\n",
      "\n"
     ]
    }
   ],
   "source": [
    "init_state = {\n",
    "    \"user_email\" : \"jane.moneypenny@bankwell.com\",\n",
    "    \"client_name\": \"Jessica Palmer\",\n",
    "    \"client_email\": \"jessica.palmer@hasbro.com\",\n",
    "    \"meeting_timestamp\": \"2025-05-17 14:00:00\",\n",
    "    \"meeting_description\": \"ESG Integration Framework & Screening\",\n",
    "}\n",
    "\n",
    "result = compiled_graph.invoke(init_state)"
   ]
  },
  {
   "cell_type": "code",
   "execution_count": 8,
   "id": "9d8cba9c-49a2-47d1-9db8-a0224f1acead",
   "metadata": {},
   "outputs": [],
   "source": [
    "jessica_05_17 = generate_report(result)\n",
    "save_html_to_file(jessica_05_17, 'jessica_05_17.html')"
   ]
  },
  {
   "cell_type": "code",
   "execution_count": 9,
   "id": "69248ad3-dca8-45c7-8973-81c64647e27c",
   "metadata": {},
   "outputs": [],
   "source": [
    "#Jessica 3 - 3. Jessica Palmer\tHasbro - Strategic Targets Rollout Discussion\t2025-05-01 11:00:00 - General Finance"
   ]
  },
  {
   "cell_type": "code",
   "execution_count": 10,
   "id": "0044ec8d-7709-4a51-8b25-6552773b5d32",
   "metadata": {},
   "outputs": [
    {
     "name": "stdout",
     "output_type": "stream",
     "text": [
      "DEBUG: Filtering date range is from 2025-03-29 to 2025-05-01\n",
      "DEBUG: Executing 6 site-specific queries for macro news\n",
      "DEBUG: Aggregated 36 unique macro results from all sites\n",
      "DEBUG: After filtering: 11 macro articles remain\n",
      "DEBUG: Filtering date range is from 2025-03-29 to 2025-05-01\n",
      "DEBUG: Executing 6 site-specific queries for client industry news\n",
      "DEBUG: Aggregated 48 unique results from all sites\n",
      "DEBUG: After filtering: 13 articles remain\n",
      "DEBUG: Filtering date range is from 2025-03-29 to 2025-05-01\n",
      "DEBUG: Processing holding 'Walmart Inc'\n",
      "DEBUG: Executing 6 site-specific queries for holding 'Walmart Inc'\n",
      "DEBUG: Aggregated 24 unique results for holding 'Walmart Inc'\n",
      "DEBUG: After filtering: 13 articles for holding 'Walmart Inc'\n",
      "DEBUG: Processing holding 'Amazon.com Inc'\n",
      "DEBUG: Executing 6 site-specific queries for holding 'Amazon.com Inc'\n",
      "DEBUG: Aggregated 24 unique results for holding 'Amazon.com Inc'\n",
      "DEBUG: After filtering: 14 articles for holding 'Amazon.com Inc'\n",
      "DEBUG: Processing holding 'Intel Corp'\n",
      "DEBUG: Executing 6 site-specific queries for holding 'Intel Corp'\n",
      "DEBUG: Aggregated 24 unique results for holding 'Intel Corp'\n",
      "DEBUG: After filtering: 14 articles for holding 'Intel Corp'\n",
      "DEBUG: Processing holding 'Meta Platforms Inc'\n",
      "DEBUG: Executing 6 site-specific queries for holding 'Meta Platforms Inc'\n",
      "DEBUG: Aggregated 24 unique results for holding 'Meta Platforms Inc'\n",
      "DEBUG: After filtering: 14 articles for holding 'Meta Platforms Inc'\n",
      "DEBUG: Processing holding 'Microsoft Corp'\n",
      "DEBUG: Executing 6 site-specific queries for holding 'Microsoft Corp'\n",
      "DEBUG: Aggregated 24 unique results for holding 'Microsoft Corp'\n",
      "DEBUG: After filtering: 13 articles for holding 'Microsoft Corp'\n",
      "DEBUG: Total holdings news articles after all filtering: 68\n",
      "DEBUG: Retrieved holdings output length5, type: <class 'dict'> \n",
      "DEBUG: has_industry: True\n",
      "DEBUG: has_holdings: True\n",
      "DEBUG: has_macro: True\n",
      "DEBUG: Summarizer input - Industry: 13 articles\n",
      "DEBUG: Summarizer input - Holdings: 5 articles\n",
      "DEBUG: Summarizer input - Macro: 11 articles\n",
      "\n",
      "===============================\n",
      "Generating report with the following preferences: \n",
      " Holdings Detail: full \n",
      " Client News Detail: full \n",
      " Macro News Detail: full\n",
      " Past Meeting Detail: full\n",
      " Meeting topic: Risk Management\n",
      "===============================\n",
      "\n"
     ]
    }
   ],
   "source": [
    "init_state = {\n",
    "    \"user_email\" : \"jane.moneypenny@bankwell.com\",\n",
    "    \"client_name\": \"Jessica Palmer\",\n",
    "    \"client_email\": \"jessica.palmer@hasbro.com\",\n",
    "    \"meeting_timestamp\": \"2025-05-01 11:00:00\",\n",
    "    \"meeting_description\": \"Hasbro - Strategic Targets Rollout Discussion\",\n",
    "}\n",
    "\n",
    "result = compiled_graph.invoke(init_state)"
   ]
  },
  {
   "cell_type": "code",
   "execution_count": 11,
   "id": "768837d3-c723-4f48-9d5c-82357da41d2c",
   "metadata": {},
   "outputs": [],
   "source": [
    "jessica_05_01 = generate_report(result)\n",
    "save_html_to_file(jessica_05_01, 'jessica_05_01.html')"
   ]
  },
  {
   "cell_type": "code",
   "execution_count": 12,
   "id": "92b85956-0b48-40f4-944c-f8d70db00af4",
   "metadata": {},
   "outputs": [],
   "source": [
    "#Dennis 1 - Denise Moore Celestica - Mid-Year Objective Adjustment Review 2025-06-22 16:00:00 - Finance"
   ]
  },
  {
   "cell_type": "code",
   "execution_count": 13,
   "id": "888f50ba-5079-4bc5-ba48-fb9fb13d0fe5",
   "metadata": {},
   "outputs": [
    {
     "name": "stdout",
     "output_type": "stream",
     "text": [
      "DEBUG: Filtering date range is from 2025-05-25 to 2025-06-22\n",
      "DEBUG: Executing 6 site-specific queries for macro news\n",
      "DEBUG: Aggregated 36 unique macro results from all sites\n",
      "DEBUG: After filtering: 9 macro articles remain\n",
      "DEBUG: Filtering date range is from 2025-05-25 to 2025-06-22\n",
      "DEBUG: Executing 6 site-specific queries for client industry news\n",
      "DEBUG: Aggregated 48 unique results from all sites\n",
      "DEBUG: After filtering: 11 articles remain\n",
      "DEBUG: Filtering date range is from 2025-05-25 to 2025-06-22\n",
      "DEBUG: Processing holding 'Amazon.com Inc'\n",
      "DEBUG: Executing 6 site-specific queries for holding 'Amazon.com Inc'\n",
      "DEBUG: Aggregated 24 unique results for holding 'Amazon.com Inc'\n",
      "DEBUG: After filtering: 15 articles for holding 'Amazon.com Inc'\n",
      "DEBUG: Processing holding 'Meta Platforms Inc'\n",
      "DEBUG: Executing 6 site-specific queries for holding 'Meta Platforms Inc'\n",
      "DEBUG: Aggregated 24 unique results for holding 'Meta Platforms Inc'\n",
      "DEBUG: After filtering: 14 articles for holding 'Meta Platforms Inc'\n",
      "DEBUG: Processing holding 'Microsoft Corp'\n",
      "DEBUG: Executing 6 site-specific queries for holding 'Microsoft Corp'\n",
      "DEBUG: Aggregated 24 unique results for holding 'Microsoft Corp'\n",
      "DEBUG: After filtering: 14 articles for holding 'Microsoft Corp'\n",
      "DEBUG: Processing holding 'Amphenol Corp'\n",
      "DEBUG: Executing 6 site-specific queries for holding 'Amphenol Corp'\n",
      "DEBUG: Aggregated 24 unique results for holding 'Amphenol Corp'\n",
      "DEBUG: After filtering: 10 articles for holding 'Amphenol Corp'\n",
      "DEBUG: Processing holding 'Apple Inc'\n",
      "DEBUG: Executing 6 site-specific queries for holding 'Apple Inc'\n",
      "DEBUG: Aggregated 24 unique results for holding 'Apple Inc'\n",
      "DEBUG: After filtering: 15 articles for holding 'Apple Inc'\n",
      "DEBUG: Total holdings news articles after all filtering: 68\n",
      "DEBUG: Retrieved holdings output length5, type: <class 'dict'> \n",
      "DEBUG: has_industry: True\n",
      "DEBUG: has_holdings: True\n",
      "DEBUG: has_macro: True\n",
      "DEBUG: Summarizer input - Industry: 11 articles\n",
      "DEBUG: Summarizer input - Holdings: 5 articles\n",
      "DEBUG: Summarizer input - Macro: 9 articles\n",
      "\n",
      "===============================\n",
      "Generating report with the following preferences: \n",
      " Holdings Detail: full \n",
      " Client News Detail: full \n",
      " Macro News Detail: full\n",
      " Past Meeting Detail: short\n",
      " Meeting topic: Annual Review\n",
      "===============================\n",
      "\n"
     ]
    }
   ],
   "source": [
    "init_state = {\n",
    "    \"user_email\" : \"jane.moneypenny@bankwell.com\",\n",
    "    \"client_name\": \"Denise Moore\",\n",
    "    \"client_email\": \"denise.moore@celestica.com\",\n",
    "    \"meeting_timestamp\": \"2025-06-22 16:00:00\",\n",
    "    \"meeting_description\": \"Celestica - Mid-Year Objective Adjustment Review\",\n",
    "}\n",
    "\n",
    "result = compiled_graph.invoke(init_state)\n"
   ]
  },
  {
   "cell_type": "code",
   "execution_count": 14,
   "id": "ca164e6c-b161-4ae2-8817-49228f0ff33f",
   "metadata": {},
   "outputs": [],
   "source": [
    "denise_06_22 = generate_report(result)\n",
    "save_html_to_file(denise_06_22, 'denise_06_22.html')"
   ]
  },
  {
   "cell_type": "code",
   "execution_count": 15,
   "id": "cc8142e3-3e5a-4d87-ab03-6a03e0b521bc",
   "metadata": {},
   "outputs": [],
   "source": [
    "#Denise 2 - Denise Moore Celestica - Denise Moore Celestica - Cross-Border Regulation & Jurisdiction Briefing 2025-05-25 10:00:00 - Legal"
   ]
  },
  {
   "cell_type": "code",
   "execution_count": 16,
   "id": "627a124d-1cf4-430a-95d7-bece851f0a74",
   "metadata": {},
   "outputs": [
    {
     "name": "stdout",
     "output_type": "stream",
     "text": [
      "DEBUG: Filtering date range is from 2025-05-18 to 2025-05-25\n",
      "DEBUG: Executing 6 site-specific queries for macro news\n",
      "DEBUG: Aggregated 36 unique macro results from all sites\n",
      "DEBUG: After filtering: 9 macro articles remain\n",
      "DEBUG: Filtering date range is from 2025-05-18 to 2025-05-25\n",
      "DEBUG: Executing 6 site-specific queries for client industry news\n",
      "DEBUG: Aggregated 48 unique results from all sites\n",
      "DEBUG: After filtering: 10 articles remain\n",
      "DEBUG: Filtering date range is from 2025-05-18 to 2025-05-25\n",
      "DEBUG: Processing holding 'Amazon.com Inc'\n",
      "DEBUG: Executing 6 site-specific queries for holding 'Amazon.com Inc'\n",
      "DEBUG: Aggregated 24 unique results for holding 'Amazon.com Inc'\n",
      "DEBUG: After filtering: 16 articles for holding 'Amazon.com Inc'\n",
      "DEBUG: Processing holding 'Meta Platforms Inc'\n",
      "DEBUG: Executing 6 site-specific queries for holding 'Meta Platforms Inc'\n",
      "DEBUG: Aggregated 24 unique results for holding 'Meta Platforms Inc'\n",
      "DEBUG: After filtering: 14 articles for holding 'Meta Platforms Inc'\n",
      "DEBUG: Processing holding 'Microsoft Corp'\n",
      "DEBUG: Executing 6 site-specific queries for holding 'Microsoft Corp'\n",
      "DEBUG: Aggregated 24 unique results for holding 'Microsoft Corp'\n",
      "DEBUG: After filtering: 13 articles for holding 'Microsoft Corp'\n",
      "DEBUG: Processing holding 'Amphenol Corp'\n",
      "DEBUG: Executing 6 site-specific queries for holding 'Amphenol Corp'\n",
      "DEBUG: Aggregated 24 unique results for holding 'Amphenol Corp'\n",
      "DEBUG: After filtering: 10 articles for holding 'Amphenol Corp'\n",
      "DEBUG: Processing holding 'Apple Inc'\n",
      "DEBUG: Executing 6 site-specific queries for holding 'Apple Inc'\n",
      "DEBUG: Aggregated 24 unique results for holding 'Apple Inc'\n",
      "DEBUG: After filtering: 17 articles for holding 'Apple Inc'\n",
      "DEBUG: Total holdings news articles after all filtering: 70\n",
      "DEBUG: Retrieved holdings output length5, type: <class 'dict'> \n",
      "DEBUG: has_industry: True\n",
      "DEBUG: has_holdings: True\n",
      "DEBUG: has_macro: True\n",
      "DEBUG: Summarizer input - Industry: 10 articles\n",
      "DEBUG: Summarizer input - Holdings: 5 articles\n",
      "DEBUG: Summarizer input - Macro: 9 articles\n",
      "\n",
      "===============================\n",
      "Generating report with the following preferences: \n",
      " Holdings Detail: full \n",
      " Client News Detail: none \n",
      " Macro News Detail: full\n",
      " Past Meeting Detail: none\n",
      " Meeting topic: Regulatory\n",
      "===============================\n",
      "\n"
     ]
    }
   ],
   "source": [
    "init_state = {\n",
    "    \"user_email\" : \"jane.moneypenny@bankwell.com\",\n",
    "    \"client_name\": \"Denise Moore\",\n",
    "    \"client_email\": \"denise.moore@celestica.com\",\n",
    "    \"meeting_timestamp\": \"2025-05-25 10:00:00\",\n",
    "    \"meeting_description\": \"Celestica - Cross-Border Regulation & Jurisdiction Briefing\",\n",
    "}\n",
    "\n",
    "result = compiled_graph.invoke(init_state)\n"
   ]
  },
  {
   "cell_type": "code",
   "execution_count": 17,
   "id": "24002c38-05f1-45f6-b19b-fb98751e10f2",
   "metadata": {},
   "outputs": [],
   "source": [
    "denise_05_25 = generate_report(result)\n",
    "save_html_to_file(denise_05_25, 'denise_05_25.html')"
   ]
  },
  {
   "cell_type": "code",
   "execution_count": 18,
   "id": "37a07397-0eca-45dd-a625-6f6b9bb0c668",
   "metadata": {},
   "outputs": [],
   "source": [
    "#Denise 3 - Denise Moore Celestica - Carbon Score & ESG Exclusion Analysis 2025-05-18 10:00:00 - ESG"
   ]
  },
  {
   "cell_type": "code",
   "execution_count": 19,
   "id": "3cc61614-6139-4b1b-9483-d3ccb5f9ac4b",
   "metadata": {},
   "outputs": [
    {
     "name": "stdout",
     "output_type": "stream",
     "text": [
      "DEBUG: Filtering date range is from 2025-03-15 to 2025-05-18\n",
      "DEBUG: Executing 6 site-specific queries for macro news\n",
      "DEBUG: Aggregated 36 unique macro results from all sites\n",
      "DEBUG: After filtering: 8 macro articles remain\n",
      "DEBUG: Filtering date range is from 2025-03-15 to 2025-05-18\n",
      "DEBUG: Executing 6 site-specific queries for client industry news\n",
      "DEBUG: Aggregated 48 unique results from all sites\n",
      "DEBUG: After filtering: 11 articles remain\n",
      "DEBUG: Filtering date range is from 2025-03-15 to 2025-05-18\n",
      "DEBUG: Processing holding 'Amazon.com Inc'\n",
      "DEBUG: Executing 6 site-specific queries for holding 'Amazon.com Inc'\n",
      "DEBUG: Aggregated 24 unique results for holding 'Amazon.com Inc'\n",
      "DEBUG: After filtering: 13 articles for holding 'Amazon.com Inc'\n",
      "DEBUG: Processing holding 'Meta Platforms Inc'\n",
      "DEBUG: Executing 6 site-specific queries for holding 'Meta Platforms Inc'\n",
      "DEBUG: Aggregated 24 unique results for holding 'Meta Platforms Inc'\n",
      "DEBUG: After filtering: 14 articles for holding 'Meta Platforms Inc'\n",
      "DEBUG: Processing holding 'Microsoft Corp'\n",
      "DEBUG: Executing 6 site-specific queries for holding 'Microsoft Corp'\n",
      "DEBUG: Aggregated 24 unique results for holding 'Microsoft Corp'\n",
      "DEBUG: After filtering: 14 articles for holding 'Microsoft Corp'\n",
      "DEBUG: Processing holding 'Amphenol Corp'\n",
      "DEBUG: Executing 6 site-specific queries for holding 'Amphenol Corp'\n",
      "DEBUG: Aggregated 24 unique results for holding 'Amphenol Corp'\n",
      "DEBUG: After filtering: 10 articles for holding 'Amphenol Corp'\n",
      "DEBUG: Processing holding 'Apple Inc'\n",
      "DEBUG: Executing 6 site-specific queries for holding 'Apple Inc'\n",
      "DEBUG: Aggregated 24 unique results for holding 'Apple Inc'\n",
      "DEBUG: After filtering: 15 articles for holding 'Apple Inc'\n",
      "DEBUG: Total holdings news articles after all filtering: 66\n",
      "DEBUG: Retrieved holdings output length5, type: <class 'dict'> \n",
      "DEBUG: has_industry: True\n",
      "DEBUG: has_holdings: True\n",
      "DEBUG: has_macro: True\n",
      "DEBUG: Summarizer input - Industry: 11 articles\n",
      "DEBUG: Summarizer input - Holdings: 5 articles\n",
      "DEBUG: Summarizer input - Macro: 8 articles\n",
      "\n",
      "===============================\n",
      "Generating report with the following preferences: \n",
      " Holdings Detail: none \n",
      " Client News Detail: full \n",
      " Macro News Detail: none\n",
      " Past Meeting Detail: full\n",
      " Meeting topic: ESG Investing\n",
      "===============================\n",
      "\n"
     ]
    }
   ],
   "source": [
    "init_state = {\n",
    "    \"user_email\" : \"jane.moneypenny@bankwell.com\",\n",
    "    \"client_name\": \"Denise Moore\",\n",
    "    \"client_email\": \"denise.moore@celestica.com\",\n",
    "    \"meeting_timestamp\": \"2025-05-18 10:00:00\",\n",
    "    \"meeting_description\": \"Celestica - Cross-Border Regulation & Jurisdiction Briefing\",\n",
    "}\n",
    "\n",
    "result = compiled_graph.invoke(init_state)"
   ]
  },
  {
   "cell_type": "code",
   "execution_count": 20,
   "id": "47a8cfee-5b57-48e9-a4e4-3f7c431b3ba2",
   "metadata": {},
   "outputs": [],
   "source": [
    "denise_05_18 = generate_report(result)\n",
    "save_html_to_file(denise_05_18, 'denise_05_18.html')"
   ]
  },
  {
   "cell_type": "code",
   "execution_count": null,
   "id": "cad1889a-795c-432f-99c2-bb822aacae14",
   "metadata": {},
   "outputs": [],
   "source": []
  },
  {
   "cell_type": "code",
   "execution_count": 21,
   "id": "c3de192d-863b-40b0-bf56-6688e38998c2",
   "metadata": {},
   "outputs": [],
   "source": [
    "#Cynthis 1 - Cynthia Hobbs AbbVie - ESG Fund Portfolio & Benchmark Review 2025-05-03 10:00:00"
   ]
  },
  {
   "cell_type": "code",
   "execution_count": 22,
   "id": "71eafce0-0e04-40ff-bcab-8bfbdd169fa3",
   "metadata": {},
   "outputs": [
    {
     "name": "stdout",
     "output_type": "stream",
     "text": [
      "DEBUG: Filtering date range is from 2025-03-07 to 2025-05-03\n",
      "DEBUG: Executing 6 site-specific queries for macro news\n",
      "DEBUG: Aggregated 36 unique macro results from all sites\n",
      "DEBUG: After filtering: 10 macro articles remain\n",
      "DEBUG: Filtering date range is from 2025-03-07 to 2025-05-03\n",
      "DEBUG: Executing 6 site-specific queries for client industry news\n",
      "DEBUG: Aggregated 48 unique results from all sites\n",
      "DEBUG: After filtering: 13 articles remain\n",
      "DEBUG: Filtering date range is from 2025-03-07 to 2025-05-03\n",
      "DEBUG: Processing holding 'Amazon.com Inc'\n",
      "DEBUG: Executing 6 site-specific queries for holding 'Amazon.com Inc'\n",
      "DEBUG: Aggregated 24 unique results for holding 'Amazon.com Inc'\n",
      "DEBUG: After filtering: 13 articles for holding 'Amazon.com Inc'\n",
      "DEBUG: Processing holding 'Meta Platforms Inc'\n",
      "DEBUG: Executing 6 site-specific queries for holding 'Meta Platforms Inc'\n",
      "DEBUG: Aggregated 24 unique results for holding 'Meta Platforms Inc'\n",
      "DEBUG: After filtering: 14 articles for holding 'Meta Platforms Inc'\n",
      "DEBUG: Processing holding 'CRH PLC'\n",
      "DEBUG: Executing 6 site-specific queries for holding 'CRH PLC'\n",
      "DEBUG: Aggregated 21 unique results for holding 'CRH PLC'\n",
      "DEBUG: After filtering: 7 articles for holding 'CRH PLC'\n",
      "DEBUG: Processing holding 'Taiwan Semiconductor Manufacturing'\n",
      "DEBUG: Executing 6 site-specific queries for holding 'Taiwan Semiconductor Manufacturing'\n",
      "DEBUG: Aggregated 24 unique results for holding 'Taiwan Semiconductor Manufacturing'\n",
      "DEBUG: After filtering: 16 articles for holding 'Taiwan Semiconductor Manufacturing'\n",
      "DEBUG: Processing holding 'Microsoft Corp'\n",
      "DEBUG: Executing 6 site-specific queries for holding 'Microsoft Corp'\n",
      "DEBUG: Aggregated 24 unique results for holding 'Microsoft Corp'\n",
      "DEBUG: After filtering: 14 articles for holding 'Microsoft Corp'\n",
      "DEBUG: Total holdings news articles after all filtering: 64\n",
      "DEBUG: Retrieved holdings output length5, type: <class 'dict'> \n",
      "DEBUG: has_industry: True\n",
      "DEBUG: has_holdings: True\n",
      "DEBUG: has_macro: True\n",
      "DEBUG: Summarizer input - Industry: 13 articles\n",
      "DEBUG: Summarizer input - Holdings: 5 articles\n",
      "DEBUG: Summarizer input - Macro: 10 articles\n",
      "\n",
      "===============================\n",
      "Generating report with the following preferences: \n",
      " Holdings Detail: none \n",
      " Client News Detail: full \n",
      " Macro News Detail: none\n",
      " Past Meeting Detail: full\n",
      " Meeting topic: ESG Investing\n",
      "===============================\n",
      "\n"
     ]
    }
   ],
   "source": [
    "init_state = {\n",
    "    \"user_email\" : \"jane.moneypenny@bankwell.com\",\n",
    "    \"client_name\": \"Cynthia Hobbs\",\n",
    "    \"client_email\": \"cynthia.hobbs@abbvie.com\",\n",
    "    \"meeting_timestamp\": \"2025-05-03 10:00:00\",\n",
    "    \"meeting_description\": \"AbbVie - ESG Fund Portfolio & Benchmark Review\",\n",
    "}\n",
    "\n",
    "result = compiled_graph.invoke(init_state)"
   ]
  },
  {
   "cell_type": "code",
   "execution_count": 23,
   "id": "a07b97b5-68d1-41e7-bd2b-a3a932119910",
   "metadata": {},
   "outputs": [],
   "source": [
    "cynthia_05_03 = generate_report(result)\n",
    "save_html_to_file(cynthia_05_03, 'cynthia_05_03.html')"
   ]
  },
  {
   "cell_type": "code",
   "execution_count": 24,
   "id": "e9ab5683-2a70-4fa5-b1f1-3b4145bb47d0",
   "metadata": {},
   "outputs": [],
   "source": [
    "#Cythina 2- Cynthia Hobbs AbbVie - Growth & Fixed Income Launch Overview 2025-05-24 15:00:00\n"
   ]
  },
  {
   "cell_type": "code",
   "execution_count": 25,
   "id": "e23179c7-9063-4ed9-b2c3-69d20a9672ec",
   "metadata": {},
   "outputs": [
    {
     "name": "stdout",
     "output_type": "stream",
     "text": [
      "DEBUG: Filtering date range is from 2025-05-03 to 2025-05-24\n",
      "DEBUG: Executing 6 site-specific queries for macro news\n",
      "DEBUG: Aggregated 36 unique macro results from all sites\n",
      "DEBUG: After filtering: 7 macro articles remain\n",
      "DEBUG: Filtering date range is from 2025-05-03 to 2025-05-24\n",
      "DEBUG: Executing 6 site-specific queries for client industry news\n",
      "DEBUG: Aggregated 48 unique results from all sites\n",
      "DEBUG: After filtering: 14 articles remain\n",
      "DEBUG: Filtering date range is from 2025-05-03 to 2025-05-24\n",
      "DEBUG: Processing holding 'Amazon.com Inc'\n",
      "DEBUG: Executing 6 site-specific queries for holding 'Amazon.com Inc'\n",
      "DEBUG: Aggregated 24 unique results for holding 'Amazon.com Inc'\n",
      "DEBUG: After filtering: 16 articles for holding 'Amazon.com Inc'\n",
      "DEBUG: Processing holding 'Meta Platforms Inc'\n",
      "DEBUG: Executing 6 site-specific queries for holding 'Meta Platforms Inc'\n",
      "DEBUG: Aggregated 24 unique results for holding 'Meta Platforms Inc'\n",
      "DEBUG: After filtering: 14 articles for holding 'Meta Platforms Inc'\n",
      "DEBUG: Processing holding 'CRH PLC'\n",
      "DEBUG: Executing 6 site-specific queries for holding 'CRH PLC'\n",
      "DEBUG: Aggregated 21 unique results for holding 'CRH PLC'\n",
      "DEBUG: After filtering: 8 articles for holding 'CRH PLC'\n",
      "DEBUG: Processing holding 'Taiwan Semiconductor Manufacturing'\n",
      "DEBUG: Executing 6 site-specific queries for holding 'Taiwan Semiconductor Manufacturing'\n",
      "DEBUG: Aggregated 24 unique results for holding 'Taiwan Semiconductor Manufacturing'\n",
      "DEBUG: After filtering: 16 articles for holding 'Taiwan Semiconductor Manufacturing'\n",
      "DEBUG: Processing holding 'Microsoft Corp'\n",
      "DEBUG: Executing 6 site-specific queries for holding 'Microsoft Corp'\n",
      "DEBUG: Aggregated 24 unique results for holding 'Microsoft Corp'\n",
      "DEBUG: After filtering: 13 articles for holding 'Microsoft Corp'\n",
      "DEBUG: Total holdings news articles after all filtering: 67\n",
      "DEBUG: Retrieved holdings output length5, type: <class 'dict'> \n",
      "DEBUG: has_industry: True\n",
      "DEBUG: has_holdings: True\n",
      "DEBUG: has_macro: True\n",
      "DEBUG: Summarizer input - Industry: 14 articles\n",
      "DEBUG: Summarizer input - Holdings: 5 articles\n",
      "DEBUG: Summarizer input - Macro: 7 articles\n",
      "\n",
      "===============================\n",
      "Generating report with the following preferences: \n",
      " Holdings Detail: full \n",
      " Client News Detail: full \n",
      " Macro News Detail: full\n",
      " Past Meeting Detail: none\n",
      " Meeting topic: Risk Management\n",
      "===============================\n",
      "\n"
     ]
    }
   ],
   "source": [
    "init_state = {\n",
    "    \"user_email\" : \"jane.moneypenny@bankwell.com\",\n",
    "    \"client_name\": \"Cynthia Hobbs\",\n",
    "    \"client_email\": \"cynthia.hobbs@abbvie.com\",\n",
    "    \"meeting_timestamp\": \"2025-05-24 15:00:00\",\n",
    "    \"meeting_description\": \"AbbVie - Growth & Fixed Income Launch Overview\",\n",
    "}\n",
    "\n",
    "result = compiled_graph.invoke(init_state)"
   ]
  },
  {
   "cell_type": "code",
   "execution_count": 26,
   "id": "0140a7ff-5e79-4af3-9db2-598f1156d525",
   "metadata": {},
   "outputs": [],
   "source": [
    "cynthia_05_24 = generate_report(result)\n",
    "save_html_to_file(cynthia_05_24, 'cynthia_05_24.html')"
   ]
  },
  {
   "cell_type": "code",
   "execution_count": null,
   "id": "2fedceb9-5c1b-4c3a-92ff-bb3f076f4bd5",
   "metadata": {},
   "outputs": [],
   "source": []
  },
  {
   "cell_type": "code",
   "execution_count": 27,
   "id": "e59e130c-dc42-49d4-9f75-4e783e587ace",
   "metadata": {},
   "outputs": [],
   "source": [
    "#Cynthis 3 - Cynthia Hobbs AbbVie - Annual Plan & Strategic Priorities 2025-06-13 16:00:00"
   ]
  },
  {
   "cell_type": "code",
   "execution_count": 28,
   "id": "af26155a-00ed-4980-ac00-0609a80bf2ca",
   "metadata": {},
   "outputs": [
    {
     "name": "stdout",
     "output_type": "stream",
     "text": [
      "DEBUG: Filtering date range is from 2025-05-24 to 2025-06-13\n",
      "DEBUG: Executing 6 site-specific queries for macro news\n",
      "DEBUG: Aggregated 36 unique macro results from all sites\n",
      "DEBUG: After filtering: 10 macro articles remain\n",
      "DEBUG: Filtering date range is from 2025-05-24 to 2025-06-13\n",
      "DEBUG: Executing 6 site-specific queries for client industry news\n",
      "DEBUG: Aggregated 48 unique results from all sites\n",
      "DEBUG: After filtering: 13 articles remain\n",
      "DEBUG: Filtering date range is from 2025-05-24 to 2025-06-13\n",
      "DEBUG: Processing holding 'Amazon.com Inc'\n",
      "DEBUG: Executing 6 site-specific queries for holding 'Amazon.com Inc'\n",
      "DEBUG: Aggregated 24 unique results for holding 'Amazon.com Inc'\n",
      "DEBUG: After filtering: 16 articles for holding 'Amazon.com Inc'\n",
      "DEBUG: Processing holding 'Meta Platforms Inc'\n",
      "DEBUG: Executing 6 site-specific queries for holding 'Meta Platforms Inc'\n",
      "DEBUG: Aggregated 24 unique results for holding 'Meta Platforms Inc'\n",
      "DEBUG: After filtering: 14 articles for holding 'Meta Platforms Inc'\n",
      "DEBUG: Processing holding 'CRH PLC'\n",
      "DEBUG: Executing 6 site-specific queries for holding 'CRH PLC'\n",
      "DEBUG: Aggregated 21 unique results for holding 'CRH PLC'\n",
      "DEBUG: After filtering: 7 articles for holding 'CRH PLC'\n",
      "DEBUG: Processing holding 'Taiwan Semiconductor Manufacturing'\n",
      "DEBUG: Executing 6 site-specific queries for holding 'Taiwan Semiconductor Manufacturing'\n",
      "DEBUG: Aggregated 24 unique results for holding 'Taiwan Semiconductor Manufacturing'\n",
      "DEBUG: After filtering: 15 articles for holding 'Taiwan Semiconductor Manufacturing'\n",
      "DEBUG: Processing holding 'Microsoft Corp'\n",
      "DEBUG: Executing 6 site-specific queries for holding 'Microsoft Corp'\n",
      "DEBUG: Aggregated 24 unique results for holding 'Microsoft Corp'\n",
      "DEBUG: After filtering: 14 articles for holding 'Microsoft Corp'\n",
      "DEBUG: Total holdings news articles after all filtering: 66\n",
      "DEBUG: Retrieved holdings output length5, type: <class 'dict'> \n",
      "DEBUG: has_industry: True\n",
      "DEBUG: has_holdings: True\n",
      "DEBUG: has_macro: True\n",
      "DEBUG: Summarizer input - Industry: 13 articles\n",
      "DEBUG: Summarizer input - Holdings: 5 articles\n",
      "DEBUG: Summarizer input - Macro: 10 articles\n",
      "\n",
      "===============================\n",
      "Generating report with the following preferences: \n",
      " Holdings Detail: full \n",
      " Client News Detail: full \n",
      " Macro News Detail: full\n",
      " Past Meeting Detail: short\n",
      " Meeting topic: Annual Review\n",
      "===============================\n",
      "\n"
     ]
    }
   ],
   "source": [
    "init_state = {\n",
    "    \"user_email\" : \"jane.moneypenny@bankwell.com\",\n",
    "    \"client_name\": \"Cynthia Hobbs\",\n",
    "    \"client_email\": \"cynthia.hobbs@abbvie.com\",\n",
    "    \"meeting_timestamp\": \"2025-06-13 16:00:00\",\n",
    "    \"meeting_description\": \"AbbVie - Annual Plan & Strategic Priorities\",\n",
    "}\n",
    "\n",
    "result = compiled_graph.invoke(init_state)"
   ]
  },
  {
   "cell_type": "code",
   "execution_count": 29,
   "id": "9c6bb652-9aa1-47a0-83d6-5211a285874d",
   "metadata": {},
   "outputs": [],
   "source": [
    "cynthia_06_13 = generate_report(result)\n",
    "save_html_to_file(cynthia_06_13, 'cynthia_06_13.html')"
   ]
  },
  {
   "cell_type": "code",
   "execution_count": null,
   "id": "1b5dcf9b-94e5-4325-bc58-6084904a7364",
   "metadata": {},
   "outputs": [],
   "source": []
  },
  {
   "cell_type": "code",
   "execution_count": null,
   "id": "ffb15139-1e4c-4154-afec-32f3820b9477",
   "metadata": {},
   "outputs": [],
   "source": []
  }
 ],
 "metadata": {
  "environment": {
   "kernel": "xf_currensee",
   "name": "workbench-notebooks.m129",
   "type": "gcloud",
   "uri": "us-docker.pkg.dev/deeplearning-platform-release/gcr.io/workbench-notebooks:m129"
  },
  "kernelspec": {
   "display_name": "xf_currensee",
   "language": "python",
   "name": "xf_currensee"
  },
  "language_info": {
   "codemirror_mode": {
    "name": "ipython",
    "version": 3
   },
   "file_extension": ".py",
   "mimetype": "text/x-python",
   "name": "python",
   "nbconvert_exporter": "python",
   "pygments_lexer": "ipython3",
   "version": "3.11.12"
  }
 },
 "nbformat": 4,
 "nbformat_minor": 5
}
