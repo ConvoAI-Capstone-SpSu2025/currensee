{
 "cells": [
  {
   "cell_type": "code",
   "execution_count": 1,
   "id": "e4eb1596-13e2-4fb1-8f42-c9b51f0d56e7",
   "metadata": {},
   "outputs": [
    {
     "name": "stderr",
     "output_type": "stream",
     "text": [
      "2025-07-06 16:52:29,343 - currensee.core.secrets - INFO - PROJECT_ID not found, attempting to load from .env file\n",
      "2025-07-06 16:52:29,346 - currensee.core.secrets - INFO - Loaded environment from ./.env\n",
      "2025-07-06 16:52:29,347 - currensee.core.secrets - INFO - SecretManager initialized with project_id: adsp-34002-on02-sopho-scribe\n"
     ]
    }
   ],
   "source": [
    "from google.cloud import secretmanager\n",
    "import pandas as pd\n",
    "import numpy as np\n",
    "from currensee.utils.db_utils import create_pg_engine\n",
    "from sqlalchemy import text\n",
    "\n",
    "import pandas as pd\n",
    "import random\n",
    "import os\n",
    "import re\n",
    "from faker import Faker\n"
   ]
  },
  {
   "cell_type": "code",
   "execution_count": 2,
   "id": "d114ed45-fdf8-4662-9177-09857e288775",
   "metadata": {},
   "outputs": [],
   "source": [
    "# Define DB_NAME\n",
    "DB_NAME = \"crm_outlook\""
   ]
  },
  {
   "cell_type": "code",
   "execution_count": 3,
   "id": "2853ad5c-1a7c-42ed-8617-b476816021d8",
   "metadata": {},
   "outputs": [],
   "source": [
    "engine = create_pg_engine(db_name=DB_NAME)"
   ]
  },
  {
   "cell_type": "code",
   "execution_count": 4,
   "id": "41d8c04f-fa2b-496f-a0e1-04e2ca33be83",
   "metadata": {},
   "outputs": [
    {
     "data": {
      "text/html": [
       "<div>\n",
       "<style scoped>\n",
       "    .dataframe tbody tr th:only-of-type {\n",
       "        vertical-align: middle;\n",
       "    }\n",
       "\n",
       "    .dataframe tbody tr th {\n",
       "        vertical-align: top;\n",
       "    }\n",
       "\n",
       "    .dataframe thead th {\n",
       "        text-align: right;\n",
       "    }\n",
       "</style>\n",
       "<table border=\"1\" class=\"dataframe\">\n",
       "  <thead>\n",
       "    <tr style=\"text-align: right;\">\n",
       "      <th></th>\n",
       "      <th>meeting_timestamp</th>\n",
       "      <th>host</th>\n",
       "      <th>host_email</th>\n",
       "      <th>invitees</th>\n",
       "      <th>invitee_emails</th>\n",
       "      <th>meeting_subject</th>\n",
       "    </tr>\n",
       "  </thead>\n",
       "  <tbody>\n",
       "    <tr>\n",
       "      <th>0</th>\n",
       "      <td>2018-07-17 15:00:00</td>\n",
       "      <td>Jane Moneypenny</td>\n",
       "      <td>jane.moneypenny1@outlook.com</td>\n",
       "      <td>Cynthia Hobbs</td>\n",
       "      <td>cynthia.hobbs@abbvie.com</td>\n",
       "      <td>AbbVie - Introductory Call &amp; Bankwell Services...</td>\n",
       "    </tr>\n",
       "    <tr>\n",
       "      <th>1</th>\n",
       "      <td>2018-07-24 14:00:00</td>\n",
       "      <td>Jane Moneypenny</td>\n",
       "      <td>jane.moneypenny1@outlook.com</td>\n",
       "      <td>Jennifer Phelps</td>\n",
       "      <td>jennifer.phelps@aerovironment.com</td>\n",
       "      <td>AeroVironment - Initial Discussion on Financia...</td>\n",
       "    </tr>\n",
       "    <tr>\n",
       "      <th>2</th>\n",
       "      <td>2018-08-07 10:00:00</td>\n",
       "      <td>Jane Moneypenny</td>\n",
       "      <td>jane.moneypenny1@outlook.com</td>\n",
       "      <td>Kyle Waters</td>\n",
       "      <td>kyle.waters@amedisys.com</td>\n",
       "      <td>Amedisys - Discussing Cash Management Needs</td>\n",
       "    </tr>\n",
       "    <tr>\n",
       "      <th>3</th>\n",
       "      <td>2018-08-15 11:00:00</td>\n",
       "      <td>Jane Moneypenny</td>\n",
       "      <td>jane.moneypenny1@outlook.com</td>\n",
       "      <td>Kyle Waters</td>\n",
       "      <td>kyle.waters@amedisys.com</td>\n",
       "      <td>Amedisys - Cash Concentration Services Demo</td>\n",
       "    </tr>\n",
       "    <tr>\n",
       "      <th>4</th>\n",
       "      <td>2018-08-29 14:00:00</td>\n",
       "      <td>Jane Moneypenny</td>\n",
       "      <td>jane.moneypenny1@outlook.com</td>\n",
       "      <td>Denise Moore</td>\n",
       "      <td>denise.moore@celestica.com</td>\n",
       "      <td>Celestica - Initial Discussion on Liquidity Ma...</td>\n",
       "    </tr>\n",
       "  </tbody>\n",
       "</table>\n",
       "</div>"
      ],
      "text/plain": [
       "     meeting_timestamp             host                    host_email  \\\n",
       "0  2018-07-17 15:00:00  Jane Moneypenny  jane.moneypenny1@outlook.com   \n",
       "1  2018-07-24 14:00:00  Jane Moneypenny  jane.moneypenny1@outlook.com   \n",
       "2  2018-08-07 10:00:00  Jane Moneypenny  jane.moneypenny1@outlook.com   \n",
       "3  2018-08-15 11:00:00  Jane Moneypenny  jane.moneypenny1@outlook.com   \n",
       "4  2018-08-29 14:00:00  Jane Moneypenny  jane.moneypenny1@outlook.com   \n",
       "\n",
       "          invitees                     invitee_emails  \\\n",
       "0    Cynthia Hobbs           cynthia.hobbs@abbvie.com   \n",
       "1  Jennifer Phelps  jennifer.phelps@aerovironment.com   \n",
       "2      Kyle Waters           kyle.waters@amedisys.com   \n",
       "3      Kyle Waters           kyle.waters@amedisys.com   \n",
       "4     Denise Moore         denise.moore@celestica.com   \n",
       "\n",
       "                                     meeting_subject  \n",
       "0  AbbVie - Introductory Call & Bankwell Services...  \n",
       "1  AeroVironment - Initial Discussion on Financia...  \n",
       "2        Amedisys - Discussing Cash Management Needs  \n",
       "3        Amedisys - Cash Concentration Services Demo  \n",
       "4  Celestica - Initial Discussion on Liquidity Ma...  "
      ]
     },
     "execution_count": 4,
     "metadata": {},
     "output_type": "execute_result"
    }
   ],
   "source": [
    "# meetings between jane and her clients \n",
    "# have times be after 2023\n",
    "df1 = pd.read_sql(\"SELECT * FROM meeting_data\", con=engine)\n",
    "df1.head()"
   ]
  },
  {
   "cell_type": "code",
   "execution_count": 5,
   "id": "64301a67-dec1-4a38-afde-710942a36806",
   "metadata": {},
   "outputs": [
    {
     "data": {
      "text/html": [
       "<div>\n",
       "<style scoped>\n",
       "    .dataframe tbody tr th:only-of-type {\n",
       "        vertical-align: middle;\n",
       "    }\n",
       "\n",
       "    .dataframe tbody tr th {\n",
       "        vertical-align: top;\n",
       "    }\n",
       "\n",
       "    .dataframe thead th {\n",
       "        text-align: right;\n",
       "    }\n",
       "</style>\n",
       "<table border=\"1\" class=\"dataframe\">\n",
       "  <thead>\n",
       "    <tr style=\"text-align: right;\">\n",
       "      <th></th>\n",
       "      <th>email_timestamp</th>\n",
       "      <th>to_names</th>\n",
       "      <th>to_emails</th>\n",
       "      <th>from_name</th>\n",
       "      <th>from_email</th>\n",
       "      <th>email_subject</th>\n",
       "      <th>email_body</th>\n",
       "    </tr>\n",
       "  </thead>\n",
       "  <tbody>\n",
       "    <tr>\n",
       "      <th>0</th>\n",
       "      <td>2018-07-15 09:30:00</td>\n",
       "      <td>Cynthia Hobbs</td>\n",
       "      <td>cynthia.hobbs@abbvie.com</td>\n",
       "      <td>Jane Moneypenny</td>\n",
       "      <td>jane.moneypenny1@outlook.com</td>\n",
       "      <td>Introduction - Bankwell Financial Services for...</td>\n",
       "      <td>Hi Cynthia,\\n\\nMy name is Jane Moneypenny, and...</td>\n",
       "    </tr>\n",
       "    <tr>\n",
       "      <th>1</th>\n",
       "      <td>2018-07-16 11:05:00</td>\n",
       "      <td>Jane Moneypenny</td>\n",
       "      <td>jane.moneypenny1@outlook.com</td>\n",
       "      <td>Cynthia Hobbs</td>\n",
       "      <td>cynthia.hobbs@abbvie.com</td>\n",
       "      <td>Re: Introduction - Bankwell Financial Services...</td>\n",
       "      <td>Hi Jane,\\n\\nThank you for reaching out. AbbVie...</td>\n",
       "    </tr>\n",
       "    <tr>\n",
       "      <th>2</th>\n",
       "      <td>2018-07-16 11:15:00</td>\n",
       "      <td>Cynthia Hobbs</td>\n",
       "      <td>cynthia.hobbs@abbvie.com</td>\n",
       "      <td>Jane Moneypenny</td>\n",
       "      <td>jane.moneypenny1@outlook.com</td>\n",
       "      <td>Re: Introduction - Bankwell Financial Services...</td>\n",
       "      <td>Hi Cynthia,\\n\\nTuesday at 2 PM CT works perfec...</td>\n",
       "    </tr>\n",
       "    <tr>\n",
       "      <th>3</th>\n",
       "      <td>2018-08-01 14:00:00</td>\n",
       "      <td>Jennifer Phelps</td>\n",
       "      <td>jennifer.phelps@aerovironment.com</td>\n",
       "      <td>Jane Moneypenny</td>\n",
       "      <td>jane.moneypenny1@outlook.com</td>\n",
       "      <td>Follow Up: AeroVironment Financial Needs</td>\n",
       "      <td>Hi Jennifer,\\n\\nIt was a pleasure speaking wit...</td>\n",
       "    </tr>\n",
       "    <tr>\n",
       "      <th>4</th>\n",
       "      <td>2018-08-02 10:15:00</td>\n",
       "      <td>Jane Moneypenny</td>\n",
       "      <td>jane.moneypenny1@outlook.com</td>\n",
       "      <td>Jennifer Phelps</td>\n",
       "      <td>jennifer.phelps@aerovironment.com</td>\n",
       "      <td>Re: Follow Up: AeroVironment Financial Needs</td>\n",
       "      <td>Hi Jane,\\n\\nThanks for sending this over. The ...</td>\n",
       "    </tr>\n",
       "  </tbody>\n",
       "</table>\n",
       "</div>"
      ],
      "text/plain": [
       "       email_timestamp         to_names                          to_emails  \\\n",
       "0  2018-07-15 09:30:00    Cynthia Hobbs           cynthia.hobbs@abbvie.com   \n",
       "1  2018-07-16 11:05:00  Jane Moneypenny       jane.moneypenny1@outlook.com   \n",
       "2  2018-07-16 11:15:00    Cynthia Hobbs           cynthia.hobbs@abbvie.com   \n",
       "3  2018-08-01 14:00:00  Jennifer Phelps  jennifer.phelps@aerovironment.com   \n",
       "4  2018-08-02 10:15:00  Jane Moneypenny       jane.moneypenny1@outlook.com   \n",
       "\n",
       "         from_name                         from_email  \\\n",
       "0  Jane Moneypenny       jane.moneypenny1@outlook.com   \n",
       "1    Cynthia Hobbs           cynthia.hobbs@abbvie.com   \n",
       "2  Jane Moneypenny       jane.moneypenny1@outlook.com   \n",
       "3  Jane Moneypenny       jane.moneypenny1@outlook.com   \n",
       "4  Jennifer Phelps  jennifer.phelps@aerovironment.com   \n",
       "\n",
       "                                       email_subject  \\\n",
       "0  Introduction - Bankwell Financial Services for...   \n",
       "1  Re: Introduction - Bankwell Financial Services...   \n",
       "2  Re: Introduction - Bankwell Financial Services...   \n",
       "3           Follow Up: AeroVironment Financial Needs   \n",
       "4       Re: Follow Up: AeroVironment Financial Needs   \n",
       "\n",
       "                                          email_body  \n",
       "0  Hi Cynthia,\\n\\nMy name is Jane Moneypenny, and...  \n",
       "1  Hi Jane,\\n\\nThank you for reaching out. AbbVie...  \n",
       "2  Hi Cynthia,\\n\\nTuesday at 2 PM CT works perfec...  \n",
       "3  Hi Jennifer,\\n\\nIt was a pleasure speaking wit...  \n",
       "4  Hi Jane,\\n\\nThanks for sending this over. The ...  "
      ]
     },
     "execution_count": 5,
     "metadata": {},
     "output_type": "execute_result"
    }
   ],
   "source": [
    "# emails between jane and her clients\n",
    "df1 = pd.read_sql(\"SELECT * FROM email_data\", con=engine)\n",
    "df1.head()"
   ]
  },
  {
   "cell_type": "code",
   "execution_count": 6,
   "id": "b61858aa-123c-494e-950b-b85fb663df12",
   "metadata": {},
   "outputs": [],
   "source": [
    "# Add a couple meetings between jane and a client company about \n",
    "#relationship, \n",
    "#portfolio review, \n",
    "#regulatory,\n",
    "#etc."
   ]
  },
  {
   "cell_type": "code",
   "execution_count": null,
   "id": "8904cedd-2562-4212-b939-3de2bb2dab65",
   "metadata": {},
   "outputs": [],
   "source": [
    "INSERT INTO table_name (column1, column2, ...)\n",
    "VALUES (value1, value2, ...);"
   ]
  },
  {
   "cell_type": "code",
   "execution_count": null,
   "id": "1412026e-876f-435f-b6ad-9fb5f2d6ad17",
   "metadata": {},
   "outputs": [],
   "source": [
    "# add corresponding emails leading up to the meetings about the topic"
   ]
  }
 ],
 "metadata": {
  "environment": {
   "kernel": "lc_currensee",
   "name": "workbench-notebooks.m129",
   "type": "gcloud",
   "uri": "us-docker.pkg.dev/deeplearning-platform-release/gcr.io/workbench-notebooks:m129"
  },
  "kernelspec": {
   "display_name": "lc_currensee",
   "language": "python",
   "name": "lc_currensee"
  },
  "language_info": {
   "codemirror_mode": {
    "name": "ipython",
    "version": 3
   },
   "file_extension": ".py",
   "mimetype": "text/x-python",
   "name": "python",
   "nbconvert_exporter": "python",
   "pygments_lexer": "ipython3",
   "version": "3.11.12"
  }
 },
 "nbformat": 4,
 "nbformat_minor": 5
}
