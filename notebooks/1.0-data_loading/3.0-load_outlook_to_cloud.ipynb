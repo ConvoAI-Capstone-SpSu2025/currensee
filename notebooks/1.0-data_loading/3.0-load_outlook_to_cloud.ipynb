{
 "cells": [
  {
   "cell_type": "markdown",
   "id": "1cc7edf7-ab52-402a-9a2f-180423c151a8",
   "metadata": {},
   "source": [
    "# Sample CloudSql Connection"
   ]
  },
  {
   "cell_type": "markdown",
   "id": "d6e41979-b411-4577-a8e0-4a4dbdee0f98",
   "metadata": {},
   "source": [
    "# Need to set up for each instance - Add your VM's IP to the Authorized Networks\n",
    "**1. Find the external IP of your JupyterLab VM**\n",
    "https://console.cloud.google.com/compute/instances?project=adsp-34002-on02-sopho-scribe&authuser=1\n",
    " * Go to VM Instances\n",
    " * Find your JupyterLab VM\n",
    " * Copy the External IP address (looks like 34.91.100.45).\n",
    "\n",
    "**2. Add the VM's IP to your Cloud SQL authorized networks**\n",
    "https://console.cloud.google.com/sql/instances/currensee-sql/connections/networking?authuser=1&project=adsp-34002-on02-sopho-scribe\n",
    "* Go to Cloud SQL instances. \n",
    "* Click your instance.\n",
    "* Click Connections in the left sidebar.\n",
    "* Scroll to Authorized networks → Add network.\n",
    "* Name: anything like jupyterlab-vm\n",
    "* Network: paste the external IP you just copied (e.g., 34.91.100.45/32)\n",
    "* IMPORTANT: Add /32 to allow only that single IP.\n",
    "* Click Save.\n",
    "\n",
    "It will take ~30 seconds to update."
   ]
  },
  {
   "cell_type": "code",
   "execution_count": null,
   "id": "51ca0f95-d1f8-487e-b9b2-abdf685f19cf",
   "metadata": {},
   "outputs": [],
   "source": [
    "from google.cloud import secretmanager\n",
    "import pandas as pd\n",
    "from currensee.utils.db_utils import create_pg_engine"
   ]
  },
  {
   "cell_type": "markdown",
   "id": "aa7396a5-8949-4d63-9bbe-6d627e7b7d1b",
   "metadata": {},
   "source": [
    "## IMPORTANT: .env Configuration\n",
    "\n",
    "In order for the DB credentials to be loaded properly, you will need to have a file located at \n",
    "\n",
    "`<fl>_currensee/currensee/.env`\n",
    "\n",
    "with the following contents:\n",
    "\n",
    "```bash\n",
    "GOOGLE_API_KEY\n",
    "\n",
    "\n",
    "```\n",
    "\n"
   ]
  },
  {
   "cell_type": "code",
   "execution_count": null,
   "id": "a7950bad-a02f-4821-b4e5-522fe7acfd52",
   "metadata": {},
   "outputs": [],
   "source": [
    "from currensee.core.settings import Settings\n",
    "\n",
    "settings = Settings()"
   ]
  },
  {
   "cell_type": "markdown",
   "id": "bb578b85-e907-48cb-9807-c0787910c2e0",
   "metadata": {},
   "source": [
    "#### Create SQLAlchemy engine"
   ]
  },
  {
   "cell_type": "code",
   "execution_count": null,
   "id": "815feba1-4fa8-4807-aacc-a9e383812cbe",
   "metadata": {},
   "outputs": [],
   "source": [
    "db_name = \"outlook\"\n",
    "engine = create_pg_engine(db_name)"
   ]
  },
  {
   "cell_type": "markdown",
   "id": "cd163765-fccf-4303-b6ab-ed3a3b670218",
   "metadata": {},
   "source": [
    "# Load Fake Data"
   ]
  },
  {
   "cell_type": "markdown",
   "id": "2b1a56b7-1af9-4f51-9b4d-3915db86f23c",
   "metadata": {},
   "source": [
    "The data was created using aistudio.google.com, because when trying to run the model locally, the context window ran out before all of the emails were generated.\n",
    "\n",
    "The prompts used to produce the data are below:\n",
    "\n",
    "email_prompt = \"\"\"\n",
    "\n",
    "**Objective:** Generate a large volume of synthetic email correspondence between a financial advisor at Bankwell Financial and representatives of her client companies (listed below), presented strictly in CSV format with specific columns.\n",
    "\n",
    "**Characters & Companies:**\n",
    "\n",
    "*   **Financial Advisor:** Jane Moneypenny (Financial Advisor, Bankwell Financial) - Email: `jane.moneypenny1@outlook.com`\n",
    "*   **Client Representatives & Companies (Based on `janes_clients.csv`):**\n",
    "    *   **AbbVie (Healthcare):** Cynthia Hobbs (Director) - `cynthia.hobbs@abbvie.com`, `(446)673-8121x90878`\n",
    "    *   **AeroVironment (Manufacturing):** Jennifer Phelps (Senior Director) - `jennifer.phelps@aerovironment.com`, `797-584-0061x89137`\n",
    "    *   **Amedisys (Healthcare):** Kyle Waters (Senior Director) - `kyle.waters@amedisys.com`, `590.239.3215x8014`\n",
    "    *   **Celestica (Technology):** Denise Moore (Senior Director) - `denise.moore@celestica.com`, `754-579-1511x763`\n",
    "    *   **Compass (RealEstate):** Adam Clay (VP) - `adam.clay@compass.com`, `-2931` *(Note: Treat the duplicate entry as one contact)*\n",
    "    *   **GameStop Corp (Retail):** Amy Winters (Senior Director) - `amy.winters@gamestopcorp.com`, `381-842-2729x61450`\n",
    "    *   **Guardant Health (Healthcare):** Roberto Martin (VP) - `roberto.martin@guardanthealth.com`, `420.200.4573x07741`\n",
    "    *   **Hasbro (Retail):** Jessica Palmer (VP) - `jessica.palmer@hasbro.com`, `909.878.8329x31984`\n",
    "    *   **Hyatt Hotels (Hospitality):** Timothy Ochoa (Manager) - `timothy.ochoa@hyatthotels.com`, `315-583-8080`\n",
    "    *   **Intuitive Surgical (Healthcare):** Michelle Jenkins (Director) - `michelle.jenkins@intuitivesurgical.com`, `(612)342-3657x6255`\n",
    "    *   **Ladder Capital Corp (RealEstate):** Ronnie Gray (Director) - `ronnie.gray@laddercapitalcorp.com`, `001-750-645-5770x695`\n",
    "    *   **Lockheed Martin Corporation (Manufacturing):** Lisa Kennedy (Senior Director) - `lisa.kennedy@lockheedmartincorporation.com`, `+1-341-221-9798x577`\n",
    "    *   **ManpowerGroup (Manufacturing):** David Moreno (Director) - `david.moreno@manpowergroup.com`, `001-945-497-7155x003` *(Note: Treat the duplicate entry as one contact)*\n",
    "    *   **Mariott (Hospitality):** Mary Vasquez (Manager) - `mary.vasquez@mariott.com`, `520-618-5303x572` *(Note: Using CSV spelling 'Mariott')*\n",
    "    *   **Matson (Manufacturing):** Anna Lawrence (Director) - `anna.lawrence@matson.com`, `+1-675-665-6673x605` *(Note: Treat the duplicate entry as one contact)*\n",
    "    *   **Medtronic (Healthcare):** Tracey Smith (Director) - `tracey.smith@medtronic.com`, `+1-952-819-1211x857`\n",
    "    *   **Presidio Property Trust (RealEstate):** Kelly Smith (Senior Director) - `kelly.smith@presidiopropertytrust.com`, `001-671-821-6029`\n",
    "\n",
    "**Output Format:**\n",
    "\n",
    "*   Strictly CSV (Comma Separated Values).\n",
    "*   Use the following standard header row: `email_timestamp,to_names,to_emails,from_name,from_email,email_subject,email_body`\n",
    "\n",
    "**CSV Column Definitions:**\n",
    "\n",
    "1.  `email_timestamp`: The simulated date and time the email was sent.\n",
    "    *   Format: Use a consistent format like `YYYY-MM-DD HH:MM:SS`.\n",
    "    *   Chronology: Timestamps must be strictly chronological across all emails.\n",
    "    *   Timespan: Cover a period from approximately mid-2018 to late-2023.\n",
    "2.  `to_names`: The full name(s) of the email recipient(s). Use the full names as listed above (or Jane Moneypenny).\n",
    "    *   If multiple recipients, names should be comma-separated (e.g., `\"Cynthia Hobbs,Jane Moneypenny\"`). Enclose in quotes if contains comma.\n",
    "3.  `to_emails`: The email address(es) corresponding to the recipient(s) listed in `to_names`. Use Jane's specified email or the client emails from the list.\n",
    "    *   If multiple recipients, email addresses should be comma-separated, maintaining the order from `to_names` (e.g., `\"cynthia.hobbs@abbvie.com,jane.moneypenny1@outlook.com\"`). Enclose in quotes if contains comma.\n",
    "4.  `from_name`: The full name of the single email sender (e.g., \"Jane Moneypenny\", \"Cynthia Hobbs\"). Use the full names as listed above.\n",
    "5.  `from_email`: The email address corresponding to the sender listed in `from_name`. This will be Jane's email (`jane.moneypenny1@outlook.com`) or the client contact's email from the list.\n",
    "6.  `email_subject`: The subject line of the email (e.g., \"Q3 Cash Management Strategy Review - AbbVie\"). This column should contain *only* the subject text.\n",
    "7.  `email_body`: The full text content of the email *excluding* the subject line.\n",
    "    *   **Crucially:** Enclose the entire body text in double quotes (`\"`) to properly handle commas, line breaks, and other special characters within the email body itself, ensuring valid CSV format.\n",
    "    *   The body should start directly with the salutation (e.g., \"Hi Cynthia,\").\n",
    "    *   Include realistic sign-offs (e.g., \"Best regards,\").\n",
    "    *   **Mandatory:** Include realistic email signatures within the body for *both* the sender and recipient.\n",
    "        *   Jane's signature must include her name, title, \"Bankwell Financial\", fictional phone number, and her specific email: `jane.moneypenny1@outlook.com`.\n",
    "        *   Client representative signatures must include their full name, title, company name, and the email/phone details *provided in the list above*.\n",
    "\n",
    "**Content Requirements for Emails:**\n",
    "\n",
    "*   **Quantity:** Generate approximately **300-350** emails in total, ensuring multiple, extended interaction threads exist for *each client company* over the timespan.\n",
    "*   **Realism & Detail:** Emails should reflect typical B2B financial advisory communication. They should be reasonably detailed, discussing specific (but fictional) corporate finance scenarios, market conditions relevant to businesses, Bankwell Financial services, proposed strategies, follow-ups, meeting logistics, etc. Avoid overly simplistic or generic messages.\n",
    "*   **Conversation Flow:** Emails between Jane and representatives of a specific client company must form logical conversation threads. A reply should clearly relate to the preceding email's subject and body in that thread. The `to_names`, `to_emails`, `from_name`, `from_email` fields must accurately reflect the sender and recipient(s) for each specific email in the thread.\n",
    "*   **Multiple Contacts:**\n",
    "    *   Vary correspondence. While most interactions will likely be 1-on-1 between Jane and the listed contact for a company (due to the provided data), sometimes simulate scenarios involving multiple recipients *from the same company*.\n",
    "    *   When an email involves multiple recipients (e.g., Jane emailing a client contact and hypothetically CC'ing a colleague, or a client contact replying to Jane and CC'ing a colleague):\n",
    "        *   List *all* recipient names in the `to_names` column, comma-separated.\n",
    "        *   List *all* corresponding recipient emails in the `to_emails` column, comma-separated, in the same order.\n",
    "        *   *Constraint:* Only include Jane and contacts from the *same client company* in a single email's `to_names`/`to_emails`. Do not mix contacts from different *client* companies.\n",
    "        *   *(Optional realism)*: The email body's salutation might address the primary recipient, or mention the CC'd individual (e.g., \"Hi Cynthia (and team),\").\n",
    "*   **Topics (B2B Focus):** Cover a variety of relevant corporate finance topics, tailoring discussion topics somewhat to the client company's *industry* (e.g., Healthcare, Manufacturing, Real Estate, Technology, Retail, Hospitality) as listed in the provided client data, while still covering a broad range of corporate finance issues:\n",
    "    *   Initial introductions and discussions about Bankwell Financial's services.\n",
    "    *   Detailed corporate cash management strategies.\n",
    "    *   Analysis of short-term investment options for corporate liquidity.\n",
    "    *   Business loans, lines of credit, venture debt considerations.\n",
    "    *   Currency exchange services, hedging strategies (especially relevant for manufacturing/global companies).\n",
    "    *   Investment management proposals for corporate reserves.\n",
    "    *   Guidance on employee benefit plans (e.g., 401k).\n",
    "    *   Discussions on interest rate risk, market risk, economic updates.\n",
    "    *   Fee structures, service agreements, onboarding, compliance.\n",
    "    *   Regular performance reviews, quarterly updates, annual planning.\n",
    "    *   Handling operational issues or client service requests.\n",
    "*   **Relationship Evolution:** Show professional relationships developing over the 5+ year span, building trust, moving from initial setup to ongoing management and tackling more complex strategic financial issues.\n",
    "\n",
    "**Example Row Structure (Using new columns):**\n",
    "\n",
    "*Example 1: Jane emails Cynthia*\n",
    "`2021-05-10 14:30:00,\"Cynthia Hobbs\",\"cynthia.hobbs@abbvie.com\",\"Jane Moneypenny\",\"jane.moneypenny1@outlook.com\",\"Re: Q2 Cash Flow Projections - AbbVie\",\"Hi Cynthia,\\n\\nThanks for sending over the updated Q2 cash flow projections for AbbVie. I've reviewed them against the investment strategy we discussed last month.\\n\\nThe short-term liquidity seems well-covered by the current money market allocation. Regarding the anticipated surplus in late June, we could consider deploying that into the slightly higher-yield commercial paper option we modelled. The current market rates are favourable.\\n\\nCould we schedule a brief call early next week to finalize this?\\n\\nBest regards,\\n\\n--\\nJane Moneypenny\\nFinancial Advisor\\nBankwell Financial\\nPhone: (555) 123-4567\\nEmail: jane.moneypenny1@outlook.com\\n\"`\n",
    "\n",
    "*Example 2: Cynthia replies to Jane*\n",
    "`2021-05-11 09:00:00,\"Jane Moneypenny\",\"jane.moneypenny1@outlook.com\",\"Cynthia Hobbs\",\"cynthia.hobbs@abbvie.com\",\"Re: Q2 Cash Flow Projections - AbbVie\",\"Hi Jane,\\n\\nThanks for the quick review. Yes, let's discuss the commercial paper option. Does Tuesday at 10 AM work for you?\\n\\nBest,\\n\\n--\\nCynthia Hobbs\\nDirector\\nAbbVie\\nEmail: cynthia.hobbs@abbvie.com\\nPhone: (446)673-8121x90878\\n\"`\n",
    "\n",
    "*Example 3: Cynthia replies to Jane and hypothetically CCs a colleague 'Bob Finance <bob.finance@abbvie.com>'*\n",
    "`2021-05-11 09:05:00,\"Jane Moneypenny,Bob Finance\",\"jane.moneypenny1@outlook.com,bob.finance@abbvie.com\",\"Cynthia Hobbs\",\"cynthia.hobbs@abbvie.com\",\"Re: Q2 Cash Flow Projections - AbbVie\",\"Hi Jane,\\n\\n(CC'ing Bob from our finance team)\\n\\nThanks again. Tuesday at 10 AM is confirmed from our side as well.\\n\\nBest,\\n\\n--\\nCynthia Hobbs\\nDirector\\nAbbVie\\nEmail: cynthia.hobbs@abbvie.com\\nPhone: (446)673-8121x90878\\n\"`\n",
    "*(Note: The example correctly shows comma-separated values in `to_names` and `to_emails` when multiple recipients are involved. Ensure client signatures in the body use the specific details from the list provided.)*\n",
    "\n",
    "**Final Instruction:** Please output *only* the raw CSV data, starting with the header row (`email_timestamp,to_names,to_emails,from_name,from_email,email_subject,email_body`), adhering strictly to the format and content requirements described above. Do not include any introductory text, explanations, or summaries before or after the CSV data. Ensure all `email_body` content is properly enclosed in double quotes, and fields containing commas (like multi-recipient `to_names` or `to_emails`) are also enclosed in double quotes as needed for valid CSV.\n",
    "\n",
    "\n",
    "\n",
    "\n",
    "\n",
    "\"\"\""
   ]
  },
  {
   "cell_type": "code",
   "execution_count": null,
   "id": "a73695d8-97ab-47c4-9aaa-7d0ed8e20996",
   "metadata": {},
   "outputs": [],
   "source": [
    "emails_df = pd.read_csv(\"fake_emails.csv\")"
   ]
  },
  {
   "cell_type": "code",
   "execution_count": null,
   "id": "e28ab6b4-ab1b-420f-9ebe-d3c889c76a2c",
   "metadata": {},
   "outputs": [],
   "source": [
    "emails_df.head()"
   ]
  },
  {
   "cell_type": "markdown",
   "id": "dad24e99-c646-4f73-b8e9-47fbb75ccaff",
   "metadata": {},
   "source": [
    "meeting_prompt = \"\"\"\n",
    "\n",
    "**Objective:** Generate a synthetic dataset of meetings between financial advisor Jane Moneypenny and her clients, logically derived from the topics and scheduling interactions suggested in the previously generated email correspondence dataset (covering mid-2018 to late-2023). The output must be strictly in CSV format.\n",
    "\n",
    "**Context:**\n",
    "*   Base the meetings on the interactions, confirmed meeting times, and discussion topics evident in the prior email dataset involving Jane Moneypenny (`jane.moneypenny1@outlook.com`) and her clients (AbbVie, AeroVironment, Amedisys, Celestica, Compass, GameStop Corp, Guardant Health, Hasbro, Hyatt Hotels, Intuitive Surgical, Ladder Capital Corp, Lockheed Martin Corporation, ManpowerGroup, Mariott, Matson, Medtronic, Presidio Property Trust, using the specific contact names and emails provided previously).\n",
    "*   Meetings should only be generated where the email history suggests a meeting was scheduled or would logically occur (e.g., following a proposal, quarterly review scheduling, specific discussion requests).\n",
    "\n",
    "**Output Format:**\n",
    "\n",
    "*   Strictly CSV (Comma Separated Values).\n",
    "*   Use the following standard header row: `meeting_timestamp,host,host_email,invitees,invitee_emails,meeting_subject`\n",
    "\n",
    "**CSV Column Definitions:**\n",
    "\n",
    "1.  `meeting_timestamp`: The simulated date and time the meeting occurred.\n",
    "    *   Format: Use a consistent format like `YYYY-MM-DD HH:MM:SS`.\n",
    "    *   Chronology: Timestamps must be strictly chronological across all meetings.\n",
    "    *   Timespan: Cover the period from mid-2018 to late-2023 for historical meetings, reflecting the email data.\n",
    "    *   Time Constraints: Meetings must occur **Monday to Friday, between 9:00 AM and 5:00 PM**. Assume Eastern Time (ET) for scheduling unless client context strongly implies otherwise.\n",
    "2.  `host`: The full name of the meeting host. This will **always** be \"Jane Moneypenny\".\n",
    "3.  `host_email`: The email address of the host. This will **always** be `jane.moneypenny1@outlook.com`.\n",
    "4.  `invitees`: The full name(s) of the client representative(s) attending the meeting. Use the client names from the provided list.\n",
    "    *   Only include contacts from a **single client company** per meeting.\n",
    "    *   If hypothetical emails involved multiple contacts from the same company being CC'd *and* the meeting was implied for both, list names comma-separated (e.g., `\"Cynthia Hobbs,Bob Finance\"`). Otherwise, list the primary contact involved (e.g., \"Cynthia Hobbs\"). Enclose in quotes if contains comma. *Based on the previous email generation focusing mostly on 1:1, expect single names predominantly.*\n",
    "5.  `invitee_emails`: The email address(es) corresponding to the invitee(s) listed in `invitees`. Use the client emails from the provided list.\n",
    "    *   If multiple invitees, email addresses should be comma-separated, maintaining the order from `invitees` (e.g., `\"cynthia.hobbs@abbvie.com,bob.finance@abbvie.com\"`). Enclose in quotes if contains comma.\n",
    "6.  `meeting_subject`: The subject line or primary topic of the meeting.\n",
    "    *   This subject **must logically derive** from the email conversations occurring around the `meeting_timestamp`. Use subjects suggested or confirmed in the emails (e.g., \"AbbVie - Introductory Call\", \"AeroVironment - Discuss FX Forward Pricing\", \"Compass - Credit Facility Term Sheet Review\", \"Quarterly Portfolio Review - Medtronic\", \"Lockheed Martin - LDI Strategy Presentation\").\n",
    "\n",
    "**Content Requirements for Meetings:**\n",
    "\n",
    "*   **Derivation from Emails:** Generate meetings primarily based on explicit scheduling found in the previous email dataset (e.g., \"Tuesday at 2 PM CT works perfectly\"). Place the `meeting_timestamp` accurately based on such confirmations.\n",
    "*   **Logical Cadence:** Infer meetings where highly probable even if not explicitly confirmed minute-by-minute (e.g., quarterly reviews for active investment clients, kick-off meetings after a proposal acceptance, follow-up discussions after complex information sharing). The cadence should be realistic – not every email leads to a meeting. Expect recurring meetings (like quarterly reviews) for some clients, and ad-hoc meetings for others based on specific needs (financing, hedging, implementation).\n",
    "*   **Quantity (Historical):** Generate a realistic number of meetings across the mid-2018 to late-2023 timeframe, reflecting the ~300-350 emails previously generated. This might be in the range of 50-100 meetings, depending on the nature of interactions.\n",
    "*   **Future Meetings:**\n",
    "    *   Generate **10-20 additional meeting rows** with `meeting_timestamp` values falling in **early 2024 (e.g., January to March 2024)**.\n",
    "    *   These future meetings must represent **plausible next steps or continuations** of the relationships and topics observed towards the end of the 2023 email/meeting data.\n",
    "    *   `meeting_subject` for future meetings should reflect logical follow-ups (e.g., \"Q4 2023 Portfolio Review - Guardant Health\", \"Discuss H1 2024 FX Hedging - Hasbro\", \"Hyatt Hotels - 401k RFI Discussion\", \"AeroVironment - SCF Pilot Kick-off\", \"Intuitive Surgical - FX Services Deep Dive\").\n",
    "    *   Invitees/Emails for future meetings should be consistent with the client contacts established.\n",
    "\n",
    "**Example Row Structure:**\n",
    "\n",
    "`2018-07-17 15:00:00,\"Jane Moneypenny\",\"jane.moneypenny1@outlook.com\",\"Cynthia Hobbs\",\"cynthia.hobbs@abbvie.com\",\"AbbVie - Introductory Call & Bankwell Services Overview\"`\n",
    "`2020-01-30 14:00:00,\"Jane Moneypenny\",\"jane.moneypenny1@outlook.com\",\"Ronnie Gray\",\"ronnie.gray@laddercapitalcorp.com\",\"Ladder Capital Corp - Q4 2019 Portfolio Review\"`\n",
    "`2023-09-19 14:00:00,\"Jane Moneypenny\",\"jane.moneypenny1@outlook.com\",\"Denise Moore\",\"denise.moore@celestica.com\",\"Celestica - Discuss Short-Term Investment Strategy (CDs/CP)\"`\n",
    "`2024-01-15 10:00:00,\"Jane Moneypenny\",\"jane.moneypenny1@outlook.com\",\"Jessica Palmer\",\"jessica.palmer@hasbro.com\",\"Hasbro - Finalize H1 2024 FX Hedging Plan\"`\n",
    "\n",
    "**Final Instruction:** Please output *only* the raw CSV data, starting with the header row (`meeting_timestamp,host,host_email,invitees,invitee_emails,meeting_subject`), adhering strictly to the format and content requirements described above. Do not include any introductory text, explanations, or summaries before or after the CSV data. Ensure fields containing commas (like potential multi-invitee names/emails) are properly enclosed in double quotes.\n",
    "\n",
    "---\n",
    "\n",
    "\n",
    "\"\"\""
   ]
  },
  {
   "cell_type": "code",
   "execution_count": null,
   "id": "037d67b9-f4d7-440b-bbc0-3e27e3434327",
   "metadata": {},
   "outputs": [],
   "source": [
    "meetings_df = pd.read_csv(\"fake_meetings.csv\")"
   ]
  },
  {
   "cell_type": "code",
   "execution_count": null,
   "id": "34692ab5-31c4-4719-b540-442ab8232026",
   "metadata": {},
   "outputs": [],
   "source": [
    "meetings_df.head()"
   ]
  },
  {
   "cell_type": "markdown",
   "id": "b4017b4a-f604-4f1e-ad2f-96a94abd1a9a",
   "metadata": {},
   "source": [
    "## Load to database"
   ]
  },
  {
   "cell_type": "code",
   "execution_count": null,
   "id": "6aabfd37-61ed-492e-92d3-138edfe447a4",
   "metadata": {},
   "outputs": [],
   "source": [
    "emails_df.to_sql(\"email_data\", engine, if_exists=\"replace\", index=False)"
   ]
  },
  {
   "cell_type": "code",
   "execution_count": null,
   "id": "c5d8d9a6-3bce-462d-842d-95d642c4a071",
   "metadata": {},
   "outputs": [],
   "source": [
    "meetings_df.to_sql(\"meeting_data\", engine, if_exists=\"replace\", index=False)"
   ]
  },
  {
   "cell_type": "markdown",
   "id": "e6d41bec-c313-4860-8f61-057207950d84",
   "metadata": {},
   "source": [
    "## Inspect the Data"
   ]
  },
  {
   "cell_type": "code",
   "execution_count": null,
   "id": "91d13245-d916-4a67-b7b7-cdb274fa3cfc",
   "metadata": {},
   "outputs": [],
   "source": [
    "df = pd.read_sql(\"SELECT * from email_data\", con=engine)\n",
    "df.head()"
   ]
  },
  {
   "cell_type": "code",
   "execution_count": null,
   "id": "6e7b45c6-15d3-4218-8e37-22690b14e413",
   "metadata": {},
   "outputs": [],
   "source": [
    "df = pd.read_sql(\"SELECT * from meeting_data\", con=engine)\n",
    "df.tail()"
   ]
  },
  {
   "cell_type": "code",
   "execution_count": null,
   "id": "8b98d55d-1dda-4324-ac44-f347dbfff14f",
   "metadata": {},
   "outputs": [],
   "source": [
    "import datetime\n",
    "import pytz\n",
    "\n",
    "print(\n",
    "    f\"Notebook last execution time: {datetime.datetime.now(pytz.timezone('US/Central')).strftime('%a, %d %B %Y %H:%M:%S')}\"\n",
    ")"
   ]
  },
  {
   "cell_type": "code",
   "execution_count": null,
   "id": "092fa61c-b037-4e3c-87f9-0179614722b3",
   "metadata": {},
   "outputs": [],
   "source": []
  }
 ],
 "metadata": {
  "environment": {
   "kernel": "conda-env-gf_currensee-gf_currensee",
   "name": "workbench-notebooks.m129",
   "type": "gcloud",
   "uri": "us-docker.pkg.dev/deeplearning-platform-release/gcr.io/workbench-notebooks:m129"
  },
  "kernelspec": {
   "display_name": "gf_currensee",
   "language": "python",
   "name": "conda-env-gf_currensee-gf_currensee"
  },
  "language_info": {
   "codemirror_mode": {
    "name": "ipython",
    "version": 3
   },
   "file_extension": ".py",
   "mimetype": "text/x-python",
   "name": "python",
   "nbconvert_exporter": "python",
   "pygments_lexer": "ipython3"
  }
 },
 "nbformat": 4,
 "nbformat_minor": 5
}
