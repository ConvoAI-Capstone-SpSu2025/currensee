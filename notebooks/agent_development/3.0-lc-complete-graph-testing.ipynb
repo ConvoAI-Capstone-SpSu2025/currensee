{
 "cells": [
  {
   "cell_type": "code",
   "execution_count": 1,
   "id": "56e4121b-6cf1-40da-83e6-fc717222919e",
   "metadata": {},
   "outputs": [
    {
     "data": {
      "text/plain": [
       "True"
      ]
     },
     "execution_count": 1,
     "metadata": {},
     "output_type": "execute_result"
    }
   ],
   "source": [
    "from dotenv import load_dotenv\n",
    "\n",
    "load_dotenv()"
   ]
  },
  {
   "cell_type": "code",
   "execution_count": 8,
   "id": "c57516d8-1607-4573-bcdd-c78af6861c7e",
   "metadata": {},
   "outputs": [],
   "source": [
    "from currensee.agents.complete_graph import compiled_graph\n",
    "#from currensee.agents.tools.finance_tools import generate_macro_table"
   ]
  },
  {
   "cell_type": "markdown",
   "id": "0382d110-7666-4cf9-8664-a6ec2799f35e",
   "metadata": {},
   "source": [
    "## Define Initial State\n",
    "\n",
    "This is data that we should be retrieving from each meeting invite.\n",
    "\n",
    "**DO NOT** change this data until the CRM DB has been updated"
   ]
  },
  {
   "cell_type": "code",
   "execution_count": 3,
   "id": "dcc4c7df-7a99-4862-b4ff-e84ed8dfc48c",
   "metadata": {},
   "outputs": [],
   "source": [
    "init_state = {\n",
    "        'client_name': 'Adam Clay',\n",
    "        'client_email': 'adam.clay@compass.com',\n",
    "        'meeting_timestamp': '2024-03-26 11:00:00',\n",
    "        'meeting_description': 'Compass - Annual Credit Facility Review Meeting'\n",
    "\n",
    "    }"
   ]
  },
  {
   "cell_type": "code",
   "execution_count": 4,
   "id": "29f2077c-f68b-4ed1-b7ad-aad02c3599c7",
   "metadata": {},
   "outputs": [],
   "source": [
    "# Email prompt summary should be updated in the file \n",
    "# currensee/agents/tools/outlook_tools.py in the function produce_client_email_summary"
   ]
  },
  {
   "cell_type": "code",
   "execution_count": 5,
   "id": "d7668b28-243a-46ca-907c-a6445913a637",
   "metadata": {},
   "outputs": [],
   "source": [
    "# Finance news prompt summary should be updated in the file \n",
    "# currensee/agents/tools/finance_tools.py in the summarize_finance_outputs function"
   ]
  },
  {
   "cell_type": "code",
   "execution_count": 6,
   "id": "e71339a6-c098-47df-bb6d-acb6bcb1dc75",
   "metadata": {},
   "outputs": [],
   "source": [
    "result = compiled_graph.invoke(init_state)"
   ]
  },
  {
   "cell_type": "code",
   "execution_count": 10,
   "id": "c5ae11b7-32be-4660-b462-69fb01173a5d",
   "metadata": {},
   "outputs": [],
   "source": [
    "summary = result['final_summary']\n",
    "\n",
    "# === Add the macro snapshot\n",
    "#macro_table = generate_macro_table()"
   ]
  },
  {
   "cell_type": "code",
   "execution_count": 12,
   "id": "7200286f-fc4e-4de0-bbc9-df9486c1cf9c",
   "metadata": {},
   "outputs": [
    {
     "name": "stdout",
     "output_type": "stream",
     "text": [
      "**Compass - Annual Credit Facility Review Meeting Preparation**\n",
      "\n",
      "**I. Past Meeting/Email Summary**\n",
      "\n",
      "This meeting with Adam Clay of Compass concerns the annual review of their $25 million revolving credit facility with Bankwell Financial.  This facility was established in response to Compass's request for expansion capital.  Bankwell initiated discussions, leading to the issuance, internal review, and approval of a term sheet by Compass.  After legal review and negotiation, the facility was officially closed and funded.  Compass has reported that the drawdown and reporting processes have been straightforward and satisfactory to date.  The primary focus of this review will be on the performance and utilization of the credit facility over the past year.\n",
      "\n",
      "\n",
      "**II. Financial News Data: Compass Inc. and Macroeconomic Trends**\n",
      "\n",
      "**A. Compass Inc. Performance and Strategy:**\n",
      "\n",
      "Compass, the largest US residential real estate brokerage by sales volume in 2023 (NYSE: COMP), is demonstrating aggressive growth through strategic acquisitions.  Recent acquisitions include @properties and Christie's International Real Estate ($444 million deal), and they are in advanced talks to acquire Warren Buffett's HomeServices real estate brokerage unit. These acquisitions significantly expand Compass's market share and national presence.  Financially, Compass reported strong Q4 2024 results, showing a 25.9% year-over-year revenue growth (20.9% organic growth) and a quarterly market share increase to 5.06%.  They have also launched \"Compass One,\" a new all-in-one client dashboard, aimed at enhancing client experience and potentially improving efficiency.  However, it is important to note that Compass is involved in ongoing legal disputes, including a lawsuit against a major US home-listing service and a settled antitrust case resulting in a $57.5 million payment.  These legal challenges should be considered when assessing their overall financial health and future prospects.  Their expansion strategy also includes exploring private home listings, potentially positioning them to compete more directly with companies like Zillow and Redfin.  The CEO's prediction that Zillow will become a major Multiple Listing Service (MLS) suggests a significant shift in the industry landscape and potential opportunities for Compass.\n",
      "\n",
      "**B. Macroeconomic Environment and Potential Impacts on Compass:**\n",
      "\n",
      "The macroeconomic environment presents both opportunities and challenges for Compass.  Several news sources express concern over a potential US recession, citing factors such as soft consumer spending, a pullback in advertising, and the impact of tariffs.  These concerns are heightened by mixed economic signals; while some indicators like durable goods orders remain strong, others like consumer confidence and business activity are slowing.  Inflation, although down from its peak, remains a concern, influencing the Federal Reserve's actions (rate cuts).  The global economy is also facing uncertainty, with concerns about the impact of tariffs on international trade and a predicted sharp fall in commodity prices by the World Bank.  The imposition of tariffs is a recurring theme, creating market volatility and potentially impacting various sectors, including real estate.  These macroeconomic headwinds could influence consumer demand for real estate, impacting Compass's revenue and profitability.  It is crucial to assess how these broader economic trends might affect Compass's financial performance and creditworthiness in the context of this credit facility review.\n"
     ]
    }
   ],
   "source": [
    "full_report = summary \n",
    "#full_report = summary + \"\\n\\n### Macro Financial Snapshot\\n\\n\" + macro_table\n",
    "print(full_report)"
   ]
  },
  {
   "cell_type": "code",
   "execution_count": null,
   "id": "1401e61f-de5b-40ad-8c6a-1eb2fb213b5f",
   "metadata": {},
   "outputs": [],
   "source": []
  },
  {
   "cell_type": "code",
   "execution_count": null,
   "id": "039a4846-c3c7-4a8a-a983-12e33c4f4c36",
   "metadata": {},
   "outputs": [],
   "source": []
  }
 ],
 "metadata": {
  "environment": {
   "kernel": "conda-env-lc_currensee-lc_currensee",
   "name": "workbench-notebooks.m129",
   "type": "gcloud",
   "uri": "us-docker.pkg.dev/deeplearning-platform-release/gcr.io/workbench-notebooks:m129"
  },
  "kernelspec": {
   "display_name": "lc_currensee",
   "language": "python",
   "name": "conda-env-lc_currensee-lc_currensee"
  },
  "language_info": {
   "codemirror_mode": {
    "name": "ipython",
    "version": 3
   },
   "file_extension": ".py",
   "mimetype": "text/x-python",
   "name": "python",
   "nbconvert_exporter": "python",
   "pygments_lexer": "ipython3",
   "version": "3.11.12"
  }
 },
 "nbformat": 4,
 "nbformat_minor": 5
}
