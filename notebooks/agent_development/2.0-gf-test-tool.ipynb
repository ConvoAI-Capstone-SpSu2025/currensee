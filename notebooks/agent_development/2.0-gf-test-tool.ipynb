{
 "cells": [
  {
   "cell_type": "markdown",
   "id": "8f440a01",
   "metadata": {},
   "source": [
    "# Test a Tool in Isolation\n",
    "\n",
    "The purpose of this notebook is to test a tool in isolation from the entire graph to confirm proper implementation.\n",
    "\n",
    "**NOTE**: You must have your `GOOGLE_API_KEY` defined in your .env file. You can get this API key here: https://aistudio.google.com/app/apikey"
   ]
  },
  {
   "cell_type": "code",
   "execution_count": 1,
   "id": "88f8b1e9",
   "metadata": {
    "tags": []
   },
   "outputs": [],
   "source": [
    "from langgraph.checkpoint.memory import MemorySaver\n",
    "from langchain_core.messages import HumanMessage, AIMessage\n",
    "from langgraph.graph import StateGraph, START, END\n",
    "from langgraph.prebuilt import create_react_agent\n",
    "from langchain_core.runnables import RunnableLambda\n",
    "from langchain.tools import tool\n",
    "\n",
    "from currensee.core import get_model, settings"
   ]
  },
  {
   "cell_type": "code",
   "execution_count": 2,
   "id": "e6dc6618",
   "metadata": {
    "tags": []
   },
   "outputs": [
    {
     "data": {
      "text/plain": [
       "True"
      ]
     },
     "execution_count": 2,
     "metadata": {},
     "output_type": "execute_result"
    }
   ],
   "source": [
    "from dotenv import load_dotenv\n",
    "\n",
    "load_dotenv()"
   ]
  },
  {
   "cell_type": "markdown",
   "id": "56181781",
   "metadata": {},
   "source": [
    "## Import or Define Your Tool\n",
    "\n",
    "Custom tools may be defined as follows:\n",
    "\n",
    "```python\n",
    "@tool\n",
    "def add(a: float, b: float) -> float:\n",
    "    \"\"\"Add two float numbers\"\"\"\n",
    "    return a + b\n",
    "```\n",
    "\n",
    "Tools may be imported as here:\n",
    "\n",
    "```python\n",
    "from langchain_community.agent_toolkits import O365Toolkit\n",
    "\n",
    "toolkit = O365Toolkit()\n",
    "o365_tools = toolkit.get_tools()\n",
    "\n",
    "```"
   ]
  },
  {
   "cell_type": "code",
   "execution_count": 3,
   "id": "51501682",
   "metadata": {},
   "outputs": [],
   "source": [
    "# Import/define your tool here\n",
    "\n",
    "@tool\n",
    "def add(a: float, b: float) -> float:\n",
    "    \"\"\"Add two float numbers\"\"\"\n",
    "    return a + b"
   ]
  },
  {
   "cell_type": "markdown",
   "id": "6657b1d4",
   "metadata": {},
   "source": [
    "## Create Your Agent\n",
    "\n",
    "An agent requires:\n",
    "* the model\n",
    "* tools\n",
    "* a name\n",
    "* a prompt describing the purpose of the tool\n",
    "\n",
    "Example:\n",
    "\n",
    "\n",
    "\n",
    "```python\n",
    "math_agent = create_react_agent(\n",
    "    model=model,\n",
    "    tools=[add],\n",
    "    name=\"math_expert\",\n",
    "    prompt=\"You are a math expert. Always use one tool at a time.\",\n",
    ").with_config(tags=[\"skip_stream\"])\n",
    "\n",
    "```"
   ]
  },
  {
   "cell_type": "code",
   "execution_count": 4,
   "id": "dd722f84",
   "metadata": {},
   "outputs": [],
   "source": [
    "# Define the gemini model for the tool\n",
    "model = get_model(settings.DEFAULT_MODEL)\n",
    "\n",
    "# Add your tools\n",
    "tools = [add]\n",
    "\n",
    "\n",
    "# Define the agent\n",
    "name = \"math_expert\"\n",
    "\n",
    "# Define a prompt for the agent's purpose\n",
    "prompt = \"You are a math expert. Use one tool at a time.\""
   ]
  },
  {
   "cell_type": "code",
   "execution_count": 5,
   "id": "785b6500",
   "metadata": {},
   "outputs": [],
   "source": [
    "test_agent = create_react_agent(\n",
    "    model=model,\n",
    "    tools=tools,\n",
    "    name=name,\n",
    "    prompt=prompt,\n",
    ").with_config(tags=[\"skip_stream\"])"
   ]
  },
  {
   "cell_type": "markdown",
   "id": "2f4a4fb8",
   "metadata": {},
   "source": [
    "## Prompt the agent"
   ]
  },
  {
   "cell_type": "code",
   "execution_count": 6,
   "id": "bd3bd8eb",
   "metadata": {},
   "outputs": [],
   "source": [
    "query = \"What is 2 + 2?\""
   ]
  },
  {
   "cell_type": "code",
   "execution_count": 7,
   "id": "8497c5fc",
   "metadata": {},
   "outputs": [],
   "source": [
    "inputs = {\"input\": query}\n",
    "inputs = {\"messages\": [(\"human\", query)]}"
   ]
  },
  {
   "cell_type": "code",
   "execution_count": 8,
   "id": "5f0a36cd",
   "metadata": {},
   "outputs": [],
   "source": [
    "# Invoke agent\n",
    "result = test_agent.invoke(input=inputs)"
   ]
  },
  {
   "cell_type": "code",
   "execution_count": 9,
   "id": "4ead0bf0",
   "metadata": {},
   "outputs": [
    {
     "name": "stdout",
     "output_type": "stream",
     "text": [
      "content='4' additional_kwargs={} response_metadata={'prompt_feedback': {'block_reason': 0, 'safety_ratings': []}, 'finish_reason': 'STOP', 'model_name': 'gemini-1.5-flash', 'safety_ratings': []} name='math_expert' id='run-1aa367ac-df44-4c58-bc64-f4a826909a8d-0' usage_metadata={'input_tokens': 41, 'output_tokens': 2, 'total_tokens': 43, 'input_token_details': {'cache_read': 0}}\n"
     ]
    }
   ],
   "source": [
    "# Process output\n",
    "print(result[\"messages\"][-1])"
   ]
  }
 ],
 "metadata": {
  "environment": {
   "kernel": "conda-env-xf_currensee-xf_currensee",
   "name": "workbench-notebooks.m129",
   "type": "gcloud",
   "uri": "us-docker.pkg.dev/deeplearning-platform-release/gcr.io/workbench-notebooks:m129"
  },
  "kernelspec": {
   "display_name": "xf_currensee",
   "language": "python",
   "name": "conda-env-xf_currensee-xf_currensee"
  },
  "language_info": {
   "codemirror_mode": {
    "name": "ipython",
    "version": 3
   },
   "file_extension": ".py",
   "mimetype": "text/x-python",
   "name": "python",
   "nbconvert_exporter": "python",
   "pygments_lexer": "ipython3",
   "version": "3.11.12"
  }
 },
 "nbformat": 4,
 "nbformat_minor": 5
}
