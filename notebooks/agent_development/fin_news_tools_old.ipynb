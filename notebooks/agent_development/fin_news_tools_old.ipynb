{
 "cells": [
  {
   "cell_type": "markdown",
   "id": "8f440a01",
   "metadata": {},
   "source": [
    "# MARKET DATA AGENT\n",
    "\n",
    "The purpose of this notebook is to test a tool in isolation from the entire graph to confirm proper implementation.\n",
    "\n",
    "**NOTE**: You must have your `GOOGLE_API_KEY` defined in your .env file. You can get this API key here: https://aistudio.google.com/app/apikey"
   ]
  },
  {
   "cell_type": "code",
   "execution_count": 30,
   "id": "bb2d12ca-0b10-4523-9e41-f38ab24ac7c2",
   "metadata": {
    "tags": []
   },
   "outputs": [],
   "source": [
    "from langgraph.checkpoint.memory import MemorySaver\n",
    "from langchain_core.messages import HumanMessage, AIMessage\n",
    "from langgraph.graph import StateGraph, START, END\n",
    "from langgraph.prebuilt import create_react_agent\n",
    "from langchain_core.runnables import RunnableLambda\n",
    "from langchain.tools import tool\n",
    "from langchain_community.utilities import GoogleSerperAPIWrapper\n",
    "import os\n",
    "import pprint\n",
    "from currensee.core import get_model, settings\n",
    "from dotenv import load_dotenv\n",
    "\n",
    "# Load environment variables\n",
    "load_dotenv()\n",
    "\n",
    "# Set environment variable for SERPER API key\n",
    "os.environ[\"SERPER_API_KEY\"] = \"4369e38ae59aff075549b44c923813da127c06ef\"\n",
    "\n",
    "\n",
    "#%pip install --upgrade --quiet  langchain-community"
   ]
  },
  {
   "cell_type": "code",
   "execution_count": 31,
   "id": "e6dc6618",
   "metadata": {
    "tags": []
   },
   "outputs": [
    {
     "data": {
      "text/plain": [
       "True"
      ]
     },
     "execution_count": 31,
     "metadata": {},
     "output_type": "execute_result"
    }
   ],
   "source": [
    "from dotenv import load_dotenv\n",
    "\n",
    "load_dotenv()"
   ]
  },
  {
   "cell_type": "markdown",
   "id": "6657b1d4",
   "metadata": {},
   "source": [
    "## Agent\n",
    "\n",
    "An agent requires:\n",
    "* the model\n",
    "* tools\n",
    "* a name\n",
    "* a prompt describing the purpose of the tool\n"
   ]
  },
  {
   "cell_type": "code",
   "execution_count": 32,
   "id": "785b6500",
   "metadata": {
    "tags": []
   },
   "outputs": [],
   "source": [
    "# Initialize the model\n",
    "model = get_model(settings.DEFAULT_MODEL)\n",
    "\n",
    "# Initialize Google Serper API Wrapper for data retrieval\n",
    "serper_api = GoogleSerperAPIWrapper()\n"
   ]
  },
  {
   "cell_type": "code",
   "execution_count": 33,
   "id": "8497c5fc",
   "metadata": {
    "tags": []
   },
   "outputs": [],
   "source": [
    "# Function to summarize the outputs from both tools\n",
    "def summarize_outputs(ci_output: str, mn_output: str) -> str:\n",
    "    combined_prompt = f\"\"\"\n",
    "    Tool A Output (Client News and its Industry): \n",
    "    {ci_output}\n",
    "    \n",
    "    Tool B Output (Macroeconomic News): \n",
    "    {mn_output}\n",
    "    \n",
    "    Please summarize the key points from both outputs into one longer concise summary. Include specific numbers.\n",
    "    \"\"\"\n",
    "    \n",
    "    # Create the messages to pass to the model\n",
    "    messages = [\n",
    "        HumanMessage(content=combined_prompt)\n",
    "    ]\n",
    "    \n",
    "    # Use the 'invoke' method for summarization\n",
    "    summary = model.invoke(messages)\n",
    "    \n",
    "    # Access the message content correctly\n",
    "    return summary.content  # Return the content of the AIMessage\n",
    "\n",
    "# Initialize MemorySaver to keep track of the state if needed\n",
    "memory_saver = MemorySaver()\n",
    "\n",
    "# Define a React agent to invoke both tools and summarize the results\n",
    "def agent_function(query_a: str, query_b: str) -> str:\n",
    "    # Get the results from the tools\n",
    "    output_ci = client_and_industry(query_ci)\n",
    "    output_mn = macro_news(query_mn)\n",
    "\n",
    "    # Summarize the outputs from both tools\n",
    "    final_summary = summarize_outputs(output_ci, output_mn)\n",
    "    return final_summary\n"
   ]
  },
  {
   "cell_type": "markdown",
   "id": "1b52fe3d-cc53-4151-a3e4-e683a93e0897",
   "metadata": {},
   "source": [
    "### FINANCIAL TOOLS"
   ]
  },
  {
   "cell_type": "code",
   "execution_count": 35,
   "id": "e1ed7b55-61ce-4574-8019-1715658f7bfb",
   "metadata": {
    "tags": []
   },
   "outputs": [],
   "source": [
    "#initial synthesized prompt?\n",
    "\n",
    "# Parameters\n",
    "client_name = \"Walmart\"\n",
    "start_date = \"1/31/2025\"\n",
    "end_date = \"4/30/2025\"\n",
    "industry = \"retail\"\n",
    "largest_holdings = [\"Microsoft\",\"Netflix\",\"Netflix\",\"tech sector\"]\n",
    "#Future: portfolio tickers(for data and news)\n"
   ]
  },
  {
   "cell_type": "code",
   "execution_count": 18,
   "id": "7c22be4c-9bc7-4e6e-95aa-04c6301aefa5",
   "metadata": {
    "tags": []
   },
   "outputs": [],
   "source": [
    "#definitions\n",
    "\n",
    "keywords_client = [\"announces\", \"acquires\", \"launches\", \"earnings\", \"report\", \n",
    "               \"profit\", \"CEO\", \"crisis\", \"disaster\",\"recession\",\"recovery\", \"red flag\", \n",
    "               \"urgent\",\"challenge\",\"emergency\", \"tumble\",\"drop\",\"opportunity\",\"slowdown\"]\n",
    "\n",
    "keywords_econ = [\"recovery\",\"crisis\", \"disaster\",\"recession\",\"red flag\", \n",
    "               \"urgent\",\"challenge\",\"emergency\", \"tumble\",\"drop\",\"slowdown\"]\n",
    "\n",
    "trusted_sources = [\"reuters.com\", \"bloomberg.com\", \"cnn.com\", \"forbes.com\", \n",
    "                \"finance.yahoo.com\",\"marketwatch.com\",\"morningstar.com\", \"https://www.wsj.com\",\"www.ft.com\"]\n",
    "\n",
    "# Define trusted sources\n",
    "allowed_sites = trusted_sources\n",
    "site_filter = \" OR \".join(f\"site:{site}\" for site in allowed_sites)"
   ]
  },
  {
   "cell_type": "markdown",
   "id": "227e180e-07c2-4f3e-939d-eee16608d420",
   "metadata": {},
   "source": [
    "**TOOL: CLIENT AND INDUSTRY - Search for top k news articles about the client and its industry (title, snippet, date, source)**"
   ]
  },
  {
   "cell_type": "code",
   "execution_count": 19,
   "id": "23d8a028-3672-4f38-9297-2e43cacaa5f4",
   "metadata": {
    "tags": []
   },
   "outputs": [],
   "source": [
    "# Function to retrieve news about client and its industry (Client and Industry)\n",
    "@tool\n",
    "def client_and_industry(query_ci: str) -> str:\n",
    "    \"\"\"Return the most relevant news about the client and its industry.\"\"\"\n",
    "    def format_google_date(date_str):\n",
    "        parts = date_str.split(\"/\")\n",
    "        return f\"{parts[2]}{parts[0].zfill(2)}{parts[1].zfill(2)}\"\n",
    "\n",
    "    google_start = format_google_date(start_date)\n",
    "    google_end = format_google_date(end_date)\n",
    "\n",
    "    sort_param = f\"date:r:{google_start}:{google_end}\"  # Google's date range format\n",
    "\n",
    "    # Search with date filter\n",
    "    search = GoogleSerperAPIWrapper(k=30, sort=sort_param)  # Pass sort parameter\n",
    "    results = search.results(query_ci)\n",
    "\n",
    "    def score_result(result):\n",
    "        score = 0\n",
    "        keywords = keywords_client  # Assume this variable is defined elsewhere\n",
    "        link = result.get(\"link\", \"\")\n",
    "        title = result.get(\"title\", \"\").lower()\n",
    "        snippet = result.get(\"snippet\", \"\").lower()\n",
    "\n",
    "        if any(site in link for site in allowed_sites):\n",
    "            score += 3\n",
    "\n",
    "        if any(word in title or word in snippet for word in keywords):\n",
    "            score += 2\n",
    "\n",
    "        if \"date\" in result:\n",
    "            score += 1\n",
    "\n",
    "        return score\n",
    "\n",
    "    if results.get(\"organic\"):\n",
    "        sorted_results_client = sorted(results.get(\"organic\", []), key=score_result, reverse=True)\n",
    "        return sorted_results_client\n",
    "    else:\n",
    "        return \"No results found for client or industry news.\"\n",
    "\n"
   ]
  },
  {
   "cell_type": "code",
   "execution_count": null,
   "id": "92ac32eb-54e5-402a-b130-406913db84cc",
   "metadata": {},
   "outputs": [],
   "source": []
  },
  {
   "cell_type": "markdown",
   "id": "e717a2c7-fd84-4f2c-8fc0-319932f41c5d",
   "metadata": {},
   "source": [
    "**TOOL: MACRO NEWS - Search for relevant articles about the economy (title, snippet, date, source)**"
   ]
  },
  {
   "cell_type": "code",
   "execution_count": 20,
   "id": "f6afa3c0-83cf-470b-b3ac-fa7d434d0a8b",
   "metadata": {
    "tags": []
   },
   "outputs": [],
   "source": [
    "# Function to retrieve macroeconomic events news (Tool MACRO NEWS)\n",
    "@tool\n",
    "def macro_news(query_mn: str) -> str:\n",
    "    \"\"\"Return the most relevant macroeconomic news based on the query.\"\"\"\n",
    "    def format_google_date(date_str):\n",
    "        parts = date_str.split(\"/\")\n",
    "        return f\"{parts[2]}{parts[0].zfill(2)}{parts[1].zfill(2)}\"\n",
    "\n",
    "    google_start = format_google_date(start_date)\n",
    "    google_end = format_google_date(end_date)\n",
    "\n",
    "    sort_param = f\"date:r:{google_start}:{google_end}\"\n",
    "\n",
    "    search = GoogleSerperAPIWrapper(k=30, sort=sort_param)  # Pass sort parameter\n",
    "    results = search.results(query_mn)\n",
    "\n",
    "    def score_result(result):\n",
    "        score = 0\n",
    "        keywords = keywords_econ  # Assume this variable is defined elsewhere\n",
    "        link = result.get(\"link\", \"\")\n",
    "        title = result.get(\"title\", \"\").lower()\n",
    "        snippet = result.get(\"snippet\", \"\").lower()\n",
    "\n",
    "        if any(site in link for site in allowed_sites):\n",
    "            score += 3\n",
    "\n",
    "        if any(word in title or word in snippet for word in keywords):\n",
    "            score += 2\n",
    "\n",
    "        if \"date\" in result:\n",
    "            score += 1\n",
    "\n",
    "        return score\n",
    "\n",
    "    if results.get(\"organic\"):\n",
    "        sorted_results_econ = sorted(results.get(\"organic\", []), key=score_result, reverse=True)\n",
    "        return sorted_results_econ\n",
    "    else:\n",
    "        return \"No results found for macroeconomic events.\""
   ]
  },
  {
   "cell_type": "markdown",
   "id": "176725e6-bdf7-4d9d-a4a0-879c325f3767",
   "metadata": {},
   "source": [
    "**TOOL: CLIENT HOLDINGS - Search for top k news articles about the client's highest exposure holdings (title, snippet, date, source)**"
   ]
  },
  {
   "cell_type": "code",
   "execution_count": 22,
   "id": "602f56d0-29bc-4f71-86c7-fa1d43b0e8e8",
   "metadata": {
    "tags": []
   },
   "outputs": [],
   "source": [
    "# Function to retrieve macroeconomic events news (Tool HOLDINGS NEWS)\n",
    "@tool\n",
    "def holdings_news(query_hn: str) -> str:\n",
    "    \"\"\"Return the most relevant news based on each major holding.\"\"\"\n",
    "    def format_google_date(date_str):\n",
    "        parts = date_str.split(\"/\")\n",
    "        return f\"{parts[2]}{parts[0].zfill(2)}{parts[1].zfill(2)}\"\n",
    "\n",
    "    google_start = format_google_date(start_date)\n",
    "    google_end = format_google_date(end_date)\n",
    "\n",
    "    sort_param = f\"date:r:{google_start}:{google_end}\"\n",
    "\n",
    "    search = GoogleSerperAPIWrapper(k=30, sort=sort_param)  # Pass sort parameter\n",
    "    results = search.results(query_hn)\n",
    "\n",
    "    def score_result(result):\n",
    "        score = 0\n",
    "        keywords = keywords_client\n",
    "        link = result.get(\"link\", \"\")\n",
    "        title = result.get(\"title\", \"\").lower()\n",
    "        snippet = result.get(\"snippet\", \"\").lower()\n",
    "\n",
    "        if any(site in link for site in allowed_sites):\n",
    "            score += 3\n",
    "\n",
    "        if any(word in title or word in snippet for word in keywords):\n",
    "            score += 2\n",
    "\n",
    "        if \"date\" in result:\n",
    "            score += 1\n",
    "\n",
    "        return score\n",
    "\n",
    "    if results.get(\"organic\"):\n",
    "        sorted_results_econ = sorted(results.get(\"organic\", []), key=score_result, reverse=True)\n",
    "        return sorted_results_econ\n",
    "    else:\n",
    "        return \"No results found for holdings.\""
   ]
  },
  {
   "cell_type": "code",
   "execution_count": null,
   "id": "e1a8c819-8739-4985-9795-840706e387e5",
   "metadata": {},
   "outputs": [],
   "source": []
  },
  {
   "cell_type": "code",
   "execution_count": null,
   "id": "e8b7b4b3-344c-4cc2-b070-a5de21c2db84",
   "metadata": {},
   "outputs": [],
   "source": []
  },
  {
   "cell_type": "markdown",
   "id": "3d92db7b-198e-4322-9445-633fd1ace067",
   "metadata": {
    "tags": []
   },
   "source": [
    "**TOOL: CLIENT HOLDINGS DATA - Provide an update on the biggest movers of client portfolio**"
   ]
  },
  {
   "cell_type": "code",
   "execution_count": null,
   "id": "06287475-0cef-4962-b915-f6fa020eaee5",
   "metadata": {},
   "outputs": [],
   "source": []
  },
  {
   "cell_type": "code",
   "execution_count": null,
   "id": "54a10ce1-7972-49fd-bdd3-3d5bdb014a33",
   "metadata": {},
   "outputs": [],
   "source": []
  },
  {
   "cell_type": "code",
   "execution_count": null,
   "id": "da57918b-70bb-4ce5-9c59-3b92399b7e0f",
   "metadata": {},
   "outputs": [],
   "source": []
  },
  {
   "cell_type": "markdown",
   "id": "105a520f-fe6a-4c9c-b6fc-76269d8c55ff",
   "metadata": {},
   "source": [
    "**TOOL: MACROFIN DATA - Provide a generate market update on the latest macro/financial indicators**"
   ]
  },
  {
   "cell_type": "code",
   "execution_count": null,
   "id": "3b43e213-7c65-4cf6-bdc8-682c448dcbfc",
   "metadata": {},
   "outputs": [],
   "source": []
  },
  {
   "cell_type": "code",
   "execution_count": null,
   "id": "8099abea-d134-4278-bee2-0c370a3945ab",
   "metadata": {},
   "outputs": [],
   "source": []
  },
  {
   "cell_type": "code",
   "execution_count": null,
   "id": "7a2639fe-4bf4-4744-bf93-537db4cb801e",
   "metadata": {},
   "outputs": [],
   "source": []
  },
  {
   "cell_type": "markdown",
   "id": "25898d15-a0b6-4eb3-8d00-95118fc77e7f",
   "metadata": {},
   "source": [
    "### SUMMARY - CLIENT, ITS SECTOR AND MACRO NEWS"
   ]
  },
  {
   "cell_type": "code",
   "execution_count": 21,
   "id": "c18ad83a-c59f-4251-84eb-ebd0df99f2cf",
   "metadata": {
    "tags": []
   },
   "outputs": [
    {
     "name": "stderr",
     "output_type": "stream",
     "text": [
      "/var/tmp/ipykernel_33550/2137028457.py:30: LangChainDeprecationWarning: The method `BaseTool.__call__` was deprecated in langchain-core 0.1.47 and will be removed in 1.0. Use :meth:`~invoke` instead.\n",
      "  output_ci = client_and_industry(query_ci)\n"
     ]
    },
    {
     "name": "stdout",
     "output_type": "stream",
     "text": [
      "Both Tool A and Tool B outputs highlight the significant impact of tariffs and economic uncertainty on the US economy and retail sector in early 2025.\n",
      "\n",
      "**Tool A (Retail News, focusing on Walmart):**  Walmart's performance is a microcosm of the broader retail landscape. While its online business is projected to become profitable this year,  overall, Walmart's outlook is mixed.  The company's revenue reached approximately $680.47 billion for the year ending January 31, 2025 (LSEG estimates), a roughly 5% increase. However,  a lower-than-expected profit forecast has raised concerns about consumer spending.  Walmart is facing tariff challenges, pushing Chinese suppliers to cut prices to offset the impact.  The company's \"Everyday Low Price\" strategy is being tested, and it's actively increasing its retail media spending, mandating a 25% year-over-year increase from brands.  Despite these challenges, Walmart reaffirmed its annual sales and income forecasts.  News also indicates a shift in retail dominance, with Amazon potentially surpassing Walmart as the largest retailer.\n",
      "\n",
      "**Tool B (Macroeconomic News):** The macroeconomic news paints a picture of growing recessionary risks.  J.P.Morgan raised its odds for a US and global recession to 60% due to the impact of tariffs.  Economists are expressing concerns about the economy's vulnerability to recession, citing weakening economic data and trade tensions.  The impact of tariffs is causing inflation to surge and business activity to stall (nearly stalled in February).  There's considerable uncertainty surrounding the future economic trajectory, influenced by ongoing trade disputes and government spending cuts.\n",
      "\n",
      "**Combined Summary:**  The combined outputs show a confluence of negative economic indicators and their direct impact on a major retail player (Walmart).  Tariffs are a central theme, driving up costs for retailers like Walmart, impacting consumer spending, and increasing the likelihood of a recession (60% probability according to J.P.Morgan). While Walmart shows some resilience with increased revenue and a projected profitable online division, its cautious outlook reflects broader economic anxieties. The weakening consumer spending, coupled with the macroeconomic forecasts of a potential recession, points to a challenging economic climate for the retail sector and the US economy as a whole.\n"
     ]
    }
   ],
   "source": [
    "\n",
    "# Query for stock market and industry-related news\n",
    "query_ci = f\"{site_filter} news about {client_name} and about {industry} industry\"\n",
    "\n",
    "# Query for macroeconomic events\n",
    "query_mn = f\"{site_filter} news about relevant macro events and the economy.\"\n",
    "\n",
    "# Run the agent and get the summary\n",
    "final_summary = agent_function(query_ci, query_mn)\n",
    "\n",
    "# Print the result\n",
    "print(final_summary)"
   ]
  },
  {
   "cell_type": "code",
   "execution_count": null,
   "id": "981113b8-a06c-4081-9375-4205616ab55a",
   "metadata": {},
   "outputs": [],
   "source": [
    "### SUMMARY - HOLDINGS"
   ]
  },
  {
   "cell_type": "code",
   "execution_count": 36,
   "id": "fa1b2af4-b042-4c01-a8cd-cb566aa0d964",
   "metadata": {
    "tags": []
   },
   "outputs": [
    {
     "ename": "TypeError",
     "evalue": "agent_function() missing 1 required positional argument: 'query_b'",
     "output_type": "error",
     "traceback": [
      "\u001b[31m---------------------------------------------------------------------------\u001b[39m",
      "\u001b[31mTypeError\u001b[39m                                 Traceback (most recent call last)",
      "\u001b[36mCell\u001b[39m\u001b[36m \u001b[39m\u001b[32mIn[36]\u001b[39m\u001b[32m, line 5\u001b[39m\n\u001b[32m      2\u001b[39m query_ch = \u001b[33mf\u001b[39m\u001b[33m\"\u001b[39m\u001b[38;5;132;01m{\u001b[39;00msite_filter\u001b[38;5;132;01m}\u001b[39;00m\u001b[33m news about \u001b[39m\u001b[38;5;132;01m{\u001b[39;00mlargest_holdings\u001b[38;5;132;01m}\u001b[39;00m\u001b[33m\"\u001b[39m\n\u001b[32m      4\u001b[39m \u001b[38;5;66;03m# Run the agent and get the summary\u001b[39;00m\n\u001b[32m----> \u001b[39m\u001b[32m5\u001b[39m final_summary = \u001b[43magent_function\u001b[49m\u001b[43m(\u001b[49m\u001b[43mquery_ch\u001b[49m\u001b[43m)\u001b[49m\n\u001b[32m      7\u001b[39m \u001b[38;5;66;03m# Print the result\u001b[39;00m\n\u001b[32m      8\u001b[39m \u001b[38;5;28mprint\u001b[39m(final_summary)\n",
      "\u001b[31mTypeError\u001b[39m: agent_function() missing 1 required positional argument: 'query_b'"
     ]
    }
   ],
   "source": [
    "# Query for stock market and industry-related news\n",
    "query_ci = f\"{site_filter} news about {client_name} and about {industry} industry\"\n",
    "\n",
    "# Query for macroeconomic events\n",
    "query_mn = f\"{site_filter} news about relevant macro events and the economy.\"\n",
    "\n",
    "# Run the agent and get the summary\n",
    "final_summary = agent_function(query_ci, query_mn)\n",
    "\n",
    "# Print the result\n",
    "print(final_summary)"
   ]
  },
  {
   "cell_type": "code",
   "execution_count": 38,
   "id": "b14b031e-ecd9-4b65-ab4d-dce6791d9fc2",
   "metadata": {
    "tags": []
   },
   "outputs": [
    {
     "name": "stdout",
     "output_type": "stream",
     "text": [
      "Several articles discuss Netflix's partnership with Microsoft for its ad-supported streaming service, launched in July 2022.  The articles highlight Microsoft's role in providing ad technology and sales support.  While some articles speculate about a potential Microsoft acquisition of Netflix in 2023, others focus on the partnership's impact on both companies' positions in the digital advertising market.  One article notes that Netflix is shifting from heavily relying on Microsoft for its ad-supported tier to bringing more of this work in-house.  The articles span from July 2022 to May 2024, reflecting the evolving nature of the partnership and its implications.\n"
     ]
    }
   ],
   "source": []
  },
  {
   "cell_type": "code",
   "execution_count": null,
   "id": "b371464f-7c9d-43ad-9a8c-17f541cdef13",
   "metadata": {},
   "outputs": [],
   "source": []
  }
 ],
 "metadata": {
  "environment": {
   "kernel": "conda-env-so_currensee-so_currensee",
   "name": "workbench-notebooks.m129",
   "type": "gcloud",
   "uri": "us-docker.pkg.dev/deeplearning-platform-release/gcr.io/workbench-notebooks:m129"
  },
  "kernelspec": {
   "display_name": "so_currensee",
   "language": "python",
   "name": "conda-env-so_currensee-so_currensee"
  },
  "language_info": {
   "codemirror_mode": {
    "name": "ipython",
    "version": 3
   },
   "file_extension": ".py",
   "mimetype": "text/x-python",
   "name": "python",
   "nbconvert_exporter": "python",
   "pygments_lexer": "ipython3",
   "version": "3.11.12"
  }
 },
 "nbformat": 4,
 "nbformat_minor": 5
}
