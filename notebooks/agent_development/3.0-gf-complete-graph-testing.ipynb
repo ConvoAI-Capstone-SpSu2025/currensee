{
 "cells": [
  {
   "cell_type": "code",
   "execution_count": 1,
   "id": "c57516d8-1607-4573-bcdd-c78af6861c7e",
   "metadata": {},
   "outputs": [],
   "source": [
    "from currensee.agents.complete_graph import compiled_graph\n",
    "from currensee.agents.tools.finance_tools import generate_macro_table"
   ]
  },
  {
   "cell_type": "markdown",
   "id": "0382d110-7666-4cf9-8664-a6ec2799f35e",
   "metadata": {},
   "source": [
    "## Define Initial State\n",
    "\n",
    "This is data that we should be retrieving from each meeting invite.\n",
    "\n",
    "**DO NOT** change this data until the CRM DB has been updated"
   ]
  },
  {
   "cell_type": "code",
   "execution_count": 2,
   "id": "dcc4c7df-7a99-4862-b4ff-e84ed8dfc48c",
   "metadata": {},
   "outputs": [],
   "source": [
    "init_state = {\n",
    "        'client_name': 'Adam Clay',\n",
    "        'client_email': 'adam.clay@compass.com',\n",
    "        'meeting_timestamp': '2024-03-26 11:00:00',\n",
    "        'meeting_description': 'Compass - Annual Credit Facility Review Meeting'\n",
    "\n",
    "    }"
   ]
  },
  {
   "cell_type": "code",
   "execution_count": 3,
   "id": "29f2077c-f68b-4ed1-b7ad-aad02c3599c7",
   "metadata": {},
   "outputs": [],
   "source": [
    "# Email prompt summary should be updated in the file \n",
    "# currensee/agents/tools/outlook_tools.py in the function produce_client_email_summary"
   ]
  },
  {
   "cell_type": "code",
   "execution_count": 4,
   "id": "d7668b28-243a-46ca-907c-a6445913a637",
   "metadata": {},
   "outputs": [],
   "source": [
    "# Finance news prompt summary should be updated in the file \n",
    "# currensee/agents/tools/finance_tools.py in the summarize_finance_outputs function"
   ]
  },
  {
   "cell_type": "code",
   "execution_count": 5,
   "id": "e71339a6-c098-47df-bb6d-acb6bcb1dc75",
   "metadata": {},
   "outputs": [],
   "source": [
    "result = compiled_graph.invoke(init_state)"
   ]
  },
  {
   "cell_type": "code",
   "execution_count": 6,
   "id": "c5ae11b7-32be-4660-b462-69fb01173a5d",
   "metadata": {},
   "outputs": [
    {
     "name": "stdout",
     "output_type": "stream",
     "text": [
      "YF.download() has changed argument auto_adjust default to True\n"
     ]
    },
    {
     "name": "stderr",
     "output_type": "stream",
     "text": [
      "[*********************100%***********************]  1 of 1 completed\n",
      "/home/jupyter/so_currensee/tools_test/currensee/currensee/agents/tools/finance_tools.py:215: FutureWarning: Calling float on a single element Series is deprecated and will raise a TypeError in the future. Use float(ser.iloc[0]) instead\n",
      "  return float(round(data['Close'].iloc[-1], 2))\n",
      "[*********************100%***********************]  1 of 1 completed\n",
      "/home/jupyter/so_currensee/tools_test/currensee/currensee/agents/tools/finance_tools.py:215: FutureWarning: Calling float on a single element Series is deprecated and will raise a TypeError in the future. Use float(ser.iloc[0]) instead\n",
      "  return float(round(data['Close'].iloc[-1], 2))\n",
      "[*********************100%***********************]  1 of 1 completed\n",
      "/home/jupyter/so_currensee/tools_test/currensee/currensee/agents/tools/finance_tools.py:215: FutureWarning: Calling float on a single element Series is deprecated and will raise a TypeError in the future. Use float(ser.iloc[0]) instead\n",
      "  return float(round(data['Close'].iloc[-1], 2))\n",
      "[*********************100%***********************]  1 of 1 completed\n",
      "/home/jupyter/so_currensee/tools_test/currensee/currensee/agents/tools/finance_tools.py:215: FutureWarning: Calling float on a single element Series is deprecated and will raise a TypeError in the future. Use float(ser.iloc[0]) instead\n",
      "  return float(round(data['Close'].iloc[-1], 2))\n",
      "[*********************100%***********************]  1 of 1 completed\n",
      "/home/jupyter/so_currensee/tools_test/currensee/currensee/agents/tools/finance_tools.py:221: FutureWarning: Calling float on a single element Series is deprecated and will raise a TypeError in the future. Use float(ser.iloc[0]) instead\n",
      "  return float(round(((end - start) / start) * 100, 2))\n",
      "[*********************100%***********************]  1 of 1 completed\n",
      "/home/jupyter/so_currensee/tools_test/currensee/currensee/agents/tools/finance_tools.py:221: FutureWarning: Calling float on a single element Series is deprecated and will raise a TypeError in the future. Use float(ser.iloc[0]) instead\n",
      "  return float(round(((end - start) / start) * 100, 2))\n",
      "[*********************100%***********************]  1 of 1 completed\n",
      "/home/jupyter/so_currensee/tools_test/currensee/currensee/agents/tools/finance_tools.py:221: FutureWarning: Calling float on a single element Series is deprecated and will raise a TypeError in the future. Use float(ser.iloc[0]) instead\n",
      "  return float(round(((end - start) / start) * 100, 2))\n",
      "[*********************100%***********************]  1 of 1 completed\n",
      "/home/jupyter/so_currensee/tools_test/currensee/currensee/agents/tools/finance_tools.py:221: FutureWarning: Calling float on a single element Series is deprecated and will raise a TypeError in the future. Use float(ser.iloc[0]) instead\n",
      "  return float(round(((end - start) / start) * 100, 2))\n",
      "[*********************100%***********************]  1 of 1 completed\n",
      "/home/jupyter/so_currensee/tools_test/currensee/currensee/agents/tools/finance_tools.py:221: FutureWarning: Calling float on a single element Series is deprecated and will raise a TypeError in the future. Use float(ser.iloc[0]) instead\n",
      "  return float(round(((end - start) / start) * 100, 2))\n",
      "[*********************100%***********************]  1 of 1 completed\n",
      "/home/jupyter/so_currensee/tools_test/currensee/currensee/agents/tools/finance_tools.py:221: FutureWarning: Calling float on a single element Series is deprecated and will raise a TypeError in the future. Use float(ser.iloc[0]) instead\n",
      "  return float(round(((end - start) / start) * 100, 2))\n",
      "[*********************100%***********************]  1 of 1 completed\n",
      "/home/jupyter/so_currensee/tools_test/currensee/currensee/agents/tools/finance_tools.py:221: FutureWarning: Calling float on a single element Series is deprecated and will raise a TypeError in the future. Use float(ser.iloc[0]) instead\n",
      "  return float(round(((end - start) / start) * 100, 2))\n",
      "[*********************100%***********************]  1 of 1 completed\n",
      "/home/jupyter/so_currensee/tools_test/currensee/currensee/agents/tools/finance_tools.py:221: FutureWarning: Calling float on a single element Series is deprecated and will raise a TypeError in the future. Use float(ser.iloc[0]) instead\n",
      "  return float(round(((end - start) / start) * 100, 2))\n",
      "[*********************100%***********************]  1 of 1 completed\n",
      "/home/jupyter/so_currensee/tools_test/currensee/currensee/agents/tools/finance_tools.py:221: FutureWarning: Calling float on a single element Series is deprecated and will raise a TypeError in the future. Use float(ser.iloc[0]) instead\n",
      "  return float(round(((end - start) / start) * 100, 2))\n",
      "[*********************100%***********************]  1 of 1 completed\n",
      "/home/jupyter/so_currensee/tools_test/currensee/currensee/agents/tools/finance_tools.py:221: FutureWarning: Calling float on a single element Series is deprecated and will raise a TypeError in the future. Use float(ser.iloc[0]) instead\n",
      "  return float(round(((end - start) / start) * 100, 2))\n",
      "[*********************100%***********************]  1 of 1 completed\n",
      "/home/jupyter/so_currensee/tools_test/currensee/currensee/agents/tools/finance_tools.py:221: FutureWarning: Calling float on a single element Series is deprecated and will raise a TypeError in the future. Use float(ser.iloc[0]) instead\n",
      "  return float(round(((end - start) / start) * 100, 2))\n",
      "[*********************100%***********************]  1 of 1 completed\n",
      "/home/jupyter/so_currensee/tools_test/currensee/currensee/agents/tools/finance_tools.py:221: FutureWarning: Calling float on a single element Series is deprecated and will raise a TypeError in the future. Use float(ser.iloc[0]) instead\n",
      "  return float(round(((end - start) / start) * 100, 2))\n"
     ]
    }
   ],
   "source": [
    "summary = result['final_summary']\n",
    "\n",
    "# === Add the macro snapshot\n",
    "macro_table = generate_macro_table()"
   ]
  },
  {
   "cell_type": "code",
   "execution_count": 7,
   "id": "7200286f-fc4e-4de0-bbc9-df9486c1cf9c",
   "metadata": {},
   "outputs": [
    {
     "name": "stdout",
     "output_type": "stream",
     "text": [
      "**Compass - Annual Credit Facility Review Meeting Preparation**\n",
      "\n",
      "**I. Past Meeting/Email Summary**\n",
      "\n",
      "This meeting with Adam Clay of Compass concerns the annual review of their $25 million revolving credit facility with Bankwell Financial.  The facility originated following initial contact at a Real Estate Finance conference, progressing through negotiation of a term sheet, internal Compass approvals, drafting and finalization of definitive loan agreements, and ultimately closing and funding.  Post-closing, Bankwell has confirmed that Compass is satisfied with the drawdown and reporting processes.  The primary focus of this year's review will likely be the facility's performance over the past year and the identification of any necessary adjustments or updates for the coming year.  This will include a discussion of Compass's financial health and performance in light of their recent activities and the broader economic climate.\n",
      "\n",
      "\n",
      "**II. Financial News Data: Compass, Inc.**\n",
      "\n",
      "Compass, Inc., the largest US real estate brokerage by sales volume, has demonstrated significant activity and growth in recent months.  Key highlights include:\n",
      "\n",
      "* **Aggressive Acquisition Strategy:** Compass has been actively pursuing acquisitions, including advanced talks to acquire Warren Buffett's real estate brokerage unit, the completed $444 million acquisition of Christie's International Real Estate and other businesses, and the acquisition of @properties, Chicago's largest residential broker.  These acquisitions underscore Compass's ambitious growth strategy and expansion into new markets and segments.\n",
      "\n",
      "* **Strong Financial Performance:**  Compass reported robust Q4 2024 results, showing a 25.9% year-over-year (YoY) revenue growth, with organic revenue growth at 20.9% YoY.  Their market share also increased by 65 basis points to 5.06%.  While Q1 2025 results are pending (announcement on May 8th), these figures suggest a healthy financial position.\n",
      "\n",
      "* **Strategic Initiatives and Legal Matters:** Compass is actively pursuing innovative business strategies, including a push for sellers to list homes privately, which positions them against major competitors like Zillow and Redfin.  They've also invested $1.6 billion in their technology platform, Compass One.  However, the company is also navigating legal challenges, including a lawsuit against a major US home-listing service and a $57.5 million settlement related to antitrust claims.\n",
      "\n",
      "* **Industry Outlook:**  Compass CEO Robert Reffkin's prediction that Zillow will become the nation's de facto Multiple Listing Service highlights the company's awareness of and adaptation to evolving industry dynamics.  Despite the challenges, Compass maintains a positive outlook, stating they are well-positioned to navigate changes in the real estate industry.\n",
      "\n",
      "\n",
      "**III. Financial News Data: Macroeconomic Environment**\n",
      "\n",
      "The current macroeconomic environment presents a significant context for assessing Compass's performance and future prospects.  Several factors point to potential economic headwinds:\n",
      "\n",
      "* **Recessionary Fears:**  Concerns about a US recession are prevalent, fueled by a recent contraction in the economy (the first since 2022), weak consumer confidence and spending, and the ongoing impact of tariffs.  Analysts warn of potential negative consequences across various sectors, including a potential $45 billion loss in advertising revenue.\n",
      "\n",
      "* **Tariff Impacts:** President Trump's tariffs are identified as a major contributor to these recessionary fears, with significant negative impacts on sectors such as the auto industry (Ford projecting a $1.5 billion hit).\n",
      "\n",
      "* **Economic Indicators and Federal Reserve Actions:** Fluctuating economic indicators, including durable goods orders and shipments, employment trends, and inflation (which has cooled but remains a concern), are closely monitored. The Federal Reserve's actions, particularly interest rate cuts, are also considered in relation to these economic concerns.  While the IMF upgraded its 2024 growth forecast, it also highlighted potential negative impacts from the Red Sea crisis.\n",
      "\n",
      "In summary, Compass's aggressive growth strategy is occurring against a backdrop of significant economic uncertainty and recessionary fears largely driven by the impact of tariffs.  The interplay between Compass's performance and the broader economic climate will be a crucial point of discussion during the credit facility review.\n",
      "\n",
      "### Macro Financial Snapshot\n",
      "\n",
      "|    | Indicator              |    Level | 1-Month Change (%)   | 1-Year Change (%)   | 2-Year Change (%)   |\n",
      "|----|------------------------|----------|----------------------|---------------------|---------------------|\n",
      "|  0 | S&P 500                |  5650.38 | 11.62                | 9.07                | 36.54               |\n",
      "|  1 | NASDAQ                 | 17844.2  | 14.36                | 9.14                | 45.59               |\n",
      "|  2 | WTI Crude Oil Price    |    57.83 | -4.73                | -26.31              | -18.94              |\n",
      "|  3 | US CPI                 |   319.62 | -0.05                | 2.41                | 5.96                |\n",
      "|  4 | US Dollar Index (DXY)  |    99.98 | -3.18                | -4.83               | -1.22               |\n",
      "|  5 | US GDP Growth Rate     |    -0.3  |                      |                     |                     |\n",
      "|  6 | US Unemployment Rate   |     4.2  |                      |                     |                     |\n",
      "|  7 | 10-Year Treasury Yield |     4.28 |                      |                     |                     |\n",
      "|  8 | Fed Funds Rate         |     4.33 |                      |                     |                     |\n"
     ]
    }
   ],
   "source": [
    "full_report = summary + \"\\n\\n### Macro Financial Snapshot\\n\\n\" + macro_table\n",
    "print(full_report)"
   ]
  },
  {
   "cell_type": "code",
   "execution_count": null,
   "id": "1401e61f-de5b-40ad-8c6a-1eb2fb213b5f",
   "metadata": {},
   "outputs": [],
   "source": []
  },
  {
   "cell_type": "code",
   "execution_count": null,
   "id": "039a4846-c3c7-4a8a-a983-12e33c4f4c36",
   "metadata": {},
   "outputs": [],
   "source": []
  }
 ],
 "metadata": {
  "environment": {
   "kernel": "conda-env-so_currensee-so_currensee",
   "name": "workbench-notebooks.m129",
   "type": "gcloud",
   "uri": "us-docker.pkg.dev/deeplearning-platform-release/gcr.io/workbench-notebooks:m129"
  },
  "kernelspec": {
   "display_name": "so_currensee",
   "language": "python",
   "name": "conda-env-so_currensee-so_currensee"
  },
  "language_info": {
   "codemirror_mode": {
    "name": "ipython",
    "version": 3
   },
   "file_extension": ".py",
   "mimetype": "text/x-python",
   "name": "python",
   "nbconvert_exporter": "python",
   "pygments_lexer": "ipython3",
   "version": "3.11.12"
  }
 },
 "nbformat": 4,
 "nbformat_minor": 5
}
