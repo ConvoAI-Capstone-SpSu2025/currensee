{
 "cells": [
  {
   "cell_type": "code",
   "execution_count": 1,
   "id": "c57516d8-1607-4573-bcdd-c78af6861c7e",
   "metadata": {},
   "outputs": [],
   "source": [
    "from currensee.agents.complete_graph import compiled_graph\n",
    "from currensee.agents.tools.finance_tools import generate_macro_table\n",
    "import warnings\n",
    "\n",
    "warnings.filterwarnings('ignore')"
   ]
  },
  {
   "cell_type": "markdown",
   "id": "0382d110-7666-4cf9-8664-a6ec2799f35e",
   "metadata": {},
   "source": [
    "## Define Initial State\n",
    "\n",
    "This is data that we should be retrieving from each meeting invite.\n",
    "\n",
    "**DO NOT** change this data until the CRM DB has been updated"
   ]
  },
  {
   "cell_type": "code",
   "execution_count": 2,
   "id": "dcc4c7df-7a99-4862-b4ff-e84ed8dfc48c",
   "metadata": {},
   "outputs": [],
   "source": [
    "init_state = {\n",
    "        'client_name': 'Adam Clay',\n",
    "        'client_email': 'adam.clay@compass.com',\n",
    "        'meeting_timestamp': '2024-03-26 11:00:00',\n",
    "        'meeting_description': 'Compass - Annual Credit Facility Review Meeting'\n",
    "    }"
   ]
  },
  {
   "cell_type": "code",
   "execution_count": 3,
   "id": "29f2077c-f68b-4ed1-b7ad-aad02c3599c7",
   "metadata": {},
   "outputs": [],
   "source": [
    "# Email prompt summary should be updated in the file \n",
    "# currensee/agents/tools/outlook_tools.py in the function produce_client_email_summary"
   ]
  },
  {
   "cell_type": "code",
   "execution_count": 4,
   "id": "d7668b28-243a-46ca-907c-a6445913a637",
   "metadata": {},
   "outputs": [],
   "source": [
    "# Finance news prompt summary should be updated in the file \n",
    "# currensee/agents/tools/finance_tools.py in the summarize_finance_outputs function"
   ]
  },
  {
   "cell_type": "code",
   "execution_count": 5,
   "id": "e71339a6-c098-47df-bb6d-acb6bcb1dc75",
   "metadata": {},
   "outputs": [],
   "source": [
    "result = compiled_graph.invoke(init_state)"
   ]
  },
  {
   "cell_type": "code",
   "execution_count": 6,
   "id": "c5ae11b7-32be-4660-b462-69fb01173a5d",
   "metadata": {},
   "outputs": [],
   "source": [
    "summary = result['final_summary']\n",
    "\n",
    "# === Add the macro snapshot\n",
    "macro_table = generate_macro_table()"
   ]
  },
  {
   "cell_type": "code",
   "execution_count": 7,
   "id": "7200286f-fc4e-4de0-bbc9-df9486c1cf9c",
   "metadata": {},
   "outputs": [
    {
     "name": "stdout",
     "output_type": "stream",
     "text": [
      "**Compass - Annual Credit Facility Review Meeting Preparation Document**\n",
      "\n",
      "**I. Past Meeting/Email Summary**\n",
      "\n",
      "This meeting pertains to the annual review of Compass's $25 million revolving credit facility with Bankwell Financial.  This facility resulted from negotiations between Jane Moneypenny (Bankwell) and Adam Clay (Compass), initiated following a connection at the Real Estate Finance conference.  Internal Compass review and approval of the term sheet led to the finalization and execution of the loan agreement. The facility was fully funded on [Date - to be inserted]. A post-closing check-in confirmed Compass's satisfaction with the drawdown and reporting processes.  The primary focus of this meeting will be an assessment of the facility's performance over the past year, identification of any necessary adjustments, and future planning considerations for the credit facility.\n",
      "\n",
      "\n",
      "**II. Financial News Data Summary**\n",
      "\n",
      "**A. Real Estate Sector and Compass Performance:**\n",
      "\n",
      "The real estate sector shows significant activity, particularly concerning Compass.  Compass is experiencing substantial growth, highlighted by a 25.9% year-over-year (YoY) revenue increase in Q4 2024, with organic revenue growth at 20.9% YoY.  Market share also increased by 65 basis points (bps) YoY, reaching 5.06% in Q4 2024.  This growth is fueled by strategic acquisitions, including the recently completed $444 million acquisition of Christie's International Real Estate and ongoing negotiations to purchase Warren Buffett's real estate brokerage unit.  The launch of \"Compass One,\" a new client dashboard, further demonstrates their commitment to innovation.  However, Compass is also navigating legal challenges, having settled lawsuits related to marketing rules and commissions for a total of $167.5 million ($57.5 million in March 2024 and $110 million in October 2024).  Compass is engaged in competitive battles with companies like Zillow and Redfin, particularly concerning private home listings.  Their Q1 2025 earnings announcement (May 8th) and various industry presentations will provide further insights into their performance.  Analysts predict Compass is nearing breakeven.\n",
      "\n",
      "**B. International Equity Market Overview:**\n",
      "\n",
      "Analysis of the Fidelity Advisor Total International Equity Fund reveals a strong presence of technology companies in its top holdings.  Taiwan Semiconductor Manufacturing Co. Ltd. consistently ranks as the top holding across different fund variations (FTAEX, FTTEX, FTCEX, FTEIX), with holdings ranging from approximately 2.70% to 3.50%.  Other significant holdings include Tencent Holdings Ltd., CRH PLC, SAP SE, and Samsung Electronics Co., Ltd.  This data provides context for the broader investment landscape and the performance of major technology players.\n",
      "\n",
      "**C. Macroeconomic Conditions and Outlook:**\n",
      "\n",
      "The global economic outlook presents a mixed picture.  Concerns about recession risks are prominent, exacerbated by the impact of tariffs on various sectors, including advertising.  The Federal Reserve's decision to maintain interest rates unchanged despite rising inflation and growth risks reflects a cautious approach.  While March 2025 saw record-high retail sales, the business activity index reached a 17-month low in February 2025, indicating economic uncertainty.  The upcoming FOMC meeting and the US election are expected to significantly influence the economic trajectory.  Analysts offer varying perspectives on the severity of the potential recession, highlighting the uncertainty in the current economic climate.\n",
      "\n",
      "**III.  Overall Assessment:**\n",
      "\n",
      "Compass demonstrates strong growth within a challenging macroeconomic environment.  While their financial performance is positive, the broader economic uncertainties, including recession risks and the impact of tariffs, should be considered during the credit facility review.  The data on international equity funds provides a perspective on the investment landscape, showing the continued prominence of technology companies.  The meeting should carefully assess Compass's financial health in light of these competing factors to determine appropriate adjustments or future planning for the credit facility.\n",
      "\n",
      "### Macro Financial Snapshot\n",
      "\n",
      "|    | Indicator               |   Level | 1-Month Change (%)   | 3-Month Change (%)   | 6-Month Change (%)   | 1-Year Change (%)   | 2-Year Change (%)   |\n",
      "|----|-------------------------|---------|----------------------|----------------------|----------------------|---------------------|---------------------|\n",
      "|  0 | S&P 500 Index           | 5631.28 | 13.02                | -7.43                | -1.43                | 8.7                 | 38.66               |\n",
      "|  1 | WTI Crude Oil Price     |   58.5  | -6.28                | -19.91               | -15.11               | -29.93              | -21.3               |\n",
      "|  2 | US Dollar Index (Broad) |  122.86 | -2.55                | -4.24                | -1.73                | -0.42               | 2.92                |\n",
      "|  3 | US CPI                  |  319.62 | 4.92                 |                      |                      |                     |                     |\n",
      "|  4 | US GDP Growth Rate      |   -0.3  |                      |                      |                      |                     |                     |\n",
      "|  5 | US Unemployment Rate    |    4.2  |                      |                      |                      |                     |                     |\n",
      "|  6 | 10-Year Treasury Yield  |    4.28 |                      |                      |                      |                     |                     |\n",
      "|  7 | Fed Funds Rate          |    4.33 |                      |                      |                      |                     |                     |\n"
     ]
    }
   ],
   "source": [
    "full_report = summary + \"\\n\\n### Macro Financial Snapshot\\n\\n\" + macro_table\n",
    "print(full_report)"
   ]
  },
  {
   "cell_type": "code",
   "execution_count": null,
   "id": "026afc85-f4a1-41b0-aa81-1d50a1cb212f",
   "metadata": {},
   "outputs": [],
   "source": []
  },
  {
   "cell_type": "code",
   "execution_count": null,
   "id": "b20bbc55-8b0a-4647-826d-297523757efc",
   "metadata": {},
   "outputs": [],
   "source": []
  },
  {
   "cell_type": "code",
   "execution_count": null,
   "id": "1ae1f39b-e207-475f-bc60-94c89708b38a",
   "metadata": {},
   "outputs": [],
   "source": []
  }
 ],
 "metadata": {
  "environment": {
   "kernel": "conda-env-so_currensee-so_currensee",
   "name": "workbench-notebooks.m129",
   "type": "gcloud",
   "uri": "us-docker.pkg.dev/deeplearning-platform-release/gcr.io/workbench-notebooks:m129"
  },
  "kernelspec": {
   "display_name": "so_currensee",
   "language": "python",
   "name": "conda-env-so_currensee-so_currensee"
  },
  "language_info": {
   "codemirror_mode": {
    "name": "ipython",
    "version": 3
   },
   "file_extension": ".py",
   "mimetype": "text/x-python",
   "name": "python",
   "nbconvert_exporter": "python",
   "pygments_lexer": "ipython3",
   "version": "3.11.12"
  }
 },
 "nbformat": 4,
 "nbformat_minor": 5
}
