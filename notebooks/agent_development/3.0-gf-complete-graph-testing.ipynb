{
 "cells": [
  {
   "cell_type": "code",
   "execution_count": 1,
   "id": "c57516d8-1607-4573-bcdd-c78af6861c7e",
   "metadata": {},
   "outputs": [],
   "source": [
    "from currensee.agents.complete_graph import compiled_graph\n",
    "from currensee.agents.tools.finance_tools import generate_macro_table\n",
    "import warnings\n",
    "\n",
    "warnings.filterwarnings('ignore')"
   ]
  },
  {
   "cell_type": "markdown",
   "id": "0382d110-7666-4cf9-8664-a6ec2799f35e",
   "metadata": {},
   "source": [
    "## Define Initial State\n",
    "\n",
    "This is data that we should be retrieving from each meeting invite.\n",
    "\n",
    "**DO NOT** change this data until the CRM DB has been updated"
   ]
  },
  {
   "cell_type": "code",
   "execution_count": 2,
   "id": "dcc4c7df-7a99-4862-b4ff-e84ed8dfc48c",
   "metadata": {},
   "outputs": [],
   "source": [
    "init_state = {\n",
    "        'client_name': 'Adam Clay',\n",
    "        'client_email': 'adam.clay@compass.com',\n",
    "        'meeting_timestamp': '2024-03-26 11:00:00',\n",
    "        'meeting_description': 'Compass - Annual Credit Facility Review Meeting'\n",
    "\n",
    "    }"
   ]
  },
  {
   "cell_type": "code",
   "execution_count": 3,
   "id": "29f2077c-f68b-4ed1-b7ad-aad02c3599c7",
   "metadata": {},
   "outputs": [],
   "source": [
    "# Email prompt summary should be updated in the file \n",
    "# currensee/agents/tools/outlook_tools.py in the function produce_client_email_summary"
   ]
  },
  {
   "cell_type": "code",
   "execution_count": 4,
   "id": "d7668b28-243a-46ca-907c-a6445913a637",
   "metadata": {},
   "outputs": [],
   "source": [
    "# Finance news prompt summary should be updated in the file \n",
    "# currensee/agents/tools/finance_tools.py in the summarize_finance_outputs function"
   ]
  },
  {
   "cell_type": "code",
   "execution_count": 5,
   "id": "e71339a6-c098-47df-bb6d-acb6bcb1dc75",
   "metadata": {},
   "outputs": [],
   "source": [
    "result = compiled_graph.invoke(init_state)"
   ]
  },
  {
   "cell_type": "code",
   "execution_count": 6,
   "id": "c5ae11b7-32be-4660-b462-69fb01173a5d",
   "metadata": {},
   "outputs": [
    {
     "name": "stdout",
     "output_type": "stream",
     "text": [
      "YF.download() has changed argument auto_adjust default to True\n"
     ]
    },
    {
     "name": "stderr",
     "output_type": "stream",
     "text": [
      "[*********************100%***********************]  1 of 1 completed\n",
      "[*********************100%***********************]  1 of 1 completed\n",
      "[*********************100%***********************]  1 of 1 completed\n",
      "[*********************100%***********************]  1 of 1 completed\n",
      "[*********************100%***********************]  1 of 1 completed\n",
      "[*********************100%***********************]  1 of 1 completed\n",
      "[*********************100%***********************]  1 of 1 completed\n",
      "[*********************100%***********************]  1 of 1 completed\n",
      "[*********************100%***********************]  1 of 1 completed\n",
      "[*********************100%***********************]  1 of 1 completed\n",
      "[*********************100%***********************]  1 of 1 completed\n",
      "[*********************100%***********************]  1 of 1 completed\n",
      "[*********************100%***********************]  1 of 1 completed\n",
      "[*********************100%***********************]  1 of 1 completed\n",
      "[*********************100%***********************]  1 of 1 completed\n",
      "[*********************100%***********************]  1 of 1 completed\n"
     ]
    }
   ],
   "source": [
    "summary = result['final_summary']\n",
    "\n",
    "# === Add the macro snapshot\n",
    "macro_table = generate_macro_table()"
   ]
  },
  {
   "cell_type": "code",
   "execution_count": 7,
   "id": "7200286f-fc4e-4de0-bbc9-df9486c1cf9c",
   "metadata": {},
   "outputs": [
    {
     "name": "stdout",
     "output_type": "stream",
     "text": [
      "**Compass - Annual Credit Facility Review Meeting Preparation**\n",
      "\n",
      "**I. Past Meeting/Email Summary**\n",
      "\n",
      "This meeting with Adam Clay of Compass concerns the annual review of their $25 million revolving credit facility with Bankwell Financial.  This facility originated from discussions initiated at the Real Estate Finance conference.  Following a review of Compass's financials and subsequent negotiation, Bankwell provided an indicative term sheet, which Compass internally approved.  The definitive loan agreement was drafted, finalized, and the facility was successfully closed and funded.  Post-closing, Bankwell has maintained contact with Compass to ensure satisfaction with the drawdown and reporting processes. The primary focus of this meeting will be on the facility's performance over the past year and a discussion of any necessary adjustments or future plans for the credit facility.\n",
      "\n",
      "\n",
      "**II. Financial News Data: Compass Inc.**\n",
      "\n",
      "Compass, the leading US residential real estate brokerage by sales volume in 2023, is demonstrating significant growth and strategic activity.  Key developments include advanced negotiations to acquire HomeServices of America (Warren Buffett's real estate brokerage unit), the launch of their $1.6 billion technology platform, \"Compass One,\" and substantial acquisitions of @properties (a major Chicago brokerage) and Christie's International Real Estate ($444 million).  Legal matters include lawsuits against a listing service (resulting in settlements over antitrust allegations totaling $57.5 million).  These actions reflect Compass's aggressive expansion strategy.  CEO Robert Reffkin's predictions about industry shifts, including the potential for Zillow to become a national Multiple Listing Service, further highlight the company's forward-thinking approach.  Relevant financial information includes previously announced Q3 2024 earnings and upcoming Q1 2025 results scheduled for release on May 8th.\n",
      "\n",
      "\n",
      "**III. Financial News Data: US Economy**\n",
      "\n",
      "Current economic news presents a mixed picture of the US economy.  Concerns about a potential recession are prevalent, fueled by factors such as the impact of tariffs (with projected losses of $45 billion for the advertising industry and $1.5 billion for Ford), slowing consumer spending and confidence, and persistent inflationary pressures.  These concerns are partially offset by reports of continued strength in certain sectors, like retail sales, and the Federal Reserve's actions, including interest rate cuts implemented in 2024.  A comprehensive analysis of various economic indicators is necessary to fully understand the current economic climate.\n",
      "\n",
      "\n",
      "**IV. Financial News Data: Financial Holdings (Brief)**\n",
      "\n",
      "While less relevant to the primary focus on Compass and the credit facility, it is noted that a brief mention of FTAEX's top holdings included Taiwan Semiconductor Manufacturing Co. Ltd., Tencent Holdings Ltd., SAP SE, and CRH PLC.  This information is tangential to the main discussion points of the meeting.\n",
      "\n",
      "\n",
      "**V. Summary for Meeting Attendees**\n",
      "\n",
      "In summary, this meeting will review Compass's credit facility performance against the backdrop of a dynamic real estate market and a US economy facing potential recessionary pressures.  Compass's aggressive expansion and technological investments contrast with broader economic uncertainty.  A thorough understanding of both Compass's financial performance and the macroeconomic environment is crucial for a productive discussion.\n",
      "\n",
      "### Macro Financial Snapshot\n",
      "\n",
      "|    | Indicator              |    Level | 1-Month Change (%)   | 1-Year Change (%)   | 2-Year Change (%)   |\n",
      "|----|------------------------|----------|----------------------|---------------------|---------------------|\n",
      "|  0 | S&P 500                |  5650.38 | 11.62                | 9.07                | 36.54               |\n",
      "|  1 | NASDAQ                 | 17844.2  | 14.36                | 9.14                | 45.59               |\n",
      "|  2 | WTI Crude Oil Price    |    58.05 | -4.37                | -26.03              | -18.63              |\n",
      "|  3 | US CPI                 |   319.62 | -0.05                | 2.41                | 5.96                |\n",
      "|  4 | US Dollar Index (DXY)  |    99.82 | -3.33                | -4.98               | -1.37               |\n",
      "|  5 | US GDP Growth Rate     |    -0.3  |                      |                     |                     |\n",
      "|  6 | US Unemployment Rate   |     4.2  |                      |                     |                     |\n",
      "|  7 | 10-Year Treasury Yield |     4.28 |                      |                     |                     |\n",
      "|  8 | Fed Funds Rate         |     4.33 |                      |                     |                     |\n"
     ]
    }
   ],
   "source": [
    "full_report = summary + \"\\n\\n### Macro Financial Snapshot\\n\\n\" + macro_table\n",
    "print(full_report)"
   ]
  },
  {
   "cell_type": "code",
   "execution_count": null,
   "id": "026afc85-f4a1-41b0-aa81-1d50a1cb212f",
   "metadata": {},
   "outputs": [],
   "source": []
  },
  {
   "cell_type": "code",
   "execution_count": null,
   "id": "b20bbc55-8b0a-4647-826d-297523757efc",
   "metadata": {},
   "outputs": [],
   "source": []
  }
 ],
 "metadata": {
  "environment": {
   "kernel": "conda-env-so_currensee-so_currensee",
   "name": "workbench-notebooks.m129",
   "type": "gcloud",
   "uri": "us-docker.pkg.dev/deeplearning-platform-release/gcr.io/workbench-notebooks:m129"
  },
  "kernelspec": {
   "display_name": "so_currensee",
   "language": "python",
   "name": "conda-env-so_currensee-so_currensee"
  },
  "language_info": {
   "codemirror_mode": {
    "name": "ipython",
    "version": 3
   },
   "file_extension": ".py",
   "mimetype": "text/x-python",
   "name": "python",
   "nbconvert_exporter": "python",
   "pygments_lexer": "ipython3",
   "version": "3.11.12"
  }
 },
 "nbformat": 4,
 "nbformat_minor": 5
}
