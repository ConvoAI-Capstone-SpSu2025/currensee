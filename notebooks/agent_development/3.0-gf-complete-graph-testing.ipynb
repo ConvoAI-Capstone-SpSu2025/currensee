{
 "cells": [
  {
   "cell_type": "code",
   "execution_count": 1,
   "id": "c57516d8-1607-4573-bcdd-c78af6861c7e",
   "metadata": {},
   "outputs": [],
   "source": [
    "from currensee.agents.complete_graph import compiled_graph"
   ]
  },
  {
   "cell_type": "markdown",
   "id": "0382d110-7666-4cf9-8664-a6ec2799f35e",
   "metadata": {},
   "source": [
    "## Define Initial State\n",
    "\n",
    "This is data that we should be retrieving from each meeting invite.\n",
    "\n",
    "**DO NOT** change this data until the CRM DB has been updated"
   ]
  },
  {
   "cell_type": "code",
   "execution_count": 2,
   "id": "dcc4c7df-7a99-4862-b4ff-e84ed8dfc48c",
   "metadata": {},
   "outputs": [],
   "source": [
    "init_state = {\n",
    "        'client_name': 'Adam Clay',\n",
    "        'client_email': 'adam.clay@compass.com',\n",
    "        'meeting_timestamp': '2024-03-26 11:00:00',\n",
    "        'meeting_description': 'Compass - Annual Credit Facility Review Meeting'\n",
    "\n",
    "    }"
   ]
  },
  {
   "cell_type": "code",
   "execution_count": 3,
   "id": "29f2077c-f68b-4ed1-b7ad-aad02c3599c7",
   "metadata": {},
   "outputs": [],
   "source": [
    "# Email prompt summary should be updated in the file \n",
    "# currensee/agents/tools/outlook_tools.py in the function produce_client_email_summary"
   ]
  },
  {
   "cell_type": "code",
   "execution_count": 4,
   "id": "d7668b28-243a-46ca-907c-a6445913a637",
   "metadata": {},
   "outputs": [],
   "source": [
    "# Finance news prompt summary should be updated in the file \n",
    "# currensee/agents/tools/finance_tools.py in the summarize_finance_outputs function"
   ]
  },
  {
   "cell_type": "code",
   "execution_count": 5,
   "id": "e71339a6-c098-47df-bb6d-acb6bcb1dc75",
   "metadata": {},
   "outputs": [],
   "source": [
    "result = compiled_graph.invoke(init_state)"
   ]
  },
  {
   "cell_type": "code",
   "execution_count": 7,
   "id": "c5ae11b7-32be-4660-b462-69fb01173a5d",
   "metadata": {},
   "outputs": [
    {
     "name": "stdout",
     "output_type": "stream",
     "text": [
      "**Compass - Annual Credit Facility Review Meeting Preparation**\n",
      "\n",
      "**I. Past Meeting/Email Summary**\n",
      "\n",
      "This meeting with Adam Clay of Compass concerns the annual review of their $25 million revolving credit facility with Bankwell Financial.  This facility was established following discussions initiated at the Real Estate Finance conference.  After Compass reviewed the Bankwell Financial financials and approved a term sheet, definitive loan agreements were drafted and finalized. The facility officially closed and funded on [Date -  to be inserted].  Since the closing, Compass has made several drawdowns, and their reports indicate the process and reporting requirements have been straightforward and satisfactory. The primary purpose of this meeting is to review the facility's performance over the past year and discuss any potential needs or adjustments for the coming year.  We should be prepared to discuss Compass's financial performance in relation to their credit facility utilization and any potential future borrowing needs.\n",
      "\n",
      "**II. Financial News Data Relevant to Compass**\n",
      "\n",
      "**A. Real Estate Industry Performance:**\n",
      "\n",
      "Compass, the largest residential real estate brokerage in the US by sales volume, has experienced a significant year.  Their Q4 2024 results showed strong performance, with a 25.9% year-over-year revenue growth and a 65 basis point increase in market share to 5.06%.  This growth is notable given the broader economic uncertainty.  Furthermore, Compass has been actively engaged in strategic acquisitions, including the acquisition of @properties and Christie's International Real Estate for $444 million, demonstrating aggressive expansion.  They have also launched Compass One, an all-in-one client dashboard, showcasing innovation within the industry.  Currently, Compass is in advanced talks to acquire Warren Buffett's real estate brokerage unit, which, if successful, would further solidify their market dominance.  However, it's important to note that Compass has also faced legal challenges, including a lawsuit against a listing service and a $57.5 million settlement over antitrust allegations.  These legal battles should be considered when assessing their overall financial health and risk profile.\n",
      "\n",
      "**B. Technology Sector and its Impact on Compass:**\n",
      "\n",
      "The strong performance of major tech companies like Microsoft and Meta, fueled by increased investment in AI, is a positive indicator for the overall market.  NVIDIA's stock gains, linked to Meta and Microsoft's AI investments, suggest a robust technology sector.  This positive technology climate could indirectly benefit Compass, given its tech-enabled business model.  The prediction that Zillow will become the nation's de facto Multiple Listing Service could also impact Compass's operations and market strategy.  We should be prepared to discuss how these technological advancements and industry shifts might influence Compass's future performance and creditworthiness.\n",
      "\n",
      "**C. Overall Economic Conditions:**\n",
      "\n",
      "The current economic climate presents a mixed picture. While the global economy continues to expand and the US retail sector shows stable growth, concerns about a potential recession remain.  Rising tariffs, softening consumer confidence, and potential advertising spending pullbacks pose significant risks.  The Federal Reserve's actions, including interest rate cuts, reflect attempts to manage economic uncertainty.  Inflation and unemployment levels are key economic factors to monitor closely.  These macroeconomic factors will undoubtedly influence the real estate market and, consequently, Compass's performance and creditworthiness.  We need to assess how these economic headwinds and tailwinds might affect Compass's ability to service their debt and meet their future financial obligations.\n",
      "\n",
      "\n",
      "**III.  Meeting Objectives:**\n",
      "\n",
      "The primary objective of this meeting is to review Compass's credit facility performance, assess their financial health considering the information above, and discuss any necessary adjustments to the facility for the coming year.  We should be prepared to discuss Compass's financial projections, risk assessment, and any potential challenges or opportunities they foresee.\n"
     ]
    }
   ],
   "source": [
    "print(result['final_summary'])"
   ]
  },
  {
   "cell_type": "code",
   "execution_count": null,
   "id": "299d4840-72c2-4848-a349-e96515107b23",
   "metadata": {},
   "outputs": [],
   "source": []
  },
  {
   "cell_type": "code",
   "execution_count": null,
   "id": "7200286f-fc4e-4de0-bbc9-df9486c1cf9c",
   "metadata": {},
   "outputs": [],
   "source": []
  },
  {
   "cell_type": "code",
   "execution_count": null,
   "id": "1401e61f-de5b-40ad-8c6a-1eb2fb213b5f",
   "metadata": {},
   "outputs": [],
   "source": []
  },
  {
   "cell_type": "code",
   "execution_count": null,
   "id": "039a4846-c3c7-4a8a-a983-12e33c4f4c36",
   "metadata": {},
   "outputs": [],
   "source": []
  }
 ],
 "metadata": {
  "environment": {
   "kernel": "conda-env-gf_currensee-gf_currensee",
   "name": "workbench-notebooks.m129",
   "type": "gcloud",
   "uri": "us-docker.pkg.dev/deeplearning-platform-release/gcr.io/workbench-notebooks:m129"
  },
  "kernelspec": {
   "display_name": "gf_currensee",
   "language": "python",
   "name": "conda-env-gf_currensee-gf_currensee"
  },
  "language_info": {
   "codemirror_mode": {
    "name": "ipython",
    "version": 3
   },
   "file_extension": ".py",
   "mimetype": "text/x-python",
   "name": "python",
   "nbconvert_exporter": "python",
   "pygments_lexer": "ipython3",
   "version": "3.11.12"
  }
 },
 "nbformat": 4,
 "nbformat_minor": 5
}
