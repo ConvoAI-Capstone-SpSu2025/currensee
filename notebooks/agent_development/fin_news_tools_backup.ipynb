{
 "cells": [
  {
   "cell_type": "markdown",
   "id": "8f440a01",
   "metadata": {},
   "source": [
    "# Test a Tool in Isolation\n",
    "\n",
    "The purpose of this notebook is to test a tool in isolation from the entire graph to confirm proper implementation.\n",
    "\n",
    "**NOTE**: You must have your `GOOGLE_API_KEY` defined in your .env file. You can get this API key here: https://aistudio.google.com/app/apikey"
   ]
  },
  {
   "cell_type": "code",
   "execution_count": 2,
   "id": "88f8b1e9",
   "metadata": {
    "tags": []
   },
   "outputs": [
    {
     "name": "stdout",
     "output_type": "stream",
     "text": [
      "Note: you may need to restart the kernel to use updated packages.\n"
     ]
    }
   ],
   "source": [
    "from langgraph.checkpoint.memory import MemorySaver\n",
    "from langchain_core.messages import HumanMessage, AIMessage\n",
    "from langgraph.graph import StateGraph, START, END\n",
    "from langgraph.prebuilt import create_react_agent\n",
    "from langchain_core.runnables import RunnableLambda\n",
    "from langchain.tools import tool\n",
    "%pip install --upgrade --quiet  langchain-community\n",
    "import os\n",
    "import pprint\n",
    "from langchain_community.utilities import GoogleSerperAPIWrapper\n",
    "\n",
    "os.environ[\"SERPER_API_KEY\"] = \"4369e38ae59aff075549b44c923813da127c06ef\"\n",
    "\n",
    "from currensee.core import get_model, settings"
   ]
  },
  {
   "cell_type": "code",
   "execution_count": 3,
   "id": "e6dc6618",
   "metadata": {
    "tags": []
   },
   "outputs": [
    {
     "data": {
      "text/plain": [
       "True"
      ]
     },
     "execution_count": 3,
     "metadata": {},
     "output_type": "execute_result"
    }
   ],
   "source": [
    "from dotenv import load_dotenv\n",
    "\n",
    "load_dotenv()"
   ]
  },
  {
   "cell_type": "markdown",
   "id": "56181781",
   "metadata": {},
   "source": [
    "## Import or Define Your Tool\n",
    "\n",
    "Custom tools may be defined as follows:\n",
    "\n",
    "```python\n",
    "@tool\n",
    "def add(a: float, b: float) -> float:\n",
    "    \"\"\"Add two float numbers\"\"\"\n",
    "    return a + b\n",
    "```\n",
    "\n",
    "Tools may be imported as here:\n",
    "\n",
    "```python\n",
    "from langchain_community.agent_toolkits import O365Toolkit\n",
    "\n",
    "toolkit = O365Toolkit()\n",
    "o365_tools = toolkit.get_tools()\n",
    "\n",
    "```"
   ]
  },
  {
   "cell_type": "code",
   "execution_count": 4,
   "id": "51501682",
   "metadata": {
    "tags": []
   },
   "outputs": [],
   "source": [
    "# Import/define your tool here\n",
    "\n",
    "@tool\n",
    "def add(a: float, b: float) -> float:\n",
    "    \"\"\"Add two float numbers\"\"\"\n",
    "    return a + b"
   ]
  },
  {
   "cell_type": "markdown",
   "id": "6657b1d4",
   "metadata": {},
   "source": [
    "## Create Your Agent\n",
    "\n",
    "An agent requires:\n",
    "* the model\n",
    "* tools\n",
    "* a name\n",
    "* a prompt describing the purpose of the tool\n",
    "\n",
    "Example:\n",
    "\n",
    "\n",
    "\n",
    "```python\n",
    "math_agent = create_react_agent(\n",
    "    model=model,\n",
    "    tools=[add],\n",
    "    name=\"math_expert\",\n",
    "    prompt=\"You are a math expert. Always use one tool at a time.\",\n",
    ").with_config(tags=[\"skip_stream\"])\n",
    "\n",
    "```"
   ]
  },
  {
   "cell_type": "code",
   "execution_count": 5,
   "id": "dd722f84",
   "metadata": {
    "tags": []
   },
   "outputs": [],
   "source": [
    "# Define the gemini model for the tool\n",
    "model = get_model(settings.DEFAULT_MODEL)\n",
    "\n",
    "# Add your tools\n",
    "tools = [add]\n",
    "\n",
    "# Define the agent\n",
    "name = \"fin_market_expert\"\n",
    "\n",
    "# Define a prompt for the agent's purpose\n",
    "prompt = \"You are a financial market expert. Summarize these news into a few sentences.\""
   ]
  },
  {
   "cell_type": "code",
   "execution_count": 6,
   "id": "785b6500",
   "metadata": {
    "tags": []
   },
   "outputs": [],
   "source": [
    "test_agent = create_react_agent(\n",
    "    model=model,\n",
    "    tools=tools,\n",
    "    name=name,\n",
    "    prompt=prompt,\n",
    ").with_config(tags=[\"skip_stream\"])"
   ]
  },
  {
   "cell_type": "markdown",
   "id": "2f4a4fb8",
   "metadata": {},
   "source": [
    "## Prompt the agent"
   ]
  },
  {
   "cell_type": "code",
   "execution_count": 7,
   "id": "bd3bd8eb",
   "metadata": {
    "tags": []
   },
   "outputs": [],
   "source": [
    "query = \"Summarize these news into a few sentences.\""
   ]
  },
  {
   "cell_type": "code",
   "execution_count": 8,
   "id": "8497c5fc",
   "metadata": {
    "tags": []
   },
   "outputs": [],
   "source": [
    "inputs = {\"input\": query}\n",
    "inputs = {\"messages\": [(\"human\", query)]}"
   ]
  },
  {
   "cell_type": "code",
   "execution_count": 9,
   "id": "5f0a36cd",
   "metadata": {
    "tags": []
   },
   "outputs": [],
   "source": [
    "# Invoke agent\n",
    "result = test_agent.invoke(input=inputs)"
   ]
  },
  {
   "cell_type": "code",
   "execution_count": 10,
   "id": "4ead0bf0",
   "metadata": {
    "tags": []
   },
   "outputs": [
    {
     "name": "stdout",
     "output_type": "stream",
     "text": [
      "content='What would you like to know about?  I need a topic to give you information on.' additional_kwargs={} response_metadata={'prompt_feedback': {'block_reason': 0, 'safety_ratings': []}, 'finish_reason': 'STOP', 'model_name': 'gemini-1.5-flash', 'safety_ratings': []} name='fin_market_expert' id='run-62948a30-f6e2-482e-9dc7-13a76dd4e9a2-0' usage_metadata={'input_tokens': 31, 'output_tokens': 20, 'total_tokens': 51, 'input_token_details': {'cache_read': 0}}\n"
     ]
    }
   ],
   "source": [
    "# Process output\n",
    "print(result[\"messages\"][-1])"
   ]
  },
  {
   "cell_type": "markdown",
   "id": "1b52fe3d-cc53-4151-a3e4-e683a93e0897",
   "metadata": {},
   "source": [
    "### FINANCIAL NEWS TOOLS"
   ]
  },
  {
   "cell_type": "code",
   "execution_count": 11,
   "id": "e1ed7b55-61ce-4574-8019-1715658f7bfb",
   "metadata": {
    "tags": []
   },
   "outputs": [],
   "source": [
    "#initial synthesized prompt?\n",
    "\n",
    "# Parameters\n",
    "client_name = \"Walmart\"\n",
    "start_date = \"1/31/2025\"\n",
    "end_date = \"4/30/2025\"\n",
    "industry = \"retail\"\n",
    "#Future: portfolio tickers(for data and news)\n",
    "\n",
    "#summary?"
   ]
  },
  {
   "cell_type": "code",
   "execution_count": 12,
   "id": "7c22be4c-9bc7-4e6e-95aa-04c6301aefa5",
   "metadata": {
    "tags": []
   },
   "outputs": [],
   "source": [
    "#definitions\n",
    "\n",
    "keywords_client = [\"announces\", \"acquires\", \"launches\", \"earnings\", \"report\", \n",
    "               \"profit\", \"CEO\", \"crisis\", \"disaster\",\"recession\",\"recovery\", \"red flag\", \n",
    "               \"urgent\",\"challenge\",\"emergency\", \"tumble\",\"drop\",\"opportunity\",\"slowdown\"]\n",
    "\n",
    "keywords_econ = [\"recovery\",\"crisis\", \"disaster\",\"recession\",\"red flag\", \n",
    "               \"urgent\",\"challenge\",\"emergency\", \"tumble\",\"drop\",\"slowdown\"]\n",
    "\n",
    "trusted_sources = [\"reuters.com\", \"bloomberg.com\", \"cnn.com\", \"forbes.com\", \n",
    "                \"finance.yahoo.com\",\"marketwatch.com\",\"morningstar.com\", \"https://www.wsj.com\",\"www.ft.com\"]"
   ]
  },
  {
   "cell_type": "markdown",
   "id": "227e180e-07c2-4f3e-939d-eee16608d420",
   "metadata": {},
   "source": [
    "**FIN_TOOL_A - Search for top k news articles about the client and its industry (title, snippet, date, source)**"
   ]
  },
  {
   "cell_type": "code",
   "execution_count": 15,
   "id": "e4b294b0-2234-4856-86fe-0e5065543c6a",
   "metadata": {
    "tags": []
   },
   "outputs": [
    {
     "name": "stdout",
     "output_type": "stream",
     "text": [
      "[{'title': \"Walmart's Online Business on Track to Be Profitable This Year\", 'link': 'https://www.bloomberg.com/news/articles/2025-04-09/walmart-s-online-business-on-track-to-be-profitable-this-year', 'snippet': \"Walmart Inc.'s US online business is on track to reach profitability this year, Chief Financial Officer John David Rainey said Wednesday.\", 'date': 'Apr 9, 2025', 'position': 3}, {'title': 'Walmart, Target, Nike stocks drop as sweeping reciprocal tariffs are ...', 'link': 'https://finance.yahoo.com/news/walmart-target-nike-stocks-drop-as-sweeping-reciprocal-tariffs-are-expected-to-hike-consumer-prices-213339162.html', 'snippet': 'What has been confirmed today is that there is no escape from tariffs. Every company that imports is going to have to deal with higher costs ...', 'date': 'Apr 3, 2025', 'position': 11}, {'title': \"Walmart's Tepid Outlook Stirs Concern For Retail Earnings Ahead\", 'link': 'https://www.bloomberg.com/news/articles/2025-02-22/walmart-s-tepid-outlook-stirs-concern-for-retail-earnings-ahead', 'snippet': \"Walmart's lower-than-expected profit forecast has raised concerns about the retail sector and consumer spending. · The mixed outlook has led to a ...\", 'date': 'Feb 22, 2025', 'position': 12}, {'title': 'Walmart faces some tariff challenges as Wall Street awaits record ...', 'link': 'https://www.reuters.com/business/retail-consumer/walmart-faces-some-tariff-challenges-wall-street-awaits-record-breaking-sales-2025-02-19/', 'snippet': 'Walmart revenue rose by roughly 5% to $680.47 billion for the year ending January 31, 2025, according to LSEG estimates ahead of the results.', 'date': 'Feb 19, 2025', 'position': 14}, {'title': \"Walmart's low price promise in focus after Amazon's warning - Reuters\", 'link': 'https://www.reuters.com/business/retail-consumer/walmarts-low-price-promise-focus-after-amazons-warning-2024-08-02/', 'snippet': 'Walmart\\'s \"Everyday Low Price\" promise will be put to the test when it reports quarterly results, after rival Amazon.com\\'s warning that customers had turned ...', 'date': 'Aug 2, 2024', 'position': 26}, {'title': 'Walmart backs annual forecasts, vows to keep prices low despite tariffs', 'link': 'https://www.reuters.com/business/retail-consumer/walmart-reaffirms-annual-sales-forecast-2025-04-09/', 'snippet': 'Walmart on Wednesday reaffirmed its confidence in its every day low price strategy, maintaining full-year forecasts for sales and income ...', 'date': 'Apr 9, 2025', 'position': 1}, {'title': \"Walmart's Push For 25% Ad Spending Highlights Retail Media's ...\", 'link': 'https://www.forbes.com/sites/kirimasters/2025/04/11/walmarts-25-ad-spend-mandate-highlights-retail-medias-trust-problem/', 'snippet': 'Walmart is pushing brands to increase their retail media spending by 25% year-over-year as part of joint business plans, despite many brands ...', 'date': 'Apr 11, 2025', 'position': 2}, {'title': \"Walmart's investor day highlights uncertainty in retail as Trump ...\", 'link': 'https://finance.yahoo.com/news/walmarts-investor-day-highlights-uncertainty-in-retail-as-trump-announces-a-pause-in-tariffs-210124572.html', 'snippet': \"On Wednesday, Walmart executives showed that America's biggest retailer is still trying to figure out the total impact of Trump's tariffs.\", 'date': 'Apr 9, 2025', 'attributes': {'Missing': 'industry | Show results with:industry'}, 'position': 4}, {'title': \"Walmart warns of a slower 2025. That's a bad sign for America's ...\", 'link': 'https://www.cnn.com/2025/02/20/business/walmart-stock-earnings/index.html', 'snippet': \"Walmart said Thursday 2025 will be trickier as consumers grow increasingly frustrated with inflation and concerned about President Donald Trump's tariffs.\", 'date': 'Feb 20, 2025', 'position': 5}, {'title': 'Walmart continues to push Chinese suppliers to cut prices ... - Reuters', 'link': 'https://www.reuters.com/business/retail-consumer/walmart-continues-push-chinese-suppliers-cut-prices-bloomberg-news-reports-2025-04-02/', 'snippet': \"U.S. retailing giant Walmart is continuing to push Chinese suppliers to cut prices to offset President Donald Trump's tariffs, ...\", 'date': 'Apr 1, 2025', 'position': 6}, {'title': \"It's Official: Walmart Is No Longer the Largest Retailer. This ...\", 'link': 'https://finance.yahoo.com/news/official-walmart-no-longer-largest-082500139.html', 'snippet': \"Here's what Amazon has done to take away Walmart's crown and what it will keep doing in the coming years to stay atop the world of retail.\", 'date': 'Mar 7, 2025', 'position': 7}, {'title': 'Trump meets with US retailers to discuss tariffs - Reuters', 'link': 'https://www.reuters.com/business/retail-consumer/trump-meet-retailers-including-walmart-home-depot-discuss-tariffs-impact-2025-04-21/', 'snippet': 'Big U.S. chains, like Walmart and Target, rely heavily on imported goods, and tariffs — including 145% levies on China — are expected to add ...', 'date': '6 days ago', 'position': 8}, {'title': 'Is Walmart Inc. (WMT) the Best Retail Dividend Stock to Buy?', 'link': 'https://finance.yahoo.com/news/walmart-inc-wmt-best-retail-210028823.html', 'snippet': 'In this article, we are going to take a look at where Walmart Inc. (NYSE:WMT) stands against other best retail dividend stocks. The retail ...', 'date': 'Mar 30, 2025', 'position': 9}, {'title': 'Walmart forecast disappoints, shares fall on consumer spending ...', 'link': 'https://www.reuters.com/business/retail-consumer/walmart-forecasts-sales-fiscal-2026-revenue-below-estimates-cautious-spending-2025-02-20/', 'snippet': '\"Walmart\\'s lower-than-expected guidance is a warning that U.S. consumer spending is slowing, said Brian Mulberry, client portfolio manager at ...', 'date': 'Feb 20, 2025', 'position': 13}, {'title': 'Walmart Cements Retail Dominance With Best Year Since 1998', 'link': 'https://www.bloomberg.com/news/articles/2024-12-18/walmart-cements-retail-dominance-with-best-year-since-1998', 'snippet': \"Walmart's 78% Surge Leaves Retail Foes Big and Small in Dust. Stock on pace for best year since 1998 while rivals slump; Market-share gains, ...\", 'date': 'Dec 18, 2024', 'position': 16}, {'title': 'Walmart raises annual forecasts again, signals holiday shopping ...', 'link': 'https://www.reuters.com/business/retail-consumer/walmart-raises-annual-forecasts-betting-strong-holiday-shopping-2024-11-19/', 'snippet': 'Walmart sees growth in sales across all income groups · Retailers start holiday deals earlier than usual · Adjusted EPS of 58 cents beat Wall St ...', 'date': 'Nov 19, 2024', 'position': 17}, {'title': 'Amazon, Walmart and Costco Are Running Away With 46 Percent of ...', 'link': 'https://finance.yahoo.com/news/amazon-walmart-costco-running-away-194816666.html', 'snippet': 'Amazon was expanding the quickest, capturing about 24 percent of all new growth, while Walmart grabbed roughly 12.2 percent and Costco picked up ...', 'date': 'Nov 20, 2024', 'position': 18}, {'title': \"Walmart is taking dollar stores' customers | CNN Business\", 'link': 'https://www.cnn.com/2024/09/04/business/dollar-stores-walmart-low-income-consumers/index.html', 'snippet': 'After years of prolific growth, US dollar stores have hit a downturn. Dollar Tree (DLTR) shares plunged 20% Wednesday after the company cut its outlook for the ...', 'date': 'Sep 4, 2024', 'attributes': {'Missing': 'industry | Show results with:industry'}, 'position': 19}, {'title': 'Walmart Canada to invest more than $4 bln to expand stores, supply ...', 'link': 'https://www.reuters.com/business/retail-consumer/walmart-canada-invest-more-than-4-bln-expand-stores-supply-chain-2025-01-30/', 'snippet': 'Walmart Canada said on Thursday it is investing about C$6.5 billion ($4.51 billion) to build new stores and expand its supply chain.', 'date': 'Jan 30, 2025', 'position': 20}, {'title': 'Why Is Walmart Inc. (WMT) the Best Department Store Stock to Buy ...', 'link': 'https://finance.yahoo.com/news/why-walmart-inc-wmt-best-145817009.html', 'snippet': 'Mouton said that the retail industry is seeing more and more concentration of sales in the days around Black Friday. That is tough for retailers ...', 'date': 'Dec 12, 2024', 'position': 21}, {'title': 'Five moves Walmart is making to overhaul its business for the future', 'link': 'https://www.cnn.com/2024/02/19/business/walmart-earnings-walkup/index.html', 'snippet': \"Walmart, the global mega-retailer that began in Arkansas in 1962, is making huge moves in 2024. It's making investments in technology and inventory that move ...\", 'date': 'Feb 20, 2024', 'position': 22}, {'title': 'Walmart and Target: A Tale of Two Retailers - WSJ', 'link': 'https://www.wsj.com/business/retail/walmart-and-target-a-tale-of-two-retailers-a1b0be04', 'snippet': \"Walmart's standout results clearly might not be a great sign for other retailers—both for those catering to high-income consumers and dollar ...\", 'date': 'Nov 20, 2024', 'attributes': {'Missing': 'industry | Show results with:industry'}, 'position': 23}, {'title': 'Why Walmart Inc. (WMT) Is the Best Retail Stock to Invest in', 'link': 'https://finance.yahoo.com/news/why-walmart-inc-wmt-best-211417382.html', 'snippet': 'In this article, we are going to take a look at where Walmart Inc. (NYSE:WMT) stands against the other best retail stocks to invest in. What ...', 'date': 'Dec 4, 2024', 'position': 24}, {'title': 'Walmart unwinds JD.com investment, to focus on own China ops', 'link': 'https://www.reuters.com/business/retail-consumer/walmart-seeks-raise-374-bln-sale-jdcom-stake-bloomberg-news-reports-2024-08-20/', 'snippet': '\"Walmart wanted to get exposure in China in 2016 and kind of learned the retail business there,\" said Thomas Hayes, chairman at investment firm ...', 'date': 'Aug 21, 2024', 'position': 25}, {'title': \"Walmart's business surges as shoppers hunt for low prices - CNN\", 'link': 'https://www.cnn.com/2024/05/16/investing/walmart-sales-inflation/index.html', 'snippet': 'Walmart said Thursday that sales at stores open at least a year increased 3.8% during its latest quarter from the same time last year. The ...', 'date': 'May 16, 2024', 'attributes': {'Missing': 'industry | Show results with:industry'}, 'position': 27}, {'title': \"Walmart's strong forecast signals a resilient consumer - Reuters\", 'link': 'https://www.reuters.com/business/retail-consumer/walmarts-strong-forecast-signals-resilient-consumer-2024-05-16/', 'snippet': 'A positive forecast from retail bellwether Walmart (WMT.N) on Thursday signaled a resilient US shopper, in line with earlier remarks by one of its key ...', 'date': 'May 16, 2024', 'position': 28}, {'title': 'Target, Walmart shoppers seek home goods, grocery delivery online', 'link': 'https://www.reuters.com/business/retail-consumer/target-walmart-shoppers-seek-home-goods-grocery-delivery-online-2024-05-22/', 'snippet': 'E-commerce sales made up 15.9% of total U.S. retail sales in the first quarter, the highest since they peaked at 16.4% during the height of the ...', 'date': 'May 23, 2024', 'position': 30}, {'title': 'Walmart Inc | Reuters', 'link': 'https://www.reuters.com/company/walmart-inc/', 'snippet': \"The latest international Walmart Inc news and views from Reuters - one of the world's largest news agencies.\", 'position': 10}, {'title': 'Walmart Inc. (WMT) - Yahoo Finance', 'link': 'https://finance.yahoo.com/quote/WMT/press-releases/', 'snippet': 'Walmart showcased its resiliency and its ability to innovate, change, and continue to deliver growth and shareholder value. Business Wire • 16 days ago ...', 'position': 15}, {'title': 'Retail News - News, Articles, Biography, Photos - WSJ.com', 'link': 'https://www.wsj.com/news/business/retail-industry?page=2', 'snippet': \"Walmart Is Retail King Again. Can It Keep the Crown? America's largest retailer is gaining share across income groups. Jinjoo Lee. February 14 ...\", 'position': 29}]\n",
      "\n",
      "Top News about Walmart from trusted sources (1/31/2025 → 4/30/2025):\n",
      "\n",
      "1. Walmart's Online Business on Track to Be Profitable This Year (Apr 9, 2025)\n",
      "   Walmart Inc.'s US online business is on track to reach profitability this year, Chief Financial Officer John David Rainey said Wednesday.\n",
      "   🔗 https://www.bloomberg.com/news/articles/2025-04-09/walmart-s-online-business-on-track-to-be-profitable-this-year\n",
      "\n",
      "2. Walmart, Target, Nike stocks drop as sweeping reciprocal tariffs are ... (Apr 3, 2025)\n",
      "   What has been confirmed today is that there is no escape from tariffs. Every company that imports is going to have to deal with higher costs ...\n",
      "   🔗 https://finance.yahoo.com/news/walmart-target-nike-stocks-drop-as-sweeping-reciprocal-tariffs-are-expected-to-hike-consumer-prices-213339162.html\n",
      "\n",
      "3. Walmart faces some tariff challenges as Wall Street awaits record ... (Feb 19, 2025)\n",
      "   Walmart revenue rose by roughly 5% to $680.47 billion for the year ending January 31, 2025, according to LSEG estimates ahead of the results.\n",
      "   🔗 https://www.reuters.com/business/retail-consumer/walmart-faces-some-tariff-challenges-wall-street-awaits-record-breaking-sales-2025-02-19/\n",
      "\n",
      "4. Walmart's Tepid Outlook Stirs Concern For Retail Earnings Ahead (Feb 22, 2025)\n",
      "   Walmart's lower-than-expected profit forecast has raised concerns about the retail sector and consumer spending. · The mixed outlook has led to a ...\n",
      "   🔗 https://www.bloomberg.com/news/articles/2025-02-22/walmart-s-tepid-outlook-stirs-concern-for-retail-earnings-ahead\n",
      "\n",
      "5. Walmart raises annual forecasts again, signals holiday shopping ... (Nov 19, 2024)\n",
      "   Walmart (WMT.N) on Tuesday raised its annual sales and profit forecast for the third consecutive time, as people bought more groceries and merchandise.\n",
      "   🔗 https://www.reuters.com/business/retail-consumer/walmart-raises-annual-forecasts-betting-strong-holiday-shopping-2024-11-19/\n",
      "\n",
      "6. Walmart's low price promise in focus after Amazon's warning - Reuters (Aug 2, 2024)\n",
      "   Walmart's \"Everyday Low Price\" promise will be put to the test when it reports quarterly results, after rival Amazon.com's warning that customers had turned ...\n",
      "   🔗 https://www.reuters.com/business/retail-consumer/walmarts-low-price-promise-focus-after-amazons-warning-2024-08-02/\n",
      "\n",
      "7. Walmart's Reign as America's Biggest Retailer Is Under Threat - WSJ (May 15, 2024)\n",
      "   Amazon reported $575 billion in total revenue last year, up 12% from the previous year, compared with Walmart's revenue growth of 6%. Walmart's ...\n",
      "   🔗 https://www.wsj.com/business/retail/walmart-sales-amazon-growth-2bee429b\n",
      "\n",
      "8. Walmart backs annual forecasts, vows to keep prices low despite tariffs (Apr 9, 2025)\n",
      "   Walmart on Wednesday reaffirmed its confidence in its every day low price strategy, maintaining full-year forecasts for sales and income ...\n",
      "   🔗 https://www.reuters.com/business/retail-consumer/walmart-reaffirms-annual-sales-forecast-2025-04-09/\n",
      "\n",
      "9. Walmart's Push For 25% Ad Spending Highlights Retail Media's ... (Apr 11, 2025)\n",
      "   Walmart is pushing brands to increase their retail media spending by 25% year-over-year as part of joint business plans, despite many brands ...\n",
      "   🔗 https://www.forbes.com/sites/kirimasters/2025/04/11/walmarts-25-ad-spend-mandate-highlights-retail-medias-trust-problem/\n",
      "\n",
      "10. Walmart's investor day highlights uncertainty in retail as Trump ... (Apr 9, 2025)\n",
      "   On Wednesday, Walmart executives showed that America's biggest retailer is still trying to figure out the total impact of Trump's tariffs.\n",
      "   🔗 https://finance.yahoo.com/news/walmarts-investor-day-highlights-uncertainty-in-retail-as-trump-announces-a-pause-in-tariffs-210124572.html\n",
      "\n",
      "11. Walmart continues to push Chinese suppliers to cut prices ... - Reuters (Apr 1, 2025)\n",
      "   U.S. retailing giant Walmart is continuing to push Chinese suppliers to cut prices to offset President Donald Trump's tariffs, ...\n",
      "   🔗 https://www.reuters.com/business/retail-consumer/walmart-continues-push-chinese-suppliers-cut-prices-bloomberg-news-reports-2025-04-02/\n",
      "\n",
      "12. Walmart warns of a slower 2025. That's a bad sign for America's ... (Feb 20, 2025)\n",
      "   Walmart said Thursday 2025 will be trickier as consumers grow increasingly frustrated with inflation and concerned about President Donald Trump's tariffs.\n",
      "   🔗 https://www.cnn.com/2025/02/20/business/walmart-stock-earnings/index.html\n",
      "\n",
      "13. It's Official: Walmart Is No Longer the Largest Retailer. This ... (Mar 7, 2025)\n",
      "   Here's what Amazon has done to take away Walmart's crown and what it will keep doing in the coming years to stay atop the world of retail.\n",
      "   🔗 https://finance.yahoo.com/news/official-walmart-no-longer-largest-082500139.html\n",
      "\n",
      "14. Trump meets with US retailers to discuss tariffs - Reuters (6 days ago)\n",
      "   Big U.S. chains, like Walmart and Target, rely heavily on imported goods, and tariffs — including 145% levies on China — are expected to add ...\n",
      "   🔗 https://www.reuters.com/business/retail-consumer/trump-meet-retailers-including-walmart-home-depot-discuss-tariffs-impact-2025-04-21/\n",
      "\n",
      "15. Is Walmart Inc. (WMT) the Best Retail Dividend Stock to Buy? (Mar 30, 2025)\n",
      "   In this article, we are going to take a look at where Walmart Inc. (NYSE:WMT) stands against other best retail dividend stocks. The retail ...\n",
      "   🔗 https://finance.yahoo.com/news/walmart-inc-wmt-best-retail-210028823.html\n",
      "\n",
      "16. Walmart forecast disappoints, shares fall on consumer spending ... (Feb 20, 2025)\n",
      "   \"Walmart's lower-than-expected guidance is a warning that U.S. consumer spending is slowing, said Brian Mulberry, client portfolio manager at ...\n",
      "   🔗 https://www.reuters.com/business/retail-consumer/walmart-forecasts-sales-fiscal-2026-revenue-below-estimates-cautious-spending-2025-02-20/\n",
      "\n",
      "17. Walmart Cements Retail Dominance With Best Year Since 1998 (Dec 18, 2024)\n",
      "   Walmart's 78% Surge Leaves Retail Foes Big and Small in Dust. Stock on pace for best year since 1998 while rivals slump; Market-share gains, ...\n",
      "   🔗 https://www.bloomberg.com/news/articles/2024-12-18/walmart-cements-retail-dominance-with-best-year-since-1998\n",
      "\n",
      "18. Walmart Canada to invest more than $4 bln to expand stores, supply ... (Jan 30, 2025)\n",
      "   Walmart Canada said on Thursday it is investing about C$6.5 billion ($4.51 billion) to build new stores and expand its supply chain.\n",
      "   🔗 https://www.reuters.com/business/retail-consumer/walmart-canada-invest-more-than-4-bln-expand-stores-supply-chain-2025-01-30/\n",
      "\n",
      "19. Amazon, Walmart and Costco Are Running Away With 46 Percent of ... (Nov 20, 2024)\n",
      "   Amazon was expanding the quickest, capturing about 24 percent of all new growth, while Walmart grabbed roughly 12.2 percent and Costco picked up ...\n",
      "   🔗 https://finance.yahoo.com/news/amazon-walmart-costco-running-away-194816666.html\n",
      "\n",
      "20. Walmart is taking dollar stores' customers | CNN Business (Sep 4, 2024)\n",
      "   After years of prolific growth, US dollar stores have hit a downturn. Dollar Tree (DLTR) shares plunged 20% Wednesday after the company cut its outlook for the ...\n",
      "   🔗 https://www.cnn.com/2024/09/04/business/dollar-stores-walmart-low-income-consumers/index.html\n",
      "\n",
      "21. Why Is Walmart Inc. (WMT) the Best Department Store Stock to Buy ... (Dec 12, 2024)\n",
      "   Mouton said that the retail industry is seeing more and more concentration of sales in the days around Black Friday. That is tough for retailers ...\n",
      "   🔗 https://finance.yahoo.com/news/why-walmart-inc-wmt-best-145817009.html\n",
      "\n",
      "22. Walmart and Target: A Tale of Two Retailers - WSJ (Nov 20, 2024)\n",
      "   Last quarter, 75% of Walmart's market-share gains came from households earning more than $100,000. ... Business. Dollar General Targets Higher ...\n",
      "   🔗 https://www.wsj.com/business/retail/walmart-and-target-a-tale-of-two-retailers-a1b0be04\n",
      "\n",
      "23. Five moves Walmart is making to overhaul its business for the future (Feb 20, 2024)\n",
      "   Walmart, the global mega-retailer that began in Arkansas in 1962, is making huge moves in 2024. It's making investments in technology and inventory that move ...\n",
      "   🔗 https://www.cnn.com/2024/02/19/business/walmart-earnings-walkup/index.html\n",
      "\n",
      "24. Why Walmart Inc. (WMT) Is the Best Retail Stock to Invest in (Dec 4, 2024)\n",
      "   In this article, we are going to take a look at where Walmart Inc. (NYSE:WMT) stands against the other best retail stocks to invest in. What ...\n",
      "   🔗 https://finance.yahoo.com/news/why-walmart-inc-wmt-best-211417382.html\n",
      "\n",
      "25. Walmart's business surges as shoppers hunt for low prices - CNN (May 16, 2024)\n",
      "   Walmart said Thursday that sales at stores open at least a year increased 3.8% during its latest quarter from the same time last year. The ...\n",
      "   🔗 https://www.cnn.com/2024/05/16/investing/walmart-sales-inflation/index.html\n",
      "\n",
      "26. Walmart unwinds JD.com investment, to focus on own China ops (Aug 21, 2024)\n",
      "   \"Walmart wanted to get exposure in China in 2016 and kind of learned the retail business there,\" said Thomas Hayes, chairman at investment firm ...\n",
      "   🔗 https://www.reuters.com/business/retail-consumer/walmart-seeks-raise-374-bln-sale-jdcom-stake-bloomberg-news-reports-2024-08-20/\n",
      "\n",
      "27. Walmart's strong forecast signals a resilient consumer - Reuters (May 16, 2024)\n",
      "   A positive forecast from retail bellwether Walmart (WMT.N) on Thursday signaled a resilient US shopper, in line with earlier remarks by one of its key ...\n",
      "   🔗 https://www.reuters.com/business/retail-consumer/walmarts-strong-forecast-signals-resilient-consumer-2024-05-16/\n",
      "\n",
      "28. Walmart opposes New York plan to add panic buttons to stores (Jun 8, 2024)\n",
      "   Retail giant Walmart says it is against putting panic buttons in stores - a move that the New York legislature wants to require under a new law aimed at ...\n",
      "   🔗 https://www.reuters.com/business/retail-consumer/walmart-opposes-adding-panic-buttons-stores-2024-06-08/\n",
      "\n",
      "29. Walmart Inc | Reuters (Date not available)\n",
      "   The latest international Walmart Inc news and views from Reuters - one of the world's largest news agencies.\n",
      "   🔗 https://www.reuters.com/company/walmart-inc/\n",
      "\n",
      "30. Walmart Inc. (WMT) - Yahoo Finance (Date not available)\n",
      "   Walmart showcased its resiliency and its ability to innovate, change, and continue to deliver growth and shareholder value. Business Wire • 16 days ago ...\n",
      "   🔗 https://finance.yahoo.com/quote/WMT/press-releases/\n",
      "\n"
     ]
    }
   ],
   "source": [
    "\n",
    "# Convert dates to YYYYMMDD format for Google's date range filter\n",
    "def format_google_date(date_str):\n",
    "    parts = date_str.split(\"/\")\n",
    "    return f\"{parts[2]}{parts[0].zfill(2)}{parts[1].zfill(2)}\"\n",
    "\n",
    "google_start = format_google_date(start_date)\n",
    "google_end = format_google_date(end_date)\n",
    "\n",
    "# Trusted domains\n",
    "allowed_sites = trusted_sources\n",
    "site_filter = \" OR \".join(f\"site:{site}\" for site in allowed_sites)\n",
    "\n",
    "# Build query with date range filter\n",
    "query = f\"{site_filter} news about {client_name} and about {industry} industry\"\n",
    "sort_param = f\"date:r:{google_start}:{google_end}\"  # Google's date range format\n",
    "\n",
    "# Search with date filter\n",
    "search = GoogleSerperAPIWrapper(k=30, sort=sort_param)  # Pass sort parameter\n",
    "results = search.results(query)\n",
    "\n",
    "# Scoring logic (unchanged)\n",
    "def score_result(result):\n",
    "    score = 0\n",
    "    keywords = keywords_client\n",
    "    link = result.get(\"link\", \"\")\n",
    "    title = result.get(\"title\", \"\").lower()\n",
    "    snippet = result.get(\"snippet\", \"\").lower()\n",
    "\n",
    "    # Boost for trusted domain\n",
    "    if any(site in link for site in allowed_sites):\n",
    "        score += 3\n",
    "\n",
    "    # Boost for keywords\n",
    "    if any(word in title or word in snippet for word in keywords):\n",
    "        score += 2\n",
    "\n",
    "    # Boost for having a date\n",
    "    if \"date\" in result:\n",
    "        score += 1\n",
    "\n",
    "    return score\n",
    "\n",
    "# Process results\n",
    "if results.get(\"organic\"):\n",
    "    sorted_results_client = sorted(results.get(\"organic\", []), key=score_result, reverse=True)\n",
    "    print(sorted_results_client)\n",
    "    \n",
    "    print(f\"\\nTop News about {client_name} from trusted sources ({start_date} → {end_date}):\\n\")\n",
    "    for i, result in enumerate(sorted_results, 1):\n",
    "        title = result.get(\"title\")\n",
    "        link = result.get(\"link\")\n",
    "        snippet = result.get(\"snippet\")\n",
    "        date = result.get(\"date\", \"Date not available\")\n",
    "        print(f\"{i}. {title} ({date})\\n   {snippet}\\n   🔗 {link}\\n\")\n",
    "else:\n",
    "    print(\"\\nNo results found for the query.\")"
   ]
  },
  {
   "cell_type": "markdown",
   "id": "f7db46d7-6216-47ae-8bb4-b567ae5ab06b",
   "metadata": {},
   "source": [
    "**FIN_TOOL_B - Search for top k news articles about the client's holdings (title, snippet, date, source)**"
   ]
  },
  {
   "cell_type": "code",
   "execution_count": null,
   "id": "39bf4b26-88c8-4e0c-b939-0fb19235e5c8",
   "metadata": {},
   "outputs": [],
   "source": []
  },
  {
   "cell_type": "markdown",
   "id": "01d80a32-9290-4497-8bfb-8e24a9bc4b21",
   "metadata": {
    "tags": []
   },
   "source": [
    "**FIN_TOOL_C - Search for relevant articles about the economy (title, snippet, date, source)**"
   ]
  },
  {
   "cell_type": "code",
   "execution_count": 16,
   "id": "a1892661-b4d0-4cdf-806e-3ad1d307bf89",
   "metadata": {
    "tags": []
   },
   "outputs": [
    {
     "name": "stdout",
     "output_type": "stream",
     "text": [
      "[{'title': \"US economy 'dangerously vulnerable' to recession - Yahoo Finance\", 'link': 'https://finance.yahoo.com/news/us-economy-dangerously-vulnerable-to-recession-wall-street-reacts-to-tariff-fallout-155837444.html', 'snippet': 'President Trump laid out his long-awaited tariff plans — and Wall Street economists are reacting with recession warnings.', 'date': 'Apr 3, 2025', 'position': 16}, {'title': \"Whisper it and it's back: Recession risk creeps onto markets' radar\", 'link': 'https://www.reuters.com/markets/us/global-markets-growth-analysis-2025-03-05/', 'snippet': 'Global growth concerns have shot back onto the radar of financial markets as weakening U.S. economic data and growing trade tensions hurt ...', 'date': 'Mar 4, 2025', 'attributes': {'Missing': 'relevant | Show results with:relevant'}, 'position': 20}, {'title': \"America's economic engine is still revving, despite fears of a slowdown\", 'link': 'https://www.cnn.com/2024/09/17/economy/us-retail-sales-august/index.html', 'snippet': 'A key driver of the US economy remains solid. Spending at US retailers rose 0.1% in August from the prior month, the Commerce Department reported Tuesday.', 'date': 'Sep 17, 2024', 'position': 29}, {'title': 'Economic News and Analysis - Yahoo Finance', 'link': 'https://finance.yahoo.com/topic/economic-news/', 'snippet': \"Economists believe growth data will weaken in the summer as the impact of President Trump's tariffs · Americans expect the economy to sour — ...\", 'date': '1 day ago', 'position': 6}, {'title': 'Business News - Latest Headlines on CNN Business', 'link': 'https://www.cnn.com/business', 'snippet': \"View the latest business news about the world's top companies, and explore articles on global markets, finance, tech, and the innovations ...\", 'date': '3 days ago', 'position': 17}, {'title': \"Wall Street's New Reality Is Trying to Trade Off Tweets - Bloomberg\", 'link': 'https://www.bloomberg.com/news/newsletters/2025-04-24/wall-street-s-new-reality-is-trying-to-trade-off-tweets', 'snippet': \"Stocks are losing steam after Wednesday's rally as China said there were no talks on reaching a deal and Treasury Secretary Scott Bessent cast ...\", 'date': '3 days ago', 'attributes': {'Missing': 'relevant | Show results with:relevant'}, 'position': 18}, {'title': 'Economists of the Future Reshape Macro Investing with New ...', 'link': 'https://www.bloomberg.com/company/press/economists-of-the-future-reshape-macro-investing-with-new-predictive-tools-and-alternative-data/', 'snippet': \"Economists' heightened demand for alternative data and generative AI-enhanced research solutions reveal how the macro investment industry may ...\", 'date': 'Oct 30, 2024', 'position': 23}, {'title': \"US business activity stalling, consumers' inflation expectations surge\", 'link': 'https://www.reuters.com/markets/us/tariffs-federal-government-spending-cuts-restrain-us-business-activity-2025-02-21/', 'snippet': 'U.S. business activity nearly stalled in February amid mounting fears over tariffs on imports and deep cuts in federal government spending, ...', 'date': 'Feb 21, 2025', 'attributes': {'Missing': 'relevant | Show results with:relevant'}, 'position': 24}, {'title': \"What's Happening in the Markets This Week - Morningstar\", 'link': 'https://www.morningstar.com/markets/whats-happening-markets-this-week', 'snippet': 'Stocks Gain as Trump Eases Stance on China and the Fed ... Tech stocks led the market upward, while bond yields edged lower. James Gard and Gabe ...', 'date': 'Mar 28, 2025', 'attributes': {'Missing': 'relevant | Show results with:relevant'}, 'position': 25}, {'title': \"US economy may be on track for a 'stagcession.' Economist explains.\", 'link': 'https://finance.yahoo.com/video/us-economy-may-track-stagcession-212840940.html', 'snippet': 'The latest data, including US GDP (gross domestic product), is pointing to signs of economic growth stalling. Is this leaning more toward a ...', 'date': 'Mar 6, 2025', 'position': 26}, {'title': 'Wall Street ends lower as inflation fears mount - Reuters', 'link': 'https://www.reuters.com/markets/us/futures-subdued-ahead-economic-data-trumps-plans-eyed-2025-01-07/', 'snippet': 'Benchmark 10-year Treasury yields hit 4.699% after the data pointed to a strong economy, the highest since April 26.', 'date': 'Jan 7, 2025', 'attributes': {'Missing': 'relevant | Show results with:relevant'}, 'position': 27}, {'title': 'US consumers keep economy on solid ground ahead of election', 'link': 'https://www.reuters.com/markets/us/us-economy-posts-solid-growth-election-eve-2024-10-30/', 'snippet': 'The US economy grew solidly in the third quarter, with consumer spending increasing at its fastest pace in 1-1/2 years and inflation slowing sharply.', 'date': 'Oct 30, 2024', 'attributes': {'Missing': 'relevant | Show results with:relevant'}, 'position': 28}, {'title': 'The world is about to get some much-needed clarity on the US ...', 'link': 'https://www.cnn.com/2024/11/03/business/us-economy-election-federal-reserve/index.html', 'snippet': 'A dense fog clouding the US economy could soon clear. For months, US consumers and businesses have felt some degree of paralysis from the upcoming presidential ...', 'date': 'Nov 3, 2024', 'position': 30}, {'title': 'Macro Matters | News Reshaping The Global Economy | Reuters', 'link': 'https://www.reuters.com/markets/macromatters/', 'snippet': 'Tariff turmoil boosts Swiss franc, pressuring SNB to move closer to negative rates · Tariff storm ravages Magnificent Seven as Apple nears one-year low · ECB ...', 'position': 1}, {'title': 'Economy - WSJ.com', 'link': 'https://www.wsj.com/economy', 'snippet': 'The latest news on the economy, jobs market, U.S. trade and housing, including the latest news and analysis on the Federal Reserve and Central Banking.', 'attributes': {'Missing': 'relevant | Show results with:relevant'}, 'position': 2}, {'title': 'World Economy - Latest News, Investigations and Analysis - WSJ.com', 'link': 'https://www.wsj.com/economy/global', 'snippet': 'The latest news on the economy, jobs market, U.S. trade and housing, including the latest news and analysis on the Federal Reserve and Central Banking.', 'position': 3}, {'title': 'Economy | CNN Business', 'link': 'https://www.cnn.com/business/economy', 'snippet': \"Jerome Powell warns on Trump's tariffs: High inflation could be here to stay · The US economy added 228,000 jobs last month, but the unemployment rate ticked up.\", 'position': 4}, {'title': 'U.S. Economic Calendar - MarketWatch', 'link': 'https://www.marketwatch.com/economy-politics/calendar', 'snippet': \"Economic Report · Pandemic-era shortages may return without trade-war deal with China, businesses warn · Housing market stalls as homeowners struggle to sell: 'We ...\", 'position': 5}, {'title': 'Economics - Bloomberg.com', 'link': 'https://www.bloomberg.com/economics-v2', 'snippet': 'Get the latest US & global economy news. Read about economic policy, jobs, trade, banks, inflation, taxes, and more.', 'attributes': {'Missing': 'relevant | Show results with:relevant'}, 'position': 7}, {'title': 'Global Market Headlines | Breaking Stock Market News - Reuters', 'link': 'https://www.reuters.com/markets/', 'snippet': 'Find the latest stock market news from every corner of the globe at Reuters.com, your online source for breaking international market and finance news.', 'attributes': {'Missing': 'relevant | Show results with:relevant'}, 'sitelinks': [{'title': 'Econ World', 'link': 'https://www.reuters.com/markets/econ-world/'}, {'title': 'U.S. Markets', 'link': 'https://www.reuters.com/markets/us/'}, {'title': 'Global Markets Data', 'link': 'https://www.reuters.com/markets/global-market-data/'}, {'title': 'Asian Markets', 'link': 'https://www.reuters.com/markets/asia/'}], 'position': 8}, {'title': 'Economic Calendar - Bloomberg Markets', 'link': 'https://www.bloomberg.com/markets/economic-calendar', 'snippet': 'Check economic calendar events in real time on Bloomberg and see the global financial market impact by country and importance with previous, forecast and ...', 'position': 9}, {'title': 'Global Economy - Financial Times', 'link': 'https://www.ft.com/global-economy', 'snippet': 'News and top stories on the state of the global economy. The latest economic data, reports and updates from countries around the world, on jobs, trade, ...', 'attributes': {'Missing': 'relevant | Show results with:relevant'}, 'position': 10}, {'title': \"Business News | Today's International Headlines - Reuters\", 'link': 'https://www.reuters.com/business/', 'snippet': 'From rubber ducks to 401(k)s, Trump voters feel tariff pain but most see long-term gain · IMF-World Bank meetings end with little tariff clarity, but economic ...', 'position': 11}, {'title': 'Finance News: Wall Street, financial markets, stocks, securities and ...', 'link': 'https://finance.yahoo.com/news/', 'snippet': 'WASHINGTON (Reuters) -European Central Bank policymakers are becoming increasingly confident about cutting interest rates in June as inflation continues its ...', 'attributes': {'Missing': 'macro | Show results with:macro'}, 'position': 12}, {'title': 'Real Time Economics - WSJ', 'link': 'https://www.wsj.com/news/economics', 'snippet': 'About Real Time Economics. Real Time Economics offers exclusive news, analysis and commentary on the U.S. and global economy, central bank policy and economics.', 'attributes': {'Missing': 'relevant | Show results with:relevant'}, 'position': 13}, {'title': 'Economy & Politics - MarketWatch', 'link': 'https://www.marketwatch.com/economy-politics', 'snippet': 'Latest news and insight about the impact of current events on our economy from MarketWatch.', 'attributes': {'Missing': 'relevant | Show results with:relevant'}, 'position': 14}, {'title': \"Latest Finance News | Today's Top Headlines - Reuters\", 'link': 'https://www.reuters.com/business/finance/', 'snippet': 'ECB forms group to simplify banking rules, source says · ECB consensus builds for June rate cut but no appetite for big move, sources say · Top British bank ...', 'position': 15}, {'title': 'Economic Calendar - Yahoo Finance', 'link': 'https://finance.yahoo.com/calendar/economic/', 'snippet': 'Economic Events Calendar for: ; Federal Tax Revenue*, BR, 12:00 AM UTC ; Urban Jobless Rate*, CO, 12:00 AM UTC ; National Jobless Rate*, CO, 12 ...', 'position': 19}, {'title': 'Latest from Economic Report column - MarketWatch', 'link': 'https://www.marketwatch.com/column/economic-report', 'snippet': \"'Pervasive' uncertainty from trade fights depresses outlook for economy, Fed's Beige Book finds. The U.S. economy got a short-term boost from buyers trying to ...\", 'position': 21}, {'title': 'Latest Stock Market News - Yahoo Finance', 'link': 'https://finance.yahoo.com/topic/stock-market-news/', 'snippet': 'Get the latest news on the stock market and events that move stocks, with in-depth analyses to help you make investing and trading decisions.', 'position': 22}]\n",
      "\n",
      "Top News about Walmart from trusted sources (1/31/2025 → 4/30/2025):\n",
      "\n",
      "1. Walmart's Online Business on Track to Be Profitable This Year (Apr 9, 2025)\n",
      "   Walmart Inc.'s US online business is on track to reach profitability this year, Chief Financial Officer John David Rainey said Wednesday.\n",
      "   🔗 https://www.bloomberg.com/news/articles/2025-04-09/walmart-s-online-business-on-track-to-be-profitable-this-year\n",
      "\n",
      "2. Walmart, Target, Nike stocks drop as sweeping reciprocal tariffs are ... (Apr 3, 2025)\n",
      "   What has been confirmed today is that there is no escape from tariffs. Every company that imports is going to have to deal with higher costs ...\n",
      "   🔗 https://finance.yahoo.com/news/walmart-target-nike-stocks-drop-as-sweeping-reciprocal-tariffs-are-expected-to-hike-consumer-prices-213339162.html\n",
      "\n",
      "3. Walmart faces some tariff challenges as Wall Street awaits record ... (Feb 19, 2025)\n",
      "   Walmart revenue rose by roughly 5% to $680.47 billion for the year ending January 31, 2025, according to LSEG estimates ahead of the results.\n",
      "   🔗 https://www.reuters.com/business/retail-consumer/walmart-faces-some-tariff-challenges-wall-street-awaits-record-breaking-sales-2025-02-19/\n",
      "\n",
      "4. Walmart's Tepid Outlook Stirs Concern For Retail Earnings Ahead (Feb 22, 2025)\n",
      "   Walmart's lower-than-expected profit forecast has raised concerns about the retail sector and consumer spending. · The mixed outlook has led to a ...\n",
      "   🔗 https://www.bloomberg.com/news/articles/2025-02-22/walmart-s-tepid-outlook-stirs-concern-for-retail-earnings-ahead\n",
      "\n",
      "5. Walmart raises annual forecasts again, signals holiday shopping ... (Nov 19, 2024)\n",
      "   Walmart (WMT.N) on Tuesday raised its annual sales and profit forecast for the third consecutive time, as people bought more groceries and merchandise.\n",
      "   🔗 https://www.reuters.com/business/retail-consumer/walmart-raises-annual-forecasts-betting-strong-holiday-shopping-2024-11-19/\n",
      "\n",
      "6. Walmart's low price promise in focus after Amazon's warning - Reuters (Aug 2, 2024)\n",
      "   Walmart's \"Everyday Low Price\" promise will be put to the test when it reports quarterly results, after rival Amazon.com's warning that customers had turned ...\n",
      "   🔗 https://www.reuters.com/business/retail-consumer/walmarts-low-price-promise-focus-after-amazons-warning-2024-08-02/\n",
      "\n",
      "7. Walmart's Reign as America's Biggest Retailer Is Under Threat - WSJ (May 15, 2024)\n",
      "   Amazon reported $575 billion in total revenue last year, up 12% from the previous year, compared with Walmart's revenue growth of 6%. Walmart's ...\n",
      "   🔗 https://www.wsj.com/business/retail/walmart-sales-amazon-growth-2bee429b\n",
      "\n",
      "8. Walmart backs annual forecasts, vows to keep prices low despite tariffs (Apr 9, 2025)\n",
      "   Walmart on Wednesday reaffirmed its confidence in its every day low price strategy, maintaining full-year forecasts for sales and income ...\n",
      "   🔗 https://www.reuters.com/business/retail-consumer/walmart-reaffirms-annual-sales-forecast-2025-04-09/\n",
      "\n",
      "9. Walmart's Push For 25% Ad Spending Highlights Retail Media's ... (Apr 11, 2025)\n",
      "   Walmart is pushing brands to increase their retail media spending by 25% year-over-year as part of joint business plans, despite many brands ...\n",
      "   🔗 https://www.forbes.com/sites/kirimasters/2025/04/11/walmarts-25-ad-spend-mandate-highlights-retail-medias-trust-problem/\n",
      "\n",
      "10. Walmart's investor day highlights uncertainty in retail as Trump ... (Apr 9, 2025)\n",
      "   On Wednesday, Walmart executives showed that America's biggest retailer is still trying to figure out the total impact of Trump's tariffs.\n",
      "   🔗 https://finance.yahoo.com/news/walmarts-investor-day-highlights-uncertainty-in-retail-as-trump-announces-a-pause-in-tariffs-210124572.html\n",
      "\n",
      "11. Walmart continues to push Chinese suppliers to cut prices ... - Reuters (Apr 1, 2025)\n",
      "   U.S. retailing giant Walmart is continuing to push Chinese suppliers to cut prices to offset President Donald Trump's tariffs, ...\n",
      "   🔗 https://www.reuters.com/business/retail-consumer/walmart-continues-push-chinese-suppliers-cut-prices-bloomberg-news-reports-2025-04-02/\n",
      "\n",
      "12. Walmart warns of a slower 2025. That's a bad sign for America's ... (Feb 20, 2025)\n",
      "   Walmart said Thursday 2025 will be trickier as consumers grow increasingly frustrated with inflation and concerned about President Donald Trump's tariffs.\n",
      "   🔗 https://www.cnn.com/2025/02/20/business/walmart-stock-earnings/index.html\n",
      "\n",
      "13. It's Official: Walmart Is No Longer the Largest Retailer. This ... (Mar 7, 2025)\n",
      "   Here's what Amazon has done to take away Walmart's crown and what it will keep doing in the coming years to stay atop the world of retail.\n",
      "   🔗 https://finance.yahoo.com/news/official-walmart-no-longer-largest-082500139.html\n",
      "\n",
      "14. Trump meets with US retailers to discuss tariffs - Reuters (6 days ago)\n",
      "   Big U.S. chains, like Walmart and Target, rely heavily on imported goods, and tariffs — including 145% levies on China — are expected to add ...\n",
      "   🔗 https://www.reuters.com/business/retail-consumer/trump-meet-retailers-including-walmart-home-depot-discuss-tariffs-impact-2025-04-21/\n",
      "\n",
      "15. Is Walmart Inc. (WMT) the Best Retail Dividend Stock to Buy? (Mar 30, 2025)\n",
      "   In this article, we are going to take a look at where Walmart Inc. (NYSE:WMT) stands against other best retail dividend stocks. The retail ...\n",
      "   🔗 https://finance.yahoo.com/news/walmart-inc-wmt-best-retail-210028823.html\n",
      "\n",
      "16. Walmart forecast disappoints, shares fall on consumer spending ... (Feb 20, 2025)\n",
      "   \"Walmart's lower-than-expected guidance is a warning that U.S. consumer spending is slowing, said Brian Mulberry, client portfolio manager at ...\n",
      "   🔗 https://www.reuters.com/business/retail-consumer/walmart-forecasts-sales-fiscal-2026-revenue-below-estimates-cautious-spending-2025-02-20/\n",
      "\n",
      "17. Walmart Cements Retail Dominance With Best Year Since 1998 (Dec 18, 2024)\n",
      "   Walmart's 78% Surge Leaves Retail Foes Big and Small in Dust. Stock on pace for best year since 1998 while rivals slump; Market-share gains, ...\n",
      "   🔗 https://www.bloomberg.com/news/articles/2024-12-18/walmart-cements-retail-dominance-with-best-year-since-1998\n",
      "\n",
      "18. Walmart Canada to invest more than $4 bln to expand stores, supply ... (Jan 30, 2025)\n",
      "   Walmart Canada said on Thursday it is investing about C$6.5 billion ($4.51 billion) to build new stores and expand its supply chain.\n",
      "   🔗 https://www.reuters.com/business/retail-consumer/walmart-canada-invest-more-than-4-bln-expand-stores-supply-chain-2025-01-30/\n",
      "\n",
      "19. Amazon, Walmart and Costco Are Running Away With 46 Percent of ... (Nov 20, 2024)\n",
      "   Amazon was expanding the quickest, capturing about 24 percent of all new growth, while Walmart grabbed roughly 12.2 percent and Costco picked up ...\n",
      "   🔗 https://finance.yahoo.com/news/amazon-walmart-costco-running-away-194816666.html\n",
      "\n",
      "20. Walmart is taking dollar stores' customers | CNN Business (Sep 4, 2024)\n",
      "   After years of prolific growth, US dollar stores have hit a downturn. Dollar Tree (DLTR) shares plunged 20% Wednesday after the company cut its outlook for the ...\n",
      "   🔗 https://www.cnn.com/2024/09/04/business/dollar-stores-walmart-low-income-consumers/index.html\n",
      "\n",
      "21. Why Is Walmart Inc. (WMT) the Best Department Store Stock to Buy ... (Dec 12, 2024)\n",
      "   Mouton said that the retail industry is seeing more and more concentration of sales in the days around Black Friday. That is tough for retailers ...\n",
      "   🔗 https://finance.yahoo.com/news/why-walmart-inc-wmt-best-145817009.html\n",
      "\n",
      "22. Walmart and Target: A Tale of Two Retailers - WSJ (Nov 20, 2024)\n",
      "   Last quarter, 75% of Walmart's market-share gains came from households earning more than $100,000. ... Business. Dollar General Targets Higher ...\n",
      "   🔗 https://www.wsj.com/business/retail/walmart-and-target-a-tale-of-two-retailers-a1b0be04\n",
      "\n",
      "23. Five moves Walmart is making to overhaul its business for the future (Feb 20, 2024)\n",
      "   Walmart, the global mega-retailer that began in Arkansas in 1962, is making huge moves in 2024. It's making investments in technology and inventory that move ...\n",
      "   🔗 https://www.cnn.com/2024/02/19/business/walmart-earnings-walkup/index.html\n",
      "\n",
      "24. Why Walmart Inc. (WMT) Is the Best Retail Stock to Invest in (Dec 4, 2024)\n",
      "   In this article, we are going to take a look at where Walmart Inc. (NYSE:WMT) stands against the other best retail stocks to invest in. What ...\n",
      "   🔗 https://finance.yahoo.com/news/why-walmart-inc-wmt-best-211417382.html\n",
      "\n",
      "25. Walmart's business surges as shoppers hunt for low prices - CNN (May 16, 2024)\n",
      "   Walmart said Thursday that sales at stores open at least a year increased 3.8% during its latest quarter from the same time last year. The ...\n",
      "   🔗 https://www.cnn.com/2024/05/16/investing/walmart-sales-inflation/index.html\n",
      "\n",
      "26. Walmart unwinds JD.com investment, to focus on own China ops (Aug 21, 2024)\n",
      "   \"Walmart wanted to get exposure in China in 2016 and kind of learned the retail business there,\" said Thomas Hayes, chairman at investment firm ...\n",
      "   🔗 https://www.reuters.com/business/retail-consumer/walmart-seeks-raise-374-bln-sale-jdcom-stake-bloomberg-news-reports-2024-08-20/\n",
      "\n",
      "27. Walmart's strong forecast signals a resilient consumer - Reuters (May 16, 2024)\n",
      "   A positive forecast from retail bellwether Walmart (WMT.N) on Thursday signaled a resilient US shopper, in line with earlier remarks by one of its key ...\n",
      "   🔗 https://www.reuters.com/business/retail-consumer/walmarts-strong-forecast-signals-resilient-consumer-2024-05-16/\n",
      "\n",
      "28. Walmart opposes New York plan to add panic buttons to stores (Jun 8, 2024)\n",
      "   Retail giant Walmart says it is against putting panic buttons in stores - a move that the New York legislature wants to require under a new law aimed at ...\n",
      "   🔗 https://www.reuters.com/business/retail-consumer/walmart-opposes-adding-panic-buttons-stores-2024-06-08/\n",
      "\n",
      "29. Walmart Inc | Reuters (Date not available)\n",
      "   The latest international Walmart Inc news and views from Reuters - one of the world's largest news agencies.\n",
      "   🔗 https://www.reuters.com/company/walmart-inc/\n",
      "\n",
      "30. Walmart Inc. (WMT) - Yahoo Finance (Date not available)\n",
      "   Walmart showcased its resiliency and its ability to innovate, change, and continue to deliver growth and shareholder value. Business Wire • 16 days ago ...\n",
      "   🔗 https://finance.yahoo.com/quote/WMT/press-releases/\n",
      "\n"
     ]
    }
   ],
   "source": [
    "\n",
    "# Convert dates to YYYYMMDD format for Google's date range filter\n",
    "def format_google_date(date_str):\n",
    "    parts = date_str.split(\"/\")\n",
    "    return f\"{parts[2]}{parts[0].zfill(2)}{parts[1].zfill(2)}\"\n",
    "\n",
    "google_start = format_google_date(start_date)\n",
    "google_end = format_google_date(end_date)\n",
    "\n",
    "# Trusted domains\n",
    "allowed_sites = trusted_sources\n",
    "site_filter = \" OR \".join(f\"site:{site}\" for site in allowed_sites)\n",
    "\n",
    "# Build query with date range filter\n",
    "query = f\"{site_filter} news about relevant macro events and the economy.\"\n",
    "sort_param = f\"date:r:{google_start}:{google_end}\"  # Google's date range format\n",
    "\n",
    "# Search with date filter\n",
    "search = GoogleSerperAPIWrapper(k=30, sort=sort_param)  # Pass sort parameter\n",
    "results = search.results(query)\n",
    "\n",
    "# Scoring logic (unchanged)\n",
    "def score_result(result):\n",
    "    score = 0\n",
    "    keywords = keywords_econ\n",
    "    link = result.get(\"link\", \"\")\n",
    "    title = result.get(\"title\", \"\").lower()\n",
    "    snippet = result.get(\"snippet\", \"\").lower()\n",
    "\n",
    "    # Boost for trusted domain\n",
    "    if any(site in link for site in allowed_sites):\n",
    "        score += 3\n",
    "\n",
    "    # Boost for keywords\n",
    "    if any(word in title or word in snippet for word in keywords):\n",
    "        score += 2\n",
    "\n",
    "    # Boost for having a date\n",
    "    if \"date\" in result:\n",
    "        score += 1\n",
    "\n",
    "    return score\n",
    "\n",
    "# Process results\n",
    "if results.get(\"organic\"):\n",
    "    sorted_results_econ = sorted(results.get(\"organic\", []), key=score_result, reverse=True)\n",
    "    print(sorted_results_econ)\n",
    "    \n",
    "    print(f\"\\nTop News about {client_name} from trusted sources ({start_date} → {end_date}):\\n\")\n",
    "    for i, result in enumerate(sorted_results, 1):\n",
    "        title = result.get(\"title\")\n",
    "        link = result.get(\"link\")\n",
    "        snippet = result.get(\"snippet\")\n",
    "        date = result.get(\"date\", \"Date not available\")\n",
    "        print(f\"{i}. {title} ({date})\\n   {snippet}\\n   🔗 {link}\\n\")\n",
    "else:\n",
    "    print(\"\\nNo results found for the query.\")"
   ]
  },
  {
   "cell_type": "code",
   "execution_count": null,
   "id": "888d12c3-57ce-4a60-9fa2-30df56ecf05d",
   "metadata": {},
   "outputs": [],
   "source": []
  },
  {
   "cell_type": "code",
   "execution_count": null,
   "id": "4b0e422f-084d-460b-a43b-b0ce3933e39c",
   "metadata": {},
   "outputs": [],
   "source": [
    "**FIN_TOOL_D - Provide a generate market update on the latest macro/financial indicators**"
   ]
  },
  {
   "cell_type": "code",
   "execution_count": null,
   "id": "51de065a-74f2-42c8-9a6f-73845c916018",
   "metadata": {},
   "outputs": [],
   "source": []
  },
  {
   "cell_type": "code",
   "execution_count": null,
   "id": "43221cca-19af-45e6-a3e6-32c63a31a94e",
   "metadata": {},
   "outputs": [],
   "source": [
    "**FIN_TOOL_E - Provide a generate market update on the latest macro/financial indicators**"
   ]
  },
  {
   "cell_type": "code",
   "execution_count": null,
   "id": "e3b2e79a-2a75-4f54-812b-448f0a93f74d",
   "metadata": {},
   "outputs": [],
   "source": []
  },
  {
   "cell_type": "code",
   "execution_count": 150,
   "id": "d800cca1-ef6d-40ba-8138-8a66ea2e7990",
   "metadata": {
    "tags": []
   },
   "outputs": [
    {
     "name": "stderr",
     "output_type": "stream",
     "text": [
      "Your max_length is set to 350, but your input_length is only 76. Since this is a summarization task, where outputs shorter than the input are typically wanted, you might consider decreasing max_length manually, e.g. summarizer('...', max_length=38)\n"
     ]
    },
    {
     "name": "stdout",
     "output_type": "stream",
     "text": [
      "\n",
      "📝 Summary of All News About Walmart (1/31/2025 → 4/30/2025):\n",
      "More than half of all Walmart U.S. store managers earned bonuses of $100,000 or more. The company's proxy statement revealed its executive pay and laid out issues set to come up at its annual meeting. Walmart (WMT) closed at $92.41 in the latest trading session, marking a -0.87% move from the prior day. The stock is down 0.9% this year. The Dow Jones Industrial Average is up 0.7%. The S&P 500 is up 1.2%. The Nasdaq is up 2.3%. The Russell 2000 is up 3.1%. The NASDAQ is down 1.4%. The FTSE 100 is down 2.1% this week.\n",
      "\n"
     ]
    }
   ],
   "source": [
    "from transformers import pipeline\n",
    "\n",
    "# Load summarization pipeline\n",
    "summarizer = pipeline(\"summarization\", model=\"facebook/bart-large-cnn\")\n",
    "all_snippets = \" \".join(result.get(\"snippet\", \"\") for result in sorted_results)\n",
    "\n",
    "# Chunking logic (BART has a 1024-token limit)\n",
    "def chunk_text(text, max_tokens=1000):\n",
    "    words = text.split()\n",
    "    for i in range(0, len(words), max_tokens):\n",
    "        yield \" \".join(words[i:i+max_tokens])\n",
    "\n",
    "chunks = list(chunk_text(all_snippets))\n",
    "summaries = [summarizer(chunk, max_length=100, min_length=30, do_sample=False)[0]['summary_text'] for chunk in chunks]\n",
    "\n",
    "# Combine all chunk summaries into one final summary\n",
    "final_summary = summarizer(\" \".join(summaries), max_length=350, min_length=150, do_sample=False)[0]['summary_text']\n",
    "\n",
    "print(f\"\\n📝 Summary of All News About {client_name} ({start_date} → {end_date}):\\n{final_summary}\\n\")"
   ]
  },
  {
   "cell_type": "code",
   "execution_count": 155,
   "id": "fba754de-73c5-41f5-8afe-8ac560080830",
   "metadata": {
    "tags": []
   },
   "outputs": [
    {
     "name": "stderr",
     "output_type": "stream",
     "text": [
      "huggingface/tokenizers: The current process just got forked, after parallelism has already been used. Disabling parallelism to avoid deadlocks...\n",
      "To disable this warning, you can either:\n",
      "\t- Avoid using `tokenizers` before the fork if possible\n",
      "\t- Explicitly set the environment variable TOKENIZERS_PARALLELISM=(true | false)\n"
     ]
    },
    {
     "name": "stdout",
     "output_type": "stream",
     "text": [
      "Requirement already satisfied: sentencepiece in /opt/conda/envs/so_currensee/lib/python3.11/site-packages (0.2.0)\n"
     ]
    },
    {
     "name": "stderr",
     "output_type": "stream",
     "text": [
      "Xet Storage is enabled for this repo, but the 'hf_xet' package is not installed. Falling back to regular HTTP download. For better performance, install the package with: `pip install huggingface_hub[hf_xet]` or `pip install hf_xet`\n"
     ]
    },
    {
     "name": "stdout",
     "output_type": "stream",
     "text": [
      "\n",
      "📝 Summary of All News About Walmart (1/31/2025 → 4/30/2025):\n",
      "more than half of all Walmart U.S. store managers earned bonuses of $100,000 or more. analysts say that Walmart can use its enormous scale and wide supplier base to keep prices down for customers, even as tariffs raise its costs. president Donald Trump met with major retailers at the white house.\n",
      "\n"
     ]
    }
   ],
   "source": [
    "#!pip install sentencepiece\n",
    "from transformers import AutoTokenizer, T5ForConditionalGeneration\n",
    "\n",
    "tokenizer = AutoTokenizer.from_pretrained(\"t5-small\")  # <- safer for weird installs\n",
    "model = T5ForConditionalGeneration.from_pretrained(\"t5-small\")\n",
    "\n",
    "# Combine all snippets into one block\n",
    "all_snippets = \" \".join(result.get(\"snippet\", \"\") for result in sorted_results)\n",
    "input_text = \"summarize: \" + all_snippets.strip()\n",
    "\n",
    "# T5 input is limited to 512 tokens for t5-small\n",
    "inputs = tokenizer.encode(input_text, return_tensors=\"pt\", max_length=512, truncation=True)\n",
    "\n",
    "# Generate summary\n",
    "summary_ids = model.generate(inputs, max_length=100, min_length=30, length_penalty=2.0, num_beams=4, early_stopping=True)\n",
    "summary = tokenizer.decode(summary_ids[0], skip_special_tokens=True)\n",
    "\n",
    "print(f\"\\n📝 Summary of All News About {client_name} ({start_date} → {end_date}):\\n{summary}\\n\")"
   ]
  },
  {
   "cell_type": "code",
   "execution_count": null,
   "id": "a6bd1d45-2efd-4bf3-8a1a-ba2bc29ff5d1",
   "metadata": {
    "tags": []
   },
   "outputs": [],
   "source": []
  },
  {
   "cell_type": "code",
   "execution_count": null,
   "id": "32f44823-7670-4e64-a3e1-4f479f9a033e",
   "metadata": {},
   "outputs": [],
   "source": []
  },
  {
   "cell_type": "code",
   "execution_count": null,
   "id": "73a85ab9-9c64-47fe-99c2-d8ef38a22243",
   "metadata": {},
   "outputs": [],
   "source": []
  },
  {
   "cell_type": "code",
   "execution_count": null,
   "id": "cf50e9a0-43cd-4dee-9129-7402386e94cd",
   "metadata": {
    "tags": []
   },
   "outputs": [],
   "source": [
    "# #USING LLM\n",
    "# #!pip install newsapi-python\n",
    "# #!pip install scikit-learn\n",
    "# from google.cloud import aiplatform\n",
    "# from newsapi import NewsApiClient\n",
    "# from datetime import datetime, timedelta\n",
    "# from sklearn.metrics.pairwise import cosine_similarity\n",
    "\n",
    "# # Set up Google Cloud and News API\n",
    "# newsapi = NewsApiClient(api_key='b42a6a3dbdd24443965c617126242eaa')\n",
    "# aiplatform.init(project=\"adsp-34002-on02-sopho-scribe\", location=\"us-central1\")\n",
    "\n",
    "# query = 'Walmart AND (earnings OR stock OR supply chain OR market OR revenue OR financial OR sales OR investment)'\n",
    "\n",
    "# def fetch_news(query=\"Walmart\", days_back=2):\n",
    "#     date_from = (datetime.now() - timedelta(days=days_back)).strftime('%Y-%m-%d')\n",
    "\n",
    "#     smart_query = 'Walmart AND (earnings OR stock OR supply chain OR market OR revenue OR financial OR sales OR investment)'\n",
    "    \n",
    "#     articles = newsapi.get_everything(\n",
    "#         q=smart_query,\n",
    "#         from_param=date_from,\n",
    "#         language='en',\n",
    "#         sort_by='relevancy',\n",
    "#         page_size=10,\n",
    "#         domains='reuters.com,bloomberg.com,wsj.com,cnn.com,forbes.com'\n",
    "#     )\n",
    "\n",
    "#     return [\n",
    "#         a.get('title', 'No title') + \": \" + a.get('description', 'No description available')\n",
    "#         for a in articles.get('articles', [])\n",
    "#         if a.get('description') and len(a.get('description')) > 30\n",
    "#     ]\n",
    "\n",
    "# def summarize_with_gemini(texts):\n",
    "#     endpoint = \"projects/adsp-34002-on02-sopho-scribe/locations/us-central1/endpoints/YOUR_ENDPOINT_ID\"\n",
    "#     model = aiplatform.gapic.PredictionServiceClient()\n",
    "\n",
    "#     instances = [{\"content\": text} for text in texts]\n",
    "#     response = model.predict(endpoint=endpoint, instances=instances)\n",
    "#     summaries = [prediction[\"content\"] for prediction in response.predictions]\n",
    "#     return summaries\n",
    "\n",
    "# def generate_embeddings(texts):\n",
    "#     model = aiplatform.gapic.PredictionServiceClient()\n",
    "#     endpoint = \"projects/adsp-34002-on02-sopho-scribe/locations/us-central1/endpoints/YOUR_EMBEDDING_ENDPOINT_ID\"\n",
    "    \n",
    "#     instances = [{\"content\": text} for text in texts]\n",
    "#     response = model.predict(endpoint=endpoint, instances=instances)\n",
    "#     embeddings = [prediction[\"embedding\"] for prediction in response.predictions]\n",
    "#     return embeddings\n",
    "\n",
    "# def rank_by_relevance(articles, query_embedding):\n",
    "#     embeddings = generate_embeddings(articles)\n",
    "#     similarities = cosine_similarity([query_embedding], embeddings)\n",
    "    \n",
    "#     ranked_articles = sorted(zip(articles, similarities[0]), key=lambda x: x[1], reverse=True)\n",
    "#     return ranked_articles\n",
    "\n",
    "# if __name__ == \"__main__\":\n",
    "#     # Step 1: Fetch news\n",
    "#     articles = fetch_news(\"Walmart\")\n",
    "    \n",
    "#     # Step 2: Summarize with Gemini\n",
    "#     summarized_articles = summarize_with_gemini(articles)\n",
    "    \n",
    "#     # Step 3: Rank articles based on relevance to 'Walmart'\n",
    "#     query_embedding = generate_embeddings([\"Walmart\"])[0]  # Use the embedding for the query term 'Walmart'\n",
    "#     ranked_articles = rank_by_relevance(summarized_articles, query_embedding)\n",
    "    \n",
    "#     # Output results\n",
    "#     print(\"📰 Walmart Market Summary (Ranked):\")\n",
    "#     for idx, (summary, score) in enumerate(ranked_articles, start=1):\n",
    "#         print(f\"\\n{idx}. {summary} (Relevance Score: {score:.3f})\")"
   ]
  },
  {
   "cell_type": "code",
   "execution_count": 143,
   "id": "c18ad83a-c59f-4251-84eb-ebd0df99f2cf",
   "metadata": {
    "tags": []
   },
   "outputs": [],
   "source": []
  },
  {
   "cell_type": "code",
   "execution_count": null,
   "id": "05b7923f-89e4-42f7-917a-e8866323723a",
   "metadata": {
    "tags": []
   },
   "outputs": [],
   "source": []
  },
  {
   "cell_type": "code",
   "execution_count": null,
   "id": "7b3dd924-aca0-454e-b699-2bcbbecade80",
   "metadata": {},
   "outputs": [],
   "source": []
  }
 ],
 "metadata": {
  "environment": {
   "kernel": "conda-env-so_currensee-so_currensee",
   "name": "workbench-notebooks.m129",
   "type": "gcloud",
   "uri": "us-docker.pkg.dev/deeplearning-platform-release/gcr.io/workbench-notebooks:m129"
  },
  "kernelspec": {
   "display_name": "so_currensee",
   "language": "python",
   "name": "conda-env-so_currensee-so_currensee"
  },
  "language_info": {
   "codemirror_mode": {
    "name": "ipython",
    "version": 3
   },
   "file_extension": ".py",
   "mimetype": "text/x-python",
   "name": "python",
   "nbconvert_exporter": "python",
   "pygments_lexer": "ipython3",
   "version": "3.11.12"
  }
 },
 "nbformat": 4,
 "nbformat_minor": 5
}
