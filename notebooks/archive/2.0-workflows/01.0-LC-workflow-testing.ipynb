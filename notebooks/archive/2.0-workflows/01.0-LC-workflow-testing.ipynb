{
 "cells": [
  {
   "cell_type": "markdown",
   "id": "3b526a7d",
   "metadata": {},
   "source": [
    "# CRM Query Engine Test\n",
    "This notebook demonstrates the implementation and usage of the SQL query engine."
   ]
  },
  {
   "cell_type": "code",
   "execution_count": null,
   "id": "9d2662a2",
   "metadata": {},
   "outputs": [],
   "source": [
    "from currensee.schema.schema import PostgresTables\n",
    "from currensee.query_engines.sql_workflow.utils import create_sql_workflow\n",
    "from currensee.utils.db_utils import create_pg_engine\n",
    "from currensee.query_engines.workflow_descriptions import (\n",
    "    crm_portfolio_table_desc,\n",
    "    crm_client_alignment_table_desc,\n",
    "    crm_client_info_table_desc,\n",
    "    crm_employees_table_desc,\n",
    "    crm_fund_details_desc,\n",
    ")"
   ]
  },
  {
   "cell_type": "code",
   "execution_count": null,
   "id": "d42b7691",
   "metadata": {},
   "outputs": [],
   "source": [
    "# required to run asynchronous code\n",
    "\n",
    "import nest_asyncio\n",
    "\n",
    "nest_asyncio.apply()"
   ]
  },
  {
   "cell_type": "markdown",
   "id": "9560132a",
   "metadata": {},
   "source": [
    "## Create the SQL Workflow"
   ]
  },
  {
   "cell_type": "markdown",
   "id": "69f02c7c-2583-4de4-926a-0d5a18f15ce2",
   "metadata": {},
   "source": [
    "The SQL workflow can take the following parameters:\n",
    "\n",
    "1. source_db: the name of the database where the table is stored (e.g. `crm`)\n",
    "2. source_tables: a list of the name(s) of the table(s) that we want the query engine to have access to\n",
    "  * note that multiple tables can be passed - this is if you want the query engine to try to join tables\n",
    "    in the queries that may have relationships to one another\n",
    "  * THIS IS LEVEL 2!! So do not attempt until you get the hang of just using one table at a time!!\n",
    "    \n",
    "3. table_descriptions: a list of the description(s) of the table(s) passed above\n",
    "4. text_to_sql_tmpl: a string containing the prompt telling the LLM how to produce the SQL query from the text given\n",
    "   * defaults to the variable `text_to_sql_tmpl` defined in `currensee.query_engines.prompting.py`\n",
    "   * you may override this by passing in your own string\n",
    "5. response_synthesis_prompt_str: a string containing the prompt telling the LLM how to synthesize the final response from the SQL table(s)\n",
    "   * defaults to the variable `response_synthesis_prompt_str` defined in `currensee.query_engines.prompting.py`\n",
    "   * you may override this by passing in your own string\n",
    "6. model: the name of the model to use for all of the tasks\n",
    "   * defaults to `gemini-1.5-flash`\n",
    "   * you may override this with any of the models defined at https://ai.google.dev/gemini-api/docs/models#model-variations using the string with dashes defined in the \"Model variant\" column.\n",
    "   * **BE VERY CAREFUL TO PAY ATTENTION TO THE PRICING!!!!!** I recommend that you use the default model until you understand the other models better!!!\n",
    "7. temperature: the temperature parameter to pass to the model\n",
    "   * default is 0.0\n",
    "   * the higher the temperature, the more creative it is. Recommend keeping low for the SQL query generation."
   ]
  },
  {
   "cell_type": "markdown",
   "id": "45c5b6b3-fbc9-4163-b724-4d682f7e628b",
   "metadata": {},
   "source": [
    "### Below is the default defined in `prompting.py`"
   ]
  },
  {
   "cell_type": "code",
   "execution_count": null,
   "id": "4f635abe-41d5-47b8-b073-2467ab2bed69",
   "metadata": {},
   "outputs": [],
   "source": [
    "text_to_sql_tmpl = \"\"\"\n",
    "    Given an input question, first create a syntactically correct {dialect} query to run, then look at the results of the query and return the answer.\n",
    "    You can order the results by the find_date column (from earliest to latest) to return the most interesting examples in the database.\n",
    "\n",
    "    GUIDELINES:\n",
    "    * Never query for all the columns from a specific table, only ask for a few relevant columns given the question.\n",
    "    * Pay attention to use only the column names that you can see in the schema description.\n",
    "    * Be careful to not query for columns that do not exist.\n",
    "    * Pay attention to which column is in which table.\n",
    "    * Make sure to filter on all criteria mentioned in the query.\n",
    "    * If using a LIMIT to restrict the results, make sure it comes only in the end of the query.\n",
    "\n",
    "    IMPORTANT NOTE:\n",
    "    * Use the ~* operator instead of = when filtering with WHERE on text columns.\n",
    "    * Add word boundaries '\\y' to the beginning and end of each search term in the query.\n",
    "\n",
    "    You are required to use the following format, each taking one line:\n",
    "\n",
    "    Question: Question here\n",
    "    SQLQuery: SQL Query to run\n",
    "    SQLResult: Result of the SQLQuery\n",
    "    Answer: Final answer here\n",
    "\n",
    "    Only use tables listed below.\n",
    "    {schema}\n",
    "\n",
    "    Question: {query_str}\n",
    "    SQLQuery:\n",
    "\n",
    "\"\"\""
   ]
  },
  {
   "cell_type": "markdown",
   "id": "0697edf0-736a-4271-b57c-58f279fc6993",
   "metadata": {},
   "source": [
    "### Below is the default defined in `prompting.py`"
   ]
  },
  {
   "cell_type": "code",
   "execution_count": null,
   "id": "b00ae072-006d-4ded-82ed-6fdbd688a2ad",
   "metadata": {},
   "outputs": [],
   "source": [
    "response_synthesis_prompt_str = \"\"\"\n",
    "\n",
    "    Query: {query_str}\n",
    "    SQL: {sql_query}\n",
    "    SQL Response: {context_str}\n",
    "\n",
    "    IMPORTANT INSTRUCTIONS:\n",
    "    * If SQL Response is empty or 0, apologise and mention that you could not find\n",
    "     examples to answer the query.\n",
    "    * In such cases, kindly nudge the user towards providing more details or refining\n",
    "    their search.\n",
    "    * Additionally, you can tell them to rephrase specific keywords.\n",
    "    * Do not explicitly state phrases such as 'based on the SQL query executed' or related\n",
    "     references to context in your Response.\n",
    "    * Never mention the underlying sql query, or the underling sql tables and other database elements\n",
    "    * Never mention that sql was used to answer this question\n",
    "\n",
    "    Considering the IMPORTANT INSTRUCTIONS above, create an response using the information\n",
    "    returned from the database and no prior knowledge.\n",
    "\n",
    "\n",
    "    Response:\n",
    "\"\"\""
   ]
  },
  {
   "cell_type": "markdown",
   "id": "1848116a-52f9-413e-a778-89c185c5602d",
   "metadata": {},
   "source": [
    "### Define the DB information\n",
    "**IMPORTANT**: The table names MUST be lowercase in order for the engine to find them."
   ]
  },
  {
   "cell_type": "code",
   "execution_count": null,
   "id": "f85b2203-b85f-4bf0-992e-0586f2a86db9",
   "metadata": {},
   "outputs": [],
   "source": [
    "source_db = \"crm\"\n",
    "table_description_mapping = {\n",
    "    \"employees\": crm_employees_table_desc,\n",
    "    \"portfolio\": crm_portfolio_table_desc,\n",
    "    \"fund_detail\": crm_fund_details_desc,\n",
    "    \"client_alignment\": crm_client_alignment_table_desc,\n",
    "    \"clients_contact\": crm_client_info_table_desc,\n",
    "}"
   ]
  },
  {
   "cell_type": "code",
   "execution_count": null,
   "id": "2f0ea45f",
   "metadata": {},
   "outputs": [],
   "source": [
    "sql_workflow = create_sql_workflow(\n",
    "    source_db=source_db,\n",
    "    table_description_mapping=table_description_mapping,\n",
    "    text_to_sql_tmpl=text_to_sql_tmpl,\n",
    "    response_synthesis_prompt_str=response_synthesis_prompt_str,\n",
    ")"
   ]
  },
  {
   "cell_type": "markdown",
   "id": "c02ad75e-a38e-4895-b5e3-b453c214622c",
   "metadata": {},
   "source": [
    "# Test Queries"
   ]
  },
  {
   "cell_type": "code",
   "execution_count": null,
   "id": "782f531a",
   "metadata": {},
   "outputs": [],
   "source": [
    "query = \"Who works for bankwell?\"\n",
    "result = await sql_workflow.run(query=query)\n",
    "result"
   ]
  },
  {
   "cell_type": "code",
   "execution_count": null,
   "id": "138a45d6-452c-4cd1-a74b-2d822d911dae",
   "metadata": {},
   "outputs": [],
   "source": [
    "query = \"How many people work for bankwell in the Sales department?\"\n",
    "result = await sql_workflow.run(query=query)\n",
    "result"
   ]
  },
  {
   "cell_type": "code",
   "execution_count": null,
   "id": "8634153f-12ed-4059-9f87-f091a7873aa8",
   "metadata": {},
   "outputs": [],
   "source": [
    "query = \"what financial instruments does Mariott own?\"\n",
    "result = await sql_workflow.run(query=query)\n",
    "result"
   ]
  },
  {
   "cell_type": "code",
   "execution_count": null,
   "id": "0ca0289b-e687-4d43-9a51-8d1dfea806d1",
   "metadata": {},
   "outputs": [],
   "source": [
    "query = \"how many funds does Broadcom own? What types of funds are they?\"\n",
    "result = await sql_workflow.run(query=query)\n",
    "result"
   ]
  },
  {
   "cell_type": "code",
   "execution_count": null,
   "id": "9c805262-945a-467c-b4da-53c1c907cffb",
   "metadata": {},
   "outputs": [],
   "source": [
    "query = \"What is Broadcom's total balance? What fund does broadcom have the most money in, and how much is there?\"\n",
    "result = await sql_workflow.run(query=query)\n",
    "result"
   ]
  },
  {
   "cell_type": "code",
   "execution_count": null,
   "id": "63f9576f-a59e-429c-a8dd-c2d62c346333",
   "metadata": {},
   "outputs": [],
   "source": [
    "query = \"How much money does broadcom have in each fund?\"\n",
    "result = await sql_workflow.run(query=query)\n",
    "result"
   ]
  },
  {
   "cell_type": "code",
   "execution_count": null,
   "id": "969f5566-4324-43e6-bd18-89d363a076c9",
   "metadata": {},
   "outputs": [],
   "source": [
    "query = \"what employees work on the mariott client account?\"\n",
    "result = await sql_workflow.run(query=query)\n",
    "result"
   ]
  },
  {
   "cell_type": "code",
   "execution_count": null,
   "id": "721a0508-b109-4952-96b2-76249c715023",
   "metadata": {},
   "outputs": [],
   "source": [
    "query = \"what is the client email for Mariott?\"\n",
    "result = await sql_workflow.run(query=query)\n",
    "result"
   ]
  },
  {
   "cell_type": "code",
   "execution_count": null,
   "id": "25020421-16ca-4025-a240-e81b33f9311c",
   "metadata": {},
   "outputs": [],
   "source": [
    "query = \"what is the stocks does the client Broadcom have in their funds?\"\n",
    "result = await sql_workflow.run(query=query)\n",
    "result"
   ]
  },
  {
   "cell_type": "code",
   "execution_count": null,
   "id": "6e08c868-ba95-4b2b-af37-760e63ab34ca",
   "metadata": {},
   "outputs": [],
   "source": [
    "query = \"what is the stocks does Mariott have in their equity funds?\"\n",
    "result = await sql_workflow.run(query=query)\n",
    "result"
   ]
  },
  {
   "cell_type": "code",
   "execution_count": null,
   "id": "02818ca9-897a-4a30-bc01-6fc084c9abf9",
   "metadata": {},
   "outputs": [],
   "source": [
    "query = \"What stocks are in the FTIEX equity fund?\"\n",
    "result = await sql_workflow.run(query=query)\n",
    "result"
   ]
  },
  {
   "cell_type": "code",
   "execution_count": null,
   "id": "e049f8b8-2a11-4a48-a747-5f653b50ac8e",
   "metadata": {},
   "outputs": [],
   "source": [
    "query = \"What funds does Walmart own? How much money is in each fund?\"\n",
    "result = await sql_workflow.run(query=query)\n",
    "result"
   ]
  },
  {
   "cell_type": "markdown",
   "id": "f4157527-5147-4bce-9363-03d9703d7240",
   "metadata": {},
   "source": [
    "# Check Answers accuracy"
   ]
  },
  {
   "cell_type": "code",
   "execution_count": null,
   "id": "c3a3fba7-04a3-4588-8fd5-09e1f32cdb47",
   "metadata": {},
   "outputs": [],
   "source": [
    "from google.cloud import secretmanager\n",
    "import pandas as pd\n",
    "import numpy as np\n",
    "from currensee.utils.db_utils import create_pg_engine\n",
    "from sqlalchemy import text"
   ]
  },
  {
   "cell_type": "code",
   "execution_count": null,
   "id": "06750bee-f8af-40b5-9444-3b66b304ed17",
   "metadata": {},
   "outputs": [],
   "source": [
    "DB_NAME = \"crm\"\n",
    "engine = create_pg_engine(db_name=DB_NAME)"
   ]
  },
  {
   "cell_type": "code",
   "execution_count": null,
   "id": "6a38ea97-d795-455f-bd9f-db0a35a82901",
   "metadata": {},
   "outputs": [],
   "source": [
    "pd.read_sql(\"SELECT count(*) FROM Employees\", con=engine)"
   ]
  },
  {
   "cell_type": "code",
   "execution_count": null,
   "id": "34c00ec6-4083-42a3-87c1-d095e91c480e",
   "metadata": {},
   "outputs": [],
   "source": [
    "pd.read_sql(\"SELECT * FROM portfolio where Company = 'Mariott' \", con=engine)"
   ]
  },
  {
   "cell_type": "code",
   "execution_count": null,
   "id": "211deb2c-faff-4714-ac2f-a7c63f898ab9",
   "metadata": {},
   "outputs": [],
   "source": [
    "pd.read_sql(\"SELECT * FROM portfolio where Company = 'Broadcom' \", con=engine)"
   ]
  },
  {
   "cell_type": "code",
   "execution_count": null,
   "id": "83068a4e-d8e6-40ad-910e-f29aec86b3ca",
   "metadata": {},
   "outputs": [],
   "source": [
    "pd.read_sql(\"SELECT * FROM client_alignment where Company = 'Mariott' \", con=engine)"
   ]
  },
  {
   "cell_type": "code",
   "execution_count": null,
   "id": "23903b26-10dc-45d6-aad0-bc067ceba30d",
   "metadata": {},
   "outputs": [],
   "source": [
    "pd.read_sql(\"SELECT * FROM clients_contact where Company = 'Mariott' \", con=engine)"
   ]
  },
  {
   "cell_type": "code",
   "execution_count": null,
   "id": "1bb4dee8-9065-4617-83ff-e3a3391ab7b8",
   "metadata": {},
   "outputs": [],
   "source": [
    "pd.read_sql(\n",
    "    \"\"\"SELECT T1.position_name \n",
    "FROM fund_detail AS T1 \n",
    "JOIN portfolio AS T2 ON \n",
    "T1.fund  =  T2.symbol \n",
    "WHERE T2.company = 'Mariott' AND T2.fund_type = 'Equity Fund'\n",
    "\"\"\",\n",
    "    con=engine,\n",
    ")\n",
    "\n",
    "\"\"\"I found the following stocks held in Marriott's equity funds:  NVDIA Corp, Apple Inc, Amazon.com Inc, \n",
    "Microsoft Corp, AT&T Inc, Bank of America Corp, Alphabet Inc Class A, Walmart Inc, Exxon Mobil Corp, and Intel Corp\"\"\""
   ]
  },
  {
   "cell_type": "code",
   "execution_count": null,
   "id": "892c0d40-15d4-4adc-8b93-0d376db9f49b",
   "metadata": {},
   "outputs": [],
   "source": []
  }
 ],
 "metadata": {
  "environment": {
   "kernel": "conda-env-lc_currensee-lc_currensee",
   "name": "workbench-notebooks.m129",
   "type": "gcloud",
   "uri": "us-docker.pkg.dev/deeplearning-platform-release/gcr.io/workbench-notebooks:m129"
  },
  "kernelspec": {
   "display_name": "lc_currensee",
   "language": "python",
   "name": "conda-env-lc_currensee-lc_currensee"
  },
  "language_info": {
   "codemirror_mode": {
    "name": "ipython",
    "version": 3
   },
   "file_extension": ".py",
   "mimetype": "text/x-python",
   "name": "python",
   "nbconvert_exporter": "python",
   "pygments_lexer": "ipython3"
  }
 },
 "nbformat": 4,
 "nbformat_minor": 5
}
