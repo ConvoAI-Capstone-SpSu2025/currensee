{
 "cells": [
  {
   "cell_type": "markdown",
   "id": "3b526a7d",
   "metadata": {},
   "source": [
    "# SQL Query Engine Sample\n",
    "This notebook demonstrates the implementation and usage of the SQL query engine."
   ]
  },
  {
   "cell_type": "code",
   "execution_count": 4,
   "id": "9d2662a2",
   "metadata": {},
   "outputs": [],
   "source": [
    "from currensee.schema.schema import PostgresTables\n",
    "from currensee.query_engines.sql_query_engine.query_engine import create_sql_workflow"
   ]
  },
  {
   "cell_type": "code",
   "execution_count": 5,
   "id": "d42b7691",
   "metadata": {},
   "outputs": [],
   "source": [
    "# required to run asynchronous code\n",
    "\n",
    "import nest_asyncio\n",
    "\n",
    "nest_asyncio.apply()"
   ]
  },
  {
   "cell_type": "markdown",
   "id": "9560132a",
   "metadata": {},
   "source": [
    "## Create the SQL Workflow"
   ]
  },
  {
   "cell_type": "code",
   "execution_count": 6,
   "id": "2f0ea45f",
   "metadata": {},
   "outputs": [
    {
     "ename": "AttributeError",
     "evalue": "'NoneType' object has no attribute 'get_secret_value'",
     "output_type": "error",
     "traceback": [
      "\u001b[31m---------------------------------------------------------------------------\u001b[39m",
      "\u001b[31mAttributeError\u001b[39m                            Traceback (most recent call last)",
      "\u001b[36mCell\u001b[39m\u001b[36m \u001b[39m\u001b[32mIn[6]\u001b[39m\u001b[32m, line 1\u001b[39m\n\u001b[32m----> \u001b[39m\u001b[32m1\u001b[39m sql_workflow = \u001b[43mcreate_sql_workflow\u001b[49m\u001b[43m(\u001b[49m\u001b[43msource_table\u001b[49m\u001b[43m \u001b[49m\u001b[43m=\u001b[49m\u001b[43m \u001b[49m\u001b[43mPostgresTables\u001b[49m\u001b[43m.\u001b[49m\u001b[43mCRM_TABLE_ONE\u001b[49m\u001b[43m)\u001b[49m\n",
      "\u001b[36mFile \u001b[39m\u001b[32m~/lc_currensee/currensee/currensee/query_engines/sql_query_engine/query_engine.py:50\u001b[39m, in \u001b[36mcreate_sql_workflow\u001b[39m\u001b[34m(source_table, model, temperature)\u001b[39m\n\u001b[32m     19\u001b[39m \u001b[38;5;28;01mdef\u001b[39;00m\u001b[38;5;250m \u001b[39m\u001b[34mcreate_sql_workflow\u001b[39m(\n\u001b[32m     20\u001b[39m     source_table: PostgresTables = PostgresTables.CRM_TABLE_ONE,\n\u001b[32m     21\u001b[39m     model: GoogleModelName = GoogleModelName.GEMINI_15_FLASH,\n\u001b[32m     22\u001b[39m     temperature: \u001b[38;5;28mfloat\u001b[39m = \u001b[32m0.0\u001b[39m\n\u001b[32m     23\u001b[39m ) -> SqlWorkflow:\n\u001b[32m     24\u001b[39m \u001b[38;5;250m    \u001b[39m\u001b[33;03m\"\"\"\u001b[39;00m\n\u001b[32m     25\u001b[39m \u001b[33;03m    Instantiate SQL workflow and necessary arguments.\u001b[39;00m\n\u001b[32m     26\u001b[39m \u001b[33;03m    Functionalized to create portability for unit testing\u001b[39;00m\n\u001b[32m   (...)\u001b[39m\u001b[32m     46\u001b[39m \u001b[33;03m        SQL workflow object\u001b[39;00m\n\u001b[32m     47\u001b[39m \u001b[33;03m    \"\"\"\u001b[39;00m\n\u001b[32m---> \u001b[39m\u001b[32m50\u001b[39m     pg_engine = create_engine(\u001b[43msettings\u001b[49m\u001b[43m.\u001b[49m\u001b[43msqlalchemy\u001b[49m)\n\u001b[32m     52\u001b[39m     \u001b[38;5;66;03m# Create the prompt that converts text to SQL for querying purposes and synthesizes final response\u001b[39;00m\n\u001b[32m     53\u001b[39m     text_to_sql_prompt = PromptTemplate(text_to_sql_tmpl)\n",
      "\u001b[36mFile \u001b[39m\u001b[32m/opt/conda/envs/lc_currensee/lib/python3.11/site-packages/pydantic/main.py:991\u001b[39m, in \u001b[36mBaseModel.__getattr__\u001b[39m\u001b[34m(self, item)\u001b[39m\n\u001b[32m    989\u001b[39m \u001b[38;5;28;01melse\u001b[39;00m:\n\u001b[32m    990\u001b[39m     \u001b[38;5;28;01mif\u001b[39;00m \u001b[38;5;28mhasattr\u001b[39m(\u001b[38;5;28mself\u001b[39m.\u001b[34m__class__\u001b[39m, item):\n\u001b[32m--> \u001b[39m\u001b[32m991\u001b[39m         \u001b[38;5;28;01mreturn\u001b[39;00m \u001b[38;5;28;43msuper\u001b[39;49m\u001b[43m(\u001b[49m\u001b[43m)\u001b[49m\u001b[43m.\u001b[49m\u001b[34;43m__getattribute__\u001b[39;49m\u001b[43m(\u001b[49m\u001b[43mitem\u001b[49m\u001b[43m)\u001b[49m  \u001b[38;5;66;03m# Raises AttributeError if appropriate\u001b[39;00m\n\u001b[32m    992\u001b[39m     \u001b[38;5;28;01melse\u001b[39;00m:\n\u001b[32m    993\u001b[39m         \u001b[38;5;66;03m# this is the current error\u001b[39;00m\n\u001b[32m    994\u001b[39m         \u001b[38;5;28;01mraise\u001b[39;00m \u001b[38;5;167;01mAttributeError\u001b[39;00m(\u001b[33mf\u001b[39m\u001b[33m'\u001b[39m\u001b[38;5;132;01m{\u001b[39;00m\u001b[38;5;28mtype\u001b[39m(\u001b[38;5;28mself\u001b[39m).\u001b[34m__name__\u001b[39m\u001b[38;5;132;01m!r}\u001b[39;00m\u001b[33m object has no attribute \u001b[39m\u001b[38;5;132;01m{\u001b[39;00mitem\u001b[38;5;132;01m!r}\u001b[39;00m\u001b[33m'\u001b[39m)\n",
      "\u001b[36mFile \u001b[39m\u001b[32m~/lc_currensee/currensee/currensee/core/settings.py:112\u001b[39m, in \u001b[36mSettings.sqlalchemy\u001b[39m\u001b[34m(self)\u001b[39m\n\u001b[32m    107\u001b[39m \u001b[38;5;129m@property\u001b[39m\n\u001b[32m    108\u001b[39m \u001b[38;5;28;01mdef\u001b[39;00m\u001b[38;5;250m \u001b[39m\u001b[34msqlalchemy\u001b[39m(\u001b[38;5;28mself\u001b[39m) -> URL:\n\u001b[32m    109\u001b[39m     sqlalchemy_dict = {\n\u001b[32m    110\u001b[39m         \u001b[33m\"\u001b[39m\u001b[33mdrivername\u001b[39m\u001b[33m\"\u001b[39m: \u001b[33m\"\u001b[39m\u001b[33mpostgresql+psycopg\u001b[39m\u001b[33m\"\u001b[39m,\n\u001b[32m    111\u001b[39m         \u001b[33m\"\u001b[39m\u001b[33musername\u001b[39m\u001b[33m\"\u001b[39m: \u001b[38;5;28mself\u001b[39m.POSTGRES_USER,\n\u001b[32m--> \u001b[39m\u001b[32m112\u001b[39m         \u001b[33m\"\u001b[39m\u001b[33mpassword\u001b[39m\u001b[33m\"\u001b[39m: \u001b[38;5;28;43mself\u001b[39;49m\u001b[43m.\u001b[49m\u001b[43mPOSTGRES_PASSWORD\u001b[49m\u001b[43m.\u001b[49m\u001b[43mget_secret_value\u001b[49m(),\n\u001b[32m    113\u001b[39m         \u001b[33m\"\u001b[39m\u001b[33mhost\u001b[39m\u001b[33m\"\u001b[39m: \u001b[38;5;28mself\u001b[39m.POSTGRES_HOST,\n\u001b[32m    114\u001b[39m         \u001b[33m\"\u001b[39m\u001b[33mdatabase\u001b[39m\u001b[33m\"\u001b[39m: \u001b[38;5;28mself\u001b[39m.POSTGRES_DB,\n\u001b[32m    115\u001b[39m         \u001b[33m\"\u001b[39m\u001b[33mport\u001b[39m\u001b[33m\"\u001b[39m: \u001b[38;5;28mself\u001b[39m.POSTGRES_PORT,\n\u001b[32m    116\u001b[39m     }\n\u001b[32m    117\u001b[39m     \u001b[38;5;28;01mreturn\u001b[39;00m URL.create(**sqlalchemy_dict)\n",
      "\u001b[31mAttributeError\u001b[39m: 'NoneType' object has no attribute 'get_secret_value'"
     ]
    }
   ],
   "source": [
    "sql_workflow = create_sql_workflow(source_table = PostgresTables.CRM_TABLE_ONE)"
   ]
  },
  {
   "cell_type": "markdown",
   "id": "51a2b1c6",
   "metadata": {},
   "source": [
    "## Define the Query"
   ]
  },
  {
   "cell_type": "code",
   "execution_count": null,
   "id": "782f531a",
   "metadata": {},
   "outputs": [],
   "source": [
    "query = \"How many clients do we have relationships with that work at Walmart?\""
   ]
  },
  {
   "cell_type": "markdown",
   "id": "d737e991",
   "metadata": {},
   "source": [
    "## Retrieve and Output the Query"
   ]
  },
  {
   "cell_type": "code",
   "execution_count": null,
   "id": "996031b4",
   "metadata": {},
   "outputs": [],
   "source": [
    "response = await sql_workflow.aquery(query)"
   ]
  },
  {
   "cell_type": "code",
   "execution_count": null,
   "id": "d2e79469",
   "metadata": {
    "tags": []
   },
   "outputs": [],
   "source": [
    "print(response)"
   ]
  }
 ],
 "metadata": {
  "environment": {
   "kernel": "conda-env-lc_currensee-lc_currensee",
   "name": "workbench-notebooks.m129",
   "type": "gcloud",
   "uri": "us-docker.pkg.dev/deeplearning-platform-release/gcr.io/workbench-notebooks:m129"
  },
  "kernelspec": {
   "display_name": "lc_currensee",
   "language": "python",
   "name": "conda-env-lc_currensee-lc_currensee"
  },
  "language_info": {
   "codemirror_mode": {
    "name": "ipython",
    "version": 3
   },
   "file_extension": ".py",
   "mimetype": "text/x-python",
   "name": "python",
   "nbconvert_exporter": "python",
   "pygments_lexer": "ipython3",
   "version": "3.11.12"
  }
 },
 "nbformat": 4,
 "nbformat_minor": 5
}
