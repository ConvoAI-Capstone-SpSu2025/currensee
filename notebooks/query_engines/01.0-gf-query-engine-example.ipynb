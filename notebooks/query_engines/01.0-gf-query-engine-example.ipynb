{
 "cells": [
  {
   "cell_type": "markdown",
   "id": "3b526a7d",
   "metadata": {},
   "source": [
    "# SQL Query Engine Sample\n",
    "This notebook demonstrates the implementation and usage of the SQL query engine."
   ]
  },
  {
   "cell_type": "code",
   "execution_count": null,
   "id": "9d2662a2",
   "metadata": {},
   "outputs": [],
   "source": [
    "from currensee.schema.schema import PostgresTables\n",
    "from currensee.query_engines.sql_query_engine.query_engine import create_sql_workflow"
   ]
  },
  {
   "cell_type": "code",
   "execution_count": null,
   "id": "d42b7691",
   "metadata": {},
   "outputs": [],
   "source": [
    "# required to run asynchronous code\n",
    "\n",
    "import nest_asyncio\n",
    "\n",
    "nest_asyncio.apply()"
   ]
  },
  {
   "cell_type": "markdown",
   "id": "9560132a",
   "metadata": {},
   "source": [
    "## Create the SQL Workflow"
   ]
  },
  {
   "cell_type": "code",
   "execution_count": null,
   "id": "2f0ea45f",
   "metadata": {},
   "outputs": [],
   "source": [
    "sql_workflow = create_sql_workflow(source_table = PostgresTables.CRM_TABLE_ONE)"
   ]
  },
  {
   "cell_type": "markdown",
   "id": "51a2b1c6",
   "metadata": {},
   "source": [
    "## Define the Query"
   ]
  },
  {
   "cell_type": "code",
   "execution_count": null,
   "id": "782f531a",
   "metadata": {},
   "outputs": [],
   "source": [
    "query = \"How many clients do we have relationships with that work at Walmart?\""
   ]
  },
  {
   "cell_type": "markdown",
   "id": "d737e991",
   "metadata": {},
   "source": [
    "## Retrieve and Output the Query"
   ]
  },
  {
   "cell_type": "code",
   "execution_count": null,
   "id": "996031b4",
   "metadata": {},
   "outputs": [],
   "source": [
    "response = await sql_workflow.aquery(query)"
   ]
  },
  {
   "cell_type": "code",
   "execution_count": null,
   "id": "d2e79469",
   "metadata": {},
   "outputs": [],
   "source": [
    "print(response)"
   ]
  }
 ],
 "metadata": {
  "kernelspec": {
   "display_name": "currensee",
   "language": "python",
   "name": "python3"
  },
  "language_info": {
   "codemirror_mode": {
    "name": "ipython",
    "version": 3
   },
   "file_extension": ".py",
   "mimetype": "text/x-python",
   "name": "python",
   "nbconvert_exporter": "python",
   "pygments_lexer": "ipython3",
   "version": "3.11.10"
  }
 },
 "nbformat": 4,
 "nbformat_minor": 5
}
