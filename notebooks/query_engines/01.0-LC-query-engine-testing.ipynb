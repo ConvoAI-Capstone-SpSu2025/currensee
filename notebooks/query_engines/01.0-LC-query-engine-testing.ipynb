{
 "cells": [
  {
   "cell_type": "markdown",
   "id": "3b526a7d",
   "metadata": {},
   "source": [
    "# SQL Query Engine Sample\n",
    "This notebook demonstrates the implementation and usage of the SQL query engine."
   ]
  },
  {
   "cell_type": "markdown",
   "id": "026a09de-9831-48a1-9fb9-40a296623b78",
   "metadata": {},
   "source": [
    "## IMPORTANT\n",
    "If you are going to use this notebook, please make a copy of it and change the name so that \n",
    "this notebook may be preserved for others as an example!"
   ]
  },
  {
   "cell_type": "code",
   "execution_count": 1,
   "id": "9d2662a2",
   "metadata": {},
   "outputs": [],
   "source": [
    "from currensee.schema.schema import PostgresTables\n",
    "from currensee.query_engines.sql_query_engine.query_engine import create_sql_workflow\n",
    "from currensee.utils.db_utils import create_pg_engine"
   ]
  },
  {
   "cell_type": "code",
   "execution_count": 2,
   "id": "d42b7691",
   "metadata": {},
   "outputs": [],
   "source": [
    "# required to run asynchronous code\n",
    "\n",
    "import nest_asyncio\n",
    "\n",
    "nest_asyncio.apply()"
   ]
  },
  {
   "cell_type": "markdown",
   "id": "9560132a",
   "metadata": {},
   "source": [
    "## Create the SQL Workflow"
   ]
  },
  {
   "cell_type": "markdown",
   "id": "69f02c7c-2583-4de4-926a-0d5a18f15ce2",
   "metadata": {},
   "source": [
    "The SQL workflow can take the following parameters:\n",
    "\n",
    "1. source_db: the name of the database where the table is stored (e.g. `crm`)\n",
    "2. source_tables: a list of the name(s) of the table(s) that we want the query engine to have access to\n",
    "  * note that multiple tables can be passed - this is if you want the query engine to try to join tables\n",
    "    in the queries that may have relationships to one another\n",
    "  * THIS IS LEVEL 2!! So do not attempt until you get the hang of just using one table at a time!!\n",
    "    \n",
    "3. table_descriptions: a list of the description(s) of the table(s) passed above\n",
    "4. text_to_sql_tmpl: a string containing the prompt telling the LLM how to produce the SQL query from the text given\n",
    "   * defaults to the variable `text_to_sql_tmpl` defined in `currensee.query_engines.prompting.py`\n",
    "   * you may override this by passing in your own string\n",
    "5. response_synthesis_prompt_str: a string containing the prompt telling the LLM how to synthesize the final response from the SQL table(s)\n",
    "   * defaults to the variable `response_synthesis_prompt_str` defined in `currensee.query_engines.prompting.py`\n",
    "   * you may override this by passing in your own string\n",
    "6. model: the name of the model to use for all of the tasks\n",
    "   * defaults to `gemini-1.5-flash`\n",
    "   * you may override this with any of the models defined at https://ai.google.dev/gemini-api/docs/models#model-variations using the string with dashes defined in the \"Model variant\" column.\n",
    "   * **BE VERY CAREFUL TO PAY ATTENTION TO THE PRICING!!!!!** I recommend that you use the default model until you understand the other models better!!!\n",
    "7. temperature: the temperature parameter to pass to the model\n",
    "   * default is 0.0\n",
    "   * the higher the temperature, the more creative it is. Recommend keeping low for the SQL query generation."
   ]
  },
  {
   "cell_type": "code",
   "execution_count": 3,
   "id": "ac58beb2-8ce7-4591-9d5a-5821e7a9962b",
   "metadata": {},
   "outputs": [],
   "source": [
    "employee_table_description = \"\"\"\n",
    "    Contains data about each financial advisor working at Bankwell Financial\n",
    "    Columns:\n",
    "     - employee_id (PK)\n",
    "     - employee_first_name\n",
    "     - employee_last_name\n",
    "     - title\n",
    "     - email\n",
    "     - phone\n",
    "     - hire_date\n",
    "     - department\n",
    "\"\"\""
   ]
  },
  {
   "cell_type": "markdown",
   "id": "45c5b6b3-fbc9-4163-b724-4d682f7e628b",
   "metadata": {},
   "source": [
    "### Below is the default defined in `prompting.py`"
   ]
  },
  {
   "cell_type": "code",
   "execution_count": 4,
   "id": "4f635abe-41d5-47b8-b073-2467ab2bed69",
   "metadata": {},
   "outputs": [],
   "source": [
    "text_to_sql_tmpl = \"\"\"\n",
    "    Given an input question, first create a syntactically correct {dialect} query to run, then look at the results of the query and return the answer.\n",
    "    You can order the results by the find_date column (from earliest to latest) to return the most interesting examples in the database.\n",
    "\n",
    "    GUIDELINES:\n",
    "    * Never query for all the columns from a specific table, only ask for a few relevant columns given the question.\n",
    "    * Pay attention to use only the column names that you can see in the schema description.\n",
    "    * Be careful to not query for columns that do not exist.\n",
    "    * Pay attention to which column is in which table.\n",
    "    * Make sure to filter on all criteria mentioned in the query.\n",
    "    * If using a LIMIT to restrict the results, make sure it comes only in the end of the query.\n",
    "\n",
    "    IMPORTANT NOTE:\n",
    "    * Use the ~* operator instead of = when filtering with WHERE on text columns.\n",
    "    * Add word boundaries '\\y' to the beginning and end of each search term in the query.\n",
    "\n",
    "    You are required to use the following format, each taking one line:\n",
    "\n",
    "    Question: Question here\n",
    "    SQLQuery: SQL Query to run\n",
    "    SQLResult: Result of the SQLQuery\n",
    "    Answer: Final answer here\n",
    "\n",
    "    Only use tables listed below.\n",
    "    {schema}\n",
    "\n",
    "    Question: {query_str}\n",
    "    SQLQuery:\n",
    "\n",
    "\"\"\""
   ]
  },
  {
   "cell_type": "markdown",
   "id": "0697edf0-736a-4271-b57c-58f279fc6993",
   "metadata": {},
   "source": [
    "### Below is the default defined in `prompting.py`"
   ]
  },
  {
   "cell_type": "code",
   "execution_count": 5,
   "id": "b00ae072-006d-4ded-82ed-6fdbd688a2ad",
   "metadata": {},
   "outputs": [],
   "source": [
    "response_synthesis_prompt_str = \"\"\"\n",
    "\n",
    "    Query: {query_str}\n",
    "    SQL: {sql_query}\n",
    "    SQL Response: {context_str}\n",
    "\n",
    "    IMPORTANT INSTRUCTIONS:\n",
    "    * If SQL Response is empty or 0, apologise and mention that you could not find\n",
    "     examples to answer the query.\n",
    "    * In such cases, kindly nudge the user towards providing more details or refining\n",
    "    their search.\n",
    "    * Additionally, you can tell them to rephrase specific keywords.\n",
    "    * Do not explicitly state phrases such as 'based on the SQL query executed' or related\n",
    "     references to context in your Response.\n",
    "    * Never mention the underlying sql query, or the underling sql tables and other database elements\n",
    "    * Never mention that sql was used to answer this question\n",
    "\n",
    "    Considering the IMPORTANT INSTRUCTIONS above, create an response using the information\n",
    "    returned from the database and no prior knowledge.\n",
    "\n",
    "\n",
    "    Response:\n",
    "\"\"\""
   ]
  },
  {
   "cell_type": "markdown",
   "id": "1848116a-52f9-413e-a778-89c185c5602d",
   "metadata": {},
   "source": [
    "### Define the DB information\n",
    "**IMPORTANT**: The table names MUST be lowercase in order for the engine to find them."
   ]
  },
  {
   "cell_type": "code",
   "execution_count": 6,
   "id": "f85b2203-b85f-4bf0-992e-0586f2a86db9",
   "metadata": {},
   "outputs": [],
   "source": [
    "source_db = 'crm'\n",
    "table_description_mapping = {\n",
    "    'employees': employee_table_description\n",
    "\n",
    "}"
   ]
  },
  {
   "cell_type": "code",
   "execution_count": 7,
   "id": "2f0ea45f",
   "metadata": {},
   "outputs": [],
   "source": [
    "sql_workflow = create_sql_workflow(\n",
    "    source_db = source_db,\n",
    "    table_description_mapping=table_description_mapping,\n",
    "    text_to_sql_tmpl=text_to_sql_tmpl,\n",
    "    response_synthesis_prompt_str=response_synthesis_prompt_str\n",
    "    \n",
    ")"
   ]
  },
  {
   "cell_type": "markdown",
   "id": "51a2b1c6",
   "metadata": {},
   "source": [
    "## Define the Query"
   ]
  },
  {
   "cell_type": "code",
   "execution_count": 8,
   "id": "782f531a",
   "metadata": {},
   "outputs": [],
   "source": [
    "query = \"Who works for our company?\""
   ]
  },
  {
   "cell_type": "code",
   "execution_count": null,
   "id": "7bcf8b51-8005-4171-b942-4399810c394a",
   "metadata": {},
   "outputs": [],
   "source": []
  },
  {
   "cell_type": "markdown",
   "id": "d737e991",
   "metadata": {},
   "source": [
    "## Retrieve and Output the Query"
   ]
  },
  {
   "cell_type": "code",
   "execution_count": 9,
   "id": "996031b4",
   "metadata": {},
   "outputs": [
    {
     "name": "stdout",
     "output_type": "stream",
     "text": [
      "Running step generate_sql_response\n",
      "Step generate_sql_response produced event StopEvent\n"
     ]
    }
   ],
   "source": [
    "result = await sql_workflow.run(query=query)"
   ]
  },
  {
   "cell_type": "code",
   "execution_count": 10,
   "id": "d2e79469",
   "metadata": {
    "tags": []
   },
   "outputs": [
    {
     "data": {
      "text/plain": [
       "Response(response=\"Here's a list of employees who work for the company: Jane Moneypenny, Amanda Pennington, Hayley Garcia, Dylan Williams, John Montes, Andrew Guerra, Samantha Reynolds, James Craig, Eric Ortiz, Kristina Glover, Dawn Reed, Regina Smith, Sara Johnson, Hayley Howard, Michelle Benson, Joseph Taylor, Steven Massey, Jessica Howard, Gavin Church, Peter Williams, Amanda Harrison, Kaylee Cruz, Lauren Hale, Michael Long, Joshua Farmer, Johnny Vargas, Joseph Harrison, Caitlyn Alexander, Marcus Bailey, John Murray, Brian Bradshaw, Daniel Taylor, James Rivera, Andrew Snow, Melissa Lee, Lisa Morris, Phyllis Wells, Stephanie Fisher, Jamie Campbell, Kari Johnson, Kristin Murray, Erica Franklin, Joseph Hamilton, James Strong, Nancy Jackson, Paul Klein, Katherine Walsh, Pamela Rosario, Richard Mccormick, Timothy Poole, Jennifer Gill, Walter Carpenter, Beth Cook, Michael Norton, Douglas Adams, Sara Ramirez, Bridget Velez, Crystal Lopez, April Shelton, Steven Spencer, Carol Gomez, Maria Herrera, Kristen Norton, Wendy Ramirez, Heidi White, Kimberly Howell, Gregory Morris, Cynthia Mathews, Kimberly Charles, Elizabeth Brock, Joseph Williams, Charlene Lawrence, Jessica White, Jennifer Thomas, Zachary Robinson, Vanessa Jones, Ruth Davis, William Anderson, Miranda Gutierrez, Ashley Hester, April Bailey, Juan Henderson, Michael Hensley, Lisa Garcia, Stephanie Butler, Michael Smith, David Ramsey, Scott Compton, Peter Cannon, Terri Frank, Stephen Roberts, Elizabeth Robles, Mark Schroeder, John Wang, Daniel Ellison, Brittney Martin, Emily Brown, Clayton Rogers, Timothy Johnson, and Jennifer Herrera.\\n\", source_nodes=[NodeWithScore(node=TextNode(id_='b1a0f9ec-19db-442f-9c36-5736b49ba4ed', embedding=None, metadata={'sql_query': 'SELECT first_name, last_name FROM employees;', 'result': [('Jane', 'Moneypenny'), ('Amanda', 'Pennington'), ('Hayley', 'Garcia'), ('Dylan', 'Williams'), ('John', 'Montes'), ('Andrew', 'Guerra'), ('Samantha', 'Reynolds'), ('James', 'Craig'), ('Eric', 'Ortiz'), ('Kristina', 'Glover'), ('Dawn', 'Reed'), ('Regina', 'Smith'), ('Sara', 'Johnson'), ('Hayley', 'Howard'), ('Michelle', 'Benson'), ('Joseph', 'Taylor'), ('Steven', 'Massey'), ('Jessica', 'Howard'), ('Gavin', 'Church'), ('Peter', 'Williams'), ('Amanda', 'Harrison'), ('Kaylee', 'Cruz'), ('Lauren', 'Hale'), ('Michael', 'Long'), ('Joshua', 'Farmer'), ('Johnny', 'Vargas'), ('Joseph', 'Harrison'), ('Caitlyn', 'Alexander'), ('Marcus', 'Bailey'), ('John', 'Murray'), ('Brian', 'Bradshaw'), ('Daniel', 'Taylor'), ('James', 'Rivera'), ('Andrew', 'Snow'), ('Melissa', 'Lee'), ('Lisa', 'Morris'), ('Phyllis', 'Wells'), ('Stephanie', 'Fisher'), ('Jamie', 'Campbell'), ('Kari', 'Johnson'), ('Kristin', 'Murray'), ('Erica', 'Franklin'), ('Joseph', 'Hamilton'), ('James', 'Strong'), ('Nancy', 'Jackson'), ('Paul', 'Klein'), ('Katherine', 'Walsh'), ('Pamela', 'Rosario'), ('Richard', 'Mccormick'), ('Timothy', 'Poole'), ('Jennifer', 'Gill'), ('Walter', 'Carpenter'), ('Beth', 'Cook'), ('Michael', 'Norton'), ('Douglas', 'Adams'), ('Sara', 'Ramirez'), ('Bridget', 'Velez'), ('Crystal', 'Lopez'), ('April', 'Shelton'), ('Steven', 'Spencer'), ('Carol', 'Gomez'), ('Maria', 'Herrera'), ('Kristen', 'Norton'), ('Wendy', 'Ramirez'), ('Heidi', 'White'), ('Kimberly', 'Howell'), ('Gregory', 'Morris'), ('Cynthia', 'Mathews'), ('Kimberly', 'Charles'), ('Elizabeth', 'Brock'), ('Joseph', 'Williams'), ('Charlene', 'Lawrence'), ('Jessica', 'White'), ('Jennifer', 'Thomas'), ('Zachary', 'Robinson'), ('Vanessa', 'Jones'), ('Ruth', 'Davis'), ('William', 'Anderson'), ('Miranda', 'Gutierrez'), ('Ashley', 'Hester'), ('April', 'Bailey'), ('Juan', 'Henderson'), ('Michael', 'Hensley'), ('Lisa', 'Garcia'), ('Stephanie', 'Butler'), ('Michael', 'Smith'), ('David', 'Ramsey'), ('Scott', 'Compton'), ('Peter', 'Cannon'), ('Terri', 'Frank'), ('Stephen', 'Roberts'), ('Elizabeth', 'Robles'), ('Mark', 'Schroeder'), ('John', 'Wang'), ('Daniel', 'Ellison'), ('Brittney', 'Martin'), ('Emily', 'Brown'), ('Clayton', 'Rogers'), ('Timothy', 'Johnson'), ('Jennifer', 'Herrera')], 'col_keys': ['first_name', 'last_name']}, excluded_embed_metadata_keys=['sql_query', 'result', 'col_keys'], excluded_llm_metadata_keys=['sql_query', 'result', 'col_keys'], relationships={}, metadata_template='{key}: {value}', metadata_separator='\\n', text=\"[('Jane', 'Moneypenny'), ('Amanda', 'Pennington'), ('Hayley', 'Garcia'), ('Dylan', 'Williams'), ('John', 'Montes'), ('Andrew', 'Guerra'), ('Samantha', 'Reynolds'), ('James', 'Craig'), ('Eric', 'Ortiz'), ('Kristina', 'Glover'), ('Dawn', 'Reed'), ('Regina', 'Smith'), ('Sara', 'Johnson'), ('Hayley', 'Howard'), ('Michelle', 'Benson'), ('Joseph', 'Taylor'), ('Steven', 'Massey'), ('Jessica', 'Howard'), ('Gavin', 'Church'), ('Peter', 'Williams'), ('Amanda', 'Harrison'), ('Kaylee', 'Cruz'), ('Lauren', 'Hale'), ('Michael', 'Long'), ('Joshua', 'Farmer'), ('Johnny', 'Vargas'), ('Joseph', 'Harrison'), ('Caitlyn', 'Alexander'), ('Marcus', 'Bailey'), ('John', 'Murray'), ('Brian', 'Bradshaw'), ('Daniel', 'Taylor'), ('James', 'Rivera'), ('Andrew', 'Snow'), ('Melissa', 'Lee'), ('Lisa', 'Morris'), ('Phyllis', 'Wells'), ('Stephanie', 'Fisher'), ('Jamie', 'Campbell'), ('Kari', 'Johnson'), ('Kristin', 'Murray'), ('Erica', 'Franklin'), ('Joseph', 'Hamilton'), ('James', 'Strong'), ('Nancy', 'Jackson'), ('Paul', 'Klein'), ('Katherine', 'Walsh'), ('Pamela', 'Rosario'), ('Richard', 'Mccormick'), ('Timothy', 'Poole'), ('Jennifer', 'Gill'), ('Walter', 'Carpenter'), ('Beth', 'Cook'), ('Michael', 'Norton'), ('Douglas', 'Adams'), ('Sara', 'Ramirez'), ('Bridget', 'Velez'), ('Crystal', 'Lopez'), ('April', 'Shelton'), ('Steven', 'Spencer'), ('Carol', 'Gomez'), ('Maria', 'Herrera'), ('Kristen', 'Norton'), ('Wendy', 'Ramirez'), ('Heidi', 'White'), ('Kimberly', 'Howell'), ('Gregory', 'Morris'), ('Cynthia', 'Mathews'), ('Kimberly', 'Charles'), ('Elizabeth', 'Brock'), ('Joseph', 'Williams'), ('Charlene', 'Lawrence'), ('Jessica', 'White'), ('Jennifer', 'Thomas'), ('Zachary', 'Robinson'), ('Vanessa', 'Jones'), ('Ruth', 'Davis'), ('William', 'Anderson'), ('Miranda', 'Gutierrez'), ('Ashley', 'Hester'), ('April', 'Bailey'), ('Juan', 'Henderson'), ('Michael', 'Hensley'), ('Lisa', 'Garcia'), ('Stephanie', 'Butler'), ('Michael', 'Smith'), ('David', 'Ramsey'), ('Scott', 'Compton'), ('Peter', 'Cannon'), ('Terri', 'Frank'), ('Stephen', 'Roberts'), ('Elizabeth', 'Robles'), ('Mark', 'Schroeder'), ('John', 'Wang'), ('Daniel', 'Ellison'), ('Brittney', 'Martin'), ('Emily', 'Brown'), ('Clayton', 'Rogers'), ('Timothy', 'Johnson'), ('Jennifer', 'Herrera')]\", mimetype='text/plain', start_char_idx=None, end_char_idx=None, metadata_seperator='\\n', text_template='{metadata_str}\\n\\n{content}'), score=None)], metadata={'b1a0f9ec-19db-442f-9c36-5736b49ba4ed': {'sql_query': 'SELECT first_name, last_name FROM employees;', 'result': [('Jane', 'Moneypenny'), ('Amanda', 'Pennington'), ('Hayley', 'Garcia'), ('Dylan', 'Williams'), ('John', 'Montes'), ('Andrew', 'Guerra'), ('Samantha', 'Reynolds'), ('James', 'Craig'), ('Eric', 'Ortiz'), ('Kristina', 'Glover'), ('Dawn', 'Reed'), ('Regina', 'Smith'), ('Sara', 'Johnson'), ('Hayley', 'Howard'), ('Michelle', 'Benson'), ('Joseph', 'Taylor'), ('Steven', 'Massey'), ('Jessica', 'Howard'), ('Gavin', 'Church'), ('Peter', 'Williams'), ('Amanda', 'Harrison'), ('Kaylee', 'Cruz'), ('Lauren', 'Hale'), ('Michael', 'Long'), ('Joshua', 'Farmer'), ('Johnny', 'Vargas'), ('Joseph', 'Harrison'), ('Caitlyn', 'Alexander'), ('Marcus', 'Bailey'), ('John', 'Murray'), ('Brian', 'Bradshaw'), ('Daniel', 'Taylor'), ('James', 'Rivera'), ('Andrew', 'Snow'), ('Melissa', 'Lee'), ('Lisa', 'Morris'), ('Phyllis', 'Wells'), ('Stephanie', 'Fisher'), ('Jamie', 'Campbell'), ('Kari', 'Johnson'), ('Kristin', 'Murray'), ('Erica', 'Franklin'), ('Joseph', 'Hamilton'), ('James', 'Strong'), ('Nancy', 'Jackson'), ('Paul', 'Klein'), ('Katherine', 'Walsh'), ('Pamela', 'Rosario'), ('Richard', 'Mccormick'), ('Timothy', 'Poole'), ('Jennifer', 'Gill'), ('Walter', 'Carpenter'), ('Beth', 'Cook'), ('Michael', 'Norton'), ('Douglas', 'Adams'), ('Sara', 'Ramirez'), ('Bridget', 'Velez'), ('Crystal', 'Lopez'), ('April', 'Shelton'), ('Steven', 'Spencer'), ('Carol', 'Gomez'), ('Maria', 'Herrera'), ('Kristen', 'Norton'), ('Wendy', 'Ramirez'), ('Heidi', 'White'), ('Kimberly', 'Howell'), ('Gregory', 'Morris'), ('Cynthia', 'Mathews'), ('Kimberly', 'Charles'), ('Elizabeth', 'Brock'), ('Joseph', 'Williams'), ('Charlene', 'Lawrence'), ('Jessica', 'White'), ('Jennifer', 'Thomas'), ('Zachary', 'Robinson'), ('Vanessa', 'Jones'), ('Ruth', 'Davis'), ('William', 'Anderson'), ('Miranda', 'Gutierrez'), ('Ashley', 'Hester'), ('April', 'Bailey'), ('Juan', 'Henderson'), ('Michael', 'Hensley'), ('Lisa', 'Garcia'), ('Stephanie', 'Butler'), ('Michael', 'Smith'), ('David', 'Ramsey'), ('Scott', 'Compton'), ('Peter', 'Cannon'), ('Terri', 'Frank'), ('Stephen', 'Roberts'), ('Elizabeth', 'Robles'), ('Mark', 'Schroeder'), ('John', 'Wang'), ('Daniel', 'Ellison'), ('Brittney', 'Martin'), ('Emily', 'Brown'), ('Clayton', 'Rogers'), ('Timothy', 'Johnson'), ('Jennifer', 'Herrera')], 'col_keys': ['first_name', 'last_name']}, 'sql_query': 'SELECT first_name, last_name FROM employees;', 'result': [('Jane', 'Moneypenny'), ('Amanda', 'Pennington'), ('Hayley', 'Garcia'), ('Dylan', 'Williams'), ('John', 'Montes'), ('Andrew', 'Guerra'), ('Samantha', 'Reynolds'), ('James', 'Craig'), ('Eric', 'Ortiz'), ('Kristina', 'Glover'), ('Dawn', 'Reed'), ('Regina', 'Smith'), ('Sara', 'Johnson'), ('Hayley', 'Howard'), ('Michelle', 'Benson'), ('Joseph', 'Taylor'), ('Steven', 'Massey'), ('Jessica', 'Howard'), ('Gavin', 'Church'), ('Peter', 'Williams'), ('Amanda', 'Harrison'), ('Kaylee', 'Cruz'), ('Lauren', 'Hale'), ('Michael', 'Long'), ('Joshua', 'Farmer'), ('Johnny', 'Vargas'), ('Joseph', 'Harrison'), ('Caitlyn', 'Alexander'), ('Marcus', 'Bailey'), ('John', 'Murray'), ('Brian', 'Bradshaw'), ('Daniel', 'Taylor'), ('James', 'Rivera'), ('Andrew', 'Snow'), ('Melissa', 'Lee'), ('Lisa', 'Morris'), ('Phyllis', 'Wells'), ('Stephanie', 'Fisher'), ('Jamie', 'Campbell'), ('Kari', 'Johnson'), ('Kristin', 'Murray'), ('Erica', 'Franklin'), ('Joseph', 'Hamilton'), ('James', 'Strong'), ('Nancy', 'Jackson'), ('Paul', 'Klein'), ('Katherine', 'Walsh'), ('Pamela', 'Rosario'), ('Richard', 'Mccormick'), ('Timothy', 'Poole'), ('Jennifer', 'Gill'), ('Walter', 'Carpenter'), ('Beth', 'Cook'), ('Michael', 'Norton'), ('Douglas', 'Adams'), ('Sara', 'Ramirez'), ('Bridget', 'Velez'), ('Crystal', 'Lopez'), ('April', 'Shelton'), ('Steven', 'Spencer'), ('Carol', 'Gomez'), ('Maria', 'Herrera'), ('Kristen', 'Norton'), ('Wendy', 'Ramirez'), ('Heidi', 'White'), ('Kimberly', 'Howell'), ('Gregory', 'Morris'), ('Cynthia', 'Mathews'), ('Kimberly', 'Charles'), ('Elizabeth', 'Brock'), ('Joseph', 'Williams'), ('Charlene', 'Lawrence'), ('Jessica', 'White'), ('Jennifer', 'Thomas'), ('Zachary', 'Robinson'), ('Vanessa', 'Jones'), ('Ruth', 'Davis'), ('William', 'Anderson'), ('Miranda', 'Gutierrez'), ('Ashley', 'Hester'), ('April', 'Bailey'), ('Juan', 'Henderson'), ('Michael', 'Hensley'), ('Lisa', 'Garcia'), ('Stephanie', 'Butler'), ('Michael', 'Smith'), ('David', 'Ramsey'), ('Scott', 'Compton'), ('Peter', 'Cannon'), ('Terri', 'Frank'), ('Stephen', 'Roberts'), ('Elizabeth', 'Robles'), ('Mark', 'Schroeder'), ('John', 'Wang'), ('Daniel', 'Ellison'), ('Brittney', 'Martin'), ('Emily', 'Brown'), ('Clayton', 'Rogers'), ('Timothy', 'Johnson'), ('Jennifer', 'Herrera')], 'col_keys': ['first_name', 'last_name'], 'user_query': 'Who works for our company?'})"
      ]
     },
     "execution_count": 10,
     "metadata": {},
     "output_type": "execute_result"
    }
   ],
   "source": [
    "result"
   ]
  },
  {
   "cell_type": "code",
   "execution_count": null,
   "id": "efd010d4-0f01-4da4-97e8-e2057bb3130e",
   "metadata": {},
   "outputs": [],
   "source": []
  },
  {
   "cell_type": "code",
   "execution_count": null,
   "id": "8634153f-12ed-4059-9f87-f091a7873aa8",
   "metadata": {},
   "outputs": [],
   "source": []
  }
 ],
 "metadata": {
  "environment": {
   "kernel": "conda-env-lc_currensee-lc_currensee",
   "name": "workbench-notebooks.m129",
   "type": "gcloud",
   "uri": "us-docker.pkg.dev/deeplearning-platform-release/gcr.io/workbench-notebooks:m129"
  },
  "kernelspec": {
   "display_name": "lc_currensee",
   "language": "python",
   "name": "conda-env-lc_currensee-lc_currensee"
  },
  "language_info": {
   "codemirror_mode": {
    "name": "ipython",
    "version": 3
   },
   "file_extension": ".py",
   "mimetype": "text/x-python",
   "name": "python",
   "nbconvert_exporter": "python",
   "pygments_lexer": "ipython3",
   "version": "3.11.12"
  }
 },
 "nbformat": 4,
 "nbformat_minor": 5
}
