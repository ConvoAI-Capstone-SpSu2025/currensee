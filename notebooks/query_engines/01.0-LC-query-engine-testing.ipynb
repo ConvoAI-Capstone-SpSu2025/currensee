{
 "cells": [
  {
   "cell_type": "markdown",
   "id": "3b526a7d",
   "metadata": {},
   "source": [
    "# CRM Query Engine Test\n",
    "This notebook demonstrates the implementation and usage of the SQL query engine."
   ]
  },
  {
   "cell_type": "code",
   "execution_count": 1,
   "id": "9d2662a2",
   "metadata": {},
   "outputs": [],
   "source": [
    "from currensee.schema.schema import PostgresTables\n",
    "from currensee.query_engines.sql_query_engine.query_engine import create_sql_workflow\n",
    "from currensee.utils.db_utils import create_pg_engine\n",
    "from currensee.query_engines.workflow_descriptions import crm_portfolio_table_desc, crm_client_alignment_table_desc,crm_client_info_table_desc, crm_employees_table_desc,crm_fund_details_desc "
   ]
  },
  {
   "cell_type": "code",
   "execution_count": 2,
   "id": "d42b7691",
   "metadata": {},
   "outputs": [],
   "source": [
    "# required to run asynchronous code\n",
    "\n",
    "import nest_asyncio\n",
    "\n",
    "nest_asyncio.apply()"
   ]
  },
  {
   "cell_type": "markdown",
   "id": "9560132a",
   "metadata": {},
   "source": [
    "## Create the SQL Workflow"
   ]
  },
  {
   "cell_type": "markdown",
   "id": "69f02c7c-2583-4de4-926a-0d5a18f15ce2",
   "metadata": {},
   "source": [
    "The SQL workflow can take the following parameters:\n",
    "\n",
    "1. source_db: the name of the database where the table is stored (e.g. `crm`)\n",
    "2. source_tables: a list of the name(s) of the table(s) that we want the query engine to have access to\n",
    "  * note that multiple tables can be passed - this is if you want the query engine to try to join tables\n",
    "    in the queries that may have relationships to one another\n",
    "  * THIS IS LEVEL 2!! So do not attempt until you get the hang of just using one table at a time!!\n",
    "    \n",
    "3. table_descriptions: a list of the description(s) of the table(s) passed above\n",
    "4. text_to_sql_tmpl: a string containing the prompt telling the LLM how to produce the SQL query from the text given\n",
    "   * defaults to the variable `text_to_sql_tmpl` defined in `currensee.query_engines.prompting.py`\n",
    "   * you may override this by passing in your own string\n",
    "5. response_synthesis_prompt_str: a string containing the prompt telling the LLM how to synthesize the final response from the SQL table(s)\n",
    "   * defaults to the variable `response_synthesis_prompt_str` defined in `currensee.query_engines.prompting.py`\n",
    "   * you may override this by passing in your own string\n",
    "6. model: the name of the model to use for all of the tasks\n",
    "   * defaults to `gemini-1.5-flash`\n",
    "   * you may override this with any of the models defined at https://ai.google.dev/gemini-api/docs/models#model-variations using the string with dashes defined in the \"Model variant\" column.\n",
    "   * **BE VERY CAREFUL TO PAY ATTENTION TO THE PRICING!!!!!** I recommend that you use the default model until you understand the other models better!!!\n",
    "7. temperature: the temperature parameter to pass to the model\n",
    "   * default is 0.0\n",
    "   * the higher the temperature, the more creative it is. Recommend keeping low for the SQL query generation."
   ]
  },
  {
   "cell_type": "markdown",
   "id": "45c5b6b3-fbc9-4163-b724-4d682f7e628b",
   "metadata": {},
   "source": [
    "### Below is the default defined in `prompting.py`"
   ]
  },
  {
   "cell_type": "code",
   "execution_count": 3,
   "id": "4f635abe-41d5-47b8-b073-2467ab2bed69",
   "metadata": {},
   "outputs": [],
   "source": [
    "text_to_sql_tmpl = \"\"\"\n",
    "    Given an input question, first create a syntactically correct {dialect} query to run, then look at the results of the query and return the answer.\n",
    "    You can order the results by the find_date column (from earliest to latest) to return the most interesting examples in the database.\n",
    "\n",
    "    GUIDELINES:\n",
    "    * Never query for all the columns from a specific table, only ask for a few relevant columns given the question.\n",
    "    * Pay attention to use only the column names that you can see in the schema description.\n",
    "    * Be careful to not query for columns that do not exist.\n",
    "    * Pay attention to which column is in which table.\n",
    "    * Make sure to filter on all criteria mentioned in the query.\n",
    "    * If using a LIMIT to restrict the results, make sure it comes only in the end of the query.\n",
    "\n",
    "    IMPORTANT NOTE:\n",
    "    * Use the ~* operator instead of = when filtering with WHERE on text columns.\n",
    "    * Add word boundaries '\\y' to the beginning and end of each search term in the query.\n",
    "\n",
    "    You are required to use the following format, each taking one line:\n",
    "\n",
    "    Question: Question here\n",
    "    SQLQuery: SQL Query to run\n",
    "    SQLResult: Result of the SQLQuery\n",
    "    Answer: Final answer here\n",
    "\n",
    "    Only use tables listed below.\n",
    "    {schema}\n",
    "\n",
    "    Question: {query_str}\n",
    "    SQLQuery:\n",
    "\n",
    "\"\"\""
   ]
  },
  {
   "cell_type": "markdown",
   "id": "0697edf0-736a-4271-b57c-58f279fc6993",
   "metadata": {},
   "source": [
    "### Below is the default defined in `prompting.py`"
   ]
  },
  {
   "cell_type": "code",
   "execution_count": 4,
   "id": "b00ae072-006d-4ded-82ed-6fdbd688a2ad",
   "metadata": {},
   "outputs": [],
   "source": [
    "response_synthesis_prompt_str = \"\"\"\n",
    "\n",
    "    Query: {query_str}\n",
    "    SQL: {sql_query}\n",
    "    SQL Response: {context_str}\n",
    "\n",
    "    IMPORTANT INSTRUCTIONS:\n",
    "    * If SQL Response is empty or 0, apologise and mention that you could not find\n",
    "     examples to answer the query.\n",
    "    * In such cases, kindly nudge the user towards providing more details or refining\n",
    "    their search.\n",
    "    * Additionally, you can tell them to rephrase specific keywords.\n",
    "    * Do not explicitly state phrases such as 'based on the SQL query executed' or related\n",
    "     references to context in your Response.\n",
    "    * Never mention the underlying sql query, or the underling sql tables and other database elements\n",
    "    * Never mention that sql was used to answer this question\n",
    "\n",
    "    Considering the IMPORTANT INSTRUCTIONS above, create an response using the information\n",
    "    returned from the database and no prior knowledge.\n",
    "\n",
    "\n",
    "    Response:\n",
    "\"\"\""
   ]
  },
  {
   "cell_type": "markdown",
   "id": "1848116a-52f9-413e-a778-89c185c5602d",
   "metadata": {},
   "source": [
    "### Define the DB information\n",
    "**IMPORTANT**: The table names MUST be lowercase in order for the engine to find them."
   ]
  },
  {
   "cell_type": "code",
   "execution_count": 5,
   "id": "f85b2203-b85f-4bf0-992e-0586f2a86db9",
   "metadata": {},
   "outputs": [],
   "source": [
    "source_db = 'crm'\n",
    "table_description_mapping = {\n",
    "    'employees': crm_employees_table_desc,\n",
    "    'portfolio': crm_portfolio_table_desc,\n",
    "    'fund_detail': crm_fund_details_desc,\n",
    "    'client_alignment': crm_client_alignment_table_desc,\n",
    "    'clients_contact': crm_client_info_table_desc\n",
    "}"
   ]
  },
  {
   "cell_type": "code",
   "execution_count": 6,
   "id": "2f0ea45f",
   "metadata": {},
   "outputs": [],
   "source": [
    "sql_workflow = create_sql_workflow(\n",
    "    source_db = source_db,\n",
    "    table_description_mapping=table_description_mapping,\n",
    "    text_to_sql_tmpl=text_to_sql_tmpl,\n",
    "    response_synthesis_prompt_str=response_synthesis_prompt_str\n",
    "    \n",
    ")"
   ]
  },
  {
   "cell_type": "markdown",
   "id": "c02ad75e-a38e-4895-b5e3-b453c214622c",
   "metadata": {},
   "source": [
    "# Test Queries"
   ]
  },
  {
   "cell_type": "code",
   "execution_count": 7,
   "id": "782f531a",
   "metadata": {},
   "outputs": [
    {
     "name": "stdout",
     "output_type": "stream",
     "text": [
      "Running step generate_sql_response\n",
      "Step generate_sql_response produced event StopEvent\n"
     ]
    },
    {
     "data": {
      "text/plain": [
       "Response(response='The following individuals work at Bankwell: Jane Moneypenny, Russell Sherman, Veronica West, Marie Howard, Debra Kelly, Meghan Wiggins, Christopher Flores, Brandon Hernandez, Kevin Rocha, Karen Smith, Jennifer Ayala, Mark Davis, Kenneth Padilla, Mary Martinez, Jay Baker, Thomas Walter, Timothy Dyer, Teresa Carroll, Jacob Jennings, Daniel Wallace, Tonya Kidd, David Jones, Pamela Spencer, Amanda Allen, Adam Rodriguez, Thomas Watkins, Sabrina Gregory, Daniel Sawyer, Kathleen Kelley, Alexandria Collins, James Wolfe, Janice Tucker, Laura Brown, Lisa Mccormick, Michelle Mcbride, Nicholas Garcia, Garrett Swanson, Michael Wilson, Jessica Hanson, Michelle Smith, Jennifer Miller, Julie Jimenez, Alicia Peterson, Rhonda Jenkins, Peter Marshall, Laurie Turner, Benjamin Gilbert, Stephanie Gutierrez, Kelsey Charles, Jesus Yates, Matthew Stephenson, Samantha Barnes, Ann Mcdaniel, Catherine Hunter, Stephanie Garner, Anthony Mitchell, Julie Harmon, Amanda Gonzales, Karen Flores, Melinda Berry, Alison Buckley, Sergio Gonzalez, Theresa Hammond, Kerri Estes, Traci Parker, Alisha Johnson, Monica Lozano, Tracy Willis, Stephanie Contreras, Matthew Walton, Loretta Anderson, Cassandra Barnes, Courtney Allison, Lucas Cohen, Crystal Prince, Susan Johnson, Shannon Mckee, Elizabeth Rivers, Robert Donaldson, Robert Whitehead, Phillip Dudley, Carlos Marquez, Yvonne Martinez, Nicholas Rogers, Kimberly Valdez, Brandon Herrera, Amanda Rodriguez, Charles Wiggins, James Anderson, Claudia Montoya, Joseph Lee, Michelle Trevino, James White, Matthew Flores, Tiffany Horton, Jose Williamson, Barbara Luna, Jonathan Foster, and Peggy Taylor.\\n', source_nodes=[NodeWithScore(node=TextNode(id_='7cada8e0-0163-4fe2-a235-fdb4dbaafc94', embedding=None, metadata={'sql_query': 'SELECT first_name, last_name FROM employees;', 'result': [('Jane', 'Moneypenny'), ('Russell', 'Sherman'), ('Veronica', 'West'), ('Marie', 'Howard'), ('Debra', 'Kelly'), ('Meghan', 'Wiggins'), ('Christopher', 'Flores'), ('Brandon', 'Hernandez'), ('Kevin', 'Rocha'), ('Karen', 'Smith'), ('Jennifer', 'Ayala'), ('Mark', 'Davis'), ('Kenneth', 'Padilla'), ('Mary', 'Martinez'), ('Jay', 'Baker'), ('Thomas', 'Walter'), ('Timothy', 'Dyer'), ('Teresa', 'Carroll'), ('Jacob', 'Jennings'), ('Daniel', 'Wallace'), ('Tonya', 'Kidd'), ('David', 'Jones'), ('Pamela', 'Spencer'), ('Amanda', 'Allen'), ('Adam', 'Rodriguez'), ('Thomas', 'Watkins'), ('Sabrina', 'Gregory'), ('Daniel', 'Sawyer'), ('Kathleen', 'Kelley'), ('Alexandria', 'Collins'), ('James', 'Wolfe'), ('Janice', 'Tucker'), ('Laura', 'Brown'), ('Lisa', 'Mccormick'), ('Michelle', 'Mcbride'), ('Nicholas', 'Garcia'), ('Garrett', 'Swanson'), ('Michael', 'Wilson'), ('Jessica', 'Hanson'), ('Michelle', 'Smith'), ('Jennifer', 'Miller'), ('Julie', 'Jimenez'), ('Alicia', 'Peterson'), ('Rhonda', 'Jenkins'), ('Peter', 'Marshall'), ('Laurie', 'Turner'), ('Benjamin', 'Gilbert'), ('Stephanie', 'Gutierrez'), ('Kelsey', 'Charles'), ('Jesus', 'Yates'), ('Matthew', 'Stephenson'), ('Samantha', 'Barnes'), ('Ann', 'Mcdaniel'), ('Catherine', 'Hunter'), ('Stephanie', 'Garner'), ('Anthony', 'Mitchell'), ('Julie', 'Harmon'), ('Amanda', 'Gonzales'), ('Karen', 'Flores'), ('Melinda', 'Berry'), ('Alison', 'Buckley'), ('Sergio', 'Gonzalez'), ('Theresa', 'Hammond'), ('Kerri', 'Estes'), ('Traci', 'Parker'), ('Alisha', 'Johnson'), ('Monica', 'Lozano'), ('Tracy', 'Willis'), ('Stephanie', 'Contreras'), ('Matthew', 'Walton'), ('Loretta', 'Anderson'), ('Cassandra', 'Barnes'), ('Courtney', 'Allison'), ('Lucas', 'Cohen'), ('Crystal', 'Prince'), ('Susan', 'Johnson'), ('Shannon', 'Mckee'), ('Elizabeth', 'Rivers'), ('Robert', 'Donaldson'), ('Robert', 'Whitehead'), ('Phillip', 'Dudley'), ('Carlos', 'Marquez'), ('Yvonne', 'Martinez'), ('Nicholas', 'Rogers'), ('Kimberly', 'Valdez'), ('Brandon', 'Herrera'), ('Amanda', 'Rodriguez'), ('Charles', 'Wiggins'), ('James', 'Anderson'), ('Claudia', 'Montoya'), ('Joseph', 'Lee'), ('Michelle', 'Trevino'), ('James', 'White'), ('Matthew', 'Flores'), ('Tiffany', 'Horton'), ('Jose', 'Williamson'), ('Barbara', 'Luna'), ('Jonathan', 'Foster'), ('Peggy', 'Taylor'), ('Stacey', 'Hubbard')], 'col_keys': ['first_name', 'last_name']}, excluded_embed_metadata_keys=['sql_query', 'result', 'col_keys'], excluded_llm_metadata_keys=['sql_query', 'result', 'col_keys'], relationships={}, metadata_template='{key}: {value}', metadata_separator='\\n', text=\"[('Jane', 'Moneypenny'), ('Russell', 'Sherman'), ('Veronica', 'West'), ('Marie', 'Howard'), ('Debra', 'Kelly'), ('Meghan', 'Wiggins'), ('Christopher', 'Flores'), ('Brandon', 'Hernandez'), ('Kevin', 'Rocha'), ('Karen', 'Smith'), ('Jennifer', 'Ayala'), ('Mark', 'Davis'), ('Kenneth', 'Padilla'), ('Mary', 'Martinez'), ('Jay', 'Baker'), ('Thomas', 'Walter'), ('Timothy', 'Dyer'), ('Teresa', 'Carroll'), ('Jacob', 'Jennings'), ('Daniel', 'Wallace'), ('Tonya', 'Kidd'), ('David', 'Jones'), ('Pamela', 'Spencer'), ('Amanda', 'Allen'), ('Adam', 'Rodriguez'), ('Thomas', 'Watkins'), ('Sabrina', 'Gregory'), ('Daniel', 'Sawyer'), ('Kathleen', 'Kelley'), ('Alexandria', 'Collins'), ('James', 'Wolfe'), ('Janice', 'Tucker'), ('Laura', 'Brown'), ('Lisa', 'Mccormick'), ('Michelle', 'Mcbride'), ('Nicholas', 'Garcia'), ('Garrett', 'Swanson'), ('Michael', 'Wilson'), ('Jessica', 'Hanson'), ('Michelle', 'Smith'), ('Jennifer', 'Miller'), ('Julie', 'Jimenez'), ('Alicia', 'Peterson'), ('Rhonda', 'Jenkins'), ('Peter', 'Marshall'), ('Laurie', 'Turner'), ('Benjamin', 'Gilbert'), ('Stephanie', 'Gutierrez'), ('Kelsey', 'Charles'), ('Jesus', 'Yates'), ('Matthew', 'Stephenson'), ('Samantha', 'Barnes'), ('Ann', 'Mcdaniel'), ('Catherine', 'Hunter'), ('Stephanie', 'Garner'), ('Anthony', 'Mitchell'), ('Julie', 'Harmon'), ('Amanda', 'Gonzales'), ('Karen', 'Flores'), ('Melinda', 'Berry'), ('Alison', 'Buckley'), ('Sergio', 'Gonzalez'), ('Theresa', 'Hammond'), ('Kerri', 'Estes'), ('Traci', 'Parker'), ('Alisha', 'Johnson'), ('Monica', 'Lozano'), ('Tracy', 'Willis'), ('Stephanie', 'Contreras'), ('Matthew', 'Walton'), ('Loretta', 'Anderson'), ('Cassandra', 'Barnes'), ('Courtney', 'Allison'), ('Lucas', 'Cohen'), ('Crystal', 'Prince'), ('Susan', 'Johnson'), ('Shannon', 'Mckee'), ('Elizabeth', 'Rivers'), ('Robert', 'Donaldson'), ('Robert', 'Whitehead'), ('Phillip', 'Dudley'), ('Carlos', 'Marquez'), ('Yvonne', 'Martinez'), ('Nicholas', 'Rogers'), ('Kimberly', 'Valdez'), ('Brandon', 'Herrera'), ('Amanda', 'Rodriguez'), ('Charles', 'Wiggins'), ('James', 'Anderson'), ('Claudia', 'Montoya'), ('Joseph', 'Lee'), ('Michelle', 'Trevino'), ('James', 'White'), ('Matthew', 'Flores'), ('Tiffany', 'Horton'), ('Jose', 'Williamson'), ('Barbara', 'Luna'), ('Jonathan', 'Foster'), ('Peggy', 'Taylor'), ('Stacey', 'Hubbard')]\", mimetype='text/plain', start_char_idx=None, end_char_idx=None, metadata_seperator='\\n', text_template='{metadata_str}\\n\\n{content}'), score=None)], metadata={'7cada8e0-0163-4fe2-a235-fdb4dbaafc94': {'sql_query': 'SELECT first_name, last_name FROM employees;', 'result': [('Jane', 'Moneypenny'), ('Russell', 'Sherman'), ('Veronica', 'West'), ('Marie', 'Howard'), ('Debra', 'Kelly'), ('Meghan', 'Wiggins'), ('Christopher', 'Flores'), ('Brandon', 'Hernandez'), ('Kevin', 'Rocha'), ('Karen', 'Smith'), ('Jennifer', 'Ayala'), ('Mark', 'Davis'), ('Kenneth', 'Padilla'), ('Mary', 'Martinez'), ('Jay', 'Baker'), ('Thomas', 'Walter'), ('Timothy', 'Dyer'), ('Teresa', 'Carroll'), ('Jacob', 'Jennings'), ('Daniel', 'Wallace'), ('Tonya', 'Kidd'), ('David', 'Jones'), ('Pamela', 'Spencer'), ('Amanda', 'Allen'), ('Adam', 'Rodriguez'), ('Thomas', 'Watkins'), ('Sabrina', 'Gregory'), ('Daniel', 'Sawyer'), ('Kathleen', 'Kelley'), ('Alexandria', 'Collins'), ('James', 'Wolfe'), ('Janice', 'Tucker'), ('Laura', 'Brown'), ('Lisa', 'Mccormick'), ('Michelle', 'Mcbride'), ('Nicholas', 'Garcia'), ('Garrett', 'Swanson'), ('Michael', 'Wilson'), ('Jessica', 'Hanson'), ('Michelle', 'Smith'), ('Jennifer', 'Miller'), ('Julie', 'Jimenez'), ('Alicia', 'Peterson'), ('Rhonda', 'Jenkins'), ('Peter', 'Marshall'), ('Laurie', 'Turner'), ('Benjamin', 'Gilbert'), ('Stephanie', 'Gutierrez'), ('Kelsey', 'Charles'), ('Jesus', 'Yates'), ('Matthew', 'Stephenson'), ('Samantha', 'Barnes'), ('Ann', 'Mcdaniel'), ('Catherine', 'Hunter'), ('Stephanie', 'Garner'), ('Anthony', 'Mitchell'), ('Julie', 'Harmon'), ('Amanda', 'Gonzales'), ('Karen', 'Flores'), ('Melinda', 'Berry'), ('Alison', 'Buckley'), ('Sergio', 'Gonzalez'), ('Theresa', 'Hammond'), ('Kerri', 'Estes'), ('Traci', 'Parker'), ('Alisha', 'Johnson'), ('Monica', 'Lozano'), ('Tracy', 'Willis'), ('Stephanie', 'Contreras'), ('Matthew', 'Walton'), ('Loretta', 'Anderson'), ('Cassandra', 'Barnes'), ('Courtney', 'Allison'), ('Lucas', 'Cohen'), ('Crystal', 'Prince'), ('Susan', 'Johnson'), ('Shannon', 'Mckee'), ('Elizabeth', 'Rivers'), ('Robert', 'Donaldson'), ('Robert', 'Whitehead'), ('Phillip', 'Dudley'), ('Carlos', 'Marquez'), ('Yvonne', 'Martinez'), ('Nicholas', 'Rogers'), ('Kimberly', 'Valdez'), ('Brandon', 'Herrera'), ('Amanda', 'Rodriguez'), ('Charles', 'Wiggins'), ('James', 'Anderson'), ('Claudia', 'Montoya'), ('Joseph', 'Lee'), ('Michelle', 'Trevino'), ('James', 'White'), ('Matthew', 'Flores'), ('Tiffany', 'Horton'), ('Jose', 'Williamson'), ('Barbara', 'Luna'), ('Jonathan', 'Foster'), ('Peggy', 'Taylor'), ('Stacey', 'Hubbard')], 'col_keys': ['first_name', 'last_name']}, 'sql_query': 'SELECT first_name, last_name FROM employees;', 'result': [('Jane', 'Moneypenny'), ('Russell', 'Sherman'), ('Veronica', 'West'), ('Marie', 'Howard'), ('Debra', 'Kelly'), ('Meghan', 'Wiggins'), ('Christopher', 'Flores'), ('Brandon', 'Hernandez'), ('Kevin', 'Rocha'), ('Karen', 'Smith'), ('Jennifer', 'Ayala'), ('Mark', 'Davis'), ('Kenneth', 'Padilla'), ('Mary', 'Martinez'), ('Jay', 'Baker'), ('Thomas', 'Walter'), ('Timothy', 'Dyer'), ('Teresa', 'Carroll'), ('Jacob', 'Jennings'), ('Daniel', 'Wallace'), ('Tonya', 'Kidd'), ('David', 'Jones'), ('Pamela', 'Spencer'), ('Amanda', 'Allen'), ('Adam', 'Rodriguez'), ('Thomas', 'Watkins'), ('Sabrina', 'Gregory'), ('Daniel', 'Sawyer'), ('Kathleen', 'Kelley'), ('Alexandria', 'Collins'), ('James', 'Wolfe'), ('Janice', 'Tucker'), ('Laura', 'Brown'), ('Lisa', 'Mccormick'), ('Michelle', 'Mcbride'), ('Nicholas', 'Garcia'), ('Garrett', 'Swanson'), ('Michael', 'Wilson'), ('Jessica', 'Hanson'), ('Michelle', 'Smith'), ('Jennifer', 'Miller'), ('Julie', 'Jimenez'), ('Alicia', 'Peterson'), ('Rhonda', 'Jenkins'), ('Peter', 'Marshall'), ('Laurie', 'Turner'), ('Benjamin', 'Gilbert'), ('Stephanie', 'Gutierrez'), ('Kelsey', 'Charles'), ('Jesus', 'Yates'), ('Matthew', 'Stephenson'), ('Samantha', 'Barnes'), ('Ann', 'Mcdaniel'), ('Catherine', 'Hunter'), ('Stephanie', 'Garner'), ('Anthony', 'Mitchell'), ('Julie', 'Harmon'), ('Amanda', 'Gonzales'), ('Karen', 'Flores'), ('Melinda', 'Berry'), ('Alison', 'Buckley'), ('Sergio', 'Gonzalez'), ('Theresa', 'Hammond'), ('Kerri', 'Estes'), ('Traci', 'Parker'), ('Alisha', 'Johnson'), ('Monica', 'Lozano'), ('Tracy', 'Willis'), ('Stephanie', 'Contreras'), ('Matthew', 'Walton'), ('Loretta', 'Anderson'), ('Cassandra', 'Barnes'), ('Courtney', 'Allison'), ('Lucas', 'Cohen'), ('Crystal', 'Prince'), ('Susan', 'Johnson'), ('Shannon', 'Mckee'), ('Elizabeth', 'Rivers'), ('Robert', 'Donaldson'), ('Robert', 'Whitehead'), ('Phillip', 'Dudley'), ('Carlos', 'Marquez'), ('Yvonne', 'Martinez'), ('Nicholas', 'Rogers'), ('Kimberly', 'Valdez'), ('Brandon', 'Herrera'), ('Amanda', 'Rodriguez'), ('Charles', 'Wiggins'), ('James', 'Anderson'), ('Claudia', 'Montoya'), ('Joseph', 'Lee'), ('Michelle', 'Trevino'), ('James', 'White'), ('Matthew', 'Flores'), ('Tiffany', 'Horton'), ('Jose', 'Williamson'), ('Barbara', 'Luna'), ('Jonathan', 'Foster'), ('Peggy', 'Taylor'), ('Stacey', 'Hubbard')], 'col_keys': ['first_name', 'last_name'], 'user_query': 'Who works for bankwell?'})"
      ]
     },
     "execution_count": 7,
     "metadata": {},
     "output_type": "execute_result"
    }
   ],
   "source": [
    "query = \"Who works for bankwell?\"\n",
    "result = await sql_workflow.run(query=query)\n",
    "result"
   ]
  },
  {
   "cell_type": "code",
   "execution_count": 8,
   "id": "138a45d6-452c-4cd1-a74b-2d822d911dae",
   "metadata": {},
   "outputs": [
    {
     "name": "stdout",
     "output_type": "stream",
     "text": [
      "Running step generate_sql_response\n",
      "Step generate_sql_response produced event StopEvent\n"
     ]
    },
    {
     "data": {
      "text/plain": [
       "Response(response='There are 29 people working in the Sales department at Bankwell.\\n', source_nodes=[NodeWithScore(node=TextNode(id_='33760e33-a092-47d6-9a16-ddf1bea83dd9', embedding=None, metadata={'sql_query': \"SELECT count(*) FROM employees WHERE department ~* '\\\\ySales\\\\y';\", 'result': [(29,)], 'col_keys': ['count']}, excluded_embed_metadata_keys=['sql_query', 'result', 'col_keys'], excluded_llm_metadata_keys=['sql_query', 'result', 'col_keys'], relationships={}, metadata_template='{key}: {value}', metadata_separator='\\n', text='[(29,)]', mimetype='text/plain', start_char_idx=None, end_char_idx=None, metadata_seperator='\\n', text_template='{metadata_str}\\n\\n{content}'), score=None)], metadata={'33760e33-a092-47d6-9a16-ddf1bea83dd9': {'sql_query': \"SELECT count(*) FROM employees WHERE department ~* '\\\\ySales\\\\y';\", 'result': [(29,)], 'col_keys': ['count']}, 'sql_query': \"SELECT count(*) FROM employees WHERE department ~* '\\\\ySales\\\\y';\", 'result': [(29,)], 'col_keys': ['count'], 'user_query': 'How many people work for bankwell in the Sales department?'})"
      ]
     },
     "execution_count": 8,
     "metadata": {},
     "output_type": "execute_result"
    }
   ],
   "source": [
    "query = \"How many people work for bankwell in the Sales department?\"\n",
    "result = await sql_workflow.run(query=query)\n",
    "result"
   ]
  },
  {
   "cell_type": "code",
   "execution_count": 9,
   "id": "8634153f-12ed-4059-9f87-f091a7873aa8",
   "metadata": {},
   "outputs": [
    {
     "name": "stdout",
     "output_type": "stream",
     "text": [
      "Running step generate_sql_response\n",
      "Step generate_sql_response produced event StopEvent\n"
     ]
    },
    {
     "data": {
      "text/plain": [
       "Response(response='Marriott appears to hold investments in Bond Funds (specifically, BND and TLT) and an Equity Fund (VSMPX).\\n', source_nodes=[NodeWithScore(node=TextNode(id_='e641ce32-6c08-4bcf-8a7e-f13ddfab4af6', embedding=None, metadata={'sql_query': \"SELECT symbol, fund_type FROM portfolio WHERE company ~* '\\\\yMariott\\\\y'\", 'result': [('BND', 'Bond Fund'), ('VSMPX', 'Equity Fund'), ('TLT', 'Bond Fund')], 'col_keys': ['symbol', 'fund_type']}, excluded_embed_metadata_keys=['sql_query', 'result', 'col_keys'], excluded_llm_metadata_keys=['sql_query', 'result', 'col_keys'], relationships={}, metadata_template='{key}: {value}', metadata_separator='\\n', text=\"[('BND', 'Bond Fund'), ('VSMPX', 'Equity Fund'), ('TLT', 'Bond Fund')]\", mimetype='text/plain', start_char_idx=None, end_char_idx=None, metadata_seperator='\\n', text_template='{metadata_str}\\n\\n{content}'), score=None)], metadata={'e641ce32-6c08-4bcf-8a7e-f13ddfab4af6': {'sql_query': \"SELECT symbol, fund_type FROM portfolio WHERE company ~* '\\\\yMariott\\\\y'\", 'result': [('BND', 'Bond Fund'), ('VSMPX', 'Equity Fund'), ('TLT', 'Bond Fund')], 'col_keys': ['symbol', 'fund_type']}, 'sql_query': \"SELECT symbol, fund_type FROM portfolio WHERE company ~* '\\\\yMariott\\\\y'\", 'result': [('BND', 'Bond Fund'), ('VSMPX', 'Equity Fund'), ('TLT', 'Bond Fund')], 'col_keys': ['symbol', 'fund_type'], 'user_query': 'what financial instruments does Mariott own?'})"
      ]
     },
     "execution_count": 9,
     "metadata": {},
     "output_type": "execute_result"
    }
   ],
   "source": [
    "query = \"what financial instruments does Mariott own?\"\n",
    "result = await sql_workflow.run(query=query)\n",
    "result"
   ]
  },
  {
   "cell_type": "code",
   "execution_count": 10,
   "id": "0ca0289b-e687-4d43-9a51-8d1dfea806d1",
   "metadata": {},
   "outputs": [
    {
     "name": "stdout",
     "output_type": "stream",
     "text": [
      "Running step generate_sql_response\n",
      "Step generate_sql_response produced event StopEvent\n"
     ]
    },
    {
     "data": {
      "text/plain": [
       "Response(response='Broadcom appears to own 5 distinct funds, encompassing 2 different fund types.\\n', source_nodes=[NodeWithScore(node=TextNode(id_='83eb07cd-a69a-48e9-b929-f4b9c877a114', embedding=None, metadata={'sql_query': \"SELECT COUNT(DISTINCT symbol), COUNT(DISTINCT fund_type) FROM portfolio WHERE company ~* '\\\\yBroadcom\\\\y';\", 'result': [(5, 2)], 'col_keys': ['count', 'count']}, excluded_embed_metadata_keys=['sql_query', 'result', 'col_keys'], excluded_llm_metadata_keys=['sql_query', 'result', 'col_keys'], relationships={}, metadata_template='{key}: {value}', metadata_separator='\\n', text='[(5, 2)]', mimetype='text/plain', start_char_idx=None, end_char_idx=None, metadata_seperator='\\n', text_template='{metadata_str}\\n\\n{content}'), score=None)], metadata={'83eb07cd-a69a-48e9-b929-f4b9c877a114': {'sql_query': \"SELECT COUNT(DISTINCT symbol), COUNT(DISTINCT fund_type) FROM portfolio WHERE company ~* '\\\\yBroadcom\\\\y';\", 'result': [(5, 2)], 'col_keys': ['count', 'count']}, 'sql_query': \"SELECT COUNT(DISTINCT symbol), COUNT(DISTINCT fund_type) FROM portfolio WHERE company ~* '\\\\yBroadcom\\\\y';\", 'result': [(5, 2)], 'col_keys': ['count', 'count'], 'user_query': 'how many funds does Broadcom own? What types of funds are they?'})"
      ]
     },
     "execution_count": 10,
     "metadata": {},
     "output_type": "execute_result"
    }
   ],
   "source": [
    "query = \"how many funds does Broadcom own? What types of funds are they?\"\n",
    "result = await sql_workflow.run(query=query)\n",
    "result"
   ]
  },
  {
   "cell_type": "code",
   "execution_count": 11,
   "id": "9c805262-945a-467c-b4da-53c1c907cffb",
   "metadata": {},
   "outputs": [
    {
     "name": "stdout",
     "output_type": "stream",
     "text": [
      "Running step generate_sql_response\n",
      "Step generate_sql_response produced event StopEvent\n"
     ]
    },
    {
     "data": {
      "text/plain": [
       "Response(response=\"Broadcom's total balance is $38,560,125.  The fund with the largest amount of Broadcom's money is VSMPX, holding $18,000,155.45.\\n\", source_nodes=[NodeWithScore(node=TextNode(id_='3385c962-8bf3-4443-9ce4-36efb6be0607', embedding=None, metadata={'sql_query': \"SELECT tot_balance, symbol, fund_balance FROM portfolio WHERE company ~* '\\\\yBroadcom\\\\y' ORDER BY fund_balance DESC LIMIT 1;\", 'result': [(38560125, 'VSMPX', 18000155.45)], 'col_keys': ['tot_balance', 'symbol', 'fund_balance']}, excluded_embed_metadata_keys=['sql_query', 'result', 'col_keys'], excluded_llm_metadata_keys=['sql_query', 'result', 'col_keys'], relationships={}, metadata_template='{key}: {value}', metadata_separator='\\n', text=\"[(38560125, 'VSMPX', 18000155.45)]\", mimetype='text/plain', start_char_idx=None, end_char_idx=None, metadata_seperator='\\n', text_template='{metadata_str}\\n\\n{content}'), score=None)], metadata={'3385c962-8bf3-4443-9ce4-36efb6be0607': {'sql_query': \"SELECT tot_balance, symbol, fund_balance FROM portfolio WHERE company ~* '\\\\yBroadcom\\\\y' ORDER BY fund_balance DESC LIMIT 1;\", 'result': [(38560125, 'VSMPX', 18000155.45)], 'col_keys': ['tot_balance', 'symbol', 'fund_balance']}, 'sql_query': \"SELECT tot_balance, symbol, fund_balance FROM portfolio WHERE company ~* '\\\\yBroadcom\\\\y' ORDER BY fund_balance DESC LIMIT 1;\", 'result': [(38560125, 'VSMPX', 18000155.45)], 'col_keys': ['tot_balance', 'symbol', 'fund_balance'], 'user_query': \"What is Broadcom's total balance? What fund does broadcom have the most money in, and how much is there?\"})"
      ]
     },
     "execution_count": 11,
     "metadata": {},
     "output_type": "execute_result"
    }
   ],
   "source": [
    "query = \"What is Broadcom's total balance? What fund does broadcom have the most money in, and how much is there?\"\n",
    "result = await sql_workflow.run(query=query)\n",
    "result"
   ]
  },
  {
   "cell_type": "code",
   "execution_count": 12,
   "id": "63f9576f-a59e-429c-a8dd-c2d62c346333",
   "metadata": {},
   "outputs": [
    {
     "name": "stdout",
     "output_type": "stream",
     "text": [
      "Running step generate_sql_response\n",
      "Step generate_sql_response produced event StopEvent\n"
     ]
    },
    {
     "data": {
      "text/plain": [
       "Response(response=\"Broadcom's investments are distributed as follows:  In Bond Funds, they have $1,445,430.40 and $15,911,558.77.  Their Equity Fund holdings total $2,931,233.29, $18,000,155.45, and $271,747.09.\\n\", source_nodes=[NodeWithScore(node=TextNode(id_='ad153ec8-768e-4c14-a7d5-c17a12bc68c9', embedding=None, metadata={'sql_query': \"SELECT fund_type, fund_balance FROM portfolio WHERE company ~* '\\\\ybroadcom\\\\y'\", 'result': [('Bond Fund', 1445430.4), ('Bond Fund', 15911558.77), ('Equity Fund', 2931233.29), ('Equity Fund', 18000155.45), ('Equity Fund', 271747.09)], 'col_keys': ['fund_type', 'fund_balance']}, excluded_embed_metadata_keys=['sql_query', 'result', 'col_keys'], excluded_llm_metadata_keys=['sql_query', 'result', 'col_keys'], relationships={}, metadata_template='{key}: {value}', metadata_separator='\\n', text=\"[('Bond Fund', 1445430.4), ('Bond Fund', 15911558.77), ('Equity Fund', 2931233.29), ('Equity Fund', 18000155.45), ('Equity Fund', 271747.09)]\", mimetype='text/plain', start_char_idx=None, end_char_idx=None, metadata_seperator='\\n', text_template='{metadata_str}\\n\\n{content}'), score=None)], metadata={'ad153ec8-768e-4c14-a7d5-c17a12bc68c9': {'sql_query': \"SELECT fund_type, fund_balance FROM portfolio WHERE company ~* '\\\\ybroadcom\\\\y'\", 'result': [('Bond Fund', 1445430.4), ('Bond Fund', 15911558.77), ('Equity Fund', 2931233.29), ('Equity Fund', 18000155.45), ('Equity Fund', 271747.09)], 'col_keys': ['fund_type', 'fund_balance']}, 'sql_query': \"SELECT fund_type, fund_balance FROM portfolio WHERE company ~* '\\\\ybroadcom\\\\y'\", 'result': [('Bond Fund', 1445430.4), ('Bond Fund', 15911558.77), ('Equity Fund', 2931233.29), ('Equity Fund', 18000155.45), ('Equity Fund', 271747.09)], 'col_keys': ['fund_type', 'fund_balance'], 'user_query': 'How much money does broadcom have in each fund?'})"
      ]
     },
     "execution_count": 12,
     "metadata": {},
     "output_type": "execute_result"
    }
   ],
   "source": [
    "query = \"How much money does broadcom have in each fund?\"\n",
    "result = await sql_workflow.run(query=query)\n",
    "result"
   ]
  },
  {
   "cell_type": "code",
   "execution_count": 13,
   "id": "969f5566-4324-43e6-bd18-89d363a076c9",
   "metadata": {},
   "outputs": [
    {
     "name": "stdout",
     "output_type": "stream",
     "text": [
      "Running step generate_sql_response\n",
      "Step generate_sql_response produced event StopEvent\n"
     ]
    },
    {
     "data": {
      "text/plain": [
       "Response(response=\"Here's a list of employees who work on the Marriott client account: Debra Kelly, Jacob Jennings, Alexandria Collins, Laura Brown, Michelle Mcbride, Michael Wilson, Julie Jimenez, Peter Marshall, Kelsey Charles, Catherine Hunter, Julie Harmon, Sergio Gonzalez, Tracy Willis, Lucas Cohen, Susan Johnson, Phillip Dudley, Carlos Marquez, Nicholas Rogers, Charles Wiggins, Michelle Trevino, and Jonathan Foster.\\n\", source_nodes=[NodeWithScore(node=TextNode(id_='11b83412-bd40-4ac7-9f29-da5041717980', embedding=None, metadata={'sql_query': \"SELECT employee_first_name, employee_last_name FROM client_alignment WHERE company ~* '\\\\ymariott\\\\y'\", 'result': [('Debra', 'Kelly'), ('Jacob', 'Jennings'), ('Alexandria', 'Collins'), ('Laura', 'Brown'), ('Michelle', 'Mcbride'), ('Michael', 'Wilson'), ('Julie', 'Jimenez'), ('Peter', 'Marshall'), ('Kelsey', 'Charles'), ('Catherine', 'Hunter'), ('Julie', 'Harmon'), ('Sergio', 'Gonzalez'), ('Tracy', 'Willis'), ('Lucas', 'Cohen'), ('Susan', 'Johnson'), ('Phillip', 'Dudley'), ('Carlos', 'Marquez'), ('Nicholas', 'Rogers'), ('Charles', 'Wiggins'), ('Michelle', 'Trevino'), ('Jonathan', 'Foster')], 'col_keys': ['employee_first_name', 'employee_last_name']}, excluded_embed_metadata_keys=['sql_query', 'result', 'col_keys'], excluded_llm_metadata_keys=['sql_query', 'result', 'col_keys'], relationships={}, metadata_template='{key}: {value}', metadata_separator='\\n', text=\"[('Debra', 'Kelly'), ('Jacob', 'Jennings'), ('Alexandria', 'Collins'), ('Laura', 'Brown'), ('Michelle', 'Mcbride'), ('Michael', 'Wilson'), ('Julie', 'Jimenez'), ('Peter', 'Marshall'), ('Kelsey', 'Charles'), ('Catherine', 'Hunter'), ('Julie', 'Harmon'), ('Sergio', 'Gonzalez'), ('Tracy', 'Willis'), ('Lucas', 'Cohen'), ('Susan', 'Johnson'), ('Phillip', 'Dudley'), ('Carlos', 'Marquez'), ('Nicholas', 'Rogers'), ('Charles', 'Wiggins'), ('Michelle', 'Trevino'), ('Jonathan', 'Foster')]\", mimetype='text/plain', start_char_idx=None, end_char_idx=None, metadata_seperator='\\n', text_template='{metadata_str}\\n\\n{content}'), score=None)], metadata={'11b83412-bd40-4ac7-9f29-da5041717980': {'sql_query': \"SELECT employee_first_name, employee_last_name FROM client_alignment WHERE company ~* '\\\\ymariott\\\\y'\", 'result': [('Debra', 'Kelly'), ('Jacob', 'Jennings'), ('Alexandria', 'Collins'), ('Laura', 'Brown'), ('Michelle', 'Mcbride'), ('Michael', 'Wilson'), ('Julie', 'Jimenez'), ('Peter', 'Marshall'), ('Kelsey', 'Charles'), ('Catherine', 'Hunter'), ('Julie', 'Harmon'), ('Sergio', 'Gonzalez'), ('Tracy', 'Willis'), ('Lucas', 'Cohen'), ('Susan', 'Johnson'), ('Phillip', 'Dudley'), ('Carlos', 'Marquez'), ('Nicholas', 'Rogers'), ('Charles', 'Wiggins'), ('Michelle', 'Trevino'), ('Jonathan', 'Foster')], 'col_keys': ['employee_first_name', 'employee_last_name']}, 'sql_query': \"SELECT employee_first_name, employee_last_name FROM client_alignment WHERE company ~* '\\\\ymariott\\\\y'\", 'result': [('Debra', 'Kelly'), ('Jacob', 'Jennings'), ('Alexandria', 'Collins'), ('Laura', 'Brown'), ('Michelle', 'Mcbride'), ('Michael', 'Wilson'), ('Julie', 'Jimenez'), ('Peter', 'Marshall'), ('Kelsey', 'Charles'), ('Catherine', 'Hunter'), ('Julie', 'Harmon'), ('Sergio', 'Gonzalez'), ('Tracy', 'Willis'), ('Lucas', 'Cohen'), ('Susan', 'Johnson'), ('Phillip', 'Dudley'), ('Carlos', 'Marquez'), ('Nicholas', 'Rogers'), ('Charles', 'Wiggins'), ('Michelle', 'Trevino'), ('Jonathan', 'Foster')], 'col_keys': ['employee_first_name', 'employee_last_name'], 'user_query': 'what employees work on the mariott client account?'})"
      ]
     },
     "execution_count": 13,
     "metadata": {},
     "output_type": "execute_result"
    }
   ],
   "source": [
    "query = \"what employees work on the mariott client account?\"\n",
    "result = await sql_workflow.run(query=query)\n",
    "result"
   ]
  },
  {
   "cell_type": "code",
   "execution_count": 14,
   "id": "721a0508-b109-4952-96b2-76249c715023",
   "metadata": {},
   "outputs": [
    {
     "name": "stdout",
     "output_type": "stream",
     "text": [
      "Running step generate_sql_response\n",
      "Step generate_sql_response produced event StopEvent\n"
     ]
    },
    {
     "data": {
      "text/plain": [
       "Response(response='The email address for Marriott is debra.butler@mariott.com.\\n', source_nodes=[NodeWithScore(node=TextNode(id_='43e90c83-4b59-46be-9308-3c677746ee70', embedding=None, metadata={'sql_query': \"SELECT email FROM clients_contact WHERE company ~* '\\\\yMariott\\\\y'\", 'result': [('debra.butler@mariott.com',)], 'col_keys': ['email']}, excluded_embed_metadata_keys=['sql_query', 'result', 'col_keys'], excluded_llm_metadata_keys=['sql_query', 'result', 'col_keys'], relationships={}, metadata_template='{key}: {value}', metadata_separator='\\n', text=\"[('debra.butler@mariott.com',)]\", mimetype='text/plain', start_char_idx=None, end_char_idx=None, metadata_seperator='\\n', text_template='{metadata_str}\\n\\n{content}'), score=None)], metadata={'43e90c83-4b59-46be-9308-3c677746ee70': {'sql_query': \"SELECT email FROM clients_contact WHERE company ~* '\\\\yMariott\\\\y'\", 'result': [('debra.butler@mariott.com',)], 'col_keys': ['email']}, 'sql_query': \"SELECT email FROM clients_contact WHERE company ~* '\\\\yMariott\\\\y'\", 'result': [('debra.butler@mariott.com',)], 'col_keys': ['email'], 'user_query': 'what is the client email for Mariott?'})"
      ]
     },
     "execution_count": 14,
     "metadata": {},
     "output_type": "execute_result"
    }
   ],
   "source": [
    "query = \"what is the client email for Mariott?\"\n",
    "result = await sql_workflow.run(query=query)\n",
    "result"
   ]
  },
  {
   "cell_type": "markdown",
   "id": "f4157527-5147-4bce-9363-03d9703d7240",
   "metadata": {},
   "source": [
    "# Check Answers accuracy"
   ]
  },
  {
   "cell_type": "code",
   "execution_count": 15,
   "id": "c3a3fba7-04a3-4588-8fd5-09e1f32cdb47",
   "metadata": {},
   "outputs": [],
   "source": [
    "from google.cloud import secretmanager\n",
    "import pandas as pd\n",
    "import numpy as np\n",
    "from currensee.utils.db_utils import create_pg_engine\n",
    "from sqlalchemy import text"
   ]
  },
  {
   "cell_type": "code",
   "execution_count": 16,
   "id": "06750bee-f8af-40b5-9444-3b66b304ed17",
   "metadata": {},
   "outputs": [],
   "source": [
    "DB_NAME = 'crm'\n",
    "engine = create_pg_engine(\n",
    "   db_name=DB_NAME\n",
    ")"
   ]
  },
  {
   "cell_type": "code",
   "execution_count": 17,
   "id": "6a38ea97-d795-455f-bd9f-db0a35a82901",
   "metadata": {},
   "outputs": [
    {
     "data": {
      "text/html": [
       "<div>\n",
       "<style scoped>\n",
       "    .dataframe tbody tr th:only-of-type {\n",
       "        vertical-align: middle;\n",
       "    }\n",
       "\n",
       "    .dataframe tbody tr th {\n",
       "        vertical-align: top;\n",
       "    }\n",
       "\n",
       "    .dataframe thead th {\n",
       "        text-align: right;\n",
       "    }\n",
       "</style>\n",
       "<table border=\"1\" class=\"dataframe\">\n",
       "  <thead>\n",
       "    <tr style=\"text-align: right;\">\n",
       "      <th></th>\n",
       "      <th>employee_id</th>\n",
       "      <th>first_name</th>\n",
       "      <th>last_name</th>\n",
       "      <th>title</th>\n",
       "      <th>email</th>\n",
       "      <th>phone</th>\n",
       "      <th>hire_date</th>\n",
       "      <th>department</th>\n",
       "      <th>market</th>\n",
       "    </tr>\n",
       "  </thead>\n",
       "  <tbody>\n",
       "    <tr>\n",
       "      <th>0</th>\n",
       "      <td>971a5efe-d9e7-4594-961f-7d624d035185</td>\n",
       "      <td>Jane</td>\n",
       "      <td>Moneypenny</td>\n",
       "      <td>Relationship Manager</td>\n",
       "      <td>jane.moneypenny1@bankwell.com</td>\n",
       "      <td>582-476-3744x504</td>\n",
       "      <td>2023-07-05</td>\n",
       "      <td>Enterprise Investment</td>\n",
       "      <td>San Fransisco</td>\n",
       "    </tr>\n",
       "    <tr>\n",
       "      <th>1</th>\n",
       "      <td>0ff018e4-9b73-4c37-8410-123d36e98785</td>\n",
       "      <td>Russell</td>\n",
       "      <td>Sherman</td>\n",
       "      <td>Product Specialist</td>\n",
       "      <td>russell.sherman@bankwell.com</td>\n",
       "      <td>(505)883-2389</td>\n",
       "      <td>2021-07-02</td>\n",
       "      <td>Customer Support</td>\n",
       "      <td>Miami</td>\n",
       "    </tr>\n",
       "    <tr>\n",
       "      <th>2</th>\n",
       "      <td>9651dec3-a491-4de9-a5c1-a2eb9a108fc7</td>\n",
       "      <td>Veronica</td>\n",
       "      <td>West</td>\n",
       "      <td>Product Specialist</td>\n",
       "      <td>veronica.west@bankwell.com</td>\n",
       "      <td>001-463-327-6381x802</td>\n",
       "      <td>2023-12-13</td>\n",
       "      <td>Enterprise Investment</td>\n",
       "      <td>Denver</td>\n",
       "    </tr>\n",
       "    <tr>\n",
       "      <th>3</th>\n",
       "      <td>70394e4b-26a9-4df5-9b1b-225bbeb2f815</td>\n",
       "      <td>Marie</td>\n",
       "      <td>Howard</td>\n",
       "      <td>Product Specialist</td>\n",
       "      <td>marie.howard@bankwell.com</td>\n",
       "      <td>286.752.5398x91335</td>\n",
       "      <td>2024-10-21</td>\n",
       "      <td>Sales</td>\n",
       "      <td>Miami</td>\n",
       "    </tr>\n",
       "    <tr>\n",
       "      <th>4</th>\n",
       "      <td>10ad2baa-195e-4fd2-ad4f-bae65c42ded4</td>\n",
       "      <td>Debra</td>\n",
       "      <td>Kelly</td>\n",
       "      <td>Relationship Manager</td>\n",
       "      <td>debra.kelly@bankwell.com</td>\n",
       "      <td>001-559-219-4289x5144</td>\n",
       "      <td>2021-02-23</td>\n",
       "      <td>Sales</td>\n",
       "      <td>New York City</td>\n",
       "    </tr>\n",
       "    <tr>\n",
       "      <th>5</th>\n",
       "      <td>864bfcce-a6ed-4a06-a122-ad7de2f42f00</td>\n",
       "      <td>Meghan</td>\n",
       "      <td>Wiggins</td>\n",
       "      <td>Relationship Manager</td>\n",
       "      <td>meghan.wiggins@bankwell.com</td>\n",
       "      <td>001-417-895-2987</td>\n",
       "      <td>2020-02-25</td>\n",
       "      <td>Enterprise Investment</td>\n",
       "      <td>Denver</td>\n",
       "    </tr>\n",
       "    <tr>\n",
       "      <th>6</th>\n",
       "      <td>10441ece-8259-4c30-84b4-910f6e741c40</td>\n",
       "      <td>Christopher</td>\n",
       "      <td>Flores</td>\n",
       "      <td>Finance Assistant</td>\n",
       "      <td>christopher.flores@bankwell.com</td>\n",
       "      <td>(346)591-2928x64207</td>\n",
       "      <td>2022-07-12</td>\n",
       "      <td>Small Business Investment</td>\n",
       "      <td>Dallas</td>\n",
       "    </tr>\n",
       "    <tr>\n",
       "      <th>7</th>\n",
       "      <td>d9b830be-a029-407c-8a1f-56638f5882e5</td>\n",
       "      <td>Brandon</td>\n",
       "      <td>Hernandez</td>\n",
       "      <td>Finance Assistant</td>\n",
       "      <td>brandon.hernandez@bankwell.com</td>\n",
       "      <td>682-353-5657x1897</td>\n",
       "      <td>2022-06-30</td>\n",
       "      <td>Sales</td>\n",
       "      <td>Denver</td>\n",
       "    </tr>\n",
       "    <tr>\n",
       "      <th>8</th>\n",
       "      <td>ab5b781e-fd6b-4a2d-a321-921fa57f1d45</td>\n",
       "      <td>Kevin</td>\n",
       "      <td>Rocha</td>\n",
       "      <td>Financial Advisor</td>\n",
       "      <td>kevin.rocha@bankwell.com</td>\n",
       "      <td>+1-545-831-6349</td>\n",
       "      <td>2025-01-12</td>\n",
       "      <td>Enterprise Investment</td>\n",
       "      <td>Washington DC</td>\n",
       "    </tr>\n",
       "    <tr>\n",
       "      <th>9</th>\n",
       "      <td>05f48adb-c9b4-4869-b250-02e73264bd43</td>\n",
       "      <td>Karen</td>\n",
       "      <td>Smith</td>\n",
       "      <td>Relationship Manager</td>\n",
       "      <td>karen.smith@bankwell.com</td>\n",
       "      <td>783.799.0885x420</td>\n",
       "      <td>2023-10-04</td>\n",
       "      <td>Small Business Investment</td>\n",
       "      <td>Miami</td>\n",
       "    </tr>\n",
       "  </tbody>\n",
       "</table>\n",
       "</div>"
      ],
      "text/plain": [
       "                            employee_id   first_name   last_name  \\\n",
       "0  971a5efe-d9e7-4594-961f-7d624d035185         Jane  Moneypenny   \n",
       "1  0ff018e4-9b73-4c37-8410-123d36e98785      Russell     Sherman   \n",
       "2  9651dec3-a491-4de9-a5c1-a2eb9a108fc7     Veronica        West   \n",
       "3  70394e4b-26a9-4df5-9b1b-225bbeb2f815        Marie      Howard   \n",
       "4  10ad2baa-195e-4fd2-ad4f-bae65c42ded4        Debra       Kelly   \n",
       "5  864bfcce-a6ed-4a06-a122-ad7de2f42f00       Meghan     Wiggins   \n",
       "6  10441ece-8259-4c30-84b4-910f6e741c40  Christopher      Flores   \n",
       "7  d9b830be-a029-407c-8a1f-56638f5882e5      Brandon   Hernandez   \n",
       "8  ab5b781e-fd6b-4a2d-a321-921fa57f1d45        Kevin       Rocha   \n",
       "9  05f48adb-c9b4-4869-b250-02e73264bd43        Karen       Smith   \n",
       "\n",
       "                  title                            email  \\\n",
       "0  Relationship Manager    jane.moneypenny1@bankwell.com   \n",
       "1    Product Specialist     russell.sherman@bankwell.com   \n",
       "2    Product Specialist       veronica.west@bankwell.com   \n",
       "3    Product Specialist        marie.howard@bankwell.com   \n",
       "4  Relationship Manager         debra.kelly@bankwell.com   \n",
       "5  Relationship Manager      meghan.wiggins@bankwell.com   \n",
       "6     Finance Assistant  christopher.flores@bankwell.com   \n",
       "7     Finance Assistant   brandon.hernandez@bankwell.com   \n",
       "8     Financial Advisor         kevin.rocha@bankwell.com   \n",
       "9  Relationship Manager         karen.smith@bankwell.com   \n",
       "\n",
       "                   phone   hire_date                 department         market  \n",
       "0       582-476-3744x504  2023-07-05      Enterprise Investment  San Fransisco  \n",
       "1          (505)883-2389  2021-07-02           Customer Support          Miami  \n",
       "2   001-463-327-6381x802  2023-12-13      Enterprise Investment         Denver  \n",
       "3     286.752.5398x91335  2024-10-21                      Sales          Miami  \n",
       "4  001-559-219-4289x5144  2021-02-23                      Sales  New York City  \n",
       "5       001-417-895-2987  2020-02-25      Enterprise Investment         Denver  \n",
       "6    (346)591-2928x64207  2022-07-12  Small Business Investment         Dallas  \n",
       "7      682-353-5657x1897  2022-06-30                      Sales         Denver  \n",
       "8        +1-545-831-6349  2025-01-12      Enterprise Investment  Washington DC  \n",
       "9       783.799.0885x420  2023-10-04  Small Business Investment          Miami  "
      ]
     },
     "execution_count": 17,
     "metadata": {},
     "output_type": "execute_result"
    }
   ],
   "source": [
    "pd.read_sql(\"SELECT * FROM Employees limit 10\", con=engine)"
   ]
  },
  {
   "cell_type": "code",
   "execution_count": null,
   "id": "b8070f9f-9dab-4a9c-8474-dc50bf337a73",
   "metadata": {},
   "outputs": [],
   "source": []
  }
 ],
 "metadata": {
  "environment": {
   "kernel": "conda-env-lc_currensee-lc_currensee",
   "name": "workbench-notebooks.m129",
   "type": "gcloud",
   "uri": "us-docker.pkg.dev/deeplearning-platform-release/gcr.io/workbench-notebooks:m129"
  },
  "kernelspec": {
   "display_name": "lc_currensee",
   "language": "python",
   "name": "conda-env-lc_currensee-lc_currensee"
  },
  "language_info": {
   "codemirror_mode": {
    "name": "ipython",
    "version": 3
   },
   "file_extension": ".py",
   "mimetype": "text/x-python",
   "name": "python",
   "nbconvert_exporter": "python",
   "pygments_lexer": "ipython3",
   "version": "3.11.12"
  }
 },
 "nbformat": 4,
 "nbformat_minor": 5
}
