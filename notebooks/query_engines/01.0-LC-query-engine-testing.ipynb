{
 "cells": [
  {
   "cell_type": "markdown",
   "id": "3b526a7d",
   "metadata": {},
   "source": [
    "# CRM Query Engine Test\n",
    "This notebook demonstrates the implementation and usage of the SQL query engine."
   ]
  },
  {
   "cell_type": "code",
   "execution_count": 14,
   "id": "9d2662a2",
   "metadata": {},
   "outputs": [],
   "source": [
    "from currensee.schema.schema import PostgresTables\n",
    "from currensee.query_engines.sql_query_engine.query_engine import create_sql_workflow\n",
    "from currensee.utils.db_utils import create_pg_engine\n",
    "from currensee.query_engines.workflow_descriptions import crm_portfolio_table_desc, crm_client_alignment_table_desc,crm_client_info_table_desc, crm_employees_table_desc,crm_fund_details_desc "
   ]
  },
  {
   "cell_type": "code",
   "execution_count": 15,
   "id": "d42b7691",
   "metadata": {},
   "outputs": [],
   "source": [
    "# required to run asynchronous code\n",
    "\n",
    "import nest_asyncio\n",
    "\n",
    "nest_asyncio.apply()"
   ]
  },
  {
   "cell_type": "markdown",
   "id": "9560132a",
   "metadata": {},
   "source": [
    "## Create the SQL Workflow"
   ]
  },
  {
   "cell_type": "markdown",
   "id": "69f02c7c-2583-4de4-926a-0d5a18f15ce2",
   "metadata": {},
   "source": [
    "The SQL workflow can take the following parameters:\n",
    "\n",
    "1. source_db: the name of the database where the table is stored (e.g. `crm`)\n",
    "2. source_tables: a list of the name(s) of the table(s) that we want the query engine to have access to\n",
    "  * note that multiple tables can be passed - this is if you want the query engine to try to join tables\n",
    "    in the queries that may have relationships to one another\n",
    "  * THIS IS LEVEL 2!! So do not attempt until you get the hang of just using one table at a time!!\n",
    "    \n",
    "3. table_descriptions: a list of the description(s) of the table(s) passed above\n",
    "4. text_to_sql_tmpl: a string containing the prompt telling the LLM how to produce the SQL query from the text given\n",
    "   * defaults to the variable `text_to_sql_tmpl` defined in `currensee.query_engines.prompting.py`\n",
    "   * you may override this by passing in your own string\n",
    "5. response_synthesis_prompt_str: a string containing the prompt telling the LLM how to synthesize the final response from the SQL table(s)\n",
    "   * defaults to the variable `response_synthesis_prompt_str` defined in `currensee.query_engines.prompting.py`\n",
    "   * you may override this by passing in your own string\n",
    "6. model: the name of the model to use for all of the tasks\n",
    "   * defaults to `gemini-1.5-flash`\n",
    "   * you may override this with any of the models defined at https://ai.google.dev/gemini-api/docs/models#model-variations using the string with dashes defined in the \"Model variant\" column.\n",
    "   * **BE VERY CAREFUL TO PAY ATTENTION TO THE PRICING!!!!!** I recommend that you use the default model until you understand the other models better!!!\n",
    "7. temperature: the temperature parameter to pass to the model\n",
    "   * default is 0.0\n",
    "   * the higher the temperature, the more creative it is. Recommend keeping low for the SQL query generation."
   ]
  },
  {
   "cell_type": "markdown",
   "id": "45c5b6b3-fbc9-4163-b724-4d682f7e628b",
   "metadata": {},
   "source": [
    "### Below is the default defined in `prompting.py`"
   ]
  },
  {
   "cell_type": "code",
   "execution_count": 16,
   "id": "4f635abe-41d5-47b8-b073-2467ab2bed69",
   "metadata": {},
   "outputs": [],
   "source": [
    "text_to_sql_tmpl = \"\"\"\n",
    "    Given an input question, first create a syntactically correct {dialect} query to run, then look at the results of the query and return the answer.\n",
    "    You can order the results by the find_date column (from earliest to latest) to return the most interesting examples in the database.\n",
    "\n",
    "    GUIDELINES:\n",
    "    * Never query for all the columns from a specific table, only ask for a few relevant columns given the question.\n",
    "    * Pay attention to use only the column names that you can see in the schema description.\n",
    "    * Be careful to not query for columns that do not exist.\n",
    "    * Pay attention to which column is in which table.\n",
    "    * Make sure to filter on all criteria mentioned in the query.\n",
    "    * If using a LIMIT to restrict the results, make sure it comes only in the end of the query.\n",
    "\n",
    "    IMPORTANT NOTE:\n",
    "    * Use the ~* operator instead of = when filtering with WHERE on text columns.\n",
    "    * Add word boundaries '\\y' to the beginning and end of each search term in the query.\n",
    "\n",
    "    You are required to use the following format, each taking one line:\n",
    "\n",
    "    Question: Question here\n",
    "    SQLQuery: SQL Query to run\n",
    "    SQLResult: Result of the SQLQuery\n",
    "    Answer: Final answer here\n",
    "\n",
    "    Only use tables listed below.\n",
    "    {schema}\n",
    "\n",
    "    Question: {query_str}\n",
    "    SQLQuery:\n",
    "\n",
    "\"\"\""
   ]
  },
  {
   "cell_type": "markdown",
   "id": "0697edf0-736a-4271-b57c-58f279fc6993",
   "metadata": {},
   "source": [
    "### Below is the default defined in `prompting.py`"
   ]
  },
  {
   "cell_type": "code",
   "execution_count": 17,
   "id": "b00ae072-006d-4ded-82ed-6fdbd688a2ad",
   "metadata": {},
   "outputs": [],
   "source": [
    "response_synthesis_prompt_str = \"\"\"\n",
    "\n",
    "    Query: {query_str}\n",
    "    SQL: {sql_query}\n",
    "    SQL Response: {context_str}\n",
    "\n",
    "    IMPORTANT INSTRUCTIONS:\n",
    "    * If SQL Response is empty or 0, apologise and mention that you could not find\n",
    "     examples to answer the query.\n",
    "    * In such cases, kindly nudge the user towards providing more details or refining\n",
    "    their search.\n",
    "    * Additionally, you can tell them to rephrase specific keywords.\n",
    "    * Do not explicitly state phrases such as 'based on the SQL query executed' or related\n",
    "     references to context in your Response.\n",
    "    * Never mention the underlying sql query, or the underling sql tables and other database elements\n",
    "    * Never mention that sql was used to answer this question\n",
    "\n",
    "    Considering the IMPORTANT INSTRUCTIONS above, create an response using the information\n",
    "    returned from the database and no prior knowledge.\n",
    "\n",
    "\n",
    "    Response:\n",
    "\"\"\""
   ]
  },
  {
   "cell_type": "markdown",
   "id": "1848116a-52f9-413e-a778-89c185c5602d",
   "metadata": {},
   "source": [
    "### Define the DB information\n",
    "**IMPORTANT**: The table names MUST be lowercase in order for the engine to find them."
   ]
  },
  {
   "cell_type": "code",
   "execution_count": 29,
   "id": "f85b2203-b85f-4bf0-992e-0586f2a86db9",
   "metadata": {},
   "outputs": [],
   "source": [
    "source_db = 'crm'\n",
    "table_description_mapping = {\n",
    "    'employees': crm_employees_table_desc,\n",
    "    'portfolio': crm_portfolio_table_desc,\n",
    "    'fund_detail': crm_fund_details_desc,\n",
    "    'client_alignment': crm_client_alignment_table_desc,\n",
    "   # 'clients_contact': crm_client_info_table_desc\n",
    "}"
   ]
  },
  {
   "cell_type": "code",
   "execution_count": 30,
   "id": "2f0ea45f",
   "metadata": {},
   "outputs": [],
   "source": [
    "sql_workflow = create_sql_workflow(\n",
    "    source_db = source_db,\n",
    "    table_description_mapping=table_description_mapping,\n",
    "    text_to_sql_tmpl=text_to_sql_tmpl,\n",
    "    response_synthesis_prompt_str=response_synthesis_prompt_str\n",
    "    \n",
    ")"
   ]
  },
  {
   "cell_type": "markdown",
   "id": "51a2b1c6",
   "metadata": {},
   "source": [
    "## Define the Query"
   ]
  },
  {
   "cell_type": "code",
   "execution_count": 31,
   "id": "782f531a",
   "metadata": {},
   "outputs": [],
   "source": [
    "query = \"Who works for bankwell?\""
   ]
  },
  {
   "cell_type": "markdown",
   "id": "d737e991",
   "metadata": {},
   "source": [
    "## Retrieve and Output the Query"
   ]
  },
  {
   "cell_type": "code",
   "execution_count": 32,
   "id": "996031b4",
   "metadata": {},
   "outputs": [
    {
     "name": "stdout",
     "output_type": "stream",
     "text": [
      "Running step generate_sql_response\n",
      "Step generate_sql_response produced event StopEvent\n"
     ]
    }
   ],
   "source": [
    "result = await sql_workflow.run(query=query)"
   ]
  },
  {
   "cell_type": "code",
   "execution_count": 33,
   "id": "d2e79469",
   "metadata": {
    "tags": []
   },
   "outputs": [
    {
     "data": {
      "text/plain": [
       "Response(response=\"Here's a list of employees who work at Bankwell:\\n\\nJane Moneypenny, Russell Sherman, Veronica West, Marie Howard, Debra Kelly, Meghan Wiggins, Christopher Flores, Brandon Hernandez, Kevin Rocha, Karen Smith, Jennifer Ayala, Mark Davis, Kenneth Padilla, Mary Martinez, Jay Baker, Thomas Walter, Timothy Dyer, Teresa Carroll, Jacob Jennings, Daniel Wallace, Tonya Kidd, David Jones, Pamela Spencer, Amanda Allen, Adam Rodriguez, Thomas Watkins, Sabrina Gregory, Daniel Sawyer, Kathleen Kelley, Alexandria Collins, James Wolfe, Janice Tucker, Laura Brown, Lisa Mccormick, Michelle Mcbride, Nicholas Garcia, Garrett Swanson, Michael Wilson, Jessica Hanson, Michelle Smith, Jennifer Miller, Julie Jimenez, Alicia Peterson, Rhonda Jenkins, Peter Marshall, Laurie Turner, Benjamin Gilbert, Stephanie Gutierrez, Kelsey Charles, Jesus Yates, Matthew Stephenson, Samantha Barnes, Ann Mcdaniel, Catherine Hunter, Stephanie Garner, Anthony Mitchell, Julie Harmon, Amanda Gonzales, Karen Flores, Melinda Berry, Alison Buckley, Sergio Gonzalez, Theresa Hammond, Kerri Estes, Traci Parker, Alisha Johnson, Monica Lozano, Tracy Willis, Stephanie Contreras, Matthew Walton, Loretta Anderson, Cassandra Barnes, Courtney Allison, Lucas Cohen, Crystal Prince, Susan Johnson, Shannon Mckee, Elizabeth Rivers, Robert Donaldson, Robert Whitehead, Phillip Dudley, Carlos Marquez, Yvonne Martinez, Nicholas Rogers, Kimberly Valdez, Brandon Herrera, Amanda Rodriguez, Charles Wiggins, James Anderson, Claudia Montoya, Joseph Lee, Michelle Trevino, James White, Matthew Flores, Tiffany Horton, Jose Williamson, Barbara Luna, Jonathan Foster, Peggy Taylor, and Stacey Hubbard.\\n\", source_nodes=[NodeWithScore(node=TextNode(id_='4c9a40e2-dc8f-4d36-84d0-cf3068706127', embedding=None, metadata={'sql_query': 'SELECT employee_id, first_name, last_name FROM employees', 'result': [('971a5efe-d9e7-4594-961f-7d624d035185', 'Jane', 'Moneypenny'), ('0ff018e4-9b73-4c37-8410-123d36e98785', 'Russell', 'Sherman'), ('9651dec3-a491-4de9-a5c1-a2eb9a108fc7', 'Veronica', 'West'), ('70394e4b-26a9-4df5-9b1b-225bbeb2f815', 'Marie', 'Howard'), ('10ad2baa-195e-4fd2-ad4f-bae65c42ded4', 'Debra', 'Kelly'), ('864bfcce-a6ed-4a06-a122-ad7de2f42f00', 'Meghan', 'Wiggins'), ('10441ece-8259-4c30-84b4-910f6e741c40', 'Christopher', 'Flores'), ('d9b830be-a029-407c-8a1f-56638f5882e5', 'Brandon', 'Hernandez'), ('ab5b781e-fd6b-4a2d-a321-921fa57f1d45', 'Kevin', 'Rocha'), ('05f48adb-c9b4-4869-b250-02e73264bd43', 'Karen', 'Smith'), ('460aa62e-498f-4841-b5d4-fd171f743a48', 'Jennifer', 'Ayala'), ('28f17f4a-6d96-43cf-829d-c84179e1bb3e', 'Mark', 'Davis'), ('a9df5edb-7c1e-4620-966e-11fd8b7d7f8f', 'Kenneth', 'Padilla'), ('90f99f32-b6a7-4a8b-ad48-4179e55a1c76', 'Mary', 'Martinez'), ('af00b37e-8eb1-4b57-a2ad-7d2fbcb1d145', 'Jay', 'Baker'), ('09056764-ea26-4f29-a112-383737f74272', 'Thomas', 'Walter'), ('9426445b-9924-4302-8c26-eff1e9fb3922', 'Timothy', 'Dyer'), ('adc97cc6-1dfb-47fa-a13e-4167c85e0958', 'Teresa', 'Carroll'), ('36862aa2-2195-40c0-b6be-1aaf73cd965c', 'Jacob', 'Jennings'), ('f5f5a8c8-ffb6-4f9c-b305-0a7f0dbd66fc', 'Daniel', 'Wallace'), ('a101746d-51dc-46b8-8c90-72dbbb9fc76e', 'Tonya', 'Kidd'), ('808d7bcb-012d-4e7f-bf95-0d10695b6d60', 'David', 'Jones'), ('33e577bd-8eb1-4b0b-81d0-f24ee1b1eade', 'Pamela', 'Spencer'), ('7701454e-9f2c-4f45-8700-e39b62dfc30d', 'Amanda', 'Allen'), ('d8d5b5e6-109d-43bf-a96a-2366f9387aeb', 'Adam', 'Rodriguez'), ('17efb25c-d439-4920-8028-27838050874e', 'Thomas', 'Watkins'), ('9877adc7-a317-41dd-9a12-6691aefefd2b', 'Sabrina', 'Gregory'), ('3eb421b1-5bab-47cf-a5b0-e1ddecd49c3b', 'Daniel', 'Sawyer'), ('ef82cee7-f105-4e95-9207-9998c3d64232', 'Kathleen', 'Kelley'), ('0aa850e0-8b5d-4d1d-ad14-efa5422468f8', 'Alexandria', 'Collins'), ('3b77536c-9310-41ee-a1af-04f123948d34', 'James', 'Wolfe'), ('a27abe2c-6b7d-47f9-91ce-f3ae22afd92a', 'Janice', 'Tucker'), ('0e6f428e-957d-413d-bb76-daa57ec3f26b', 'Laura', 'Brown'), ('8f848888-bdd7-4758-8cc3-7c4dddda44e2', 'Lisa', 'Mccormick'), ('e6484a7c-ae99-42da-bf0c-53fa94612eed', 'Michelle', 'Mcbride'), ('29a5b67a-93a0-4317-a8bd-c11154dc4844', 'Nicholas', 'Garcia'), ('dc1788b6-68ec-4bd9-982f-a139bd8617cb', 'Garrett', 'Swanson'), ('86b75c6f-d56a-4ae1-a382-4e08a0549c8d', 'Michael', 'Wilson'), ('49335762-6386-4da7-820f-1db0e4ea51e9', 'Jessica', 'Hanson'), ('cebc21d8-3612-4f4a-aa3f-6c9783bb28ae', 'Michelle', 'Smith'), ('14f9f9db-77be-47fd-9a15-a452a332d47e', 'Jennifer', 'Miller'), ('5a209123-f024-4cee-b3da-f263f446150e', 'Julie', 'Jimenez'), ('515ca5ff-6bc0-4db5-8f97-52b0365b10fe', 'Alicia', 'Peterson'), ('895d4598-6b00-4182-8fe4-a786b2c4bb93', 'Rhonda', 'Jenkins'), ('258bc944-49a4-4b7c-9ff3-6a1a17c5382e', 'Peter', 'Marshall'), ('d22c41d6-dd23-436e-be19-c2a4d48cc1c1', 'Laurie', 'Turner'), ('f1e41c9f-03a6-4de1-bda3-4f82db2a186c', 'Benjamin', 'Gilbert'), ('68c155cf-f786-4ef3-a202-2118f5cf2177', 'Stephanie', 'Gutierrez'), ('afac9a10-7199-40ae-bf35-59e90556b5e9', 'Kelsey', 'Charles'), ('47ed5162-fc37-4686-9921-2a38582dd3e2', 'Jesus', 'Yates'), ('fecfe5c9-11de-4f27-a660-70f9990ad234', 'Matthew', 'Stephenson'), ('f7b6f0d8-e7c7-4cda-924b-18e0832abb59', 'Samantha', 'Barnes'), ('ae6bcd1a-d41c-4bde-b2bc-cc152e3e0c84', 'Ann', 'Mcdaniel'), ('53dddb62-260e-40ed-861e-554ae28ea771', 'Catherine', 'Hunter'), ('95115166-be96-4392-aea1-63dbc138d32c', 'Stephanie', 'Garner'), ('a601a6e3-d300-47d8-8456-61f35353068d', 'Anthony', 'Mitchell'), ('1a7acec3-b190-4c1a-96e1-ee7248a9f3be', 'Julie', 'Harmon'), ('6bcc9a6f-8fb7-4d00-acdd-987b5a9f2d00', 'Amanda', 'Gonzales'), ('b083b042-2b0a-4629-8a70-3d00bc5dfed0', 'Karen', 'Flores'), ('3adfadc1-808f-4d70-be50-64c0e96df848', 'Melinda', 'Berry'), ('d6925e9f-0db3-43f2-9702-01d66bacb848', 'Alison', 'Buckley'), ('90efa78e-a477-4ba4-834d-d343dde94053', 'Sergio', 'Gonzalez'), ('7ed10e5c-2b00-4f8c-bfaa-64625e49207b', 'Theresa', 'Hammond'), ('231bd63e-2070-485b-a490-edef816ccf00', 'Kerri', 'Estes'), ('cb0149cf-2445-4c01-83c8-da7bafac9781', 'Traci', 'Parker'), ('0aed9e3a-d9f9-4a33-b0fa-fe327739728a', 'Alisha', 'Johnson'), ('ab54b4c2-fbe8-4566-8a41-9a34e2da2765', 'Monica', 'Lozano'), ('c30ecbeb-bcd4-43ba-89f3-1b4abb56183b', 'Tracy', 'Willis'), ('03330e47-da7b-41db-aeba-ed74bdc6e3a9', 'Stephanie', 'Contreras'), ('91cf9cb3-e084-492c-ac05-25e4432b2a98', 'Matthew', 'Walton'), ('15844962-347a-4ae6-873a-3ffa7a338afd', 'Loretta', 'Anderson'), ('4950b6d5-1fcf-47ed-b786-a69b98bf1a72', 'Cassandra', 'Barnes'), ('213e488a-6e76-4d52-bb88-b31fcffd60eb', 'Courtney', 'Allison'), ('39c21276-b5f9-4da4-8975-5b382d7e7b43', 'Lucas', 'Cohen'), ('6aec24d1-a7b2-4a6d-96d2-692a7f5cacef', 'Crystal', 'Prince'), ('b9b436c5-8c3b-4f75-bd1a-3912daed2a68', 'Susan', 'Johnson'), ('0088df37-a09f-4654-a962-caed8c34ad5b', 'Shannon', 'Mckee'), ('42d45947-f1c9-4162-a598-81ddfa4284ef', 'Elizabeth', 'Rivers'), ('b7a66966-365f-47cf-bc8b-45af4498806f', 'Robert', 'Donaldson'), ('162123e2-6857-4add-b352-64b315d64667', 'Robert', 'Whitehead'), ('815eb8ec-339b-4e65-852f-1d53edd1af1a', 'Phillip', 'Dudley'), ('9f42ed95-bd6f-4bce-85c0-18b9f29dcd23', 'Carlos', 'Marquez'), ('3e52f5f4-9199-4b39-b396-2eb58d20801a', 'Yvonne', 'Martinez'), ('7ace1de5-a104-4ba7-91cf-af8b75bb0eb6', 'Nicholas', 'Rogers'), ('5a20340e-d891-4325-bff7-851504bc3eba', 'Kimberly', 'Valdez'), ('c75dcb43-010e-4ab1-ba6c-8dbd3abd1da6', 'Brandon', 'Herrera'), ('f6435a70-22e0-4ab1-9160-9c155f93bbc2', 'Amanda', 'Rodriguez'), ('81c8c055-305e-452f-b7d4-e87f05657bf4', 'Charles', 'Wiggins'), ('3ce51eec-56be-4d39-83d0-032d407332e3', 'James', 'Anderson'), ('983246fc-a128-49ff-883d-41298b272cdf', 'Claudia', 'Montoya'), ('58c6004d-4f8a-4a0a-ad4a-5b4b87765e9c', 'Joseph', 'Lee'), ('ae9acded-6de0-4f12-8066-290c13fa7d11', 'Michelle', 'Trevino'), ('ed8c2152-5caf-4fe0-94af-7472b1ac5207', 'James', 'White'), ('d86ea3ee-d5cd-4f2c-b3ff-abe9bfc61420', 'Matthew', 'Flores'), ('453bda41-8e79-4219-b89d-2fa872d1b42b', 'Tiffany', 'Horton'), ('bd195c64-28f1-47cc-bbec-e96363efa32e', 'Jose', 'Williamson'), ('968e260e-4b00-4774-a4ef-270cbd07e8ec', 'Barbara', 'Luna'), ('7f818a86-217b-481c-a1ba-5d2c220ce913', 'Jonathan', 'Foster'), ('62838770-763f-483c-8c5e-34db804a8408', 'Peggy', 'Taylor'), ('31cff850-e695-4137-8010-81e1633ea9d3', 'Stacey', 'Hubbard')], 'col_keys': ['employee_id', 'first_name', 'last_name']}, excluded_embed_metadata_keys=['sql_query', 'result', 'col_keys'], excluded_llm_metadata_keys=['sql_query', 'result', 'col_keys'], relationships={}, metadata_template='{key}: {value}', metadata_separator='\\n', text=\"[('971a5efe-d9e7-4594-961f-7d624d035185', 'Jane', 'Moneypenny'), ('0ff018e4-9b73-4c37-8410-123d36e98785', 'Russell', 'Sherman'), ('9651dec3-a491-4de9-a5c1-a2eb9a108fc7', 'Veronica', 'West'), ('70394e4b-26a9-4df5-9b1b-225bbeb2f815', 'Marie', 'Howard'), ('10ad2baa-195e-4fd2-ad4f-bae65c42ded4', 'Debra', 'Kelly'), ('864bfcce-a6ed-4a06-a122-ad7de2f42f00', 'Meghan', 'Wiggins'), ('10441ece-8259-4c30-84b4-910f6e741c40', 'Christopher', 'Flores'), ('d9b830be-a029-407c-8a1f-56638f5882e5', 'Brandon', 'Hernandez'), ('ab5b781e-fd6b-4a2d-a321-921fa57f1d45', 'Kevin', 'Rocha'), ('05f48adb-c9b4-4869-b250-02e73264bd43', 'Karen', 'Smith'), ('460aa62e-498f-4841-b5d4-fd171f743a48', 'Jennifer', 'Ayala'), ('28f17f4a-6d96-43cf-829d-c84179e1bb3e', 'Mark', 'Davis'), ('a9df5edb-7c1e-4620-966e-11fd8b7d7f8f', 'Kenneth', 'Padilla'), ('90f99f32-b6a7-4a8b-ad48-4179e55a1c76', 'Mary', 'Martinez'), ('af00b37e-8eb1-4b57-a2ad-7d2fbcb1d145', 'Jay', 'Baker'), ('09056764-ea26-4f29-a112-383737f74272', 'Thomas', 'Walter'), ('9426445b-9924-4302-8c26-eff1e9fb3922', 'Timothy', 'Dyer'), ('adc97cc6-1dfb-47fa-a13e-4167c85e0958', 'Teresa', 'Carroll'), ('36862aa2-2195-40c0-b6be-1aaf73cd965c', 'Jacob', 'Jennings'), ('f5f5a8c8-ffb6-4f9c-b305-0a7f0dbd66fc', 'Daniel', 'Wallace'), ('a101746d-51dc-46b8-8c90-72dbbb9fc76e', 'Tonya', 'Kidd'), ('808d7bcb-012d-4e7f-bf95-0d10695b6d60', 'David', 'Jones'), ('33e577bd-8eb1-4b0b-81d0-f24ee1b1eade', 'Pamela', 'Spencer'), ('7701454e-9f2c-4f45-8700-e39b62dfc30d', 'Amanda', 'Allen'), ('d8d5b5e6-109d-43bf-a96a-2366f9387aeb', 'Adam', 'Rodriguez'), ('17efb25c-d439-4920-8028-27838050874e', 'Thomas', 'Watkins'), ('9877adc7-a317-41dd-9a12-6691aefefd2b', 'Sabrina', 'Gregory'), ('3eb421b1-5bab-47cf-a5b0-e1ddecd49c3b', 'Daniel', 'Sawyer'), ('ef82cee7-f105-4e95-9207-9998c3d64232', 'Kathleen', 'Kelley'), ('0aa850e0-8b5d-4d1d-ad14-efa5422468f8', 'Alexandria', 'Collins'), ('3b77536c-9310-41ee-a1af-04f123948d34', 'James', 'Wolfe'), ('a27abe2c-6b7d-47f9-91ce-f3ae22afd92a', 'Janice', 'Tucker'), ('0e6f428e-957d-413d-bb76-daa57ec3f26b', 'Laura', 'Brown'), ('8f848888-bdd7-4758-8cc3-7c4dddda44e2', 'Lisa', 'Mccormick'), ('e6484a7c-ae99-42da-bf0c-53fa94612eed', 'Michelle', 'Mcbride'), ('29a5b67a-93a0-4317-a8bd-c11154dc4844', 'Nicholas', 'Garcia'), ('dc1788b6-68ec-4bd9-982f-a139bd8617cb', 'Garrett', 'Swanson'), ('86b75c6f-d56a-4ae1-a382-4e08a0549c8d', 'Michael', 'Wilson'), ('49335762-6386-4da7-820f-1db0e4ea51e9', 'Jessica', 'Hanson'), ('cebc21d8-3612-4f4a-aa3f-6c9783bb28ae', 'Michelle', 'Smith'), ('14f9f9db-77be-47fd-9a15-a452a332d47e', 'Jennifer', 'Miller'), ('5a209123-f024-4cee-b3da-f263f446150e', 'Julie', 'Jimenez'), ('515ca5ff-6bc0-4db5-8f97-52b0365b10fe', 'Alicia', 'Peterson'), ('895d4598-6b00-4182-8fe4-a786b2c4bb93', 'Rhonda', 'Jenkins'), ('258bc944-49a4-4b7c-9ff3-6a1a17c5382e', 'Peter', 'Marshall'), ('d22c41d6-dd23-436e-be19-c2a4d48cc1c1', 'Laurie', 'Turner'), ('f1e41c9f-03a6-4de1-bda3-4f82db2a186c', 'Benjamin', 'Gilbert'), ('68c155cf-f786-4ef3-a202-2118f5cf2177', 'Stephanie', 'Gutierrez'), ('afac9a10-7199-40ae-bf35-59e90556b5e9', 'Kelsey', 'Charles'), ('47ed5162-fc37-4686-9921-2a38582dd3e2', 'Jesus', 'Yates'), ('fecfe5c9-11de-4f27-a660-70f9990ad234', 'Matthew', 'Stephenson'), ('f7b6f0d8-e7c7-4cda-924b-18e0832abb59', 'Samantha', 'Barnes'), ('ae6bcd1a-d41c-4bde-b2bc-cc152e3e0c84', 'Ann', 'Mcdaniel'), ('53dddb62-260e-40ed-861e-554ae28ea771', 'Catherine', 'Hunter'), ('95115166-be96-4392-aea1-63dbc138d32c', 'Stephanie', 'Garner'), ('a601a6e3-d300-47d8-8456-61f35353068d', 'Anthony', 'Mitchell'), ('1a7acec3-b190-4c1a-96e1-ee7248a9f3be', 'Julie', 'Harmon'), ('6bcc9a6f-8fb7-4d00-acdd-987b5a9f2d00', 'Amanda', 'Gonzales'), ('b083b042-2b0a-4629-8a70-3d00bc5dfed0', 'Karen', 'Flores'), ('3adfadc1-808f-4d70-be50-64c0e96df848', 'Melinda', 'Berry'), ('d6925e9f-0db3-43f2-9702-01d66bacb848', 'Alison', 'Buckley'), ('90efa78e-a477-4ba4-834d-d343dde94053', 'Sergio', 'Gonzalez'), ('7ed10e5c-2b00-4f8c-bfaa-64625e49207b', 'Theresa', 'Hammond'), ('231bd63e-2070-485b-a490-edef816ccf00', 'Kerri', 'Estes'), ('cb0149cf-2445-4c01-83c8-da7bafac9781', 'Traci', 'Parker'), ('0aed9e3a-d9f9-4a33-b0fa-fe327739728a', 'Alisha', 'Johnson'), ('ab54b4c2-fbe8-4566-8a41-9a34e2da2765', 'Monica', 'Lozano'), ('c30ecbeb-bcd4-43ba-89f3-1b4abb56183b', 'Tracy', 'Willis'), ('03330e47-da7b-41db-aeba-ed74bdc6e3a9', 'Stephanie', 'Contreras'), ('91cf9cb3-e084-492c-ac05-25e4432b2a98', 'Matthew', 'Walton'), ('15844962-347a-4ae6-873a-3ffa7a338afd', 'Loretta', 'Anderson'), ('4950b6d5-1fcf-47ed-b786-a69b98bf1a72', 'Cassandra', 'Barnes'), ('213e488a-6e76-4d52-bb88-b31fcffd60eb', 'Courtney', 'Allison'), ('39c21276-b5f9-4da4-8975-5b382d7e7b43', 'Lucas', 'Cohen'), ('6aec24d1-a7b2-4a6d-96d2-692a7f5cacef', 'Crystal', 'Prince'), ('b9b436c5-8c3b-4f75-bd1a-3912daed2a68', 'Susan', 'Johnson'), ('0088df37-a09f-4654-a962-caed8c34ad5b', 'Shannon', 'Mckee'), ('42d45947-f1c9-4162-a598-81ddfa4284ef', 'Elizabeth', 'Rivers'), ('b7a66966-365f-47cf-bc8b-45af4498806f', 'Robert', 'Donaldson'), ('162123e2-6857-4add-b352-64b315d64667', 'Robert', 'Whitehead'), ('815eb8ec-339b-4e65-852f-1d53edd1af1a', 'Phillip', 'Dudley'), ('9f42ed95-bd6f-4bce-85c0-18b9f29dcd23', 'Carlos', 'Marquez'), ('3e52f5f4-9199-4b39-b396-2eb58d20801a', 'Yvonne', 'Martinez'), ('7ace1de5-a104-4ba7-91cf-af8b75bb0eb6', 'Nicholas', 'Rogers'), ('5a20340e-d891-4325-bff7-851504bc3eba', 'Kimberly', 'Valdez'), ('c75dcb43-010e-4ab1-ba6c-8dbd3abd1da6', 'Brandon', 'Herrera'), ('f6435a70-22e0-4ab1-9160-9c155f93bbc2', 'Amanda', 'Rodriguez'), ('81c8c055-305e-452f-b7d4-e87f05657bf4', 'Charles', 'Wiggins'), ('3ce51eec-56be-4d39-83d0-032d407332e3', 'James', 'Anderson'), ('983246fc-a128-49ff-883d-41298b272cdf', 'Claudia', 'Montoya'), ('58c6004d-4f8a-4a0a-ad4a-5b4b87765e9c', 'Joseph', 'Lee'), ('ae9acded-6de0-4f12-8066-290c13fa7d11', 'Michelle', 'Trevino'), ('ed8c2152-5caf-4fe0-94af-7472b1ac5207', 'James', 'White'), ('d86ea3ee-d5cd-4f2c-b3ff-abe9bfc61420', 'Matthew', 'Flores'), ('453bda41-8e79-4219-b89d-2fa872d1b42b', 'Tiffany', 'Horton'), ('bd195c64-28f1-47cc-bbec-e96363efa32e', 'Jose', 'Williamson'), ('968e260e-4b00-4774-a4ef-270cbd07e8ec', 'Barbara', 'Luna'), ('7f818a86-217b-481c-a1ba-5d2c220ce913', 'Jonathan', 'Foster'), ('62838770-763f-483c-8c5e-34db804a8408', 'Peggy', 'Taylor'), ('31cff850-e695-4137-8010-81e1633ea9d3', 'Stacey', 'Hubbard')]\", mimetype='text/plain', start_char_idx=None, end_char_idx=None, metadata_seperator='\\n', text_template='{metadata_str}\\n\\n{content}'), score=None)], metadata={'4c9a40e2-dc8f-4d36-84d0-cf3068706127': {'sql_query': 'SELECT employee_id, first_name, last_name FROM employees', 'result': [('971a5efe-d9e7-4594-961f-7d624d035185', 'Jane', 'Moneypenny'), ('0ff018e4-9b73-4c37-8410-123d36e98785', 'Russell', 'Sherman'), ('9651dec3-a491-4de9-a5c1-a2eb9a108fc7', 'Veronica', 'West'), ('70394e4b-26a9-4df5-9b1b-225bbeb2f815', 'Marie', 'Howard'), ('10ad2baa-195e-4fd2-ad4f-bae65c42ded4', 'Debra', 'Kelly'), ('864bfcce-a6ed-4a06-a122-ad7de2f42f00', 'Meghan', 'Wiggins'), ('10441ece-8259-4c30-84b4-910f6e741c40', 'Christopher', 'Flores'), ('d9b830be-a029-407c-8a1f-56638f5882e5', 'Brandon', 'Hernandez'), ('ab5b781e-fd6b-4a2d-a321-921fa57f1d45', 'Kevin', 'Rocha'), ('05f48adb-c9b4-4869-b250-02e73264bd43', 'Karen', 'Smith'), ('460aa62e-498f-4841-b5d4-fd171f743a48', 'Jennifer', 'Ayala'), ('28f17f4a-6d96-43cf-829d-c84179e1bb3e', 'Mark', 'Davis'), ('a9df5edb-7c1e-4620-966e-11fd8b7d7f8f', 'Kenneth', 'Padilla'), ('90f99f32-b6a7-4a8b-ad48-4179e55a1c76', 'Mary', 'Martinez'), ('af00b37e-8eb1-4b57-a2ad-7d2fbcb1d145', 'Jay', 'Baker'), ('09056764-ea26-4f29-a112-383737f74272', 'Thomas', 'Walter'), ('9426445b-9924-4302-8c26-eff1e9fb3922', 'Timothy', 'Dyer'), ('adc97cc6-1dfb-47fa-a13e-4167c85e0958', 'Teresa', 'Carroll'), ('36862aa2-2195-40c0-b6be-1aaf73cd965c', 'Jacob', 'Jennings'), ('f5f5a8c8-ffb6-4f9c-b305-0a7f0dbd66fc', 'Daniel', 'Wallace'), ('a101746d-51dc-46b8-8c90-72dbbb9fc76e', 'Tonya', 'Kidd'), ('808d7bcb-012d-4e7f-bf95-0d10695b6d60', 'David', 'Jones'), ('33e577bd-8eb1-4b0b-81d0-f24ee1b1eade', 'Pamela', 'Spencer'), ('7701454e-9f2c-4f45-8700-e39b62dfc30d', 'Amanda', 'Allen'), ('d8d5b5e6-109d-43bf-a96a-2366f9387aeb', 'Adam', 'Rodriguez'), ('17efb25c-d439-4920-8028-27838050874e', 'Thomas', 'Watkins'), ('9877adc7-a317-41dd-9a12-6691aefefd2b', 'Sabrina', 'Gregory'), ('3eb421b1-5bab-47cf-a5b0-e1ddecd49c3b', 'Daniel', 'Sawyer'), ('ef82cee7-f105-4e95-9207-9998c3d64232', 'Kathleen', 'Kelley'), ('0aa850e0-8b5d-4d1d-ad14-efa5422468f8', 'Alexandria', 'Collins'), ('3b77536c-9310-41ee-a1af-04f123948d34', 'James', 'Wolfe'), ('a27abe2c-6b7d-47f9-91ce-f3ae22afd92a', 'Janice', 'Tucker'), ('0e6f428e-957d-413d-bb76-daa57ec3f26b', 'Laura', 'Brown'), ('8f848888-bdd7-4758-8cc3-7c4dddda44e2', 'Lisa', 'Mccormick'), ('e6484a7c-ae99-42da-bf0c-53fa94612eed', 'Michelle', 'Mcbride'), ('29a5b67a-93a0-4317-a8bd-c11154dc4844', 'Nicholas', 'Garcia'), ('dc1788b6-68ec-4bd9-982f-a139bd8617cb', 'Garrett', 'Swanson'), ('86b75c6f-d56a-4ae1-a382-4e08a0549c8d', 'Michael', 'Wilson'), ('49335762-6386-4da7-820f-1db0e4ea51e9', 'Jessica', 'Hanson'), ('cebc21d8-3612-4f4a-aa3f-6c9783bb28ae', 'Michelle', 'Smith'), ('14f9f9db-77be-47fd-9a15-a452a332d47e', 'Jennifer', 'Miller'), ('5a209123-f024-4cee-b3da-f263f446150e', 'Julie', 'Jimenez'), ('515ca5ff-6bc0-4db5-8f97-52b0365b10fe', 'Alicia', 'Peterson'), ('895d4598-6b00-4182-8fe4-a786b2c4bb93', 'Rhonda', 'Jenkins'), ('258bc944-49a4-4b7c-9ff3-6a1a17c5382e', 'Peter', 'Marshall'), ('d22c41d6-dd23-436e-be19-c2a4d48cc1c1', 'Laurie', 'Turner'), ('f1e41c9f-03a6-4de1-bda3-4f82db2a186c', 'Benjamin', 'Gilbert'), ('68c155cf-f786-4ef3-a202-2118f5cf2177', 'Stephanie', 'Gutierrez'), ('afac9a10-7199-40ae-bf35-59e90556b5e9', 'Kelsey', 'Charles'), ('47ed5162-fc37-4686-9921-2a38582dd3e2', 'Jesus', 'Yates'), ('fecfe5c9-11de-4f27-a660-70f9990ad234', 'Matthew', 'Stephenson'), ('f7b6f0d8-e7c7-4cda-924b-18e0832abb59', 'Samantha', 'Barnes'), ('ae6bcd1a-d41c-4bde-b2bc-cc152e3e0c84', 'Ann', 'Mcdaniel'), ('53dddb62-260e-40ed-861e-554ae28ea771', 'Catherine', 'Hunter'), ('95115166-be96-4392-aea1-63dbc138d32c', 'Stephanie', 'Garner'), ('a601a6e3-d300-47d8-8456-61f35353068d', 'Anthony', 'Mitchell'), ('1a7acec3-b190-4c1a-96e1-ee7248a9f3be', 'Julie', 'Harmon'), ('6bcc9a6f-8fb7-4d00-acdd-987b5a9f2d00', 'Amanda', 'Gonzales'), ('b083b042-2b0a-4629-8a70-3d00bc5dfed0', 'Karen', 'Flores'), ('3adfadc1-808f-4d70-be50-64c0e96df848', 'Melinda', 'Berry'), ('d6925e9f-0db3-43f2-9702-01d66bacb848', 'Alison', 'Buckley'), ('90efa78e-a477-4ba4-834d-d343dde94053', 'Sergio', 'Gonzalez'), ('7ed10e5c-2b00-4f8c-bfaa-64625e49207b', 'Theresa', 'Hammond'), ('231bd63e-2070-485b-a490-edef816ccf00', 'Kerri', 'Estes'), ('cb0149cf-2445-4c01-83c8-da7bafac9781', 'Traci', 'Parker'), ('0aed9e3a-d9f9-4a33-b0fa-fe327739728a', 'Alisha', 'Johnson'), ('ab54b4c2-fbe8-4566-8a41-9a34e2da2765', 'Monica', 'Lozano'), ('c30ecbeb-bcd4-43ba-89f3-1b4abb56183b', 'Tracy', 'Willis'), ('03330e47-da7b-41db-aeba-ed74bdc6e3a9', 'Stephanie', 'Contreras'), ('91cf9cb3-e084-492c-ac05-25e4432b2a98', 'Matthew', 'Walton'), ('15844962-347a-4ae6-873a-3ffa7a338afd', 'Loretta', 'Anderson'), ('4950b6d5-1fcf-47ed-b786-a69b98bf1a72', 'Cassandra', 'Barnes'), ('213e488a-6e76-4d52-bb88-b31fcffd60eb', 'Courtney', 'Allison'), ('39c21276-b5f9-4da4-8975-5b382d7e7b43', 'Lucas', 'Cohen'), ('6aec24d1-a7b2-4a6d-96d2-692a7f5cacef', 'Crystal', 'Prince'), ('b9b436c5-8c3b-4f75-bd1a-3912daed2a68', 'Susan', 'Johnson'), ('0088df37-a09f-4654-a962-caed8c34ad5b', 'Shannon', 'Mckee'), ('42d45947-f1c9-4162-a598-81ddfa4284ef', 'Elizabeth', 'Rivers'), ('b7a66966-365f-47cf-bc8b-45af4498806f', 'Robert', 'Donaldson'), ('162123e2-6857-4add-b352-64b315d64667', 'Robert', 'Whitehead'), ('815eb8ec-339b-4e65-852f-1d53edd1af1a', 'Phillip', 'Dudley'), ('9f42ed95-bd6f-4bce-85c0-18b9f29dcd23', 'Carlos', 'Marquez'), ('3e52f5f4-9199-4b39-b396-2eb58d20801a', 'Yvonne', 'Martinez'), ('7ace1de5-a104-4ba7-91cf-af8b75bb0eb6', 'Nicholas', 'Rogers'), ('5a20340e-d891-4325-bff7-851504bc3eba', 'Kimberly', 'Valdez'), ('c75dcb43-010e-4ab1-ba6c-8dbd3abd1da6', 'Brandon', 'Herrera'), ('f6435a70-22e0-4ab1-9160-9c155f93bbc2', 'Amanda', 'Rodriguez'), ('81c8c055-305e-452f-b7d4-e87f05657bf4', 'Charles', 'Wiggins'), ('3ce51eec-56be-4d39-83d0-032d407332e3', 'James', 'Anderson'), ('983246fc-a128-49ff-883d-41298b272cdf', 'Claudia', 'Montoya'), ('58c6004d-4f8a-4a0a-ad4a-5b4b87765e9c', 'Joseph', 'Lee'), ('ae9acded-6de0-4f12-8066-290c13fa7d11', 'Michelle', 'Trevino'), ('ed8c2152-5caf-4fe0-94af-7472b1ac5207', 'James', 'White'), ('d86ea3ee-d5cd-4f2c-b3ff-abe9bfc61420', 'Matthew', 'Flores'), ('453bda41-8e79-4219-b89d-2fa872d1b42b', 'Tiffany', 'Horton'), ('bd195c64-28f1-47cc-bbec-e96363efa32e', 'Jose', 'Williamson'), ('968e260e-4b00-4774-a4ef-270cbd07e8ec', 'Barbara', 'Luna'), ('7f818a86-217b-481c-a1ba-5d2c220ce913', 'Jonathan', 'Foster'), ('62838770-763f-483c-8c5e-34db804a8408', 'Peggy', 'Taylor'), ('31cff850-e695-4137-8010-81e1633ea9d3', 'Stacey', 'Hubbard')], 'col_keys': ['employee_id', 'first_name', 'last_name']}, 'sql_query': 'SELECT employee_id, first_name, last_name FROM employees', 'result': [('971a5efe-d9e7-4594-961f-7d624d035185', 'Jane', 'Moneypenny'), ('0ff018e4-9b73-4c37-8410-123d36e98785', 'Russell', 'Sherman'), ('9651dec3-a491-4de9-a5c1-a2eb9a108fc7', 'Veronica', 'West'), ('70394e4b-26a9-4df5-9b1b-225bbeb2f815', 'Marie', 'Howard'), ('10ad2baa-195e-4fd2-ad4f-bae65c42ded4', 'Debra', 'Kelly'), ('864bfcce-a6ed-4a06-a122-ad7de2f42f00', 'Meghan', 'Wiggins'), ('10441ece-8259-4c30-84b4-910f6e741c40', 'Christopher', 'Flores'), ('d9b830be-a029-407c-8a1f-56638f5882e5', 'Brandon', 'Hernandez'), ('ab5b781e-fd6b-4a2d-a321-921fa57f1d45', 'Kevin', 'Rocha'), ('05f48adb-c9b4-4869-b250-02e73264bd43', 'Karen', 'Smith'), ('460aa62e-498f-4841-b5d4-fd171f743a48', 'Jennifer', 'Ayala'), ('28f17f4a-6d96-43cf-829d-c84179e1bb3e', 'Mark', 'Davis'), ('a9df5edb-7c1e-4620-966e-11fd8b7d7f8f', 'Kenneth', 'Padilla'), ('90f99f32-b6a7-4a8b-ad48-4179e55a1c76', 'Mary', 'Martinez'), ('af00b37e-8eb1-4b57-a2ad-7d2fbcb1d145', 'Jay', 'Baker'), ('09056764-ea26-4f29-a112-383737f74272', 'Thomas', 'Walter'), ('9426445b-9924-4302-8c26-eff1e9fb3922', 'Timothy', 'Dyer'), ('adc97cc6-1dfb-47fa-a13e-4167c85e0958', 'Teresa', 'Carroll'), ('36862aa2-2195-40c0-b6be-1aaf73cd965c', 'Jacob', 'Jennings'), ('f5f5a8c8-ffb6-4f9c-b305-0a7f0dbd66fc', 'Daniel', 'Wallace'), ('a101746d-51dc-46b8-8c90-72dbbb9fc76e', 'Tonya', 'Kidd'), ('808d7bcb-012d-4e7f-bf95-0d10695b6d60', 'David', 'Jones'), ('33e577bd-8eb1-4b0b-81d0-f24ee1b1eade', 'Pamela', 'Spencer'), ('7701454e-9f2c-4f45-8700-e39b62dfc30d', 'Amanda', 'Allen'), ('d8d5b5e6-109d-43bf-a96a-2366f9387aeb', 'Adam', 'Rodriguez'), ('17efb25c-d439-4920-8028-27838050874e', 'Thomas', 'Watkins'), ('9877adc7-a317-41dd-9a12-6691aefefd2b', 'Sabrina', 'Gregory'), ('3eb421b1-5bab-47cf-a5b0-e1ddecd49c3b', 'Daniel', 'Sawyer'), ('ef82cee7-f105-4e95-9207-9998c3d64232', 'Kathleen', 'Kelley'), ('0aa850e0-8b5d-4d1d-ad14-efa5422468f8', 'Alexandria', 'Collins'), ('3b77536c-9310-41ee-a1af-04f123948d34', 'James', 'Wolfe'), ('a27abe2c-6b7d-47f9-91ce-f3ae22afd92a', 'Janice', 'Tucker'), ('0e6f428e-957d-413d-bb76-daa57ec3f26b', 'Laura', 'Brown'), ('8f848888-bdd7-4758-8cc3-7c4dddda44e2', 'Lisa', 'Mccormick'), ('e6484a7c-ae99-42da-bf0c-53fa94612eed', 'Michelle', 'Mcbride'), ('29a5b67a-93a0-4317-a8bd-c11154dc4844', 'Nicholas', 'Garcia'), ('dc1788b6-68ec-4bd9-982f-a139bd8617cb', 'Garrett', 'Swanson'), ('86b75c6f-d56a-4ae1-a382-4e08a0549c8d', 'Michael', 'Wilson'), ('49335762-6386-4da7-820f-1db0e4ea51e9', 'Jessica', 'Hanson'), ('cebc21d8-3612-4f4a-aa3f-6c9783bb28ae', 'Michelle', 'Smith'), ('14f9f9db-77be-47fd-9a15-a452a332d47e', 'Jennifer', 'Miller'), ('5a209123-f024-4cee-b3da-f263f446150e', 'Julie', 'Jimenez'), ('515ca5ff-6bc0-4db5-8f97-52b0365b10fe', 'Alicia', 'Peterson'), ('895d4598-6b00-4182-8fe4-a786b2c4bb93', 'Rhonda', 'Jenkins'), ('258bc944-49a4-4b7c-9ff3-6a1a17c5382e', 'Peter', 'Marshall'), ('d22c41d6-dd23-436e-be19-c2a4d48cc1c1', 'Laurie', 'Turner'), ('f1e41c9f-03a6-4de1-bda3-4f82db2a186c', 'Benjamin', 'Gilbert'), ('68c155cf-f786-4ef3-a202-2118f5cf2177', 'Stephanie', 'Gutierrez'), ('afac9a10-7199-40ae-bf35-59e90556b5e9', 'Kelsey', 'Charles'), ('47ed5162-fc37-4686-9921-2a38582dd3e2', 'Jesus', 'Yates'), ('fecfe5c9-11de-4f27-a660-70f9990ad234', 'Matthew', 'Stephenson'), ('f7b6f0d8-e7c7-4cda-924b-18e0832abb59', 'Samantha', 'Barnes'), ('ae6bcd1a-d41c-4bde-b2bc-cc152e3e0c84', 'Ann', 'Mcdaniel'), ('53dddb62-260e-40ed-861e-554ae28ea771', 'Catherine', 'Hunter'), ('95115166-be96-4392-aea1-63dbc138d32c', 'Stephanie', 'Garner'), ('a601a6e3-d300-47d8-8456-61f35353068d', 'Anthony', 'Mitchell'), ('1a7acec3-b190-4c1a-96e1-ee7248a9f3be', 'Julie', 'Harmon'), ('6bcc9a6f-8fb7-4d00-acdd-987b5a9f2d00', 'Amanda', 'Gonzales'), ('b083b042-2b0a-4629-8a70-3d00bc5dfed0', 'Karen', 'Flores'), ('3adfadc1-808f-4d70-be50-64c0e96df848', 'Melinda', 'Berry'), ('d6925e9f-0db3-43f2-9702-01d66bacb848', 'Alison', 'Buckley'), ('90efa78e-a477-4ba4-834d-d343dde94053', 'Sergio', 'Gonzalez'), ('7ed10e5c-2b00-4f8c-bfaa-64625e49207b', 'Theresa', 'Hammond'), ('231bd63e-2070-485b-a490-edef816ccf00', 'Kerri', 'Estes'), ('cb0149cf-2445-4c01-83c8-da7bafac9781', 'Traci', 'Parker'), ('0aed9e3a-d9f9-4a33-b0fa-fe327739728a', 'Alisha', 'Johnson'), ('ab54b4c2-fbe8-4566-8a41-9a34e2da2765', 'Monica', 'Lozano'), ('c30ecbeb-bcd4-43ba-89f3-1b4abb56183b', 'Tracy', 'Willis'), ('03330e47-da7b-41db-aeba-ed74bdc6e3a9', 'Stephanie', 'Contreras'), ('91cf9cb3-e084-492c-ac05-25e4432b2a98', 'Matthew', 'Walton'), ('15844962-347a-4ae6-873a-3ffa7a338afd', 'Loretta', 'Anderson'), ('4950b6d5-1fcf-47ed-b786-a69b98bf1a72', 'Cassandra', 'Barnes'), ('213e488a-6e76-4d52-bb88-b31fcffd60eb', 'Courtney', 'Allison'), ('39c21276-b5f9-4da4-8975-5b382d7e7b43', 'Lucas', 'Cohen'), ('6aec24d1-a7b2-4a6d-96d2-692a7f5cacef', 'Crystal', 'Prince'), ('b9b436c5-8c3b-4f75-bd1a-3912daed2a68', 'Susan', 'Johnson'), ('0088df37-a09f-4654-a962-caed8c34ad5b', 'Shannon', 'Mckee'), ('42d45947-f1c9-4162-a598-81ddfa4284ef', 'Elizabeth', 'Rivers'), ('b7a66966-365f-47cf-bc8b-45af4498806f', 'Robert', 'Donaldson'), ('162123e2-6857-4add-b352-64b315d64667', 'Robert', 'Whitehead'), ('815eb8ec-339b-4e65-852f-1d53edd1af1a', 'Phillip', 'Dudley'), ('9f42ed95-bd6f-4bce-85c0-18b9f29dcd23', 'Carlos', 'Marquez'), ('3e52f5f4-9199-4b39-b396-2eb58d20801a', 'Yvonne', 'Martinez'), ('7ace1de5-a104-4ba7-91cf-af8b75bb0eb6', 'Nicholas', 'Rogers'), ('5a20340e-d891-4325-bff7-851504bc3eba', 'Kimberly', 'Valdez'), ('c75dcb43-010e-4ab1-ba6c-8dbd3abd1da6', 'Brandon', 'Herrera'), ('f6435a70-22e0-4ab1-9160-9c155f93bbc2', 'Amanda', 'Rodriguez'), ('81c8c055-305e-452f-b7d4-e87f05657bf4', 'Charles', 'Wiggins'), ('3ce51eec-56be-4d39-83d0-032d407332e3', 'James', 'Anderson'), ('983246fc-a128-49ff-883d-41298b272cdf', 'Claudia', 'Montoya'), ('58c6004d-4f8a-4a0a-ad4a-5b4b87765e9c', 'Joseph', 'Lee'), ('ae9acded-6de0-4f12-8066-290c13fa7d11', 'Michelle', 'Trevino'), ('ed8c2152-5caf-4fe0-94af-7472b1ac5207', 'James', 'White'), ('d86ea3ee-d5cd-4f2c-b3ff-abe9bfc61420', 'Matthew', 'Flores'), ('453bda41-8e79-4219-b89d-2fa872d1b42b', 'Tiffany', 'Horton'), ('bd195c64-28f1-47cc-bbec-e96363efa32e', 'Jose', 'Williamson'), ('968e260e-4b00-4774-a4ef-270cbd07e8ec', 'Barbara', 'Luna'), ('7f818a86-217b-481c-a1ba-5d2c220ce913', 'Jonathan', 'Foster'), ('62838770-763f-483c-8c5e-34db804a8408', 'Peggy', 'Taylor'), ('31cff850-e695-4137-8010-81e1633ea9d3', 'Stacey', 'Hubbard')], 'col_keys': ['employee_id', 'first_name', 'last_name'], 'user_query': 'Who works for bankwell?'})"
      ]
     },
     "execution_count": 33,
     "metadata": {},
     "output_type": "execute_result"
    }
   ],
   "source": [
    "result"
   ]
  },
  {
   "cell_type": "markdown",
   "id": "c02ad75e-a38e-4895-b5e3-b453c214622c",
   "metadata": {},
   "source": [
    "# Test Queries"
   ]
  },
  {
   "cell_type": "code",
   "execution_count": 34,
   "id": "8634153f-12ed-4059-9f87-f091a7873aa8",
   "metadata": {},
   "outputs": [
    {
     "name": "stdout",
     "output_type": "stream",
     "text": [
      "Running step generate_sql_response\n",
      "Step generate_sql_response produced event StopEvent\n"
     ]
    },
    {
     "data": {
      "text/plain": [
       "Response(response='Marriott appears to hold investments in Bond Funds (specifically, BND and TLT) and an Equity Fund (VSMPX).\\n', source_nodes=[NodeWithScore(node=TextNode(id_='65f70a92-43fc-462e-9247-4091e8ebde6a', embedding=None, metadata={'sql_query': \"SELECT symbol, fund_type FROM portfolio WHERE company ~* '\\\\yMariott\\\\y'\", 'result': [('BND', 'Bond Fund'), ('VSMPX', 'Equity Fund'), ('TLT', 'Bond Fund')], 'col_keys': ['symbol', 'fund_type']}, excluded_embed_metadata_keys=['sql_query', 'result', 'col_keys'], excluded_llm_metadata_keys=['sql_query', 'result', 'col_keys'], relationships={}, metadata_template='{key}: {value}', metadata_separator='\\n', text=\"[('BND', 'Bond Fund'), ('VSMPX', 'Equity Fund'), ('TLT', 'Bond Fund')]\", mimetype='text/plain', start_char_idx=None, end_char_idx=None, metadata_seperator='\\n', text_template='{metadata_str}\\n\\n{content}'), score=None)], metadata={'65f70a92-43fc-462e-9247-4091e8ebde6a': {'sql_query': \"SELECT symbol, fund_type FROM portfolio WHERE company ~* '\\\\yMariott\\\\y'\", 'result': [('BND', 'Bond Fund'), ('VSMPX', 'Equity Fund'), ('TLT', 'Bond Fund')], 'col_keys': ['symbol', 'fund_type']}, 'sql_query': \"SELECT symbol, fund_type FROM portfolio WHERE company ~* '\\\\yMariott\\\\y'\", 'result': [('BND', 'Bond Fund'), ('VSMPX', 'Equity Fund'), ('TLT', 'Bond Fund')], 'col_keys': ['symbol', 'fund_type'], 'user_query': 'what financial instruments does Mariott own?'})"
      ]
     },
     "execution_count": 34,
     "metadata": {},
     "output_type": "execute_result"
    }
   ],
   "source": [
    "query = \"what financial instruments does Mariott own?\"\n",
    "result = await sql_workflow.run(query=query)\n",
    "result"
   ]
  },
  {
   "cell_type": "code",
   "execution_count": 35,
   "id": "0ca0289b-e687-4d43-9a51-8d1dfea806d1",
   "metadata": {},
   "outputs": [
    {
     "name": "stdout",
     "output_type": "stream",
     "text": [
      "Running step generate_sql_response\n",
      "Step generate_sql_response produced event StopEvent\n"
     ]
    },
    {
     "data": {
      "text/plain": [
       "Response(response='Broadcom owns 5 funds.  These funds are categorized as Bond Funds and Equity Funds.\\n', source_nodes=[NodeWithScore(node=TextNode(id_='44dd1e35-ca85-4395-a650-5e4f723824bc', embedding=None, metadata={'sql_query': \"SELECT COUNT(DISTINCT symbol), array_agg(DISTINCT fund_type) FROM portfolio WHERE company ~* '\\\\yBroadcom\\\\y';\", 'result': [(5, ['Bond Fund', 'Equity Fund'])], 'col_keys': ['count', 'array_agg']}, excluded_embed_metadata_keys=['sql_query', 'result', 'col_keys'], excluded_llm_metadata_keys=['sql_query', 'result', 'col_keys'], relationships={}, metadata_template='{key}: {value}', metadata_separator='\\n', text=\"[(5, ['Bond Fund', 'Equity Fund'])]\", mimetype='text/plain', start_char_idx=None, end_char_idx=None, metadata_seperator='\\n', text_template='{metadata_str}\\n\\n{content}'), score=None)], metadata={'44dd1e35-ca85-4395-a650-5e4f723824bc': {'sql_query': \"SELECT COUNT(DISTINCT symbol), array_agg(DISTINCT fund_type) FROM portfolio WHERE company ~* '\\\\yBroadcom\\\\y';\", 'result': [(5, ['Bond Fund', 'Equity Fund'])], 'col_keys': ['count', 'array_agg']}, 'sql_query': \"SELECT COUNT(DISTINCT symbol), array_agg(DISTINCT fund_type) FROM portfolio WHERE company ~* '\\\\yBroadcom\\\\y';\", 'result': [(5, ['Bond Fund', 'Equity Fund'])], 'col_keys': ['count', 'array_agg'], 'user_query': 'how many funds does Broadcom own? What types of funds are they?'})"
      ]
     },
     "execution_count": 35,
     "metadata": {},
     "output_type": "execute_result"
    }
   ],
   "source": [
    "query = \"how many funds does Broadcom own? What types of funds are they?\"\n",
    "result = await sql_workflow.run(query=query)\n",
    "result"
   ]
  },
  {
   "cell_type": "code",
   "execution_count": 36,
   "id": "969f5566-4324-43e6-bd18-89d363a076c9",
   "metadata": {},
   "outputs": [
    {
     "name": "stdout",
     "output_type": "stream",
     "text": [
      "Running step generate_sql_response\n",
      "Step generate_sql_response produced event StopEvent\n"
     ]
    },
    {
     "data": {
      "text/plain": [
       "Response(response=\"I apologize, but I couldn't find any employees currently assigned to the Marriott client account.  To help me find the information you need, could you please provide more details, perhaps a different way of specifying the client name, or a different search term?\\n\", source_nodes=[NodeWithScore(node=TextNode(id_='e456e386-315a-48f8-bc06-99396a31de50', embedding=None, metadata={'sql_query': \"SELECT employee_first_name, employee_last_name FROM client_alignment WHERE company ~* '\\\\yMarriott\\\\y'\", 'result': [], 'col_keys': ['employee_first_name', 'employee_last_name']}, excluded_embed_metadata_keys=['sql_query', 'result', 'col_keys'], excluded_llm_metadata_keys=['sql_query', 'result', 'col_keys'], relationships={}, metadata_template='{key}: {value}', metadata_separator='\\n', text='[]', mimetype='text/plain', start_char_idx=None, end_char_idx=None, metadata_seperator='\\n', text_template='{metadata_str}\\n\\n{content}'), score=None)], metadata={'e456e386-315a-48f8-bc06-99396a31de50': {'sql_query': \"SELECT employee_first_name, employee_last_name FROM client_alignment WHERE company ~* '\\\\yMarriott\\\\y'\", 'result': [], 'col_keys': ['employee_first_name', 'employee_last_name']}, 'sql_query': \"SELECT employee_first_name, employee_last_name FROM client_alignment WHERE company ~* '\\\\yMarriott\\\\y'\", 'result': [], 'col_keys': ['employee_first_name', 'employee_last_name'], 'user_query': 'what employees work on the mariott client account?'})"
      ]
     },
     "execution_count": 36,
     "metadata": {},
     "output_type": "execute_result"
    }
   ],
   "source": [
    "query = \"what employees work on the mariott client account?\"\n",
    "result = await sql_workflow.run(query=query)\n",
    "result"
   ]
  },
  {
   "cell_type": "code",
   "execution_count": 38,
   "id": "721a0508-b109-4952-96b2-76249c715023",
   "metadata": {},
   "outputs": [
    {
     "name": "stdout",
     "output_type": "stream",
     "text": [
      "Running step generate_sql_response\n",
      "Step generate_sql_response produced event StopEvent\n"
     ]
    },
    {
     "data": {
      "text/plain": [
       "Response(response=\"I apologize, but I couldn't find a contact email for Marriott in our records.  To help me locate the correct information, could you please provide any additional details, such as a specific Marriott property or contact person?  Perhaps rephrasing your search terms might also be helpful.\\n\", source_nodes=[NodeWithScore(node=TextNode(id_='b5c9d0b1-0f37-44b7-b990-1ab6c5c90d33', embedding=None, metadata={'sql_query': \"SELECT contact_email FROM client_alignment WHERE company ~* '\\\\yMarriot\\\\y'\", 'result': [], 'col_keys': ['contact_email']}, excluded_embed_metadata_keys=['sql_query', 'result', 'col_keys'], excluded_llm_metadata_keys=['sql_query', 'result', 'col_keys'], relationships={}, metadata_template='{key}: {value}', metadata_separator='\\n', text='[]', mimetype='text/plain', start_char_idx=None, end_char_idx=None, metadata_seperator='\\n', text_template='{metadata_str}\\n\\n{content}'), score=None)], metadata={'b5c9d0b1-0f37-44b7-b990-1ab6c5c90d33': {'sql_query': \"SELECT contact_email FROM client_alignment WHERE company ~* '\\\\yMarriot\\\\y'\", 'result': [], 'col_keys': ['contact_email']}, 'sql_query': \"SELECT contact_email FROM client_alignment WHERE company ~* '\\\\yMarriot\\\\y'\", 'result': [], 'col_keys': ['contact_email'], 'user_query': 'what is the contact email on the Marriot client account?'})"
      ]
     },
     "execution_count": 38,
     "metadata": {},
     "output_type": "execute_result"
    }
   ],
   "source": [
    "query = \"what is the contact email on the Marriot client account?\"\n",
    "result = await sql_workflow.run(query=query)\n",
    "result"
   ]
  },
  {
   "cell_type": "code",
   "execution_count": null,
   "id": "e8eca2f5-f6b5-435b-81ec-6150a536f5f0",
   "metadata": {},
   "outputs": [],
   "source": []
  },
  {
   "cell_type": "code",
   "execution_count": null,
   "id": "238df021-a762-46a7-9b42-5c34960f0623",
   "metadata": {},
   "outputs": [],
   "source": []
  }
 ],
 "metadata": {
  "environment": {
   "kernel": "conda-env-lc_currensee-lc_currensee",
   "name": "workbench-notebooks.m129",
   "type": "gcloud",
   "uri": "us-docker.pkg.dev/deeplearning-platform-release/gcr.io/workbench-notebooks:m129"
  },
  "kernelspec": {
   "display_name": "lc_currensee",
   "language": "python",
   "name": "conda-env-lc_currensee-lc_currensee"
  },
  "language_info": {
   "codemirror_mode": {
    "name": "ipython",
    "version": 3
   },
   "file_extension": ".py",
   "mimetype": "text/x-python",
   "name": "python",
   "nbconvert_exporter": "python",
   "pygments_lexer": "ipython3",
   "version": "3.11.12"
  }
 },
 "nbformat": 4,
 "nbformat_minor": 5
}
