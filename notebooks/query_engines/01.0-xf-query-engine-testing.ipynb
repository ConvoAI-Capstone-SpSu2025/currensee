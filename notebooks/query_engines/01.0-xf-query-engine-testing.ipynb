{
 "cells": [
  {
   "cell_type": "markdown",
   "id": "3b526a7d",
   "metadata": {},
   "source": [
    "# SQL Query Engine Sample\n",
    "This notebook demonstrates the implementation and usage of the SQL query engine."
   ]
  },
  {
   "cell_type": "markdown",
   "id": "026a09de-9831-48a1-9fb9-40a296623b78",
   "metadata": {},
   "source": [
    "## IMPORTANT\n",
    "If you are going to use this notebook, please make a copy of it and change the name so that \n",
    "this notebook may be preserved for others as an example!"
   ]
  },
  {
   "cell_type": "code",
   "execution_count": 1,
   "id": "9d2662a2",
   "metadata": {},
   "outputs": [],
   "source": [
    "from currensee.schema.schema import PostgresTables\n",
    "from currensee.query_engines.sql_query_engine.query_engine import create_sql_workflow\n",
    "from currensee.utils.db_utils import create_pg_engine"
   ]
  },
  {
   "cell_type": "code",
   "execution_count": 2,
   "id": "d42b7691",
   "metadata": {},
   "outputs": [],
   "source": [
    "# required to run asynchronous code\n",
    "\n",
    "import nest_asyncio\n",
    "\n",
    "nest_asyncio.apply()"
   ]
  },
  {
   "cell_type": "markdown",
   "id": "9560132a",
   "metadata": {},
   "source": [
    "## Create the SQL Workflow"
   ]
  },
  {
   "cell_type": "markdown",
   "id": "69f02c7c-2583-4de4-926a-0d5a18f15ce2",
   "metadata": {},
   "source": [
    "The SQL workflow can take the following parameters:\n",
    "\n",
    "1. source_db: the name of the database where the table is stored (e.g. `crm`)\n",
    "2. source_tables: a list of the name(s) of the table(s) that we want the query engine to have access to\n",
    "  * note that multiple tables can be passed - this is if you want the query engine to try to join tables\n",
    "    in the queries that may have relationships to one another\n",
    "  * THIS IS LEVEL 2!! So do not attempt until you get the hang of just using one table at a time!!\n",
    "    \n",
    "3. table_descriptions: a list of the description(s) of the table(s) passed above\n",
    "4. text_to_sql_tmpl: a string containing the prompt telling the LLM how to produce the SQL query from the text given\n",
    "   * defaults to the variable `text_to_sql_tmpl` defined in `currensee.query_engines.prompting.py`\n",
    "   * you may override this by passing in your own string\n",
    "5. response_synthesis_prompt_str: a string containing the prompt telling the LLM how to synthesize the final response from the SQL table(s)\n",
    "   * defaults to the variable `response_synthesis_prompt_str` defined in `currensee.query_engines.prompting.py`\n",
    "   * you may override this by passing in your own string\n",
    "6. model: the name of the model to use for all of the tasks\n",
    "   * defaults to `gemini-1.5-flash`\n",
    "   * you may override this with any of the models defined at https://ai.google.dev/gemini-api/docs/models#model-variations using the string with dashes defined in the \"Model variant\" column.\n",
    "   * **BE VERY CAREFUL TO PAY ATTENTION TO THE PRICING!!!!!** I recommend that you use the default model until you understand the other models better!!!\n",
    "7. temperature: the temperature parameter to pass to the model\n",
    "   * default is 0.0\n",
    "   * the higher the temperature, the more creative it is. Recommend keeping low for the SQL query generation."
   ]
  },
  {
   "cell_type": "code",
   "execution_count": 3,
   "id": "024db98c-f67a-4329-8900-84863b015eb5",
   "metadata": {},
   "outputs": [],
   "source": [
    "from google.cloud import secretmanager\n",
    "import pandas as pd\n",
    "from sqlalchemy import create_engine, text, inspect\n",
    "\n",
    "PROJECT_ID = 'adsp-34002-on02-sopho-scribe'\n",
    "REGION = 'us-central1'\n",
    "DB_NAME = 'postgres'\n",
    "DB_HOST = '35.232.92.211'\n",
    "DB_PORT = '5432'\n",
    "\n",
    "def access_secret(secret_id):\n",
    "    client = secretmanager.SecretManagerServiceClient()\n",
    "    name = f\"projects/{PROJECT_ID}/secrets/{secret_id}/versions/latest\"\n",
    "    response = client.access_secret_version(name=name)\n",
    "    return response.payload.data.decode(\"UTF-8\")\n",
    "\n",
    "DB_USER = access_secret('cloudSqlUser')\n",
    "DB_PASSWORD = access_secret('cloudSqlUserPassword')\n"
   ]
  },
  {
   "cell_type": "code",
   "execution_count": 4,
   "id": "57c3e716-5563-4244-bfa1-27cb8f6e9fa7",
   "metadata": {},
   "outputs": [
    {
     "name": "stdout",
     "output_type": "stream",
     "text": [
      "['email_data', 'meeting_data']\n"
     ]
    }
   ],
   "source": [
    "engine = create_pg_engine('outlook')\n",
    "inspector = inspect(engine)\n",
    "tables = inspector.get_table_names()\n",
    "print(tables)\n"
   ]
  },
  {
   "cell_type": "code",
   "execution_count": 5,
   "id": "367efd7b-20ce-4d6a-8825-bee7b3e4ea0d",
   "metadata": {},
   "outputs": [
    {
     "name": "stdout",
     "output_type": "stream",
     "text": [
      "email_timestamp\n",
      "to_names\n",
      "to_emails\n",
      "from_name\n",
      "from_email\n",
      "email_subject\n",
      "email_body\n"
     ]
    }
   ],
   "source": [
    "columns = inspector.get_columns('email_data')\n",
    "for col in columns:\n",
    "    print(col['name'])"
   ]
  },
  {
   "cell_type": "code",
   "execution_count": 6,
   "id": "ac58beb2-8ce7-4591-9d5a-5821e7a9962b",
   "metadata": {},
   "outputs": [],
   "source": [
    "emails_table_description = \"\"\"\n",
    "    Contain email correspondence between a financial advisor at Bankwell Financial and representatives of her client companies\n",
    "    Columns:\n",
    "     email_timestamp,\n",
    "     to_names,\n",
    "     to_emails,\n",
    "     from_name,\n",
    "     from_email,\n",
    "     email_subject,\n",
    "     email_body\n",
    "\"\"\"\n",
    "\n",
    "#More description on the tables"
   ]
  },
  {
   "cell_type": "markdown",
   "id": "45c5b6b3-fbc9-4163-b724-4d682f7e628b",
   "metadata": {},
   "source": [
    "### Below is the default defined in `prompting.py`"
   ]
  },
  {
   "cell_type": "code",
   "execution_count": 7,
   "id": "4f635abe-41d5-47b8-b073-2467ab2bed69",
   "metadata": {},
   "outputs": [],
   "source": [
    "text_to_sql_tmpl = \"\"\"\n",
    "    Given an input question, first create a syntactically correct {dialect} query to run, then look at the results of the query and return the answer.\n",
    "    You can order the results by the email_timestamp column (from earliest to latest) to return the most interesting examples in the database.\n",
    "\n",
    "    GUIDELINES:\n",
    "    * Never query for all the columns from a specific table, only ask for a few relevant columns given the question.\n",
    "    * Pay attention to use only the column names that you can see in the schema description.\n",
    "    * Be careful to not query for columns that do not exist.\n",
    "    * Pay attention to which column is in which table.\n",
    "    * Make sure to filter on all criteria mentioned in the query.\n",
    "    * If using a LIMIT to restrict the results, make sure it comes only in the end of the query.\n",
    "\n",
    "    IMPORTANT NOTE:\n",
    "    * Use the ~* operator instead of = when filtering with WHERE on text columns.\n",
    "    * Add word boundaries '\\\\y' to the beginning and end of each search term in the query.\n",
    "\n",
    "    You are required to use the following format, each taking one line:\n",
    "\n",
    "    Question: Question here\n",
    "    SQLQuery: SQL Query to run\n",
    "    SQLResult: Result of the SQLQuery\n",
    "    Answer: Final answer here\n",
    "\n",
    "    Only use tables listed below.\n",
    "    {schema}\n",
    "\"\"\"\n",
    "\n",
    "    #Question: {query_str}\n",
    "    #SQLQuery: SELECT email_timestamp, to_names, to_emails, from_name, from_email, email_subject \n",
    "    #          FROM email_data \n",
    "    #          WHERE to_names ~* '\\\\y{query_str}\\\\y'\n",
    "    #          ORDER BY email_timestamp;\n"
   ]
  },
  {
   "cell_type": "markdown",
   "id": "0697edf0-736a-4271-b57c-58f279fc6993",
   "metadata": {},
   "source": [
    "### Below is the default defined in `prompting.py`"
   ]
  },
  {
   "cell_type": "code",
   "execution_count": 8,
   "id": "b00ae072-006d-4ded-82ed-6fdbd688a2ad",
   "metadata": {},
   "outputs": [],
   "source": [
    "response_synthesis_prompt_str = \"\"\"\n",
    "    Query: {query_str}\n",
    "    SQL: {sql_query}\n",
    "    SQL Response: {context_str}\n",
    "\n",
    "    IMPORTANT INSTRUCTIONS:\n",
    "    * If SQL Response is empty or 0, apologise and mention that you could not find\n",
    "     examples to answer the query.\n",
    "    * In such cases, kindly nudge the user towards providing more details or refining\n",
    "    their search.\n",
    "    * For example, you could suggest narrowing down the search by a specific sender, date range, or subject keyword.\n",
    "    * You can also suggest rephrasing keywords like \"Bob\" to account for variations such as \"Robert\" or \"Bobby.\"\n",
    "    * Do not explicitly state phrases such as 'based on the SQL query executed' or related\n",
    "     references to context in your Response.\n",
    "    * Never mention the underlying sql query, or the underlying sql tables and other database elements.\n",
    "    * Never mention that SQL was used to answer this question.\n",
    "\n",
    "    Example response to an error:\n",
    "    \"I’m sorry, I couldn’t find any emails matching your request. To help narrow down the search, could you provide more details such as a specific date range, sender, or subject? Rephrasing the search terms might also help.\"\n",
    "\n",
    "    Response:\n",
    "\"\"\""
   ]
  },
  {
   "cell_type": "markdown",
   "id": "1848116a-52f9-413e-a778-89c185c5602d",
   "metadata": {},
   "source": [
    "### Define the DB information\n",
    "**IMPORTANT**: The table names MUST be lowercase in order for the engine to find them."
   ]
  },
  {
   "cell_type": "code",
   "execution_count": 9,
   "id": "f85b2203-b85f-4bf0-992e-0586f2a86db9",
   "metadata": {},
   "outputs": [],
   "source": [
    "source_db = 'outlook'\n",
    "table_description_mapping = {\n",
    "    'email_data': emails_table_description\n",
    "\n",
    "}"
   ]
  },
  {
   "cell_type": "code",
   "execution_count": 10,
   "id": "2f0ea45f",
   "metadata": {},
   "outputs": [],
   "source": [
    "sql_workflow = create_sql_workflow(\n",
    "    source_db=source_db,\n",
    "    table_description_mapping=table_description_mapping,\n",
    "    text_to_sql_tmpl=text_to_sql_tmpl,\n",
    "    response_synthesis_prompt_str=response_synthesis_prompt_str\n",
    ")"
   ]
  },
  {
   "cell_type": "markdown",
   "id": "51a2b1c6",
   "metadata": {},
   "source": [
    "## Define the Query"
   ]
  },
  {
   "cell_type": "code",
   "execution_count": 11,
   "id": "782f531a",
   "metadata": {},
   "outputs": [],
   "source": [
    "query = \"Show me emails to Cynthia Hobbs\""
   ]
  },
  {
   "cell_type": "code",
   "execution_count": null,
   "id": "7bcf8b51-8005-4171-b942-4399810c394a",
   "metadata": {},
   "outputs": [],
   "source": []
  },
  {
   "cell_type": "markdown",
   "id": "d737e991",
   "metadata": {},
   "source": [
    "## Retrieve and Output the Query"
   ]
  },
  {
   "cell_type": "code",
   "execution_count": 12,
   "id": "996031b4",
   "metadata": {},
   "outputs": [
    {
     "name": "stdout",
     "output_type": "stream",
     "text": [
      "Running step generate_sql_response\n",
      "Step generate_sql_response produced event StopEvent\n"
     ]
    }
   ],
   "source": [
    "result = await sql_workflow.run(query=query)"
   ]
  },
  {
   "cell_type": "code",
   "execution_count": 13,
   "id": "d2e79469",
   "metadata": {
    "tags": []
   },
   "outputs": [
    {
     "data": {
      "text/plain": [
       "Response(response=\"I’m sorry, I couldn’t find any emails to Cynthia Hobbs. To help me find the emails you're looking for, could you please provide additional information, such as a date range, the sender's email address, or keywords from the email subject or body?\\n\", source_nodes=[NodeWithScore(node=TextNode(id_='6b900f06-710d-4dd1-a671-3f0855e02b8f', embedding=None, metadata={'sql_query': \"SELECT email_subject FROM email_data WHERE to_emails ~* '\\\\yjane\\\\.doe\\\\@example\\\\.com\\\\y' ORDER BY email_timestamp\", 'result': [], 'col_keys': ['email_subject']}, excluded_embed_metadata_keys=['sql_query', 'result', 'col_keys'], excluded_llm_metadata_keys=['sql_query', 'result', 'col_keys'], relationships={}, metadata_template='{key}: {value}', metadata_separator='\\n', text='[]', mimetype='text/plain', start_char_idx=None, end_char_idx=None, metadata_seperator='\\n', text_template='{metadata_str}\\n\\n{content}'), score=None)], metadata={'6b900f06-710d-4dd1-a671-3f0855e02b8f': {'sql_query': \"SELECT email_subject FROM email_data WHERE to_emails ~* '\\\\yjane\\\\.doe\\\\@example\\\\.com\\\\y' ORDER BY email_timestamp\", 'result': [], 'col_keys': ['email_subject']}, 'sql_query': \"SELECT email_subject FROM email_data WHERE to_emails ~* '\\\\yjane\\\\.doe\\\\@example\\\\.com\\\\y' ORDER BY email_timestamp\", 'result': [], 'col_keys': ['email_subject'], 'user_query': 'Show me emails to Cynthia Hobbs'})"
      ]
     },
     "execution_count": 13,
     "metadata": {},
     "output_type": "execute_result"
    }
   ],
   "source": [
    "result"
   ]
  },
  {
   "cell_type": "code",
   "execution_count": null,
   "id": "efd010d4-0f01-4da4-97e8-e2057bb3130e",
   "metadata": {},
   "outputs": [],
   "source": []
  },
  {
   "cell_type": "code",
   "execution_count": null,
   "id": "8634153f-12ed-4059-9f87-f091a7873aa8",
   "metadata": {},
   "outputs": [],
   "source": []
  }
 ],
 "metadata": {
  "environment": {
   "kernel": "conda-env-xf_currensee-xf_currensee",
   "name": "workbench-notebooks.m129",
   "type": "gcloud",
   "uri": "us-docker.pkg.dev/deeplearning-platform-release/gcr.io/workbench-notebooks:m129"
  },
  "kernelspec": {
   "display_name": "xf_currensee",
   "language": "python",
   "name": "conda-env-xf_currensee-xf_currensee"
  },
  "language_info": {
   "codemirror_mode": {
    "name": "ipython",
    "version": 3
   },
   "file_extension": ".py",
   "mimetype": "text/x-python",
   "name": "python",
   "nbconvert_exporter": "python",
   "pygments_lexer": "ipython3",
   "version": "3.11.12"
  }
 },
 "nbformat": 4,
 "nbformat_minor": 5
}
