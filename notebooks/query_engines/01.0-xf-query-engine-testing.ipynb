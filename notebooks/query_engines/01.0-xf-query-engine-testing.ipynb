{
 "cells": [
  {
   "cell_type": "markdown",
   "id": "3b526a7d",
   "metadata": {},
   "source": [
    "# SQL Query Engine Sample\n",
    "This notebook demonstrates the implementation and usage of the SQL query engine."
   ]
  },
  {
   "cell_type": "markdown",
   "id": "026a09de-9831-48a1-9fb9-40a296623b78",
   "metadata": {},
   "source": [
    "## IMPORTANT\n",
    "If you are going to use this notebook, please make a copy of it and change the name so that \n",
    "this notebook may be preserved for others as an example!"
   ]
  },
  {
   "cell_type": "code",
   "execution_count": 1,
   "id": "9d2662a2",
   "metadata": {},
   "outputs": [],
   "source": [
    "from currensee.schema.schema import PostgresTables\n",
    "from currensee.query_engines.sql_query_engine.query_engine import create_sql_workflow\n",
    "from currensee.utils.db_utils import create_pg_engine\n",
    "from currensee.query_engines.workflow_descriptions import outlook_email_table_desc, outlook_meeting_table_desc"
   ]
  },
  {
   "cell_type": "code",
   "execution_count": 2,
   "id": "d42b7691",
   "metadata": {},
   "outputs": [],
   "source": [
    "# required to run asynchronous code\n",
    "\n",
    "import nest_asyncio\n",
    "\n",
    "nest_asyncio.apply()"
   ]
  },
  {
   "cell_type": "markdown",
   "id": "9560132a",
   "metadata": {},
   "source": [
    "## Create the SQL Workflow"
   ]
  },
  {
   "cell_type": "markdown",
   "id": "69f02c7c-2583-4de4-926a-0d5a18f15ce2",
   "metadata": {},
   "source": [
    "The SQL workflow can take the following parameters:\n",
    "\n",
    "1. source_db: the name of the database where the table is stored (e.g. `crm`)\n",
    "2. source_tables: a list of the name(s) of the table(s) that we want the query engine to have access to\n",
    "  * note that multiple tables can be passed - this is if you want the query engine to try to join tables\n",
    "    in the queries that may have relationships to one another\n",
    "  * THIS IS LEVEL 2!! So do not attempt until you get the hang of just using one table at a time!!\n",
    "    \n",
    "3. table_descriptions: a list of the description(s) of the table(s) passed above\n",
    "4. text_to_sql_tmpl: a string containing the prompt telling the LLM how to produce the SQL query from the text given\n",
    "   * defaults to the variable `text_to_sql_tmpl` defined in `currensee.query_engines.prompting.py`\n",
    "   * you may override this by passing in your own string\n",
    "5. response_synthesis_prompt_str: a string containing the prompt telling the LLM how to synthesize the final response from the SQL table(s)\n",
    "   * defaults to the variable `response_synthesis_prompt_str` defined in `currensee.query_engines.prompting.py`\n",
    "   * you may override this by passing in your own string\n",
    "6. model: the name of the model to use for all of the tasks\n",
    "   * defaults to `gemini-1.5-flash`\n",
    "   * you may override this with any of the models defined at https://ai.google.dev/gemini-api/docs/models#model-variations using the string with dashes defined in the \"Model variant\" column.\n",
    "   * **BE VERY CAREFUL TO PAY ATTENTION TO THE PRICING!!!!!** I recommend that you use the default model until you understand the other models better!!!\n",
    "7. temperature: the temperature parameter to pass to the model\n",
    "   * default is 0.0\n",
    "   * the higher the temperature, the more creative it is. Recommend keeping low for the SQL query generation."
   ]
  },
  {
   "cell_type": "code",
   "execution_count": 3,
   "id": "57c3e716-5563-4244-bfa1-27cb8f6e9fa7",
   "metadata": {},
   "outputs": [
    {
     "name": "stdout",
     "output_type": "stream",
     "text": [
      "['email_data', 'meeting_data']\n"
     ]
    }
   ],
   "source": [
    "from sqlalchemy import create_engine, text, inspect\n",
    "engine = create_pg_engine('outlook')\n",
    "inspector = inspect(engine)\n",
    "tables = inspector.get_table_names()\n",
    "print(tables)\n"
   ]
  },
  {
   "cell_type": "code",
   "execution_count": 4,
   "id": "367efd7b-20ce-4d6a-8825-bee7b3e4ea0d",
   "metadata": {},
   "outputs": [
    {
     "name": "stdout",
     "output_type": "stream",
     "text": [
      "email_data: ['email_timestamp', 'to_names', 'to_emails', 'from_name', 'from_email', 'email_subject', 'email_body']\n",
      "meeting_data: ['meeting_timestamp', 'host', 'host_email', 'invitees', 'invitee_emails', 'meeting_subject']\n"
     ]
    }
   ],
   "source": [
    "for table in ['email_data', 'meeting_data']: print(f\"{table}: {[col['name'] for col in inspect(engine).get_columns(table)]}\")"
   ]
  },
  {
   "cell_type": "markdown",
   "id": "45c5b6b3-fbc9-4163-b724-4d682f7e628b",
   "metadata": {},
   "source": [
    "### Below is the default defined in `prompting.py`"
   ]
  },
  {
   "cell_type": "code",
   "execution_count": 5,
   "id": "4f635abe-41d5-47b8-b073-2467ab2bed69",
   "metadata": {},
   "outputs": [],
   "source": [
    "text_to_sql_tmpl = \"\"\"\n",
    "    Given an input question, first create a syntactically correct {dialect} query to run, then look at the results of the query and return the answer.\n",
    "    You can order the results by the find_date column (from earliest to latest) to return the most interesting examples in the database.\n",
    "\n",
    "    GUIDELINES:\n",
    "    * Never query for all the columns from a specific table, only ask for a few relevant columns given the question.\n",
    "    * Pay attention to use only the column names that you can see in the schema description.\n",
    "    * Be careful to not query for columns that do not exist.\n",
    "    * Pay attention to which column is in which table.\n",
    "    * Make sure to filter on all criteria mentioned in the query.\n",
    "    * If using a LIMIT to restrict the results, make sure it comes only in the end of the query.\n",
    "\n",
    "    IMPORTANT NOTE:\n",
    "    * Use the ~* operator instead of = when filtering with WHERE on text columns.\n",
    "    * Add word boundaries '\\y' to the beginning and end of each search term in the query.\n",
    "\n",
    "    You are required to use the following format, each taking one line:\n",
    "\n",
    "    Question: Question here\n",
    "    SQLQuery: SQL Query to run\n",
    "    SQLResult: Result of the SQLQuery\n",
    "    Answer: Final answer here\n",
    "\n",
    "    Only use tables listed below.\n",
    "    {schema}\n",
    "\n",
    "    Question: {query_str}\n",
    "    SQLQuery:\n",
    "\n",
    "\"\"\"\n"
   ]
  },
  {
   "cell_type": "markdown",
   "id": "0697edf0-736a-4271-b57c-58f279fc6993",
   "metadata": {},
   "source": [
    "### Below is the default defined in `prompting.py`"
   ]
  },
  {
   "cell_type": "code",
   "execution_count": 6,
   "id": "b00ae072-006d-4ded-82ed-6fdbd688a2ad",
   "metadata": {},
   "outputs": [],
   "source": [
    "response_synthesis_prompt_str = \"\"\"\n",
    "\n",
    "    Query: {query_str}\n",
    "    SQL: {sql_query}\n",
    "    SQL Response: {context_str}\n",
    "\n",
    "    IMPORTANT INSTRUCTIONS:\n",
    "    * If SQL Response is empty or 0, apologise and mention that you could not find\n",
    "     examples to answer the query.\n",
    "    * In such cases, kindly nudge the user towards providing more details or refining\n",
    "    their search.\n",
    "    * Additionally, you can tell them to rephrase specific keywords.\n",
    "    * Do not explicitly state phrases such as 'based on the SQL query executed' or related\n",
    "     references to context in your Response.\n",
    "    * Never mention the underlying sql query, or the underling sql tables and other database elements\n",
    "    * Never mention that sql was used to answer this question\n",
    "\n",
    "    Considering the IMPORTANT INSTRUCTIONS above, create an response using the information\n",
    "    returned from the database and no prior knowledge.\n",
    "\n",
    "\n",
    "    Response:\n",
    "\"\"\""
   ]
  },
  {
   "cell_type": "markdown",
   "id": "1848116a-52f9-413e-a778-89c185c5602d",
   "metadata": {},
   "source": [
    "### Define the DB information\n",
    "**IMPORTANT**: The table names MUST be lowercase in order for the engine to find them."
   ]
  },
  {
   "cell_type": "code",
   "execution_count": 7,
   "id": "f85b2203-b85f-4bf0-992e-0586f2a86db9",
   "metadata": {},
   "outputs": [],
   "source": [
    "source_db = 'outlook'\n",
    "table_description_mapping = {\n",
    "    'email_data': outlook_email_table_desc,\n",
    "    'meeting_data': outlook_meeting_table_desc\n",
    "}"
   ]
  },
  {
   "cell_type": "code",
   "execution_count": 8,
   "id": "2f0ea45f",
   "metadata": {},
   "outputs": [],
   "source": [
    "sql_workflow = create_sql_workflow(\n",
    "    source_db=source_db,\n",
    "    table_description_mapping=table_description_mapping,\n",
    "    text_to_sql_tmpl=text_to_sql_tmpl,\n",
    "    response_synthesis_prompt_str=response_synthesis_prompt_str\n",
    ")"
   ]
  },
  {
   "cell_type": "markdown",
   "id": "51a2b1c6",
   "metadata": {},
   "source": [
    "## Define the Query"
   ]
  },
  {
   "cell_type": "code",
   "execution_count": 15,
   "id": "782f531a",
   "metadata": {},
   "outputs": [],
   "source": [
    "query = \"Show all the email correspondence Jane had with Cynthia Hobbs\""
   ]
  },
  {
   "cell_type": "code",
   "execution_count": null,
   "id": "7bcf8b51-8005-4171-b942-4399810c394a",
   "metadata": {},
   "outputs": [],
   "source": []
  },
  {
   "cell_type": "markdown",
   "id": "d737e991",
   "metadata": {},
   "source": [
    "## Retrieve and Output the Query"
   ]
  },
  {
   "cell_type": "code",
   "execution_count": 16,
   "id": "996031b4",
   "metadata": {},
   "outputs": [
    {
     "name": "stdout",
     "output_type": "stream",
     "text": [
      "Running step generate_sql_response\n",
      "Step generate_sql_response produced event StopEvent\n"
     ]
    }
   ],
   "source": [
    "result = await sql_workflow.run(query=query)"
   ]
  },
  {
   "cell_type": "code",
   "execution_count": 17,
   "id": "d2e79469",
   "metadata": {
    "tags": []
   },
   "outputs": [
    {
     "data": {
      "text/plain": [
       "Response(response='Here is the email correspondence between Jane Moneypenny and Cynthia Hobbs:\\n\\n**2018-07-15 09:30:00:**  Jane introduced herself and Bankwell Financial Services, proposing a call to discuss corporate financial solutions for AbbVie.\\n\\n**2018-07-16 11:15:00:** Jane confirmed a meeting time with Cynthia.\\n\\n**2019-06-12 09:45:00:** Jane followed up on the implementation of a new cash concentration structure at AbbVie.\\n\\n**2020-06-15 11:30:00:** Jane proposed scheduling a quarterly relationship review call.\\n\\n**2020-06-16 13:15:00:** Jane confirmed the time for the quarterly relationship review call.\\n\\n**2021-06-10 14:00:00:** Jane offered information on International ACH (IAT) payments.\\n\\n**2021-06-11 11:30:00:** Jane followed up on the IAT information, attaching a service overview.\\n\\n**2022-06-22 11:30:00:** Jane discussed setting up IAT payments for AbbVie.\\n\\n**2022-06-23 10:15:00:** Jane confirmed that an IAT specialist would contact Cynthia to schedule a setup call.\\n\\n**2023-07-06 11:00:00:** Jane proposed scheduling a Q3 2023 quarterly relationship review call.\\n\\n**2023-07-07 13:45:00:** Jane confirmed the time for the Q3 2023 quarterly relationship review call.\\n', source_nodes=[NodeWithScore(node=TextNode(id_='1f1c7278-a681-4f63-aeb0-2812813c98ab', embedding=None, metadata={'sql_query': \"SELECT email_timestamp, from_name, from_email, to_names, to_emails, email_subject, email_body FROM email_data WHERE (from_email ~* '\\\\yjane\\\\.moneypenny1\\\\@outlook\\\\.com\\\\y' AND to_names ~* '\\\\yCynthia Hobbs\\\\y') OR (to_emails ~* '\\\\ycynthia\\\\.hobbs\\\\@.*\\\\y' AND from_name ~* '\\\\yJane Moneypenny\\\\y') ORDER BY email_timestamp\", 'result': [('2018-07-15 09:30:00', 'Jane Moneypenny', 'jane.moneypenny1@outlook.com', 'Cynthia Hobbs', 'cynthia.hobbs@abbvie.com', 'Introduction - Bankwell Financial Services for AbbVie', \"Hi Cynthia,\\\\n\\\\nMy name is Jane Moneypenny, and I'm a Financial Advisor with Bankwell Financial, specializing in corporate financial solutions for the Healthcare sector. I came across your profile and wanted to reach out to see if AbbVie might benefit from our expertise in cash management, investment strategies, and risk mitigation.\\\\n\\\\nWould you be open to a brief introductory call sometime next week?\\\\n\\\\nBest regards,\\\\n\\\\n--\\\\nJane Moneypenny\\\\nFinancial Advisor\\\\nBankwell Financial\\\\nPhone: (555) 123-4567\\\\nEmail: jane.moneypenny1@outlook.com\\\\n\"), ('2018-07-16 11:15:00', 'Jane Moneypenny', 'jane.moneypenny1@outlook.com', 'Cynthia Hobbs', 'cynthia.hobbs@abbvie.com', 'Re: Introduction - Bankwell Financial Services for AbbVie', \"Hi Cynthia,\\\\n\\\\nTuesday at 2 PM CT works perfectly. I'll send a calendar invitation shortly. Looking forward to our conversation.\\\\n\\\\nBest regards,\\\\n\\\\n--\\\\nJane Moneypenny\\\\nFinancial Advisor\\\\nBankwell Financial\\\\nPhone: (555) 123-4567\\\\nEmail: jane.moneypenny1@outlook.com\\\\n\"), ('2019-06-12 09:45:00', 'Jane Moneypenny', 'jane.moneypenny1@outlook.com', 'Cynthia Hobbs', 'cynthia.hobbs@abbvie.com', 'AbbVie - Cash Management Implementation Update', 'Hi Cynthia,\\\\n\\\\nI hope the implementation of the new cash concentration structure is proceeding smoothly. Our operations team confirmed the final account linkages went live yesterday.\\\\n\\\\nPlease let me know if you or your team have encountered any issues or have any questions as you start using the new setup. We want to ensure a seamless transition.\\\\n\\\\nBest regards,\\\\n\\\\n--\\\\nJane Moneypenny\\\\nFinancial Advisor\\\\nBankwell Financial\\\\nPhone: (555) 123-4567\\\\nEmail: jane.moneypenny1@outlook.com\\\\n'), ('2020-06-15 11:30:00', 'Jane Moneypenny', 'jane.moneypenny1@outlook.com', 'Cynthia Hobbs', 'cynthia.hobbs@abbvie.com', 'AbbVie - Quarterly Relationship Review', \"Hi Cynthia,\\\\n\\\\nI'd like to schedule our standard quarterly relationship review call for sometime in early July.\\\\n\\\\nWe can review the performance of the cash management structure, discuss any upcoming financial needs or projects at AbbVie, and provide a brief market update. Please let me know what dates/times work best for you.\\\\n\\\\nBest regards,\\\\n\\\\n--\\\\nJane Moneypenny\\\\nFinancial Advisor\\\\nBankwell Financial\\\\nPhone: (555) 123-4567\\\\nEmail: jane.moneypenny1@outlook.com\\\\n\"), ('2020-06-16 13:15:00', 'Jane Moneypenny', 'jane.moneypenny1@outlook.com', 'Cynthia Hobbs', 'cynthia.hobbs@abbvie.com', 'Re: AbbVie - Quarterly Relationship Review', \"Hi Cynthia,\\\\n\\\\nJuly 7th at 11 AM CT is confirmed. I'll send the meeting invite.\\\\n\\\\nBest regards,\\\\n\\\\n--\\\\nJane Moneypenny\\\\nFinancial Advisor\\\\nBankwell Financial\\\\nPhone: (555) 123-4567\\\\nEmail: jane.moneypenny1@outlook.com\\\\n\"), ('2021-06-10 14:00:00', 'Jane Moneypenny', 'jane.moneypenny1@outlook.com', 'Cynthia Hobbs', 'cynthia.hobbs@abbvie.com', 'AbbVie - Information on International ACH (IAT) Payments', 'Hi Cynthia,\\\\n\\\\nDuring our last review, you briefly mentioned exploring more efficient ways to handle certain recurring international payments. Bankwell offers International ACH (IAT) capabilities, which can often be more cost-effective than wires for specific types of cross-border payments.\\\\n\\\\nWould you be interested in learning more about our IAT service, including country coverage and processing requirements?\\\\n\\\\nBest regards,\\\\n\\\\n--\\\\nJane Moneypenny\\\\nFinancial Advisor\\\\nBankwell Financial\\\\nPhone: (555) 123-4567\\\\nEmail: jane.moneypenny1@outlook.com\\\\n'), ('2021-06-11 11:30:00', 'Jane Moneypenny', 'jane.moneypenny1@outlook.com', 'Cynthia Hobbs', 'cynthia.hobbs@abbvie.com', 'Re: AbbVie - Information on International ACH (IAT) Payments', \"Hi Cynthia,\\\\n\\\\nWill do. I've attached our IAT service overview, which includes country details and a general comparison to wire transfer fees. Happy to discuss specifics for your payment flows when you're ready.\\\\n\\\\nBest regards,\\\\n\\\\n--\\\\nJane Moneypenny\\\\nFinancial Advisor\\\\nBankwell Financial\\\\nPhone: (555) 123-4567\\\\nEmail: jane.moneypenny1@outlook.com\\\\n\"), ('2022-06-22 11:30:00', 'Jane Moneypenny', 'jane.moneypenny1@outlook.com', 'Cynthia Hobbs', 'cynthia.hobbs@abbvie.com', 'AbbVie - Setting up IAT Payments', \"Hi Cynthia,\\\\n\\\\nFollowing up on the International ACH (IAT) information I sent. If AbbVie would like to proceed with setting up IAT payments for specific beneficiaries (e.g., in Canada or Europe), there's a brief setup process involved.\\\\n\\\\nWe would need the beneficiary bank details in the required format and would activate the IAT capability on your Treasury Management platform. Would you like to schedule a call with our operations team to walk through the setup?\\\\n\\\\nBest regards,\\\\n\\\\n--\\\\nJane Moneypenny\\\\nFinancial Advisor\\\\nBankwell Financial\\\\nPhone: (555) 123-4567\\\\nEmail: jane.moneypenny1@outlook.com\\\\n\"), ('2022-06-23 10:15:00', 'Jane Moneypenny', 'jane.moneypenny1@outlook.com', 'Cynthia Hobbs', 'cynthia.hobbs@abbvie.com', 'Re: AbbVie - Setting up IAT Payments', \"Hi Cynthia,\\\\n\\\\nExcellent. I'll have our IAT specialist reach out to you directly with their availability for next week to schedule the setup call.\\\\n\\\\nBest regards,\\\\n\\\\n--\\\\nJane Moneypenny\\\\nFinancial Advisor\\\\nBankwell Financial\\\\nPhone: (555) 123-4567\\\\nEmail: jane.moneypenny1@outlook.com\\\\n\"), ('2023-07-06 11:00:00', 'Jane Moneypenny', 'jane.moneypenny1@outlook.com', 'Cynthia Hobbs', 'cynthia.hobbs@abbvie.com', 'AbbVie - Quarterly Relationship Review - Q3 2023', 'Hi Cynthia,\\\\n\\\\nTime to schedule our Q3 relationship review call. Can we aim for sometime in the second half of July?\\\\n\\\\nWe can cover the performance of the cash management and IAT services, discuss any upcoming initiatives at AbbVie, and provide a market/economic update.\\\\n\\\\nBest regards,\\\\n\\\\n--\\\\nJane Moneypenny\\\\nFinancial Advisor\\\\nBankwell Financial\\\\nPhone: (555) 123-4567\\\\nEmail: jane.moneypenny1@outlook.com\\\\n'), ('2023-07-07 13:45:00', 'Jane Moneypenny', 'jane.moneypenny1@outlook.com', 'Cynthia Hobbs', 'cynthia.hobbs@abbvie.com', 'Re: AbbVie - Quarterly Relationship Review - Q3 2023', \"Hi Cynthia,\\\\n\\\\nJuly 25th at 1 PM CT works well. I'll send the invite.\\\\n\\\\nBest regards,\\\\n\\\\n--\\\\nJane Moneypenny\\\\nFinancial Advisor\\\\nBankwell Financial\\\\nPhone: (555) 123-4567\\\\nEmail: jane.moneypenny1@outlook.com\\\\n\")], 'col_keys': ['email_timestamp', 'from_name', 'from_email', 'to_names', 'to_emails', 'email_subject', 'email_body']}, excluded_embed_metadata_keys=['sql_query', 'result', 'col_keys'], excluded_llm_metadata_keys=['sql_query', 'result', 'col_keys'], relationships={}, metadata_template='{key}: {value}', metadata_separator='\\n', text='[(\\'2018-07-15 09:30:00\\', \\'Jane Moneypenny\\', \\'jane.moneypenny1@outlook.com\\', \\'Cynthia Hobbs\\', \\'cynthia.hobbs@abbvie.com\\', \\'Introduction - Bankwell Financial Services for AbbVie\\', \"Hi Cynthia,\\\\\\\\n\\\\\\\\nMy name is Jane Moneypenny, and I\\'m a Financial Advisor with Bankwell Financial, specializing in corporate financial solutions for the Healthcare sector. I came across your profile and wanted to reach out to see if AbbVie might benefit from our expertise in cash management, investment strategies, and risk mitigation.\\\\\\\\n\\\\\\\\nWould you be open to a brief introductory call sometime next week?\\\\\\\\n\\\\\\\\nBest regards,\\\\\\\\n\\\\\\\\n--\\\\\\\\nJane Moneypenny\\\\\\\\nFinancial Advisor\\\\\\\\nBankwell Financial\\\\\\\\nPhone: (555) 123-4567\\\\\\\\nEmail: jane.moneypenny1@outlook.com\\\\\\\\n\"), (\\'2018-07-16 11:15:00\\', \\'Jane Moneypenny\\', \\'jane.moneypenny1@outlook.com\\', \\'Cynthia Hobbs\\', \\'cynthia.hobbs@abbvie.com\\', \\'Re: Introduction - Bankwell Financial Services for AbbVie\\', \"Hi Cynthia,\\\\\\\\n\\\\\\\\nTuesday at 2 PM CT works perfectly. I\\'ll send a calendar invitation shortly. Looking forward to our conversation.\\\\\\\\n\\\\\\\\nBest regards,\\\\\\\\n\\\\\\\\n--\\\\\\\\nJane Moneypenny\\\\\\\\nFinancial Advisor\\\\\\\\nBankwell Financial\\\\\\\\nPhone: (555) 123-4567\\\\\\\\nEmail: jane.moneypenny1@outlook.com\\\\\\\\n\"), (\\'2019-06-12 09:45:00\\', \\'Jane Moneypenny\\', \\'jane.moneypenny1@outlook.com\\', \\'Cynthia Hobbs\\', \\'cynthia.hobbs@abbvie.com\\', \\'AbbVie - Cash Management Implementation Update\\', \\'Hi Cynthia,\\\\\\\\n\\\\\\\\nI hope the implementation of the new cash concentration structure is proceeding smoothly. Our operations team confirmed the final account linkages went live yesterday.\\\\\\\\n\\\\\\\\nPlease let me know if you or your team have encountered any issues or have any questions as you start using the new setup. We want to ensure a seamless transition.\\\\\\\\n\\\\\\\\nBest regards,\\\\\\\\n\\\\\\\\n--\\\\\\\\nJane Moneypenny\\\\\\\\nFinancial Advisor\\\\\\\\nBankwell Financial\\\\\\\\nPhone: (555) 123-4567\\\\\\\\nEmail: jane.moneypenny1@outlook.com\\\\\\\\n\\'), (\\'2020-06-15 11:30:00\\', \\'Jane Moneypenny\\', \\'jane.moneypenny1@outlook.com\\', \\'Cynthia Hobbs\\', \\'cynthia.hobbs@abbvie.com\\', \\'AbbVie - Quarterly Relationship Review\\', \"Hi Cynthia,\\\\\\\\n\\\\\\\\nI\\'d like to schedule our standard quarterly relationship review call for sometime in early July.\\\\\\\\n\\\\\\\\nWe can review the performance of the cash management structure, discuss any upcoming financial needs or projects at AbbVie, and provide a brief market update. Please let me know what dates/times work best for you.\\\\\\\\n\\\\\\\\nBest regards,\\\\\\\\n\\\\\\\\n--\\\\\\\\nJane Moneypenny\\\\\\\\nFinancial Advisor\\\\\\\\nBankwell Financial\\\\\\\\nPhone: (555) 123-4567\\\\\\\\nEmail: jane.moneypenny1@outlook.com\\\\\\\\n\"), (\\'2020-06-16 13:15:00\\', \\'Jane Moneypenny\\', \\'jane.moneypenny1@outlook.com\\', \\'Cynthia Hobbs\\', \\'cynthia.hobbs@abbvie.com\\', \\'Re: AbbVie - Quarterly Relationship Review\\', \"Hi Cynthia,\\\\\\\\n\\\\\\\\nJuly 7th at 11 AM CT is confirmed. I\\'ll send the meeting invite.\\\\\\\\n\\\\\\\\nBest regards,\\\\\\\\n\\\\\\\\n--\\\\\\\\nJane Moneypenny\\\\\\\\nFinancial Advisor\\\\\\\\nBankwell Financial\\\\\\\\nPhone: (555) 123-4567\\\\\\\\nEmail: jane.moneypenny1@outlook.com\\\\\\\\n\"), (\\'2021-06-10 14:00:00\\', \\'Jane Moneypenny\\', \\'jane.moneypenny1@outlook.com\\', \\'Cynthia Hobbs\\', \\'cynthia.hobbs@abbvie.com\\', \\'AbbVie - Information on International ACH (IAT) Payments\\', \\'Hi Cynthia,\\\\\\\\n\\\\\\\\nDuring our last review, you briefly mentioned exploring more efficient ways to handle certain recurring international payments. Bankwell offers International ACH (IAT) capabilities, which can often be more cost-effective than wires for specific types of cross-border payments.\\\\\\\\n\\\\\\\\nWould you be interested in learning more about our IAT service, including country coverage and processing requirements?\\\\\\\\n\\\\\\\\nBest regards,\\\\\\\\n\\\\\\\\n--\\\\\\\\nJane Moneypenny\\\\\\\\nFinancial Advisor\\\\\\\\nBankwell Financial\\\\\\\\nPhone: (555) 123-4567\\\\\\\\nEmail: jane.moneypenny1@outlook.com\\\\\\\\n\\'), (\\'2021-06-11 11:30:00\\', \\'Jane Moneypenny\\', \\'jane.moneypenny1@outlook.com\\', \\'Cynthia Hobbs\\', \\'cynthia.hobbs@abbvie.com\\', \\'Re: AbbVie - Information on International ACH (IAT) Payments\\', \"Hi Cynthia,\\\\\\\\n\\\\\\\\nWill do. I\\'ve attached our IAT service overview, which includes country details and a general comparison to wire transfer fees. Happy to discuss specifics for your payment flows when you\\'re ready.\\\\\\\\n\\\\\\\\nBest regards,\\\\\\\\n\\\\\\\\n--\\\\\\\\nJane Moneypenny\\\\\\\\nFinancial Advisor\\\\\\\\nBankwell Financial\\\\\\\\nPhone: (555) 123-4567\\\\\\\\nEmail: jane.moneypenny1@outlook.com\\\\\\\\n\"), (\\'2022-06-22 11:30:00\\', \\'Jane Moneypenny\\', \\'jane.moneypenny1@outlook.com\\', \\'Cynthia Hobbs\\', \\'cynthia.hobbs@abbvie.com\\', \\'AbbVie - Setting up IAT Payments\\', \"Hi Cynthia,\\\\\\\\n\\\\\\\\nFollowing up on the International ACH (IAT) information I sent. If AbbVie would like to proceed with setting up IAT payments for specific beneficiaries (e.g., in Canada or Europe), there\\'s a brief setup process involved.\\\\\\\\n\\\\\\\\nWe would need the beneficiary bank details in the required format and would activate the IAT capability on your Treasury Management platform. Would you like to schedule a call with our operations team to walk through the setup?\\\\\\\\n\\\\\\\\nBest regards,\\\\\\\\n\\\\\\\\n--\\\\\\\\nJane Moneypenny\\\\\\\\nFinancial Advisor\\\\\\\\nBankwell Financial\\\\\\\\nPhone: (555) 123-4567\\\\\\\\nEmail: jane.moneypenny1@outlook.com\\\\\\\\n\"), (\\'2022-06-23 10:15:00\\', \\'Jane Moneypenny\\', \\'jane.moneypenny1@outlook.com\\', \\'Cynthia Hobbs\\', \\'cynthia.hobbs@abbvie.com\\', \\'Re: AbbVie - Setting up IAT Payments\\', \"Hi Cynthia,\\\\\\\\n\\\\\\\\nExcellent. I\\'ll have our IAT specialist reach out to you directly with their availability for next week to schedule the setup call.\\\\\\\\n\\\\\\\\nBest regards,\\\\\\\\n\\\\\\\\n--\\\\\\\\nJane Moneypenny\\\\\\\\nFinancial Advisor\\\\\\\\nBankwell Financial\\\\\\\\nPhone: (555) 123-4567\\\\\\\\nEmail: jane.moneypenny1@outlook.com\\\\\\\\n\"), (\\'2023-07-06 11:00:00\\', \\'Jane Moneypenny\\', \\'jane.moneypenny1@outlook.com\\', \\'Cynthia Hobbs\\', \\'cynthia.hobbs@abbvie.com\\', \\'AbbVie - Quarterly Relationship Review - Q3 2023\\', \\'Hi Cynthia,\\\\\\\\n\\\\\\\\nTime to schedule our Q3 relationship review call. Can we aim for sometime in the second half of July?\\\\\\\\n\\\\\\\\nWe can cover the performance of the cash management and IAT services, discuss any upcoming initiatives at AbbVie, and provide a market/economic update.\\\\\\\\n\\\\\\\\nBest regards,\\\\\\\\n\\\\\\\\n--\\\\\\\\nJane Moneypenny\\\\\\\\nFinancial Advisor\\\\\\\\nBankwell Financial\\\\\\\\nPhone: (555) 123-4567\\\\\\\\nEmail: jane.moneypenny1@outlook.com\\\\\\\\n\\'), (\\'2023-07-07 13:45:00\\', \\'Jane Moneypenny\\', \\'jane.moneypenny1@outlook.com\\', \\'Cynthia Hobbs\\', \\'cynthia.hobbs@abbvie.com\\', \\'Re: AbbVie - Quarterly Relationship Review - Q3 2023\\', \"Hi Cynthia,\\\\\\\\n\\\\\\\\nJuly 25th at 1 PM CT works well. I\\'ll send the invite.\\\\\\\\n\\\\\\\\nBest regards,\\\\\\\\n\\\\\\\\n--\\\\\\\\nJane Moneypenny\\\\\\\\nFinancial Advisor\\\\\\\\nBankwell Financial\\\\\\\\nPhone: (555) 123-4567\\\\\\\\nEmail: jane.moneypenny1@outlook.com\\\\\\\\n\")]', mimetype='text/plain', start_char_idx=None, end_char_idx=None, metadata_seperator='\\n', text_template='{metadata_str}\\n\\n{content}'), score=None)], metadata={'1f1c7278-a681-4f63-aeb0-2812813c98ab': {'sql_query': \"SELECT email_timestamp, from_name, from_email, to_names, to_emails, email_subject, email_body FROM email_data WHERE (from_email ~* '\\\\yjane\\\\.moneypenny1\\\\@outlook\\\\.com\\\\y' AND to_names ~* '\\\\yCynthia Hobbs\\\\y') OR (to_emails ~* '\\\\ycynthia\\\\.hobbs\\\\@.*\\\\y' AND from_name ~* '\\\\yJane Moneypenny\\\\y') ORDER BY email_timestamp\", 'result': [('2018-07-15 09:30:00', 'Jane Moneypenny', 'jane.moneypenny1@outlook.com', 'Cynthia Hobbs', 'cynthia.hobbs@abbvie.com', 'Introduction - Bankwell Financial Services for AbbVie', \"Hi Cynthia,\\\\n\\\\nMy name is Jane Moneypenny, and I'm a Financial Advisor with Bankwell Financial, specializing in corporate financial solutions for the Healthcare sector. I came across your profile and wanted to reach out to see if AbbVie might benefit from our expertise in cash management, investment strategies, and risk mitigation.\\\\n\\\\nWould you be open to a brief introductory call sometime next week?\\\\n\\\\nBest regards,\\\\n\\\\n--\\\\nJane Moneypenny\\\\nFinancial Advisor\\\\nBankwell Financial\\\\nPhone: (555) 123-4567\\\\nEmail: jane.moneypenny1@outlook.com\\\\n\"), ('2018-07-16 11:15:00', 'Jane Moneypenny', 'jane.moneypenny1@outlook.com', 'Cynthia Hobbs', 'cynthia.hobbs@abbvie.com', 'Re: Introduction - Bankwell Financial Services for AbbVie', \"Hi Cynthia,\\\\n\\\\nTuesday at 2 PM CT works perfectly. I'll send a calendar invitation shortly. Looking forward to our conversation.\\\\n\\\\nBest regards,\\\\n\\\\n--\\\\nJane Moneypenny\\\\nFinancial Advisor\\\\nBankwell Financial\\\\nPhone: (555) 123-4567\\\\nEmail: jane.moneypenny1@outlook.com\\\\n\"), ('2019-06-12 09:45:00', 'Jane Moneypenny', 'jane.moneypenny1@outlook.com', 'Cynthia Hobbs', 'cynthia.hobbs@abbvie.com', 'AbbVie - Cash Management Implementation Update', 'Hi Cynthia,\\\\n\\\\nI hope the implementation of the new cash concentration structure is proceeding smoothly. Our operations team confirmed the final account linkages went live yesterday.\\\\n\\\\nPlease let me know if you or your team have encountered any issues or have any questions as you start using the new setup. We want to ensure a seamless transition.\\\\n\\\\nBest regards,\\\\n\\\\n--\\\\nJane Moneypenny\\\\nFinancial Advisor\\\\nBankwell Financial\\\\nPhone: (555) 123-4567\\\\nEmail: jane.moneypenny1@outlook.com\\\\n'), ('2020-06-15 11:30:00', 'Jane Moneypenny', 'jane.moneypenny1@outlook.com', 'Cynthia Hobbs', 'cynthia.hobbs@abbvie.com', 'AbbVie - Quarterly Relationship Review', \"Hi Cynthia,\\\\n\\\\nI'd like to schedule our standard quarterly relationship review call for sometime in early July.\\\\n\\\\nWe can review the performance of the cash management structure, discuss any upcoming financial needs or projects at AbbVie, and provide a brief market update. Please let me know what dates/times work best for you.\\\\n\\\\nBest regards,\\\\n\\\\n--\\\\nJane Moneypenny\\\\nFinancial Advisor\\\\nBankwell Financial\\\\nPhone: (555) 123-4567\\\\nEmail: jane.moneypenny1@outlook.com\\\\n\"), ('2020-06-16 13:15:00', 'Jane Moneypenny', 'jane.moneypenny1@outlook.com', 'Cynthia Hobbs', 'cynthia.hobbs@abbvie.com', 'Re: AbbVie - Quarterly Relationship Review', \"Hi Cynthia,\\\\n\\\\nJuly 7th at 11 AM CT is confirmed. I'll send the meeting invite.\\\\n\\\\nBest regards,\\\\n\\\\n--\\\\nJane Moneypenny\\\\nFinancial Advisor\\\\nBankwell Financial\\\\nPhone: (555) 123-4567\\\\nEmail: jane.moneypenny1@outlook.com\\\\n\"), ('2021-06-10 14:00:00', 'Jane Moneypenny', 'jane.moneypenny1@outlook.com', 'Cynthia Hobbs', 'cynthia.hobbs@abbvie.com', 'AbbVie - Information on International ACH (IAT) Payments', 'Hi Cynthia,\\\\n\\\\nDuring our last review, you briefly mentioned exploring more efficient ways to handle certain recurring international payments. Bankwell offers International ACH (IAT) capabilities, which can often be more cost-effective than wires for specific types of cross-border payments.\\\\n\\\\nWould you be interested in learning more about our IAT service, including country coverage and processing requirements?\\\\n\\\\nBest regards,\\\\n\\\\n--\\\\nJane Moneypenny\\\\nFinancial Advisor\\\\nBankwell Financial\\\\nPhone: (555) 123-4567\\\\nEmail: jane.moneypenny1@outlook.com\\\\n'), ('2021-06-11 11:30:00', 'Jane Moneypenny', 'jane.moneypenny1@outlook.com', 'Cynthia Hobbs', 'cynthia.hobbs@abbvie.com', 'Re: AbbVie - Information on International ACH (IAT) Payments', \"Hi Cynthia,\\\\n\\\\nWill do. I've attached our IAT service overview, which includes country details and a general comparison to wire transfer fees. Happy to discuss specifics for your payment flows when you're ready.\\\\n\\\\nBest regards,\\\\n\\\\n--\\\\nJane Moneypenny\\\\nFinancial Advisor\\\\nBankwell Financial\\\\nPhone: (555) 123-4567\\\\nEmail: jane.moneypenny1@outlook.com\\\\n\"), ('2022-06-22 11:30:00', 'Jane Moneypenny', 'jane.moneypenny1@outlook.com', 'Cynthia Hobbs', 'cynthia.hobbs@abbvie.com', 'AbbVie - Setting up IAT Payments', \"Hi Cynthia,\\\\n\\\\nFollowing up on the International ACH (IAT) information I sent. If AbbVie would like to proceed with setting up IAT payments for specific beneficiaries (e.g., in Canada or Europe), there's a brief setup process involved.\\\\n\\\\nWe would need the beneficiary bank details in the required format and would activate the IAT capability on your Treasury Management platform. Would you like to schedule a call with our operations team to walk through the setup?\\\\n\\\\nBest regards,\\\\n\\\\n--\\\\nJane Moneypenny\\\\nFinancial Advisor\\\\nBankwell Financial\\\\nPhone: (555) 123-4567\\\\nEmail: jane.moneypenny1@outlook.com\\\\n\"), ('2022-06-23 10:15:00', 'Jane Moneypenny', 'jane.moneypenny1@outlook.com', 'Cynthia Hobbs', 'cynthia.hobbs@abbvie.com', 'Re: AbbVie - Setting up IAT Payments', \"Hi Cynthia,\\\\n\\\\nExcellent. I'll have our IAT specialist reach out to you directly with their availability for next week to schedule the setup call.\\\\n\\\\nBest regards,\\\\n\\\\n--\\\\nJane Moneypenny\\\\nFinancial Advisor\\\\nBankwell Financial\\\\nPhone: (555) 123-4567\\\\nEmail: jane.moneypenny1@outlook.com\\\\n\"), ('2023-07-06 11:00:00', 'Jane Moneypenny', 'jane.moneypenny1@outlook.com', 'Cynthia Hobbs', 'cynthia.hobbs@abbvie.com', 'AbbVie - Quarterly Relationship Review - Q3 2023', 'Hi Cynthia,\\\\n\\\\nTime to schedule our Q3 relationship review call. Can we aim for sometime in the second half of July?\\\\n\\\\nWe can cover the performance of the cash management and IAT services, discuss any upcoming initiatives at AbbVie, and provide a market/economic update.\\\\n\\\\nBest regards,\\\\n\\\\n--\\\\nJane Moneypenny\\\\nFinancial Advisor\\\\nBankwell Financial\\\\nPhone: (555) 123-4567\\\\nEmail: jane.moneypenny1@outlook.com\\\\n'), ('2023-07-07 13:45:00', 'Jane Moneypenny', 'jane.moneypenny1@outlook.com', 'Cynthia Hobbs', 'cynthia.hobbs@abbvie.com', 'Re: AbbVie - Quarterly Relationship Review - Q3 2023', \"Hi Cynthia,\\\\n\\\\nJuly 25th at 1 PM CT works well. I'll send the invite.\\\\n\\\\nBest regards,\\\\n\\\\n--\\\\nJane Moneypenny\\\\nFinancial Advisor\\\\nBankwell Financial\\\\nPhone: (555) 123-4567\\\\nEmail: jane.moneypenny1@outlook.com\\\\n\")], 'col_keys': ['email_timestamp', 'from_name', 'from_email', 'to_names', 'to_emails', 'email_subject', 'email_body']}, 'sql_query': \"SELECT email_timestamp, from_name, from_email, to_names, to_emails, email_subject, email_body FROM email_data WHERE (from_email ~* '\\\\yjane\\\\.moneypenny1\\\\@outlook\\\\.com\\\\y' AND to_names ~* '\\\\yCynthia Hobbs\\\\y') OR (to_emails ~* '\\\\ycynthia\\\\.hobbs\\\\@.*\\\\y' AND from_name ~* '\\\\yJane Moneypenny\\\\y') ORDER BY email_timestamp\", 'result': [('2018-07-15 09:30:00', 'Jane Moneypenny', 'jane.moneypenny1@outlook.com', 'Cynthia Hobbs', 'cynthia.hobbs@abbvie.com', 'Introduction - Bankwell Financial Services for AbbVie', \"Hi Cynthia,\\\\n\\\\nMy name is Jane Moneypenny, and I'm a Financial Advisor with Bankwell Financial, specializing in corporate financial solutions for the Healthcare sector. I came across your profile and wanted to reach out to see if AbbVie might benefit from our expertise in cash management, investment strategies, and risk mitigation.\\\\n\\\\nWould you be open to a brief introductory call sometime next week?\\\\n\\\\nBest regards,\\\\n\\\\n--\\\\nJane Moneypenny\\\\nFinancial Advisor\\\\nBankwell Financial\\\\nPhone: (555) 123-4567\\\\nEmail: jane.moneypenny1@outlook.com\\\\n\"), ('2018-07-16 11:15:00', 'Jane Moneypenny', 'jane.moneypenny1@outlook.com', 'Cynthia Hobbs', 'cynthia.hobbs@abbvie.com', 'Re: Introduction - Bankwell Financial Services for AbbVie', \"Hi Cynthia,\\\\n\\\\nTuesday at 2 PM CT works perfectly. I'll send a calendar invitation shortly. Looking forward to our conversation.\\\\n\\\\nBest regards,\\\\n\\\\n--\\\\nJane Moneypenny\\\\nFinancial Advisor\\\\nBankwell Financial\\\\nPhone: (555) 123-4567\\\\nEmail: jane.moneypenny1@outlook.com\\\\n\"), ('2019-06-12 09:45:00', 'Jane Moneypenny', 'jane.moneypenny1@outlook.com', 'Cynthia Hobbs', 'cynthia.hobbs@abbvie.com', 'AbbVie - Cash Management Implementation Update', 'Hi Cynthia,\\\\n\\\\nI hope the implementation of the new cash concentration structure is proceeding smoothly. Our operations team confirmed the final account linkages went live yesterday.\\\\n\\\\nPlease let me know if you or your team have encountered any issues or have any questions as you start using the new setup. We want to ensure a seamless transition.\\\\n\\\\nBest regards,\\\\n\\\\n--\\\\nJane Moneypenny\\\\nFinancial Advisor\\\\nBankwell Financial\\\\nPhone: (555) 123-4567\\\\nEmail: jane.moneypenny1@outlook.com\\\\n'), ('2020-06-15 11:30:00', 'Jane Moneypenny', 'jane.moneypenny1@outlook.com', 'Cynthia Hobbs', 'cynthia.hobbs@abbvie.com', 'AbbVie - Quarterly Relationship Review', \"Hi Cynthia,\\\\n\\\\nI'd like to schedule our standard quarterly relationship review call for sometime in early July.\\\\n\\\\nWe can review the performance of the cash management structure, discuss any upcoming financial needs or projects at AbbVie, and provide a brief market update. Please let me know what dates/times work best for you.\\\\n\\\\nBest regards,\\\\n\\\\n--\\\\nJane Moneypenny\\\\nFinancial Advisor\\\\nBankwell Financial\\\\nPhone: (555) 123-4567\\\\nEmail: jane.moneypenny1@outlook.com\\\\n\"), ('2020-06-16 13:15:00', 'Jane Moneypenny', 'jane.moneypenny1@outlook.com', 'Cynthia Hobbs', 'cynthia.hobbs@abbvie.com', 'Re: AbbVie - Quarterly Relationship Review', \"Hi Cynthia,\\\\n\\\\nJuly 7th at 11 AM CT is confirmed. I'll send the meeting invite.\\\\n\\\\nBest regards,\\\\n\\\\n--\\\\nJane Moneypenny\\\\nFinancial Advisor\\\\nBankwell Financial\\\\nPhone: (555) 123-4567\\\\nEmail: jane.moneypenny1@outlook.com\\\\n\"), ('2021-06-10 14:00:00', 'Jane Moneypenny', 'jane.moneypenny1@outlook.com', 'Cynthia Hobbs', 'cynthia.hobbs@abbvie.com', 'AbbVie - Information on International ACH (IAT) Payments', 'Hi Cynthia,\\\\n\\\\nDuring our last review, you briefly mentioned exploring more efficient ways to handle certain recurring international payments. Bankwell offers International ACH (IAT) capabilities, which can often be more cost-effective than wires for specific types of cross-border payments.\\\\n\\\\nWould you be interested in learning more about our IAT service, including country coverage and processing requirements?\\\\n\\\\nBest regards,\\\\n\\\\n--\\\\nJane Moneypenny\\\\nFinancial Advisor\\\\nBankwell Financial\\\\nPhone: (555) 123-4567\\\\nEmail: jane.moneypenny1@outlook.com\\\\n'), ('2021-06-11 11:30:00', 'Jane Moneypenny', 'jane.moneypenny1@outlook.com', 'Cynthia Hobbs', 'cynthia.hobbs@abbvie.com', 'Re: AbbVie - Information on International ACH (IAT) Payments', \"Hi Cynthia,\\\\n\\\\nWill do. I've attached our IAT service overview, which includes country details and a general comparison to wire transfer fees. Happy to discuss specifics for your payment flows when you're ready.\\\\n\\\\nBest regards,\\\\n\\\\n--\\\\nJane Moneypenny\\\\nFinancial Advisor\\\\nBankwell Financial\\\\nPhone: (555) 123-4567\\\\nEmail: jane.moneypenny1@outlook.com\\\\n\"), ('2022-06-22 11:30:00', 'Jane Moneypenny', 'jane.moneypenny1@outlook.com', 'Cynthia Hobbs', 'cynthia.hobbs@abbvie.com', 'AbbVie - Setting up IAT Payments', \"Hi Cynthia,\\\\n\\\\nFollowing up on the International ACH (IAT) information I sent. If AbbVie would like to proceed with setting up IAT payments for specific beneficiaries (e.g., in Canada or Europe), there's a brief setup process involved.\\\\n\\\\nWe would need the beneficiary bank details in the required format and would activate the IAT capability on your Treasury Management platform. Would you like to schedule a call with our operations team to walk through the setup?\\\\n\\\\nBest regards,\\\\n\\\\n--\\\\nJane Moneypenny\\\\nFinancial Advisor\\\\nBankwell Financial\\\\nPhone: (555) 123-4567\\\\nEmail: jane.moneypenny1@outlook.com\\\\n\"), ('2022-06-23 10:15:00', 'Jane Moneypenny', 'jane.moneypenny1@outlook.com', 'Cynthia Hobbs', 'cynthia.hobbs@abbvie.com', 'Re: AbbVie - Setting up IAT Payments', \"Hi Cynthia,\\\\n\\\\nExcellent. I'll have our IAT specialist reach out to you directly with their availability for next week to schedule the setup call.\\\\n\\\\nBest regards,\\\\n\\\\n--\\\\nJane Moneypenny\\\\nFinancial Advisor\\\\nBankwell Financial\\\\nPhone: (555) 123-4567\\\\nEmail: jane.moneypenny1@outlook.com\\\\n\"), ('2023-07-06 11:00:00', 'Jane Moneypenny', 'jane.moneypenny1@outlook.com', 'Cynthia Hobbs', 'cynthia.hobbs@abbvie.com', 'AbbVie - Quarterly Relationship Review - Q3 2023', 'Hi Cynthia,\\\\n\\\\nTime to schedule our Q3 relationship review call. Can we aim for sometime in the second half of July?\\\\n\\\\nWe can cover the performance of the cash management and IAT services, discuss any upcoming initiatives at AbbVie, and provide a market/economic update.\\\\n\\\\nBest regards,\\\\n\\\\n--\\\\nJane Moneypenny\\\\nFinancial Advisor\\\\nBankwell Financial\\\\nPhone: (555) 123-4567\\\\nEmail: jane.moneypenny1@outlook.com\\\\n'), ('2023-07-07 13:45:00', 'Jane Moneypenny', 'jane.moneypenny1@outlook.com', 'Cynthia Hobbs', 'cynthia.hobbs@abbvie.com', 'Re: AbbVie - Quarterly Relationship Review - Q3 2023', \"Hi Cynthia,\\\\n\\\\nJuly 25th at 1 PM CT works well. I'll send the invite.\\\\n\\\\nBest regards,\\\\n\\\\n--\\\\nJane Moneypenny\\\\nFinancial Advisor\\\\nBankwell Financial\\\\nPhone: (555) 123-4567\\\\nEmail: jane.moneypenny1@outlook.com\\\\n\")], 'col_keys': ['email_timestamp', 'from_name', 'from_email', 'to_names', 'to_emails', 'email_subject', 'email_body'], 'user_query': 'Show all the email correspondence Jane had with Cynthia Hobbs'})"
      ]
     },
     "execution_count": 17,
     "metadata": {},
     "output_type": "execute_result"
    }
   ],
   "source": [
    "result"
   ]
  },
  {
   "cell_type": "code",
   "execution_count": 12,
   "id": "efd010d4-0f01-4da4-97e8-e2057bb3130e",
   "metadata": {},
   "outputs": [
    {
     "name": "stdout",
     "output_type": "stream",
     "text": [
      "('2018-07-15 09:30:00', 'Cynthia Hobbs', 'cynthia.hobbs@abbvie.com', 'Jane Moneypenny', 'jane.moneypenny1@outlook.com', 'Introduction - Bankwell Financial Services for AbbVie', \"Hi Cynthia,\\\\n\\\\nMy name is Jane Moneypenny, and I'm a Financial Advisor with Bankwell Financial, specializing in corporate financial solutions for t ... (260 characters truncated) ... n\\\\nBest regards,\\\\n\\\\n--\\\\nJane Moneypenny\\\\nFinancial Advisor\\\\nBankwell Financial\\\\nPhone: (555) 123-4567\\\\nEmail: jane.moneypenny1@outlook.com\\\\n\")\n",
      "('2018-07-16 11:15:00', 'Cynthia Hobbs', 'cynthia.hobbs@abbvie.com', 'Jane Moneypenny', 'jane.moneypenny1@outlook.com', 'Re: Introduction - Bankwell Financial Services for AbbVie', \"Hi Cynthia,\\\\n\\\\nTuesday at 2 PM CT works perfectly. I'll send a calendar invitation shortly. Looking forward to our conversation.\\\\n\\\\nBest regards,\\\\n\\\\n--\\\\nJane Moneypenny\\\\nFinancial Advisor\\\\nBankwell Financial\\\\nPhone: (555) 123-4567\\\\nEmail: jane.moneypenny1@outlook.com\\\\n\")\n",
      "('2019-06-12 09:45:00', 'Cynthia Hobbs', 'cynthia.hobbs@abbvie.com', 'Jane Moneypenny', 'jane.moneypenny1@outlook.com', 'AbbVie - Cash Management Implementation Update', 'Hi Cynthia,\\\\n\\\\nI hope the implementation of the new cash concentration structure is proceeding smoothly. Our operations team confirmed the final ac ... (206 characters truncated) ... n\\\\nBest regards,\\\\n\\\\n--\\\\nJane Moneypenny\\\\nFinancial Advisor\\\\nBankwell Financial\\\\nPhone: (555) 123-4567\\\\nEmail: jane.moneypenny1@outlook.com\\\\n')\n",
      "('2020-06-15 11:30:00', 'Cynthia Hobbs', 'cynthia.hobbs@abbvie.com', 'Jane Moneypenny', 'jane.moneypenny1@outlook.com', 'AbbVie - Quarterly Relationship Review', \"Hi Cynthia,\\\\n\\\\nI'd like to schedule our standard quarterly relationship review call for sometime in early July.\\\\n\\\\nWe can review the performance  ... (185 characters truncated) ... n\\\\nBest regards,\\\\n\\\\n--\\\\nJane Moneypenny\\\\nFinancial Advisor\\\\nBankwell Financial\\\\nPhone: (555) 123-4567\\\\nEmail: jane.moneypenny1@outlook.com\\\\n\")\n",
      "('2020-06-16 13:15:00', 'Cynthia Hobbs', 'cynthia.hobbs@abbvie.com', 'Jane Moneypenny', 'jane.moneypenny1@outlook.com', 'Re: AbbVie - Quarterly Relationship Review', \"Hi Cynthia,\\\\n\\\\nJuly 7th at 11 AM CT is confirmed. I'll send the meeting invite.\\\\n\\\\nBest regards,\\\\n\\\\n--\\\\nJane Moneypenny\\\\nFinancial Advisor\\\\nBankwell Financial\\\\nPhone: (555) 123-4567\\\\nEmail: jane.moneypenny1@outlook.com\\\\n\")\n",
      "('2021-06-10 14:00:00', 'Cynthia Hobbs', 'cynthia.hobbs@abbvie.com', 'Jane Moneypenny', 'jane.moneypenny1@outlook.com', 'AbbVie - Information on International ACH (IAT) Payments', 'Hi Cynthia,\\\\n\\\\nDuring our last review, you briefly mentioned exploring more efficient ways to handle certain recurring international payments. Bank ... (271 characters truncated) ... n\\\\nBest regards,\\\\n\\\\n--\\\\nJane Moneypenny\\\\nFinancial Advisor\\\\nBankwell Financial\\\\nPhone: (555) 123-4567\\\\nEmail: jane.moneypenny1@outlook.com\\\\n')\n",
      "('2021-06-11 11:30:00', 'Cynthia Hobbs', 'cynthia.hobbs@abbvie.com', 'Jane Moneypenny', 'jane.moneypenny1@outlook.com', 'Re: AbbVie - Information on International ACH (IAT) Payments', \"Hi Cynthia,\\\\n\\\\nWill do. I've attached our IAT service overview, which includes country details and a general comparison to wire transfer fees. Happ ... (66 characters truncated) ... n\\\\nBest regards,\\\\n\\\\n--\\\\nJane Moneypenny\\\\nFinancial Advisor\\\\nBankwell Financial\\\\nPhone: (555) 123-4567\\\\nEmail: jane.moneypenny1@outlook.com\\\\n\")\n",
      "('2022-06-22 11:30:00', 'Cynthia Hobbs', 'cynthia.hobbs@abbvie.com', 'Jane Moneypenny', 'jane.moneypenny1@outlook.com', 'AbbVie - Setting up IAT Payments', \"Hi Cynthia,\\\\n\\\\nFollowing up on the International ACH (IAT) information I sent. If AbbVie would like to proceed with setting up IAT payments for spe ... (323 characters truncated) ... n\\\\nBest regards,\\\\n\\\\n--\\\\nJane Moneypenny\\\\nFinancial Advisor\\\\nBankwell Financial\\\\nPhone: (555) 123-4567\\\\nEmail: jane.moneypenny1@outlook.com\\\\n\")\n",
      "('2022-06-23 10:15:00', 'Cynthia Hobbs', 'cynthia.hobbs@abbvie.com', 'Jane Moneypenny', 'jane.moneypenny1@outlook.com', 'Re: AbbVie - Setting up IAT Payments', \"Hi Cynthia,\\\\n\\\\nExcellent. I'll have our IAT specialist reach out to you directly with their availability for next week to schedule the setup call.\\ ... (1 characters truncated) ... n\\\\nBest regards,\\\\n\\\\n--\\\\nJane Moneypenny\\\\nFinancial Advisor\\\\nBankwell Financial\\\\nPhone: (555) 123-4567\\\\nEmail: jane.moneypenny1@outlook.com\\\\n\")\n",
      "('2023-07-06 11:00:00', 'Cynthia Hobbs', 'cynthia.hobbs@abbvie.com', 'Jane Moneypenny', 'jane.moneypenny1@outlook.com', 'AbbVie - Quarterly Relationship Review - Q3 2023', 'Hi Cynthia,\\\\n\\\\nTime to schedule our Q3 relationship review call. Can we aim for sometime in the second half of July?\\\\n\\\\nWe can cover the performa ... (128 characters truncated) ... n\\\\nBest regards,\\\\n\\\\n--\\\\nJane Moneypenny\\\\nFinancial Advisor\\\\nBankwell Financial\\\\nPhone: (555) 123-4567\\\\nEmail: jane.moneypenny1@outlook.com\\\\n')\n",
      "('2023-07-07 13:45:00', 'Cynthia Hobbs', 'cynthia.hobbs@abbvie.com', 'Jane Moneypenny', 'jane.moneypenny1@outlook.com', 'Re: AbbVie - Quarterly Relationship Review - Q3 2023', \"Hi Cynthia,\\\\n\\\\nJuly 25th at 1 PM CT works well. I'll send the invite.\\\\n\\\\nBest regards,\\\\n\\\\n--\\\\nJane Moneypenny\\\\nFinancial Advisor\\\\nBankwell Financial\\\\nPhone: (555) 123-4567\\\\nEmail: jane.moneypenny1@outlook.com\\\\n\")\n"
     ]
    }
   ],
   "source": [
    "query = text(\"\"\"\n",
    "SELECT *\n",
    "FROM email_data\n",
    "WHERE to_names LIKE '%Cynthia Hobbs%';\n",
    "\"\"\")\n",
    "\n",
    "with engine.connect() as conn:\n",
    "    result = conn.execute(query)\n",
    "    for row in result:\n",
    "        print(row)"
   ]
  },
  {
   "cell_type": "markdown",
   "id": "475b7961-9d4a-49d9-a5b7-b83a0b112051",
   "metadata": {},
   "source": [
    "## Test Query"
   ]
  },
  {
   "cell_type": "code",
   "execution_count": 18,
   "id": "099b19c7-5a3a-401a-ba16-d6ae8911fa5d",
   "metadata": {},
   "outputs": [],
   "source": [
    "query = \"what did Jane discussed with Jennifer Phelps\""
   ]
  },
  {
   "cell_type": "code",
   "execution_count": 19,
   "id": "38cafaea-87e6-422e-b3ab-951026c3e361",
   "metadata": {},
   "outputs": [
    {
     "name": "stdout",
     "output_type": "stream",
     "text": [
      "Running step generate_sql_response\n",
      "Step generate_sql_response produced event StopEvent\n"
     ]
    },
    {
     "data": {
      "text/plain": [
       "Response(response=\"Jane and Jennifer Phelps discussed AeroVironment's financial strategy, focusing on FX risk management for international components sourcing.  Their conversations also covered currency hedging solutions, specifically EUR/USD forwards for 3 and 6-month terms.  They successfully executed EUR/USD forward contracts for Q3.  Further discussions included AeroVironment's potential implementation of a supply chain finance (SCF) program,  reviewing program details, scheduling calls to discuss potential benefits and implementation, and following up on the progress of identifying a pilot supplier group for the SCF program.\\n\", source_nodes=[NodeWithScore(node=TextNode(id_='146260ef-634b-4c29-902f-2d2ae91ea053', embedding=None, metadata={'sql_query': \"SELECT email_body FROM email_data WHERE (from_email ~* '\\\\yjane\\\\.moneypenny1\\\\@outlook\\\\.com\\\\y' AND to_names ~* '\\\\yJennifer Phelps\\\\y') OR (to_emails ~* '\\\\yjennifer\\\\.phelps\\\\@example\\\\.com\\\\y' AND from_name ~* '\\\\yJane Moneypenny\\\\y') ORDER BY email_timestamp\", 'result': [(\"Hi Jennifer,\\\\n\\\\nIt was a pleasure speaking with you last week regarding AeroVironment's financial strategy, particularly around FX risk management for your international components sourcing. \\\\n\\\\nAs discussed, I've attached a preliminary overview of Bankwell's currency hedging solutions that could be relevant. Let me know if you have any initial questions or would like to dive deeper into specific options.\\\\n\\\\nBest regards,\\\\n\\\\n--\\\\nJane Moneypenny\\\\nFinancial Advisor\\\\nBankwell Financial\\\\nPhone: (555) 123-4567\\\\nEmail: jane.moneypenny1@outlook.com\\\\n\",), (\"Hi Jennifer,\\\\n\\\\nCertainly. I've run indicative pricing based on today's market close for EUR/USD forwards. Please see the attached summary for 3 and 6-month terms. Keep in mind these are indicative and subject to market fluctuations until execution.\\\\n\\\\nHappy to discuss further.\\\\n\\\\nBest regards,\\\\n\\\\n--\\\\nJane Moneypenny\\\\nFinancial Advisor\\\\nBankwell Financial\\\\nPhone: (555) 123-4567\\\\nEmail: jane.moneypenny1@outlook.com\\\\n\",), ('Hi Jennifer,\\\\n\\\\nJust confirming that we successfully executed the EUR/USD forward contracts for Q3 as discussed this morning at the agreed rate of 1.1250.\\\\n\\\\nThe confirmation details are attached. Please let me know if you require anything further.\\\\n\\\\nBest regards,\\\\n\\\\n--\\\\nJane Moneypenny\\\\nFinancial Advisor\\\\nBankwell Financial\\\\nPhone: (555) 123-4567\\\\nEmail: jane.moneypenny1@outlook.com\\\\n',), (\"Hi Jennifer,\\\\n\\\\nHope you're well. I know AeroVironment works with a diverse set of suppliers. Has there been any discussion internally about implementing a supply chain finance (SCF) or approved vendor payment program?\\\\n\\\\nBankwell offers SCF solutions that can help optimize working capital for both AeroVironment and your key suppliers. Just wanted to gauge if this is an area of potential interest.\\\\n\\\\nBest regards,\\\\n\\\\n--\\\\nJane Moneypenny\\\\nFinancial Advisor\\\\nBankwell Financial\\\\nPhone: (555) 123-4567\\\\nEmail: jane.moneypenny1@outlook.com\\\\n\",), ('Hi Jennifer,\\\\n\\\\nAbsolutely. Attached is an overview of our Supply Chain Finance program. It explains how the program works, the benefits for buyers and suppliers, and the typical implementation process. Happy to discuss further if it seems like a potential fit.\\\\n\\\\nBest regards,\\\\n\\\\n--\\\\nJane Moneypenny\\\\nFinancial Advisor\\\\nBankwell Financial\\\\nPhone: (555) 123-4567\\\\nEmail: jane.moneypenny1@outlook.com\\\\n',), ('Hi Jennifer,\\\\n\\\\nFollowing up on the information I sent regarding our Supply Chain Finance program. Has your team had a chance to consider if this might be a fit for AeroVironment?\\\\n\\\\nHappy to schedule a call to discuss the potential benefits, understand your supplier base better, and answer any questions about implementation.\\\\n\\\\nBest regards,\\\\n\\\\n--\\\\nJane Moneypenny\\\\nFinancial Advisor\\\\nBankwell Financial\\\\nPhone: (555) 123-4567\\\\nEmail: jane.moneypenny1@outlook.com\\\\n',), (\"Hi Jennifer,\\\\n\\\\nExcellent. Wednesday at 1 PM PT works for me. I'll send a calendar invitation. I look forward to discussing how SCF could benefit AeroVironment.\\\\n\\\\nBest regards,\\\\n\\\\n--\\\\nJane Moneypenny\\\\nFinancial Advisor\\\\nBankwell Financial\\\\nPhone: (555) 123-4567\\\\nEmail: jane.moneypenny1@outlook.com\\\\n\",), (\"Hi Jennifer,\\\\n\\\\nHope you had a productive discussion following our call on the Supply Chain Finance program last week.\\\\n\\\\nWhat are the potential next steps from AeroVironment's perspective? Typically this would involve identifying a pilot group of suppliers and analyzing the potential working capital benefits more formally.\\\\n\\\\nBest regards,\\\\n\\\\n--\\\\nJane Moneypenny\\\\nFinancial Advisor\\\\nBankwell Financial\\\\nPhone: (555) 123-4567\\\\nEmail: jane.moneypenny1@outlook.com\\\\n\",), ('Hi Jennifer,\\\\n\\\\nChecking in on the status of identifying the pilot supplier group for the potential Supply Chain Finance program we discussed.\\\\n\\\\nAny progress or estimated timeline on when AeroVironment might be ready to move to the next stage of analysis?\\\\n\\\\nBest regards,\\\\n\\\\n--\\\\nJane Moneypenny\\\\nFinancial Advisor\\\\nBankwell Financial\\\\nPhone: (555) 123-4567\\\\nEmail: jane.moneypenny1@outlook.com\\\\n',), (\"Hi Jennifer,\\\\n\\\\nThat's great progress. Yes, I'm available early next week. How about Tuesday at 11 AM PT?\\\\n\\\\nBest regards,\\\\n\\\\n--\\\\nJane Moneypenny\\\\nFinancial Advisor\\\\nBankwell Financial\\\\nPhone: (555) 123-4567\\\\nEmail: jane.moneypenny1@outlook.com\\\\n\",)], 'col_keys': ['email_body']}, excluded_embed_metadata_keys=['sql_query', 'result', 'col_keys'], excluded_llm_metadata_keys=['sql_query', 'result', 'col_keys'], relationships={}, metadata_template='{key}: {value}', metadata_separator='\\n', text='[(\"Hi Jennifer,\\\\\\\\n\\\\\\\\nIt was a pleasure speaking with you last week regarding AeroVironment\\'s financial strategy, particularly around FX risk management for your international components sourcing. \\\\\\\\n\\\\\\\\nAs discussed, I\\'ve attached a preliminary overview of Bankwell\\'s currency hedging solutions that could be relevant. Let me know if you have any initial questions or would like to dive deeper into specific options.\\\\\\\\n\\\\\\\\nBest regards,\\\\\\\\n\\\\\\\\n--\\\\\\\\nJane Moneypenny\\\\\\\\nFinancial Advisor\\\\\\\\nBankwell Financial\\\\\\\\nPhone: (555) 123-4567\\\\\\\\nEmail: jane.moneypenny1@outlook.com\\\\\\\\n\",), (\"Hi Jennifer,\\\\\\\\n\\\\\\\\nCertainly. I\\'ve run indicative pricing based on today\\'s market close for EUR/USD forwards. Please see the attached summary for 3 and 6-month terms. Keep in mind these are indicative and subject to market fluctuations until execution.\\\\\\\\n\\\\\\\\nHappy to discuss further.\\\\\\\\n\\\\\\\\nBest regards,\\\\\\\\n\\\\\\\\n--\\\\\\\\nJane Moneypenny\\\\\\\\nFinancial Advisor\\\\\\\\nBankwell Financial\\\\\\\\nPhone: (555) 123-4567\\\\\\\\nEmail: jane.moneypenny1@outlook.com\\\\\\\\n\",), (\\'Hi Jennifer,\\\\\\\\n\\\\\\\\nJust confirming that we successfully executed the EUR/USD forward contracts for Q3 as discussed this morning at the agreed rate of 1.1250.\\\\\\\\n\\\\\\\\nThe confirmation details are attached. Please let me know if you require anything further.\\\\\\\\n\\\\\\\\nBest regards,\\\\\\\\n\\\\\\\\n--\\\\\\\\nJane Moneypenny\\\\\\\\nFinancial Advisor\\\\\\\\nBankwell Financial\\\\\\\\nPhone: (555) 123-4567\\\\\\\\nEmail: jane.moneypenny1@outlook.com\\\\\\\\n\\',), (\"Hi Jennifer,\\\\\\\\n\\\\\\\\nHope you\\'re well. I know AeroVironment works with a diverse set of suppliers. Has there been any discussion internally about implementing a supply chain finance (SCF) or approved vendor payment program?\\\\\\\\n\\\\\\\\nBankwell offers SCF solutions that can help optimize working capital for both AeroVironment and your key suppliers. Just wanted to gauge if this is an area of potential interest.\\\\\\\\n\\\\\\\\nBest regards,\\\\\\\\n\\\\\\\\n--\\\\\\\\nJane Moneypenny\\\\\\\\nFinancial Advisor\\\\\\\\nBankwell Financial\\\\\\\\nPhone: (555) 123-4567\\\\\\\\nEmail: jane.moneypenny1@outlook.com\\\\\\\\n\",), (\\'Hi Jennifer,\\\\\\\\n\\\\\\\\nAbsolutely. Attached is an overview of our Supply Chain Finance program. It explains how the program works, the benefits for buyers and suppliers, and the typical implementation process. Happy to discuss further if it seems like a potential fit.\\\\\\\\n\\\\\\\\nBest regards,\\\\\\\\n\\\\\\\\n--\\\\\\\\nJane Moneypenny\\\\\\\\nFinancial Advisor\\\\\\\\nBankwell Financial\\\\\\\\nPhone: (555) 123-4567\\\\\\\\nEmail: jane.moneypenny1@outlook.com\\\\\\\\n\\',), (\\'Hi Jennifer,\\\\\\\\n\\\\\\\\nFollowing up on the information I sent regarding our Supply Chain Finance program. Has your team had a chance to consider if this might be a fit for AeroVironment?\\\\\\\\n\\\\\\\\nHappy to schedule a call to discuss the potential benefits, understand your supplier base better, and answer any questions about implementation.\\\\\\\\n\\\\\\\\nBest regards,\\\\\\\\n\\\\\\\\n--\\\\\\\\nJane Moneypenny\\\\\\\\nFinancial Advisor\\\\\\\\nBankwell Financial\\\\\\\\nPhone: (555) 123-4567\\\\\\\\nEmail: jane.moneypenny1@outlook.com\\\\\\\\n\\',), (\"Hi Jennifer,\\\\\\\\n\\\\\\\\nExcellent. Wednesday at 1 PM PT works for me. I\\'ll send a calendar invitation. I look forward to discussing how SCF could benefit AeroVironment.\\\\\\\\n\\\\\\\\nBest regards,\\\\\\\\n\\\\\\\\n--\\\\\\\\nJane Moneypenny\\\\\\\\nFinancial Advisor\\\\\\\\nBankwell Financial\\\\\\\\nPhone: (555) 123-4567\\\\\\\\nEmail: jane.moneypenny1@outlook.com\\\\\\\\n\",), (\"Hi Jennifer,\\\\\\\\n\\\\\\\\nHope you had a productive discussion following our call on the Supply Chain Finance program last week.\\\\\\\\n\\\\\\\\nWhat are the potential next steps from AeroVironment\\'s perspective? Typically this would involve identifying a pilot group of suppliers and analyzing the potential working capital benefits more formally.\\\\\\\\n\\\\\\\\nBest regards,\\\\\\\\n\\\\\\\\n--\\\\\\\\nJane Moneypenny\\\\\\\\nFinancial Advisor\\\\\\\\nBankwell Financial\\\\\\\\nPhone: (555) 123-4567\\\\\\\\nEmail: jane.moneypenny1@outlook.com\\\\\\\\n\",), (\\'Hi Jennifer,\\\\\\\\n\\\\\\\\nChecking in on the status of identifying the pilot supplier group for the potential Supply Chain Finance program we discussed.\\\\\\\\n\\\\\\\\nAny progress or estimated timeline on when AeroVironment might be ready to move to the next stage of analysis?\\\\\\\\n\\\\\\\\nBest regards,\\\\\\\\n\\\\\\\\n--\\\\\\\\nJane Moneypenny\\\\\\\\nFinancial Advisor\\\\\\\\nBankwell Financial\\\\\\\\nPhone: (555) 123-4567\\\\\\\\nEmail: jane.moneypenny1@outlook.com\\\\\\\\n\\',), (\"Hi Jennifer,\\\\\\\\n\\\\\\\\nThat\\'s great progress. Yes, I\\'m available early next week. How about Tuesday at 11 AM PT?\\\\\\\\n\\\\\\\\nBest regards,\\\\\\\\n\\\\\\\\n--\\\\\\\\nJane Moneypenny\\\\\\\\nFinancial Advisor\\\\\\\\nBankwell Financial\\\\\\\\nPhone: (555) 123-4567\\\\\\\\nEmail: jane.moneypenny1@outlook.com\\\\\\\\n\",)]', mimetype='text/plain', start_char_idx=None, end_char_idx=None, metadata_seperator='\\n', text_template='{metadata_str}\\n\\n{content}'), score=None)], metadata={'146260ef-634b-4c29-902f-2d2ae91ea053': {'sql_query': \"SELECT email_body FROM email_data WHERE (from_email ~* '\\\\yjane\\\\.moneypenny1\\\\@outlook\\\\.com\\\\y' AND to_names ~* '\\\\yJennifer Phelps\\\\y') OR (to_emails ~* '\\\\yjennifer\\\\.phelps\\\\@example\\\\.com\\\\y' AND from_name ~* '\\\\yJane Moneypenny\\\\y') ORDER BY email_timestamp\", 'result': [(\"Hi Jennifer,\\\\n\\\\nIt was a pleasure speaking with you last week regarding AeroVironment's financial strategy, particularly around FX risk management for your international components sourcing. \\\\n\\\\nAs discussed, I've attached a preliminary overview of Bankwell's currency hedging solutions that could be relevant. Let me know if you have any initial questions or would like to dive deeper into specific options.\\\\n\\\\nBest regards,\\\\n\\\\n--\\\\nJane Moneypenny\\\\nFinancial Advisor\\\\nBankwell Financial\\\\nPhone: (555) 123-4567\\\\nEmail: jane.moneypenny1@outlook.com\\\\n\",), (\"Hi Jennifer,\\\\n\\\\nCertainly. I've run indicative pricing based on today's market close for EUR/USD forwards. Please see the attached summary for 3 and 6-month terms. Keep in mind these are indicative and subject to market fluctuations until execution.\\\\n\\\\nHappy to discuss further.\\\\n\\\\nBest regards,\\\\n\\\\n--\\\\nJane Moneypenny\\\\nFinancial Advisor\\\\nBankwell Financial\\\\nPhone: (555) 123-4567\\\\nEmail: jane.moneypenny1@outlook.com\\\\n\",), ('Hi Jennifer,\\\\n\\\\nJust confirming that we successfully executed the EUR/USD forward contracts for Q3 as discussed this morning at the agreed rate of 1.1250.\\\\n\\\\nThe confirmation details are attached. Please let me know if you require anything further.\\\\n\\\\nBest regards,\\\\n\\\\n--\\\\nJane Moneypenny\\\\nFinancial Advisor\\\\nBankwell Financial\\\\nPhone: (555) 123-4567\\\\nEmail: jane.moneypenny1@outlook.com\\\\n',), (\"Hi Jennifer,\\\\n\\\\nHope you're well. I know AeroVironment works with a diverse set of suppliers. Has there been any discussion internally about implementing a supply chain finance (SCF) or approved vendor payment program?\\\\n\\\\nBankwell offers SCF solutions that can help optimize working capital for both AeroVironment and your key suppliers. Just wanted to gauge if this is an area of potential interest.\\\\n\\\\nBest regards,\\\\n\\\\n--\\\\nJane Moneypenny\\\\nFinancial Advisor\\\\nBankwell Financial\\\\nPhone: (555) 123-4567\\\\nEmail: jane.moneypenny1@outlook.com\\\\n\",), ('Hi Jennifer,\\\\n\\\\nAbsolutely. Attached is an overview of our Supply Chain Finance program. It explains how the program works, the benefits for buyers and suppliers, and the typical implementation process. Happy to discuss further if it seems like a potential fit.\\\\n\\\\nBest regards,\\\\n\\\\n--\\\\nJane Moneypenny\\\\nFinancial Advisor\\\\nBankwell Financial\\\\nPhone: (555) 123-4567\\\\nEmail: jane.moneypenny1@outlook.com\\\\n',), ('Hi Jennifer,\\\\n\\\\nFollowing up on the information I sent regarding our Supply Chain Finance program. Has your team had a chance to consider if this might be a fit for AeroVironment?\\\\n\\\\nHappy to schedule a call to discuss the potential benefits, understand your supplier base better, and answer any questions about implementation.\\\\n\\\\nBest regards,\\\\n\\\\n--\\\\nJane Moneypenny\\\\nFinancial Advisor\\\\nBankwell Financial\\\\nPhone: (555) 123-4567\\\\nEmail: jane.moneypenny1@outlook.com\\\\n',), (\"Hi Jennifer,\\\\n\\\\nExcellent. Wednesday at 1 PM PT works for me. I'll send a calendar invitation. I look forward to discussing how SCF could benefit AeroVironment.\\\\n\\\\nBest regards,\\\\n\\\\n--\\\\nJane Moneypenny\\\\nFinancial Advisor\\\\nBankwell Financial\\\\nPhone: (555) 123-4567\\\\nEmail: jane.moneypenny1@outlook.com\\\\n\",), (\"Hi Jennifer,\\\\n\\\\nHope you had a productive discussion following our call on the Supply Chain Finance program last week.\\\\n\\\\nWhat are the potential next steps from AeroVironment's perspective? Typically this would involve identifying a pilot group of suppliers and analyzing the potential working capital benefits more formally.\\\\n\\\\nBest regards,\\\\n\\\\n--\\\\nJane Moneypenny\\\\nFinancial Advisor\\\\nBankwell Financial\\\\nPhone: (555) 123-4567\\\\nEmail: jane.moneypenny1@outlook.com\\\\n\",), ('Hi Jennifer,\\\\n\\\\nChecking in on the status of identifying the pilot supplier group for the potential Supply Chain Finance program we discussed.\\\\n\\\\nAny progress or estimated timeline on when AeroVironment might be ready to move to the next stage of analysis?\\\\n\\\\nBest regards,\\\\n\\\\n--\\\\nJane Moneypenny\\\\nFinancial Advisor\\\\nBankwell Financial\\\\nPhone: (555) 123-4567\\\\nEmail: jane.moneypenny1@outlook.com\\\\n',), (\"Hi Jennifer,\\\\n\\\\nThat's great progress. Yes, I'm available early next week. How about Tuesday at 11 AM PT?\\\\n\\\\nBest regards,\\\\n\\\\n--\\\\nJane Moneypenny\\\\nFinancial Advisor\\\\nBankwell Financial\\\\nPhone: (555) 123-4567\\\\nEmail: jane.moneypenny1@outlook.com\\\\n\",)], 'col_keys': ['email_body']}, 'sql_query': \"SELECT email_body FROM email_data WHERE (from_email ~* '\\\\yjane\\\\.moneypenny1\\\\@outlook\\\\.com\\\\y' AND to_names ~* '\\\\yJennifer Phelps\\\\y') OR (to_emails ~* '\\\\yjennifer\\\\.phelps\\\\@example\\\\.com\\\\y' AND from_name ~* '\\\\yJane Moneypenny\\\\y') ORDER BY email_timestamp\", 'result': [(\"Hi Jennifer,\\\\n\\\\nIt was a pleasure speaking with you last week regarding AeroVironment's financial strategy, particularly around FX risk management for your international components sourcing. \\\\n\\\\nAs discussed, I've attached a preliminary overview of Bankwell's currency hedging solutions that could be relevant. Let me know if you have any initial questions or would like to dive deeper into specific options.\\\\n\\\\nBest regards,\\\\n\\\\n--\\\\nJane Moneypenny\\\\nFinancial Advisor\\\\nBankwell Financial\\\\nPhone: (555) 123-4567\\\\nEmail: jane.moneypenny1@outlook.com\\\\n\",), (\"Hi Jennifer,\\\\n\\\\nCertainly. I've run indicative pricing based on today's market close for EUR/USD forwards. Please see the attached summary for 3 and 6-month terms. Keep in mind these are indicative and subject to market fluctuations until execution.\\\\n\\\\nHappy to discuss further.\\\\n\\\\nBest regards,\\\\n\\\\n--\\\\nJane Moneypenny\\\\nFinancial Advisor\\\\nBankwell Financial\\\\nPhone: (555) 123-4567\\\\nEmail: jane.moneypenny1@outlook.com\\\\n\",), ('Hi Jennifer,\\\\n\\\\nJust confirming that we successfully executed the EUR/USD forward contracts for Q3 as discussed this morning at the agreed rate of 1.1250.\\\\n\\\\nThe confirmation details are attached. Please let me know if you require anything further.\\\\n\\\\nBest regards,\\\\n\\\\n--\\\\nJane Moneypenny\\\\nFinancial Advisor\\\\nBankwell Financial\\\\nPhone: (555) 123-4567\\\\nEmail: jane.moneypenny1@outlook.com\\\\n',), (\"Hi Jennifer,\\\\n\\\\nHope you're well. I know AeroVironment works with a diverse set of suppliers. Has there been any discussion internally about implementing a supply chain finance (SCF) or approved vendor payment program?\\\\n\\\\nBankwell offers SCF solutions that can help optimize working capital for both AeroVironment and your key suppliers. Just wanted to gauge if this is an area of potential interest.\\\\n\\\\nBest regards,\\\\n\\\\n--\\\\nJane Moneypenny\\\\nFinancial Advisor\\\\nBankwell Financial\\\\nPhone: (555) 123-4567\\\\nEmail: jane.moneypenny1@outlook.com\\\\n\",), ('Hi Jennifer,\\\\n\\\\nAbsolutely. Attached is an overview of our Supply Chain Finance program. It explains how the program works, the benefits for buyers and suppliers, and the typical implementation process. Happy to discuss further if it seems like a potential fit.\\\\n\\\\nBest regards,\\\\n\\\\n--\\\\nJane Moneypenny\\\\nFinancial Advisor\\\\nBankwell Financial\\\\nPhone: (555) 123-4567\\\\nEmail: jane.moneypenny1@outlook.com\\\\n',), ('Hi Jennifer,\\\\n\\\\nFollowing up on the information I sent regarding our Supply Chain Finance program. Has your team had a chance to consider if this might be a fit for AeroVironment?\\\\n\\\\nHappy to schedule a call to discuss the potential benefits, understand your supplier base better, and answer any questions about implementation.\\\\n\\\\nBest regards,\\\\n\\\\n--\\\\nJane Moneypenny\\\\nFinancial Advisor\\\\nBankwell Financial\\\\nPhone: (555) 123-4567\\\\nEmail: jane.moneypenny1@outlook.com\\\\n',), (\"Hi Jennifer,\\\\n\\\\nExcellent. Wednesday at 1 PM PT works for me. I'll send a calendar invitation. I look forward to discussing how SCF could benefit AeroVironment.\\\\n\\\\nBest regards,\\\\n\\\\n--\\\\nJane Moneypenny\\\\nFinancial Advisor\\\\nBankwell Financial\\\\nPhone: (555) 123-4567\\\\nEmail: jane.moneypenny1@outlook.com\\\\n\",), (\"Hi Jennifer,\\\\n\\\\nHope you had a productive discussion following our call on the Supply Chain Finance program last week.\\\\n\\\\nWhat are the potential next steps from AeroVironment's perspective? Typically this would involve identifying a pilot group of suppliers and analyzing the potential working capital benefits more formally.\\\\n\\\\nBest regards,\\\\n\\\\n--\\\\nJane Moneypenny\\\\nFinancial Advisor\\\\nBankwell Financial\\\\nPhone: (555) 123-4567\\\\nEmail: jane.moneypenny1@outlook.com\\\\n\",), ('Hi Jennifer,\\\\n\\\\nChecking in on the status of identifying the pilot supplier group for the potential Supply Chain Finance program we discussed.\\\\n\\\\nAny progress or estimated timeline on when AeroVironment might be ready to move to the next stage of analysis?\\\\n\\\\nBest regards,\\\\n\\\\n--\\\\nJane Moneypenny\\\\nFinancial Advisor\\\\nBankwell Financial\\\\nPhone: (555) 123-4567\\\\nEmail: jane.moneypenny1@outlook.com\\\\n',), (\"Hi Jennifer,\\\\n\\\\nThat's great progress. Yes, I'm available early next week. How about Tuesday at 11 AM PT?\\\\n\\\\nBest regards,\\\\n\\\\n--\\\\nJane Moneypenny\\\\nFinancial Advisor\\\\nBankwell Financial\\\\nPhone: (555) 123-4567\\\\nEmail: jane.moneypenny1@outlook.com\\\\n\",)], 'col_keys': ['email_body'], 'user_query': 'what did Jane discussed with Jennifer Phelps'})"
      ]
     },
     "execution_count": 19,
     "metadata": {},
     "output_type": "execute_result"
    }
   ],
   "source": [
    "result = await sql_workflow.run(query=query)\n",
    "result"
   ]
  },
  {
   "cell_type": "code",
   "execution_count": 20,
   "id": "d9f98b27-8c8c-4e6c-82f2-c901fe1825a1",
   "metadata": {},
   "outputs": [
    {
     "name": "stdout",
     "output_type": "stream",
     "text": [
      "Running step generate_sql_response\n",
      "Step generate_sql_response produced event StopEvent\n"
     ]
    },
    {
     "data": {
      "text/plain": [
       "Response(response='Jane met with Jennifer Phelps on several occasions to discuss matters related to AeroVironment.  Their meetings covered a range of topics including initial discussions on financial needs, the supply chain finance program, supplier onboarding, and updates on a pilot program for supply chain finance.  Specific meeting dates and times are available: July 24th, 2018; July 22nd, 2020; July 28th, 2021; August 1st, 2023; and February 6th, 2024.\\n', source_nodes=[NodeWithScore(node=TextNode(id_='b49c6569-0565-49c6-8f92-2abb515f3d75', embedding=None, metadata={'sql_query': \"SELECT meeting_timestamp, meeting_subject FROM meeting_data WHERE host ~* '\\\\yJane\\\\y' AND invitees ~* '\\\\yJennifer Phelps\\\\y'\", 'result': [('2018-07-24 14:00:00', 'AeroVironment - Initial Discussion on Financial Needs'), ('2020-07-22 16:00:00', 'AeroVironment - Discuss Supply Chain Finance Program'), ('2021-07-28 14:00:00', 'AeroVironment - Discuss SCF Supplier Onboarding'), ('2023-08-01 14:00:00', 'AeroVironment - Discuss SCF Supplier Onboarding Strategy'), ('2024-02-06 15:00:00', 'AeroVironment - SCF Pilot Program Status Update')], 'col_keys': ['meeting_timestamp', 'meeting_subject']}, excluded_embed_metadata_keys=['sql_query', 'result', 'col_keys'], excluded_llm_metadata_keys=['sql_query', 'result', 'col_keys'], relationships={}, metadata_template='{key}: {value}', metadata_separator='\\n', text=\"[('2018-07-24 14:00:00', 'AeroVironment - Initial Discussion on Financial Needs'), ('2020-07-22 16:00:00', 'AeroVironment - Discuss Supply Chain Finance Program'), ('2021-07-28 14:00:00', 'AeroVironment - Discuss SCF Supplier Onboarding'), ('2023-08-01 14:00:00', 'AeroVironment - Discuss SCF Supplier Onboarding Strategy'), ('2024-02-06 15:00:00', 'AeroVironment - SCF Pilot Program Status Update')]\", mimetype='text/plain', start_char_idx=None, end_char_idx=None, metadata_seperator='\\n', text_template='{metadata_str}\\n\\n{content}'), score=None)], metadata={'b49c6569-0565-49c6-8f92-2abb515f3d75': {'sql_query': \"SELECT meeting_timestamp, meeting_subject FROM meeting_data WHERE host ~* '\\\\yJane\\\\y' AND invitees ~* '\\\\yJennifer Phelps\\\\y'\", 'result': [('2018-07-24 14:00:00', 'AeroVironment - Initial Discussion on Financial Needs'), ('2020-07-22 16:00:00', 'AeroVironment - Discuss Supply Chain Finance Program'), ('2021-07-28 14:00:00', 'AeroVironment - Discuss SCF Supplier Onboarding'), ('2023-08-01 14:00:00', 'AeroVironment - Discuss SCF Supplier Onboarding Strategy'), ('2024-02-06 15:00:00', 'AeroVironment - SCF Pilot Program Status Update')], 'col_keys': ['meeting_timestamp', 'meeting_subject']}, 'sql_query': \"SELECT meeting_timestamp, meeting_subject FROM meeting_data WHERE host ~* '\\\\yJane\\\\y' AND invitees ~* '\\\\yJennifer Phelps\\\\y'\", 'result': [('2018-07-24 14:00:00', 'AeroVironment - Initial Discussion on Financial Needs'), ('2020-07-22 16:00:00', 'AeroVironment - Discuss Supply Chain Finance Program'), ('2021-07-28 14:00:00', 'AeroVironment - Discuss SCF Supplier Onboarding'), ('2023-08-01 14:00:00', 'AeroVironment - Discuss SCF Supplier Onboarding Strategy'), ('2024-02-06 15:00:00', 'AeroVironment - SCF Pilot Program Status Update')], 'col_keys': ['meeting_timestamp', 'meeting_subject'], 'user_query': 'when did Jane met with Jennifer Phelps and what did they discussed'})"
      ]
     },
     "execution_count": 20,
     "metadata": {},
     "output_type": "execute_result"
    }
   ],
   "source": [
    "query = \"when did Jane met with Jennifer Phelps and what did they discussed\"\n",
    "result = await sql_workflow.run(query=query)\n",
    "result"
   ]
  },
  {
   "cell_type": "code",
   "execution_count": null,
   "id": "33d12119-f763-40a1-9f85-0f5e9785a7e6",
   "metadata": {},
   "outputs": [],
   "source": []
  }
 ],
 "metadata": {
  "environment": {
   "kernel": "conda-env-xf_currensee-xf_currensee",
   "name": "workbench-notebooks.m129",
   "type": "gcloud",
   "uri": "us-docker.pkg.dev/deeplearning-platform-release/gcr.io/workbench-notebooks:m129"
  },
  "kernelspec": {
   "display_name": "xf_currensee",
   "language": "python",
   "name": "conda-env-xf_currensee-xf_currensee"
  },
  "language_info": {
   "codemirror_mode": {
    "name": "ipython",
    "version": 3
   },
   "file_extension": ".py",
   "mimetype": "text/x-python",
   "name": "python",
   "nbconvert_exporter": "python",
   "pygments_lexer": "ipython3",
   "version": "3.11.12"
  }
 },
 "nbformat": 4,
 "nbformat_minor": 5
}
