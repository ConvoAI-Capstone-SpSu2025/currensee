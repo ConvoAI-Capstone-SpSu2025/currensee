{
 "cells": [
  {
   "cell_type": "code",
   "execution_count": 3,
   "id": "94985f4d-27e1-4521-b7ad-c86cec81523c",
   "metadata": {},
   "outputs": [],
   "source": [
    "# Import the necessary function\n",
    "from currensee.agents.tools.finance_tools import retrieve_holdings_news\n"
   ]
  },
  {
   "cell_type": "code",
   "execution_count": null,
   "id": "1ee176df-5984-45fa-9c94-b1c08af7f6fe",
   "metadata": {},
   "outputs": [],
   "source": [
    "init_state = {\n",
    "        'client_name': 'Adam Clay',\n",
    "        'client_email': 'adam.clay@compass.com',\n",
    "        'meeting_timestamp': '2024-03-26 11:00:00',\n",
    "        'meeting_description': 'Compass - Annual Credit Facility Review Meeting'\n",
    "    }\n"
   ]
  },
  {
   "cell_type": "code",
   "execution_count": 6,
   "id": "3d551946-b235-40ad-89bd-d9bc56f4e8ce",
   "metadata": {},
   "outputs": [],
   "source": [
    "state = {\n",
    "    'client_holdings': ['Taiwan Semiconductor Manufacturing', 'CRH PLC', 'ASML Holding NV', 'Samsung Electronics Co Ltd', 'SAP SE'],\n",
    "    'meeting_timestamp': '2024-03-26 11:00:00',  # Add the expected key\n",
    "    'last_meeting_timestamp': '2024-03-01 11:00:00'  # Add the expected key\n",
    "}"
   ]
  },
  {
   "cell_type": "code",
   "execution_count": 10,
   "id": "46601776-57ca-4fbe-a357-3c3d37d6264b",
   "metadata": {},
   "outputs": [],
   "source": [
    "# Set environment variable for SERPER API key\n",
    "import os\n",
    "os.environ[\"SERPER_API_KEY\"] = \"4369e38ae59aff075549b44c923813da127c06ef\""
   ]
  },
  {
   "cell_type": "code",
   "execution_count": null,
   "id": "67406f31-9410-4808-b285-ce4a0615a2b2",
   "metadata": {},
   "outputs": [],
   "source": []
  },
  {
   "cell_type": "code",
   "execution_count": 11,
   "id": "8f428b3b-49f0-41ab-912b-0586d14538be",
   "metadata": {},
   "outputs": [
    {
     "name": "stdout",
     "output_type": "stream",
     "text": [
      "{'client_holdings': ['Taiwan Semiconductor Manufacturing', 'CRH PLC', 'ASML Holding NV', 'Samsung Electronics Co Ltd', 'SAP SE'], 'meeting_timestamp': '2024-03-26 11:00:00', 'last_meeting_timestamp': '2024-03-01 11:00:00', 'client_holdings_summary': [{'title': 'FTAEX Holdings | MarketWatch', 'link': 'https://www.marketwatch.com/investing/fund/ftaex/holdings?mod=mw_quote_tab', 'snippet': 'Top 25 Holdings ; Taiwan Semiconductor Manufacturing Co. Ltd. TSMWF, 3.09% ; Tencent Holdings Ltd. TCTZF, 2.82% ; SAP SE, SAPGF, 1.86% ; CRH PLC, CRH, 1.82%.', 'position': 1}, {'title': 'FTTEX | Fidelity Advisor Total International Equity Fund;M Overview', 'link': 'https://www.marketwatch.com/investing/stock/FTTEX', 'snippet': 'Top 10 Holdings ; Taiwan Semiconductor Manufacturing Co. Ltd. TSMWF, 3.38% ; Tencent Holdings Ltd. TCTZF, 2.55% ; CRH PLC, CRH, 1.93% ; Samsung Electronics Co. Ltd.', 'position': 2}, {'title': 'FTCEX | Fidelity Advisor Total International Equity Fund;C Overview ...', 'link': 'https://www.marketwatch.com/investing/fund/ftcex', 'snippet': 'Top 10 Holdings ; Taiwan Semiconductor Manufacturing Co. Ltd. TSMWF, 3.38% ; Tencent Holdings Ltd. TCTZF, 2.55% ; CRH PLC, CRH, 1.93% ; Samsung Electronics Co. Ltd.', 'position': 3}, {'title': 'Fidelity Total International Equity (FTIEX) - Yahoo Finance', 'link': 'https://finance.yahoo.com/quote/FTIEX/', 'snippet': 'Find the latest Fidelity Total International Equity (FTIEX) stock quote, history, news and other vital information to help you with your stock trading and ...', 'position': 4}, {'title': 'Fidelity Advisor Total Intl Equity M (FTTEX) - Yahoo Finance', 'link': 'https://finance.yahoo.com/quote/FTTEX/', 'snippet': 'Find the latest Fidelity Advisor Total Intl Equity M (FTTEX) stock quote, history, news and other vital information to help you with your stock trading and ...', 'position': 5}, {'title': 'Fidelity Advisor Total Intl Equity I (FTEIX) Stock Price, News, Quote ...', 'link': 'https://finance.yahoo.com/quote/FTEIX?ncid=yahooproperties_peoplealso_km0o32z3jzm', 'snippet': 'Taiwan Semiconductor Manufacturing Company Limited 3.50%. 0700.HK. TENCENT 2.79%. CRH. CRH plc 1.77%. SAP.DE. SAP SE 1.74%. 005930.KS. Samsung Electronics Co., ...', 'position': 6}, {'title': 'Fidelity Advisor Total International Equity Fund - FTAEX - MarketWatch', 'link': 'https://www.marketwatch.com/investing/fund/ftaex', 'snippet': 'Top 10 Holdings ; SAP SE, SAPGF, 1.96% ; Samsung Electronics Co. Ltd. SSNLF, 1.83% ; CRH PLC, CRH, 1.63% ; Linde PLC, LIN, 1.44%.', 'position': 7}]}\n"
     ]
    }
   ],
   "source": [
    "# Example state\n",
    "state = {\n",
    "    'client_holdings': ['Taiwan Semiconductor Manufacturing', 'CRH PLC', 'ASML Holding NV', 'Samsung Electronics Co Ltd', 'SAP SE'],\n",
    "    'meeting_timestamp': '2024-03-26 11:00:00',  # Add the expected key\n",
    "    'last_meeting_timestamp': '2024-03-01 11:00:00'  # Add the expected key\n",
    "}\n",
    "\n",
    "# Call the function directly to see what it returns\n",
    "holdings_news = retrieve_holdings_news(state)\n",
    "\n",
    "# Print the result to inspect\n",
    "print(holdings_news)"
   ]
  },
  {
   "cell_type": "code",
   "execution_count": null,
   "id": "64923996-0e92-4d7b-9f4f-6ef46c5dc66a",
   "metadata": {},
   "outputs": [],
   "source": []
  }
 ],
 "metadata": {
  "environment": {
   "kernel": "conda-env-so_currensee-so_currensee",
   "name": "workbench-notebooks.m129",
   "type": "gcloud",
   "uri": "us-docker.pkg.dev/deeplearning-platform-release/gcr.io/workbench-notebooks:m129"
  },
  "kernelspec": {
   "display_name": "so_currensee",
   "language": "python",
   "name": "conda-env-so_currensee-so_currensee"
  },
  "language_info": {
   "codemirror_mode": {
    "name": "ipython",
    "version": 3
   },
   "file_extension": ".py",
   "mimetype": "text/x-python",
   "name": "python",
   "nbconvert_exporter": "python",
   "pygments_lexer": "ipython3",
   "version": "3.11.12"
  }
 },
 "nbformat": 4,
 "nbformat_minor": 5
}
